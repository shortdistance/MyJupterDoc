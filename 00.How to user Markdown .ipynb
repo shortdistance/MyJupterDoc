{
 "cells": [
  {
   "cell_type": "markdown",
   "metadata": {
    "collapsed": true,
    "deletable": true,
    "editable": true
   },
   "source": [
    ">章节标题\n",
    "\n",
    "### 大标题\n",
    "**加粗**\n",
    "\n",
    "列1|列2\n",
    "---|---\n",
    "x|y\n",
    "z|o"
   ]
  },
  {
   "cell_type": "markdown",
   "metadata": {
    "deletable": true,
    "editable": true
   },
   "source": [
    ">公式\n",
    "\n",
    "$$ x = \\dfrac{-b \\pm \\sqrt{b^2 - 4ac}}{2a} $$"
   ]
  },
  {
   "cell_type": "markdown",
   "metadata": {
    "deletable": true,
    "editable": true
   },
   "source": [
    ">版权符号\n",
    "\n",
    "@copy"
   ]
  },
  {
   "cell_type": "markdown",
   "metadata": {
    "deletable": true,
    "editable": true
   },
   "source": [
    ">ATX形式排版h1~h6\n",
    "\n",
    "# 这是H1\n",
    "## 这是H2\n",
    "### 这是H3\n",
    "#### 这是H4\n",
    "##### 这是H5\n",
    "###### 这是H6"
   ]
  },
  {
   "cell_type": "markdown",
   "metadata": {
    "deletable": true,
    "editable": true
   },
   "source": [
    ">区块引用\n",
    "\n",
    "> This is a blockquote with two paragraphs. Lorem ipsum dolor sit amet,\n",
    "> consectetuer adipiscing elit. Aliquam hendrerit mi posuere lectus.\n",
    "> Vestibulum enim wisi, viverra nec, fringilla in, laoreet vitae, risus.\n",
    "> \n",
    "> Donec sit amet nisl. Aliquam semper ipsum sit amet velit. Suspendisse\n",
    "> id sem consectetuer libero luctus adipiscing.\n"
   ]
  },
  {
   "cell_type": "markdown",
   "metadata": {
    "deletable": true,
    "editable": true
   },
   "source": [
    ">区块引用嵌套\n",
    "\n",
    ">一级区块\n",
    ">>二级区块\n",
    ">>>三级区块\n",
    "\n",
    ">>二级区块\n",
    ">>>三级区块\n",
    "\n",
    ">一级区块\n",
    ">>二级区块\n",
    ">>>三级区块\n",
    "\n",
    ">>二级区块\n",
    ">>>三级区块"
   ]
  },
  {
   "cell_type": "markdown",
   "metadata": {
    "deletable": true,
    "editable": true
   },
   "source": [
    ">列表\n",
    ">>无序列表(*开头)\n",
    "*   Red\n",
    "*   Green\n",
    "*   Blue\n",
    "\n",
    ">>无序列表(+开头)\n",
    "+   Red\n",
    "+   Green\n",
    "+   Blue\n",
    "\n",
    ">>无序列表(-开头)\n",
    "-   Red\n",
    "-   Green\n",
    "-   Blue\n",
    "\n",
    ">>有序列表\n",
    "1. Red\n",
    "2. Green\n",
    "3. Blue\n"
   ]
  },
  {
   "cell_type": "markdown",
   "metadata": {
    "deletable": true,
    "editable": true
   },
   "source": [
    "*   A list item with a blockquote:\n",
    "\n",
    "    > This is a blockquote\n",
    "    > inside a list item."
   ]
  },
  {
   "cell_type": "markdown",
   "metadata": {
    "deletable": true,
    "editable": true
   },
   "source": [
    ">分割线\n",
    "\n",
    "* * *\n",
    "\n",
    "***\n",
    "\n",
    "*****\n",
    "\n",
    "- - -\n",
    "\n",
    "---------------------------------------"
   ]
  },
  {
   "cell_type": "markdown",
   "metadata": {
    "deletable": true,
    "editable": true
   },
   "source": [
    ">链接\n",
    ">> 绝对路径\n",
    "\n",
    "    >>> This is [an example](http://example.com/ \"Title\") inline link.\n",
    "\n",
    "    >>> [This link](http://example.net/) has no title attribute.\n",
    "\n",
    ">> 相对路径\n",
    "\n",
    "    >>> 比如连接到同样的主机资源\n",
    "    \n",
    "    >>> See my [About](/about/) page for details."
   ]
  },
  {
   "cell_type": "markdown",
   "metadata": {
    "deletable": true,
    "editable": true
   },
   "source": [
    "> 参考式链接\n",
    "\n",
    "This is [an example] [id] reference-style link.\n",
    "\n",
    "[id]: <http://example.com/> \"Optional Title Here\"\n",
    "\n",
    "\n",
    "I get 10 times more traffic from [Google] [1] than from\n",
    "[Yahoo] [2] or [MSN] [3].\n",
    "\n",
    "  [1]: http://google.com/        \"Google\"\n",
    "  [2]: http://search.yahoo.com/  \"Yahoo Search\"\n",
    "  [3]: http://search.msn.com/    \"MSN Search\"\n",
    "  \n",
    "I get 10 times more traffic from [Google][] than from\n",
    "[Yahoo][] or [MSN][].\n",
    "\n",
    "  [google]: http://google.com/        \"Google\"\n",
    "  [yahoo]:  http://search.yahoo.com/  \"Yahoo Search\"\n",
    "  [msn]:    http://search.msn.com/    \"MSN Search\""
   ]
  },
  {
   "cell_type": "markdown",
   "metadata": {
    "deletable": true,
    "editable": true
   },
   "source": [
    "> 强调\n",
    "\n",
    ">> 用 \\*需要强调的字符\\* \n",
    "\n",
    ">> *一级强调*\n",
    "\n",
    ">> **二级强调**\n",
    "\n",
    ">> ***三级强调***"
   ]
  },
  {
   "cell_type": "markdown",
   "metadata": {
    "deletable": true,
    "editable": true
   },
   "source": [
    ">代码表示\n",
    "\n",
    "Use the `printf()` function."
   ]
  },
  {
   "cell_type": "markdown",
   "metadata": {
    "deletable": true,
    "editable": true
   },
   "source": [
    ">图片\n",
    "\n",
    "![obama](http://media3.s-nbcnews.com/j/newscms/2017_01/1855786/obama_15_tw_a778da161810f0bece2cf8e9131b72ef.nbcnews-ux-2880-1000.png)\n",
    "\n",
    "![obama file 2][id]\n",
    "[id]: http://media3.s-nbcnews.com/j/newscms/2017_01/1855781/obama_14_tw_11431f769e655f15323821eee68680fe.nbcnews-ux-2880-1000.png \"Optional title\""
   ]
  },
  {
   "cell_type": "markdown",
   "metadata": {
    "deletable": true,
    "editable": true
   },
   "source": [
    ">自动链接\n",
    "\n",
    "<http://example.com/>"
   ]
  },
  {
   "cell_type": "code",
   "execution_count": null,
   "metadata": {
    "collapsed": true,
    "deletable": true,
    "editable": true
   },
   "outputs": [],
   "source": []
  }
 ],
 "metadata": {
  "kernelspec": {
   "display_name": "Python 2",
   "language": "python",
   "name": "python2"
  },
  "language_info": {
   "codemirror_mode": {
    "name": "ipython",
    "version": 2
   },
   "file_extension": ".py",
   "mimetype": "text/x-python",
   "name": "python",
   "nbconvert_exporter": "python",
   "pygments_lexer": "ipython2",
   "version": "2.7.10"
  }
 },
 "nbformat": 4,
 "nbformat_minor": 2
}
