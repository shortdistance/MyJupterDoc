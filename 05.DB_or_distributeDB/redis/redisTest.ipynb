{
 "cells": [
  {
   "cell_type": "code",
   "execution_count": 4,
   "metadata": {
    "collapsed": false,
    "deletable": true,
    "editable": true
   },
   "outputs": [
    {
     "data": {
      "text/plain": [
       "'bar'"
      ]
     },
     "execution_count": 4,
     "metadata": {},
     "output_type": "execute_result"
    }
   ],
   "source": [
    "import redis\n",
    "r = redis.StrictRedis(host='localhost', port=6379, db=0)\n",
    "r.set('foo', 'bar')\n",
    "r.get('foo')\n"
   ]
  },
  {
   "cell_type": "code",
   "execution_count": 5,
   "metadata": {
    "collapsed": false,
    "deletable": true,
    "editable": true
   },
   "outputs": [
    {
     "data": {
      "text/plain": [
       "' world'"
      ]
     },
     "execution_count": 5,
     "metadata": {},
     "output_type": "execute_result"
    }
   ],
   "source": [
    "r.get('hello')"
   ]
  },
  {
   "cell_type": "code",
   "execution_count": 6,
   "metadata": {
    "collapsed": false,
    "deletable": true,
    "editable": true
   },
   "outputs": [
    {
     "data": {
      "text/plain": [
       "True"
      ]
     },
     "execution_count": 6,
     "metadata": {},
     "output_type": "execute_result"
    }
   ],
   "source": [
    "r.set('hello', 'world')"
   ]
  },
  {
   "cell_type": "code",
   "execution_count": 7,
   "metadata": {
    "collapsed": false,
    "deletable": true,
    "editable": true
   },
   "outputs": [
    {
     "data": {
      "text/plain": [
       "'world'"
      ]
     },
     "execution_count": 7,
     "metadata": {},
     "output_type": "execute_result"
    }
   ],
   "source": [
    "r.get('hello')"
   ]
  },
  {
   "cell_type": "code",
   "execution_count": 8,
   "metadata": {
    "collapsed": false,
    "deletable": true,
    "editable": true
   },
   "outputs": [
    {
     "data": {
      "text/plain": [
       "['RESPONSE_CALLBACKS',\n",
       " '__class__',\n",
       " '__contains__',\n",
       " '__delattr__',\n",
       " '__delitem__',\n",
       " '__dict__',\n",
       " '__doc__',\n",
       " '__format__',\n",
       " '__getattribute__',\n",
       " '__getitem__',\n",
       " '__hash__',\n",
       " '__init__',\n",
       " '__module__',\n",
       " '__new__',\n",
       " '__reduce__',\n",
       " '__reduce_ex__',\n",
       " '__repr__',\n",
       " '__setattr__',\n",
       " '__setitem__',\n",
       " '__sizeof__',\n",
       " '__str__',\n",
       " '__subclasshook__',\n",
       " '__weakref__',\n",
       " '_use_lua_lock',\n",
       " '_zaggregate',\n",
       " 'append',\n",
       " 'bgrewriteaof',\n",
       " 'bgsave',\n",
       " 'bitcount',\n",
       " 'bitop',\n",
       " 'bitpos',\n",
       " 'blpop',\n",
       " 'brpop',\n",
       " 'brpoplpush',\n",
       " 'client_getname',\n",
       " 'client_kill',\n",
       " 'client_list',\n",
       " 'client_setname',\n",
       " 'config_get',\n",
       " 'config_resetstat',\n",
       " 'config_rewrite',\n",
       " 'config_set',\n",
       " 'connection_pool',\n",
       " 'dbsize',\n",
       " 'debug_object',\n",
       " 'decr',\n",
       " 'delete',\n",
       " 'dump',\n",
       " 'echo',\n",
       " 'eval',\n",
       " 'evalsha',\n",
       " 'execute_command',\n",
       " 'exists',\n",
       " 'expire',\n",
       " 'expireat',\n",
       " 'flushall',\n",
       " 'flushdb',\n",
       " 'from_url',\n",
       " 'get',\n",
       " 'getbit',\n",
       " 'getrange',\n",
       " 'getset',\n",
       " 'hdel',\n",
       " 'hexists',\n",
       " 'hget',\n",
       " 'hgetall',\n",
       " 'hincrby',\n",
       " 'hincrbyfloat',\n",
       " 'hkeys',\n",
       " 'hlen',\n",
       " 'hmget',\n",
       " 'hmset',\n",
       " 'hscan',\n",
       " 'hscan_iter',\n",
       " 'hset',\n",
       " 'hsetnx',\n",
       " 'hvals',\n",
       " 'incr',\n",
       " 'incrby',\n",
       " 'incrbyfloat',\n",
       " 'info',\n",
       " 'keys',\n",
       " 'lastsave',\n",
       " 'lindex',\n",
       " 'linsert',\n",
       " 'llen',\n",
       " 'lock',\n",
       " 'lpop',\n",
       " 'lpush',\n",
       " 'lpushx',\n",
       " 'lrange',\n",
       " 'lrem',\n",
       " 'lset',\n",
       " 'ltrim',\n",
       " 'mget',\n",
       " 'move',\n",
       " 'mset',\n",
       " 'msetnx',\n",
       " 'object',\n",
       " 'parse_response',\n",
       " 'persist',\n",
       " 'pexpire',\n",
       " 'pexpireat',\n",
       " 'pfadd',\n",
       " 'pfcount',\n",
       " 'pfmerge',\n",
       " 'ping',\n",
       " 'pipeline',\n",
       " 'psetex',\n",
       " 'pttl',\n",
       " 'publish',\n",
       " 'pubsub',\n",
       " 'randomkey',\n",
       " 'register_script',\n",
       " 'rename',\n",
       " 'renamenx',\n",
       " 'response_callbacks',\n",
       " 'restore',\n",
       " 'rpop',\n",
       " 'rpoplpush',\n",
       " 'rpush',\n",
       " 'rpushx',\n",
       " 'sadd',\n",
       " 'save',\n",
       " 'scan',\n",
       " 'scan_iter',\n",
       " 'scard',\n",
       " 'script_exists',\n",
       " 'script_flush',\n",
       " 'script_kill',\n",
       " 'script_load',\n",
       " 'sdiff',\n",
       " 'sdiffstore',\n",
       " 'sentinel',\n",
       " 'sentinel_get_master_addr_by_name',\n",
       " 'sentinel_master',\n",
       " 'sentinel_masters',\n",
       " 'sentinel_monitor',\n",
       " 'sentinel_remove',\n",
       " 'sentinel_sentinels',\n",
       " 'sentinel_set',\n",
       " 'sentinel_slaves',\n",
       " 'set',\n",
       " 'set_response_callback',\n",
       " 'setbit',\n",
       " 'setex',\n",
       " 'setnx',\n",
       " 'setrange',\n",
       " 'shutdown',\n",
       " 'sinter',\n",
       " 'sinterstore',\n",
       " 'sismember',\n",
       " 'slaveof',\n",
       " 'slowlog_get',\n",
       " 'slowlog_len',\n",
       " 'slowlog_reset',\n",
       " 'smembers',\n",
       " 'smove',\n",
       " 'sort',\n",
       " 'spop',\n",
       " 'srandmember',\n",
       " 'srem',\n",
       " 'sscan',\n",
       " 'sscan_iter',\n",
       " 'strlen',\n",
       " 'substr',\n",
       " 'sunion',\n",
       " 'sunionstore',\n",
       " 'time',\n",
       " 'transaction',\n",
       " 'ttl',\n",
       " 'type',\n",
       " 'unwatch',\n",
       " 'wait',\n",
       " 'watch',\n",
       " 'zadd',\n",
       " 'zcard',\n",
       " 'zcount',\n",
       " 'zincrby',\n",
       " 'zinterstore',\n",
       " 'zlexcount',\n",
       " 'zrange',\n",
       " 'zrangebylex',\n",
       " 'zrangebyscore',\n",
       " 'zrank',\n",
       " 'zrem',\n",
       " 'zremrangebylex',\n",
       " 'zremrangebyrank',\n",
       " 'zremrangebyscore',\n",
       " 'zrevrange',\n",
       " 'zrevrangebylex',\n",
       " 'zrevrangebyscore',\n",
       " 'zrevrank',\n",
       " 'zscan',\n",
       " 'zscan_iter',\n",
       " 'zscore',\n",
       " 'zunionstore']"
      ]
     },
     "execution_count": 8,
     "metadata": {},
     "output_type": "execute_result"
    }
   ],
   "source": [
    "dir(r)"
   ]
  },
  {
   "cell_type": "code",
   "execution_count": 9,
   "metadata": {
    "collapsed": false
   },
   "outputs": [
    {
     "data": {
      "text/plain": [
       "{'aof_current_rewrite_time_sec': -1,\n",
       " 'aof_enabled': 0,\n",
       " 'aof_last_bgrewrite_status': 'ok',\n",
       " 'aof_last_rewrite_time_sec': -1,\n",
       " 'aof_rewrite_in_progress': 0,\n",
       " 'aof_rewrite_scheduled': 0,\n",
       " 'arch_bits': 64,\n",
       " 'blocked_clients': 0,\n",
       " 'client_biggest_input_buf': 0,\n",
       " 'client_longest_output_list': 0,\n",
       " 'config_file': '/etc/redis/redis.conf',\n",
       " 'connected_clients': 1,\n",
       " 'connected_slaves': 0,\n",
       " 'db0': {'avg_ttl': 0, 'expires': 0, 'keys': 2},\n",
       " 'evicted_keys': 0,\n",
       " 'expired_keys': 0,\n",
       " 'gcc_version': '4.8.2',\n",
       " 'hz': 10,\n",
       " 'instantaneous_ops_per_sec': 0,\n",
       " 'keyspace_hits': 11,\n",
       " 'keyspace_misses': 2,\n",
       " 'latest_fork_usec': 6005,\n",
       " 'loading': 0,\n",
       " 'lru_clock': 2058024,\n",
       " 'master_repl_offset': 0,\n",
       " 'mem_allocator': 'jemalloc-3.4.1',\n",
       " 'mem_fragmentation_ratio': 4.37,\n",
       " 'multiplexing_api': 'epoll',\n",
       " 'os': 'Linux 3.4.0+ x86_64',\n",
       " 'process_id': 7829,\n",
       " 'pubsub_channels': 0,\n",
       " 'pubsub_patterns': 0,\n",
       " 'rdb_bgsave_in_progress': 0,\n",
       " 'rdb_changes_since_last_save': 1,\n",
       " 'rdb_current_bgsave_time_sec': -1,\n",
       " 'rdb_last_bgsave_status': 'ok',\n",
       " 'rdb_last_bgsave_time_sec': 0,\n",
       " 'rdb_last_save_time': 1488586627,\n",
       " 'redis_build_id': 'a44a05d76f06a5d9',\n",
       " 'redis_git_dirty': 0,\n",
       " 'redis_git_sha1': 0,\n",
       " 'redis_mode': 'standalone',\n",
       " 'redis_version': '2.8.4',\n",
       " 'rejected_connections': 0,\n",
       " 'repl_backlog_active': 0,\n",
       " 'repl_backlog_first_byte_offset': 0,\n",
       " 'repl_backlog_histlen': 0,\n",
       " 'repl_backlog_size': 1048576,\n",
       " 'role': 'master',\n",
       " 'run_id': 'dc0bec673849e12263915577469ff5076f12efb8',\n",
       " 'sync_full': 0,\n",
       " 'sync_partial_err': 0,\n",
       " 'sync_partial_ok': 0,\n",
       " 'tcp_port': 6379,\n",
       " 'total_commands_processed': 2250,\n",
       " 'total_connections_received': 6,\n",
       " 'uptime_in_days': 0,\n",
       " 'uptime_in_seconds': 37176,\n",
       " 'used_cpu_sys': 3.16,\n",
       " 'used_cpu_sys_children': 0.05,\n",
       " 'used_cpu_user': 0.44,\n",
       " 'used_cpu_user_children': 0.0,\n",
       " 'used_memory': 394960,\n",
       " 'used_memory_human': '385.70K',\n",
       " 'used_memory_lua': 33792,\n",
       " 'used_memory_peak': 435680,\n",
       " 'used_memory_peak_human': '425.47K',\n",
       " 'used_memory_rss': 1724416}"
      ]
     },
     "execution_count": 9,
     "metadata": {},
     "output_type": "execute_result"
    }
   ],
   "source": [
    "r.info()"
   ]
  },
  {
   "cell_type": "code",
   "execution_count": null,
   "metadata": {
    "collapsed": true
   },
   "outputs": [],
   "source": []
  }
 ],
 "metadata": {
  "kernelspec": {
   "display_name": "Python 2",
   "language": "python",
   "name": "python2"
  },
  "language_info": {
   "codemirror_mode": {
    "name": "ipython",
    "version": 2
   },
   "file_extension": ".py",
   "mimetype": "text/x-python",
   "name": "python",
   "nbconvert_exporter": "python",
   "pygments_lexer": "ipython2",
   "version": "2.7.10"
  }
 },
 "nbformat": 4,
 "nbformat_minor": 2
}
