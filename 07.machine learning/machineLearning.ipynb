{
 "cells": [
  {
   "cell_type": "markdown",
   "metadata": {
    "deletable": true,
    "editable": true
   },
   "source": [
    "I wrote this after installing and setting up everything. So if something does not work correctly, please let me know. \n",
    "I assume you are installing this on Windows, but if you use a different operating system not much should be different\n",
    "and I can help you out if things are very different.\n",
    "I assume that you have a GitHub account. If not, go to github.com and make one.\n",
    "1.  Download and install PyCharm https://www.jetbrains.com/pycharm/\n",
    "2.  Download and install Anaconda https://www.continuum.io/downloads\n",
    "3.  Open your command prompt as administrator\n",
    "4.  Run: conda install python=3.5\n",
    "5.  Run: conda install -c anaconda numpy=1.12.0\n",
    "6.  Run: conda install -c conda-forge tifffile=0.10.0\n",
    "7.  Run: conda install -c scitools shapely=1.5.13\n",
    "8.  Run: conda install -c menpo opencv=2.4.11\n",
    "8.  Fork the GitHub repository by clicking fork here: https://github.com/junjchen/jarvis/\n",
    "9.  Open PyCharm\n",
    "10. Register your github account in PyCharm https://www.jetbrains.com/help/pycharm/2016.3/registering-github-account-in-pycharm.html\n",
    "11. Clone your forked repository in PyCharm https://www.jetbrains.com/help/pycharm/2016.3/cloning-a-repository-from-github.html"
   ]
  },
  {
   "cell_type": "markdown",
   "metadata": {
    "collapsed": true,
    "deletable": true,
    "editable": true
   },
   "source": [
    "if 8 error then, Run: conda install --channel https://conda.anaconda.org/conda-forge opencv"
   ]
  },
  {
   "cell_type": "code",
   "execution_count": null,
   "metadata": {
    "collapsed": true,
    "deletable": true,
    "editable": true
   },
   "outputs": [],
   "source": []
  }
 ],
 "metadata": {
  "kernelspec": {
   "display_name": "Python 3",
   "language": "python",
   "name": "python3"
  },
  "language_info": {
   "codemirror_mode": {
    "name": "ipython",
    "version": 3
   },
   "file_extension": ".py",
   "mimetype": "text/x-python",
   "name": "python",
   "nbconvert_exporter": "python",
   "pygments_lexer": "ipython3",
   "version": "3.5.3"
  }
 },
 "nbformat": 4,
 "nbformat_minor": 2
}
