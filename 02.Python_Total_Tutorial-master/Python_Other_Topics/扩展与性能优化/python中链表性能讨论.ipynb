{
 "cells": [
  {
   "cell_type": "markdown",
   "metadata": {},
   "source": [
    "容器|使用环境\n",
    "---|---\n",
    "list|一般用用\n",
    "heapq|双端队列,当元素数量巨幅变动频繁的时候使用\n",
    "bisect|当元素较多且需要频繁查找时使用\n",
    "deque|堆,当需要排序时使用\n",
    "array|数组,当类型相同时可以使用,可以减少内存占用\n",
    "set|当需要去重的时候使用"
   ]
  }
 ],
 "metadata": {
  "kernelspec": {
   "display_name": "Python 2",
   "language": "python",
   "name": "python2"
  },
  "language_info": {
   "codemirror_mode": {
    "name": "ipython",
    "version": 2
   },
   "file_extension": ".py",
   "mimetype": "text/x-python",
   "name": "python",
   "nbconvert_exporter": "python",
   "pygments_lexer": "ipython2",
   "version": "2.7.11"
  }
 },
 "nbformat": 4,
 "nbformat_minor": 0
}
