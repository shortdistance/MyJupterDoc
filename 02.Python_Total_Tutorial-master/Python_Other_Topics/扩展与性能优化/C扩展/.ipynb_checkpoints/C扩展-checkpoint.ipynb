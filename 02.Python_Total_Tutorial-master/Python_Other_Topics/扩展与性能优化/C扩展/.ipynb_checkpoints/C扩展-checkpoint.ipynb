{
 "cells": [
  {
   "cell_type": "markdown",
   "metadata": {},
   "source": [
    "# C 扩展 \n",
    "\n",
    "Python是C写的,许多时候他被作为浇水语言,与C联合使用,在一般的时候,Python的性能已经足够了,但有时候性能不够我们就需要C来扩展了.\n",
    "\n",
    "我们来看看python写的原型:"
   ]
  },
  {
   "cell_type": "code",
   "execution_count": 1,
   "metadata": {
    "collapsed": true
   },
   "outputs": [],
   "source": [
    "def fac(n):\n",
    "    if n<2 :\n",
    "        return 1\n",
    "    return n*fac(n-1)"
   ]
  },
  {
   "cell_type": "code",
   "execution_count": 4,
   "metadata": {
    "collapsed": false
   },
   "outputs": [
    {
     "data": {
      "text/plain": [
       "120"
      ]
     },
     "execution_count": 4,
     "metadata": {},
     "output_type": "execute_result"
    }
   ],
   "source": [
    "fac(5)"
   ]
  },
  {
   "cell_type": "code",
   "execution_count": 5,
   "metadata": {
    "collapsed": false
   },
   "outputs": [
    {
     "name": "stdout",
     "output_type": "stream",
     "text": [
      "The slowest run took 112.97 times longer than the fastest. This could mean that an intermediate result is being cached.\n",
      "10000000 loops, best of 3: 186 ns per loop\n"
     ]
    }
   ],
   "source": [
    "%timeit fac(5)#pypy"
   ]
  },
  {
   "cell_type": "code",
   "execution_count": 2,
   "metadata": {
    "collapsed": false
   },
   "outputs": [
    {
     "name": "stdout",
     "output_type": "stream",
     "text": [
      "The slowest run took 5.97 times longer than the fastest. This could mean that an intermediate result is being cached \n",
      "1000000 loops, best of 3: 839 ns per loop\n"
     ]
    }
   ],
   "source": [
    "%timeit fac(5)#python2"
   ]
  },
  {
   "cell_type": "markdown",
   "metadata": {},
   "source": [
    "##  官方给的标准写扩展的c程序"
   ]
  },
  {
   "cell_type": "code",
   "execution_count": 5,
   "metadata": {
    "collapsed": false
   },
   "outputs": [
    {
     "name": "stdout",
     "output_type": "stream",
     "text": [
      "Overwriting test.c\n"
     ]
    }
   ],
   "source": [
    "%%writefile test.c\n",
    "#include <stdio.h>\n",
    "#include <stdlib.h>\n",
    "#include <string.h>\n",
    "\n",
    "#define BUFSIZE 10\n",
    "\n",
    "int fac(int n) {\n",
    "    if (n < 2)\n",
    "        return 1;\n",
    "    return n * fac(n - 1);\n",
    "}\n",
    "\n",
    "char *reverse(char *s) {\n",
    "    register char t;\n",
    "    char *p = s;\n",
    "    char *q = (s + (strlen(s) - 1));\n",
    "    while (p < q) {\n",
    "        t = *p;\n",
    "        *p++ = *q;\n",
    "        *q-- = t;\n",
    "    }\n",
    "    return s;\n",
    "}\n",
    "\n",
    "int main() {\n",
    "    char s[BUFSIZE];\n",
    "    printf(\"4! == %d\\n\", fac(4));\n",
    "    printf(\"8! == %d\\n\", fac(8));\n",
    "    printf(\"12! == %d\\n\", fac(12));\n",
    "    strcpy(s, \"abcdef\");\n",
    "    printf(\"reversing 'abcdef', we get '%s'\\n\", reverse(s));\n",
    "    strcpy(s, \"madam\");\n",
    "    printf(\"reversing 'madam', we get '%s'\\n\", reverse(s));\n",
    "    return 0;\n",
    "}"
   ]
  },
  {
   "cell_type": "code",
   "execution_count": 6,
   "metadata": {
    "collapsed": true
   },
   "outputs": [],
   "source": [
    "!gcc test.c -o test"
   ]
  },
  {
   "cell_type": "code",
   "execution_count": 7,
   "metadata": {
    "collapsed": false
   },
   "outputs": [
    {
     "name": "stdout",
     "output_type": "stream",
     "text": [
      "4! == 24\r\n",
      "8! == 40320\r\n",
      "12! == 479001600\r\n",
      "reversing 'abcdef', we get 'fedcba'\r\n",
      "reversing 'madam', we get 'madam'\r\n"
     ]
    }
   ],
   "source": [
    "!./test"
   ]
  },
  {
   "cell_type": "markdown",
   "metadata": {},
   "source": [
    "在python的include文件夹下的python2.X中找到python.h\n",
    "放到文件夹下,并在上面的c代码中加入\n",
    "\n",
    "    #include \"Python.h\""
   ]
  },
  {
   "cell_type": "code",
   "execution_count": 8,
   "metadata": {
    "collapsed": false
   },
   "outputs": [
    {
     "name": "stdout",
     "output_type": "stream",
     "text": [
      "Overwriting Extest.c\n"
     ]
    }
   ],
   "source": [
    "%%writefile Extest.c\n",
    "#include <stdio.h>\n",
    "#include <stdlib.h>\n",
    "#include <string.h>\n",
    "#include \"python2/Python.h\"\n",
    "#define BUFSIZE 10\n",
    "\n",
    "//原始函数\n",
    "int fac(int n) {\n",
    "    if (n < 2)\n",
    "        return 1;\n",
    "    return n * fac(n - 1);\n",
    "}\n",
    "\n",
    "char *reverse(char *s) {\n",
    "    register char t;\n",
    "    char *p = s;\n",
    "    char *q = (s + (strlen(s) - 1));\n",
    "    while (p < q) {\n",
    "        t = *p;\n",
    "        *p++ = *q;\n",
    "        *q-- = t;\n",
    "    }\n",
    "    return s;\n",
    "}\n",
    "\n",
    "//包装函数,为每个模块的每一个函数增加一个型如PyObject* Module_func()的包装函数\n",
    "\n",
    "static PyObject *\n",
    "Extest_fac(PyObject *self, PyObject *args) {\n",
    "    int res;\n",
    "    int num;\n",
    "    PyObject* retval;\n",
    "\n",
    "    res = PyArg_ParseTuple(args, \"i\", &num);\n",
    "    if (!res) {\n",
    "        return NULL;\n",
    "    }\n",
    "    res = fac(num);\n",
    "    retval = (PyObject *)Py_BuildValue(\"i\", res);\n",
    "    return retval;\n",
    "}\n",
    "\n",
    "static PyObject *\n",
    "Extest_reverse(PyObject *self, PyObject *args) {\n",
    "    char *orignal;\n",
    "    if (!(PyArg_ParseTuple(args, \"s\", &orignal))) {\n",
    "        return NULL;\n",
    "    }\n",
    "    return (PyObject *)Py_BuildValue(\"s\", reverse(orignal));\n",
    "}\n",
    "\n",
    "//可以返回原始字符串和翻转字符串\n",
    "static PyObject *\n",
    "Extest_doppel(PyObject *self, PyObject *args) {\n",
    "    char *orignal;\n",
    "    char *resv;\n",
    "    PyObject *retval;\n",
    "    if (!(PyArg_ParseTuple(args, \"s\", &orignal))) {\n",
    "        return NULL;\n",
    "    }\n",
    "    retval = (PyObject *)Py_BuildValue(\"ss\", orignal, resv=reverse(strdup(orignal)));\n",
    "    free(resv);\n",
    "    return retval;\n",
    "}\n",
    "\n",
    "//注册方法\n",
    "static PyMethodDef \n",
    "ExtestMethods[] = {\n",
    "    {\"fac\", Extest_fac, METH_VARARGS},\n",
    "    {\"doppel\", Extest_doppel, METH_VARARGS},\n",
    "    {\"reverse\", Extest_reverse, METH_VARARGS},\n",
    "    {NULL, NULL},\n",
    "};\n",
    "\n",
    "//初始化模块\n",
    "void initExtest() {\n",
    "    Py_InitModule(\"Extest\", ExtestMethods);\n",
    "}\n",
    "\n",
    "//测试函数\n",
    "\n",
    "int test() {\n",
    "    char s[BUFSIZE];\n",
    "    printf(\"4! == %d\\n\", fac(4));\n",
    "    printf(\"8! == %d\\n\", fac(8));\n",
    "    printf(\"12! == %d\\n\", fac(12));\n",
    "    strcpy(s, \"abcdef\");\n",
    "    printf(\"reversing 'abcdef', we get '%s'\\n\", reverse(s));\n",
    "    strcpy(s, \"madam\");\n",
    "    printf(\"reversing 'madam', we get '%s'\\n\", reverse(s));\n",
    "    return 0;\n",
    "}\n",
    "\n",
    "static PyObject *\n",
    "Extest_test(PyObject *self, PyObject *args) {\n",
    "    test();\n",
    "    //返回空的话，就使用下面这一句 \n",
    "    return (PyObject *)Py_BuildValue(\"\");\n",
    "}\n"
   ]
  },
  {
   "cell_type": "markdown",
   "metadata": {},
   "source": [
    "Python与c中对应类型转换参数表:\n",
    "\n",
    "format code| python type |c type\n",
    "--|--|--\n",
    "s|str|char\\*\n",
    "z|str/None|char\\*/NULL\n",
    "i|int|int\n",
    "l|long|long\n",
    "c|str|char\n",
    "d|float|double\n",
    "D|complex|Py_Complex\\*\n",
    "O|(any)|PyObject\\*\n",
    "S|str|PyStringObject"
   ]
  },
  {
   "cell_type": "markdown",
   "metadata": {},
   "source": [
    "Py_BuildValue的用法表:\n",
    "\n",
    "\n",
    "用法|结果\n",
    "---|---\n",
    "Py_BuildValue(\"\")                       | None\n",
    "Py_BuildValue(\"i\", 123)                  |123\n",
    "Py_BuildValue(\"iii\", 123, 456, 789)     | (123, 456, 789)\n",
    "Py_BuildValue(\"s\", \"hello\")             | 'hello'\n",
    "Py_BuildValue(\"y\", \"hello\")              |b'hello'\n",
    "Py_BuildValue(\"ss\", \"hello\", \"world\")   | ('hello', 'world')\n",
    "Py_BuildValue(\"s#\", \"hello\", 4)        |  'hell'\n",
    "Py_BuildValue(\"y#\", \"hello\", 4)         | b'hell'\n",
    "Py_BuildValue(\"()\")                     | ()\n",
    "Py_BuildValue(\"(i)\", 123)               | (123,)\n",
    "Py_BuildValue(\"(ii)\", 123, 456)          |(123, 456)\n",
    "Py_BuildValue(\"(i,i)\", 123, 456)         |(123, 456)\n",
    "Py_BuildValue(\"[i,i]\", 123, 456)         |[123, 456]\n",
    "Py_BuildValue(\"{s:i,s:i}\",\"abc\", 123, \"def\", 456)    |{'abc': 123, 'def': 456}\n",
    "Py_BuildValue(\"((ii)(ii)) (ii)\",1, 2, 3, 4, 5, 6)          |(((1, 2), (3, 4)), (5, 6))"
   ]
  },
  {
   "cell_type": "markdown",
   "metadata": {},
   "source": [
    ">编译与测试\n",
    ">>创建setup.py"
   ]
  },
  {
   "cell_type": "code",
   "execution_count": 9,
   "metadata": {
    "collapsed": false
   },
   "outputs": [
    {
     "name": "stdout",
     "output_type": "stream",
     "text": [
      "Overwriting setup.py\n"
     ]
    }
   ],
   "source": [
    "%%writefile setup.py\n",
    "#!/usr/bin/env python\n",
    "from distutils.core import setup, Extension\n",
    "MOD = 'Extest'\n",
    "setup(name=MOD, ext_modules=[Extension(MOD, sources=['Extest.c'])])"
   ]
  },
  {
   "cell_type": "markdown",
   "metadata": {},
   "source": [
    ">> 生成.so文件"
   ]
  },
  {
   "cell_type": "code",
   "execution_count": 10,
   "metadata": {
    "collapsed": false
   },
   "outputs": [
    {
     "name": "stdout",
     "output_type": "stream",
     "text": [
      "running build\n",
      "running build_ext\n",
      "building 'Extest' extension\n",
      "gcc -fno-strict-aliasing -I/Users/huangsizhe/Lib/conda/anaconda/include -arch x86_64 -DNDEBUG -g -fwrapv -O3 -Wall -Wstrict-prototypes -I/Users/huangsizhe/Lib/conda/anaconda/include/python2.7 -c Extest.c -o build/temp.macosx-10.5-x86_64-2.7/Extest.o\n",
      "\u001b[1mExtest.c:95:1: \u001b[0m\u001b[0;1;35mwarning: \u001b[0m\u001b[1munused function 'Extest_test' [-Wunused-function]\u001b[0m\n",
      "Extest_test(PyObject *self, PyObject *args) {\n",
      "\u001b[0;1;32m^\n",
      "\u001b[0m1 warning generated.\n",
      "gcc -bundle -undefined dynamic_lookup -L/Users/huangsizhe/Lib/conda/anaconda/lib -arch x86_64 -arch x86_64 build/temp.macosx-10.5-x86_64-2.7/Extest.o -L/Users/huangsizhe/Lib/conda/anaconda/lib -o build/lib.macosx-10.5-x86_64-2.7/Extest.so\n"
     ]
    }
   ],
   "source": [
    "!python setup.py build"
   ]
  },
  {
   "cell_type": "markdown",
   "metadata": {},
   "source": [
    "生成的文件在build文件夹下"
   ]
  },
  {
   "cell_type": "code",
   "execution_count": 11,
   "metadata": {
    "collapsed": false
   },
   "outputs": [
    {
     "name": "stdout",
     "output_type": "stream",
     "text": [
      "build\r\n",
      "build/lib.macosx-10.5-x86_64-2.7\r\n",
      "build/lib.macosx-10.5-x86_64-2.7/Extest.so\r\n",
      "build/temp.macosx-10.11-x86_64-2.7\r\n",
      "build/temp.macosx-10.5-x86_64-2.7\r\n",
      "build/temp.macosx-10.5-x86_64-2.7/Extest.o\r\n"
     ]
    }
   ],
   "source": [
    "!find build"
   ]
  },
  {
   "cell_type": "markdown",
   "metadata": {},
   "source": [
    ">> 安装模块到第三方库"
   ]
  },
  {
   "cell_type": "code",
   "execution_count": 12,
   "metadata": {
    "collapsed": false
   },
   "outputs": [
    {
     "name": "stdout",
     "output_type": "stream",
     "text": [
      "running install\n",
      "running build\n",
      "running build_ext\n",
      "running install_lib\n",
      "copying build/lib.macosx-10.5-x86_64-2.7/Extest.so -> /Users/huangsizhe/Lib/conda/anaconda/lib/python2.7/site-packages\n",
      "running install_egg_info\n",
      "Removing /Users/huangsizhe/Lib/conda/anaconda/lib/python2.7/site-packages/Extest-0.0.0-py2.7.egg-info\n",
      "Writing /Users/huangsizhe/Lib/conda/anaconda/lib/python2.7/site-packages/Extest-0.0.0-py2.7.egg-info\n"
     ]
    }
   ],
   "source": [
    "!python setup.py install"
   ]
  },
  {
   "cell_type": "markdown",
   "metadata": {},
   "source": [
    ">> 测试使用"
   ]
  },
  {
   "cell_type": "code",
   "execution_count": 13,
   "metadata": {
    "collapsed": false
   },
   "outputs": [],
   "source": [
    "import Extest"
   ]
  },
  {
   "cell_type": "code",
   "execution_count": 14,
   "metadata": {
    "collapsed": false
   },
   "outputs": [
    {
     "data": {
      "text/plain": [
       "('ahl', 'lha')"
      ]
     },
     "execution_count": 14,
     "metadata": {},
     "output_type": "execute_result"
    }
   ],
   "source": [
    "Extest.doppel(\"ahl\")"
   ]
  },
  {
   "cell_type": "code",
   "execution_count": 15,
   "metadata": {
    "collapsed": false
   },
   "outputs": [
    {
     "name": "stdout",
     "output_type": "stream",
     "text": [
      "The slowest run took 13.22 times longer than the fastest. This could mean that an intermediate result is being cached \n",
      "1000000 loops, best of 3: 216 ns per loop\n"
     ]
    }
   ],
   "source": [
    "%timeit Extest.fac(20)"
   ]
  },
  {
   "cell_type": "markdown",
   "metadata": {},
   "source": [
    "这个速度已经相当可观了,大约是pypy的3倍快"
   ]
  },
  {
   "cell_type": "markdown",
   "metadata": {},
   "source": [
    "## pypy的官方C扩展(CFFI)\n",
    "\n",
    "[CFFI](http://cffi.readthedocs.org/en/latest/)是pypy支持的一种c扩展写法,它当然也支持python2,python3,它的特点是c语言嵌入py文件,安装的时候直接编译,不用先预编译成.o文件\n",
    "\n",
    "cffi有两种模式:\n",
    "\n",
    "+ ABI The ABI mode accesses libraries at the binary level,\n",
    "\n",
    "二进制码方式,这种方式是不安全的,主要原因也是C的编译器太多太杂又很多不兼容导致的.因为你不知道你的编译器究竟会编译出啥样来:它又分为两种使用形式:\n",
    "\n",
    "        + in-line 即时编译使用\n",
    "        + out-line 离线编译后调用\n",
    "\n",
    "\n",
    "\n",
    "+ API mode accesses them with a C compiler \n",
    "\n",
    "通过api处理让c编译器编译,之后在形成python模块,这种模式只能离线使用"
   ]
  },
  {
   "cell_type": "markdown",
   "metadata": {},
   "source": [
    "> 在线ABI方式"
   ]
  },
  {
   "cell_type": "code",
   "execution_count": 43,
   "metadata": {
    "collapsed": true
   },
   "outputs": [],
   "source": [
    "from cffi import FFI"
   ]
  },
  {
   "cell_type": "code",
   "execution_count": 41,
   "metadata": {
    "collapsed": true
   },
   "outputs": [],
   "source": [
    "ffi = FFI()"
   ]
  },
  {
   "cell_type": "code",
   "execution_count": 42,
   "metadata": {
    "collapsed": false
   },
   "outputs": [
    {
     "name": "stderr",
     "output_type": "stream",
     "text": [
      "ERROR: An unexpected error occurred while tokenizing input\n",
      "The following traceback may be corrupted or invalid\n",
      "The error message is: ('EOF in multi-line string', (1, 0))\n",
      "\n"
     ]
    },
    {
     "ename": "CDefError",
     "evalue": "line 3: unrecognized construct",
     "output_type": "error",
     "traceback": [
      "\u001b[0;31m---------------------------------------------------------------------------\u001b[0m",
      "\u001b[0;31mCDefError\u001b[0m                                 Traceback (most recent call last)",
      "\u001b[0;32m<ipython-input-42-76711126c03d>\u001b[0m in \u001b[0;36m<module>\u001b[0;34m()\u001b[0m\n\u001b[1;32m      1\u001b[0m ffi.cdef(\"\"\"\n\u001b[1;32m      2\u001b[0m     \u001b[0mint\u001b[0m \u001b[0mprintf\u001b[0m\u001b[0;34m(\u001b[0m\u001b[0mconst\u001b[0m \u001b[0mchar\u001b[0m \u001b[0;34m*\u001b[0m\u001b[0mformat\u001b[0m\u001b[0;34m,\u001b[0m \u001b[0;34m.\u001b[0m\u001b[0;34m.\u001b[0m\u001b[0;34m.\u001b[0m\u001b[0;34m)\u001b[0m\u001b[0;34m{\u001b[0m\u001b[0;34m}\u001b[0m\u001b[0;34m;\u001b[0m   \u001b[0;34m//\u001b[0m \u001b[0mcopy\u001b[0m\u001b[0;34m-\u001b[0m\u001b[0mpasted\u001b[0m \u001b[0;32mfrom\u001b[0m \u001b[0mthe\u001b[0m \u001b[0mman\u001b[0m \u001b[0mpage\u001b[0m\u001b[0;34m\u001b[0m\u001b[0m\n\u001b[0;32m----> 3\u001b[0;31m \"\"\")\n\u001b[0m",
      "\u001b[0;32m/Users/huangsizhe/Lib/conda/anaconda/lib/python2.7/site-packages/cffi/api.pyc\u001b[0m in \u001b[0;36mcdef\u001b[0;34m(self, csource, override, packed)\u001b[0m\n\u001b[1;32m    105\u001b[0m             \u001b[0mcsource\u001b[0m \u001b[0;34m=\u001b[0m \u001b[0mcsource\u001b[0m\u001b[0;34m.\u001b[0m\u001b[0mencode\u001b[0m\u001b[0;34m(\u001b[0m\u001b[0;34m'ascii'\u001b[0m\u001b[0;34m)\u001b[0m\u001b[0;34m\u001b[0m\u001b[0m\n\u001b[1;32m    106\u001b[0m         \u001b[0;32mwith\u001b[0m \u001b[0mself\u001b[0m\u001b[0;34m.\u001b[0m\u001b[0m_lock\u001b[0m\u001b[0;34m:\u001b[0m\u001b[0;34m\u001b[0m\u001b[0m\n\u001b[0;32m--> 107\u001b[0;31m             \u001b[0mself\u001b[0m\u001b[0;34m.\u001b[0m\u001b[0m_parser\u001b[0m\u001b[0;34m.\u001b[0m\u001b[0mparse\u001b[0m\u001b[0;34m(\u001b[0m\u001b[0mcsource\u001b[0m\u001b[0;34m,\u001b[0m \u001b[0moverride\u001b[0m\u001b[0;34m=\u001b[0m\u001b[0moverride\u001b[0m\u001b[0;34m,\u001b[0m \u001b[0mpacked\u001b[0m\u001b[0;34m=\u001b[0m\u001b[0mpacked\u001b[0m\u001b[0;34m)\u001b[0m\u001b[0;34m\u001b[0m\u001b[0m\n\u001b[0m\u001b[1;32m    108\u001b[0m             \u001b[0mself\u001b[0m\u001b[0;34m.\u001b[0m\u001b[0m_cdefsources\u001b[0m\u001b[0;34m.\u001b[0m\u001b[0mappend\u001b[0m\u001b[0;34m(\u001b[0m\u001b[0mcsource\u001b[0m\u001b[0;34m)\u001b[0m\u001b[0;34m\u001b[0m\u001b[0m\n\u001b[1;32m    109\u001b[0m             \u001b[0;32mif\u001b[0m \u001b[0moverride\u001b[0m\u001b[0;34m:\u001b[0m\u001b[0;34m\u001b[0m\u001b[0m\n",
      "\u001b[0;32m/Users/huangsizhe/Lib/conda/anaconda/lib/python2.7/site-packages/cffi/cparser.pyc\u001b[0m in \u001b[0;36mparse\u001b[0;34m(self, csource, override, packed)\u001b[0m\n\u001b[1;32m    169\u001b[0m             \u001b[0mself\u001b[0m\u001b[0;34m.\u001b[0m\u001b[0m_override\u001b[0m \u001b[0;34m=\u001b[0m \u001b[0moverride\u001b[0m\u001b[0;34m\u001b[0m\u001b[0m\n\u001b[1;32m    170\u001b[0m             \u001b[0mself\u001b[0m\u001b[0;34m.\u001b[0m\u001b[0m_packed\u001b[0m \u001b[0;34m=\u001b[0m \u001b[0mpacked\u001b[0m\u001b[0;34m\u001b[0m\u001b[0m\n\u001b[0;32m--> 171\u001b[0;31m             \u001b[0mself\u001b[0m\u001b[0;34m.\u001b[0m\u001b[0m_internal_parse\u001b[0m\u001b[0;34m(\u001b[0m\u001b[0mcsource\u001b[0m\u001b[0;34m)\u001b[0m\u001b[0;34m\u001b[0m\u001b[0m\n\u001b[0m\u001b[1;32m    172\u001b[0m         \u001b[0;32mfinally\u001b[0m\u001b[0;34m:\u001b[0m\u001b[0;34m\u001b[0m\u001b[0m\n\u001b[1;32m    173\u001b[0m             \u001b[0mself\u001b[0m\u001b[0;34m.\u001b[0m\u001b[0m_override\u001b[0m \u001b[0;34m=\u001b[0m \u001b[0mprev_override\u001b[0m\u001b[0;34m\u001b[0m\u001b[0m\n",
      "\u001b[0;32m/Users/huangsizhe/Lib/conda/anaconda/lib/python2.7/site-packages/cffi/cparser.pyc\u001b[0m in \u001b[0;36m_internal_parse\u001b[0;34m(self, csource)\u001b[0m\n\u001b[1;32m    206\u001b[0m                     \u001b[0mself\u001b[0m\u001b[0;34m.\u001b[0m\u001b[0m_declare\u001b[0m\u001b[0;34m(\u001b[0m\u001b[0;34m'typedef '\u001b[0m \u001b[0;34m+\u001b[0m \u001b[0mdecl\u001b[0m\u001b[0;34m.\u001b[0m\u001b[0mname\u001b[0m\u001b[0;34m,\u001b[0m \u001b[0mrealtype\u001b[0m\u001b[0;34m)\u001b[0m\u001b[0;34m\u001b[0m\u001b[0m\n\u001b[1;32m    207\u001b[0m                 \u001b[0;32melse\u001b[0m\u001b[0;34m:\u001b[0m\u001b[0;34m\u001b[0m\u001b[0m\n\u001b[0;32m--> 208\u001b[0;31m                     \u001b[0;32mraise\u001b[0m \u001b[0mapi\u001b[0m\u001b[0;34m.\u001b[0m\u001b[0mCDefError\u001b[0m\u001b[0;34m(\u001b[0m\u001b[0;34m\"unrecognized construct\"\u001b[0m\u001b[0;34m,\u001b[0m \u001b[0mdecl\u001b[0m\u001b[0;34m)\u001b[0m\u001b[0;34m\u001b[0m\u001b[0m\n\u001b[0m\u001b[1;32m    209\u001b[0m         \u001b[0;32mexcept\u001b[0m \u001b[0mapi\u001b[0m\u001b[0;34m.\u001b[0m\u001b[0mFFIError\u001b[0m \u001b[0;32mas\u001b[0m \u001b[0me\u001b[0m\u001b[0;34m:\u001b[0m\u001b[0;34m\u001b[0m\u001b[0m\n\u001b[1;32m    210\u001b[0m             \u001b[0mmsg\u001b[0m \u001b[0;34m=\u001b[0m \u001b[0mself\u001b[0m\u001b[0;34m.\u001b[0m\u001b[0m_convert_pycparser_error\u001b[0m\u001b[0;34m(\u001b[0m\u001b[0me\u001b[0m\u001b[0;34m,\u001b[0m \u001b[0mcsource\u001b[0m\u001b[0;34m)\u001b[0m\u001b[0;34m\u001b[0m\u001b[0m\n",
      "\u001b[0;31mCDefError\u001b[0m: line 3: unrecognized construct"
     ]
    }
   ],
   "source": [
    "ffi.cdef(\"\"\"\n",
    "...     int printf(const char *format, ...);   // copy-pasted from the man page\n",
    "... \"\"\")"
   ]
  },
  {
   "cell_type": "code",
   "execution_count": null,
   "metadata": {
    "collapsed": true
   },
   "outputs": [],
   "source": []
  },
  {
   "cell_type": "code",
   "execution_count": 27,
   "metadata": {
    "collapsed": true
   },
   "outputs": [],
   "source": [
    "C = ffi.dlopen(None) # loads the entire C namespace"
   ]
  },
  {
   "cell_type": "code",
   "execution_count": 28,
   "metadata": {
    "collapsed": true
   },
   "outputs": [],
   "source": [
    "arg = ffi.new(\"char[]\", \"world\")"
   ]
  },
  {
   "cell_type": "code",
   "execution_count": 29,
   "metadata": {
    "collapsed": false
   },
   "outputs": [
    {
     "data": {
      "text/plain": [
       "17"
      ]
     },
     "execution_count": 29,
     "metadata": {},
     "output_type": "execute_result"
    }
   ],
   "source": [
    "C.printf(\"hi there, %s.\\n\", arg) "
   ]
  },
  {
   "cell_type": "code",
   "execution_count": null,
   "metadata": {
    "collapsed": true
   },
   "outputs": [],
   "source": []
  },
  {
   "cell_type": "markdown",
   "metadata": {},
   "source": [
    ">看个的例子"
   ]
  },
  {
   "cell_type": "code",
   "execution_count": 22,
   "metadata": {
    "collapsed": false
   },
   "outputs": [
    {
     "name": "stdout",
     "output_type": "stream",
     "text": [
      "Overwriting ffitest_build.py\n"
     ]
    }
   ],
   "source": [
    "%%writefile ffitest_build.py\n",
    "from cffi import FFI\n",
    "ffi = FFI()\n",
    "ffi.set_source(\"_ffitest\",None)\n",
    "ffi.cdef(\"\"\"\n",
    "int fac(int);\n",
    "static int fac(int n) {\n",
    "    if (n < 2)\n",
    "        return 1;\n",
    "    return n * fac(n - 1);\n",
    "}\n",
    "\"\"\")\n",
    "\n",
    "if __name__ == \"__main__\":\n",
    "    ffi.compile()\n"
   ]
  },
  {
   "cell_type": "code",
   "execution_count": 23,
   "metadata": {
    "collapsed": false
   },
   "outputs": [
    {
     "name": "stdout",
     "output_type": "stream",
     "text": [
      "Traceback (most recent call last):\r\n",
      "  File \"ffitest_build.py\", line 4, in <module>\r\n",
      "    ffi.cdef(\"\"\"\r\n",
      "  File \"/usr/local/Cellar/pypy/4.0.1/libexec/lib_pypy/cffi/api.py\", line 107, in cdef\r\n",
      "    self._parser.parse(csource, override=override, packed=packed)\r\n",
      "  File \"/usr/local/Cellar/pypy/4.0.1/libexec/lib_pypy/cffi/cparser.py\", line 243, in parse\r\n",
      "    self._internal_parse(csource)\r\n",
      "  File \"/usr/local/Cellar/pypy/4.0.1/libexec/lib_pypy/cffi/cparser.py\", line 282, in _internal_parse\r\n",
      "    raise api.CDefError(\"unrecognized construct\", decl)\r\n",
      "CDefError: line 4: unrecognized construct\r\n"
     ]
    }
   ],
   "source": [
    "!pypy ffitest_build.py"
   ]
  },
  {
   "cell_type": "code",
   "execution_count": 21,
   "metadata": {
    "collapsed": false
   },
   "outputs": [
    {
     "ename": "ImportError",
     "evalue": "dynamic module does not define init function (init_ffitest)",
     "output_type": "error",
     "traceback": [
      "\u001b[0;31m---------------------------------------------------------------------------\u001b[0m",
      "\u001b[0;31mImportError\u001b[0m                               Traceback (most recent call last)",
      "\u001b[0;32m<ipython-input-21-20c313f2dd7f>\u001b[0m in \u001b[0;36m<module>\u001b[0;34m()\u001b[0m\n\u001b[0;32m----> 1\u001b[0;31m \u001b[0;32mimport\u001b[0m \u001b[0m_ffitest\u001b[0m\u001b[0;34m\u001b[0m\u001b[0m\n\u001b[0m",
      "\u001b[0;31mImportError\u001b[0m: dynamic module does not define init function (init_ffitest)"
     ]
    }
   ],
   "source": [
    "import _ffitest"
   ]
  },
  {
   "cell_type": "code",
   "execution_count": 11,
   "metadata": {
    "collapsed": false
   },
   "outputs": [
    {
     "data": {
      "text/plain": [
       "<<type 'CompiledFFI'> at 0x107a6c220>"
      ]
     },
     "execution_count": 11,
     "metadata": {},
     "output_type": "execute_result"
    }
   ],
   "source": [
    "_ffitest.lib"
   ]
  },
  {
   "cell_type": "code",
   "execution_count": 13,
   "metadata": {
    "collapsed": false
   },
   "outputs": [],
   "source": [
    "result = _ffitest.lib.fac(20)"
   ]
  },
  {
   "cell_type": "code",
   "execution_count": 14,
   "metadata": {
    "collapsed": false
   },
   "outputs": [
    {
     "data": {
      "text/plain": [
       "-2102132736"
      ]
     },
     "execution_count": 14,
     "metadata": {},
     "output_type": "execute_result"
    }
   ],
   "source": [
    "result"
   ]
  },
  {
   "cell_type": "markdown",
   "metadata": {},
   "source": [
    "> "
   ]
  }
 ],
 "metadata": {
  "kernelspec": {
   "display_name": "Python 2",
   "language": "python",
   "name": "python2"
  },
  "language_info": {
   "codemirror_mode": {
    "name": "ipython",
    "version": 2
   },
   "file_extension": ".py",
   "mimetype": "text/x-python",
   "name": "python",
   "nbconvert_exporter": "python",
   "pygments_lexer": "ipython2",
   "version": "2.7.11"
  }
 },
 "nbformat": 4,
 "nbformat_minor": 0
}
