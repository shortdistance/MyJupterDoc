{
 "cells": [
  {
   "cell_type": "markdown",
   "metadata": {},
   "source": [
    "# pypy的官方C扩展(CFFI)\n",
    "\n",
    "[CFFI](http://cffi.readthedocs.org/en/latest/)是pypy支持的一种c扩展写法,它当然也支持python2,python3,它的特点是c语言嵌入py文件,安装的时候直接编译,不用先预编译成.o文件\n",
    "\n",
    "cffi有两种模式:\n",
    "\n",
    "+ ABI The ABI mode accesses libraries at the binary level,\n",
    "\n",
    "二进制码方式,这种方式是不安全的,主要原因也是C的编译器太多太杂又很多不兼容导致的.因为你不知道你的编译器究竟会编译出啥样来:它又分为两种使用形式:\n",
    "\n",
    "        + in-line 即时编译使用\n",
    "        + out-line 离线编译后调用\n",
    "\n",
    "\n",
    "\n",
    "+ API mode accesses them with a C compiler \n",
    "\n",
    "通过api处理让c编译器编译,之后在形成python模块"
   ]
  },
  {
   "cell_type": "markdown",
   "metadata": {},
   "source": [
    "> 在线的ABI模式"
   ]
  },
  {
   "cell_type": "code",
   "execution_count": 26,
   "metadata": {
    "collapsed": false
   },
   "outputs": [
    {
     "data": {
      "text/plain": [
       "17"
      ]
     },
     "execution_count": 26,
     "metadata": {},
     "output_type": "execute_result"
    }
   ],
   "source": [
    "from cffi import FFI\n",
    "ffi = FFI()\n",
    "#cdef用来定义结构体,变量,或者方法的声明\n",
    "ffi.cdef(\"\"\"\n",
    "    int printf(const char *format, ...);   // copy-pasted from the man page\n",
    "    \"\"\")\n",
    "#dlopen是ABI模式的的基本读取方式\n",
    "C = ffi.dlopen(None)                     # loads the entire C namespace\n",
    "arg = ffi.new(\"char[]\", \"world\")         # equivalent to C code: char arg[] = \"world\";\n",
    "C.printf(\"hi there, %s.\\n\", arg)   "
   ]
  },
  {
   "cell_type": "markdown",
   "metadata": {},
   "source": [
    "> 在线API方式"
   ]
  },
  {
   "cell_type": "code",
   "execution_count": 34,
   "metadata": {
    "collapsed": false
   },
   "outputs": [
    {
     "data": {
      "text/plain": [
       "3"
      ]
     },
     "execution_count": 34,
     "metadata": {},
     "output_type": "execute_result"
    }
   ],
   "source": [
    "from cffi import FFI\n",
    "ffi = FFI()\n",
    "ffi.cdef(\"\"\"\n",
    "    int AIadd(int a, int b);   // copy-pasted from the man page\n",
    "\"\"\")\n",
    "#verify是在线api模式的基本方法它里面直接写C代码即可\n",
    "lib = ffi.verify(\"\"\"\n",
    "    int AIadd(int a,int b){\n",
    "        return a+b;\n",
    "    }\n",
    "\"\"\")\n",
    "lib.AIadd(1,2)"
   ]
  },
  {
   "cell_type": "markdown",
   "metadata": {},
   "source": [
    "> 离线ABI方式"
   ]
  },
  {
   "cell_type": "code",
   "execution_count": 6,
   "metadata": {
    "collapsed": false
   },
   "outputs": [
    {
     "name": "stdout",
     "output_type": "stream",
     "text": [
      "Overwriting BO_example_build.py\n"
     ]
    }
   ],
   "source": [
    "%%writefile BO_example_build.py\n",
    "#coding:utf-8\n",
    "from cffi import FFI\n",
    "\n",
    "ffi = FFI()\n",
    "#set_source方法是离线方式的基本方法,它会生成一个第一位字符串为名字的.so文件用于python调用\n",
    "ffi.set_source(\"BO_example\", \"\"\"\n",
    "\n",
    "    int BOfac(int n) {\n",
    "        if (n < 2)\n",
    "            return 1;\n",
    "        return n * BOfac(n - 1);\n",
    "    }\n",
    "\n",
    "\"\"\",source_extension='.c')\n",
    "ffi.cdef(\"\"\"\n",
    "    int BOfac(int n);\n",
    "\"\"\")\n",
    "\n",
    "if __name__ == \"__main__\":\n",
    "    #compile是离线方式的专用方法,它的作用是让编译器编译出可调用的.so文件\n",
    "    ffi.compile()"
   ]
  },
  {
   "cell_type": "code",
   "execution_count": 7,
   "metadata": {
    "collapsed": false
   },
   "outputs": [],
   "source": [
    "!python BO_example_build.py"
   ]
  },
  {
   "cell_type": "code",
   "execution_count": 12,
   "metadata": {
    "collapsed": false
   },
   "outputs": [
    {
     "data": {
      "text/plain": [
       "3628800"
      ]
     },
     "execution_count": 12,
     "metadata": {},
     "output_type": "execute_result"
    }
   ],
   "source": [
    "from BO_example import ffi\n",
    "lib = ffi.dlopen(\"BO_example.so\")\n",
    "lib.BOfac(10)"
   ]
  },
  {
   "cell_type": "code",
   "execution_count": 11,
   "metadata": {
    "collapsed": false
   },
   "outputs": [
    {
     "name": "stdout",
     "output_type": "stream",
     "text": [
      "The slowest run took 28.71 times longer than the fastest. This could mean that an intermediate result is being cached \n",
      "1000000 loops, best of 3: 208 ns per loop\n"
     ]
    }
   ],
   "source": [
    "%timeit lib.BOfac(10)"
   ]
  },
  {
   "cell_type": "markdown",
   "metadata": {},
   "source": [
    "> 离线API模式\n",
    "\n",
    "离线API模式和ABI模式不同之处只在于API模式不再使用dlopen方法"
   ]
  },
  {
   "cell_type": "code",
   "execution_count": 13,
   "metadata": {
    "collapsed": true
   },
   "outputs": [],
   "source": [
    "from BO_example import lib as libp"
   ]
  },
  {
   "cell_type": "code",
   "execution_count": 15,
   "metadata": {
    "collapsed": false,
    "scrolled": true
   },
   "outputs": [
    {
     "data": {
      "text/plain": [
       "3628800"
      ]
     },
     "execution_count": 15,
     "metadata": {},
     "output_type": "execute_result"
    }
   ],
   "source": [
    "libp.BOfac(10)"
   ]
  },
  {
   "cell_type": "code",
   "execution_count": 16,
   "metadata": {
    "collapsed": false
   },
   "outputs": [
    {
     "name": "stdout",
     "output_type": "stream",
     "text": [
      "The slowest run took 31.80 times longer than the fastest. This could mean that an intermediate result is being cached \n",
      "1000000 loops, best of 3: 195 ns per loop\n"
     ]
    }
   ],
   "source": [
    "%timeit libp.BOfac(10)"
   ]
  },
  {
   "cell_type": "markdown",
   "metadata": {
    "collapsed": true
   },
   "source": [
    "看起来API模式基本和ABI模式效率差不多"
   ]
  },
  {
   "cell_type": "markdown",
   "metadata": {},
   "source": [
    "我们看看pypy下的表现"
   ]
  },
  {
   "cell_type": "code",
   "execution_count": 3,
   "metadata": {
    "collapsed": true
   },
   "outputs": [],
   "source": [
    "!pypy BO_example_build.py"
   ]
  },
  {
   "cell_type": "code",
   "execution_count": 4,
   "metadata": {
    "collapsed": true
   },
   "outputs": [],
   "source": [
    "from BO_example import lib as libp"
   ]
  },
  {
   "cell_type": "code",
   "execution_count": 5,
   "metadata": {
    "collapsed": false
   },
   "outputs": [
    {
     "data": {
      "text/plain": [
       "3628800"
      ]
     },
     "execution_count": 5,
     "metadata": {},
     "output_type": "execute_result"
    }
   ],
   "source": [
    "libp.BOfac(10)"
   ]
  },
  {
   "cell_type": "code",
   "execution_count": 6,
   "metadata": {
    "collapsed": false
   },
   "outputs": [
    {
     "name": "stdout",
     "output_type": "stream",
     "text": [
      "The slowest run took 172.96 times longer than the fastest. This could mean that an intermediate result is being cached.\n",
      "10000000 loops, best of 3: 61.9 ns per loop\n"
     ]
    }
   ],
   "source": [
    "%timeit libp.BOfac(10)"
   ]
  },
  {
   "cell_type": "markdown",
   "metadata": {},
   "source": [
    "爆炸啦!比c下快了3倍有余!"
   ]
  },
  {
   "cell_type": "markdown",
   "metadata": {},
   "source": [
    "## 写setup"
   ]
  },
  {
   "cell_type": "code",
   "execution_count": 2,
   "metadata": {
    "collapsed": false
   },
   "outputs": [
    {
     "name": "stdout",
     "output_type": "stream",
     "text": [
      "Overwriting setup.py\n"
     ]
    }
   ],
   "source": [
    "%%writefile setup.py\n",
    "from setuptools import setup\n",
    "\n",
    "setup(\n",
    "    name = \"cffi_exa\",\n",
    "    setup_requires=[\"cffi>=1.0.0\"],\n",
    "    cffi_modules=[\"BO_example_build.py:ffi\"],\n",
    "    install_requires=[\"cffi>=1.0.0\"],\n",
    ")"
   ]
  },
  {
   "cell_type": "code",
   "execution_count": 3,
   "metadata": {
    "collapsed": false
   },
   "outputs": [
    {
     "name": "stdout",
     "output_type": "stream",
     "text": [
      "running install\n",
      "Checking .pth file support in /usr/local/Cellar/pypy/4.0.1/libexec/site-packages/\n",
      "/usr/local/bin/pypy -E -c pass\n",
      "TEST PASSED: /usr/local/Cellar/pypy/4.0.1/libexec/site-packages/ appears to support .pth files\n",
      "running bdist_egg\n",
      "running egg_info\n",
      "creating cffi_exa.egg-info\n",
      "writing cffi_exa.egg-info/PKG-INFO\n",
      "writing dependency_links to cffi_exa.egg-info/dependency_links.txt\n",
      "writing requirements to cffi_exa.egg-info/requires.txt\n",
      "writing top-level names to cffi_exa.egg-info/top_level.txt\n",
      "writing manifest file 'cffi_exa.egg-info/SOURCES.txt'\n",
      "reading manifest file 'cffi_exa.egg-info/SOURCES.txt'\n",
      "writing manifest file 'cffi_exa.egg-info/SOURCES.txt'\n",
      "installing library code to build/bdist.macosx-10.11-x86_64/egg\n",
      "running install_lib\n",
      "running build_ext\n",
      "generating cffi module 'build/temp.macosx-10.11-x86_64-2.7/BO_example.c'\n",
      "creating build\n",
      "creating build/temp.macosx-10.11-x86_64-2.7\n",
      "building 'BO_example' extension\n",
      "creating build/temp.macosx-10.11-x86_64-2.7/build\n",
      "creating build/temp.macosx-10.11-x86_64-2.7/build/temp.macosx-10.11-x86_64-2.7\n",
      "cc -arch x86_64 -O2 -fPIC -Wimplicit -I/usr/local/Cellar/pypy/4.0.1/libexec/include -c build/temp.macosx-10.11-x86_64-2.7/BO_example.c -o build/temp.macosx-10.11-x86_64-2.7/build/temp.macosx-10.11-x86_64-2.7/BO_example.o\n",
      "creating build/lib.macosx-10.11-x86_64-2.7\n",
      "cc -shared -undefined dynamic_lookup -arch x86_64 build/temp.macosx-10.11-x86_64-2.7/build/temp.macosx-10.11-x86_64-2.7/BO_example.o -o build/lib.macosx-10.11-x86_64-2.7/BO_example.pypy-26.so\n",
      "creating build/bdist.macosx-10.11-x86_64\n",
      "creating build/bdist.macosx-10.11-x86_64/egg\n",
      "copying build/lib.macosx-10.11-x86_64-2.7/BO_example.pypy-26.so -> build/bdist.macosx-10.11-x86_64/egg\n",
      "creating stub loader for BO_example.pypy-26.so\n",
      "byte-compiling build/bdist.macosx-10.11-x86_64/egg/BO_example.py to BO_example.pyc\n",
      "creating build/bdist.macosx-10.11-x86_64/egg/EGG-INFO\n",
      "copying cffi_exa.egg-info/PKG-INFO -> build/bdist.macosx-10.11-x86_64/egg/EGG-INFO\n",
      "copying cffi_exa.egg-info/SOURCES.txt -> build/bdist.macosx-10.11-x86_64/egg/EGG-INFO\n",
      "copying cffi_exa.egg-info/dependency_links.txt -> build/bdist.macosx-10.11-x86_64/egg/EGG-INFO\n",
      "copying cffi_exa.egg-info/requires.txt -> build/bdist.macosx-10.11-x86_64/egg/EGG-INFO\n",
      "copying cffi_exa.egg-info/top_level.txt -> build/bdist.macosx-10.11-x86_64/egg/EGG-INFO\n",
      "writing build/bdist.macosx-10.11-x86_64/egg/EGG-INFO/native_libs.txt\n",
      "zip_safe flag not set; analyzing archive contents...\n",
      "creating dist\n",
      "creating 'dist/cffi_exa-0.0.0-py2.7-macosx-10.11-x86_64.egg' and adding 'build/bdist.macosx-10.11-x86_64/egg' to it\n",
      "removing 'build/bdist.macosx-10.11-x86_64/egg' (and everything under it)\n",
      "Processing cffi_exa-0.0.0-py2.7-macosx-10.11-x86_64.egg\n",
      "Copying cffi_exa-0.0.0-py2.7-macosx-10.11-x86_64.egg to /usr/local/Cellar/pypy/4.0.1/libexec/site-packages\n",
      "Adding cffi-exa 0.0.0 to easy-install.pth file\n",
      "\n",
      "Installed /usr/local/Cellar/pypy/4.0.1/libexec/site-packages/cffi_exa-0.0.0-py2.7-macosx-10.11-x86_64.egg\n",
      "Processing dependencies for cffi-exa==0.0.0\n",
      "Searching for cffi==1.3.1\n",
      "Best match: cffi 1.3.1\n",
      "cffi 1.3.1 is already the active version in easy-install.pth\n",
      "\n",
      "Using /usr/local/Cellar/pypy/4.0.1/libexec/lib_pypy\n",
      "Finished processing dependencies for cffi-exa==0.0.0\n"
     ]
    }
   ],
   "source": [
    "!pypy setup.py install"
   ]
  },
  {
   "cell_type": "code",
   "execution_count": 5,
   "metadata": {
    "collapsed": false
   },
   "outputs": [],
   "source": [
    "from BO_example import lib as libp"
   ]
  },
  {
   "cell_type": "code",
   "execution_count": 6,
   "metadata": {
    "collapsed": false
   },
   "outputs": [
    {
     "data": {
      "text/plain": [
       "3628800"
      ]
     },
     "execution_count": 6,
     "metadata": {},
     "output_type": "execute_result"
    }
   ],
   "source": [
    "libp.BOfac(10)"
   ]
  },
  {
   "cell_type": "code",
   "execution_count": null,
   "metadata": {
    "collapsed": true
   },
   "outputs": [],
   "source": []
  }
 ],
 "metadata": {
  "kernelspec": {
   "display_name": "Pypy",
   "language": "python",
   "name": "pypy"
  },
  "language_info": {
   "codemirror_mode": {
    "name": "ipython",
    "version": 2
   },
   "file_extension": ".py",
   "mimetype": "text/x-python",
   "name": "python",
   "nbconvert_exporter": "python",
   "pygments_lexer": "ipython2",
   "version": "2.7.10"
  }
 },
 "nbformat": 4,
 "nbformat_minor": 0
}
