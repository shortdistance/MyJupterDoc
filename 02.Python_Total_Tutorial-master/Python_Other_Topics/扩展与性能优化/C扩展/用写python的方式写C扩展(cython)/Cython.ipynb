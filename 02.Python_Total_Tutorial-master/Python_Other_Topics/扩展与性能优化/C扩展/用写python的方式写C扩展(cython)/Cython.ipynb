{
 "cells": [
  {
   "cell_type": "markdown",
   "metadata": {},
   "source": [
    "[cython](http://docs.cython.org/src/tutorial/cython_tutorial.html#fibonacci-fun)的语法是python语言语法和c语言语法的混血,如果你有写python扩展模块的需求，那么Cython真的是一个很好的工具"
   ]
  },
  {
   "cell_type": "markdown",
   "metadata": {},
   "source": [
    "> 例: helloworld"
   ]
  },
  {
   "cell_type": "code",
   "execution_count": 16,
   "metadata": {
    "collapsed": false
   },
   "outputs": [
    {
     "name": "stdout",
     "output_type": "stream",
     "text": [
      "Writing /Users/huangsizhe/workspace/Pythonspace/cython/fac.pyx\n"
     ]
    }
   ],
   "source": [
    "%%writefile /Users/huangsizhe/workspace/Pythonspace/cython/fac.pyx\n",
    "\n",
    "def fac(n):\n",
    "    if n<2 :\n",
    "        return 1\n",
    "    return n*fac(n-1)"
   ]
  },
  {
   "cell_type": "code",
   "execution_count": 17,
   "metadata": {
    "collapsed": false
   },
   "outputs": [
    {
     "name": "stdout",
     "output_type": "stream",
     "text": [
      "Overwriting /Users/huangsizhe/workspace/Pythonspace/cython/setup.py\n"
     ]
    }
   ],
   "source": [
    "%%writefile /Users/huangsizhe/workspace/Pythonspace/cython/setup.py\n",
    "#coding:utf-8\n",
    "from distutils.core import setup\n",
    "from distutils.extension import Extension\n",
    "from Cython.Build import cythonize\n",
    " \n",
    "setup(\n",
    "  name = 'fac',\n",
    "  ext_modules=cythonize(\"fac.pyx\")\n",
    ")"
   ]
  },
  {
   "cell_type": "markdown",
   "metadata": {},
   "source": [
    "注意目录和文件名都不能有中文"
   ]
  },
  {
   "cell_type": "markdown",
   "metadata": {},
   "source": [
    "    python setup.py build_ext --inplace"
   ]
  },
  {
   "cell_type": "markdown",
   "metadata": {},
   "source": [
    "可以看到编译出来.so文件"
   ]
  },
  {
   "cell_type": "code",
   "execution_count": 15,
   "metadata": {
    "collapsed": false
   },
   "outputs": [
    {
     "name": "stdout",
     "output_type": "stream",
     "text": [
      "1 1 2 3 5 8\n"
     ]
    }
   ],
   "source": [
    "from fib import fib\n",
    "fib(10)"
   ]
  },
  {
   "cell_type": "code",
   "execution_count": 18,
   "metadata": {
    "collapsed": true
   },
   "outputs": [],
   "source": [
    "from fac import fac"
   ]
  },
  {
   "cell_type": "code",
   "execution_count": 19,
   "metadata": {
    "collapsed": false
   },
   "outputs": [
    {
     "data": {
      "text/plain": [
       "3628800"
      ]
     },
     "execution_count": 19,
     "metadata": {},
     "output_type": "execute_result"
    }
   ],
   "source": [
    "fac(10)"
   ]
  },
  {
   "cell_type": "code",
   "execution_count": 21,
   "metadata": {
    "collapsed": false
   },
   "outputs": [
    {
     "name": "stdout",
     "output_type": "stream",
     "text": [
      "The slowest run took 7.80 times longer than the fastest. This could mean that an intermediate result is being cached \n",
      "1000000 loops, best of 3: 764 ns per loop\n"
     ]
    }
   ],
   "source": [
    "%timeit fac(10)"
   ]
  },
  {
   "cell_type": "markdown",
   "metadata": {},
   "source": [
    "用pypy编译后看看能有多快"
   ]
  },
  {
   "cell_type": "code",
   "execution_count": 1,
   "metadata": {
    "collapsed": true
   },
   "outputs": [],
   "source": [
    "from fac import fac"
   ]
  },
  {
   "cell_type": "code",
   "execution_count": 3,
   "metadata": {
    "collapsed": false
   },
   "outputs": [
    {
     "name": "stdout",
     "output_type": "stream",
     "text": [
      "10000 loops, best of 3: 53.9 µs per loop\n"
     ]
    }
   ],
   "source": [
    "%timeit fac(10)"
   ]
  },
  {
   "cell_type": "markdown",
   "metadata": {},
   "source": [
    "所以看得出来,这个库不是给pypy使得..."
   ]
  }
 ],
 "metadata": {
  "kernelspec": {
   "display_name": "Pypy",
   "language": "python",
   "name": "pypy"
  },
  "language_info": {
   "codemirror_mode": {
    "name": "ipython",
    "version": 2
   },
   "file_extension": ".py",
   "mimetype": "text/x-python",
   "name": "python",
   "nbconvert_exporter": "python",
   "pygments_lexer": "ipython2",
   "version": "2.7.10"
  }
 },
 "nbformat": 4,
 "nbformat_minor": 0
}
