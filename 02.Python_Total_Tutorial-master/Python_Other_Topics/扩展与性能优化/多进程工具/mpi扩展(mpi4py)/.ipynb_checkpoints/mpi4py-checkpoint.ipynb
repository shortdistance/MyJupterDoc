{
 "cells": [
  {
   "cell_type": "markdown",
   "metadata": {},
   "source": [
    "mpi是c,c++,以及fortran下的并行框架,而[mpi4py](http://mpi4py.readthedocs.org/en/stable/)是它的python接口,pypy也可以使用呦\n",
    "\n",
    "安装它先要安装openmpi,然后安装numpy和cython"
   ]
  },
  {
   "cell_type": "markdown",
   "metadata": {},
   "source": [
    "> 例 "
   ]
  },
  {
   "cell_type": "code",
   "execution_count": 11,
   "metadata": {
    "collapsed": false
   },
   "outputs": [
    {
     "name": "stdout",
     "output_type": "stream",
     "text": [
      "Overwriting hl.py\n"
     ]
    }
   ],
   "source": [
    "%%writefile hl.py\n",
    "from mpi4py import MPI\n",
    "comm = MPI.COMM_WORLD\n",
    "rank = comm.Get_rank()\n",
    "print(\"hello world\")\n",
    "print(\"my rank is:\",rank)"
   ]
  },
  {
   "cell_type": "markdown",
   "metadata": {},
   "source": [
    "    mpirun –np 3 python h1.py"
   ]
  }
 ],
 "metadata": {
  "kernelspec": {
   "display_name": "Pypy",
   "language": "python",
   "name": "pypy"
  }
 },
 "nbformat": 4,
 "nbformat_minor": 0
}
