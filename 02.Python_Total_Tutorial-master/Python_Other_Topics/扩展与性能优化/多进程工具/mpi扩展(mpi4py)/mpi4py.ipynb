{
 "cells": [
  {
   "cell_type": "markdown",
   "metadata": {
    "deletable": true,
    "editable": true
   },
   "source": [
    "mpi(Message Passing Interface的简称)，也就是消息传递,是c,c++,以及fortran下的并行框架,而[mpi4py](http://mpi4py.readthedocs.org/en/stable/)是它的python接口,pypy也可以使用呦\n",
    "\n",
    "安装它先要安装openmpi,然后安装numpy和cython\n",
    "\n",
    "## MPI的工作方式:\n",
    "\n",
    "MPI就是启动一组MPI进程，每个进程都是执行同样的代码,然后每个进程都有一个ID，也就是rank来标记自己。假设一个CPU是你请的一个工人，共有10个工人。你有100块砖头要搬，然后很公平，让每个工人搬10块。这时候，你把任务写到一个任务卡里面，让10个工人都执行这个任务卡中的任务，也就是搬砖！这个任务卡中的“搬砖”就是你写的代码。然后10个CPU执行同一段代码。需要注意的是，代码里面的所有变量都是每个进程独有的，虽然名字相同。简单的理解就是工作室魔兽多开刷金..."
   ]
  },
  {
   "cell_type": "markdown",
   "metadata": {
    "deletable": true,
    "editable": true
   },
   "source": [
    "> 例: helloworld"
   ]
  },
  {
   "cell_type": "markdown",
   "metadata": {
    "collapsed": false,
    "deletable": true,
    "editable": true
   },
   "source": [
    "h1.py\n",
    "\n",
    "```python\n",
    "from mpi4py import MPI\n",
    "comm = MPI.COMM_WORLD\n",
    "rank = comm.Get_rank()\n",
    "print(\"hello world\")\n",
    "print(\"my rank is:\",rank)\n",
    "```"
   ]
  },
  {
   "cell_type": "markdown",
   "metadata": {
    "deletable": true,
    "editable": true
   },
   "source": [
    "    mpirun –np 3 python h1.py"
   ]
  },
  {
   "cell_type": "code",
   "execution_count": null,
   "metadata": {
    "collapsed": true,
    "deletable": true,
    "editable": true
   },
   "outputs": [],
   "source": []
  }
 ],
 "metadata": {
  "kernelspec": {
   "display_name": "Python 2",
   "language": "python",
   "name": "python2"
  },
  "language_info": {
   "codemirror_mode": {
    "name": "ipython",
    "version": 2
   },
   "file_extension": ".py",
   "mimetype": "text/x-python",
   "name": "python",
   "nbconvert_exporter": "python",
   "pygments_lexer": "ipython2",
   "version": "2.7.10"
  }
 },
 "nbformat": 4,
 "nbformat_minor": 0
}
