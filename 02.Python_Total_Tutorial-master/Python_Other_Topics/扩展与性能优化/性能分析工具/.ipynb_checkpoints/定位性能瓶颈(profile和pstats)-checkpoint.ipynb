{
 "cells": [
  {
   "cell_type": "markdown",
   "metadata": {},
   "source": [
    "python的标准库中有一个可以实现性能瓶颈定位的模块叫profile(2.7中是cProfile)\n",
    "我们看看他是咋用的"
   ]
  },
  {
   "cell_type": "code",
   "execution_count": 6,
   "metadata": {
    "collapsed": false
   },
   "outputs": [
    {
     "name": "stdout",
     "output_type": "stream",
     "text": [
      "Overwriting profile_test.py\n"
     ]
    }
   ],
   "source": [
    "%%writefile profile_test.py\n",
    "def foo():\n",
    "    sum = 0\n",
    "    for i in range(10000):\n",
    "        sum += i\n",
    "    return sum\n",
    "if __name__==\"__main__\":\n",
    "    foo()\n"
   ]
  },
  {
   "cell_type": "markdown",
   "metadata": {},
   "source": [
    "要用profile只要这样:"
   ]
  },
  {
   "cell_type": "code",
   "execution_count": 7,
   "metadata": {
    "collapsed": false
   },
   "outputs": [
    {
     "name": "stdout",
     "output_type": "stream",
     "text": [
      "Overwriting profile_test.py\n"
     ]
    }
   ],
   "source": [
    "%%writefile profile_test.py\n",
    "def foo():\n",
    "    sum = 0\n",
    "    for i in range(10000):\n",
    "        sum += i\n",
    "    return sum\n",
    "if __name__==\"__main__\":\n",
    "    try :\n",
    "        import profile\n",
    "    except:\n",
    "        import cProfile as profile\n",
    "        \n",
    "    profile.run(\"foo()\")"
   ]
  },
  {
   "cell_type": "code",
   "execution_count": 8,
   "metadata": {
    "collapsed": false
   },
   "outputs": [
    {
     "name": "stdout",
     "output_type": "stream",
     "text": [
      "         5 function calls in 0.001 seconds\r\n",
      "\r\n",
      "   Ordered by: standard name\r\n",
      "\r\n",
      "   ncalls  tottime  percall  cumtime  percall filename:lineno(function)\r\n",
      "        1    0.000    0.000    0.000    0.000 :0(range)\r\n",
      "        1    0.000    0.000    0.000    0.000 :0(setprofile)\r\n",
      "        1    0.000    0.000    0.001    0.001 <string>:1(<module>)\r\n",
      "        1    0.000    0.000    0.001    0.001 profile:0(foo())\r\n",
      "        0    0.000             0.000          profile:0(profiler)\r\n",
      "        1    0.001    0.001    0.001    0.001 profile_test.py:1(foo)\r\n",
      "\r\n",
      "\r\n"
     ]
    }
   ],
   "source": [
    "!python profile_test.py"
   ]
  },
  {
   "cell_type": "markdown",
   "metadata": {},
   "source": [
    "也可以用profile命令来解析"
   ]
  },
  {
   "cell_type": "code",
   "execution_count": 29,
   "metadata": {
    "collapsed": false
   },
   "outputs": [
    {
     "name": "stdout",
     "output_type": "stream",
     "text": [
      "Overwriting profile_test.py\n"
     ]
    }
   ],
   "source": [
    "%%writefile profile_test.py\n",
    "#coding:utf-8\n",
    "def foo():\n",
    "    sum = 0\n",
    "    for i in range(10000):\n",
    "        sum += i\n",
    "    return sum\n",
    "if __name__==\"__main__\":\n",
    "    foo()\n",
    "\n"
   ]
  },
  {
   "cell_type": "code",
   "execution_count": 30,
   "metadata": {
    "collapsed": false
   },
   "outputs": [
    {
     "name": "stdout",
     "output_type": "stream",
     "text": [
      "         4 function calls in 0.001 seconds\r\n",
      "\r\n",
      "   Ordered by: standard name\r\n",
      "\r\n",
      "   ncalls  tottime  percall  cumtime  percall filename:lineno(function)\r\n",
      "        1    0.000    0.000    0.001    0.001 profile_test.py:2(<module>)\r\n",
      "        1    0.001    0.001    0.001    0.001 profile_test.py:2(foo)\r\n",
      "        1    0.000    0.000    0.000    0.000 {method 'disable' of '_lsprof.Profiler' objects}\r\n",
      "        1    0.000    0.000    0.000    0.000 {range}\r\n",
      "\r\n",
      "\r\n"
     ]
    }
   ],
   "source": [
    "!python -m cProfile profile_test.py"
   ]
  },
  {
   "cell_type": "markdown",
   "metadata": {},
   "source": [
    "> 统计项说明\n",
    "\n",
    "统计项|说明\n",
    "---|---\n",
    "ncalls| 函数被调用次数\n",
    "tottime|函数总计运行时间,不含调用函数运行时间\n",
    "cumtime|函数总计运行时间,含调用的函数运行时间\n",
    "percall|函数运行一次平均时间,等于tottime(cumtime)/ncalls\n",
    "`filename:lineno`|函数所在文件名,函数的行号,函数名"
   ]
  },
  {
   "cell_type": "markdown",
   "metadata": {},
   "source": [
    "如果要把结果输出到文件,则这样用"
   ]
  },
  {
   "cell_type": "code",
   "execution_count": 33,
   "metadata": {
    "collapsed": false
   },
   "outputs": [
    {
     "name": "stdout",
     "output_type": "stream",
     "text": [
      "Overwriting profile_test.py\n"
     ]
    }
   ],
   "source": [
    "%%writefile profile_test.py\n",
    "def foo():\n",
    "    sum = 0\n",
    "    for i in range(10000):\n",
    "        sum += i\n",
    "    return sum\n",
    "if __name__==\"__main__\":\n",
    "    try :\n",
    "        import profile\n",
    "    except:\n",
    "        import cProfile as profile\n",
    "        \n",
    "    profile.run(\"foo()\",\"foo.txt\")"
   ]
  },
  {
   "cell_type": "code",
   "execution_count": 34,
   "metadata": {
    "collapsed": true
   },
   "outputs": [],
   "source": [
    "!python profile_test.py"
   ]
  },
  {
   "cell_type": "code",
   "execution_count": 35,
   "metadata": {
    "collapsed": false
   },
   "outputs": [
    {
     "name": "stdout",
     "output_type": "stream",
     "text": [
      "{(\u0003\u0000\u0000\u0000s\u000f\u0000\u0000\u0000profile_test.pyi\u0001\u0000\u0000\u0000t\u0003\u0000\u0000\u0000foo(\u0005\u0000\u0000\u0000i\u0001\u0000\u0000\u0000i\u0001\u0000\u0000\u0000g��ꭁ�B?g����J?{(\u0003\u0000\u0000\u0000s\b\u0000\u0000\u0000<string>i\u0001\u0000\u0000\u0000t\b\u0000\u0000\u0000<module>i\u0001\u0000\u0000\u00000(\u0003\u0000\u0000\u0000t\u0000\u0000\u0000\u0000i\u0000\u0000\u0000\u0000s\r\n",
      "\u0000\u0000\u0000setprofile(\u0005\u0000\u0000\u0000i\u0001\u0000\u0000\u0000i\u0001\u0000\u0000\u0000g\u0000$D��\u0016\"?g\u0000$D��\u0016\"?{(\u0003\u0000\u0000\u0000t\u0007\u0000\u0000\u0000profilei\u0000\u0000\u0000\u0000s\u0005\u0000\u0000\u0000foo()i\u0001\u0000\u0000\u00000(\u0003\u0000\u0000\u0000R\u0003\u0000\u0000\u0000i\u0000\u0000\u0000\u0000s\u0005\u0000\u0000\u0000foo()(\u0005\u0000\u0000\u0000i\u0001\u0000\u0000\u0000i\u0001\u0000\u0000\u0000g\u0000L�\u001ag�\u0011?g\u0000�>V��P?{(\u0003\u0000\u0000\u0000R\u0003\u0000\u0000\u0000i\u0000\u0000\u0000\u0000t\b\u0000\u0000\u0000profileri\u0001\u0000\u0000\u00000(\u0003\u0000\u0000\u0000s\b\u0000\u0000\u0000<string>i\u0001\u0000\u0000\u0000R\u0001\u0000\u0000\u0000(\u0005\u0000\u0000\u0000i\u0001\u0000\u0000\u0000i\u0001\u0000\u0000\u0000g\u0000�㈵��>g�o�\r\n",
      "��J?{(\u0003\u0000\u0000\u0000R\u0003\u0000\u0000\u0000i\u0000\u0000\u0000\u0000s\u0005\u0000\u0000\u0000foo()i\u0001\u0000\u0000\u00000(\u0003\u0000\u0000\u0000R\u0003\u0000\u0000\u0000i\u0000\u0000\u0000\u0000R\u0004\u0000\u0000\u0000(\u0005\u0000\u0000\u0000i\u0000\u0000\u0000\u0000i\u0000\u0000\u0000\u0000i\u0000\u0000\u0000\u0000i\u0000\u0000\u0000\u0000{0(\u0003\u0000\u0000\u0000R\u0002\u0000\u0000\u0000i\u0000\u0000\u0000\u0000s\u0005\u0000\u0000\u0000range(\u0005\u0000\u0000\u0000i\u0001\u0000\u0000\u0000i\u0001\u0000\u0000\u0000g\u0000>��@0?g\u0000>��@0?{(\u0003\u0000\u0000\u0000s\u000f\u0000\u0000\u0000profile_test.pyi\u0001\u0000\u0000\u0000R\u0000\u0000\u0000\u0000i\u0001\u0000\u0000\u000000"
     ]
    }
   ],
   "source": [
    "!cat foo.txt"
   ]
  },
  {
   "cell_type": "markdown",
   "metadata": {},
   "source": [
    "遗憾的是貌似不管咋样都有乱码"
   ]
  },
  {
   "cell_type": "markdown",
   "metadata": {},
   "source": [
    "## 与pstats结合提供多种形式的报表"
   ]
  },
  {
   "cell_type": "code",
   "execution_count": 38,
   "metadata": {
    "collapsed": false
   },
   "outputs": [
    {
     "name": "stdout",
     "output_type": "stream",
     "text": [
      "Overwriting profile_test.py\n"
     ]
    }
   ],
   "source": [
    "%%writefile profile_test.py\n",
    "def foo():\n",
    "    sum = 0\n",
    "    for i in range(10000):\n",
    "        sum += i\n",
    "    return sum\n",
    "if __name__==\"__main__\":\n",
    "    try :\n",
    "        import profile\n",
    "    except:\n",
    "        import cProfile as profile\n",
    "        \n",
    "    profile.run(\"foo()\",\"foo.txt\")\n",
    "    import pstats\n",
    "    p = pstats.Stats(\"foo.txt\")\n",
    "    p.sort_stats(\"time\").print_stats()"
   ]
  },
  {
   "cell_type": "markdown",
   "metadata": {},
   "source": [
    "这样他就按时间排序了"
   ]
  },
  {
   "cell_type": "code",
   "execution_count": 39,
   "metadata": {
    "collapsed": false
   },
   "outputs": [
    {
     "name": "stdout",
     "output_type": "stream",
     "text": [
      "Sun Feb 28 14:30:55 2016    foo.txt\r\n",
      "\r\n",
      "         5 function calls in 0.001 seconds\r\n",
      "\r\n",
      "   Ordered by: internal time\r\n",
      "\r\n",
      "   ncalls  tottime  percall  cumtime  percall filename:lineno(function)\r\n",
      "        1    0.001    0.001    0.001    0.001 profile_test.py:1(foo)\r\n",
      "        1    0.000    0.000    0.000    0.000 :0(range)\r\n",
      "        1    0.000    0.000    0.001    0.001 profile:0(foo())\r\n",
      "        1    0.000    0.000    0.000    0.000 :0(setprofile)\r\n",
      "        1    0.000    0.000    0.001    0.001 <string>:1(<module>)\r\n",
      "        0    0.000             0.000          profile:0(profiler)\r\n",
      "\r\n",
      "\r\n"
     ]
    }
   ],
   "source": [
    "!python profile_test.py"
   ]
  },
  {
   "cell_type": "markdown",
   "metadata": {},
   "source": [
    "stats有许多函数,可以提供不同的报表"
   ]
  },
  {
   "cell_type": "markdown",
   "metadata": {},
   "source": [
    "> stats函数说明\n",
    "\n",
    "函数|说明\n",
    "---|---\n",
    "strip_dirs()|除去文件名前名的路径信息\n",
    "add(filename,[...])|把profile输出的文件加入stats实例中统计\n",
    "dump_stats(filename)|把stats统计结果保存到文件\n",
    "sort_stats(key,[...])|最重要的,可以给profile统计结果排序\n",
    "reverse_order()|数据反排序\n",
    "print_stats([restriction,...])|把报表输出到stdout\n",
    "print_callers([restriction,...])|输出调用指定函数的相关信息\n",
    "print_callees([restriction,...])|输出指定函数调用过的函数的相关信息"
   ]
  },
  {
   "cell_type": "markdown",
   "metadata": {},
   "source": [
    "> sort_stats可接受的参数\n",
    "\n",
    "参数|说明\n",
    "---|---\n",
    "ncalls|被调次数\n",
    "cumulative|函数运行总时间\n",
    "file|文件名\n",
    "module|模块名\n",
    "pcalls|简单统计\n",
    "line|行号\n",
    "name|函数名\n",
    "nfl|name,file,line\n",
    "stdname|标准函数名\n",
    "time|函数内部运行时间"
   ]
  }
 ],
 "metadata": {
  "kernelspec": {
   "display_name": "Python 2",
   "language": "python",
   "name": "python2"
  },
  "language_info": {
   "codemirror_mode": {
    "name": "ipython",
    "version": 2
   },
   "file_extension": ".py",
   "mimetype": "text/x-python",
   "name": "python",
   "nbconvert_exporter": "python",
   "pygments_lexer": "ipython2",
   "version": "2.7.11"
  }
 },
 "nbformat": 4,
 "nbformat_minor": 0
}
