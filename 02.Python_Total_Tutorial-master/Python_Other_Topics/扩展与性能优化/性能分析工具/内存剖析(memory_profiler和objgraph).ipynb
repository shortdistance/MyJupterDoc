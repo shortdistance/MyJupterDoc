{
 "cells": [
  {
   "cell_type": "markdown",
   "metadata": {},
   "source": [
    "## 内存分析\n",
    "\n",
    "[memory_profiler](https://pypi.python.org/pypi/memory_profiler/)是用来分析内存使用情况和追踪内存泄露的工具.它需要pip安装\n",
    "\n",
    "\n",
    "它的使用及其简单:"
   ]
  },
  {
   "cell_type": "code",
   "execution_count": 3,
   "metadata": {
    "collapsed": false
   },
   "outputs": [
    {
     "name": "stdout",
     "output_type": "stream",
     "text": [
      "Overwriting memory_test.py\n"
     ]
    }
   ],
   "source": [
    "%%writefile memory_test.py\n",
    "from memory_profiler import profile\n",
    "@profile\n",
    "def foo():\n",
    "    sum = 0\n",
    "    for i in range(10000):\n",
    "        sum += i\n",
    "    return sum\n",
    "if __name__==\"__main__\":\n",
    "    try :\n",
    "        import profile as cProfile\n",
    "    except:\n",
    "        import cProfile \n",
    "        \n",
    "    cProfile.run(\"foo()\",\"foo.txt\")\n",
    "    import pstats\n",
    "    p = pstats.Stats(\"foo.txt\")\n",
    "    p.sort_stats(\"time\").print_stats()"
   ]
  },
  {
   "cell_type": "code",
   "execution_count": 4,
   "metadata": {
    "collapsed": false
   },
   "outputs": [
    {
     "name": "stdout",
     "output_type": "stream",
     "text": [
      "Filename: memory_test.py\r\n",
      "\r\n",
      "Line #    Mem usage    Increment   Line Contents\r\n",
      "================================================\r\n",
      "     2     21.1 MiB      0.0 MiB   @profile\r\n",
      "     3                             def foo():\r\n",
      "     4     21.1 MiB      0.0 MiB       sum = 0\r\n",
      "     5     21.3 MiB      0.2 MiB       for i in range(10000):\r\n",
      "     6     21.3 MiB      0.0 MiB           sum += i\r\n",
      "     7     21.3 MiB      0.0 MiB       return sum\r\n",
      "\r\n",
      "\r\n",
      "Sun Feb 28 15:43:39 2016    foo.txt\r\n",
      "\r\n",
      "         45866 function calls (45816 primitive calls) in 0.701 seconds\r\n",
      "\r\n",
      "   Ordered by: internal time\r\n",
      "\r\n",
      "   ncalls  tottime  percall  cumtime  percall filename:lineno(function)\r\n",
      "        1    0.444    0.444    0.445    0.445 memory_test.py:2(foo)\r\n",
      "      308    0.028    0.000    0.136    0.000 /Users/huangsizhe/Lib/conda/anaconda/lib/python2.7/posixpath.py:380(_joinrealpath)\r\n",
      "      617    0.028    0.000    0.051    0.000 /Users/huangsizhe/Lib/conda/anaconda/lib/python2.7/posixpath.py:329(normpath)\r\n",
      "     2984    0.023    0.000    0.037    0.000 /Users/huangsizhe/Lib/conda/anaconda/lib/python2.7/posixpath.py:61(join)\r\n",
      "     2982    0.021    0.000    0.061    0.000 /Users/huangsizhe/Lib/conda/anaconda/lib/python2.7/posixpath.py:132(islink)\r\n",
      "     2982    0.021    0.000    0.021    0.000 :0(lstat)\r\n",
      "     6139    0.015    0.000    0.015    0.000 :0(append)\r\n",
      "     2953    0.013    0.000    0.019    0.000 /Users/huangsizhe/Lib/conda/anaconda/lib/python2.7/stat.py:55(S_ISLNK)\r\n",
      "     5144    0.013    0.000    0.013    0.000 :0(startswith)\r\n",
      "      309    0.009    0.000    0.032    0.000 /Users/huangsizhe/Lib/conda/anaconda/lib/python2.7/inspect.py:440(getsourcefile)\r\n",
      "     2982    0.008    0.000    0.008    0.000 :0(partition)\r\n",
      "     2986    0.007    0.000    0.007    0.000 :0(endswith)\r\n",
      "     2953    0.006    0.000    0.006    0.000 /Users/huangsizhe/Lib/conda/anaconda/lib/python2.7/stat.py:24(S_IFMT)\r\n",
      "      9/1    0.006    0.001    0.248    0.248 /Users/huangsizhe/Lib/conda/anaconda/lib/python2.7/inspect.py:472(getmodule)\r\n",
      "      274    0.006    0.000    0.006    0.000 :0(stat)\r\n",
      "      617    0.005    0.000    0.061    0.000 /Users/huangsizhe/Lib/conda/anaconda/lib/python2.7/posixpath.py:358(abspath)\r\n",
      "     1162    0.005    0.000    0.007    0.000 /Users/huangsizhe/Lib/conda/anaconda/lib/python2.7/string.py:222(lower)\r\n",
      "     1686    0.005    0.000    0.005    0.000 :0(isinstance)\r\n",
      "      983    0.004    0.000    0.006    0.000 /Users/huangsizhe/Lib/conda/anaconda/lib/python2.7/inspect.py:51(ismodule)\r\n",
      "      925    0.004    0.000    0.006    0.000 /Users/huangsizhe/Lib/conda/anaconda/lib/python2.7/posixpath.py:52(isabs)\r\n",
      "      309    0.003    0.000    0.067    0.000 /Users/huangsizhe/Lib/conda/anaconda/lib/python2.7/inspect.py:460(getabsfile)\r\n",
      "      308    0.003    0.000    0.169    0.001 /Users/huangsizhe/Lib/conda/anaconda/lib/python2.7/posixpath.py:372(realpath)\r\n",
      "     1162    0.003    0.000    0.003    0.000 :0(lower)\r\n",
      "1024/1018    0.002    0.000    0.002    0.000 :0(len)\r\n",
      "      347    0.002    0.000    0.005    0.000 /Users/huangsizhe/Lib/conda/anaconda/lib/python2.7/inspect.py:398(getfile)\r\n",
      "      617    0.002    0.000    0.002    0.000 :0(split)\r\n",
      "      683    0.002    0.000    0.002    0.000 :0(hasattr)\r\n",
      "      617    0.002    0.000    0.002    0.000 :0(join)\r\n",
      "      273    0.002    0.000    0.007    0.000 /Users/huangsizhe/Lib/conda/anaconda/lib/python2.7/genericpath.py:23(exists)\r\n",
      "      309    0.001    0.000    0.001    0.000 :0(get_suffixes)\r\n",
      "      322    0.001    0.000    0.001    0.000 :0(get)\r\n",
      "     14/1    0.001    0.000    0.002    0.002 /Users/huangsizhe/Lib/conda/anaconda/lib/python2.7/sre_compile.py:64(_compile)\r\n",
      "      309    0.001    0.000    0.001    0.000 /Users/huangsizhe/Lib/conda/anaconda/lib/python2.7/posixpath.py:44(normcase)\r\n",
      "      9/3    0.000    0.000    0.002    0.001 /Users/huangsizhe/Lib/conda/anaconda/lib/python2.7/sre_parse.py:395(_parse)\r\n",
      "       34    0.000    0.000    0.001    0.000 /Users/huangsizhe/Lib/conda/anaconda/lib/python2.7/tokenize.py:287(generate_tokens)\r\n",
      "        2    0.000    0.000    0.000    0.000 :0(range)\r\n",
      "       60    0.000    0.000    0.000    0.000 /Users/huangsizhe/Lib/conda/anaconda/lib/python2.7/sre_parse.py:141(__getitem__)\r\n",
      "       41    0.000    0.000    0.000    0.000 /Users/huangsizhe/Lib/conda/anaconda/lib/python2.7/sre_parse.py:193(__next)\r\n",
      "     17/5    0.000    0.000    0.000    0.000 /Users/huangsizhe/Lib/conda/anaconda/lib/python2.7/sre_parse.py:151(getwidth)\r\n",
      "        1    0.000    0.000    0.001    0.001 /Users/huangsizhe/Lib/conda/anaconda/lib/python2.7/tokenize.py:175(tokenize_loop)\r\n",
      "      6/1    0.000    0.000    0.002    0.002 /Users/huangsizhe/Lib/conda/anaconda/lib/python2.7/sre_parse.py:317(_parse_sub)\r\n",
      "       30    0.000    0.000    0.000    0.000 :0(match)\r\n",
      "        2    0.000    0.000    0.000    0.000 :0(items)\r\n",
      "        5    0.000    0.000    0.000    0.000 /Users/huangsizhe/Lib/conda/anaconda/lib/python2.7/sre_compile.py:256(_optimize_charset)\r\n",
      "        1    0.000    0.000    0.000    0.000 /Users/huangsizhe/Lib/conda/anaconda/lib/python2.7/site-packages/memory_profiler.py:594(show_results)\r\n",
      "       31    0.000    0.000    0.000    0.000 /Users/huangsizhe/Lib/conda/anaconda/lib/python2.7/sre_parse.py:212(get)\r\n",
      "        1    0.000    0.000    0.000    0.000 :0(setprofile)\r\n",
      "       33    0.000    0.000    0.000    0.000 /Users/huangsizhe/Lib/conda/anaconda/lib/python2.7/inspect.py:641(tokeneater)\r\n",
      "       33    0.000    0.000    0.000    0.000 :0(min)\r\n",
      "       29    0.000    0.000    0.000    0.000 :0(span)\r\n",
      "       10    0.000    0.000    0.000    0.000 :0(write)\r\n",
      "       26    0.000    0.000    0.000    0.000 /Users/huangsizhe/Lib/conda/anaconda/lib/python2.7/sre_parse.py:149(append)\r\n",
      "        2    0.000    0.000    0.000    0.000 :0(getcwd)\r\n",
      "        1    0.000    0.000    0.701    0.701 profile:0(foo())\r\n",
      "        5    0.000    0.000    0.000    0.000 /Users/huangsizhe/Lib/conda/anaconda/lib/python2.7/sre_compile.py:228(_compile_charset)\r\n",
      "       18    0.000    0.000    0.000    0.000 :0(format)\r\n",
      "       30    0.000    0.000    0.000    0.000 /Users/huangsizhe/Lib/conda/anaconda/lib/python2.7/sre_parse.py:206(match)\r\n",
      "       20    0.000    0.000    0.000    0.000 /Users/huangsizhe/Lib/conda/anaconda/lib/python2.7/sre_parse.py:137(__len__)\r\n",
      "        1    0.000    0.000    0.254    0.254 /Users/huangsizhe/Lib/conda/anaconda/lib/python2.7/inspect.py:518(findsource)\r\n",
      "        1    0.000    0.000    0.000    0.000 /Users/huangsizhe/Lib/conda/anaconda/lib/python2.7/sre_compile.py:433(_compile_info)\r\n",
      "       11    0.000    0.000    0.000    0.000 :0(ord)\r\n",
      "        1    0.000    0.000    0.001    0.001 /Users/huangsizhe/Lib/conda/anaconda/lib/python2.7/inspect.py:673(getblock)\r\n",
      "       14    0.000    0.000    0.000    0.000 /Users/huangsizhe/Lib/conda/anaconda/lib/python2.7/sre_parse.py:92(__init__)\r\n",
      "        1    0.000    0.000    0.255    0.255 /Users/huangsizhe/Lib/conda/anaconda/lib/python2.7/site-packages/memory_profiler.py:412(add)\r\n",
      "        1    0.000    0.000    0.000    0.000 /Users/huangsizhe/Lib/conda/anaconda/lib/python2.7/linecache.py:72(updatecache)\r\n",
      "        1    0.000    0.000    0.005    0.005 /Users/huangsizhe/Lib/conda/anaconda/lib/python2.7/re.py:230(_compile)\r\n",
      "        3    0.000    0.000    0.000    0.000 /Users/huangsizhe/Lib/conda/anaconda/lib/python2.7/sre_compile.py:428(_simple)\r\n",
      "        5    0.000    0.000    0.000    0.000 :0(find)\r\n",
      "        7    0.000    0.000    0.000    0.000 /Users/huangsizhe/Lib/conda/anaconda/lib/python2.7/site-packages/memory_profiler.py:451(<genexpr>)\r\n",
      "        1    0.000    0.000    0.700    0.700 /Users/huangsizhe/Lib/conda/anaconda/lib/python2.7/site-packages/memory_profiler.py:890(wrapper)\r\n",
      "        6    0.000    0.000    0.000    0.000 /Users/huangsizhe/Lib/conda/anaconda/lib/python2.7/inspect.py:209(iscode)\r\n",
      "        5    0.000    0.000    0.000    0.000 /Users/huangsizhe/Lib/conda/anaconda/lib/python2.7/sre_parse.py:268(_escape)\r\n",
      "        1    0.000    0.000    0.005    0.005 /Users/huangsizhe/Lib/conda/anaconda/lib/python2.7/sre_compile.py:567(compile)\r\n",
      "        1    0.000    0.000    0.000    0.000 :0(readlines)\r\n",
      "        1    0.000    0.000    0.255    0.255 /Users/huangsizhe/Lib/conda/anaconda/lib/python2.7/site-packages/memory_profiler.py:465(__call__)\r\n",
      "        1    0.000    0.000    0.445    0.445 /Users/huangsizhe/Lib/conda/anaconda/lib/python2.7/site-packages/memory_profiler.py:495(f)\r\n",
      "        1    0.000    0.000    0.003    0.003 /Users/huangsizhe/Lib/conda/anaconda/lib/python2.7/sre_compile.py:552(_code)\r\n",
      "        1    0.000    0.000    0.002    0.002 /Users/huangsizhe/Lib/conda/anaconda/lib/python2.7/sre_parse.py:706(parse)\r\n",
      "        1    0.000    0.000    0.000    0.000 /Users/huangsizhe/Lib/conda/anaconda/lib/python2.7/site-packages/memory_profiler.py:458(__init__)\r\n",
      "        1    0.000    0.000    0.000    0.000 :0(open)\r\n",
      "        1    0.000    0.000    0.255    0.255 /Users/huangsizhe/Lib/conda/anaconda/lib/python2.7/inspect.py:682(getsourcelines)\r\n",
      "        5    0.000    0.000    0.000    0.000 :0(max)\r\n",
      "        4    0.000    0.000    0.000    0.000 /Users/huangsizhe/Lib/conda/anaconda/lib/python2.7/sre_parse.py:85(closegroup)\r\n",
      "        4    0.000    0.000    0.000    0.000 /Users/huangsizhe/Lib/conda/anaconda/lib/python2.7/sre_parse.py:74(opengroup)\r\n",
      "        3    0.000    0.000    0.000    0.000 /Users/huangsizhe/Lib/conda/anaconda/lib/python2.7/inspect.py:142(isfunction)\r\n",
      "        3    0.000    0.000    0.000    0.000 /Users/huangsizhe/Lib/conda/anaconda/lib/python2.7/inspect.py:59(isclass)\r\n",
      "        3    0.000    0.000    0.000    0.000 /Users/huangsizhe/Lib/conda/anaconda/lib/python2.7/inspect.py:181(istraceback)\r\n",
      "        3    0.000    0.000    0.000    0.000 /Users/huangsizhe/Lib/conda/anaconda/lib/python2.7/inspect.py:191(isframe)\r\n",
      "        3    0.000    0.000    0.000    0.000 /Users/huangsizhe/Lib/conda/anaconda/lib/python2.7/inspect.py:67(ismethod)\r\n",
      "        1    0.000    0.000    0.700    0.700 <string>:1(<module>)\r\n",
      "        4    0.000    0.000    0.000    0.000 :0(remove)\r\n",
      "        2    0.000    0.000    0.000    0.000 /Users/huangsizhe/Lib/conda/anaconda/lib/python2.7/linecache.py:33(getlines)\r\n",
      "        1    0.000    0.000    0.000    0.000 /Users/huangsizhe/Lib/conda/anaconda/lib/python2.7/site-packages/memory_profiler.py:528(disable_by_count)\r\n",
      "        1    0.000    0.000    0.255    0.255 /Users/huangsizhe/Lib/conda/anaconda/lib/python2.7/site-packages/memory_profiler.py:479(add_function)\r\n",
      "        1    0.000    0.000    0.000    0.000 /Users/huangsizhe/Lib/conda/anaconda/lib/python2.7/site-packages/memory_profiler.py:583(enable)\r\n",
      "        1    0.000    0.000    0.000    0.000 :0(filter)\r\n",
      "        1    0.000    0.000    0.005    0.005 /Users/huangsizhe/Lib/conda/anaconda/lib/python2.7/re.py:192(compile)\r\n",
      "        1    0.000    0.000    0.000    0.000 /Users/huangsizhe/Lib/conda/anaconda/lib/python2.7/site-packages/memory_profiler.py:521(enable_by_count)\r\n",
      "        1    0.000    0.000    0.001    0.001 /Users/huangsizhe/Lib/conda/anaconda/lib/python2.7/tokenize.py:156(tokenize)\r\n",
      "        2    0.000    0.000    0.000    0.000 /Users/huangsizhe/Lib/conda/anaconda/lib/python2.7/site-packages/memory_profiler.py:445(items)\r\n",
      "        2    0.000    0.000    0.000    0.000 /Users/huangsizhe/Lib/conda/anaconda/lib/python2.7/sre_compile.py:546(isstring)\r\n",
      "        1    0.000    0.000    0.000    0.000 :0(compile)\r\n",
      "        3    0.000    0.000    0.000    0.000 /Users/huangsizhe/Lib/conda/anaconda/lib/python2.7/sre_parse.py:145(__setitem__)\r\n",
      "        1    0.000    0.000    0.000    0.000 /Users/huangsizhe/Lib/conda/anaconda/lib/python2.7/site-packages/memory_profiler.py:590(disable)\r\n",
      "        2    0.000    0.000    0.000    0.000 :0(settrace)\r\n",
      "        1    0.000    0.000    0.000    0.000 /Users/huangsizhe/Lib/conda/anaconda/lib/python2.7/sre_parse.py:189(__init__)\r\n",
      "        1    0.000    0.000    0.000    0.000 /Users/huangsizhe/Lib/conda/anaconda/lib/python2.7/site-packages/memory_profiler.py:408(__init__)\r\n",
      "        1    0.000    0.000    0.000    0.000 /Users/huangsizhe/Lib/conda/anaconda/lib/python2.7/sre_parse.py:67(__init__)\r\n",
      "        1    0.000    0.000    0.000    0.000 /Users/huangsizhe/Lib/conda/anaconda/lib/python2.7/site-packages/memory_profiler.py:491(wrap_function)\r\n",
      "        1    0.000    0.000    0.000    0.000 /Users/huangsizhe/Lib/conda/anaconda/lib/python2.7/inspect.py:634(__init__)\r\n",
      "        1    0.000    0.000    0.000    0.000 :0(getattr)\r\n",
      "        1    0.000    0.000    0.000    0.000 :0(update)\r\n",
      "        1    0.000    0.000    0.000    0.000 :0(iter)\r\n",
      "        1    0.000    0.000    0.000    0.000 :0(gettrace)\r\n",
      "        0    0.000             0.000          profile:0(profiler)\r\n",
      "\r\n",
      "\r\n"
     ]
    }
   ],
   "source": [
    "!python memory_test.py"
   ]
  },
  {
   "cell_type": "markdown",
   "metadata": {},
   "source": [
    "指定精度可以在profile装饰器后面加上参数\n",
    "如:\n",
    "\n",
    "    @profile(precision=4)"
   ]
  },
  {
   "cell_type": "markdown",
   "metadata": {},
   "source": [
    "### 基于时间的内存可视化分析"
   ]
  },
  {
   "cell_type": "code",
   "execution_count": 6,
   "metadata": {
    "collapsed": false
   },
   "outputs": [
    {
     "name": "stdout",
     "output_type": "stream",
     "text": [
      "Overwriting memory_test.py\n"
     ]
    }
   ],
   "source": [
    "%%writefile memory_test.py\n",
    "from memory_profiler import profile\n",
    "@profile\n",
    "def foo():\n",
    "    sum = 0\n",
    "    for i in range(10000):\n",
    "        sum += i\n",
    "    return sum\n",
    "if __name__==\"__main__\":\n",
    "    foo()"
   ]
  },
  {
   "cell_type": "code",
   "execution_count": 7,
   "metadata": {
    "collapsed": false
   },
   "outputs": [
    {
     "name": "stdout",
     "output_type": "stream",
     "text": [
      "mprof: Sampling memory every 0.1s\n",
      "running as a Python program...\n",
      "Filename: memory_test.py\n",
      "\n",
      "Line #    Mem usage    Increment   Line Contents\n",
      "================================================\n",
      "     2     21.6 MiB      0.0 MiB   @profile\n",
      "     3                             def foo():\n",
      "     4     21.6 MiB      0.0 MiB       sum = 0\n",
      "     5     21.8 MiB      0.3 MiB       for i in range(10000):\n",
      "     6     21.8 MiB      0.0 MiB           sum += i\n",
      "     7     21.8 MiB      0.0 MiB       return sum\n",
      "\n",
      "\n"
     ]
    }
   ],
   "source": [
    "!mprof run memory_test.py"
   ]
  },
  {
   "cell_type": "code",
   "execution_count": 13,
   "metadata": {
    "collapsed": false
   },
   "outputs": [
    {
     "name": "stdout",
     "output_type": "stream",
     "text": [
      "Using last profile data.\r\n"
     ]
    }
   ],
   "source": [
    "!mprof plot"
   ]
  },
  {
   "cell_type": "markdown",
   "metadata": {},
   "source": [
    "这样就可以出图了"
   ]
  },
  {
   "cell_type": "markdown",
   "metadata": {},
   "source": [
    "## 对象分析及追踪\n",
    "\n",
    "[Objgraph](http://mg.pov.lt/objgraph/)可以实现对象分析和追踪,它也是用pip安装,不过它依赖xdot(pip 安装)\n",
    "和[graphviz](http://www.graphviz.org/)(brew安装)\n",
    "\n",
    "它可以实现的功能有:\n",
    "\n",
    "+ 统计\n",
    "+ 定义过滤对象\n",
    "+ 遍历和显示对象图\n"
   ]
  },
  {
   "cell_type": "code",
   "execution_count": 2,
   "metadata": {
    "collapsed": false
   },
   "outputs": [
    {
     "name": "stdout",
     "output_type": "stream",
     "text": [
      "Writing Obj_test.py\n"
     ]
    }
   ],
   "source": [
    "%%writefile Obj_test.py\n",
    "#encoding=utf-8  \n",
    "import objgraph  \n",
    "  \n",
    "if __name__ == '__main__':  \n",
    "    x = []  \n",
    "    y = [x, [x], dict(x=x)]  \n",
    "    objgraph.show_refs([y], filename='sample-graph.png') #把[y]里面所有对象的引用画出来  \n",
    "    objgraph.show_backrefs([x], filename='sample-backref-graph.png') #把对x对象的引用全部画出来  \n",
    "    #objgraph.show_most_common_types() #所有常用类型对象的统计，数据量太大，意义不大  \n",
    "    objgraph.show_growth(limit=4) #打印从程序开始或者上次show_growth到现在增加的对象（按照增加量的大小排序）  "
   ]
  },
  {
   "cell_type": "code",
   "execution_count": 4,
   "metadata": {
    "collapsed": false
   },
   "outputs": [
    {
     "name": "stdout",
     "output_type": "stream",
     "text": [
      "Graph written to /var/folders/2g/vh7qp8xx7px1bplwvcn1fm_h0000gn/T/objgraph-Charrs.dot (5 nodes)\n",
      "Image generated as sample-graph.png\n",
      "Graph written to /var/folders/2g/vh7qp8xx7px1bplwvcn1fm_h0000gn/T/objgraph-0csGnv.dot (7 nodes)\n",
      "Image generated as sample-backref-graph.png\n",
      "wrapper_descriptor             1084     +1084\n",
      "function                       1029     +1029\n",
      "builtin_function_or_method      666      +666\n",
      "method_descriptor               535      +535\n"
     ]
    }
   ],
   "source": [
    "!python Obj_test.py"
   ]
  },
  {
   "cell_type": "markdown",
   "metadata": {},
   "source": [
    "于是你可以看到图了\n",
    "\n",
    "![](sample-graph.png)\n",
    "![](sample-backref-graph.png)"
   ]
  }
 ],
 "metadata": {
  "kernelspec": {
   "display_name": "Python 2",
   "language": "python",
   "name": "python2"
  },
  "language_info": {
   "codemirror_mode": {
    "name": "ipython",
    "version": 2
   },
   "file_extension": ".py",
   "mimetype": "text/x-python",
   "name": "python",
   "nbconvert_exporter": "python",
   "pygments_lexer": "ipython2",
   "version": "2.7.11"
  }
 },
 "nbformat": 4,
 "nbformat_minor": 0
}
