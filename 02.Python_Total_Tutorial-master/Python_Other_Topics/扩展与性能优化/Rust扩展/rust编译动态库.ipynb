{
 "cells": [
  {
   "cell_type": "markdown",
   "metadata": {},
   "source": [
    "+ 先用cargo创建rust项目\n",
    "\n",
    "        cargo new embed\n",
    "        cd embed\n",
    "        \n",
    "+ 修改src/lib.rs\n",
    "\n",
    "\n",
    "        use std::thread;\n",
    "\n",
    "        #[no_mangle]\n",
    "        pub extern fn process() {\n",
    "            let handles: Vec<_> = (0..10).map(|_| {\n",
    "                thread::spawn(|| {\n",
    "                    let mut x = 0;\n",
    "                    for _ in 0..5_000_000 {\n",
    "                        x += 1\n",
    "                    }\n",
    "                    x\n",
    "                })\n",
    "            }).collect();\n",
    "\n",
    "            for h in handles {\n",
    "                println!(\"Thread finished with count={}\",\n",
    "                h.join().map_err(|_| \"Could not join a thread!\").unwrap());\n",
    "            }\n",
    "        }\n",
    "        \n",
    "        \n",
    "\n",
    "`#[no_mangle]`\n",
    "        `pub extern`\n",
    "        \n",
    "        \n",
    "作为标签放在需要被引用的方法前"
   ]
  },
  {
   "cell_type": "markdown",
   "metadata": {},
   "source": [
    "Cargo.toml文件:\n",
    "\n",
    "    [package]\n",
    "    name = \"embed\"\n",
    "    version = \"0.1.0\"\n",
    "    authors = [\"HUANG SIZHE <hsz1273327@gmail.com>\"]\n",
    "\n",
    "\n",
    "    [lib]\n",
    "    name = \"embed\"\n",
    "    crate-type = [\"dylib\"]"
   ]
  },
  {
   "cell_type": "code",
   "execution_count": 11,
   "metadata": {
    "collapsed": false
   },
   "outputs": [
    {
     "name": "stdout",
     "output_type": "stream",
     "text": [
      "done!\n"
     ]
    }
   ],
   "source": [
    "from ctypes import cdll\n",
    "lib = cdll.LoadLibrary(\"embed/target/release/libembed.dylib\")\n",
    "lib.process()\n",
    "\n",
    "print(\"done!\")"
   ]
  },
  {
   "cell_type": "markdown",
   "metadata": {},
   "source": [
    "我们来看看能提速多少"
   ]
  },
  {
   "cell_type": "markdown",
   "metadata": {},
   "source": [
    "rust 代码\n",
    "\n",
    "    #[no_mangle]\n",
    "    pub extern fn fac(n:i32) ->i32 {\n",
    "\n",
    "      if n<2 {\n",
    "          return 1;\n",
    "      } else{\n",
    "      return n*fac(n-1);\n",
    "      }\n",
    "    }"
   ]
  },
  {
   "cell_type": "code",
   "execution_count": null,
   "metadata": {
    "collapsed": true
   },
   "outputs": [],
   "source": []
  }
 ],
 "metadata": {
  "kernelspec": {
   "display_name": "Python 2",
   "language": "python",
   "name": "python2"
  },
  "language_info": {
   "codemirror_mode": {
    "name": "ipython",
    "version": 2
   },
   "file_extension": ".py",
   "mimetype": "text/x-python",
   "name": "python",
   "nbconvert_exporter": "python",
   "pygments_lexer": "ipython2",
   "version": "2.7.11"
  }
 },
 "nbformat": 4,
 "nbformat_minor": 0
}
