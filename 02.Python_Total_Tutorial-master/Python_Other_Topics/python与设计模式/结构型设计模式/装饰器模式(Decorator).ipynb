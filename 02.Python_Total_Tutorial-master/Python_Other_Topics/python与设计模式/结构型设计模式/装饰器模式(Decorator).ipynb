{
 "cells": [
  {
   "cell_type": "markdown",
   "metadata": {
    "deletable": true,
    "editable": true
   },
   "source": [
    "其实python有装饰器了,都可以使用装饰器实现装饰模式,具体的不说了,看例子"
   ]
  },
  {
   "cell_type": "code",
   "execution_count": 2,
   "metadata": {
    "collapsed": true,
    "deletable": true,
    "editable": true
   },
   "outputs": [],
   "source": [
    "from functools import wraps\n",
    "\n",
    "\n",
    "def makebold(fn):\n",
    "    return getwrapped(fn, \"b\")\n",
    "\n",
    "\n",
    "def makeitalic(fn):\n",
    "    return getwrapped(fn, \"i\")\n",
    "\n",
    "\n",
    "def getwrapped(fn, tag):\n",
    "    @wraps(fn)\n",
    "    def wrapped():\n",
    "        return \"<%s>%s</%s>\" % (tag, fn(), tag)\n",
    "    return wrapped\n",
    "\n",
    "\n",
    "@makebold\n",
    "@makeitalic\n",
    "def hello():\n",
    "    \"\"\"a decorated hello world\"\"\"\n",
    "    return \"hello world\"\n"
   ]
  },
  {
   "cell_type": "code",
   "execution_count": 3,
   "metadata": {
    "collapsed": false,
    "deletable": true,
    "editable": true
   },
   "outputs": [
    {
     "name": "stdout",
     "output_type": "stream",
     "text": [
      "result:<b><i>hello world</i></b>   name:hello   doc:a decorated hello world\n"
     ]
    }
   ],
   "source": [
    "print('result:{}   name:{}   doc:{}'.format(hello(), hello.__name__, hello.__doc__))"
   ]
  },
  {
   "cell_type": "code",
   "execution_count": 9,
   "metadata": {
    "collapsed": false
   },
   "outputs": [
    {
     "name": "stdout",
     "output_type": "stream",
     "text": [
      "<i>hello world<i>\n"
     ]
    }
   ],
   "source": [
    "from functools import wraps\n",
    "\n",
    "def getwarpped(fn, tag):\n",
    "    @wraps(fn)\n",
    "    def wrapped():\n",
    "        return '<%s>%s<%s>' % (tag, fn(), tag)\n",
    "    return wrapped\n",
    "    \n",
    "def makeitalic(fn):\n",
    "    return getwarpped(fn, 'i')\n",
    "\n",
    "@makeitalic\n",
    "def hello():\n",
    "    return 'hello world'\n",
    "\n",
    "print  hello()"
   ]
  },
  {
   "cell_type": "code",
   "execution_count": 15,
   "metadata": {
    "collapsed": false
   },
   "outputs": [
    {
     "name": "stdout",
     "output_type": "stream",
     "text": [
      "@23:52:23, {hello} start\n",
      "Execute start!\n",
      "1 say hello to 2\n",
      "Execute stop!\n",
      "@23:52:25, {hello} end\n",
      "@2.005s taken for {hello}\n"
     ]
    },
    {
     "data": {
      "text/plain": [
       "<function __main__.newFunc>"
      ]
     },
     "execution_count": 15,
     "metadata": {},
     "output_type": "execute_result"
    }
   ],
   "source": [
    "#利用装饰器模式计算函数执行时间\n",
    "import time\n",
    "\n",
    "def exeTime(func):\n",
    "    def newFunc(*args, **args2):\n",
    "        t0 = time.time()\n",
    "        print \"@%s, {%s} start\" % (time.strftime(\"%X\", time.localtime()), func.__name__)\n",
    "        back = func(*args, **args2)\n",
    "        print \"@%s, {%s} end\" % (time.strftime(\"%X\", time.localtime()), func.__name__)\n",
    "        print \"@%.3fs taken for {%s}\" % (time.time() - t0, func.__name__)\n",
    "        return back\n",
    "    return newFunc\n",
    "\n",
    "@exeTime\n",
    "def hello(x, y):\n",
    "    print 'Execute start!'\n",
    "    print '%s say hello to %s' % (x, y)\n",
    "    time.sleep(2)\n",
    "    print 'Execute stop!'\n",
    "    \n",
    "\n",
    "exeTime(hello(1,2))\n",
    "#hello('A', 'B')\n"
   ]
  },
  {
   "cell_type": "code",
   "execution_count": null,
   "metadata": {
    "collapsed": true
   },
   "outputs": [],
   "source": []
  }
 ],
 "metadata": {
  "kernelspec": {
   "display_name": "Python 2",
   "language": "python",
   "name": "python2"
  },
  "language_info": {
   "codemirror_mode": {
    "name": "ipython",
    "version": 2
   },
   "file_extension": ".py",
   "mimetype": "text/x-python",
   "name": "python",
   "nbconvert_exporter": "python",
   "pygments_lexer": "ipython2",
   "version": "2.7.10"
  }
 },
 "nbformat": 4,
 "nbformat_minor": 0
}
