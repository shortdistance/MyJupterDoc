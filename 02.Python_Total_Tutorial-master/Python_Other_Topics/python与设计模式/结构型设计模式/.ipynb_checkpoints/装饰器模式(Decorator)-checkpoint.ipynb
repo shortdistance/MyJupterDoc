{
 "cells": [
  {
   "cell_type": "markdown",
   "metadata": {},
   "source": [
    "其实python有装饰器了,都可以使用装饰器实现装饰模式,具体的不说了,看例子"
   ]
  },
  {
   "cell_type": "code",
   "execution_count": 1,
   "metadata": {
    "collapsed": true
   },
   "outputs": [],
   "source": [
    "from functools import wraps\n",
    "\n",
    "\n",
    "def makebold(fn):\n",
    "    return getwrapped(fn, \"b\")\n",
    "\n",
    "\n",
    "def makeitalic(fn):\n",
    "    return getwrapped(fn, \"i\")\n",
    "\n",
    "\n",
    "def getwrapped(fn, tag):\n",
    "    @wraps(fn)\n",
    "    def wrapped():\n",
    "        return \"<%s>%s</%s>\" % (tag, fn(), tag)\n",
    "    return wrapped\n",
    "\n",
    "\n",
    "@makebold\n",
    "@makeitalic\n",
    "def hello():\n",
    "    \"\"\"a decorated hello world\"\"\"\n",
    "    return \"hello world\"\n"
   ]
  },
  {
   "cell_type": "code",
   "execution_count": 2,
   "metadata": {
    "collapsed": false
   },
   "outputs": [
    {
     "name": "stdout",
     "output_type": "stream",
     "text": [
      "result:<b><i>hello world</i></b>   name:hello   doc:a decorated hello world\n"
     ]
    }
   ],
   "source": [
    "print('result:{}   name:{}   doc:{}'.format(hello(), hello.__name__, hello.__doc__))"
   ]
  }
 ],
 "metadata": {
  "kernelspec": {
   "display_name": "Python 3",
   "language": "python",
   "name": "python3"
  },
  "language_info": {
   "codemirror_mode": {
    "name": "ipython",
    "version": 3
   },
   "file_extension": ".py",
   "mimetype": "text/x-python",
   "name": "python",
   "nbconvert_exporter": "python",
   "pygments_lexer": "ipython3",
   "version": "3.5.1"
  }
 },
 "nbformat": 4,
 "nbformat_minor": 0
}
