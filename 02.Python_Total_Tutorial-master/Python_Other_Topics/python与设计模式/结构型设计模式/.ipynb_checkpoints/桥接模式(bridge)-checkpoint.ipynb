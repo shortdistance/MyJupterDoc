{
 "cells": [
  {
   "cell_type": "markdown",
   "metadata": {},
   "source": [
    "看个例子:\n",
    "\n",
    "车有牌子,有两厢有三厢车作为区分\n",
    "\n",
    "那么可以看成这样的结构:\n",
    "\n",
    "                     车\n",
    "                     |\n",
    "               |------------|\n",
    "              大众          宝马\n",
    "               |            |\n",
    "            |=====|      |=====|\n",
    "          两厢    三厢   两厢    三厢\n",
    "          \n",
    "          \n",
    "这种结构可以看做是继承的一种\n",
    "\n",
    "如果这样实现将会有很多的重复代码,怎么改呢?\n",
    "\n",
    "我们将车分解为品牌和车型两个部分\n",
    "\n",
    "         品牌-----------------车型\n",
    "          |                    |\n",
    "     |---------|           |--------|            \n",
    "    大众      宝马         两厢      三厢\n",
    "    \n",
    "而每个车都是这两个属性的组合\n",
    "            \n",
    "桥接模式（Bridge）：将抽象部分与实现部分分离，使它们都可以独立的变化。什么叫抽象部分和实现部分分离？我们分析一下上面两种结构图，可以发现一个是用继承完成的，一种是用组合/聚合的方式完成的，而采用组合/聚合的方式就是所谓的抽象与实现分离。实际上在设计类时，我们应该首先考虑的是组合/聚合的方式，而不是考虑继承的方式，因为继承是一种强耦合关系，使用继承使得子类过多的依靠父类，这并不是很好。\n",
    "\n",
    "\n",
    "那么什么时候使用桥接模式呢？当系统可以从多个角度分类，每一种分类都有可能变化，那么就把这种多角度分类分离出来让他们独立变化，这样就可以减少他们之间的耦合。"
   ]
  },
  {
   "cell_type": "code",
   "execution_count": 4,
   "metadata": {
    "collapsed": true
   },
   "outputs": [],
   "source": [
    "class Mark(object):\n",
    "    def __init__(self,mark):\n",
    "        self.mark=mark\n",
    "        \n",
    "\n",
    "class Style(object):\n",
    "    def __init__(self,style):\n",
    "        self.style=style\n",
    "        \n",
    "class Car(object):\n",
    "    def __init__(self,mark,style):\n",
    "        self.mark = mark.mark\n",
    "        self.style = style.style\n"
   ]
  },
  {
   "cell_type": "code",
   "execution_count": 7,
   "metadata": {
    "collapsed": false
   },
   "outputs": [],
   "source": [
    "car1 = Car(Mark(u\"大众\"),Style(u\"两厢\"))"
   ]
  },
  {
   "cell_type": "code",
   "execution_count": 10,
   "metadata": {
    "collapsed": false
   },
   "outputs": [
    {
     "name": "stdout",
     "output_type": "stream",
     "text": [
      "大众\n"
     ]
    }
   ],
   "source": [
    "print car1.mark"
   ]
  },
  {
   "cell_type": "markdown",
   "metadata": {},
   "source": [
    "桥接模式在python中其实并不太需要,因为完全可以用多继承来实现..."
   ]
  },
  {
   "cell_type": "code",
   "execution_count": 11,
   "metadata": {
    "collapsed": true
   },
   "outputs": [],
   "source": [
    "class Car2(Mark,Style):\n",
    "    def __init__(self,mark,style):\n",
    "        Mark.__init__(self,mark)\n",
    "        Style.__init__(self,style)\n"
   ]
  },
  {
   "cell_type": "code",
   "execution_count": 13,
   "metadata": {
    "collapsed": false
   },
   "outputs": [],
   "source": [
    "car2 = Car2(u\"大众\",u\"两厢\")"
   ]
  },
  {
   "cell_type": "code",
   "execution_count": 15,
   "metadata": {
    "collapsed": false
   },
   "outputs": [
    {
     "name": "stdout",
     "output_type": "stream",
     "text": [
      "大众\n"
     ]
    }
   ],
   "source": [
    "print car2.mark"
   ]
  }
 ],
 "metadata": {
  "kernelspec": {
   "display_name": "Python 2",
   "language": "python",
   "name": "python2"
  },
  "language_info": {
   "codemirror_mode": {
    "name": "ipython",
    "version": 2
   },
   "file_extension": ".py",
   "mimetype": "text/x-python",
   "name": "python",
   "nbconvert_exporter": "python",
   "pygments_lexer": "ipython2",
   "version": "2.7.11"
  }
 },
 "nbformat": 4,
 "nbformat_minor": 0
}
