{
 "cells": [
  {
   "cell_type": "markdown",
   "metadata": {
    "deletable": true,
    "editable": true
   },
   "source": [
    "外观模式：提供了一个统一的接口，用来访问子系统中的一群接口。外观定义了一个高层接口，让子系统更容易使用。\n",
    "\n",
    "在软件开发系统中，客户程序经常会与复杂系统的内部子系统之间产生耦合，而导致客户程序随着子系统的变化而变化。那么如何简化客户程序与子系统之间的交互接口？如何将复杂系统的内部子系统与客户程序之间的依赖解耦？这就是外观模式的作用了，我们通过一个外观类定义一个高层接口，该接口中包含子系统的中的接口，这样客户端只需要通过外观类访问各种子系统就可以啦。结构图表示如下：\n",
    "\n",
    "![](2012071209342484.jpg)\n",
    "\n",
    "看看这个例子：生活中，人们多多少少都玩过股票吧，那么大家知道股票和基金有什么区别吗？股票的风险大，盈利高，但是一般的股民没有专业的知识则盈利的可能性较低。于是有了一批人，开始购买基金，因为基金风险低，盈利又比银行利率可观。那么大家知道这是为什么吗？基金背后是怎么运作的呢？实际上是：我们客户买基金，钱给他们，他们拿着这个钱去买股票，买债券等等来进行钱生钱的活动，相比之下他们有专业的团队，盈利的可能性更大，所以基金就有了存在的意义。对比一下外观模式的定义，是不是发现这和外观模式是极其的吻合呢？基金就是这个外观啊！！看看我们如何完成应用外观模式的代码吧。"
   ]
  },
  {
   "cell_type": "code",
   "execution_count": 1,
   "metadata": {
    "collapsed": false,
    "deletable": true,
    "editable": true
   },
   "outputs": [
    {
     "name": "stdout",
     "output_type": "stream",
     "text": [
      "###### In Test 1 ######\n",
      "Setting up\n",
      "Running test\n",
      "Tearing down\n",
      "Test Finished\n",
      "\n",
      "###### In Test 2 ######\n",
      "Setting up\n",
      "Running test\n",
      "Tearing down\n",
      "Test Finished\n",
      "\n",
      "###### In Test 3 ######\n",
      "Setting up\n",
      "Running test\n",
      "Tearing down\n",
      "Test Finished\n",
      "\n"
     ]
    }
   ],
   "source": [
    "import time\n",
    "\n",
    "SLEEP = 0.5\n",
    "\n",
    "\n",
    "# Complex Parts\n",
    "class TC1:\n",
    "\n",
    "    def run(self):\n",
    "        print(\"###### In Test 1 ######\")\n",
    "        time.sleep(SLEEP)\n",
    "        print(\"Setting up\")\n",
    "        time.sleep(SLEEP)\n",
    "        print(\"Running test\")\n",
    "        time.sleep(SLEEP)\n",
    "        print(\"Tearing down\")\n",
    "        time.sleep(SLEEP)\n",
    "        print(\"Test Finished\\n\")\n",
    "\n",
    "\n",
    "class TC2:\n",
    "\n",
    "    def run(self):\n",
    "        print(\"###### In Test 2 ######\")\n",
    "        time.sleep(SLEEP)\n",
    "        print(\"Setting up\")\n",
    "        time.sleep(SLEEP)\n",
    "        print(\"Running test\")\n",
    "        time.sleep(SLEEP)\n",
    "        print(\"Tearing down\")\n",
    "        time.sleep(SLEEP)\n",
    "        print(\"Test Finished\\n\")\n",
    "\n",
    "\n",
    "class TC3:\n",
    "\n",
    "    def run(self):\n",
    "        print(\"###### In Test 3 ######\")\n",
    "        time.sleep(SLEEP)\n",
    "        print(\"Setting up\")\n",
    "        time.sleep(SLEEP)\n",
    "        print(\"Running test\")\n",
    "        time.sleep(SLEEP)\n",
    "        print(\"Tearing down\")\n",
    "        time.sleep(SLEEP)\n",
    "        print(\"Test Finished\\n\")\n",
    "\n",
    "\n",
    "# Facade\n",
    "class TestRunner:\n",
    "\n",
    "    def __init__(self):\n",
    "        self.tc1 = TC1()\n",
    "        self.tc2 = TC2()\n",
    "        self.tc3 = TC3()\n",
    "        self.tests = [i for i in (self.tc1, self.tc2, self.tc3)]\n",
    "\n",
    "    def runAll(self):\n",
    "        [i.run() for i in self.tests]\n",
    "\n",
    "\n",
    "# Client\n",
    "def client():\n",
    "    testrunner = TestRunner()\n",
    "    testrunner.runAll()\n",
    "client()"
   ]
  },
  {
   "cell_type": "code",
   "execution_count": 9,
   "metadata": {
    "collapsed": false,
    "deletable": true,
    "editable": true
   },
   "outputs": [
    {
     "name": "stdout",
     "output_type": "stream",
     "text": [
      "Start to run subSys1\n",
      "Set up\n",
      "Tear down\n",
      "Finished\n",
      "Start to run subSys2\n",
      "Set up\n",
      "Tear down\n",
      "Finished\n"
     ]
    }
   ],
   "source": [
    "import time\n",
    "\n",
    "class subSys1:\n",
    "    def run(self):\n",
    "        #print 'Start to run %s ...' % self.__class__.__name__\n",
    "        print 'Start to run subSys1'\n",
    "        time.sleep(1)\n",
    "        print 'Set up'\n",
    "        time.sleep(1)\n",
    "        print 'Tear down'\n",
    "        time.sleep(1)\n",
    "        print 'Finished'\n",
    "        \n",
    "class subSys2:\n",
    "    def run(self):\n",
    "        #print 'Start to run %s ...' % self.__class__.__name__\n",
    "        print 'Start to run subSys2'\n",
    "        time.sleep(1)\n",
    "        print 'Set up'\n",
    "        time.sleep(1)\n",
    "        print 'Tear down'\n",
    "        time.sleep(1)\n",
    "        print 'Finished'\n",
    "        \n",
    "class Facade:\n",
    "    def __init__(self):\n",
    "        self.s1 = subSys1()\n",
    "        self.s2 = subSys2()\n",
    "        self.allTest = [i for i in (self.s1, self.s2)]\n",
    "        \n",
    "    def runAll(self):\n",
    "        [i.run() for i in self.allTest]\n",
    "        \n",
    "\n",
    "\n",
    "fd = Facade()\n",
    "fd.runAll()"
   ]
  },
  {
   "cell_type": "code",
   "execution_count": null,
   "metadata": {
    "collapsed": true
   },
   "outputs": [],
   "source": []
  }
 ],
 "metadata": {
  "kernelspec": {
   "display_name": "Python 2",
   "language": "python",
   "name": "python2"
  },
  "language_info": {
   "codemirror_mode": {
    "name": "ipython",
    "version": 2
   },
   "file_extension": ".py",
   "mimetype": "text/x-python",
   "name": "python",
   "nbconvert_exporter": "python",
   "pygments_lexer": "ipython2",
   "version": "2.7.10"
  }
 },
 "nbformat": 4,
 "nbformat_minor": 0
}
