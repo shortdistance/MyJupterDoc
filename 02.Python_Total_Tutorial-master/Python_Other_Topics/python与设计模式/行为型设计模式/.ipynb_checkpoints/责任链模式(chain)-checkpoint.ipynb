{
 "cells": [
  {
   "cell_type": "markdown",
   "metadata": {},
   "source": [
    "一个人在公司工作时间久了，难免遇到一点自己的私事，有私事就可能耽误上班的时间，可能就要请假，那么和谁去请假呢？可能是每个公司都有自己的请假制度。我们不妨假设：请假半天只要和部门主管说一声就行了，请假在半天到2天之间要通过人事部门，而请假超过两天就不那么好申请了，这时可能要总经理或者更高级别的人同意才行了。如果不考虑设计模式直接写代码，要完成这个逻辑就可能用到if—else或者多个if了.\n",
    "\n",
    "如果我们把每个管理者都写一个类，每个管理者都负责处理请假信息，但是只有当主管处理不了时，才交给人事部门处理，以此类推。那么就是可以写出来一个职责链模式的代码\n",
    "\n",
    "职责链模式（Chain Of Responsibility）：使多个对象都有机会处理请求，从而避免请求的发送者和接受者之间的耦合关系。将这个对象连成一条链，并沿着这条链传递该请求，直到有一个对象处理他为止。\n",
    "\n",
    "说的通俗一点就是：职责链模式就是把让请求沿着链条一直传下去，知道有一个对象能够处理这个请求。在职责链上的对象都有机会处理到请求，但是只有前一个职责链不能完成请求的处理，才将请求传递给下一个对象。可以看出职责链上的对象到底谁能完成请求的处理是不确定的。并且需要注意的是，职责链是在客户端动态确定的哦，具体职责链上对象的顺序也是动态确定的。还是看看结构图\n",
    "\n",
    "使用职责链模式的场合：\n",
    "\n",
    "个人觉得，职责链模式主要用于当一个请求有多种处理方式的时候，并且具体处理方式不确定的情况。\n",
    "\n",
    "使用职责链模式的优点：\n",
    "\n",
    "1. 增强了系统的可扩展性。\n",
    "\n",
    "2. 使用职责链模式可以避免众多的if或者if-else语句。\n",
    "\n",
    "3. 使用职责链模式可以减小对象之间的耦合性。使得对象之间的联系减小。\n",
    "\n",
    "4. 可以根据需要自由组合工作流程。如工作流程发生变化，可以通过重新分配对象链便可适应新的工作流程。\n",
    "\n",
    "5. 责任的分担。每个类只需要处理自己该处理的工作（不该处理的传递给下一个对象完成），明确各类的责任范围，符合类的最小封装原则。\n",
    "\n",
    "使用职责链模式的缺点：\n",
    "\n",
    "1. 使用职责链模式的时候会有多个处理者对象，但是实际使用的处理者对象却只有一个，这在某种程度讲是资源的浪费。\n",
    "\n",
    "2. 同时职责链的建立的合理性要靠客户端来保证，增加了程序的复杂性，也有可能由于职责链导致出错。"
   ]
  },
  {
   "cell_type": "markdown",
   "metadata": {},
   "source": [
    "> 例"
   ]
  },
  {
   "cell_type": "code",
   "execution_count": 1,
   "metadata": {
    "collapsed": false
   },
   "outputs": [
    {
     "name": "stdout",
     "output_type": "stream",
     "text": [
      "金力:小菜请假 数量1 被批准\n",
      "宗健:小菜请假 数量5 被批准\n",
      "钟金利:小菜要求加薪 数量500 被批准\n",
      "钟金利:小菜要求加薪 数量1000 再说吧\n"
     ]
    }
   ],
   "source": [
    "# coding:utf-8\n",
    "def printInfo(info):  \n",
    "    #print unicode(info, 'utf-8').encode('gbk')  \n",
    "    print(info)\n",
    "#抽象职责类  \n",
    "class Manager():  \n",
    "    successor = None  \n",
    "    name = ''  \n",
    "    def __init__(self, name):  \n",
    "        self.name = name  \n",
    "      \n",
    "    def SetSuccessor(self, successor):  \n",
    "        self.successor = successor  \n",
    "      \n",
    "    def HandleRequest(self, request):  \n",
    "        pass  \n",
    "#具体职责类：经理  \n",
    "class CommonManager(Manager):  \n",
    "    def HandleRequest(self, request):  \n",
    "        if request.RequestType == '请假' and request.Number <= 2:  \n",
    "            printInfo('%s:%s 数量%d 被批准' % (self.name, request.RequestContent, request.Number))  \n",
    "        else:  \n",
    "            if self.successor != None:  \n",
    "                self.successor.HandleRequest(request)  \n",
    "                  \n",
    "#具体职责类：总监  \n",
    "class Majordomo(Manager):  \n",
    "    def HandleRequest(self, request):  \n",
    "        if request.RequestType == '请假' and request.Number <= 5:  \n",
    "            printInfo('%s:%s 数量%d 被批准' % (self.name, request.RequestContent, request.Number))  \n",
    "        else:  \n",
    "            if self.successor != None:  \n",
    "                self.successor.HandleRequest(request)  \n",
    "#具体职责类：总经理  \n",
    "class GeneralManager(Manager):  \n",
    "    def HandleRequest(self, request):  \n",
    "        if request.RequestType == '请假':  \n",
    "            printInfo('%s:%s 数量%d 被批准' % (self.name, request.RequestContent, request.Number))  \n",
    "        elif request.RequestType == '加薪' and request.Number <= 500:  \n",
    "            printInfo('%s:%s 数量%d 被批准' % (self.name, request.RequestContent, request.Number))  \n",
    "        elif request.RequestType == '加薪' and request.Number > 500:  \n",
    "            printInfo('%s:%s 数量%d 再说吧' % (self.name, request.RequestContent, request.Number))  \n",
    "class Request():  \n",
    "    RequestType = ''  \n",
    "    RequestContent = ''  \n",
    "    Number = 0  \n",
    "def clientUI():  \n",
    "    jinLi = CommonManager('金力')  \n",
    "    zongJian = Majordomo('宗健')  \n",
    "    zhongJingLi = GeneralManager('钟金利')  \n",
    "      \n",
    "    jinLi.SetSuccessor(zongJian)  \n",
    "    zongJian.SetSuccessor(zhongJingLi)  \n",
    "      \n",
    "    request = Request()  \n",
    "    request.RequestType = '请假'  \n",
    "    request.RequestContent = '小菜请假'  \n",
    "    request.Number = 1  \n",
    "    jinLi.HandleRequest(request)  \n",
    "      \n",
    "    request.RequestType = '请假'  \n",
    "    request.RequestContent = '小菜请假'  \n",
    "    request.Number = 5  \n",
    "    jinLi.HandleRequest(request)  \n",
    "      \n",
    "    request.RequestType = '加薪'  \n",
    "    request.RequestContent ='小菜要求加薪'  \n",
    "    request.Number = 500  \n",
    "    jinLi.HandleRequest(request)  \n",
    "      \n",
    "    request.RequestType = '加薪'  \n",
    "    request.RequestContent = '小菜要求加薪'  \n",
    "    request.Number = 1000  \n",
    "    jinLi.HandleRequest(request)  \n",
    "    return  \n",
    "  \n",
    "\n",
    "clientUI()"
   ]
  },
  {
   "cell_type": "code",
   "execution_count": null,
   "metadata": {
    "collapsed": true
   },
   "outputs": [],
   "source": []
  }
 ],
 "metadata": {
  "kernelspec": {
   "display_name": "Python 3",
   "language": "python",
   "name": "python3"
  },
  "language_info": {
   "codemirror_mode": {
    "name": "ipython",
    "version": 3
   },
   "file_extension": ".py",
   "mimetype": "text/x-python",
   "name": "python",
   "nbconvert_exporter": "python",
   "pygments_lexer": "ipython3",
   "version": "3.5.1"
  }
 },
 "nbformat": 4,
 "nbformat_minor": 0
}
