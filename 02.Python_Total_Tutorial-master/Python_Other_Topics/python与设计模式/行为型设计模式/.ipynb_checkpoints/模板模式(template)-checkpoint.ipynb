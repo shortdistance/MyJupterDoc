{
 "cells": [
  {
   "cell_type": "markdown",
   "metadata": {
    "deletable": true,
    "editable": true
   },
   "source": [
    "模板方法模式：定义一个操作中的算法的骨架，而将一些步骤延迟到子类中。模板方法使得子类可以不改变一个算法的结构即可重定义该算法的某些特定步骤。\n",
    "\n",
    "使用模板方法模式的场合和好处:\n",
    "\n",
    "模板方法模式是通过把不变的行为搬移到超类(这边也可以是一个方法)，去除子类中的重复代码来体现它的优势的。也就提供了一个很好的代码复用平台。如果以后遇到这种情况：有一个过程需要执行，这个过程包括一系列步骤，整个过程从高层次看是一样的，但是每个步骤的具体细节不一样，这时我们就可以考虑这种模板方法模式了。即当不变的行为和可变的行为在类中混在一起的时候，不变的行为就会在子类中重复出现，这是通过模板方法模式把这些行为搬移到单一的地方实现（超类），而把不同的部分在子类实现，这就使子类摆脱了重复的不变行为的困扰。"
   ]
  },
  {
   "cell_type": "code",
   "execution_count": 13,
   "metadata": {
    "collapsed": false,
    "deletable": true,
    "editable": true
   },
   "outputs": [
    {
     "name": "stdout",
     "output_type": "stream",
     "text": [
      "spam\n",
      "----------\n",
      "eggs\n",
      "----------\n",
      "apple\n",
      "----------\n",
      "apple\n",
      "----------\n",
      "eggs\n",
      "----------\n",
      "spam\n",
      "----------\n",
      "maps\n",
      "----------\n",
      "sgge\n",
      "----------\n",
      "elppa\n",
      "----------\n",
      "elppa\n",
      "----------\n",
      "sgge\n",
      "----------\n",
      "maps\n",
      "----------\n",
      "['s', 'p', 'a', 'm']\n",
      "----------\n",
      "['e', 'g', 'g', 's']\n",
      "----------\n",
      "['a', 'p', 'p', 'l', 'e']\n",
      "----------\n",
      "['a', 'p', 'p', 'l', 'e']\n",
      "----------\n",
      "['e', 'g', 'g', 's']\n",
      "----------\n",
      "['s', 'p', 'a', 'm']\n",
      "----------\n",
      "['m', 'a', 'p', 's']\n",
      "----------\n",
      "['s', 'g', 'g', 'e']\n",
      "----------\n",
      "['e', 'l', 'p', 'p', 'a']\n",
      "----------\n",
      "['e', 'l', 'p', 'p', 'a']\n",
      "----------\n",
      "['s', 'g', 'g', 'e']\n",
      "----------\n",
      "['m', 'a', 'p', 's']\n",
      "----------\n"
     ]
    }
   ],
   "source": [
    "ingredients = \"spam eggs apple\"\n",
    "line = '-' * 10\n",
    "\n",
    "\n",
    "# Skeletons\n",
    "def iter_elements(getter, action):\n",
    "    \"\"\"Template skeleton that iterates items\"\"\"\n",
    "    for element in getter():\n",
    "        action(element)\n",
    "        print(line)\n",
    "\n",
    "\n",
    "def rev_elements(getter, action):\n",
    "    \"\"\"Template skeleton that iterates items in reverse order\"\"\"\n",
    "    for element in getter()[::-1]:\n",
    "        action(element)\n",
    "        print(line)\n",
    "\n",
    "\n",
    "# Getters\n",
    "def get_list():\n",
    "    return ingredients.split()\n",
    "\n",
    "\n",
    "def get_lists():\n",
    "    return [list(x) for x in ingredients.split()]\n",
    "\n",
    "\n",
    "# Actions\n",
    "def print_item(item):\n",
    "    print(item)\n",
    "\n",
    "\n",
    "def reverse_item(item):\n",
    "    print(item[::-1])\n",
    "\n",
    "\n",
    "# Makes templates\n",
    "def make_template(skeleton, getter, action):\n",
    "    \"\"\"Instantiate a template method with getter and action\"\"\"\n",
    "    def template():\n",
    "        skeleton(getter, action)\n",
    "    return template\n",
    "\n",
    "# Create our template functions\n",
    "templates = [make_template(s, g, a)\n",
    "             for g in (get_list, get_lists)\n",
    "             for a in (print_item, reverse_item)\n",
    "             for s in (iter_elements, rev_elements)]\n",
    "\n",
    "\n",
    "# Execute them\n",
    "for template in templates:\n",
    "    template()"
   ]
  },
  {
   "cell_type": "code",
   "execution_count": 15,
   "metadata": {
    "collapsed": false,
    "deletable": true,
    "editable": true
   },
   "outputs": [
    {
     "name": "stdout",
     "output_type": "stream",
     "text": [
      "do something before ....\n",
      "apply 1\n",
      "do something after ....\n",
      "do something before ....\n",
      "apply 2\n",
      "do something after ....\n",
      "__main__.apply_temp1\n",
      "__main__.apply_temp2\n"
     ]
    }
   ],
   "source": [
    "#!/usr/bin/env python    \n",
    "#encoding: utf-8    \n",
    "  \n",
    "class template:  \n",
    "    def __init__(self):  \n",
    "        pass  \n",
    "      \n",
    "    def logic(self):  \n",
    "        print 'do something before ....'  \n",
    "        print self.do_something_now()  \n",
    "        print 'do something after ....'  \n",
    "          \n",
    "    def do_something_now(self):  \n",
    "        return None        \n",
    "          \n",
    "class apply_temp1(template):  \n",
    "    def __init__(self):  \n",
    "        pass  \n",
    "      \n",
    "    def do_something_now(self):  \n",
    "        return 'apply 1'    \n",
    "      \n",
    "class apply_temp2(template):  \n",
    "    def __init__(self):  \n",
    "        pass  \n",
    "      \n",
    "    def do_something_now(self):  \n",
    "        return 'apply 2'    \n",
    "  \n",
    "            \n",
    "if '__main__' == __name__:    \n",
    "    obj1 = apply_temp1()  \n",
    "    obj2 = apply_temp2()  \n",
    "    obj1.logic()  \n",
    "    obj2.logic()  \n",
    "    print obj1.__class__  \n",
    "    print obj2.__class__  \n"
   ]
  },
  {
   "cell_type": "code",
   "execution_count": null,
   "metadata": {
    "collapsed": true
   },
   "outputs": [],
   "source": []
  }
 ],
 "metadata": {
  "kernelspec": {
   "display_name": "Python 2",
   "language": "python",
   "name": "python2"
  },
  "language_info": {
   "codemirror_mode": {
    "name": "ipython",
    "version": 2
   },
   "file_extension": ".py",
   "mimetype": "text/x-python",
   "name": "python",
   "nbconvert_exporter": "python",
   "pygments_lexer": "ipython2",
   "version": "2.7.10"
  }
 },
 "nbformat": 4,
 "nbformat_minor": 0
}
