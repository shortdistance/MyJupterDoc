{
 "cells": [
  {
   "cell_type": "markdown",
   "metadata": {
    "deletable": true,
    "editable": true
   },
   "source": [
    "首先还是看看定义吧：策略模式定义了一系列的算法，并将每一个算法封装起来，而且使它们还可以相互替换，策略模式让算法独立于使用它的客户而独立变化。\n",
    "\n",
    "策略模式包括以下几个部分的内容：\n",
    "\n",
    "（1）—抽象策略角色： 策略类，通常由一个接口或者抽象类实现。\n",
    "\n",
    "（2）—具体策略角色：包装了相关的算法和行为。\n",
    "\n",
    "（3）—环境角色：持有一个策略类的引用，最终给客户端调用。\n",
    "\n",
    "![](2012070809413640.jpg)"
   ]
  },
  {
   "cell_type": "markdown",
   "metadata": {
    "deletable": true,
    "editable": true
   },
   "source": [
    "策略模式的好处:\n",
    "\n",
    "（1） 策略模式提供了管理相关的算法族的办法，策略类的等级结构定义了一个算法或行为族，恰当使用继承可以把公共的代码移到父类里面，从而避免重复的代码。\n",
    "\n",
    "（2） 策略模式使得算法的使用者就和算法本身分离开来，使得系统易于扩展，当要加入日本的个人所得税收费方式时，只需要在加一个Strategy的子类，并重写execute方法。\n",
    "\n",
    "（3）从某种角度上讲，能减少测试的工作量，每个算法可以很容易进行单独测试，并且修改一个算法，也不会对其他算法类造成影响。"
   ]
  },
  {
   "cell_type": "markdown",
   "metadata": {
    "deletable": true,
    "editable": true
   },
   "source": [
    "什么情况下使用策略模式\n",
    "\n",
    "（1）如果在一个系统里面有许多类，它们之间的区别仅在于它们的行为，那么使用策略模式可以动态地让一个对象在许多行为中选择一种行为。\n",
    "\n",
    "（2） 一个系统需要动态地在几种算法中选择一种。那么这些算法可以包装到一个个的具体算法类里面，而这些具体算法类都是一个抽象算法类的子类。换言之，这些具体算法类均有统一的接口，由于多态性原则，客户端可以选择使用任何一个具体算法类，并只持有一个数据类型是抽象算法类的对象。\n",
    "\n",
    "（3）一个系统的算法使用的数据不可以让客户端知道。策略模式可以避免让客户端接触到的复杂的只与算法有关的数据。\n",
    "\n",
    "（4） 如果一个对象有很多的行为，如果不用恰当的模式，这些行为就只好使用多重的条件选择语句来实现。此时，使用策略模式，把这些行为转移到相应的具体策略类里面，就可以避免使用难以维护的多重条件选择语句，并体现面向对象设计的概念。、\n",
    "\n",
    "下面不妨举几个在实际应用中已经使用策略模式的例子：\n",
    "\n",
    "例1：\n",
    "\n",
    "比如我们的摘要算法包hmac中,我们就可以选择使用md5还是sha1等\n",
    "\n",
    "例2：\n",
    "\n",
    "还比如在玩“极品飞车”这款游戏，那么游戏对车的轮胎是可以更换的，不同的轮胎在高速转弯时有不同的痕迹样式，那么针对“汽车”的配件“轮胎”就要可以变化，而且轮胎和轮胎之间是可以相互替换的，这就是典型的要应用“策略模式”的场景！"
   ]
  },
  {
   "cell_type": "markdown",
   "metadata": {
    "deletable": true,
    "editable": true
   },
   "source": [
    "python要实现策略模式非常简单,因为可以直接用高阶函数...让函数作为参数传递\n"
   ]
  },
  {
   "cell_type": "code",
   "execution_count": 1,
   "metadata": {
    "collapsed": false,
    "deletable": true,
    "editable": true
   },
   "outputs": [
    {
     "name": "stdout",
     "output_type": "stream",
     "text": [
      "Strategy Example 0\n",
      "Strategy Example 1 from execute 1\n",
      "Strategy Example 2 from execute 2\n"
     ]
    }
   ],
   "source": [
    "import types\n",
    "\n",
    "\n",
    "class StrategyExample:\n",
    "\n",
    "    def __init__(self, func=None):\n",
    "        self.name = 'Strategy Example 0'\n",
    "        if func is not None:\n",
    "            self.execute = types.MethodType(func, self)\n",
    "\n",
    "    def execute(self):\n",
    "        print(self.name)\n",
    "\n",
    "\n",
    "def execute_replacement1(self):\n",
    "    print(self.name + ' from execute 1')\n",
    "\n",
    "\n",
    "def execute_replacement2(self):\n",
    "    print(self.name + ' from execute 2')\n",
    "\n",
    "\n",
    "def main():\n",
    "    strat0 = StrategyExample()\n",
    "\n",
    "    strat1 = StrategyExample(execute_replacement1)\n",
    "    strat1.name = 'Strategy Example 1'\n",
    "\n",
    "    strat2 = StrategyExample(execute_replacement2)\n",
    "    strat2.name = 'Strategy Example 2'\n",
    "\n",
    "    strat0.execute()\n",
    "    strat1.execute()\n",
    "    strat2.execute()\n",
    "main()"
   ]
  },
  {
   "cell_type": "code",
   "execution_count": 2,
   "metadata": {
    "collapsed": false,
    "deletable": true,
    "editable": true
   },
   "outputs": [
    {
     "name": "stdout",
     "output_type": "stream",
     "text": [
      "MallardDuck\n",
      "Fly with wings.\n",
      "zhi zhi\n",
      "\n",
      "RedheadDuck\n",
      "Fly with wings.\n",
      "gua gua\n",
      "\n",
      "RubberDuck\n",
      "Fly no way.\n",
      "nothing\n",
      "\n",
      "DecoyDuck\n",
      "Fly with wings.\n",
      "nothing\n",
      "\n",
      "DecoyDuck\n",
      "Fly no way.\n",
      "gua gua\n"
     ]
    }
   ],
   "source": [
    "#!/usr/bin/python  \n",
    "class Duck: \n",
    "    \n",
    "    def display(self):  \n",
    "        pass  \n",
    "  \n",
    "    def setFlyBehavior(self,fb):  \n",
    "        self.flyBehavior = fb  \n",
    "  \n",
    "    def setQuackBehavior(self,qb):  \n",
    "        self.quackBehavior = qb  \n",
    "  \n",
    "    def performQuack(self):  \n",
    "        self.quackBehavior.quack()  \n",
    "  \n",
    "    def performFly(self):  \n",
    "        self.flyBehavior.fly()  \n",
    "  \n",
    "  \n",
    "class FlyBehavior:  \n",
    "    def fly(self):  \n",
    "        pass  \n",
    "\n",
    "    \n",
    "class FlyWithWings(FlyBehavior):  \n",
    "    def fly(self):  \n",
    "        print \"Fly with wings.\"  \n",
    "\n",
    "        \n",
    "class FlyNoWay(FlyBehavior):  \n",
    "    def fly(self):  \n",
    "        print \"Fly no way.\"  \n",
    "  \n",
    "  \n",
    "class QuackBehavior:  \n",
    "    def quack(self):  \n",
    "        pass  \n",
    "\n",
    "    \n",
    "class Quack(QuackBehavior):  \n",
    "    def quack(self):  \n",
    "        print \"gua gua\"  \n",
    "\n",
    "        \n",
    "class Squeak(QuackBehavior):  \n",
    "    def quack(self):  \n",
    "        print \"zhi zhi\"  \n",
    "\n",
    "        \n",
    "class MuteQuack(QuackBehavior):  \n",
    "    def quack(self):  \n",
    "        print \"nothing\"  \n",
    "  \n",
    "  \n",
    "class MallardDuck(Duck):  \n",
    "    def __init__(self):  \n",
    "        self.setFlyBehavior(FlyWithWings())  \n",
    "        self.setQuackBehavior(Squeak())  \n",
    "  \n",
    "    def display(self):  \n",
    "        print \"MallardDuck\"  \n",
    "\n",
    "        \n",
    "class RedheadDuck(Duck):  \n",
    "    def __init__(self):  \n",
    "        self.setFlyBehavior(FlyWithWings())  \n",
    "        self.setQuackBehavior(Quack())  \n",
    "  \n",
    "    def display(self):  \n",
    "        print \"RedheadDuck\"  \n",
    "\n",
    "        \n",
    "class RubberDuck(Duck):  \n",
    "    def __init__(self):  \n",
    "        self.setFlyBehavior(FlyNoWay())  \n",
    "        self.setQuackBehavior(MuteQuack())  \n",
    "  \n",
    "    def display(self):  \n",
    "        print \"RubberDuck\"  \n",
    "\n",
    "        \n",
    "class DecoyDuck(Duck):  \n",
    "    def __init__(self):  \n",
    "        self.setFlyBehavior(FlyWithWings())  \n",
    "        self.setQuackBehavior(MuteQuack())  \n",
    "  \n",
    "    def display(self):  \n",
    "        print \"DecoyDuck\"  \n",
    "  \n",
    "  \n",
    "for n in MallardDuck(),RedheadDuck(),RubberDuck(),DecoyDuck():  \n",
    "    n.display()  \n",
    "    n.performFly()  \n",
    "    n.performQuack()  \n",
    "    print  \n",
    "\n",
    "    \n",
    "n.setFlyBehavior(FlyNoWay())  \n",
    "n.setQuackBehavior(Quack())  \n",
    "n.display()  \n",
    "n.performFly()  \n",
    "n.performQuack()  "
   ]
  },
  {
   "cell_type": "code",
   "execution_count": 16,
   "metadata": {
    "collapsed": false
   },
   "outputs": [
    {
     "name": "stdout",
     "output_type": "stream",
     "text": [
      "Fly no way.\n",
      "nothing\n"
     ]
    }
   ],
   "source": [
    "import types\n",
    "class Duck:\n",
    "    def __init__(self, name, fly_func=None, quack_func=None):\n",
    "        self.name = name\n",
    "        if fly_func:\n",
    "            self.fly_behavior = types.MethodType(fly_func, self)\n",
    "        if quack_func:   \n",
    "            self.quack_behavior = types.MethodType(quack_func, self)\n",
    "        \n",
    "    def fly_behavior(self):\n",
    "        print 'fly'\n",
    "        \n",
    "    def quack_behavior(self):\n",
    "        print 'quack'\n",
    "        \n",
    "\n",
    "def fly_with_wings(self):  \n",
    "    print \"Fly with wings.\"  \n",
    "\n",
    "def fly_no_way(self):\n",
    "    print \"Fly no way.\"  \n",
    "\n",
    "\n",
    "def quack(self):  \n",
    "    print \"gua gua\"  \n",
    "\n",
    "def Squeak(self):  \n",
    "    print \"zhi zhi\"  \n",
    "\n",
    "def MuteQuack(self):  \n",
    "    print \"nothing\"  \n",
    "\n",
    "               \n",
    "duck = Duck('MallardDuck', fly_no_way, MuteQuack)\n",
    "duck.fly_behavior()\n",
    "duck.quack_behavior()"
   ]
  },
  {
   "cell_type": "code",
   "execution_count": null,
   "metadata": {
    "collapsed": true
   },
   "outputs": [],
   "source": []
  },
  {
   "cell_type": "code",
   "execution_count": null,
   "metadata": {
    "collapsed": true
   },
   "outputs": [],
   "source": []
  }
 ],
 "metadata": {
  "kernelspec": {
   "display_name": "Python 2",
   "language": "python",
   "name": "python2"
  },
  "language_info": {
   "codemirror_mode": {
    "name": "ipython",
    "version": 2
   },
   "file_extension": ".py",
   "mimetype": "text/x-python",
   "name": "python",
   "nbconvert_exporter": "python",
   "pygments_lexer": "ipython2",
   "version": "2.7.10"
  }
 },
 "nbformat": 4,
 "nbformat_minor": 0
}
