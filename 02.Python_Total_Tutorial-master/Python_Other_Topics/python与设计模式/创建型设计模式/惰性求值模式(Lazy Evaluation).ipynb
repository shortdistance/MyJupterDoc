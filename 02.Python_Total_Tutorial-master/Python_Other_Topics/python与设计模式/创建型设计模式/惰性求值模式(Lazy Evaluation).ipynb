{
 "cells": [
  {
   "cell_type": "markdown",
   "metadata": {
    "deletable": true,
    "editable": true
   },
   "source": [
    "惰性求值属性可以在对象被使用的时候才进行计算,这样可以减少一些资源消耗,提高程序效率\n",
    "\n",
    "应用场景:\n",
    "\n",
    "类中有属性需要大量计算才可以得到结果,但又不想在实例化的时候就计算的场景\n",
    "\n",
    "实现:通过装饰器实现"
   ]
  },
  {
   "cell_type": "code",
   "execution_count": 5,
   "metadata": {
    "collapsed": true,
    "deletable": true,
    "editable": true
   },
   "outputs": [],
   "source": [
    "def lazy(fn):\n",
    "    \"\"\"Decorator that makes a property lazy-evaluated.\"\"\"\n",
    "    attr_name = '_lazy_' + fn.__name__\n",
    "\n",
    "    @property\n",
    "    def _lazy_property(self):\n",
    "        if not hasattr(self, attr_name):\n",
    "            setattr(self, attr_name, fn(self))\n",
    "        return getattr(self, attr_name)\n",
    "    return _lazy_property\n"
   ]
  },
  {
   "cell_type": "code",
   "execution_count": 6,
   "metadata": {
    "collapsed": false,
    "deletable": true,
    "editable": true
   },
   "outputs": [],
   "source": [
    "class Person(object):\n",
    "    def __init__(self, name, occupation):\n",
    "        self.name = name\n",
    "        self.occupation = occupation\n",
    "\n",
    "    @lazy\n",
    "    def relatives(self):\n",
    "        # Get all relatives, let's assume that it costs much time.\n",
    "        relatives = \"Many relatives.\"\n",
    "        return relatives\n"
   ]
  },
  {
   "cell_type": "code",
   "execution_count": 7,
   "metadata": {
    "collapsed": true,
    "deletable": true,
    "editable": true
   },
   "outputs": [],
   "source": [
    "Jhon = Person('Jhon', 'Coder')"
   ]
  },
  {
   "cell_type": "code",
   "execution_count": 8,
   "metadata": {
    "collapsed": false,
    "deletable": true,
    "editable": true
   },
   "outputs": [
    {
     "name": "stdout",
     "output_type": "stream",
     "text": [
      "Name: Jhon    Occupation: Coder\n"
     ]
    }
   ],
   "source": [
    "print(\"Name: {0}    Occupation: {1}\".format(Jhon.name, Jhon.occupation))"
   ]
  },
  {
   "cell_type": "code",
   "execution_count": null,
   "metadata": {
    "collapsed": true,
    "deletable": true,
    "editable": true
   },
   "outputs": [],
   "source": [
    "print Jone"
   ]
  }
 ],
 "metadata": {
  "kernelspec": {
   "display_name": "Python 2",
   "language": "python",
   "name": "python2"
  },
  "language_info": {
   "codemirror_mode": {
    "name": "ipython",
    "version": 2
   },
   "file_extension": ".py",
   "mimetype": "text/x-python",
   "name": "python",
   "nbconvert_exporter": "python",
   "pygments_lexer": "ipython2",
   "version": "2.7.10"
  }
 },
 "nbformat": 4,
 "nbformat_minor": 0
}
