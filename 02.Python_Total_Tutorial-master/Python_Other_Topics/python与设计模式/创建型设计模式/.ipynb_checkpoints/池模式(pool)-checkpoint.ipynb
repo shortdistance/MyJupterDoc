{
 "cells": [
  {
   "cell_type": "markdown",
   "metadata": {},
   "source": [
    "池模式多用于并发,它把一系列对象看做是一个个元素放在一个池子里统一管理,并利用上下文处理元素获取和放入的操作.\n",
    "\n",
    "当调用对象时，不使用常规的构造方式，而是通过一个对象池操作。即如果池中存在该对象，则取出；如果不存在，则新建一个对象并存储在池中。当使用完该对象后，则将该对象的归还给对象池\n",
    "\n",
    "恰当地使用对象池化技术，可以有效地减少对象生成和初始化时的消耗，提高系统的运行效率.也让代码更加直观"
   ]
  },
  {
   "cell_type": "code",
   "execution_count": 1,
   "metadata": {
    "collapsed": false
   },
   "outputs": [
    {
     "name": "stdout",
     "output_type": "stream",
     "text": [
      "Inside with: yam\n",
      "Outside with: yam\n",
      "Inside func: sam\n",
      "Outside func: sam\n"
     ]
    }
   ],
   "source": [
    "class QueueObject():\n",
    "\n",
    "    def __init__(self, queue, auto_get=False):\n",
    "        self._queue = queue\n",
    "        self.object = self._queue.get() if auto_get else None\n",
    "\n",
    "    def __enter__(self):\n",
    "        if self.object is None:\n",
    "            self.object = self._queue.get()\n",
    "        return self.object\n",
    "\n",
    "    def __exit__(self, Type, value, traceback):\n",
    "        if self.object is not None:\n",
    "            self._queue.put(self.object)\n",
    "            self.object = None\n",
    "\n",
    "    def __del__(self):\n",
    "        if self.object is not None:\n",
    "            self._queue.put(self.object)\n",
    "            self.object = None\n",
    "\n",
    "\n",
    "def main():\n",
    "    try:\n",
    "        import queue\n",
    "    except ImportError:  # python 2.x compatibility\n",
    "        import Queue as queue\n",
    "\n",
    "    def test_object(queue):\n",
    "        queue_object = QueueObject(queue, True)\n",
    "        print('Inside func: {}'.format(queue_object.object))\n",
    "\n",
    "    sample_queue = queue.Queue()\n",
    "\n",
    "    sample_queue.put('yam')\n",
    "    with QueueObject(sample_queue) as obj:\n",
    "        print('Inside with: {}'.format(obj))\n",
    "    print('Outside with: {}'.format(sample_queue.get()))\n",
    "\n",
    "    sample_queue.put('sam')\n",
    "    test_object(sample_queue)\n",
    "    print('Outside func: {}'.format(sample_queue.get()))\n",
    "\n",
    "    if not sample_queue.empty():\n",
    "        print(sample_queue.get())\n",
    "\n",
    "main()"
   ]
  }
 ],
 "metadata": {
  "kernelspec": {
   "display_name": "Python 2",
   "language": "python",
   "name": "python2"
  },
  "language_info": {
   "codemirror_mode": {
    "name": "ipython",
    "version": 2
   },
   "file_extension": ".py",
   "mimetype": "text/x-python",
   "name": "python",
   "nbconvert_exporter": "python",
   "pygments_lexer": "ipython2",
   "version": "2.7.11"
  }
 },
 "nbformat": 4,
 "nbformat_minor": 0
}
