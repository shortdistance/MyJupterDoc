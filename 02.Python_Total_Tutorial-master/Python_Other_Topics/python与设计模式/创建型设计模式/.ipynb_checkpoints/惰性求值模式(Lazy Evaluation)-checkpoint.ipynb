{
 "cells": [
  {
   "cell_type": "markdown",
   "metadata": {},
   "source": [
    "惰性求值属性可以在对象被使用的时候才进行计算,这样可以减少一些资源消耗,提高程序效率\n",
    "\n",
    "应用场景:\n",
    "\n",
    "类中有属性需要大量计算才可以得到结果,但又不想在实例化的时候就计算的场景\n",
    "\n",
    "实现:通过装饰器实现"
   ]
  },
  {
   "cell_type": "code",
   "execution_count": 1,
   "metadata": {
    "collapsed": true
   },
   "outputs": [],
   "source": [
    "def lazy(fn):\n",
    "    \"\"\"Decorator that makes a property lazy-evaluated.\"\"\"\n",
    "    attr_name = '_lazy_' + fn.__name__\n",
    "\n",
    "    @property\n",
    "    def _lazy_property(self):\n",
    "        if not hasattr(self, attr_name):\n",
    "            setattr(self, attr_name, fn(self))\n",
    "        return getattr(self, attr_name)\n",
    "    return _lazy_property\n"
   ]
  },
  {
   "cell_type": "code",
   "execution_count": 3,
   "metadata": {
    "collapsed": false
   },
   "outputs": [],
   "source": [
    "class Person(object):\n",
    "    def __init__(self, name, occupation):\n",
    "        self.name = name\n",
    "        self.occupation = occupation\n",
    "\n",
    "    @lazy\n",
    "    def relatives(self):\n",
    "        # Get all relatives, let's assume that it costs much time.\n",
    "        relatives = \"Many relatives.\"\n",
    "        return relatives\n"
   ]
  },
  {
   "cell_type": "code",
   "execution_count": 4,
   "metadata": {
    "collapsed": true
   },
   "outputs": [],
   "source": [
    "Jhon = Person('Jhon', 'Coder')"
   ]
  },
  {
   "cell_type": "code",
   "execution_count": 5,
   "metadata": {
    "collapsed": false
   },
   "outputs": [
    {
     "name": "stdout",
     "output_type": "stream",
     "text": [
      "Name: Jhon    Occupation: Coder\n"
     ]
    }
   ],
   "source": [
    "print(\"Name: {0}    Occupation: {1}\".format(Jhon.name, Jhon.occupation))"
   ]
  },
  {
   "cell_type": "code",
   "execution_count": null,
   "metadata": {
    "collapsed": true
   },
   "outputs": [],
   "source": []
  }
 ],
 "metadata": {
  "kernelspec": {
   "display_name": "Python 3",
   "language": "python",
   "name": "python3"
  },
  "language_info": {
   "codemirror_mode": {
    "name": "ipython",
    "version": 3
   },
   "file_extension": ".py",
   "mimetype": "text/x-python",
   "name": "python",
   "nbconvert_exporter": "python",
   "pygments_lexer": "ipython3",
   "version": "3.5.1"
  }
 },
 "nbformat": 4,
 "nbformat_minor": 0
}
