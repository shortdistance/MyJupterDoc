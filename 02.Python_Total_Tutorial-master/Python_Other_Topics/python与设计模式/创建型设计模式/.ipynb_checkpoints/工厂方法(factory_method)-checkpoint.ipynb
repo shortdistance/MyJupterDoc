{
 "cells": [
  {
   "cell_type": "markdown",
   "metadata": {
    "deletable": true,
    "editable": true
   },
   "source": [
    "工厂方法是用来实现对一个抽象概念的\n",
    "\n",
    "优点在于:\n",
    "\n",
    "抽象了产品工厂这个类，让它变成了一个接口，只要某个类实现了这个接口，它就可以被当做工厂类来用，这样每添加一个产品的时候，就添加一下相应的生产工厂类，其它地方就可以使用了，满足“开放-封闭”原则\n",
    "\n",
    "\n",
    "缺点在于:\n",
    "\n",
    "把生产产品的逻辑判断从工厂中剥离了出去。\n",
    "\n",
    "\n",
    "工厂方法简单说就是把对象和通过模式匹配的方式创建出来\n",
    "\n",
    "\n",
    "> 例子:一个翻译软件\n",
    "\n",
    "我们的翻译软件要能够通过告知翻译成啥语言而选择使用啥类\n",
    "\n"
   ]
  },
  {
   "cell_type": "code",
   "execution_count": 5,
   "metadata": {
    "collapsed": false,
    "deletable": true,
    "editable": true
   },
   "outputs": [
    {
     "name": "stdout",
     "output_type": "stream",
     "text": [
      "狗 σκύλος dog\n",
      "parrot parrot parrot\n",
      "猫 γάτα cat\n",
      "bear bear bear\n"
     ]
    }
   ],
   "source": [
    "class GreekGetter(object):\n",
    "\n",
    "    \"\"\"A simple localizer a la gettext\"\"\"\n",
    "\n",
    "    def __init__(self):\n",
    "        self.trans = dict(dog=\"σκύλος\", cat=\"γάτα\")\n",
    "\n",
    "    def get(self, msgid):\n",
    "        \"\"\"We'll punt if we don't have a translation\"\"\"\n",
    "        return self.trans.get(msgid, str(msgid))\n",
    "\n",
    "class ChineseGetter(object):\n",
    "    \"\"\"A simple localizer \"\"\"\n",
    "\n",
    "    def __init__(self):\n",
    "        self.trans = dict(dog=\"狗\", cat=\"猫\")\n",
    "\n",
    "    def get(self, msgid):\n",
    "        \"\"\"We'll punt if we don't have a translation\"\"\"\n",
    "        return self.trans.get(msgid, str(msgid))\n",
    "    \n",
    "    \n",
    "    \n",
    "class EnglishGetter(object):\n",
    "\n",
    "    \"\"\"Simply echoes the msg ids\"\"\"\n",
    "\n",
    "    def get(self, msgid):\n",
    "        return str(msgid)\n",
    "\n",
    "\n",
    "def get_localizer(language):\n",
    "    \"\"\"The factory method\"\"\"\n",
    "    languages = {\"English\":EnglishGetter,\n",
    "                 \"Greek\":GreekGetter,\n",
    "                 \"Chinese\":ChineseGetter\n",
    "                }\n",
    "    return languages.get(language,EnglishGetter)()\n",
    "\n",
    "# Create our localizers\n",
    "c, g ,j = get_localizer(language=\"Chinese\"), get_localizer(language=\"Greek\"),get_localizer(language=\"Japanese\")\n",
    "# Localize some text\n",
    "for msgid in \"dog parrot cat bear\".split():\n",
    "    print(c.get(msgid), g.get(msgid),j.get(msgid))"
   ]
  },
  {
   "cell_type": "markdown",
   "metadata": {
    "deletable": true,
    "editable": true
   },
   "source": [
    "这个例子可以看到python实现工厂方法其实非常简单,只要左右子类有共同的接口,然后使用字典代替其他语言中的switch语句实现分支匹配判断即可"
   ]
  },
  {
   "cell_type": "markdown",
   "metadata": {
    "deletable": true,
    "editable": true
   },
   "source": [
    ">图片\n",
    "\n",
    "![Factory_Method][id]\n",
    "[id]: <pic/[Creation]_Factory.jpg> \"Optional title\"\n"
   ]
  },
  {
   "cell_type": "code",
   "execution_count": null,
   "metadata": {
    "collapsed": true,
    "deletable": true,
    "editable": true
   },
   "outputs": [],
   "source": []
  }
 ],
 "metadata": {
  "kernelspec": {
   "display_name": "Python 2",
   "language": "python",
   "name": "python2"
  },
  "language_info": {
   "codemirror_mode": {
    "name": "ipython",
    "version": 2
   },
   "file_extension": ".py",
   "mimetype": "text/x-python",
   "name": "python",
   "nbconvert_exporter": "python",
   "pygments_lexer": "ipython2",
   "version": "2.7.10"
  }
 },
 "nbformat": 4,
 "nbformat_minor": 0
}
