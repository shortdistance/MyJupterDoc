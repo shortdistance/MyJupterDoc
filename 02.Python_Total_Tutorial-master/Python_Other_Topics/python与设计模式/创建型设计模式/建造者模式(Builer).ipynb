{
 "cells": [
  {
   "cell_type": "markdown",
   "metadata": {
    "deletable": true,
    "editable": true
   },
   "source": [
    "建造者模式与抽象工厂模式类似,都可以用于创建那种其他对象组合而成的复杂对象,他们区别在于它还保存了复杂对象的各个部分细节\n",
    "\n",
    "建造者模式实际上是常用的设计模式。顾名思义，builder的意思是建造者或者建筑工人，谈到建造自然会想到楼房。楼房是千差万别的，楼房的外形、层数、内部房间的数量、房间的装饰等等都不一样，但是对于建造者来说，抽象出来的建筑流程是确定的，往往建筑一座楼房包括下面的步骤：（1）打桩，建立基础（2）建立框架等。建造者模式的本质和建造楼房是一致的：即流程不变，但每个流程实现的具体细节则是经常变化的。建造者模式的好处就是保证了流程不会变化，流程即不会增加、也不会遗漏或者产生流程次序错误，这是非常重要的。\n",
    "\n",
    "建造者模式：是将一个复杂的对象的构建与它的表示分离，使得同样的构建过程可以创建不同的表示。\n",
    "\n",
    "说简单些,就是建造者是一个规定流程不规定实现的模式,它提取了流程这个抽象\n",
    "\n",
    "\n",
    "建造者模式通常包括下面几个角色：\n",
    "\n",
    "1. builder：给出一个抽象接口，以规范产品对象的各个组成成分的建造。这个接口规定要实现复杂对象的哪些部分的创建，并不涉及具体的对象部件的创建。\n",
    "\n",
    "2. ConcreteBuilder：实现Builder接口，针对不同的商业逻辑，具体化复杂对象的各部分的创建。 在建造过程完成后，提供产品的实例。\n",
    "\n",
    "3. Director：调用具体建造者来创建复杂对象的各个部分，在指导者中不涉及具体产品的信息，只负责保证对象各部分完整创建或按某种顺序创建。\n",
    "\n",
    "4. Product：要创建的复杂对象。\n",
    "\n",
    "![](2012071919460471.jpg)"
   ]
  },
  {
   "cell_type": "code",
   "execution_count": 1,
   "metadata": {
    "collapsed": false,
    "deletable": true,
    "editable": true
   },
   "outputs": [
    {
     "name": "stdout",
     "output_type": "stream",
     "text": [
      "Floor: One | Size: Big\n",
      "Floor: More than One | Size: Small\n"
     ]
    }
   ],
   "source": [
    "# 设计者\n",
    "class Director(object):\n",
    "\n",
    "    def __init__(self):\n",
    "        self.builder = None\n",
    "\n",
    "    def construct_building(self):\n",
    "        self.builder.new_building()\n",
    "        self.builder.build_floor()\n",
    "        self.builder.build_size()\n",
    "\n",
    "    def get_building(self):\n",
    "        return self.builder.building\n",
    "\n",
    "\n",
    "# 建筑工人抽象类\n",
    "class Builder(object):\n",
    "\n",
    "    def __init__(self):\n",
    "        self.building = None\n",
    "\n",
    "    def new_building(self):\n",
    "        self.building = Building()\n",
    "\n",
    "    def build_floor(self):\n",
    "        raise NotImplementedError\n",
    "\n",
    "    def build_size(self):\n",
    "        raise NotImplementedError\n",
    "\n",
    "# 建筑工人(底楼)\n",
    "class BuilderHouse(Builder):\n",
    "\n",
    "    def build_floor(self):\n",
    "        #设定建设的层级\n",
    "        self.building.floor = 'One'\n",
    "\n",
    "    def build_size(self):\n",
    "        self.building.size = 'Big'\n",
    "\n",
    "# 建筑工人(上层)\n",
    "class BuilderFlat(Builder):\n",
    "\n",
    "    def build_floor(self):\n",
    "        self.building.floor = 'More than One'\n",
    "\n",
    "    def build_size(self):\n",
    "        self.building.size = 'Small'\n",
    "\n",
    "\n",
    "# 要建设的建筑\n",
    "class Building(object):\n",
    "\n",
    "    def __init__(self):\n",
    "        self.floor = None\n",
    "        self.size = None\n",
    "\n",
    "    def __repr__(self):\n",
    "        return 'Floor: {0.floor} | Size: {0.size}'.format(self)\n",
    "\n",
    "\n",
    "# Client\n",
    "if __name__ == \"__main__\":\n",
    "    #定义流程\n",
    "    #设计\n",
    "    director = Director()\n",
    "    #建设\n",
    "    director.builder = BuilderHouse()\n",
    "    \n",
    "    director.construct_building()\n",
    "    building = director.get_building()\n",
    "    print(building)\n",
    "    director.builder = BuilderFlat()\n",
    "    director.construct_building()\n",
    "    building = director.get_building()\n",
    "    print(building)"
   ]
  },
  {
   "cell_type": "markdown",
   "metadata": {
    "deletable": true,
    "editable": true
   },
   "source": [
    "使用建造者模式的场合和好处\n",
    "\n",
    "使用建造者模式的好处：\n",
    "\n",
    "\n",
    "1. 使用建造者模式可以使客户端不必知道产品内部组成的细节。\n",
    "\n",
    "2. 具体的建造者类之间是相互独立的，对系统的扩展非常有利。\n",
    "\n",
    "3. 由于具体的建造者是独立的，因此可以对建造过程逐步细化，而不对其他的模块产生任何影响。\n",
    "\n",
    "使用建造模式的场合：\n",
    "\n",
    "\n",
    "1. 创建一些复杂的对象时，这些对象的内部组成构件间的建造顺序是稳定的，但是对象的内部组成构件面临着复杂的变化。\n",
    "\n",
    "2. 要创建的复杂对象的算法，独立于该对象的组成部分，也独立于组成部分的装配方法时。"
   ]
  },
  {
   "cell_type": "code",
   "execution_count": null,
   "metadata": {
    "collapsed": true,
    "deletable": true,
    "editable": true
   },
   "outputs": [],
   "source": []
  }
 ],
 "metadata": {
  "kernelspec": {
   "display_name": "Python 2",
   "language": "python",
   "name": "python2"
  },
  "language_info": {
   "codemirror_mode": {
    "name": "ipython",
    "version": 2
   },
   "file_extension": ".py",
   "mimetype": "text/x-python",
   "name": "python",
   "nbconvert_exporter": "python",
   "pygments_lexer": "ipython2",
   "version": "2.7.10"
  }
 },
 "nbformat": 4,
 "nbformat_minor": 0
}
