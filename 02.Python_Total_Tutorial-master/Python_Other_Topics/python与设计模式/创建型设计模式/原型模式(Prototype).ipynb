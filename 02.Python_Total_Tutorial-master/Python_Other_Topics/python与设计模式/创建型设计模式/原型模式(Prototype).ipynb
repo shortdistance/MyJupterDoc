{
 "cells": [
  {
   "cell_type": "markdown",
   "metadata": {
    "deletable": true,
    "editable": true
   },
   "source": [
    "大家都知道连锁机构是现在灰常流行的商业模式，比如星巴克,kfc啥的，那么假如星巴克要在小南通新建立一个分店，所经营的产品和以前在其他的城市已经存在的店经营的产品差不多，那么面向对象开发的角度怎么解决这个问题呢？难道要重新的实例化一个咖啡之翼的店？？这显然不太好吧，星巴克里面经营的产品（假设是属性吧）都需要重新写，这就是在做大量的重复工作啊，这显然是不符合OO开发思想的。遇到这样的情况，并不是重新建立一个类来解决这样的问题，而是通过设计模式中的“原型模式”来解决这种问题。(js貌似就是这种理念的面向对象模型)"
   ]
  },
  {
   "cell_type": "markdown",
   "metadata": {
    "deletable": true,
    "editable": true
   },
   "source": [
    "原型模式需要用到copy这个库做深层拷贝.\n",
    "\n",
    "原型模式适用场合：\n",
    "\n",
    "原型模式在几个方面比较有效：\n",
    "\n",
    "1. 如果说我们的对象类型不是刚开始就可以确定，而是这个类型是在运行期确定的话，那么我们通过这个类型的对象克隆出一个新的类型更容易。\n",
    "\n",
    "2. 有的时候我们可能在实际的项目中需要一个对象在某个状态下的副本\n",
    "\n",
    "3. 当我们在处理一些对象比较简单，并且对象之间的区别很小，可能只是很固定的几个属性不同的时候，可能我们使用原型模式更合适。\n",
    "\n",
    "注：东西不要学死，重要的是理解不是背诵，原型模式还有其他可用的场合，要理解原型模式的原理，这样才能真正地为我所用，这只是一种思想，可能在很多地方好用，只有真正地理解才能在以后的实践中提出新的看法。"
   ]
  },
  {
   "cell_type": "code",
   "execution_count": 2,
   "metadata": {
    "collapsed": false,
    "deletable": true,
    "editable": true
   },
   "outputs": [
    {
     "name": "stdout",
     "output_type": "stream",
     "text": [
      "[{'default': 'default'}, {'objecta': 'a-value'}, {'objectb': 'b-value'}]\n"
     ]
    }
   ],
   "source": [
    "import copy\n",
    "\n",
    "\n",
    "class Prototype:\n",
    "\n",
    "    value = 'default'\n",
    "\n",
    "    def clone(self, **attrs):\n",
    "        \"\"\"Clone a prototype and update inner attributes dictionary\"\"\"\n",
    "        obj = copy.deepcopy(self)\n",
    "        obj.__dict__.update(attrs)\n",
    "        return obj\n",
    "\n",
    "\n",
    "class PrototypeDispatcher:\n",
    "    #记录原型和它的拷贝\n",
    "    def __init__(self):\n",
    "        self._objects = {}\n",
    "\n",
    "    def get_objects(self):\n",
    "        \"\"\"Get all objects\"\"\"\n",
    "        return self._objects\n",
    "\n",
    "    def register_object(self, name, obj):\n",
    "        \"\"\"Register an object\"\"\"\n",
    "        self._objects[name] = obj\n",
    "\n",
    "    def unregister_object(self, name):\n",
    "        \"\"\"Unregister an object\"\"\"\n",
    "        del self._objects[name]\n",
    "\n",
    "\n",
    "def main():\n",
    "    dispatcher = PrototypeDispatcher()\n",
    "    prototype = Prototype()\n",
    "\n",
    "    d = prototype.clone()\n",
    "    a = prototype.clone(value='a-value', category='a')\n",
    "    b = prototype.clone(value='b-value', is_checked=True)\n",
    "    dispatcher.register_object('objecta', a)\n",
    "    dispatcher.register_object('objectb', b)\n",
    "    dispatcher.register_object('default', d)\n",
    "    print([{n: p.value} for n, p in dispatcher.get_objects().items()])\n",
    "\n",
    "\n",
    "main()"
   ]
  },
  {
   "cell_type": "code",
   "execution_count": null,
   "metadata": {
    "collapsed": true,
    "deletable": true,
    "editable": true
   },
   "outputs": [],
   "source": []
  }
 ],
 "metadata": {
  "kernelspec": {
   "display_name": "Python 2",
   "language": "python",
   "name": "python2"
  },
  "language_info": {
   "codemirror_mode": {
    "name": "ipython",
    "version": 2
   },
   "file_extension": ".py",
   "mimetype": "text/x-python",
   "name": "python",
   "nbconvert_exporter": "python",
   "pygments_lexer": "ipython2",
   "version": "2.7.10"
  }
 },
 "nbformat": 4,
 "nbformat_minor": 0
}
