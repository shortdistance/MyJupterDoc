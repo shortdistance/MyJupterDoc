{
 "cells": [
  {
   "cell_type": "markdown",
   "metadata": {
    "deletable": true,
    "editable": true
   },
   "source": [
    "工厂方法是用来实现对一个抽象概念的\n",
    "\n",
    "优点在于:\n",
    "\n",
    "抽象了产品工厂这个类，让它变成了一个接口，只要某个类实现了这个接口，它就可以被当做工厂类来用，这样每添加一个产品的时候，就添加一下相应的生产工厂类，其它地方就可以使用了，满足“开放-封闭”原则\n",
    "\n",
    "\n",
    "缺点在于:\n",
    "\n",
    "把生产产品的逻辑判断从工厂中剥离了出去。\n",
    "\n",
    "\n",
    "工厂方法简单说就是把对象和通过模式匹配的方式创建出来\n",
    "\n",
    "\n",
    "> 例子:一个翻译软件\n",
    "\n",
    "我们的翻译软件要能够通过告知翻译成啥语言而选择使用啥类\n",
    "\n"
   ]
  },
  {
   "cell_type": "code",
   "execution_count": 5,
   "metadata": {
    "collapsed": false,
    "deletable": true,
    "editable": true
   },
   "outputs": [
    {
     "name": "stdout",
     "output_type": "stream",
     "text": [
      "狗 σκύλος dog\n",
      "parrot parrot parrot\n",
      "猫 γάτα cat\n",
      "bear bear bear\n"
     ]
    }
   ],
   "source": [
    "class GreekGetter(object):\n",
    "\n",
    "    \"\"\"A simple localizer a la gettext\"\"\"\n",
    "\n",
    "    def __init__(self):\n",
    "        self.trans = dict(dog=\"σκύλος\", cat=\"γάτα\")\n",
    "\n",
    "    def get(self, msgid):\n",
    "        \"\"\"We'll punt if we don't have a translation\"\"\"\n",
    "        return self.trans.get(msgid, str(msgid)) #dict.get(key, default=None)， get()方法返回给定键的值。如果键不可用，则返回默认值None。\n",
    "\n",
    "class ChineseGetter(object):\n",
    "    \"\"\"A simple localizer \"\"\"\n",
    "\n",
    "    def __init__(self):\n",
    "        self.trans = dict(dog=\"狗\", cat=\"猫\")\n",
    "\n",
    "    def get(self, msgid):\n",
    "        \"\"\"We'll punt if we don't have a translation\"\"\"\n",
    "        return self.trans.get(msgid, str(msgid))\n",
    "    \n",
    "    \n",
    "    \n",
    "class EnglishGetter(object):\n",
    "\n",
    "    \"\"\"Simply echoes the msg ids\"\"\"\n",
    "\n",
    "    def get(self, msgid):\n",
    "        return str(msgid)\n",
    "\n",
    "\n",
    "def get_localizer(language):\n",
    "    \"\"\"The factory method\"\"\"\n",
    "    languages = {\"English\":EnglishGetter,\n",
    "                 \"Greek\":GreekGetter,\n",
    "                 \"Chinese\":ChineseGetter\n",
    "                }\n",
    "    return languages.get(language,EnglishGetter)()\n",
    "\n",
    "# Create our localizers\n",
    "c, g ,j = get_localizer(language=\"Chinese\"), get_localizer(language=\"Greek\"),get_localizer(language=\"Japanese\")\n",
    "# Localize some text\n",
    "for msgid in \"dog parrot cat bear\".split():\n",
    "    print(c.get(msgid), g.get(msgid),j.get(msgid))"
   ]
  },
  {
   "cell_type": "markdown",
   "metadata": {
    "deletable": true,
    "editable": true
   },
   "source": [
    "这个例子可以看到python实现工厂方法其实非常简单,只要左右子类有共同的接口,然后使用字典代替其他语言中的switch语句实现分支匹配判断即可"
   ]
  },
  {
   "cell_type": "markdown",
   "metadata": {
    "deletable": true,
    "editable": true
   },
   "source": [
    ">图片\n",
    "\n",
    "![Factory_Method][id]\n",
    "[id]: <pic/[Creation]_Factory.jpg> \"Optional title\"\n"
   ]
  },
  {
   "cell_type": "markdown",
   "metadata": {
    "collapsed": true,
    "deletable": true,
    "editable": true
   },
   "source": [
    "## example 2"
   ]
  },
  {
   "cell_type": "code",
   "execution_count": 1,
   "metadata": {
    "collapsed": false
   },
   "outputs": [
    {
     "name": "stdout",
     "output_type": "stream",
     "text": [
      "Dog eat  Meat Bones\n",
      "Cat eat  Fish Bones\n"
     ]
    }
   ],
   "source": [
    "#coding:utf-8\n",
    "#定义一个用于创建对象的接口，让子类决定实例化哪一个类。工厂方法使一个类的实例化延迟到其子类。\n",
    "#Description:\n",
    "    #1. 定义一个抽象的工厂接口类\n",
    "    #2. 定义一个抽象的产品接口类\n",
    "    #3. 根据需要从产品接口派生产品子类\n",
    "    #4. 对于每一个产品子类，从工厂接口派生工厂子类，负责该产品的创建\n",
    "    #5. 客户端根据实际需要，调用工厂子类，创建所需要的产品。\n",
    "# Elements:\n",
    "\n",
    "class Animal(object):\n",
    "    def eat(self, food):\n",
    "        raise NotImplementedError()\n",
    "\n",
    "class Dog(Animal):\n",
    "    def eat(self, food):\n",
    "        print 'Dog eat ', food\n",
    "\n",
    "class Cat(Animal):\n",
    "    def eat(self, food):\n",
    "        print 'Cat eat ', food\n",
    "\n",
    "class AnimalFactory(object):\n",
    "    def create_animal(self):\n",
    "        raise NotImplementedError()\n",
    "\n",
    "class DogFactory(AnimalFactory):\n",
    "    def create_animal(self):\n",
    "        return Dog()\n",
    "\n",
    "class CatFactory(AnimalFactory):\n",
    "    def create_animal(self):\n",
    "        return Cat()\n",
    "\n",
    "def client():\n",
    "    animal_factory = DogFactory()\n",
    "    animal = animal_factory.create_animal()\n",
    "    animal.eat('Meat Bones')\n",
    "\n",
    "    animal_factory = CatFactory()\n",
    "    animal = animal_factory.create_animal()\n",
    "    animal.eat('Fish Bones')\n",
    "\n",
    "if __name__ == '__main__':\n",
    "    client()\n",
    "    "
   ]
  },
  {
   "cell_type": "code",
   "execution_count": null,
   "metadata": {
    "collapsed": true
   },
   "outputs": [],
   "source": []
  }
 ],
 "metadata": {
  "kernelspec": {
   "display_name": "Python 2",
   "language": "python",
   "name": "python2"
  },
  "language_info": {
   "codemirror_mode": {
    "name": "ipython",
    "version": 2
   },
   "file_extension": ".py",
   "mimetype": "text/x-python",
   "name": "python",
   "nbconvert_exporter": "python",
   "pygments_lexer": "ipython2",
   "version": "2.7.10"
  }
 },
 "nbformat": 4,
 "nbformat_minor": 0
}
