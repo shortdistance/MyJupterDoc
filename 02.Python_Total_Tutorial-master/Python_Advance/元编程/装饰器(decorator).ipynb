{
 "cells": [
  {
   "cell_type": "markdown",
   "metadata": {},
   "source": [
    "# 装饰器(decorator)\n",
    "\n",
    "Python中有一个很有特色的语法糖叫装饰器,它可以用来\"装饰\"一个类或者函数\n",
    "\n",
    "它其实就是这么回事儿:\n",
    "\n",
    "    func(args) = decorator(func(args))\n",
    "    cls(args) = decorator(cls(args))\n",
    "    \n",
    "基本上装饰器可以分成函数装饰器和类装饰器两种,他们原理上是一样的,就是用一个函数包裹住其下面的函数或者类,只是作用对象不同.\n",
    "\n",
    "+ 函数装饰器 在函数定义的时候进行名称重绑定,提供一个逻辑层来管理函数和方法 或随后对它们的调用。\n",
    "+ 类装饰器 在类定义的时候进行名称重绑定,提供一个逻辑层来管理类,或管理随后 调用它们所创建的示例。"
   ]
  },
  {
   "cell_type": "markdown",
   "metadata": {},
   "source": [
    "## 函数装饰器\n",
    "\n",
    "一个最简单的例子"
   ]
  },
  {
   "cell_type": "code",
   "execution_count": 1,
   "metadata": {
    "collapsed": true
   },
   "outputs": [],
   "source": [
    "def 开头结尾(func):\n",
    "    print(func.__name__+\"开始运行\")\n",
    "    func()\n",
    "    print(func.__name__+\"运行好了\")"
   ]
  },
  {
   "cell_type": "code",
   "execution_count": 2,
   "metadata": {
    "collapsed": false
   },
   "outputs": [
    {
     "name": "stdout",
     "output_type": "stream",
     "text": [
      "a开始运行\n",
      "a运行了\n",
      "a运行好了\n"
     ]
    }
   ],
   "source": [
    "@开头结尾\n",
    "def a():\n",
    "    print(\"a运行了\")"
   ]
  },
  {
   "cell_type": "markdown",
   "metadata": {},
   "source": [
    "另一种写法是这样:"
   ]
  },
  {
   "cell_type": "code",
   "execution_count": 3,
   "metadata": {
    "collapsed": true
   },
   "outputs": [],
   "source": [
    "class 开头结尾2:\n",
    "    def __init__(self,func):\n",
    "        self.func = func\n",
    "        \n",
    "    def __call__(self,*args):\n",
    "        print(self.func.__name__+\"开始运行\")\n",
    "        result = self.func(*args)\n",
    "        print(self.func.__name__+\"运行好了\")\n",
    "        return result"
   ]
  },
  {
   "cell_type": "code",
   "execution_count": 4,
   "metadata": {
    "collapsed": true
   },
   "outputs": [],
   "source": [
    "@开头结尾2\n",
    "def a(*args):\n",
    "    print(\"a运行了\")\n",
    "    return sum(args)"
   ]
  },
  {
   "cell_type": "code",
   "execution_count": 5,
   "metadata": {
    "collapsed": false
   },
   "outputs": [
    {
     "name": "stdout",
     "output_type": "stream",
     "text": [
      "a开始运行\n",
      "a运行了\n",
      "a运行好了\n"
     ]
    },
    {
     "data": {
      "text/plain": [
       "30"
      ]
     },
     "execution_count": 5,
     "metadata": {},
     "output_type": "execute_result"
    }
   ],
   "source": [
    "a(10,20)"
   ]
  },
  {
   "cell_type": "markdown",
   "metadata": {},
   "source": [
    "当然更加通用的写法是这样(闭包):"
   ]
  },
  {
   "cell_type": "code",
   "execution_count": 6,
   "metadata": {
    "collapsed": true
   },
   "outputs": [],
   "source": [
    "def 开头结尾3(func):\n",
    "    print(func.__name__+\"载入了\")\n",
    "    def wrapper(*args):\n",
    "        print(func.__name__+\"开始运行\")\n",
    "        result = func(*args)\n",
    "        print(func.__name__+\"运行结束\")\n",
    "        return result\n",
    "    \n",
    "    return wrapper"
   ]
  },
  {
   "cell_type": "code",
   "execution_count": 7,
   "metadata": {
    "collapsed": false
   },
   "outputs": [
    {
     "name": "stdout",
     "output_type": "stream",
     "text": [
      "a载入了\n"
     ]
    }
   ],
   "source": [
    "@开头结尾3\n",
    "def a(*args):\n",
    "    print(\"a运行了\")\n",
    "    return sum(args)"
   ]
  },
  {
   "cell_type": "code",
   "execution_count": 8,
   "metadata": {
    "collapsed": false
   },
   "outputs": [
    {
     "name": "stdout",
     "output_type": "stream",
     "text": [
      "a开始运行\n",
      "a运行了\n",
      "a运行结束\n"
     ]
    },
    {
     "data": {
      "text/plain": [
       "6"
      ]
     },
     "execution_count": 8,
     "metadata": {},
     "output_type": "execute_result"
    }
   ],
   "source": [
    "a(1,2,3)"
   ]
  },
  {
   "cell_type": "markdown",
   "metadata": {},
   "source": [
    "写个有实际作用的装饰器吧,\n",
    "\n",
    "例:编写一个可以记录函数调用次数的函数装饰器"
   ]
  },
  {
   "cell_type": "code",
   "execution_count": 9,
   "metadata": {
    "collapsed": true
   },
   "outputs": [],
   "source": [
    "def 调用计数君(func):\n",
    "    count = 0\n",
    "    def wrapper(*args,**kws):\n",
    "        nonlocal count\n",
    "        print(\"调用过\",count,\"次\")\n",
    "        count +=1\n",
    "        return func(*args,**kws)\n",
    "    return wrapper"
   ]
  },
  {
   "cell_type": "code",
   "execution_count": 10,
   "metadata": {
    "collapsed": true
   },
   "outputs": [],
   "source": [
    "@调用计数君\n",
    "def mul(*args):\n",
    "    from operator import mul\n",
    "    from functools import reduce\n",
    "    return reduce(mul, range(1, 10))"
   ]
  },
  {
   "cell_type": "code",
   "execution_count": 11,
   "metadata": {
    "collapsed": false
   },
   "outputs": [
    {
     "name": "stdout",
     "output_type": "stream",
     "text": [
      "调用过 0 次\n"
     ]
    }
   ],
   "source": [
    "a = mul(1,2,3)"
   ]
  },
  {
   "cell_type": "code",
   "execution_count": 12,
   "metadata": {
    "collapsed": false
   },
   "outputs": [
    {
     "name": "stdout",
     "output_type": "stream",
     "text": [
      "调用过 1 次\n"
     ]
    }
   ],
   "source": [
    "b = mul(4,7,8)"
   ]
  },
  {
   "cell_type": "markdown",
   "metadata": {},
   "source": [
    ">例:写一个装饰器,计算函数的执行时间"
   ]
  },
  {
   "cell_type": "code",
   "execution_count": 13,
   "metadata": {
    "collapsed": true
   },
   "outputs": [],
   "source": [
    "def 计时君1(func,label = \"==>\"):\n",
    "    print(\"计时君准备好啦~\")\n",
    "    def wrapper(*args,**kws):\n",
    "        nonlocal label\n",
    "        totaltime = []\n",
    "        print(\"开始计时\")\n",
    "        for i in range(1000):\n",
    "            import datetime\n",
    "            start = datetime.datetime.now()\n",
    "            result = func(*args,**kws)\n",
    "            end = datetime.datetime.now()\n",
    "            time = end - start\n",
    "            totaltime.append(time.microseconds)\n",
    "        mean = sum(totaltime)/1000\n",
    "        print(\"计时结束\")\n",
    "        print(\"共计用时\",label,mean,\"ms\")\n",
    "        return result\n",
    "    return wrapper"
   ]
  },
  {
   "cell_type": "code",
   "execution_count": 14,
   "metadata": {
    "collapsed": false
   },
   "outputs": [
    {
     "name": "stdout",
     "output_type": "stream",
     "text": [
      "计时君准备好啦~\n"
     ]
    }
   ],
   "source": [
    "@计时君1\n",
    "def f_o_r(n):\n",
    "    return sum(range(n))\n",
    "    "
   ]
  },
  {
   "cell_type": "code",
   "execution_count": 15,
   "metadata": {
    "collapsed": false
   },
   "outputs": [
    {
     "name": "stdout",
     "output_type": "stream",
     "text": [
      "开始计时\n",
      "计时结束\n",
      "共计用时 ==> 1924.359 ms\n"
     ]
    },
    {
     "data": {
      "text/plain": [
       "799980000"
      ]
     },
     "execution_count": 15,
     "metadata": {},
     "output_type": "execute_result"
    }
   ],
   "source": [
    "f_o_r(40000)"
   ]
  },
  {
   "cell_type": "markdown",
   "metadata": {},
   "source": [
    "## 类装饰器\n",
    "\n",
    "我们来定义一个单例类型装饰器:"
   ]
  },
  {
   "cell_type": "code",
   "execution_count": 16,
   "metadata": {
    "collapsed": true
   },
   "outputs": [],
   "source": [
    "def 单例类型(cls):\n",
    "    实例 = None\n",
    "    def wrapper(*args):\n",
    "        nonlocal 实例\n",
    "        if 实例 ==None:\n",
    "            实例 = cls(*args)\n",
    "        return 实例\n",
    "    return wrapper"
   ]
  },
  {
   "cell_type": "code",
   "execution_count": 17,
   "metadata": {
    "collapsed": true
   },
   "outputs": [],
   "source": [
    "@单例类型\n",
    "class People:\n",
    "    def __init__(self,name):\n",
    "        self.name = name\n",
    "    def play(self):\n",
    "        print(self.name,\"playing\")\n",
    "    "
   ]
  },
  {
   "cell_type": "code",
   "execution_count": 18,
   "metadata": {
    "collapsed": true
   },
   "outputs": [],
   "source": [
    "tom = People(\"tom\")"
   ]
  },
  {
   "cell_type": "code",
   "execution_count": 19,
   "metadata": {
    "collapsed": true
   },
   "outputs": [],
   "source": [
    "JoJo=People(\"JoJo\")#可以创建,但不会改变实例内容"
   ]
  },
  {
   "cell_type": "code",
   "execution_count": 20,
   "metadata": {
    "collapsed": false
   },
   "outputs": [
    {
     "data": {
      "text/plain": [
       "'tom'"
      ]
     },
     "execution_count": 20,
     "metadata": {},
     "output_type": "execute_result"
    }
   ],
   "source": [
    "tom.name"
   ]
  },
  {
   "cell_type": "code",
   "execution_count": 21,
   "metadata": {
    "collapsed": false
   },
   "outputs": [
    {
     "data": {
      "text/plain": [
       "'tom'"
      ]
     },
     "execution_count": 21,
     "metadata": {},
     "output_type": "execute_result"
    }
   ],
   "source": [
    "JoJo.name"
   ]
  },
  {
   "cell_type": "markdown",
   "metadata": {},
   "source": [
    "> 例:写一个可以追踪类中元素被调用情况的装饰器"
   ]
  },
  {
   "cell_type": "code",
   "execution_count": 22,
   "metadata": {
    "collapsed": true
   },
   "outputs": [],
   "source": [
    "def 追踪君(cls):\n",
    "    class Wrapper:\n",
    "        def __init__(self,*args,**kws):\n",
    "            self.fetches = 0\n",
    "            self.wrapped = cls(*args,**kws)\n",
    "        def __getattr__(self,attrname):\n",
    "            print(\"追踪君:\",attrname)\n",
    "            self.fetches += 1\n",
    "            return getattr(self.wrapped,attrname)\n",
    "    return Wrapper"
   ]
  },
  {
   "cell_type": "code",
   "execution_count": 23,
   "metadata": {
    "collapsed": true
   },
   "outputs": [],
   "source": [
    "@追踪君\n",
    "class A:\n",
    "    def display(self): \n",
    "        print('欧拉!' * 8)"
   ]
  },
  {
   "cell_type": "code",
   "execution_count": 24,
   "metadata": {
    "collapsed": true
   },
   "outputs": [],
   "source": [
    "@追踪君\n",
    "class Person:\n",
    "    def __init__(self,name):\n",
    "        self.name = name\n",
    "    def play(self):\n",
    "        print(self.name,\"playing\")"
   ]
  },
  {
   "cell_type": "code",
   "execution_count": 25,
   "metadata": {
    "collapsed": true
   },
   "outputs": [],
   "source": [
    "a =A()"
   ]
  },
  {
   "cell_type": "code",
   "execution_count": 26,
   "metadata": {
    "collapsed": false
   },
   "outputs": [
    {
     "name": "stdout",
     "output_type": "stream",
     "text": [
      "追踪君: display\n",
      "欧拉!欧拉!欧拉!欧拉!欧拉!欧拉!欧拉!欧拉!\n"
     ]
    }
   ],
   "source": [
    "a.display()"
   ]
  },
  {
   "cell_type": "code",
   "execution_count": 27,
   "metadata": {
    "collapsed": false
   },
   "outputs": [
    {
     "data": {
      "text/plain": [
       "1"
      ]
     },
     "execution_count": 27,
     "metadata": {},
     "output_type": "execute_result"
    }
   ],
   "source": [
    "a.fetches"
   ]
  },
  {
   "cell_type": "code",
   "execution_count": 28,
   "metadata": {
    "collapsed": true
   },
   "outputs": [],
   "source": [
    "JoJo = Person(\"JoJo\")"
   ]
  },
  {
   "cell_type": "code",
   "execution_count": 29,
   "metadata": {
    "collapsed": true
   },
   "outputs": [],
   "source": [
    "Dio = Person(\"Dio\")"
   ]
  },
  {
   "cell_type": "code",
   "execution_count": 30,
   "metadata": {
    "collapsed": false
   },
   "outputs": [
    {
     "name": "stdout",
     "output_type": "stream",
     "text": [
      "追踪君: name\n"
     ]
    },
    {
     "data": {
      "text/plain": [
       "'JoJo'"
      ]
     },
     "execution_count": 30,
     "metadata": {},
     "output_type": "execute_result"
    }
   ],
   "source": [
    "JoJo.name"
   ]
  },
  {
   "cell_type": "code",
   "execution_count": 31,
   "metadata": {
    "collapsed": false
   },
   "outputs": [
    {
     "name": "stdout",
     "output_type": "stream",
     "text": [
      "追踪君: play\n",
      "JoJo playing\n"
     ]
    }
   ],
   "source": [
    "JoJo.play()"
   ]
  },
  {
   "cell_type": "code",
   "execution_count": 32,
   "metadata": {
    "collapsed": false
   },
   "outputs": [
    {
     "data": {
      "text/plain": [
       "2"
      ]
     },
     "execution_count": 32,
     "metadata": {},
     "output_type": "execute_result"
    }
   ],
   "source": [
    "JoJo.fetches"
   ]
  },
  {
   "cell_type": "code",
   "execution_count": 33,
   "metadata": {
    "collapsed": false
   },
   "outputs": [
    {
     "name": "stdout",
     "output_type": "stream",
     "text": [
      "追踪君: play\n",
      "Dio playing\n"
     ]
    }
   ],
   "source": [
    "Dio.play()"
   ]
  },
  {
   "cell_type": "code",
   "execution_count": 34,
   "metadata": {
    "collapsed": false
   },
   "outputs": [
    {
     "data": {
      "text/plain": [
       "1"
      ]
     },
     "execution_count": 34,
     "metadata": {},
     "output_type": "execute_result"
    }
   ],
   "source": [
    "Dio.fetches"
   ]
  },
  {
   "cell_type": "markdown",
   "metadata": {},
   "source": [
    "## 带参数的装饰器\n",
    "\n",
    "装饰器是可以带参数的"
   ]
  },
  {
   "cell_type": "code",
   "execution_count": 4,
   "metadata": {
    "collapsed": true
   },
   "outputs": [],
   "source": [
    "def deco(*dargs):# 装饰器的参数\n",
    "    def getfunc(func):#被装饰的函数\n",
    "        def swap(*args):#函数的参数\n",
    "            return func(*args)+sum(dargs)\n",
    "        return swap\n",
    "   \n",
    "    return getfunc"
   ]
  },
  {
   "cell_type": "code",
   "execution_count": 5,
   "metadata": {
    "collapsed": false
   },
   "outputs": [],
   "source": [
    "@deco(1,2,3)\n",
    "def add(x,y,z):\n",
    "    return x+y+z"
   ]
  },
  {
   "cell_type": "code",
   "execution_count": 6,
   "metadata": {
    "collapsed": false
   },
   "outputs": [
    {
     "data": {
      "text/plain": [
       "21"
      ]
     },
     "execution_count": 6,
     "metadata": {},
     "output_type": "execute_result"
    }
   ],
   "source": [
    "add(4,5,6)"
   ]
  },
  {
   "cell_type": "markdown",
   "metadata": {},
   "source": [
    "就像大多数语言功能一样,装饰器也有优点和缺点。例如,从负面的角度讲,类装饰器 有两个潜在的缺陷:\n",
    "\n",
    "+ 类型修改\n",
    "\n",
    "    正如我们所见到的,当插入包装器的时候,一个装饰器函数或类不会保持其最初的 类型——其名称重新绑定到一个包装器对象,在使用对象名称或测试对象类型的程 序中,这可能会很重要。在单体的例子中,装饰器和管理函数的方法都为实例保持 了最初的类类型;在跟踪器的代码中,没有一种方法这么做,因为需要有包装器。\n",
    "\n",
    "+ 额外调用\n",
    "\n",
    "    通过装饰添加一个包装层,在每次调用装饰对象的时候,会引发一次额外调用所需 的额外性能成本——调用是相对耗费时间的操作,因此,装饰包装器可能会使程序 变慢。在跟踪器代码中,两种方法都需要每个属性通过一个包装器层来指向;单体 的示例通过保持最初的类类型而避免了额外调用。\n",
    "    \n",
    "装饰器有3个主要优点。与前面小节的管理器 (即辅助)函数解决方案相比,装饰器提供:\n",
    "\n",
    "+ 明确的语法\n",
    "\n",
    "    装饰器使得扩展明确而显然。它们的@比可能在源文件中任何地方出现的特殊代码 要容易识别,例如,在单体和跟踪器实例中,装饰器行似乎比额外代码更容易被注 意到。此外,装饰器允许函数和实例创建调用使用所有P y t h o n程序员所熟悉的常规语法。\n",
    "\n",
    "+ 代码可维护性\n",
    "\n",
    "    装饰器避免了在每个函数或类调用中重复扩展的代码。由于它们只出现一次,在类 或者函数自身的定义中,它们排除了冗余性并简化了未来的代码维护。对于我们的 单体和跟踪器示例,要使用管理器函数的方法,我们需要在每次调用的时候使用特 殊的代码——最初以及未来必须做出的任何修改都需要额外的工作。\n",
    "\n",
    "+ 一致性\n",
    "\n",
    "    装饰器使得程序员忘记使用必需的包装逻辑的可能性大大减少。这主要得益于两个 优点——由于装饰是显式的并且只出现一次,出现在装饰的对象自身中,与必须包 含在每次调用中的特殊代码相比较,装饰器促进了更加一致和统一的A P I使用。例 如,在单体示例中,可能更容易忘了通过特殊代码来执行所有类创建调用,而这将 会破坏单体的一致性管理。"
   ]
  }
 ],
 "metadata": {
  "kernelspec": {
   "display_name": "Python 3",
   "language": "python",
   "name": "python3"
  },
  "language_info": {
   "codemirror_mode": {
    "name": "ipython",
    "version": 3
   },
   "file_extension": ".py",
   "mimetype": "text/x-python",
   "name": "python",
   "nbconvert_exporter": "python",
   "pygments_lexer": "ipython3",
   "version": "3.5.1"
  }
 },
 "nbformat": 4,
 "nbformat_minor": 0
}
