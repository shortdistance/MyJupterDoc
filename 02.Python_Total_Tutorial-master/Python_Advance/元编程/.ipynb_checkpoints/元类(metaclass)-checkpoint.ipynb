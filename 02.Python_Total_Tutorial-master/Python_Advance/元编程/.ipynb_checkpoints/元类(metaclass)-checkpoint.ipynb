{
 "cells": [
  {
   "cell_type": "markdown",
   "metadata": {},
   "source": [
    "# 元类(metaclass)\n",
    "\n",
    "我们都知道Python中啥都是类,那元类有是啥呢?元类可以理解为定义类的类.不过按这个逻辑不就没完没了了么,还好Python只有一层元类,这样复杂度还算可控,像ruby啥的就没完没了了.\n",
    "\n",
    "基本上Python中类型机制是这样:\n",
    "\n",
    "元类(metaclass)==>类(class)==>实例(instance)\n",
    "\n",
    "一般我们只用到类和实例就很够用了.\n",
    "\n",
    "那为啥要有元类,他有啥用呢?先说说作用:\n",
    "\n",
    "+ 自由的、动态的修改/增加/删除 类的或者实例中的方法或者属性\n",
    "+ 批量的对某些方法使用decorator，而不需要每次都在方法的上面加入@decorator_func\n",
    "+ 当引入第三方库的时候，如果该库某些类需要patch的时候可以用metaclass\n",
    "+ 可以用于序列化(参见yaml这个库的实现，我没怎么仔细看）\n",
    "+ 提供接口注册，接口格式检查等\n",
    "+ 自动委托(auto delegate)\n",
    "...\n",
    "\n",
    "那为啥要有个元类呢?\n",
    "\n",
    "这就和Python的类型系统有关了,我们定义类一般式这样吧:"
   ]
  },
  {
   "cell_type": "code",
   "execution_count": 1,
   "metadata": {
    "collapsed": true
   },
   "outputs": [],
   "source": [
    "class A(object):\n",
    "    a=0"
   ]
  },
  {
   "cell_type": "code",
   "execution_count": 2,
   "metadata": {
    "collapsed": false
   },
   "outputs": [
    {
     "data": {
      "text/plain": [
       "['__class__',\n",
       " '__delattr__',\n",
       " '__dict__',\n",
       " '__dir__',\n",
       " '__doc__',\n",
       " '__eq__',\n",
       " '__format__',\n",
       " '__ge__',\n",
       " '__getattribute__',\n",
       " '__gt__',\n",
       " '__hash__',\n",
       " '__init__',\n",
       " '__le__',\n",
       " '__lt__',\n",
       " '__module__',\n",
       " '__ne__',\n",
       " '__new__',\n",
       " '__reduce__',\n",
       " '__reduce_ex__',\n",
       " '__repr__',\n",
       " '__setattr__',\n",
       " '__sizeof__',\n",
       " '__str__',\n",
       " '__subclasshook__',\n",
       " '__weakref__',\n",
       " 'a']"
      ]
     },
     "execution_count": 2,
     "metadata": {},
     "output_type": "execute_result"
    }
   ],
   "source": [
    "dir(A)"
   ]
  },
  {
   "cell_type": "markdown",
   "metadata": {},
   "source": [
    "我们呢继承了object作为基类,创建了一个叫A的类,好像是这样,然而其实呢真相是这样的"
   ]
  },
  {
   "cell_type": "code",
   "execution_count": 3,
   "metadata": {
    "collapsed": false
   },
   "outputs": [],
   "source": [
    "B = type(\"B\",(object,),{\"b\":1})"
   ]
  },
  {
   "cell_type": "code",
   "execution_count": 4,
   "metadata": {
    "collapsed": false
   },
   "outputs": [
    {
     "data": {
      "text/plain": [
       "['__class__',\n",
       " '__delattr__',\n",
       " '__dict__',\n",
       " '__dir__',\n",
       " '__doc__',\n",
       " '__eq__',\n",
       " '__format__',\n",
       " '__ge__',\n",
       " '__getattribute__',\n",
       " '__gt__',\n",
       " '__hash__',\n",
       " '__init__',\n",
       " '__le__',\n",
       " '__lt__',\n",
       " '__module__',\n",
       " '__ne__',\n",
       " '__new__',\n",
       " '__reduce__',\n",
       " '__reduce_ex__',\n",
       " '__repr__',\n",
       " '__setattr__',\n",
       " '__sizeof__',\n",
       " '__str__',\n",
       " '__subclasshook__',\n",
       " '__weakref__',\n",
       " 'b']"
      ]
     },
     "execution_count": 4,
     "metadata": {},
     "output_type": "execute_result"
    }
   ],
   "source": [
    "dir(B)"
   ]
  },
  {
   "cell_type": "markdown",
   "metadata": {},
   "source": [
    "type(classname,tuple of parent class ,dict of attributs)这个方法可以生成一个type对象,然后把它赋值给一个变量,于是一个新的类就诞生了!\n",
    "\n",
    "也就是说--类也是对象!没错了还真是. 这就是类真正的生成方式.\n",
    "\n",
    "那回到原来的问题,元类又是啥?type()方法就是一个metaclass~~"
   ]
  },
  {
   "cell_type": "code",
   "execution_count": 5,
   "metadata": {
    "collapsed": false
   },
   "outputs": [
    {
     "data": {
      "text/plain": [
       "['__abstractmethods__',\n",
       " '__base__',\n",
       " '__bases__',\n",
       " '__basicsize__',\n",
       " '__call__',\n",
       " '__class__',\n",
       " '__delattr__',\n",
       " '__dict__',\n",
       " '__dictoffset__',\n",
       " '__dir__',\n",
       " '__doc__',\n",
       " '__eq__',\n",
       " '__flags__',\n",
       " '__format__',\n",
       " '__ge__',\n",
       " '__getattribute__',\n",
       " '__gt__',\n",
       " '__hash__',\n",
       " '__init__',\n",
       " '__instancecheck__',\n",
       " '__itemsize__',\n",
       " '__le__',\n",
       " '__lt__',\n",
       " '__module__',\n",
       " '__mro__',\n",
       " '__name__',\n",
       " '__ne__',\n",
       " '__new__',\n",
       " '__prepare__',\n",
       " '__qualname__',\n",
       " '__reduce__',\n",
       " '__reduce_ex__',\n",
       " '__repr__',\n",
       " '__setattr__',\n",
       " '__sizeof__',\n",
       " '__str__',\n",
       " '__subclasscheck__',\n",
       " '__subclasses__',\n",
       " '__subclasshook__',\n",
       " '__text_signature__',\n",
       " '__weakrefoffset__',\n",
       " 'mro']"
      ]
     },
     "execution_count": 5,
     "metadata": {},
     "output_type": "execute_result"
    }
   ],
   "source": [
    "dir(type)"
   ]
  },
  {
   "cell_type": "markdown",
   "metadata": {},
   "source": [
    "看它其实也是个对象...还有个`__call__()`方法.我们就是用这个方法来创建自定义类的.这个过程其实和`int()`创建整形.`str()`创建字符串是一样一样的.那所谓的元类说白了就是这些个对象而已.我们可以自己写个类似的专门用来实现自己的类型\n",
    "\n",
    "记得在之前的<基本类型扩展>一节里面讲过的自定义扩展类型不,其实这个差不多,只是我们继承的是type.\n",
    "\n",
    ">动态的修改/增加/删除 类的或者实例中的方法或者属性"
   ]
  },
  {
   "cell_type": "code",
   "execution_count": 20,
   "metadata": {
    "collapsed": false
   },
   "outputs": [],
   "source": [
    "def ma(cls):  \n",
    "    print('method a')\n",
    "def mb(cls):  \n",
    "    print('method b')  \n",
    "method_dict = {  \n",
    "    'ma': ma,  \n",
    "    'mb': mb,  \n",
    "}  "
   ]
  },
  {
   "cell_type": "code",
   "execution_count": 21,
   "metadata": {
    "collapsed": true
   },
   "outputs": [],
   "source": [
    "class DynamicMethod(type):  \n",
    "    def __new__(cls, name, bases, dct):  \n",
    "        if name[:3] == 'Abc':  \n",
    "            dct.update(method_dict)  \n",
    "        return type.__new__(cls, name, bases, dct)  \n",
    "  \n",
    "    def __init__(cls, name, bases, dct):  \n",
    "        super(DynamicMethod, cls).__init__(name, bases, dct)  \n",
    "  "
   ]
  },
  {
   "cell_type": "code",
   "execution_count": 22,
   "metadata": {
    "collapsed": false
   },
   "outputs": [],
   "source": [
    "class AbcTest(object,metaclass=DynamicMethod):  \n",
    "    def mc(self, x):  \n",
    "        print(x * 3)"
   ]
  },
  {
   "cell_type": "code",
   "execution_count": 23,
   "metadata": {
    "collapsed": true
   },
   "outputs": [],
   "source": [
    "class NotAbc(object,metaclass=DynamicMethod):  \n",
    "    def md(self, x):  \n",
    "        print(x * 3)  "
   ]
  },
  {
   "cell_type": "code",
   "execution_count": 24,
   "metadata": {
    "collapsed": false
   },
   "outputs": [],
   "source": [
    "def main():  \n",
    "    a = AbcTest()  \n",
    "    a.mc(3)  \n",
    "    a.ma()  \n",
    "    print(dir(a)) \n",
    "  \n",
    "    b = NotAbc()  \n",
    "    print(dir(b)) "
   ]
  },
  {
   "cell_type": "code",
   "execution_count": 25,
   "metadata": {
    "collapsed": false
   },
   "outputs": [
    {
     "name": "stdout",
     "output_type": "stream",
     "text": [
      "9\n",
      "method a\n",
      "['__class__', '__delattr__', '__dict__', '__dir__', '__doc__', '__eq__', '__format__', '__ge__', '__getattribute__', '__gt__', '__hash__', '__init__', '__le__', '__lt__', '__module__', '__ne__', '__new__', '__reduce__', '__reduce_ex__', '__repr__', '__setattr__', '__sizeof__', '__str__', '__subclasshook__', '__weakref__', 'ma', 'mb', 'mc']\n",
      "['__class__', '__delattr__', '__dict__', '__dir__', '__doc__', '__eq__', '__format__', '__ge__', '__getattribute__', '__gt__', '__hash__', '__init__', '__le__', '__lt__', '__module__', '__ne__', '__new__', '__reduce__', '__reduce_ex__', '__repr__', '__setattr__', '__sizeof__', '__str__', '__subclasshook__', '__weakref__', 'md']\n"
     ]
    }
   ],
   "source": [
    "main()"
   ]
  },
  {
   "cell_type": "markdown",
   "metadata": {},
   "source": [
    "注意,这是python3中的写法,在python2中这样写"
   ]
  },
  {
   "cell_type": "markdown",
   "metadata": {},
   "source": [
    "\n",
    "    class AbcTest(object):  \n",
    "        __metaclass__=DynamicMethod\n",
    "        def mc(self, x):  \n",
    "            print(x * 3)"
   ]
  },
  {
   "cell_type": "markdown",
   "metadata": {},
   "source": [
    "这个例子中我们利用元类和方法的动态绑定,根据类的名字判断了它需不需要绑定特定的方法,同理,可以通过第四个参数dct中的值来判断是否需要给一些方法绑定装饰器.很酷吧\n"
   ]
  },
  {
   "cell_type": "markdown",
   "metadata": {},
   "source": [
    "> 实现方法自动绑定计数器"
   ]
  },
  {
   "cell_type": "code",
   "execution_count": 33,
   "metadata": {
    "collapsed": true
   },
   "outputs": [],
   "source": [
    "def counter(func):\n",
    "    count = 0\n",
    "    def wrapper(*args,**kws):\n",
    "        nonlocal count\n",
    "        print(\"调用过\",count,\"次\")\n",
    "        count +=1\n",
    "        return func(*args,**kws)\n",
    "    return wrapper"
   ]
  },
  {
   "cell_type": "code",
   "execution_count": 42,
   "metadata": {
    "collapsed": false
   },
   "outputs": [],
   "source": [
    "class CounterDecorator(type):  \n",
    "    def __new__(cls, name, bases, dct):  \n",
    "        for name, value in dct.items():  \n",
    "            from types import FunctionType  \n",
    "            if name not in ('__metaclass__', '__init__', '__module__') and type(value) == FunctionType:  \n",
    "                value = counter(value)  \n",
    "  \n",
    "            dct[name] = value  \n",
    "        return type.__new__(cls, name, bases, dct)  \n",
    "    \n",
    "    \n",
    "class Operation(object,metaclass = CounterDecorator):  \n",
    "  \n",
    "    def sum_(self, *args):  \n",
    "        print(sum(args)) \n",
    "        \n",
    "    def mul_(self,*args):\n",
    "        from functools import reduce\n",
    "        print(reduce(lambda x,y:x*y,args,1))"
   ]
  },
  {
   "cell_type": "code",
   "execution_count": 43,
   "metadata": {
    "collapsed": true
   },
   "outputs": [],
   "source": [
    "op = Operation() "
   ]
  },
  {
   "cell_type": "code",
   "execution_count": 44,
   "metadata": {
    "collapsed": false
   },
   "outputs": [
    {
     "name": "stdout",
     "output_type": "stream",
     "text": [
      "调用过 0 次\n",
      "15\n"
     ]
    }
   ],
   "source": [
    "op.sum_(1,2,3,4,5)"
   ]
  },
  {
   "cell_type": "code",
   "execution_count": 45,
   "metadata": {
    "collapsed": false
   },
   "outputs": [
    {
     "name": "stdout",
     "output_type": "stream",
     "text": [
      "调用过 1 次\n",
      "6\n"
     ]
    }
   ],
   "source": [
    "op.sum_(1,2,3)"
   ]
  },
  {
   "cell_type": "code",
   "execution_count": 46,
   "metadata": {
    "collapsed": false
   },
   "outputs": [
    {
     "name": "stdout",
     "output_type": "stream",
     "text": [
      "调用过 0 次\n",
      "6\n"
     ]
    }
   ],
   "source": [
    "op.mul_(1,2,3)"
   ]
  },
  {
   "cell_type": "code",
   "execution_count": 47,
   "metadata": {
    "collapsed": false
   },
   "outputs": [
    {
     "name": "stdout",
     "output_type": "stream",
     "text": [
      "调用过 1 次\n",
      "6\n"
     ]
    }
   ],
   "source": [
    "op.mul_(2,3)"
   ]
  },
  {
   "cell_type": "markdown",
   "metadata": {},
   "source": [
    "这种形式好处就是不用每个方法给打个装饰器了"
   ]
  },
  {
   "cell_type": "markdown",
   "metadata": {},
   "source": [
    "> 打monkey-path"
   ]
  },
  {
   "cell_type": "code",
   "execution_count": 52,
   "metadata": {
    "collapsed": false
   },
   "outputs": [
    {
     "name": "stdout",
     "output_type": "stream",
     "text": [
      "this is a method patched for class A\n",
      "i am A object\n",
      "['__class__', '__delattr__', '__dict__', '__dir__', '__doc__', '__eq__', '__format__', '__ge__', '__getattribute__', '__gt__', '__hash__', '__init__', '__le__', '__lt__', '__module__', '__ne__', '__new__', '__reduce__', '__reduce_ex__', '__repr__', '__setattr__', '__sizeof__', '__str__', '__subclasshook__', '__weakref__', 'a', 'patcha_method']\n",
      "['__class__', '__delattr__', '__dict__', '__dir__', '__doc__', '__eq__', '__format__', '__ge__', '__getattribute__', '__gt__', '__hash__', '__init__', '__le__', '__lt__', '__module__', '__ne__', '__new__', '__reduce__', '__reduce_ex__', '__repr__', '__setattr__', '__sizeof__', '__str__', '__subclasshook__', '__weakref__', 'a', 'patcha_method']\n"
     ]
    }
   ],
   "source": [
    "#!/usr/bin/python\n",
    "#coding :utf-8\n",
    "\n",
    "def monkey_patch(name, bases, dct):\n",
    "    assert len(bases) == 1\n",
    "    base = bases[0]\n",
    "    for name, value in dct.items():\n",
    "        if name not in ('__module__', '__metaclass__'):\n",
    "            setattr(base, name, value)\n",
    "    return base\n",
    "\n",
    "class A(object):\n",
    "    def a(self):\n",
    "        print('i am A object')\n",
    "\n",
    "\n",
    "class PatchA(A,metaclass = monkey_patch):\n",
    "\n",
    "    def patcha_method(self):\n",
    "        print('this is a method patched for class A')\n",
    "\n",
    "def main():\n",
    "    pa = PatchA()\n",
    "    pa.patcha_method()\n",
    "    pa.a()\n",
    "    print(dir(pa))\n",
    "    print(dir(PatchA))\n",
    "\n",
    "\n",
    "main()\n"
   ]
  },
  {
   "cell_type": "markdown",
   "metadata": {},
   "source": [
    " 通过继承原来的类来实现打补丁"
   ]
  },
  {
   "cell_type": "markdown",
   "metadata": {},
   "source": [
    "> 利用委托模式实现不可变list和不可变dict"
   ]
  },
  {
   "cell_type": "code",
   "execution_count": 53,
   "metadata": {
    "collapsed": true
   },
   "outputs": [],
   "source": [
    "class DelegateMetaClass(type):  \n",
    "    def __new__(cls, name, bases, attrs):  \n",
    "        methods = attrs.pop('delegated_methods', ())   \n",
    "        for m in methods:  \n",
    "            def make_func(m):  \n",
    "                def func(self, *args, **kwargs):  \n",
    "                    return getattr(self.delegate, m)(*args, **kwargs)  \n",
    "                return func  \n",
    "  \n",
    "            attrs[m] = make_func(m)  \n",
    "        return super(DelegateMetaClass, cls).__new__(cls, name, bases, attrs)  \n",
    "\n",
    "    \n",
    "    \n",
    "class Delegate(object,metaclass=DelegateMetaClass):   \n",
    "  \n",
    "    def __init__(self, delegate):  \n",
    "        self.delegate = delegate  "
   ]
  },
  {
   "cell_type": "markdown",
   "metadata": {},
   "source": [
    "以上给出了对需要委托的方法进行的处理"
   ]
  },
  {
   "cell_type": "code",
   "execution_count": 54,
   "metadata": {
    "collapsed": true
   },
   "outputs": [],
   "source": [
    "class ImmutableList(Delegate):  \n",
    "    delegated_methods = ( '__contains__', '__eq__', '__getitem__', '__getslice__',   \n",
    "                         '__str__', '__len__', 'index', 'count')  "
   ]
  },
  {
   "cell_type": "code",
   "execution_count": 55,
   "metadata": {
    "collapsed": true
   },
   "outputs": [],
   "source": [
    "class ImmutableDict(Delegate):  \n",
    "    delegated_methods = ('__contains__', '__getitem__', '__eq__', '__len__', '__str__',   \n",
    "            'get', 'has_key', 'items', 'iteritems', 'iterkeys', 'itervalues', 'keys', 'values')  "
   ]
  },
  {
   "cell_type": "code",
   "execution_count": 60,
   "metadata": {
    "collapsed": false
   },
   "outputs": [
    {
     "name": "stdout",
     "output_type": "stream",
     "text": [
      "1\n",
      "2\n",
      "3\n",
      "4\n"
     ]
    }
   ],
   "source": [
    "il = ImmutableList([1,2,3,4])\n",
    "for i in il:\n",
    "    print(i)"
   ]
  },
  {
   "cell_type": "code",
   "execution_count": 61,
   "metadata": {
    "collapsed": false
   },
   "outputs": [
    {
     "ename": "AttributeError",
     "evalue": "'ImmutableList' object has no attribute 'append'",
     "output_type": "error",
     "traceback": [
      "\u001b[0;31m---------------------------------------------------------------------------\u001b[0m",
      "\u001b[0;31mAttributeError\u001b[0m                            Traceback (most recent call last)",
      "\u001b[0;32m<ipython-input-61-e8d7b6349c1b>\u001b[0m in \u001b[0;36m<module>\u001b[0;34m()\u001b[0m\n\u001b[0;32m----> 1\u001b[0;31m \u001b[0mil\u001b[0m\u001b[0;34m.\u001b[0m\u001b[0mappend\u001b[0m\u001b[0;34m(\u001b[0m\u001b[0;36m5\u001b[0m\u001b[0;34m)\u001b[0m\u001b[0;34m\u001b[0m\u001b[0m\n\u001b[0m",
      "\u001b[0;31mAttributeError\u001b[0m: 'ImmutableList' object has no attribute 'append'"
     ]
    }
   ],
   "source": [
    "il.append(5)"
   ]
  }
 ],
 "metadata": {
  "kernelspec": {
   "display_name": "Python 3",
   "language": "python",
   "name": "python3"
  },
  "language_info": {
   "codemirror_mode": {
    "name": "ipython",
    "version": 3
   },
   "file_extension": ".py",
   "mimetype": "text/x-python",
   "name": "python",
   "nbconvert_exporter": "python",
   "pygments_lexer": "ipython3",
   "version": "3.5.1"
  }
 },
 "nbformat": 4,
 "nbformat_minor": 0
}
