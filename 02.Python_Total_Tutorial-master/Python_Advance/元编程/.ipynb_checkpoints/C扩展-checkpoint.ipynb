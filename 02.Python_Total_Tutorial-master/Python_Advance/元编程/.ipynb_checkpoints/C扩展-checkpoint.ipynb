{
 "cells": [
  {
   "cell_type": "markdown",
   "metadata": {},
   "source": [
    "# C 扩展 \n",
    "\n",
    "Python是C写的,许多时候他被作为浇水语言,与C联合使用,在一般的时候,Python的性能已经足够了,但有时候性能不够我们就需要C来扩展了.\n",
    "\n",
    "我们来看看python写的原型:"
   ]
  },
  {
   "cell_type": "code",
   "execution_count": 1,
   "metadata": {
    "collapsed": true
   },
   "outputs": [],
   "source": [
    "def fac(n):\n",
    "    if n<2 :\n",
    "        return 1\n",
    "    return n*fac(n-1)"
   ]
  },
  {
   "cell_type": "code",
   "execution_count": 3,
   "metadata": {
    "collapsed": false
   },
   "outputs": [
    {
     "name": "stdout",
     "output_type": "stream",
     "text": [
      "The slowest run took 4.77 times longer than the fastest. This could mean that an intermediate result is being cached \n",
      "100000 loops, best of 3: 3.81 µs per loop\n"
     ]
    }
   ],
   "source": [
    "%timeit fac(20)#python2"
   ]
  },
  {
   "cell_type": "code",
   "execution_count": 2,
   "metadata": {
    "collapsed": false
   },
   "outputs": [
    {
     "name": "stdout",
     "output_type": "stream",
     "text": [
      "The slowest run took 365.23 times longer than the fastest. This could mean that an intermediate result is being cached.\n",
      "1000000 loops, best of 3: 920 ns per loop\n"
     ]
    }
   ],
   "source": [
    "%timeit fac(20)#pypy"
   ]
  },
  {
   "cell_type": "markdown",
   "metadata": {},
   "source": [
    "##  官方给的标准写扩展的c程序"
   ]
  },
  {
   "cell_type": "code",
   "execution_count": 1,
   "metadata": {
    "collapsed": false
   },
   "outputs": [
    {
     "name": "stdout",
     "output_type": "stream",
     "text": [
      "Writing Extest.c\n"
     ]
    }
   ],
   "source": [
    "%%writefile Extest.c\n",
    "#include <stdio.h>\n",
    "#include <stdlib.h>\n",
    "#include <string.h>\n",
    "\n",
    "#define BUFSIZE 10\n",
    "\n",
    "int fac(int n) {\n",
    "    if (n < 2)\n",
    "        return 1;\n",
    "    return n * fac(n - 1);\n",
    "}\n",
    "\n",
    "char *reverse(char *s) {\n",
    "    register char t;\n",
    "    char *p = s;\n",
    "    char *q = (s + (strlen(s) - 1));\n",
    "    while (p < q) {\n",
    "        t = *p;\n",
    "        *p++ = *q;\n",
    "        *q-- = t;\n",
    "    }\n",
    "    return s;\n",
    "}\n",
    "\n",
    "int main() {\n",
    "    char s[BUFSIZE];\n",
    "    printf(\"4! == %d\\n\", fac(4));\n",
    "    printf(\"8! == %d\\n\", fac(8));\n",
    "    printf(\"12! == %d\\n\", fac(12));\n",
    "    strcpy(s, \"abcdef\");\n",
    "    printf(\"reversing 'abcdef', we get '%s'\\n\", reverse(s));\n",
    "    strcpy(s, \"madam\");\n",
    "    printf(\"reversing 'madam', we get '%s'\\n\", reverse(s));\n",
    "    return 0;\n",
    "}"
   ]
  },
  {
   "cell_type": "code",
   "execution_count": 2,
   "metadata": {
    "collapsed": true
   },
   "outputs": [],
   "source": [
    "!gcc Extest.c -o Extest"
   ]
  },
  {
   "cell_type": "code",
   "execution_count": 3,
   "metadata": {
    "collapsed": false
   },
   "outputs": [
    {
     "name": "stdout",
     "output_type": "stream",
     "text": [
      "4! == 24\r\n",
      "8! == 40320\r\n",
      "12! == 479001600\r\n",
      "reversing 'abcdef', we get 'fedcba'\r\n",
      "reversing 'madam', we get 'madam'\r\n"
     ]
    }
   ],
   "source": [
    "!./Extest"
   ]
  },
  {
   "cell_type": "markdown",
   "metadata": {},
   "source": [
    "在python的include文件夹下的python2.X中找到python.h\n",
    "放到文件夹下,并在上面的c代码中加入\n",
    "\n",
    "    #include \"Python.h\""
   ]
  },
  {
   "cell_type": "code",
   "execution_count": 20,
   "metadata": {
    "collapsed": false
   },
   "outputs": [
    {
     "name": "stdout",
     "output_type": "stream",
     "text": [
      "Overwriting Extest.c\n"
     ]
    }
   ],
   "source": [
    "%%writefile Extest.c\n",
    "#include <stdio.h>\n",
    "#include <stdlib.h>\n",
    "#include <string.h>\n",
    "#include \"Python.h\"\n",
    "#define BUFSIZE 10\n",
    "\n",
    "//原始函数\n",
    "int fac(int n) {\n",
    "    if (n < 2)\n",
    "        return 1;\n",
    "    return n * fac(n - 1);\n",
    "}\n",
    "\n",
    "char *reverse(char *s) {\n",
    "    register char t;\n",
    "    char *p = s;\n",
    "    char *q = (s + (strlen(s) - 1));\n",
    "    while (p < q) {\n",
    "        t = *p;\n",
    "        *p++ = *q;\n",
    "        *q-- = t;\n",
    "    }\n",
    "    return s;\n",
    "}\n",
    "\n",
    "//包装函数,为每个模块的每一个函数增加一个型如PyObject* Module_func()的包装函数\n",
    "\n",
    "static PyObject *\n",
    "Extest_fac(PyObject *self, PyObject *args) {\n",
    "    int res;\n",
    "    int num;\n",
    "    PyObject* retval;\n",
    "\n",
    "    res = PyArg_ParseTuple(args, \"i\", &num);\n",
    "    if (!res) {\n",
    "        return NULL;\n",
    "    }\n",
    "    res = fac(num);\n",
    "    retval = (PyObject *)Py_BuildValue(\"i\", res);\n",
    "    return retval;\n",
    "}\n",
    "\n",
    "static PyObject *\n",
    "Extest_reverse(PyObject *self, PyObject *args) {\n",
    "    char *orignal;\n",
    "    if (!(PyArg_ParseTuple(args, \"s\", &orignal))) {\n",
    "        return NULL;\n",
    "    }\n",
    "    return (PyObject *)Py_BuildValue(\"s\", reverse(orignal));\n",
    "}\n",
    "\n",
    "//可以返回原始字符串和翻转字符串\n",
    "static PyObject *\n",
    "Extest_doppel(PyObject *self, PyObject *args) {\n",
    "    char *orignal;\n",
    "    char *resv;\n",
    "    PyObject *retval;\n",
    "    if (!(PyArg_ParseTuple(args, \"s\", &orignal))) {\n",
    "        return NULL;\n",
    "    }\n",
    "    retval = (PyObject *)Py_BuildValue(\"ss\", orignal, resv=reverse(strdup(orignal)));\n",
    "    free(resv);\n",
    "    return retval;\n",
    "}\n",
    "\n",
    "//注册方法\n",
    "static PyMethodDef \n",
    "ExtestMethods[] = {\n",
    "    {\"fac\", Extest_fac, METH_VARARGS},\n",
    "    {\"doppel\", Extest_doppel, METH_VARARGS},\n",
    "    {\"reverse\", Extest_reverse, METH_VARARGS},\n",
    "    {NULL, NULL},\n",
    "};\n",
    "\n",
    "//初始化模块\n",
    "void initExtest() {\n",
    "    Py_InitModule(\"Extest\", ExtestMethods);\n",
    "}\n",
    "\n",
    "//测试函数\n",
    "\n",
    "int test() {\n",
    "    char s[BUFSIZE];\n",
    "    printf(\"4! == %d\\n\", fac(4));\n",
    "    printf(\"8! == %d\\n\", fac(8));\n",
    "    printf(\"12! == %d\\n\", fac(12));\n",
    "    strcpy(s, \"abcdef\");\n",
    "    printf(\"reversing 'abcdef', we get '%s'\\n\", reverse(s));\n",
    "    strcpy(s, \"madam\");\n",
    "    printf(\"reversing 'madam', we get '%s'\\n\", reverse(s));\n",
    "    return 0;\n",
    "}\n",
    "\n",
    "static PyObject *\n",
    "Extest_test(PyObject *self, PyObject *args) {\n",
    "    test();\n",
    "    //返回空的话，就使用下面这一句 \n",
    "    return (PyObject *)Py_BuildValue(\"\");\n",
    "}\n"
   ]
  },
  {
   "cell_type": "markdown",
   "metadata": {},
   "source": [
    "Python与c中对应类型转换参数表:\n",
    "\n",
    "format code| python type |c type\n",
    "--|--|--\n",
    "s|str|char\\*\n",
    "z|str/None|char\\*/NULL\n",
    "i|int|int\n",
    "l|long|long\n",
    "c|str|char\n",
    "d|float|double\n",
    "D|complex|Py_Complex\\*\n",
    "O|(any)|PyObject\\*\n",
    "S|str|PyStringObject"
   ]
  },
  {
   "cell_type": "markdown",
   "metadata": {},
   "source": [
    "Py_BuildValue的用法表:\n",
    "\n",
    "\n",
    "用法|结果\n",
    "---|---\n",
    "Py_BuildValue(\"\")                       | None\n",
    "Py_BuildValue(\"i\", 123)                  |123\n",
    "Py_BuildValue(\"iii\", 123, 456, 789)     | (123, 456, 789)\n",
    "Py_BuildValue(\"s\", \"hello\")             | 'hello'\n",
    "Py_BuildValue(\"y\", \"hello\")              |b'hello'\n",
    "Py_BuildValue(\"ss\", \"hello\", \"world\")   | ('hello', 'world')\n",
    "Py_BuildValue(\"s#\", \"hello\", 4)        |  'hell'\n",
    "Py_BuildValue(\"y#\", \"hello\", 4)         | b'hell'\n",
    "Py_BuildValue(\"()\")                     | ()\n",
    "Py_BuildValue(\"(i)\", 123)               | (123,)\n",
    "Py_BuildValue(\"(ii)\", 123, 456)          |(123, 456)\n",
    "Py_BuildValue(\"(i,i)\", 123, 456)         |(123, 456)\n",
    "Py_BuildValue(\"[i,i]\", 123, 456)         |[123, 456]\n",
    "Py_BuildValue(\"{s:i,s:i}\",\"abc\", 123, \"def\", 456)    |{'abc': 123, 'def': 456}\n",
    "Py_BuildValue(\"((ii)(ii)) (ii)\",1, 2, 3, 4, 5, 6)          |(((1, 2), (3, 4)), (5, 6))"
   ]
  },
  {
   "cell_type": "markdown",
   "metadata": {},
   "source": [
    ">编译与测试\n",
    ">>创建setup.py"
   ]
  },
  {
   "cell_type": "code",
   "execution_count": 21,
   "metadata": {
    "collapsed": false
   },
   "outputs": [
    {
     "name": "stdout",
     "output_type": "stream",
     "text": [
      "Overwriting setup.py\n"
     ]
    }
   ],
   "source": [
    "%%writefile setup.py\n",
    "#!/usr/bin/env python\n",
    "from distutils.core import setup, Extension\n",
    "MOD = 'Extest'\n",
    "setup(name=MOD, ext_modules=[Extension(MOD, sources=['Extest.c'])])"
   ]
  },
  {
   "cell_type": "markdown",
   "metadata": {},
   "source": [
    ">> 生成.so文件"
   ]
  },
  {
   "cell_type": "code",
   "execution_count": 22,
   "metadata": {
    "collapsed": false
   },
   "outputs": [
    {
     "name": "stdout",
     "output_type": "stream",
     "text": [
      "running build\n",
      "running build_ext\n",
      "building 'Extest' extension\n",
      "gcc -fno-strict-aliasing -I/Users/huangsizhe/Lib/conda/anaconda/include -arch x86_64 -DNDEBUG -g -fwrapv -O3 -Wall -Wstrict-prototypes -I/Users/huangsizhe/Lib/conda/anaconda/include/python2.7 -c Extest.c -o build/temp.macosx-10.5-x86_64-2.7/Extest.o\n",
      "\u001b[1mExtest.c:95:1: \u001b[0m\u001b[0;1;35mwarning: \u001b[0m\u001b[1munused function 'Extest_test' [-Wunused-function]\u001b[0m\n",
      "Extest_test(PyObject *self, PyObject *args) {\n",
      "\u001b[0;1;32m^\n",
      "\u001b[0m1 warning generated.\n",
      "gcc -bundle -undefined dynamic_lookup -L/Users/huangsizhe/Lib/conda/anaconda/lib -arch x86_64 -arch x86_64 build/temp.macosx-10.5-x86_64-2.7/Extest.o -L/Users/huangsizhe/Lib/conda/anaconda/lib -o build/lib.macosx-10.5-x86_64-2.7/Extest.so\n"
     ]
    }
   ],
   "source": [
    "!python setup.py build"
   ]
  },
  {
   "cell_type": "markdown",
   "metadata": {},
   "source": [
    "生成的文件在build文件夹下"
   ]
  },
  {
   "cell_type": "code",
   "execution_count": 23,
   "metadata": {
    "collapsed": false
   },
   "outputs": [
    {
     "name": "stdout",
     "output_type": "stream",
     "text": [
      "build\r\n",
      "build/lib.macosx-10.5-x86_64-2.7\r\n",
      "build/lib.macosx-10.5-x86_64-2.7/Extest.so\r\n",
      "build/temp.macosx-10.5-x86_64-2.7\r\n",
      "build/temp.macosx-10.5-x86_64-2.7/Extest.o\r\n",
      "build/temp.macosx-10.6-intel-3.5\r\n"
     ]
    }
   ],
   "source": [
    "!find build"
   ]
  },
  {
   "cell_type": "markdown",
   "metadata": {},
   "source": [
    ">> 安装模块到第三方库"
   ]
  },
  {
   "cell_type": "code",
   "execution_count": 24,
   "metadata": {
    "collapsed": false
   },
   "outputs": [
    {
     "name": "stdout",
     "output_type": "stream",
     "text": [
      "running install\n",
      "running build\n",
      "running build_ext\n",
      "running install_lib\n",
      "copying build/lib.macosx-10.5-x86_64-2.7/Extest.so -> /Users/huangsizhe/Lib/conda/anaconda/lib/python2.7/site-packages\n",
      "running install_egg_info\n",
      "Removing /Users/huangsizhe/Lib/conda/anaconda/lib/python2.7/site-packages/Extest-0.0.0-py2.7.egg-info\n",
      "Writing /Users/huangsizhe/Lib/conda/anaconda/lib/python2.7/site-packages/Extest-0.0.0-py2.7.egg-info\n"
     ]
    }
   ],
   "source": [
    "!python setup.py install"
   ]
  },
  {
   "cell_type": "markdown",
   "metadata": {},
   "source": [
    ">> 测试使用"
   ]
  },
  {
   "cell_type": "code",
   "execution_count": 1,
   "metadata": {
    "collapsed": false
   },
   "outputs": [],
   "source": [
    "import Extest"
   ]
  },
  {
   "cell_type": "code",
   "execution_count": 27,
   "metadata": {
    "collapsed": false
   },
   "outputs": [
    {
     "data": {
      "text/plain": [
       "('ahl', 'lha')"
      ]
     },
     "execution_count": 27,
     "metadata": {},
     "output_type": "execute_result"
    }
   ],
   "source": [
    "Extest.doppel(\"ahl\")"
   ]
  },
  {
   "cell_type": "code",
   "execution_count": 3,
   "metadata": {
    "collapsed": false
   },
   "outputs": [
    {
     "name": "stdout",
     "output_type": "stream",
     "text": [
      "The slowest run took 13.31 times longer than the fastest. This could mean that an intermediate result is being cached \n",
      "1000000 loops, best of 3: 233 ns per loop\n"
     ]
    }
   ],
   "source": [
    "%timeit Extest.fac(20)"
   ]
  },
  {
   "cell_type": "markdown",
   "metadata": {},
   "source": [
    "这个速度已经相当可观了,大约是pypy的3倍快"
   ]
  },
  {
   "cell_type": "markdown",
   "metadata": {},
   "source": [
    "## pypy的官方C扩展(CFFI)\n",
    "\n",
    "[CFFI](http://cffi.readthedocs.org/en/latest/)是pypy支持的一种c扩展写法,它当然也支持python2,python3,它的特点是c语言嵌入py文件,安装的时候直接编译,不用先预编译成.o文件\n",
    "\n",
    ">看个离线编译的例子"
   ]
  },
  {
   "cell_type": "code",
   "execution_count": 8,
   "metadata": {
    "collapsed": false
   },
   "outputs": [
    {
     "name": "stdout",
     "output_type": "stream",
     "text": [
      "Overwriting example_build.py\n"
     ]
    }
   ],
   "source": [
    "%%writefile example_build.py\n",
    "from cffi import FFI\n",
    "ffi = FFI()\n",
    "ffi.cdef(\"\"\"\n",
    "int fac(int);\n",
    "\"\"\")\n",
    "ffi.set_source(\"_ffitest\",\n",
    "\"\"\"\n",
    "    static int fac(int n) {\n",
    "    if (n < 2)\n",
    "        return 1;\n",
    "    return n * fac(n - 1);\n",
    "}\n",
    "\"\"\")\n",
    "if __name__ == \"__main__\":\n",
    "    ffi.compile()\n"
   ]
  },
  {
   "cell_type": "code",
   "execution_count": 9,
   "metadata": {
    "collapsed": false
   },
   "outputs": [],
   "source": [
    "!pypy example_build.py"
   ]
  },
  {
   "cell_type": "code",
   "execution_count": 10,
   "metadata": {
    "collapsed": false
   },
   "outputs": [],
   "source": [
    "from _example import ffi, lib"
   ]
  },
  {
   "cell_type": "code",
   "execution_count": 11,
   "metadata": {
    "collapsed": false
   },
   "outputs": [],
   "source": [
    "result = lib.add(1,2)"
   ]
  },
  {
   "cell_type": "code",
   "execution_count": 12,
   "metadata": {
    "collapsed": false
   },
   "outputs": [
    {
     "data": {
      "text/plain": [
       "3"
      ]
     },
     "execution_count": 12,
     "metadata": {},
     "output_type": "execute_result"
    }
   ],
   "source": [
    "result"
   ]
  },
  {
   "cell_type": "markdown",
   "metadata": {},
   "source": [
    "> "
   ]
  }
 ],
 "metadata": {
  "kernelspec": {
   "display_name": "Python 2",
   "language": "python",
   "name": "python2"
  },
  "language_info": {
   "codemirror_mode": {
    "name": "ipython",
    "version": 2
   },
   "file_extension": ".py",
   "mimetype": "text/x-python",
   "name": "python",
   "nbconvert_exporter": "python",
   "pygments_lexer": "ipython2",
   "version": "2.7.11"
  }
 },
 "nbformat": 4,
 "nbformat_minor": 0
}
