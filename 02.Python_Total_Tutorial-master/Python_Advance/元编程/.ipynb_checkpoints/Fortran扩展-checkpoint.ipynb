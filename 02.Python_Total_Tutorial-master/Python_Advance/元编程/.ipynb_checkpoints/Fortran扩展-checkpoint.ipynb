{
 "cells": [
  {
   "cell_type": "markdown",
   "metadata": {},
   "source": [
    "fortran是一门活跃于科学计算的古老语言,活跃在科学计算领域,它的执行效率很高.所以也常有人拿他扩展python\n",
    "\n",
    "[f2py](https://sysbio.ioc.ee/projects/f2py2e/)是numpy的一个子项目,它就是用来写fortran扩展的"
   ]
  },
  {
   "cell_type": "code",
   "execution_count": 1,
   "metadata": {
    "collapsed": false
   },
   "outputs": [
    {
     "name": "stdout",
     "output_type": "stream",
     "text": [
      "Writing testfortran.f90\n"
     ]
    }
   ],
   "source": [
    "%%writefile testfortran.f90\n",
    "!SUBROUTINE        \n",
    "      SUBROUTINE ADDSUB(A,B,C,D)  \n",
    "      IMPLICIT NONE  \n",
    "      DOUBLE PRECISION A,B,C,D  \n",
    "!f2py intent(in) :: A,B  \n",
    "!f2py intent(out) :: C,D  \n",
    "      C = A + B  \n",
    "      D = A - B  \n",
    "      print*, \"ADDSUB From Fortran!\"  \n",
    "      print*, \"ADD=\",C  \n",
    "      print*, \"SUB=\",D  \n",
    "      RETURN  \n",
    "      END  "
   ]
  },
  {
   "cell_type": "markdown",
   "metadata": {},
   "source": [
    "    !f2py intent(in) :: A,B  \n",
    "    !f2py intent(out) :: C,D  \n",
    "    \n",
    "在fortran中是注释,而在f2py中是签名,注意签名前面不能有空格"
   ]
  },
  {
   "cell_type": "code",
   "execution_count": 2,
   "metadata": {
    "collapsed": false
   },
   "outputs": [
    {
     "name": "stdout",
     "output_type": "stream",
     "text": [
      "\u001b[39mrunning build\u001b[0m\n",
      "\u001b[39mrunning config_cc\u001b[0m\n",
      "\u001b[39munifing config_cc, config, build_clib, build_ext, build commands --compiler options\u001b[0m\n",
      "\u001b[39mrunning config_fc\u001b[0m\n",
      "\u001b[39munifing config_fc, config, build_clib, build_ext, build commands --fcompiler options\u001b[0m\n",
      "\u001b[39mrunning build_src\u001b[0m\n",
      "\u001b[39mbuild_src\u001b[0m\n",
      "\u001b[39mbuilding extension \"testfortran\" sources\u001b[0m\n",
      "\u001b[39mf2py options: []\u001b[0m\n",
      "\u001b[39mf2py:> /var/folders/2g/vh7qp8xx7px1bplwvcn1fm_h0000gn/T/tmpnmYqYd/src.macosx-10.5-x86_64-2.7/testfortranmodule.c\u001b[0m\n",
      "\u001b[39mcreating /var/folders/2g/vh7qp8xx7px1bplwvcn1fm_h0000gn/T/tmpnmYqYd\u001b[0m\n",
      "\u001b[39mcreating /var/folders/2g/vh7qp8xx7px1bplwvcn1fm_h0000gn/T/tmpnmYqYd/src.macosx-10.5-x86_64-2.7\u001b[0m\n",
      "Reading fortran codes...\n",
      "\tReading file 'testfortran.f90' (format:fix)\n",
      "Post-processing...\n",
      "\tBlock: testfortran\n",
      "\t\t\tBlock: addsub\n",
      "Post-processing (stage 2)...\n",
      "Building modules...\n",
      "\tBuilding module \"testfortran\"...\n",
      "\t\tConstructing wrapper function \"addsub\"...\n",
      "\t\t  c,d = addsub(a,b)\n",
      "\tWrote C/API module \"testfortran\" to file \"/var/folders/2g/vh7qp8xx7px1bplwvcn1fm_h0000gn/T/tmpnmYqYd/src.macosx-10.5-x86_64-2.7/testfortranmodule.c\"\n",
      "\u001b[39m  adding '/var/folders/2g/vh7qp8xx7px1bplwvcn1fm_h0000gn/T/tmpnmYqYd/src.macosx-10.5-x86_64-2.7/fortranobject.c' to sources.\u001b[0m\n",
      "\u001b[39m  adding '/var/folders/2g/vh7qp8xx7px1bplwvcn1fm_h0000gn/T/tmpnmYqYd/src.macosx-10.5-x86_64-2.7' to include_dirs.\u001b[0m\n",
      "\u001b[39mcopying /Users/huangsizhe/Lib/conda/anaconda/lib/python2.7/site-packages/numpy/f2py/src/fortranobject.c -> /var/folders/2g/vh7qp8xx7px1bplwvcn1fm_h0000gn/T/tmpnmYqYd/src.macosx-10.5-x86_64-2.7\u001b[0m\n",
      "\u001b[39mcopying /Users/huangsizhe/Lib/conda/anaconda/lib/python2.7/site-packages/numpy/f2py/src/fortranobject.h -> /var/folders/2g/vh7qp8xx7px1bplwvcn1fm_h0000gn/T/tmpnmYqYd/src.macosx-10.5-x86_64-2.7\u001b[0m\n",
      "\u001b[39mbuild_src: building npy-pkg config files\u001b[0m\n",
      "\u001b[39mrunning build_ext\u001b[0m\n",
      "\u001b[39mcustomize UnixCCompiler\u001b[0m\n",
      "\u001b[39mcustomize UnixCCompiler using build_ext\u001b[0m\n",
      "\u001b[39mcustomize Gnu95FCompiler\u001b[0m\n",
      "\u001b[32mFound executable /usr/local/bin/gfortran\u001b[0m\n",
      "\u001b[39mcustomize Gnu95FCompiler\u001b[0m\n",
      "\u001b[39mcustomize Gnu95FCompiler using build_ext\u001b[0m\n",
      "\u001b[39mbuilding 'testfortran' extension\u001b[0m\n",
      "\u001b[39mcompiling C sources\u001b[0m\n",
      "\u001b[39mC compiler: gcc -fno-strict-aliasing -I/Users/huangsizhe/Lib/conda/anaconda/include -arch x86_64 -DNDEBUG -g -fwrapv -O3 -Wall -Wstrict-prototypes\n",
      "\u001b[0m\n",
      "\u001b[39mcreating /var/folders/2g/vh7qp8xx7px1bplwvcn1fm_h0000gn/T/tmpnmYqYd/var\u001b[0m\n",
      "\u001b[39mcreating /var/folders/2g/vh7qp8xx7px1bplwvcn1fm_h0000gn/T/tmpnmYqYd/var/folders\u001b[0m\n",
      "\u001b[39mcreating /var/folders/2g/vh7qp8xx7px1bplwvcn1fm_h0000gn/T/tmpnmYqYd/var/folders/2g\u001b[0m\n",
      "\u001b[39mcreating /var/folders/2g/vh7qp8xx7px1bplwvcn1fm_h0000gn/T/tmpnmYqYd/var/folders/2g/vh7qp8xx7px1bplwvcn1fm_h0000gn\u001b[0m\n",
      "\u001b[39mcreating /var/folders/2g/vh7qp8xx7px1bplwvcn1fm_h0000gn/T/tmpnmYqYd/var/folders/2g/vh7qp8xx7px1bplwvcn1fm_h0000gn/T\u001b[0m\n",
      "\u001b[39mcreating /var/folders/2g/vh7qp8xx7px1bplwvcn1fm_h0000gn/T/tmpnmYqYd/var/folders/2g/vh7qp8xx7px1bplwvcn1fm_h0000gn/T/tmpnmYqYd\u001b[0m\n",
      "\u001b[39mcreating /var/folders/2g/vh7qp8xx7px1bplwvcn1fm_h0000gn/T/tmpnmYqYd/var/folders/2g/vh7qp8xx7px1bplwvcn1fm_h0000gn/T/tmpnmYqYd/src.macosx-10.5-x86_64-2.7\u001b[0m\n",
      "\u001b[39mcompile options: '-I/var/folders/2g/vh7qp8xx7px1bplwvcn1fm_h0000gn/T/tmpnmYqYd/src.macosx-10.5-x86_64-2.7 -I/Users/huangsizhe/Lib/conda/anaconda/lib/python2.7/site-packages/numpy/core/include -I/Users/huangsizhe/Lib/conda/anaconda/include/python2.7 -c'\u001b[0m\n",
      "\u001b[39mgcc: /var/folders/2g/vh7qp8xx7px1bplwvcn1fm_h0000gn/T/tmpnmYqYd/src.macosx-10.5-x86_64-2.7/fortranobject.c\u001b[0m\n",
      "In file included from /var/folders/2g/vh7qp8xx7px1bplwvcn1fm_h0000gn/T/tmpnmYqYd/src.macosx-10.5-x86_64-2.7/fortranobject.c:2:\n",
      "In file included from /var/folders/2g/vh7qp8xx7px1bplwvcn1fm_h0000gn/T/tmpnmYqYd/src.macosx-10.5-x86_64-2.7/fortranobject.h:13:\n",
      "In file included from /Users/huangsizhe/Lib/conda/anaconda/lib/python2.7/site-packages/numpy/core/include/numpy/arrayobject.h:15:\n",
      "In file included from /Users/huangsizhe/Lib/conda/anaconda/lib/python2.7/site-packages/numpy/core/include/numpy/ndarrayobject.h:17:\n",
      "In file included from /Users/huangsizhe/Lib/conda/anaconda/lib/python2.7/site-packages/numpy/core/include/numpy/ndarraytypes.h:1728:\n",
      "/Users/huangsizhe/Lib/conda/anaconda/lib/python2.7/site-packages/numpy/core/include/numpy/npy_deprecated_api.h:11:2: warning: \"Using deprecated NumPy API, disable it by #defining NPY_NO_DEPRECATED_API NPY_1_7_API_VERSION\" [-W#warnings]\n",
      "#warning \"Using deprecated NumPy API, disable it by #defining NPY_NO_DEPRECATED_API NPY_1_7_API_VERSION\"\n",
      " ^\n",
      "/var/folders/2g/vh7qp8xx7px1bplwvcn1fm_h0000gn/T/tmpnmYqYd/src.macosx-10.5-x86_64-2.7/fortranobject.c:338:30: warning: equality comparison with extraneous parentheses [-Wparentheses-equality]\n",
      "        if ((fp->defs[i].func==NULL)) {\n",
      "             ~~~~~~~~~~~~~~~~^~~~~~\n",
      "/var/folders/2g/vh7qp8xx7px1bplwvcn1fm_h0000gn/T/tmpnmYqYd/src.macosx-10.5-x86_64-2.7/fortranobject.c:338:30: note: remove extraneous parentheses around the comparison to silence this warning\n",
      "        if ((fp->defs[i].func==NULL)) {\n",
      "            ~                ^     ~\n",
      "/var/folders/2g/vh7qp8xx7px1bplwvcn1fm_h0000gn/T/tmpnmYqYd/src.macosx-10.5-x86_64-2.7/fortranobject.c:338:30: note: use '=' to turn this equality comparison into an assignment\n",
      "        if ((fp->defs[i].func==NULL)) {\n",
      "                             ^~\n",
      "                             =\n",
      "2 warnings generated.\n",
      "\u001b[39mgcc: /var/folders/2g/vh7qp8xx7px1bplwvcn1fm_h0000gn/T/tmpnmYqYd/src.macosx-10.5-x86_64-2.7/testfortranmodule.c\u001b[0m\n",
      "In file included from /var/folders/2g/vh7qp8xx7px1bplwvcn1fm_h0000gn/T/tmpnmYqYd/src.macosx-10.5-x86_64-2.7/testfortranmodule.c:17:\n",
      "In file included from /var/folders/2g/vh7qp8xx7px1bplwvcn1fm_h0000gn/T/tmpnmYqYd/src.macosx-10.5-x86_64-2.7/fortranobject.h:13:\n",
      "In file included from /Users/huangsizhe/Lib/conda/anaconda/lib/python2.7/site-packages/numpy/core/include/numpy/arrayobject.h:15:\n",
      "In file included from /Users/huangsizhe/Lib/conda/anaconda/lib/python2.7/site-packages/numpy/core/include/numpy/ndarrayobject.h:17:\n",
      "In file included from /Users/huangsizhe/Lib/conda/anaconda/lib/python2.7/site-packages/numpy/core/include/numpy/ndarraytypes.h:1728:\n",
      "/Users/huangsizhe/Lib/conda/anaconda/lib/python2.7/site-packages/numpy/core/include/numpy/npy_deprecated_api.h:11:2: warning: \"Using deprecated NumPy API, disable it by #defining NPY_NO_DEPRECATED_API NPY_1_7_API_VERSION\" [-W#warnings]\n",
      "#warning \"Using deprecated NumPy API, disable it by #defining NPY_NO_DEPRECATED_API NPY_1_7_API_VERSION\"\n",
      " ^\n",
      "1 warning generated.\n",
      "\u001b[39mcompiling Fortran sources\u001b[0m\n",
      "\u001b[39mFortran f77 compiler: /usr/local/bin/gfortran -Wall -ffixed-form -fno-second-underscore -m64 -fPIC -O3 -funroll-loops\n",
      "Fortran f90 compiler: /usr/local/bin/gfortran -Wall -fno-second-underscore -m64 -fPIC -O3 -funroll-loops\n",
      "Fortran fix compiler: /usr/local/bin/gfortran -Wall -ffixed-form -fno-second-underscore -Wall -fno-second-underscore -m64 -fPIC -O3 -funroll-loops\u001b[0m\n",
      "\u001b[39mcompile options: '-I/var/folders/2g/vh7qp8xx7px1bplwvcn1fm_h0000gn/T/tmpnmYqYd/src.macosx-10.5-x86_64-2.7 -I/Users/huangsizhe/Lib/conda/anaconda/lib/python2.7/site-packages/numpy/core/include -I/Users/huangsizhe/Lib/conda/anaconda/include/python2.7 -c'\u001b[0m\n",
      "\u001b[39mgfortran:fix: testfortran.f90\u001b[0m\n",
      "\u001b[39m/usr/local/bin/gfortran -Wall -m64 -Wall -undefined dynamic_lookup -bundle /var/folders/2g/vh7qp8xx7px1bplwvcn1fm_h0000gn/T/tmpnmYqYd/var/folders/2g/vh7qp8xx7px1bplwvcn1fm_h0000gn/T/tmpnmYqYd/src.macosx-10.5-x86_64-2.7/testfortranmodule.o /var/folders/2g/vh7qp8xx7px1bplwvcn1fm_h0000gn/T/tmpnmYqYd/var/folders/2g/vh7qp8xx7px1bplwvcn1fm_h0000gn/T/tmpnmYqYd/src.macosx-10.5-x86_64-2.7/fortranobject.o /var/folders/2g/vh7qp8xx7px1bplwvcn1fm_h0000gn/T/tmpnmYqYd/testfortran.o -L/usr/local/Cellar/gcc/5.3.0/lib/gcc/5/gcc/x86_64-apple-darwin15.0.0/5.3.0 -L/Users/huangsizhe/Lib/conda/anaconda/lib -lgfortran -o ./testfortran.so\u001b[0m\n",
      "\u001b[39mrunning scons\u001b[0m\n",
      "Removing build directory /var/folders/2g/vh7qp8xx7px1bplwvcn1fm_h0000gn/T/tmpnmYqYd\n"
     ]
    }
   ],
   "source": [
    "!f2py -m testfortran -c testfortran.f90  "
   ]
  },
  {
   "cell_type": "markdown",
   "metadata": {},
   "source": [
    "会在当前目录下生成testfortran.so的文件."
   ]
  },
  {
   "cell_type": "code",
   "execution_count": 3,
   "metadata": {
    "collapsed": false
   },
   "outputs": [
    {
     "name": "stdout",
     "output_type": "stream",
     "text": [
      "C扩展.ipynb                     \u001b[1m\u001b[36mbuild\u001b[m\u001b[m                           装饰器(decorator).ipynb\r\n",
      "\u001b[31mExtest\u001b[m\u001b[m                          setup.py                        动态补丁(monkey-path).ipynb\r\n",
      "Extest.c                        testfortran.f90                 字符串变代码!(eval).ipynb\r\n",
      "Python.h                        \u001b[31mtestfortran.so\u001b[m\u001b[m                  基本类型扩展.ipynb\r\n",
      "Python的fortran扩展.ipynb       元类(metaclass).ipynb\r\n"
     ]
    }
   ],
   "source": [
    "!ls"
   ]
  },
  {
   "cell_type": "markdown",
   "metadata": {},
   "source": [
    "于是我们就可以用它了"
   ]
  },
  {
   "cell_type": "code",
   "execution_count": 2,
   "metadata": {
    "collapsed": false
   },
   "outputs": [],
   "source": [
    "import testfortran"
   ]
  },
  {
   "cell_type": "code",
   "execution_count": 2,
   "metadata": {
    "collapsed": false
   },
   "outputs": [
    {
     "name": "stdout",
     "output_type": "stream",
     "text": [
      "This module 'testfortran' is auto-generated with f2py (version:2).\n",
      "Functions:\n",
      "  c,d = addsub(a,b)\n",
      ".\n"
     ]
    }
   ],
   "source": [
    "print testfortran.__doc__  "
   ]
  },
  {
   "cell_type": "code",
   "execution_count": 3,
   "metadata": {
    "collapsed": true
   },
   "outputs": [],
   "source": [
    "x=testfortran.addsub(4,9)"
   ]
  },
  {
   "cell_type": "code",
   "execution_count": 4,
   "metadata": {
    "collapsed": false
   },
   "outputs": [
    {
     "data": {
      "text/plain": [
       "(13.0, -5.0)"
      ]
     },
     "execution_count": 4,
     "metadata": {},
     "output_type": "execute_result"
    }
   ],
   "source": [
    "x"
   ]
  },
  {
   "cell_type": "code",
   "execution_count": 3,
   "metadata": {
    "collapsed": false
   },
   "outputs": [
    {
     "name": "stdout",
     "output_type": "stream",
     "text": [
      "The slowest run took 5.20 times longer than the fastest. This could mean that an intermediate result is being cached \n",
      "100000 loops, best of 3: 12.9 µs per loop\n"
     ]
    }
   ],
   "source": [
    "%timeit testfortran.addsub(4,9)"
   ]
  },
  {
   "cell_type": "markdown",
   "metadata": {},
   "source": [
    "pypy也支持fortran扩展,只是不如cpython那么快"
   ]
  },
  {
   "cell_type": "markdown",
   "metadata": {
    "collapsed": false
   },
   "source": [
    "    !f2pypy -m testfortranpypy -c testfortran.f90  "
   ]
  },
  {
   "cell_type": "code",
   "execution_count": 2,
   "metadata": {
    "collapsed": true
   },
   "outputs": [],
   "source": [
    "import testfortranpypy as t"
   ]
  },
  {
   "cell_type": "code",
   "execution_count": 3,
   "metadata": {
    "collapsed": false
   },
   "outputs": [
    {
     "name": "stdout",
     "output_type": "stream",
     "text": [
      "This module 'testfortranpypy' is auto-generated with f2py (version:2).\n",
      "Functions:\n",
      "  c,d = addsub(a,b)\n",
      ".\n"
     ]
    }
   ],
   "source": [
    "print t.__doc__  "
   ]
  },
  {
   "cell_type": "code",
   "execution_count": 5,
   "metadata": {
    "collapsed": false
   },
   "outputs": [],
   "source": [
    "x=t.addsub(4,9)"
   ]
  },
  {
   "cell_type": "code",
   "execution_count": 6,
   "metadata": {
    "collapsed": false
   },
   "outputs": [
    {
     "data": {
      "text/plain": [
       "(13.0, -5.0)"
      ]
     },
     "execution_count": 6,
     "metadata": {},
     "output_type": "execute_result"
    }
   ],
   "source": [
    "x"
   ]
  },
  {
   "cell_type": "code",
   "execution_count": 7,
   "metadata": {
    "collapsed": false
   },
   "outputs": [
    {
     "name": "stdout",
     "output_type": "stream",
     "text": [
      "The slowest run took 14.15 times longer than the fastest. This could mean that an intermediate result is being cached.\n",
      "10000 loops, best of 3: 44.3 µs per loop\n"
     ]
    }
   ],
   "source": [
    "%timeit t.addsub(4,9)"
   ]
  },
  {
   "cell_type": "code",
   "execution_count": null,
   "metadata": {
    "collapsed": true
   },
   "outputs": [],
   "source": []
  }
 ],
 "metadata": {
  "kernelspec": {
   "display_name": "Python 2",
   "language": "python",
   "name": "python2"
  },
  "language_info": {
   "codemirror_mode": {
    "name": "ipython",
    "version": 2
   },
   "file_extension": ".py",
   "mimetype": "text/x-python",
   "name": "python",
   "nbconvert_exporter": "python",
   "pygments_lexer": "ipython2",
   "version": "2.7.11"
  }
 },
 "nbformat": 4,
 "nbformat_minor": 0
}
