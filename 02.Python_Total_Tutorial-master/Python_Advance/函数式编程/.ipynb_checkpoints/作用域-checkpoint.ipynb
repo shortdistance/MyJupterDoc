{
 "cells": [
  {
   "cell_type": "markdown",
   "metadata": {},
   "source": [
    "# 作用域\n",
    "\n",
    "## LEGB原则\n",
    "\n",
    "python的变量作用域遵循LEGB原则,即:\n",
    "\n",
    "+ L-Local(function)；函数内的名字空间\n",
    "+ E-Enclosing function locals；外部嵌套函数的名字空间(例如closure)\n",
    "+ G-Global(module)；函数定义所在模块（文件）的名字空间\n",
    "+ B-Builtin(Python)；Python内置模块的名字空间\n",
    "\n",
    "python遵循从上到下的查找方式,我们来看个例子,从闭包中观察LEGB规则."
   ]
  },
  {
   "cell_type": "markdown",
   "metadata": {},
   "source": [
    "## global语句\n",
    "\n",
    "global语句用来在函数内声明一个变量是全局变量"
   ]
  },
  {
   "cell_type": "code",
   "execution_count": 1,
   "metadata": {
    "collapsed": false
   },
   "outputs": [
    {
     "name": "stdout",
     "output_type": "stream",
     "text": [
      "Overwriting acreage.py\n"
     ]
    }
   ],
   "source": [
    "%%writefile acreage.py\n",
    "\n",
    "from __future__  import print_function\n",
    "Pi = 3\n",
    "def acreage(r):\n",
    "    global Pi\n",
    "    Pi = 3.14\n",
    "    return Pi*r**2\n",
    "def perimeters(r):\n",
    "    return Pi*r*2\n",
    "def acreage1(r):\n",
    "    Pi = 3.1\n",
    "    return Pi*r**2\n",
    "\n",
    "if __name__=='__main__':\n",
    "    print(perimeters(2))\n",
    "    print(acreage1(2))\n",
    "    print(acreage(2))\n",
    "    print(acreage1(2))\n",
    "    print(perimeters(2))"
   ]
  },
  {
   "cell_type": "code",
   "execution_count": 2,
   "metadata": {
    "collapsed": false
   },
   "outputs": [
    {
     "name": "stdout",
     "output_type": "stream",
     "text": [
      "12\n",
      "12.4\n",
      "12.56\n",
      "12.4\n",
      "12.56\n"
     ]
    }
   ],
   "source": [
    "%run acreage.py"
   ]
  },
  {
   "cell_type": "markdown",
   "metadata": {},
   "source": [
    "可以看出 acreage中用global声明改变了全局的Pi值,而acreage1中的pi是本地的所以只在本地有效而已"
   ]
  },
  {
   "cell_type": "markdown",
   "metadata": {},
   "source": [
    "## nolocal语句(3以上独有)\n",
    "\n",
    "nolocal语句是用来声明一个变量一个变量不是在本地的它常在闭包中使用.\n",
    "\n",
    "我们知道global声明是明确指定一个变量作用域为模块全局,而nolocal是声明变量在外部嵌套函数的名字空间,这样就可以在local中修改外部嵌套函数中的变量了"
   ]
  },
  {
   "cell_type": "code",
   "execution_count": 3,
   "metadata": {
    "collapsed": false
   },
   "outputs": [
    {
     "name": "stdout",
     "output_type": "stream",
     "text": [
      "3\n"
     ]
    }
   ],
   "source": [
    "X = 1\n",
    "def a():\n",
    "    X = 2\n",
    "    def b():\n",
    "        X = 3\n",
    "        print(X)\n",
    "    return b\n",
    "a()()"
   ]
  },
  {
   "cell_type": "code",
   "execution_count": 4,
   "metadata": {
    "collapsed": false
   },
   "outputs": [
    {
     "name": "stdout",
     "output_type": "stream",
     "text": [
      "11\n",
      "11\n"
     ]
    }
   ],
   "source": [
    "X = 1\n",
    "def a():\n",
    "    X = 2\n",
    "    def b():\n",
    "        global X\n",
    "        X = 11\n",
    "        print(X)\n",
    "    return b\n",
    "a()()\n",
    "print(X)"
   ]
  },
  {
   "cell_type": "code",
   "execution_count": 5,
   "metadata": {
    "collapsed": false
   },
   "outputs": [
    {
     "name": "stdout",
     "output_type": "stream",
     "text": [
      "Overwriting a.py\n"
     ]
    }
   ],
   "source": [
    "%%writefile a.py\n",
    "\n",
    "\n",
    "X = 1\n",
    "def a():\n",
    "    X = 2\n",
    "    print(X)\n",
    "    def b():\n",
    "        nonlocal X\n",
    "        X = 22\n",
    "        print(X)\n",
    "        return X\n",
    "    b()\n",
    "    print(X)\n",
    "    return b\n",
    "if __name__=='__main__':\n",
    "    a()()"
   ]
  },
  {
   "cell_type": "code",
   "execution_count": 6,
   "metadata": {
    "collapsed": false,
    "scrolled": true
   },
   "outputs": [
    {
     "name": "stdout",
     "output_type": "stream",
     "text": [
      "2\n",
      "22\n",
      "22\n",
      "22\n"
     ]
    }
   ],
   "source": [
    "%run a.py"
   ]
  },
  {
   "cell_type": "markdown",
   "metadata": {},
   "source": [
    "## 突破界限--用字典打破LEGB规则\n",
    "\n",
    "python中字典是一个神奇的存在,它可以跨界~"
   ]
  },
  {
   "cell_type": "code",
   "execution_count": 7,
   "metadata": {
    "collapsed": false
   },
   "outputs": [
    {
     "name": "stdout",
     "output_type": "stream",
     "text": [
      "Overwriting b.py\n"
     ]
    }
   ],
   "source": [
    "%%writefile b.py\n",
    "from __future__  import print_function\n",
    "d = {\"x\":1} \n",
    "def a():\n",
    "    d[\"x\"]+=1\n",
    "print(d[\"x\"])\n",
    "a()\n",
    "print(d[\"x\"])"
   ]
  },
  {
   "cell_type": "code",
   "execution_count": 8,
   "metadata": {
    "collapsed": false
   },
   "outputs": [
    {
     "name": "stdout",
     "output_type": "stream",
     "text": [
      "1\n",
      "2\n"
     ]
    }
   ],
   "source": [
    "%run b.py"
   ]
  },
  {
   "cell_type": "code",
   "execution_count": 9,
   "metadata": {
    "collapsed": false
   },
   "outputs": [
    {
     "name": "stdout",
     "output_type": "stream",
     "text": [
      "Overwriting c.py\n"
     ]
    }
   ],
   "source": [
    "%%writefile c.py\n",
    "from __future__  import print_function\n",
    "def a():\n",
    "    d={\"x\":1}\n",
    "    print(d[\"x\"])\n",
    "    def b():\n",
    "        d[\"x\"]+=1\n",
    "        return d[\"x\"]\n",
    "    b()\n",
    "    print(d[\"x\"])\n",
    "    return b\n",
    "a()"
   ]
  },
  {
   "cell_type": "code",
   "execution_count": 10,
   "metadata": {
    "collapsed": false
   },
   "outputs": [
    {
     "name": "stdout",
     "output_type": "stream",
     "text": [
      "1\n",
      "2\n"
     ]
    }
   ],
   "source": [
    "%run c.py"
   ]
  },
  {
   "cell_type": "markdown",
   "metadata": {},
   "source": [
    "## 总结\n",
    "\n",
    "不论是`global`还是`nonlocal`都是LEGB原则下高级别作用域中修改低级别作用域变量的方法.而在python中也可以用字典来作为迂回跳开LEGB的规则限制."
   ]
  }
 ],
 "metadata": {
  "kernelspec": {
   "display_name": "Python 3",
   "language": "python",
   "name": "python3"
  },
  "language_info": {
   "codemirror_mode": {
    "name": "ipython",
    "version": 3
   },
   "file_extension": ".py",
   "mimetype": "text/x-python",
   "name": "python",
   "nbconvert_exporter": "python",
   "pygments_lexer": "ipython3",
   "version": "3.5.0"
  }
 },
 "nbformat": 4,
 "nbformat_minor": 0
}
