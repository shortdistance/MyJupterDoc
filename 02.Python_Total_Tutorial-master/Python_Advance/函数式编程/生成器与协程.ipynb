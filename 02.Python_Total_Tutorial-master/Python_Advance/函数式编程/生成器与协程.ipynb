{
 "cells": [
  {
   "cell_type": "markdown",
   "metadata": {},
   "source": [
    "生成器因为可以终止运行保存状态,所以可以实现协程"
   ]
  },
  {
   "cell_type": "code",
   "execution_count": 1,
   "metadata": {
    "collapsed": true
   },
   "outputs": [],
   "source": [
    "from __future__ import print_function"
   ]
  },
  {
   "cell_type": "code",
   "execution_count": 3,
   "metadata": {
    "collapsed": false
   },
   "outputs": [
    {
     "name": "stdout",
     "output_type": "stream",
     "text": [
      "# 函数式编程\n",
      "\n",
      "processed line 0\n",
      "\n",
      "\n",
      "processed line 1\n",
      "PYTHON是一门相对比较潮的语言,也是一门相对学院派的语言(要不也不会在大学里特别受欢迎了).为啥这么说呢,因为现在流行的函数式编程特性它老早就有了.不过和正儿八经的函数式编程语言如LISP呀HASKELL呀SCALA呀这种相比,PYTHON的函数式编程还只是半吊子罢了.但多数情况下PYTHON的那些函数式编程特性已经很够用而且可以帮助用户节省大量代码了.\"人生苦短,我用PYTHON\"很多时候也是源于它的那些函数式编程特性.\n",
      "\n",
      "processed line 2\n",
      "\n",
      "\n",
      "processed line 3\n",
      "这部分的主要内容有:\n",
      "\n",
      "processed line 4\n",
      "\n",
      "\n",
      "processed line 5\n",
      "+ 匿名函数和函数变量\n",
      "\n",
      "processed line 6\n",
      "+ 高阶函数\n",
      "\n",
      "processed line 7\n",
      "+ 表达式和解析\n",
      "\n",
      "processed line 8\n",
      "+ 生成器和生成器表达式\n",
      "\n",
      "processed line 9\n",
      "+ 珂里化\n",
      "\n",
      "processed line 10\n",
      "+ 作用域\n",
      "\n",
      "processed line 11\n",
      "+ 闭包\n",
      "\n",
      "processed line 12\n"
     ]
    }
   ],
   "source": [
    "def consumer():\n",
    "    while True:\n",
    "        line = yield\n",
    "        print(line.upper())\n",
    "        \n",
    "def producter():\n",
    "    with open(\"README.md\") as f:\n",
    "        for i,line in enumerate(f):\n",
    "            yield line\n",
    "            print(\"processed line {}\".format(i))\n",
    "c = consumer()\n",
    "try :\n",
    "    c.next()\n",
    "except:\n",
    "    next(c)\n",
    "\n",
    "for line in producter():\n",
    "    c.send(line)"
   ]
  },
  {
   "cell_type": "markdown",
   "metadata": {},
   "source": [
    "在 2.7版本中生成器并没有完整的携程支持,比如一个协程依赖另一个协程,且需要由最外层向内层进行传值,就没办法实现.\n",
    "在3.4中终于有了新的关键字`yield from...`来实现这个功能了\n",
    "> 一个异步二叉树的例子\n",
    "\n",
    "基本版:"
   ]
  },
  {
   "cell_type": "code",
   "execution_count": 11,
   "metadata": {
    "collapsed": false
   },
   "outputs": [
    {
     "name": "stdout",
     "output_type": "stream",
     "text": [
      "1\n",
      "2\n",
      "3\n",
      "0\n",
      "4\n",
      "5\n",
      "6\n"
     ]
    }
   ],
   "source": [
    "from asyncio import coroutine\n",
    "\n",
    "class Node(object):\n",
    "    def __init__(self,value):\n",
    "        self.left = []\n",
    "        self.value = value\n",
    "        self.right = []\n",
    "        \n",
    "    def iterate(self):\n",
    "        for node in self.left:\n",
    "            yield node.value\n",
    "        yield self.value\n",
    "        for node in self.right:\n",
    "            yield node.value\n",
    "def main():\n",
    "    root = Node(0)\n",
    "    root.left = [Node(i) for i in [1,2,3]]\n",
    "    root.right = [Node(i) for i in [4,5,6]]\n",
    "    for value in root.iterate():\n",
    "        print(value)\n",
    "        \n",
    "main()"
   ]
  },
  {
   "cell_type": "markdown",
   "metadata": {},
   "source": [
    "递归版:"
   ]
  },
  {
   "cell_type": "code",
   "execution_count": 12,
   "metadata": {
    "collapsed": false
   },
   "outputs": [
    {
     "name": "stdout",
     "output_type": "stream",
     "text": [
      "1\n",
      "2\n",
      "3\n",
      "0\n",
      "4\n",
      "5\n",
      "6\n"
     ]
    }
   ],
   "source": [
    "from asyncio import coroutine\n",
    "\n",
    "class Node(object):\n",
    "    def __init__(self,value):\n",
    "        self.left = []\n",
    "        self.value = value\n",
    "        self.right = []\n",
    "        \n",
    "    def iterate(self):\n",
    "        for node in self.left:\n",
    "            for value in node.iterate():\n",
    "                yield value\n",
    "        yield self.value\n",
    "        for node in self.right:\n",
    "            for value in node.iterate():\n",
    "                yield value\n",
    "def main():\n",
    "    root = Node(0)\n",
    "    root.left = [Node(i) for i in [1,2,3]]\n",
    "    root.right = [Node(i) for i in [4,5,6]]\n",
    "    for value in root.iterate():\n",
    "        print(value)\n",
    "        \n",
    "main()"
   ]
  },
  {
   "cell_type": "markdown",
   "metadata": {},
   "source": [
    "yield from 递归版"
   ]
  },
  {
   "cell_type": "code",
   "execution_count": 13,
   "metadata": {
    "collapsed": false
   },
   "outputs": [
    {
     "name": "stdout",
     "output_type": "stream",
     "text": [
      "1\n",
      "2\n",
      "3\n",
      "0\n",
      "4\n",
      "5\n",
      "6\n"
     ]
    }
   ],
   "source": [
    "from asyncio import coroutine\n",
    "\n",
    "class Node(object):\n",
    "    def __init__(self,value):\n",
    "        self.left = []\n",
    "        self.value = value\n",
    "        self.right = []\n",
    "        \n",
    "    def iterate(self):\n",
    "        for node in self.left:\n",
    "            yield from node.iterate()\n",
    "        yield self.value\n",
    "        for node in self.right:\n",
    "            yield from node.iterate()\n",
    "def main():\n",
    "    root = Node(0)\n",
    "    root.left = [Node(i) for i in [1,2,3]]\n",
    "    root.right = [Node(i) for i in [4,5,6]]\n",
    "    for value in root.iterate():\n",
    "        print(value)\n",
    "        \n",
    "main()"
   ]
  },
  {
   "cell_type": "markdown",
   "metadata": {},
   "source": [
    "## asyncio模型"
   ]
  },
  {
   "cell_type": "code",
   "execution_count": 14,
   "metadata": {
    "collapsed": false
   },
   "outputs": [
    {
     "name": "stdout",
     "output_type": "stream",
     "text": [
      "Hello world!\n",
      "Hello again!\n"
     ]
    }
   ],
   "source": [
    "import asyncio\n",
    "\n",
    "@asyncio.coroutine\n",
    "def hello():\n",
    "    print(\"Hello world!\")\n",
    "    # 异步调用asyncio.sleep(1):\n",
    "    r = yield from asyncio.sleep(1)\n",
    "    print(\"Hello again!\")\n",
    "\n",
    "# 获取EventLoop:\n",
    "loop = asyncio.get_event_loop()\n",
    "# 执行coroutine\n",
    "loop.run_until_complete(hello())\n",
    "loop.close()"
   ]
  },
  {
   "cell_type": "markdown",
   "metadata": {},
   "source": [
    "@asyncio.coroutine把一个generator标记为coroutine类型，然后，我们就把这个coroutine扔到EventLoop中执行。\n",
    "\n",
    "hello()会首先打印出Hello world!，然后，yield from语法可以让我们方便地调用另一个generator。由于asyncio.sleep()也是一个coroutine，所以线程不会等待asyncio.sleep()，而是直接中断并执行下一个消息循环。当asyncio.sleep()返回时，线程就可以从yield from拿到返回值（此处是None），然后接着执行下一行语句。\n",
    "\n",
    "把asyncio.sleep(1)看成是一个耗时1秒的IO操作，在此期间，主线程并未等待，而是去执行EventLoop中其他可以执行的coroutine了，因此可以实现并发执行。"
   ]
  },
  {
   "cell_type": "markdown",
   "metadata": {},
   "source": [
    "我们用Task封装两个coroutine试试："
   ]
  },
  {
   "cell_type": "code",
   "execution_count": 1,
   "metadata": {
    "collapsed": false
   },
   "outputs": [
    {
     "name": "stdout",
     "output_type": "stream",
     "text": [
      "Hello world! (<_MainThread(MainThread, started 140735127961600)>)\n",
      "Hello world! (<_MainThread(MainThread, started 140735127961600)>)\n",
      "Hello again! (<_MainThread(MainThread, started 140735127961600)>)\n",
      "Hello again! (<_MainThread(MainThread, started 140735127961600)>)\n"
     ]
    }
   ],
   "source": [
    "import threading\n",
    "import asyncio\n",
    "\n",
    "@asyncio.coroutine\n",
    "def hello():\n",
    "    print('Hello world! (%s)' % threading.currentThread())\n",
    "    yield from asyncio.sleep(1)\n",
    "    print('Hello again! (%s)' % threading.currentThread())\n",
    "\n",
    "loop = asyncio.get_event_loop()\n",
    "tasks = [hello(), hello()]\n",
    "loop.run_until_complete(asyncio.wait(tasks))\n",
    "loop.close()"
   ]
  },
  {
   "cell_type": "markdown",
   "metadata": {},
   "source": [
    "由打印的当前线程名称可以看出，两个coroutine是由同一个线程并发执行的。\n",
    "\n",
    "如果把asyncio.sleep()换成真正的IO操作，则多个coroutine就可以由一个线程并发执行。"
   ]
  },
  {
   "cell_type": "markdown",
   "metadata": {},
   "source": [
    "我们用asyncio的异步网络连接来获取sina、sohu和163的网站首页："
   ]
  },
  {
   "cell_type": "code",
   "execution_count": 1,
   "metadata": {
    "collapsed": false
   },
   "outputs": [
    {
     "name": "stdout",
     "output_type": "stream",
     "text": [
      "wget www.sina.com.cn...\n",
      "wget www.163.com...\n",
      "wget www.sohu.com...\n",
      "www.sina.com.cn header > HTTP/1.1 200 OK\n",
      "www.sina.com.cn header > Content-Type: text/html\n",
      "www.sina.com.cn header > Vary: Accept-Encoding\n",
      "www.sina.com.cn header > X-Powered-By: schi_v1.02\n",
      "www.sina.com.cn header > Server: nginx\n",
      "www.sina.com.cn header > Date: Sun, 28 Feb 2016 05:35:08 GMT\n",
      "www.sina.com.cn header > Last-Modified: Sun, 28 Feb 2016 05:33:16 GMT\n",
      "www.sina.com.cn header > Expires: Sun, 28 Feb 2016 05:36:08 GMT\n",
      "www.sina.com.cn header > Cache-Control: max-age=60\n",
      "www.sina.com.cn header > Age: 40\n",
      "www.sina.com.cn header > Content-Length: 527053\n",
      "www.sina.com.cn header > X-Cache: HIT from localhost\n",
      "www.sina.com.cn header > Connection: close\n",
      "www.163.com header > HTTP/1.0 200 OK\n",
      "www.163.com header > Expires: Sun, 28 Feb 2016 05:37:09 GMT\n",
      "www.163.com header > Date: Sun, 28 Feb 2016 05:35:49 GMT\n",
      "www.163.com header > Server: nginx\n",
      "www.163.com header > Content-Type: text/html; charset=GBK\n",
      "www.163.com header > Vary: Accept-Encoding,User-Agent,Accept\n",
      "www.163.com header > Cache-Control: max-age=80\n",
      "www.163.com header > Via: 1.1 cache.163.com:80 (squid)\n",
      "www.163.com header > X-Via: 1.0 czdx84:8106 (Cdn Cache Server V2.0), 1.0 shnh142:0 (Cdn Cache Server V2.0)\n",
      "www.163.com header > Connection: close\n",
      "www.sohu.com header > HTTP/1.1 200 OK\n",
      "www.sohu.com header > Content-Type: text/html\n",
      "www.sohu.com header > Content-Length: 90305\n",
      "www.sohu.com header > Connection: close\n",
      "www.sohu.com header > Date: Sun, 28 Feb 2016 05:32:59 GMT\n",
      "www.sohu.com header > Server: SWS\n",
      "www.sohu.com header > Vary: Accept-Encoding\n",
      "www.sohu.com header > Cache-Control: no-transform, max-age=120\n",
      "www.sohu.com header > Expires: Sun, 28 Feb 2016 05:34:59 GMT\n",
      "www.sohu.com header > Last-Modified: Sun, 28 Feb 2016 05:32:58 GMT\n",
      "www.sohu.com header > Content-Encoding: gzip\n",
      "www.sohu.com header > X-RS: 17799606.26974656.25737794\n",
      "www.sohu.com header > FSS-Cache: HIT from 5725064.9395090.7119296\n",
      "www.sohu.com header > FSS-Proxy: Powered by 3365732.4676462.4759928\n"
     ]
    }
   ],
   "source": [
    "import asyncio\n",
    "\n",
    "@asyncio.coroutine\n",
    "def wget(host):\n",
    "    print('wget %s...' % host)\n",
    "    connect = asyncio.open_connection(host, 80)\n",
    "    reader, writer = yield from connect\n",
    "    header = 'GET / HTTP/1.0\\r\\nHost: %s\\r\\n\\r\\n' % host\n",
    "    writer.write(header.encode('utf-8'))\n",
    "    yield from writer.drain()\n",
    "    while True:\n",
    "        line = yield from reader.readline()\n",
    "        if line == b'\\r\\n':\n",
    "            break\n",
    "        print('%s header > %s' % (host, line.decode('utf-8').rstrip()))\n",
    "    # Ignore the body, close the socket\n",
    "    writer.close()\n",
    "\n",
    "loop = asyncio.get_event_loop()\n",
    "tasks = [wget(host) for host in ['www.sina.com.cn', 'www.sohu.com', 'www.163.com']]\n",
    "loop.run_until_complete(asyncio.wait(tasks))\n",
    "loop.close()"
   ]
  },
  {
   "cell_type": "markdown",
   "metadata": {},
   "source": [
    "用asyncio提供的@asyncio.coroutine可以把一个generator标记为coroutine类型，然后在coroutine内部用yield from调用另一个coroutine实现异步操作。\n",
    "\n",
    "为了简化并更好地标识异步IO，从Python 3.5开始引入了新的语法async和await，可以让coroutine的代码更简洁易读。\n",
    "\n",
    "请注意，async和await是针对coroutine的新语法，要使用新的语法，只需要做两步简单的替换：\n",
    "\n",
    "+ 把`@asyncio.coroutine`替换为`async`；\n",
    "+ 把`yield from`替换为`await`。\n"
   ]
  },
  {
   "cell_type": "code",
   "execution_count": 1,
   "metadata": {
    "collapsed": true
   },
   "outputs": [],
   "source": [
    "import threading\n",
    "import asyncio\n",
    "\n",
    "async def hello():\n",
    "    print(\"Hello world!\")\n",
    "    r = await asyncio.sleep(1)\n",
    "    print(\"Hello again!\")"
   ]
  },
  {
   "cell_type": "code",
   "execution_count": 2,
   "metadata": {
    "collapsed": false
   },
   "outputs": [
    {
     "name": "stdout",
     "output_type": "stream",
     "text": [
      "Hello world!\n",
      "Hello world!\n",
      "Hello again!\n",
      "Hello again!\n"
     ]
    }
   ],
   "source": [
    "loop = asyncio.get_event_loop()\n",
    "tasks = [hello(), hello()]\n",
    "loop.run_until_complete(asyncio.wait(tasks))\n",
    "loop.close()"
   ]
  }
 ],
 "metadata": {
  "kernelspec": {
   "display_name": "Python 3",
   "language": "python",
   "name": "python3"
  },
  "language_info": {
   "codemirror_mode": {
    "name": "ipython",
    "version": 3
   },
   "file_extension": ".py",
   "mimetype": "text/x-python",
   "name": "python",
   "nbconvert_exporter": "python",
   "pygments_lexer": "ipython3",
   "version": "3.5.1"
  }
 },
 "nbformat": 4,
 "nbformat_minor": 0
}
