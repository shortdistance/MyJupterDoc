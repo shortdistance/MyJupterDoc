{
 "cells": [
  {
   "cell_type": "markdown",
   "metadata": {
    "deletable": true,
    "editable": true
   },
   "source": [
    "# 偏函数(Partial)和柯里化(Currying)"
   ]
  },
  {
   "cell_type": "markdown",
   "metadata": {
    "deletable": true,
    "editable": true
   },
   "source": [
    "偏函数就是将一个多参数函数分解为多个单参数或少量参数函数的过程,而柯里化是将多个单参数或者少量参数函数合并为多参数函数的方法.这个过程一般来说是等价的"
   ]
  },
  {
   "cell_type": "markdown",
   "metadata": {
    "deletable": true,
    "editable": true
   },
   "source": [
    "Python中没有独立的柯里化模块,但可以用标准库中的`functools`和`inspect`模块写一个装饰器来实现(代码来自于第三方模块`fn`)"
   ]
  },
  {
   "cell_type": "code",
   "execution_count": 1,
   "metadata": {
    "collapsed": false,
    "deletable": true,
    "editable": true
   },
   "outputs": [
    {
     "name": "stdout",
     "output_type": "stream",
     "text": [
      "Overwriting curried.py\n"
     ]
    }
   ],
   "source": [
    "%%writefile curried.py\n",
    "\n",
    "#coding:utf-8\n",
    "\n",
    "from functools import wraps\n",
    "from inspect import getargspec\n",
    "\n",
    "\n",
    "def curry_n(n, func=None):\n",
    "    \"\"\"curry_n(n, func) returns a new function which takes any arguments,\n",
    "    returning callables that take any arguments until n argumentss \n",
    "    have been applied. Accumulates kwargs until func is evaluated.\n",
    "    >>> curried_max = curry_n(4, max)\n",
    "    >>> curried_max(2)(3, 5)(4)\n",
    "    5\n",
    "    >>> @curry_n(2)\n",
    "    ... def add(x, y):\n",
    "    ...     return x + y\n",
    "    >>> add3 = add(3)\n",
    "    >>> add3(4)\n",
    "    7\n",
    "    \"\"\"\n",
    "    def curry_func(func):\n",
    "        def accum_curry(args, kwargs, accum_args=(), accum_kwargs={}):\n",
    "            accum_args = accum_args + args\n",
    "            accum_kwargs.update(kwargs)\n",
    "\n",
    "            if not (args or kwargs) or len(accum_args) >= n:\n",
    "                return func(*accum_args, **accum_kwargs)\n",
    "            else:\n",
    "                return wraps(func)(lambda *a, **kw: accum_curry(a, kw, accum_args, accum_kwargs))\n",
    "\n",
    "        @wraps(func)\n",
    "        def curried_func(*args, **kwargs):\n",
    "            return accum_curry(args, kwargs)\n",
    "\n",
    "        return curried_func\n",
    "    return curry_func(func) if func else curry_func\n",
    "\n",
    "\n",
    "def curried(func):\n",
    "    \"\"\"Curries a function over the number of arguments it requires\n",
    "    (which do not specify defaults). Optional arguments can be \n",
    "    passed at any point in curried application as keywords.\n",
    "    >>> @curried\n",
    "    ... def add(x, y, z=0):\n",
    "    ...     return x + y + z\n",
    "    >>> add(4)(5)\n",
    "    9\n",
    "    >>> add(4, z=3)(5)\n",
    "    12\n",
    "    >>> @curried\n",
    "    ... def add_all(*nums):\n",
    "    ...     return reduce(lambda x,y: x+y, nums)\n",
    "    >>> add_all(1)(2)(3)(4)()\n",
    "    10\n",
    "    \"\"\"\n",
    "    \"\"\"Curried functions that accept a variable number of arguments \n",
    "    (i.e. `*args`) need to be terminated by an empty call\n",
    "    \"\"\"\n",
    "    argspec = getargspec(func)\n",
    "    num_defaults = len(argspec.defaults) if argspec.defaults else 0\n",
    "    num_required = len(argspec.args) - num_defaults\n",
    "    num_curried = float('inf') if argspec.varargs else num_required\n",
    "\n",
    "    return curry_n(num_curried)(func)\n",
    "\n",
    "\n",
    "if __name__==\"__main__\":\n",
    "    import doctest\n",
    "    doctest.testmod()"
   ]
  },
  {
   "cell_type": "code",
   "execution_count": 2,
   "metadata": {
    "collapsed": false,
    "deletable": true,
    "editable": true
   },
   "outputs": [],
   "source": [
    "%run curried.py"
   ]
  },
  {
   "cell_type": "code",
   "execution_count": 3,
   "metadata": {
    "collapsed": true,
    "deletable": true,
    "editable": true
   },
   "outputs": [],
   "source": [
    "from curried import curried\n",
    "@curried\n",
    "def sum5(a, b, c, d, e):\n",
    "    return a + b + c + d + e"
   ]
  },
  {
   "cell_type": "code",
   "execution_count": 4,
   "metadata": {
    "collapsed": false,
    "deletable": true,
    "editable": true
   },
   "outputs": [
    {
     "data": {
      "text/plain": [
       "15"
      ]
     },
     "execution_count": 4,
     "metadata": {},
     "output_type": "execute_result"
    }
   ],
   "source": [
    "sum5(1)(2)(3)(4)(5)"
   ]
  },
  {
   "cell_type": "code",
   "execution_count": 5,
   "metadata": {
    "collapsed": false,
    "deletable": true,
    "editable": true
   },
   "outputs": [],
   "source": [
    "a = sum5(1)(2)(3)(4)"
   ]
  },
  {
   "cell_type": "code",
   "execution_count": 6,
   "metadata": {
    "collapsed": false,
    "deletable": true,
    "editable": true
   },
   "outputs": [
    {
     "data": {
      "text/plain": [
       "15"
      ]
     },
     "execution_count": 6,
     "metadata": {},
     "output_type": "execute_result"
    }
   ],
   "source": [
    "a(5)"
   ]
  },
  {
   "cell_type": "code",
   "execution_count": 7,
   "metadata": {
    "collapsed": true,
    "deletable": true,
    "editable": true
   },
   "outputs": [],
   "source": [
    "b = sum5(2,3,4)"
   ]
  },
  {
   "cell_type": "code",
   "execution_count": 8,
   "metadata": {
    "collapsed": false,
    "deletable": true,
    "editable": true
   },
   "outputs": [
    {
     "data": {
      "text/plain": [
       "20"
      ]
     },
     "execution_count": 8,
     "metadata": {},
     "output_type": "execute_result"
    }
   ],
   "source": [
    "b(5,6)"
   ]
  },
  {
   "cell_type": "code",
   "execution_count": 9,
   "metadata": {
    "collapsed": false,
    "deletable": true,
    "editable": true
   },
   "outputs": [
    {
     "data": {
      "text/plain": [
       "20"
      ]
     },
     "execution_count": 9,
     "metadata": {},
     "output_type": "execute_result"
    }
   ],
   "source": [
    "b(5)(6)"
   ]
  },
  {
   "cell_type": "code",
   "execution_count": 10,
   "metadata": {
    "collapsed": true,
    "deletable": true,
    "editable": true
   },
   "outputs": [],
   "source": [
    "bb=b(5)"
   ]
  },
  {
   "cell_type": "code",
   "execution_count": 11,
   "metadata": {
    "collapsed": false,
    "deletable": true,
    "editable": true
   },
   "outputs": [
    {
     "data": {
      "text/plain": [
       "20"
      ]
     },
     "execution_count": 11,
     "metadata": {},
     "output_type": "execute_result"
    }
   ],
   "source": [
    "bb(6)"
   ]
  },
  {
   "cell_type": "code",
   "execution_count": 12,
   "metadata": {
    "collapsed": true,
    "deletable": true,
    "editable": true
   },
   "outputs": [],
   "source": [
    "c=sum5(1)(2)(3)(e=5)"
   ]
  },
  {
   "cell_type": "code",
   "execution_count": 13,
   "metadata": {
    "collapsed": false,
    "deletable": true,
    "editable": true
   },
   "outputs": [
    {
     "data": {
      "text/plain": [
       "15"
      ]
     },
     "execution_count": 13,
     "metadata": {},
     "output_type": "execute_result"
    }
   ],
   "source": [
    "c(d=4)()"
   ]
  },
  {
   "cell_type": "code",
   "execution_count": 14,
   "metadata": {
    "collapsed": true,
    "deletable": true,
    "editable": true
   },
   "outputs": [],
   "source": [
    "d=sum5(1,2,3,e=5)"
   ]
  },
  {
   "cell_type": "code",
   "execution_count": 18,
   "metadata": {
    "collapsed": false,
    "deletable": true,
    "editable": true
   },
   "outputs": [
    {
     "data": {
      "text/plain": [
       "15"
      ]
     },
     "execution_count": 18,
     "metadata": {},
     "output_type": "execute_result"
    }
   ],
   "source": [
    "d(d=4)()"
   ]
  },
  {
   "cell_type": "code",
   "execution_count": null,
   "metadata": {
    "collapsed": true,
    "deletable": true,
    "editable": true
   },
   "outputs": [],
   "source": [
    "@curried\n",
    "def add_all(*nums):\n",
    "    return reduce(lambda x,y: x+y, nums)"
   ]
  },
  {
   "cell_type": "code",
   "execution_count": null,
   "metadata": {
    "collapsed": false,
    "deletable": true,
    "editable": true
   },
   "outputs": [],
   "source": [
    "add_all(1)(2)(3)(4)()"
   ]
  },
  {
   "cell_type": "code",
   "execution_count": 19,
   "metadata": {
    "collapsed": false,
    "deletable": true,
    "editable": true
   },
   "outputs": [
    {
     "data": {
      "text/plain": [
       "9"
      ]
     },
     "execution_count": 19,
     "metadata": {},
     "output_type": "execute_result"
    }
   ],
   "source": [
    "@curried\n",
    "def add(x, y, z=0):\n",
    "    return x + y + z\n",
    "add(4)(5)"
   ]
  },
  {
   "cell_type": "code",
   "execution_count": 20,
   "metadata": {
    "collapsed": false,
    "deletable": true,
    "editable": true
   },
   "outputs": [
    {
     "data": {
      "text/plain": [
       "12"
      ]
     },
     "execution_count": 20,
     "metadata": {},
     "output_type": "execute_result"
    }
   ],
   "source": [
    "add(4, z=3)(5)"
   ]
  },
  {
   "cell_type": "code",
   "execution_count": 21,
   "metadata": {
    "collapsed": true,
    "deletable": true,
    "editable": true
   },
   "outputs": [],
   "source": [
    "adq=add(4, z=3)"
   ]
  },
  {
   "cell_type": "code",
   "execution_count": 22,
   "metadata": {
    "collapsed": false,
    "deletable": true,
    "editable": true
   },
   "outputs": [
    {
     "data": {
      "text/plain": [
       "12"
      ]
     },
     "execution_count": 22,
     "metadata": {},
     "output_type": "execute_result"
    }
   ],
   "source": [
    "adq(5)"
   ]
  },
  {
   "cell_type": "markdown",
   "metadata": {
    "deletable": true,
    "editable": true
   },
   "source": [
    "当然了大多数时候没必要这么麻烦,用`functools.partial`就可以实现偏函数了"
   ]
  },
  {
   "cell_type": "code",
   "execution_count": 5,
   "metadata": {
    "collapsed": false,
    "deletable": true,
    "editable": true
   },
   "outputs": [],
   "source": [
    "import functools"
   ]
  },
  {
   "cell_type": "code",
   "execution_count": 6,
   "metadata": {
    "collapsed": true,
    "deletable": true,
    "editable": true
   },
   "outputs": [],
   "source": [
    "def add(x,y,z):\n",
    "    return x+y+z*2"
   ]
  },
  {
   "cell_type": "code",
   "execution_count": 7,
   "metadata": {
    "collapsed": false,
    "deletable": true,
    "editable": true
   },
   "outputs": [
    {
     "data": {
      "text/plain": [
       "9"
      ]
     },
     "execution_count": 7,
     "metadata": {},
     "output_type": "execute_result"
    }
   ],
   "source": [
    "add(1,2,3)"
   ]
  },
  {
   "cell_type": "code",
   "execution_count": 8,
   "metadata": {
    "collapsed": false,
    "deletable": true,
    "editable": true
   },
   "outputs": [
    {
     "data": {
      "text/plain": [
       "9"
      ]
     },
     "execution_count": 8,
     "metadata": {},
     "output_type": "execute_result"
    }
   ],
   "source": [
    "functools.partial(add,1)(2,3)"
   ]
  }
 ],
 "metadata": {
  "kernelspec": {
   "display_name": "Python 2",
   "language": "python",
   "name": "python2"
  },
  "language_info": {
   "codemirror_mode": {
    "name": "ipython",
    "version": 2
   },
   "file_extension": ".py",
   "mimetype": "text/x-python",
   "name": "python",
   "nbconvert_exporter": "python",
   "pygments_lexer": "ipython2",
   "version": "2.7.10"
  }
 },
 "nbformat": 4,
 "nbformat_minor": 0
}
