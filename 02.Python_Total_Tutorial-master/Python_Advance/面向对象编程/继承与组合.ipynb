{
 "cells": [
  {
   "cell_type": "markdown",
   "metadata": {},
   "source": [
    "# 继承与组合\n",
    "\n",
    "对象与对象间的关系往往可以用继承和组合两种形式来表现.我们来通过一个披萨饼店例子来看看什么是继承什么是组合"
   ]
  },
  {
   "cell_type": "markdown",
   "metadata": {},
   "source": [
    "## oop和继承--\"is a \"关系\n",
    "\n",
    "披萨饼店中会有服务员,有大厨等各种员工,他们各有特点,但每个对象(员工)都可以用工作职位的类型来归类抽象,通过提取员工的共性就可以得到他们的类继承树."
   ]
  },
  {
   "cell_type": "code",
   "execution_count": 1,
   "metadata": {
    "collapsed": false
   },
   "outputs": [
    {
     "name": "stdout",
     "output_type": "stream",
     "text": [
      "Overwriting employee.py\n"
     ]
    }
   ],
   "source": [
    "%%writefile  employee.py\n",
    "\n",
    "#coding:utf-8\n",
    "\n",
    "class Employee(object):\n",
    "    u\"\"\"员工基类,规定名字,薪水的基本属性和基本的方法,涨工资,工作,打印\n",
    "    \"\"\"\n",
    "    id = 0\n",
    "    def __init__(self,name,salary=0):\n",
    "        self.id = Employee.id\n",
    "        self.name = name\n",
    "        self.salary = salary\n",
    "        Employee.id += 1\n",
    "\n",
    "    def salary_raise(self,raised_ratio=0,raised_value=0):\n",
    "        self.salary = self.salary*(1+raised_ratio)+raised_value\n",
    "\n",
    "    def work(self):\n",
    "        print(self.name,\" is working!\")\n",
    "\n",
    "    def __repr__(self):\n",
    "        return \"<id:{id}, employee:{name},salary:{salary}>\".format(id = self.id,name = self.name,salary = self.salary)\n",
    "\n",
    "class Chef(Employee):\n",
    "    def __init__(self,name):\n",
    "        Employee.__init__(self,name,5000)\n",
    "\n",
    "    def work(self):\n",
    "        print(self.name,\"is cooking!\")\n",
    "\n",
    "class Waiter(Employee):\n",
    "    def __init__(self,name):\n",
    "        Employee.__init__(self,name,2000)\n",
    "    def work(self):\n",
    "        print(self.name,\"is servering a customer\")\n",
    "\n",
    "class PizzaRobot(Chef):\n",
    "    def __init__(self,name):\n",
    "        Chef.__init__(self,name)\n",
    "\n",
    "    def work(self):\n",
    "        print(self.name,\"is cooking pizzas\")\n"
   ]
  },
  {
   "cell_type": "code",
   "execution_count": 2,
   "metadata": {
    "collapsed": true
   },
   "outputs": [],
   "source": [
    "from employee import *"
   ]
  },
  {
   "cell_type": "code",
   "execution_count": 3,
   "metadata": {
    "collapsed": false
   },
   "outputs": [
    {
     "name": "stdout",
     "output_type": "stream",
     "text": [
      "<id:0, employee:bob,salary:5000>\n",
      "bob is cooking pizzas\n",
      "<id:0, employee:bob,salary:5250.0>\n"
     ]
    }
   ],
   "source": [
    "bob = PizzaRobot(\"bob\")\n",
    "print(bob)\n",
    "bob.work()\n",
    "bob.salary_raise(raised_ratio=0.05)\n",
    "print(bob)"
   ]
  },
  {
   "cell_type": "code",
   "execution_count": 4,
   "metadata": {
    "collapsed": false
   },
   "outputs": [
    {
     "name": "stdout",
     "output_type": "stream",
     "text": [
      "Employee  is working!\n",
      "Chef is cooking!\n",
      "Waiter is servering a customer\n",
      "PizzaRobot is cooking pizzas\n"
     ]
    }
   ],
   "source": [
    "for class_ in Employee,Chef,Waiter,PizzaRobot:\n",
    "    obj = class_(class_.__name__)\n",
    "    obj.work()"
   ]
  },
  {
   "cell_type": "markdown",
   "metadata": {},
   "source": [
    "**同样的,顾客,工具等等都是各自是一类对象,也就是 \"JoJo is a Customer.\"**"
   ]
  },
  {
   "cell_type": "code",
   "execution_count": 5,
   "metadata": {
    "collapsed": false
   },
   "outputs": [
    {
     "name": "stdout",
     "output_type": "stream",
     "text": [
      "Overwriting customer.py\n"
     ]
    }
   ],
   "source": [
    "%%writefile customer.py\n",
    "\n",
    "#coding:utf-8\n",
    "\n",
    "class Customer:\n",
    "    def __init__(self,name):\n",
    "        self.name = name\n",
    "        \n",
    "    def order(self,waiter):\n",
    "        print(self.name,\" ordered a pizza from \",waiter)\n",
    "\n",
    "    def pay(self,waiter):\n",
    "        print(self.name,\" has payed to \",waiter)"
   ]
  },
  {
   "cell_type": "code",
   "execution_count": 6,
   "metadata": {
    "collapsed": false
   },
   "outputs": [
    {
     "name": "stdout",
     "output_type": "stream",
     "text": [
      "Overwriting tools.py\n"
     ]
    }
   ],
   "source": [
    "%%writefile tools.py\n",
    "\n",
    "#coding:utf-8\n",
    "\n",
    "class Oven:\n",
    "    def bake(self):\n",
    "        print(\"Baking...\")\n"
   ]
  },
  {
   "cell_type": "markdown",
   "metadata": {},
   "source": [
    "## oop和组合--\"has a\"关系\n",
    "\n",
    "但与其他不同,披萨屋虽然是披萨屋,但它隐含的意义是披萨屋包含一些员工,一些工具,并可以接待客人.接着咱来看看如何定义披萨屋."
   ]
  },
  {
   "cell_type": "code",
   "execution_count": 7,
   "metadata": {
    "collapsed": false
   },
   "outputs": [
    {
     "name": "stdout",
     "output_type": "stream",
     "text": [
      "Overwriting pizzaShop.py\n"
     ]
    }
   ],
   "source": [
    "%%writefile pizzaShop.py\n",
    "\n",
    "#coding:utf-8\n",
    "\n",
    "from employee import *\n",
    "from tools import *\n",
    "from customer import *\n",
    "class PizzaShop:\n",
    "\n",
    "    def __init__(self):\n",
    "        self.waiter = Waiter(\"Pat\")\n",
    "        self.chef = PizzaRobot('Bob')\n",
    "        self.oven = Oven()\n",
    "\n",
    "    def order(self,name):\n",
    "        customer = Customer(name)\n",
    "        customer.order(self.waiter)\n",
    "        self.chef.work()\n",
    "        self.oven.bake()\n",
    "        customer.pay(self.waiter)\n"
   ]
  },
  {
   "cell_type": "code",
   "execution_count": 8,
   "metadata": {
    "collapsed": true
   },
   "outputs": [],
   "source": [
    "from pizzaShop import  PizzaShop"
   ]
  },
  {
   "cell_type": "code",
   "execution_count": 9,
   "metadata": {
    "collapsed": true
   },
   "outputs": [],
   "source": [
    "scene = PizzaShop()"
   ]
  },
  {
   "cell_type": "code",
   "execution_count": 12,
   "metadata": {
    "collapsed": false
   },
   "outputs": [
    {
     "name": "stdout",
     "output_type": "stream",
     "text": [
      "JoJo  ordered a pizza from  <id:5, employee:Pat,salary:2000>\n",
      "Bob is cooking pizzas\n",
      "Baking...\n",
      "JoJo  has payed to  <id:5, employee:Pat,salary:2000>\n"
     ]
    }
   ],
   "source": [
    "scene.order(\"JoJo\")"
   ]
  }
 ],
 "metadata": {
  "kernelspec": {
   "display_name": "Python 3",
   "language": "python",
   "name": "python3"
  },
  "language_info": {
   "codemirror_mode": {
    "name": "ipython",
    "version": 3
   },
   "file_extension": ".py",
   "mimetype": "text/x-python",
   "name": "python",
   "nbconvert_exporter": "python",
   "pygments_lexer": "ipython3",
   "version": "3.5.0"
  }
 },
 "nbformat": 4,
 "nbformat_minor": 0
}
