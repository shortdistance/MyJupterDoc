{
 "cells": [
  {
   "cell_type": "markdown",
   "metadata": {
    "collapsed": true
   },
   "source": [
    "# 运算符重载\n",
    "\n",
    "运算符重载在任何语言中都算得上是高级特性,因为它可以改变语言本身即元编程. Python支持有限的运算符重载,并有几个特殊的运算符可以改变类的一些特性."
   ]
  },
  {
   "cell_type": "markdown",
   "metadata": {},
   "source": [
    "常用的预定义方法有:\n",
    "\n",
    "二元运算符|特殊方法\n",
    "---|---\n",
    "+|\t`__add__,__radd__`\n",
    "+=|\t`__iaddr__`\n",
    "-|\t`__sub__,__rsub__`\n",
    "`*`|\t`__mul__,__rmul__`\n",
    "/|\t`__div__,__rdiv__,__truediv__,__rtruediv__`\n",
    "//|`\t__floordiv__,__rfloordiv__`\n",
    "%|\t`__mod__,__rmod__`\n",
    "`**`|\t`__pow__,__rpow__`\n",
    "<<|\t`__lshift__,__rlshift__`\n",
    "`>>`|\t`__rshift__,__rrshift__`\n",
    "`&`|\t`__and__,__rand__`\n",
    "`^`|\t`__xor__,__rxor__`\n",
    "竖线|\t`__or__,__ror_`\n",
    "-=|\t`__isub__`\n",
    "`*=`|\t`__imul__`\n",
    "/=|`__idiv__,__itruediv__`\n",
    "//=|\t`__ifloordiv__`\n",
    "%=\t|`__imod__`\n",
    "`**=`|\t`__ipow__`\n",
    "`<<=`|\t`__ilshift__`\n",
    "`>>=`\t|`__irshift__`\n",
    "&=\t|`__iand__`\n",
    "`^=`|\t`__ixor__`\n",
    "竖线=|\t`__ior__`\n",
    "==|\t`__eq__`\n",
    "!=,<>|\t`__ne__`\n",
    "`>`|\t`__get__`\n",
    "`<`|\t`__lt__`\n",
    "`>=`|\t`__ge__`\n",
    "`<=`|\t`__le__`\n",
    "\n",
    "\n",
    "特殊方法|重载|调用\n",
    "---|---|---\n",
    "`__new__`|创建|在`__init__`之前创建对象\n",
    "`__init__`|构造函数|对象建立x = CLASS(args)\n",
    "`__del__`|析构函数|x对象回收\n",
    "`__call__`|函数调用|x(`*args,**kws`)\n",
    "`__getattr__`|点运算|x.att\n",
    "`__setattr__`|属性赋值语句|x.any = value\n",
    "`__getattribute__`|属性获取|x.any\n",
    "`__delattr__`|属性删除| del x.any\n",
    "`__getitem__`|索引运算|x[key]等,没`__iter__`时的for循环和其他迭代器\n",
    "`__setitem__`|索引赋值|x[key]=value等\n",
    "`__delitem__`|索引删除| del x[key]\n",
    "`__len__`|长度|len(x),如果没有`__bool__`真值测试\n",
    "`__bool__`|布尔测试|bool(x)测试是否为空\n",
    "`__iter__,__next__`|迭代环境|for循环,next()\n",
    "`__contains__`|成员关系测试| i in x\n",
    "`__index__`|整数值|hex(x),bin(x),oct(x)\n",
    "`__enter__,__exit__`|环境管理| with obj as var\n",
    "`__get__,__set__,__delete__`|描述符属性|X.attr,X.attr=value,del x.attr\n",
    "`__enter__`和`__exit__`|上下文运算符和with关键字|---\n",
    "`__copy__`和`__deepcopy__`|拷贝|---"
   ]
  },
  {
   "cell_type": "markdown",
   "metadata": {},
   "source": [
    ">例 定义一个数组类,实现减法索引打印等操作"
   ]
  },
  {
   "cell_type": "code",
   "execution_count": 7,
   "metadata": {
    "collapsed": true
   },
   "outputs": [],
   "source": [
    "class Array(object):\n",
    "    def __init__(self,*args):#构造函数\n",
    "        self.value = args\n",
    "    def __sub__(self,other):#减法运算符\n",
    "        if type(other) == int or type(other) == float:\n",
    "            new = Array(*list(map(lambda x : x-other,self.value)))\n",
    "            return new\n",
    "        if type(other) == Array:\n",
    "            new = Array(*list(map(lambda x,y : x-y,self.value,other.value)))\n",
    "            return new\n",
    "        else:\n",
    "            raise ValueError(\"Illegal operations\")\n",
    "    def __repr__(self):#打印\n",
    "        return \"Array: \"+str(self.value)\n",
    "    def __str__(self):#字符串化\n",
    "        return \"Array: \"+str(self.value)\n",
    "    def __getitem__(self,index):#索引分片,有了分片也就有了迭代,但不如迭代器好\n",
    "        new =  Array(*self.value[index])\n",
    "        return new\n",
    "\n"
   ]
  },
  {
   "cell_type": "code",
   "execution_count": 8,
   "metadata": {
    "collapsed": true
   },
   "outputs": [],
   "source": [
    "arr1=Array(1,2,3,4)"
   ]
  },
  {
   "cell_type": "code",
   "execution_count": 25,
   "metadata": {
    "collapsed": true
   },
   "outputs": [],
   "source": [
    "arr2=Array(10,20,30,40)"
   ]
  },
  {
   "cell_type": "code",
   "execution_count": 26,
   "metadata": {
    "collapsed": false
   },
   "outputs": [
    {
     "data": {
      "text/plain": [
       "Array: (9, 18, 27, 36)"
      ]
     },
     "execution_count": 26,
     "metadata": {},
     "output_type": "execute_result"
    }
   ],
   "source": [
    "arr2-arr1"
   ]
  },
  {
   "cell_type": "markdown",
   "metadata": {},
   "source": [
    "## 几个重要的运算符"
   ]
  },
  {
   "cell_type": "markdown",
   "metadata": {},
   "source": [
    "### `__new__`构造运算符\n",
    "\n",
    "\n",
    "也就是面向对象编程中常提到的构造方法了\n",
    "\n",
    "这是一旦被调用就会执行的运算符,也是正常情况下一个实例第一个执行的运算符.该方法会返回一个对应对象的实例.我们来看看他的特性"
   ]
  },
  {
   "cell_type": "code",
   "execution_count": 17,
   "metadata": {
    "collapsed": true
   },
   "outputs": [],
   "source": [
    "class Test_new(object):\n",
    "    def __new__(cls):\n",
    "        print(\"created\")"
   ]
  },
  {
   "cell_type": "code",
   "execution_count": 18,
   "metadata": {
    "collapsed": false
   },
   "outputs": [
    {
     "name": "stdout",
     "output_type": "stream",
     "text": [
      "created\n"
     ]
    }
   ],
   "source": [
    "Test_new()"
   ]
  },
  {
   "cell_type": "code",
   "execution_count": 19,
   "metadata": {
    "collapsed": false
   },
   "outputs": [
    {
     "name": "stdout",
     "output_type": "stream",
     "text": [
      "created\n"
     ]
    }
   ],
   "source": [
    "Test_new()"
   ]
  },
  {
   "cell_type": "code",
   "execution_count": 27,
   "metadata": {
    "collapsed": true
   },
   "outputs": [],
   "source": [
    "class Test_new1(object):\n",
    "    def __new__(cls,*args):\n",
    "        print(\"created\")\n",
    "        obj = super(Test_new1,cls).__new__(cls)\n",
    "        return obj\n",
    "    def __init__(self,a):\n",
    "        self.a = a"
   ]
  },
  {
   "cell_type": "markdown",
   "metadata": {},
   "source": [
    "> 例: 建立一个可以记录调用次数的类"
   ]
  },
  {
   "cell_type": "code",
   "execution_count": 53,
   "metadata": {
    "collapsed": true
   },
   "outputs": [],
   "source": [
    "class Count_new(object):\n",
    "    counter = 0\n",
    "    def __new__(cls):\n",
    "        cls.counter += 1\n",
    "        print(cls.counter,\" times has been called. \")\n",
    "        return super(Count_new,cls).__new__(cls)"
   ]
  },
  {
   "cell_type": "code",
   "execution_count": 59,
   "metadata": {
    "collapsed": false
   },
   "outputs": [
    {
     "name": "stdout",
     "output_type": "stream",
     "text": [
      "3  times has been called. \n"
     ]
    },
    {
     "data": {
      "text/plain": [
       "<__main__.Count_new at 0x1082d0c50>"
      ]
     },
     "execution_count": 59,
     "metadata": {},
     "output_type": "execute_result"
    }
   ],
   "source": [
    "Count_new()#没有指定变量也会返回一个对象"
   ]
  },
  {
   "cell_type": "code",
   "execution_count": 60,
   "metadata": {
    "collapsed": false
   },
   "outputs": [
    {
     "name": "stdout",
     "output_type": "stream",
     "text": [
      "4  times has been called. \n"
     ]
    }
   ],
   "source": [
    "a = Count_new()"
   ]
  },
  {
   "cell_type": "markdown",
   "metadata": {},
   "source": [
    "> 带参数的`__new__`运算符"
   ]
  },
  {
   "cell_type": "code",
   "execution_count": 3,
   "metadata": {
    "collapsed": true
   },
   "outputs": [],
   "source": [
    "class Count_new_withvalue(object):\n",
    "    counter = 0\n",
    "    def __new__(cls,value):\n",
    "        cls.counter += 1\n",
    "        cls.value = value\n",
    "        print(cls.counter,\" times has been called. \")\n",
    "        return super(Count_new_withvalue,cls).__new__(cls)"
   ]
  },
  {
   "cell_type": "code",
   "execution_count": 4,
   "metadata": {
    "collapsed": false
   },
   "outputs": [
    {
     "name": "stdout",
     "output_type": "stream",
     "text": [
      "1  times has been called. \n"
     ]
    }
   ],
   "source": [
    "cnwv1 = Count_new_withvalue(1)"
   ]
  },
  {
   "cell_type": "code",
   "execution_count": 5,
   "metadata": {
    "collapsed": false
   },
   "outputs": [
    {
     "data": {
      "text/plain": [
       "1"
      ]
     },
     "execution_count": 5,
     "metadata": {},
     "output_type": "execute_result"
    }
   ],
   "source": [
    "Count_new_withvalue.value"
   ]
  },
  {
   "cell_type": "code",
   "execution_count": 6,
   "metadata": {
    "collapsed": false
   },
   "outputs": [
    {
     "data": {
      "text/plain": [
       "1"
      ]
     },
     "execution_count": 6,
     "metadata": {},
     "output_type": "execute_result"
    }
   ],
   "source": [
    "cnwv1.value"
   ]
  },
  {
   "cell_type": "markdown",
   "metadata": {},
   "source": [
    "### `__init__`实例初始化\n",
    "\n",
    "最常见的运算符重载应用就是`__init__`方法了,即实例初始化方法.该方法无返回值.\n",
    "\n",
    "这个方法我们在将继承的时候就有过接触,所以不多说,主要看看他和`__new__`的关系"
   ]
  },
  {
   "cell_type": "code",
   "execution_count": 23,
   "metadata": {
    "collapsed": true
   },
   "outputs": [],
   "source": [
    "class Count_new_init(object):\n",
    "    counter = 0\n",
    "    def __new__(cls):\n",
    "        cls.counter += 1\n",
    "        print(cls.counter,\" times has been called. \")\n",
    "        return object.__new__(cls)\n",
    "    def __init__(self):\n",
    "        self.name = self.counter<<2\n",
    "        print(\"My name is \",self.name,\" , you've Created me!\")"
   ]
  },
  {
   "cell_type": "code",
   "execution_count": 24,
   "metadata": {
    "collapsed": false
   },
   "outputs": [
    {
     "name": "stdout",
     "output_type": "stream",
     "text": [
      "1  times has been called. \n",
      "My name is  4  , you've Created me!\n"
     ]
    },
    {
     "data": {
      "text/plain": [
       "<__main__.Count_new_init at 0x10b80cf28>"
      ]
     },
     "execution_count": 24,
     "metadata": {},
     "output_type": "execute_result"
    }
   ],
   "source": [
    "Count_new_init()"
   ]
  },
  {
   "cell_type": "code",
   "execution_count": 25,
   "metadata": {
    "collapsed": false,
    "scrolled": true
   },
   "outputs": [
    {
     "name": "stdout",
     "output_type": "stream",
     "text": [
      "2  times has been called. \n",
      "My name is  8  , you've Created me!\n"
     ]
    }
   ],
   "source": [
    "a = Count_new_init()"
   ]
  },
  {
   "cell_type": "code",
   "execution_count": 26,
   "metadata": {
    "collapsed": false
   },
   "outputs": [
    {
     "name": "stdout",
     "output_type": "stream",
     "text": [
      "3  times has been called. \n",
      "My name is  12  , you've Created me!\n"
     ]
    }
   ],
   "source": [
    "b = Count_new_init()"
   ]
  },
  {
   "cell_type": "markdown",
   "metadata": {},
   "source": [
    "可以看到总是先执行`__new__`再执行`__init__`"
   ]
  },
  {
   "cell_type": "code",
   "execution_count": 27,
   "metadata": {
    "collapsed": false
   },
   "outputs": [
    {
     "name": "stdout",
     "output_type": "stream",
     "text": [
      "4  times has been called. \n"
     ]
    }
   ],
   "source": [
    "c = b.__new__(Count_new_init)"
   ]
  },
  {
   "cell_type": "code",
   "execution_count": 28,
   "metadata": {
    "collapsed": false
   },
   "outputs": [
    {
     "data": {
      "text/plain": [
       "<__main__.Count_new_init at 0x10b817048>"
      ]
     },
     "execution_count": 28,
     "metadata": {},
     "output_type": "execute_result"
    }
   ],
   "source": [
    "c"
   ]
  },
  {
   "cell_type": "code",
   "execution_count": 29,
   "metadata": {
    "collapsed": false
   },
   "outputs": [
    {
     "data": {
      "text/plain": [
       "4487955288"
      ]
     },
     "execution_count": 29,
     "metadata": {},
     "output_type": "execute_result"
    }
   ],
   "source": [
    "int(\"10b80c358\",16)"
   ]
  },
  {
   "cell_type": "code",
   "execution_count": 30,
   "metadata": {
    "collapsed": false
   },
   "outputs": [
    {
     "name": "stdout",
     "output_type": "stream",
     "text": [
      "Help on Count_new_init in module __main__ object:\n",
      "\n",
      "class Count_new_init(builtins.object)\n",
      " |  Methods defined here:\n",
      " |  \n",
      " |  __init__(self)\n",
      " |      Initialize self.  See help(type(self)) for accurate signature.\n",
      " |  \n",
      " |  ----------------------------------------------------------------------\n",
      " |  Static methods defined here:\n",
      " |  \n",
      " |  __new__(cls)\n",
      " |      Create and return a new object.  See help(type) for accurate signature.\n",
      " |  \n",
      " |  ----------------------------------------------------------------------\n",
      " |  Data descriptors defined here:\n",
      " |  \n",
      " |  __dict__\n",
      " |      dictionary for instance variables (if defined)\n",
      " |  \n",
      " |  __weakref__\n",
      " |      list of weak references to the object (if defined)\n",
      " |  \n",
      " |  ----------------------------------------------------------------------\n",
      " |  Data and other attributes defined here:\n",
      " |  \n",
      " |  counter = 4\n",
      "\n"
     ]
    }
   ],
   "source": [
    "help(c)"
   ]
  },
  {
   "cell_type": "code",
   "execution_count": 31,
   "metadata": {
    "collapsed": false
   },
   "outputs": [
    {
     "name": "stdout",
     "output_type": "stream",
     "text": [
      "My name is  16  , you've Created me!\n"
     ]
    }
   ],
   "source": [
    "d = c.__init__()"
   ]
  },
  {
   "cell_type": "code",
   "execution_count": 32,
   "metadata": {
    "collapsed": false
   },
   "outputs": [
    {
     "data": {
      "text/plain": [
       "4461293992"
      ]
     },
     "execution_count": 32,
     "metadata": {},
     "output_type": "execute_result"
    }
   ],
   "source": [
    "id(d)"
   ]
  },
  {
   "cell_type": "code",
   "execution_count": 33,
   "metadata": {
    "collapsed": false
   },
   "outputs": [
    {
     "name": "stdout",
     "output_type": "stream",
     "text": [
      "5  times has been called. \n"
     ]
    }
   ],
   "source": [
    "e = a.__new__(Count_new_init)"
   ]
  },
  {
   "cell_type": "code",
   "execution_count": 34,
   "metadata": {
    "collapsed": false
   },
   "outputs": [
    {
     "data": {
      "text/plain": [
       "<__main__.Count_new_init at 0x10b8172b0>"
      ]
     },
     "execution_count": 34,
     "metadata": {},
     "output_type": "execute_result"
    }
   ],
   "source": [
    "e"
   ]
  },
  {
   "cell_type": "code",
   "execution_count": 35,
   "metadata": {
    "collapsed": false
   },
   "outputs": [
    {
     "data": {
      "text/plain": [
       "4488000176"
      ]
     },
     "execution_count": 35,
     "metadata": {},
     "output_type": "execute_result"
    }
   ],
   "source": [
    "id(e)"
   ]
  },
  {
   "cell_type": "code",
   "execution_count": 36,
   "metadata": {
    "collapsed": false
   },
   "outputs": [
    {
     "name": "stdout",
     "output_type": "stream",
     "text": [
      "Help on Count_new_init in module __main__ object:\n",
      "\n",
      "class Count_new_init(builtins.object)\n",
      " |  Methods defined here:\n",
      " |  \n",
      " |  __init__(self)\n",
      " |      Initialize self.  See help(type(self)) for accurate signature.\n",
      " |  \n",
      " |  ----------------------------------------------------------------------\n",
      " |  Static methods defined here:\n",
      " |  \n",
      " |  __new__(cls)\n",
      " |      Create and return a new object.  See help(type) for accurate signature.\n",
      " |  \n",
      " |  ----------------------------------------------------------------------\n",
      " |  Data descriptors defined here:\n",
      " |  \n",
      " |  __dict__\n",
      " |      dictionary for instance variables (if defined)\n",
      " |  \n",
      " |  __weakref__\n",
      " |      list of weak references to the object (if defined)\n",
      " |  \n",
      " |  ----------------------------------------------------------------------\n",
      " |  Data and other attributes defined here:\n",
      " |  \n",
      " |  counter = 5\n",
      "\n"
     ]
    }
   ],
   "source": [
    "help(e)"
   ]
  },
  {
   "cell_type": "markdown",
   "metadata": {},
   "source": [
    "可以看出,`__new__`运算符返回的是一个对象,这个对象就是类对象,但不知为何指向的id并不相同,如果有人知道希望可以告诉我,谢谢!"
   ]
  },
  {
   "cell_type": "markdown",
   "metadata": {},
   "source": [
    "### `__del__`析构运算符\n",
    "\n",
    "析构运算符`__del__`定义当对象实例被删除或者释放时的操作,继续修改那个例子"
   ]
  },
  {
   "cell_type": "code",
   "execution_count": 82,
   "metadata": {
    "collapsed": true
   },
   "outputs": [],
   "source": [
    "class Count_new_init__del(object):\n",
    "    counter = 0\n",
    "    def __new__(cls):\n",
    "        cls.counter += 1\n",
    "        print(cls.counter,\" times has been called. \")\n",
    "        return super(Count_new_init__del,cls).__new__(cls)\n",
    "    def __init__(self):\n",
    "        self.name = self.counter<<2\n",
    "        print(\"My name is \",self.name,\" , you've Created me!\")\n",
    "        \n",
    "    def __del__(self):\n",
    "        print(\"I'm \",self.name,\", I'll leave now!\")"
   ]
  },
  {
   "cell_type": "code",
   "execution_count": 83,
   "metadata": {
    "collapsed": false
   },
   "outputs": [
    {
     "name": "stdout",
     "output_type": "stream",
     "text": [
      "1  times has been called. \n",
      "My name is  4  , you've Created me!\n"
     ]
    }
   ],
   "source": [
    "c = Count_new_init__del()"
   ]
  },
  {
   "cell_type": "code",
   "execution_count": 84,
   "metadata": {
    "collapsed": false
   },
   "outputs": [
    {
     "name": "stdout",
     "output_type": "stream",
     "text": [
      "I'm  4 , I'll leave now!\n"
     ]
    }
   ],
   "source": [
    "c = 1"
   ]
  },
  {
   "cell_type": "code",
   "execution_count": 85,
   "metadata": {
    "collapsed": false
   },
   "outputs": [
    {
     "name": "stdout",
     "output_type": "stream",
     "text": [
      "2  times has been called. \n",
      "My name is  8  , you've Created me!\n"
     ]
    }
   ],
   "source": [
    "d = Count_new_init__del()"
   ]
  },
  {
   "cell_type": "code",
   "execution_count": 86,
   "metadata": {
    "collapsed": false
   },
   "outputs": [
    {
     "name": "stdout",
     "output_type": "stream",
     "text": [
      "I'm  8 , I'll leave now!\n"
     ]
    }
   ],
   "source": [
    "del d"
   ]
  },
  {
   "cell_type": "markdown",
   "metadata": {},
   "source": [
    "### `__call__`运算符\n",
    "\n",
    "类型对象函数化运算符(可以理解成重载`()`)\n",
    "\n",
    "`__call__`常用在写API时,\n",
    "\n",
    "> 例:建立一个类,模拟函数的参数传递"
   ]
  },
  {
   "cell_type": "code",
   "execution_count": 11,
   "metadata": {
    "collapsed": false
   },
   "outputs": [
    {
     "name": "stdout",
     "output_type": "stream",
     "text": [
      "called: (10,) {}\n"
     ]
    }
   ],
   "source": [
    "class function(object):\n",
    "    def __call__(self,*args,**kws):\n",
    "        print(\"called:\",args,kws)\n",
    "c = function()\n",
    "c(10)"
   ]
  },
  {
   "cell_type": "markdown",
   "metadata": {},
   "source": [
    "> 例:建立一个被回收时会提醒的类"
   ]
  },
  {
   "cell_type": "code",
   "execution_count": 13,
   "metadata": {
    "collapsed": false
   },
   "outputs": [
    {
     "name": "stdout",
     "output_type": "stream",
     "text": [
      "Dio 诞生了\n",
      "JOJO! 我 Dio 不做人啦!!!\n"
     ]
    }
   ],
   "source": [
    "class Life(object):\n",
    "    def __init__(self,name=\"nodefined\"):\n",
    "        print(name,\"诞生了\")\n",
    "        self.name = name\n",
    "    def __del__(self):\n",
    "        print(\"JOJO!\",\"我\",self.name,\"不做人啦!!!\")\n",
    "Dio=Life(\"Dio\")\n",
    "Dio = \"吸血鬼\""
   ]
  },
  {
   "cell_type": "markdown",
   "metadata": {},
   "source": [
    "### `__next__`和`__iter__` 迭代器运算符\n",
    "\n",
    "迭代器运算符,有他就说明可以用for循环遍历啥的.它是python的一大特性,与他类似的是函数式编程部分会提到的生成器.\n",
    "\n",
    "> 迭代器\n",
    "\n",
    "我们已经知道，可以直接作用于for循环的数据类型有以下几种：\n",
    "\n",
    "+ 一类是集合数据类型，如list、tuple、dict、set、str等；\n",
    "\n",
    "+ 一类是generator，包括生成器和带`yield`的generator function。\n",
    "\n",
    "这些可以直接作用于for循环的对象统称为可迭代对象：`Iterable`。\n",
    "\n",
    "可以使用`isinstance()`判断一个对象是否是`Iterable`对象\n",
    "\n",
    "可以被next()函数调用并不断返回下一个值的对象称为迭代器：Iterator。\n",
    "\n",
    "可以使用isinstance()判断一个对象是否是Iterator对象\n",
    "\n",
    "生成器都是Iterator对象，但list、dict、str虽然是Iterable，却不是Iterator。\n",
    "\n",
    "把list、dict、str等Iterable变成Iterator可以使用iter()函数."
   ]
  },
  {
   "cell_type": "markdown",
   "metadata": {},
   "source": [
    "> 例:我们来写一个输出元素三次方的类试试"
   ]
  },
  {
   "cell_type": "code",
   "execution_count": 126,
   "metadata": {
    "collapsed": true
   },
   "outputs": [],
   "source": [
    "class ThreeTimes(object):\n",
    "    def __init__(self,start,end,step=1):\n",
    "        self.start = start\n",
    "        self.end = end\n",
    "        self.step = step\n",
    "        self.n = start\n",
    "    def __iter__(self):\n",
    "        return self\n",
    "    def __next__(self):\n",
    "        print(\"__next__ called\")\n",
    "        result = self.n**3\n",
    "        if self.step == 0:\n",
    "            raise InputError(\"step must not 0!\")\n",
    "        elif self.step > 0:\n",
    "            if self.n >= self.end:\n",
    "                raise StopIteration()\n",
    "            else:\n",
    "                self.n=self.n+self.step\n",
    "                return result\n",
    "        else :\n",
    "            if self.n <= self.end:\n",
    "                raise StopIteration\n",
    "            else:\n",
    "                self.n=self.n+self.step\n",
    "                return result\n",
    "    def __str__(self):\n",
    "        return \"threetimes:\"+str(list(iter(self)))\n",
    "    def __repr__(self):\n",
    "        return self.__str__()"
   ]
  },
  {
   "cell_type": "code",
   "execution_count": 127,
   "metadata": {
    "collapsed": false
   },
   "outputs": [
    {
     "name": "stdout",
     "output_type": "stream",
     "text": [
      "__next__ called\n",
      "__next__ called\n",
      "__next__ called\n",
      "__next__ called\n",
      "__next__ called\n"
     ]
    },
    {
     "data": {
      "text/plain": [
       "threetimes:[1, 8, 27, 64]"
      ]
     },
     "execution_count": 127,
     "metadata": {},
     "output_type": "execute_result"
    }
   ],
   "source": [
    "a = ThreeTimes(1,5)\n",
    "a"
   ]
  },
  {
   "cell_type": "markdown",
   "metadata": {},
   "source": [
    "这个例子我们可以看到`__next__`和`__iter__`是如何工作的.可以看出迭代器的写法比生成器要麻烦许多,也不够优雅,但可定制性也强了许多."
   ]
  },
  {
   "cell_type": "markdown",
   "metadata": {},
   "source": [
    "### `__enter__`和`__exit__` 上下文运算符和with关键字\n",
    "\n",
    "我们在文件读取的时候应该已经很熟悉 with关键字了,它的用法是这样:\n",
    "\n",
    "    with open('foo.txt') as bar:\n",
    "        # 使用bar进行某些操作\n",
    "\n",
    "当对象使用 with 声明创建时，上下文管理器允许类做一些设置和清理工作。上下文管理器的行为由下面两个运算符接口所定义：\n",
    "\n",
    "+ `__enter__(self)`\n",
    "\n",
    "定义使用 with 声明创建的语句块最开始上下文管理器应该做些什么。注意 `__enter__` 的返回值会赋给 with 声明的目标，也就是 as 之后的东西。\n",
    "\n",
    "+ `__exit__(self, exception_type, exception_value, traceback)`\n",
    "\n",
    "定义当 with 声明语句块执行完毕（或终止）时上下文管理器的行为。它可以用来处理异常，进行清理，或者做其他应该在语句块结束之后立刻执行的工作。如果语句块顺利执行， exception_type , exception_value 和 traceback 会是 None 。否则，你可以选择处理这个异常或者让用户来处理。如果你想处理异常，确保 `__exit__` 在完成工作之后返回 True 。如果你不想处理异常，那就让它发生吧。\n",
    "\n",
    "对一些具有良好定义的且通用的设置和清理行为的类，__enter__ 和 __exit__ 会显得特别有用。你也可以使用这几个方法来创建通用的上下文管理器，用来包装其他对象。下面是一个例子:\n",
    "\n"
   ]
  },
  {
   "cell_type": "code",
   "execution_count": 12,
   "metadata": {
    "collapsed": false
   },
   "outputs": [],
   "source": [
    "class Spliter:\n",
    "    '''一个上下文管理器，可以在with语句中\n",
    "    使用split()自动为string分词'''\n",
    "\n",
    "    def __init__(self, string):\n",
    "        self.string = string\n",
    "\n",
    "    def __enter__(self):\n",
    "        print(\"进入了\",self.string)\n",
    "        return self.string # 绑定到目标\n",
    "\n",
    "    def __exit__(self, exception_type, exception_value, traceback):\n",
    "        try:\n",
    "                print(self.string.split(\" \"))\n",
    "                \n",
    "        except AttributeError: # obj不是可关闭的\n",
    "                print('Not closable.')\n",
    "                return True # 成功地处理了异常"
   ]
  },
  {
   "cell_type": "code",
   "execution_count": 14,
   "metadata": {
    "collapsed": false
   },
   "outputs": [
    {
     "name": "stdout",
     "output_type": "stream",
     "text": [
      "进入了 a simple example !\n",
      "18\n",
      "['a', 'simple', 'example', '!']\n"
     ]
    }
   ],
   "source": [
    "with Spliter(\"a simple example !\") as string:\n",
    "    print(len(string))"
   ]
  },
  {
   "cell_type": "markdown",
   "metadata": {},
   "source": [
    "这是一个 Closer 在实际使用中的例子，使用一个FTP连接来演示（一个可关闭的socket):"
   ]
  },
  {
   "cell_type": "markdown",
   "metadata": {},
   "source": [
    "### `__copy__`和`__deepcopy__`拷贝\n",
    "\n",
    "\n",
    "有些时候，特别是处理可变对象时，你可能想拷贝一个对象，改变这个对象而不影响原有的对象。这时就需要用到Python的 copy 模块了。然而（幸运的是），Python模块并不具有感知能力， 因此我们不用担心某天基于Linux的机器人崛起。但是我们的确需要告诉Python如何有效率地拷贝对象。\n",
    "\n",
    "+ `__copy__(self)`\n",
    "\n",
    "定义对类的实例使用 copy.copy() 时的行为。 copy.copy() 返回一个对象的浅拷贝，这意味着拷贝出的实例是全新的，然而里面的数据全都是引用的。也就是说，对象本身是拷贝的，但是它的数据还是引用的（所以浅拷贝中的数据更改会影响原对象）。\n",
    "\n",
    "+ `__deepcopy__(self, emodict=)`\n",
    "\n",
    "定义对类的实例使用 copy.deepcopy() 时的行为。 copy.deepcopy() 返回一个对象的深拷贝，这个对象和它的数据全都被拷贝了一份。 memodict 是一个先前拷贝对象的缓存，它优化了拷贝过程，而且可以防止拷贝递归数据结构时产生无限递归。当你想深拷贝一个单独的属性时，在那个属性上调用 copy.deepcopy() ，使用 memodict 作为第一个参数。\n",
    "\n",
    "这些魔法方法有什么用武之地呢？像往常一样，当你需要比默认行为更加精确的控制时。例如，如果你想拷贝一个对象，其中存储了一个字典作为缓存（可能会很大），拷贝缓存可能是没有意义的。如果这个缓存可以在内存中被不同实例共享，那么它就应该被共享。"
   ]
  }
 ],
 "metadata": {
  "kernelspec": {
   "display_name": "Python 3",
   "language": "python",
   "name": "python3"
  },
  "language_info": {
   "codemirror_mode": {
    "name": "ipython",
    "version": 3
   },
   "file_extension": ".py",
   "mimetype": "text/x-python",
   "name": "python",
   "nbconvert_exporter": "python",
   "pygments_lexer": "ipython3",
   "version": "3.5.1"
  }
 },
 "nbformat": 4,
 "nbformat_minor": 0
}
