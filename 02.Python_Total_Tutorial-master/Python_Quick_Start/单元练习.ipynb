{
 "cells": [
  {
   "cell_type": "markdown",
   "metadata": {},
   "source": [
    "# 单元练习\n",
    "\n",
    "前面该学的都学了,我们来做个关于N皇后问题的练习,这个是个经典的算法问题,要求在N\\*N的棋盘上摆放N个旗子(皇后)他们必须横竖斜8个方向上都不会相遇.\n",
    "\n",
    "这个题目其实是说白了就是矩阵运算.我们需要判断每个皇后在横竖斜3个方向有没有别的皇后,其实思路上来说就是穷举了\n"
   ]
  },
  {
   "cell_type": "code",
   "execution_count": 5,
   "metadata": {
    "collapsed": false
   },
   "outputs": [
    {
     "name": "stdout",
     "output_type": "stream",
     "text": [
      "Overwriting NQUEEN.py\n"
     ]
    }
   ],
   "source": [
    "%%writefile NQUEEN.py\n",
    "# --*-- coding:utf-8 --*--\n",
    "from __future__ import print_function\n",
    "N = 4                                   # Default; command line overrides\n",
    "\n",
    "class Queens:\n",
    "\n",
    "    def __init__(self, n=N):\n",
    "        self.n = n\n",
    "        self.reset()\n",
    "\n",
    "    def reset(self):\n",
    "        n = self.n\n",
    "        self.y = [None] * n             # Where is the queen in column x\n",
    "        self.row = [0] * n              # Is row[y] safe?\n",
    "        self.up = [0] * (2*n-1)         # Is upward diagonal[x-y] safe?\n",
    "        self.down = [0] * (2*n-1)       # Is downward diagonal[x+y] safe?\n",
    "        self.nfound = 0                 # Instrumentation\n",
    "\n",
    "    def solve(self, x=0):               # Recursive solver\n",
    "        for y in range(self.n):\n",
    "            if self.safe(x, y):\n",
    "                self.place(x, y)\n",
    "                if x+1 == self.n:\n",
    "                    self.display()\n",
    "                else:\n",
    "                    self.solve(x+1)\n",
    "                self.remove(x, y)\n",
    "\n",
    "    def safe(self, x, y):\n",
    "        return not self.row[y] and not self.up[x-y] and not self.down[x+y]\n",
    "\n",
    "    def place(self, x, y):\n",
    "        self.y[x] = y\n",
    "        self.row[y] = 1\n",
    "        self.up[x-y] = 1\n",
    "        self.down[x+y] = 1\n",
    "\n",
    "    def remove(self, x, y):\n",
    "        self.y[x] = None\n",
    "        self.row[y] = 0\n",
    "        self.up[x-y] = 0\n",
    "        self.down[x+y] = 0\n",
    "\n",
    "    silent = 0                          # If true, count solutions only\n",
    "\n",
    "    def display(self):\n",
    "        self.nfound = self.nfound + 1\n",
    "        if self.silent:\n",
    "            return\n",
    "        print('+-' + '--'*self.n + '+')\n",
    "        for y in range(self.n-1, -1, -1):\n",
    "            print('|', end=' ')\n",
    "            for x in range(self.n):\n",
    "                if self.y[x] == y:\n",
    "                    print(\"Q\", end=' ')\n",
    "                else:\n",
    "                    print(\".\", end=' ')\n",
    "            print('|')\n",
    "        print('+-' + '--'*self.n + '+')\n",
    "\n",
    "def main():\n",
    "    import sys\n",
    "    silent = 0\n",
    "    n = N\n",
    "    if sys.argv[1:2] == ['-n']:\n",
    "        silent = 1\n",
    "        del sys.argv[1]\n",
    "    if sys.argv[1:]:\n",
    "        n = int(sys.argv[1])\n",
    "    q = Queens(n)\n",
    "    q.silent = silent\n",
    "    q.solve()\n",
    "    print(\"Found\", q.nfound, \"solutions.\")\n",
    "\n",
    "if __name__ == \"__main__\":\n",
    "    main()"
   ]
  },
  {
   "cell_type": "code",
   "execution_count": 6,
   "metadata": {
    "collapsed": false
   },
   "outputs": [
    {
     "name": "stdout",
     "output_type": "stream",
     "text": [
      "+---------+\r\n",
      "| . Q . . |\r\n",
      "| . . . Q |\r\n",
      "| Q . . . |\r\n",
      "| . . Q . |\r\n",
      "+---------+\r\n",
      "+---------+\r\n",
      "| . . Q . |\r\n",
      "| Q . . . |\r\n",
      "| . . . Q |\r\n",
      "| . Q . . |\r\n",
      "+---------+\r\n",
      "Found 2 solutions.\r\n"
     ]
    }
   ],
   "source": [
    "!python NQUEEN.py"
   ]
  }
 ],
 "metadata": {
  "kernelspec": {
   "display_name": "Python 3",
   "language": "python",
   "name": "python3"
  },
  "language_info": {
   "codemirror_mode": {
    "name": "ipython",
    "version": 3
   },
   "file_extension": ".py",
   "mimetype": "text/x-python",
   "name": "python",
   "nbconvert_exporter": "python",
   "pygments_lexer": "ipython3",
   "version": "3.5.1"
  }
 },
 "nbformat": 4,
 "nbformat_minor": 0
}
