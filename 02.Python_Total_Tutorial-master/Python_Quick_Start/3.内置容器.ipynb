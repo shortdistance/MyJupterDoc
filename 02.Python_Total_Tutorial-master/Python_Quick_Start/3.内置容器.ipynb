{
 "cells": [
  {
   "cell_type": "markdown",
   "metadata": {},
   "source": [
    "# 内置容器\n",
    "\n",
    "python的自带容器非常简单基础,按是否有序可以分为序列和无序序列两种\n",
    "\n",
    "容器之所以是容器,就是因为他们可以存放单独的数据或者结构化数据,我们来看看他们内部的样子,以字典为例:"
   ]
  },
  {
   "cell_type": "code",
   "execution_count": 19,
   "metadata": {
    "collapsed": true
   },
   "outputs": [],
   "source": [
    "dic1 = {1:\"a\",2:\"b\"}"
   ]
  },
  {
   "cell_type": "code",
   "execution_count": 21,
   "metadata": {
    "collapsed": false
   },
   "outputs": [
    {
     "data": {
      "text/plain": [
       "4492162808"
      ]
     },
     "execution_count": 21,
     "metadata": {},
     "output_type": "execute_result"
    }
   ],
   "source": [
    "id(dic1[1])"
   ]
  },
  {
   "cell_type": "code",
   "execution_count": 22,
   "metadata": {
    "collapsed": true
   },
   "outputs": [],
   "source": [
    "dic1[1]=\"c\""
   ]
  },
  {
   "cell_type": "code",
   "execution_count": 23,
   "metadata": {
    "collapsed": false
   },
   "outputs": [
    {
     "data": {
      "text/plain": [
       "4491419296"
      ]
     },
     "execution_count": 23,
     "metadata": {},
     "output_type": "execute_result"
    }
   ],
   "source": [
    "id(dic1[1])"
   ]
  },
  {
   "cell_type": "markdown",
   "metadata": {},
   "source": [
    "可见其实这些容器内存放的也是引用而已."
   ]
  },
  {
   "cell_type": "markdown",
   "metadata": {},
   "source": [
    "## 容器的通用操作"
   ]
  },
  {
   "cell_type": "markdown",
   "metadata": {},
   "source": [
    "对于容器,有些操作是通用的,比如:\n",
    "> 取长度(容量)"
   ]
  },
  {
   "cell_type": "code",
   "execution_count": 1,
   "metadata": {
    "collapsed": false
   },
   "outputs": [
    {
     "data": {
      "text/plain": [
       "2"
      ]
     },
     "execution_count": 1,
     "metadata": {},
     "output_type": "execute_result"
    }
   ],
   "source": [
    "len({1:\"a\",2:\"b\"})"
   ]
  },
  {
   "cell_type": "markdown",
   "metadata": {},
   "source": [
    "> map操作"
   ]
  },
  {
   "cell_type": "code",
   "execution_count": 8,
   "metadata": {
    "collapsed": false
   },
   "outputs": [
    {
     "data": {
      "text/plain": [
       "[2, 3]"
      ]
     },
     "execution_count": 8,
     "metadata": {},
     "output_type": "execute_result"
    }
   ],
   "source": [
    "list(map(lambda x:x+1,{1:\"a\",2:\"b\"}))"
   ]
  },
  {
   "cell_type": "markdown",
   "metadata": {},
   "source": [
    "以及其他一些函数式编程工具"
   ]
  },
  {
   "cell_type": "markdown",
   "metadata": {},
   "source": [
    "## 序列--字符串，列表，元组\n",
    "序列除了字符串外都是非常灵活的容器,内容可以是任何类型,并且内部元素类型并不需要一样.\n",
    "这一组都有一个共性,就是内容有顺序,可以切片或者按位获取内容\n",
    "\n",
    "### 通用操作\n",
    "\n",
    "> 取值和切片\n",
    "\n",
    "python 用`[]`来取值和切片\n",
    "\n",
    "比如`[1]`代表取第一位的值(序列中为第2个元素).`[-1]`代表最后一个元素,而当`[]`中有两个被`:`分割开得数时就成了切片,比如`[2:4]`代表取从第2位到第3位的元素组成一个与原来序列相同类型的新序列\n",
    "\n",
    "**练习:**\n",
    "\n",
    "从矩阵[[1,2,3,4,5],[0,9,8,7,6]]中取出前两位组成的2x2矩阵\n"
   ]
  },
  {
   "cell_type": "code",
   "execution_count": 14,
   "metadata": {
    "collapsed": false
   },
   "outputs": [
    {
     "data": {
      "text/plain": [
       "[[1, 2, 3, 4, 5], [0, 9, 8, 7, 6]]"
      ]
     },
     "execution_count": 14,
     "metadata": {},
     "output_type": "execute_result"
    }
   ],
   "source": [
    "a = [[1,2,3,4,5],[0,9,8,7,6]]\n",
    "a"
   ]
  },
  {
   "cell_type": "code",
   "execution_count": 15,
   "metadata": {
    "collapsed": false
   },
   "outputs": [
    {
     "data": {
      "text/plain": [
       "[[1, 2], [0, 9]]"
      ]
     },
     "execution_count": 15,
     "metadata": {},
     "output_type": "execute_result"
    }
   ],
   "source": [
    "[a[0][:2],a[1][:2]]"
   ]
  },
  {
   "cell_type": "markdown",
   "metadata": {},
   "source": [
    "> 使用enumerate遍历序列\n",
    "\n",
    "可以用\n",
    "\n",
    "    for i,v in enumerate(s):\n",
    "\n",
    "来遍历一个序列,i为序号,v为值,这种方式长用于挑选数据,这也是最推荐的方式\n",
    "\n",
    "例:"
   ]
  },
  {
   "cell_type": "code",
   "execution_count": 2,
   "metadata": {
    "collapsed": true
   },
   "outputs": [],
   "source": [
    "a = enumerate(\"asdf\")"
   ]
  },
  {
   "cell_type": "code",
   "execution_count": 28,
   "metadata": {
    "collapsed": false
   },
   "outputs": [
    {
     "name": "stdout",
     "output_type": "stream",
     "text": [
      "0 a\n",
      "1 s\n",
      "2 d\n",
      "3 f\n"
     ]
    }
   ],
   "source": [
    "for i,v in enumerate(\"asdf\"):\n",
    "    print(i,v)"
   ]
  },
  {
   "cell_type": "markdown",
   "metadata": {},
   "source": [
    "### 字符串\n",
    "字符串就是把字符按顺序串联.不过和C不同,事实上python没有字符char这个类型,\n",
    "所以python中所谓字符就是只有一位的字符串啦.\n",
    "\n",
    "字符串可以用`\"\"`或者`''`来定义.如果字符串很长要跨行也可以用`\"\"\" \"\"\"`或者`''' '''`来定义.\n",
    "\n",
    "字符串一旦赋值就无法更改.\n",
    "\n",
    ">字符串的方法:\n",
    "\n",
    "字符串处理算是python强项,除了自带方法和自带String模块外,还可以用正则表达式处理.\n",
    "这边先看前两种,正则表达式会作为番外篇\n",
    "\n",
    "+ 字符串中字符大小写的变换：\n",
    "        S.lower() #小写\n",
    "        S.upper() #大写\n",
    "        S.swapcase() #大小写互换\n",
    "        S.capitalize() #首字母大写\n",
    "        String.capwords(S) #这是模块中的方法。它把S用split()函数分开，然后用capitalize()把首字母变成大写，最后用join()合并到一起\n",
    "        S.title() #只有首字母大写，其余为小写，模块中没有这个方法\n",
    "\n",
    "\n",
    "+ 字符串在输出时的对齐：\n",
    "\n",
    "        S.ljust(width,[fillchar])    #输出width个字符，S左对齐，不足部分用fillchar填充，默认的为空格。\n",
    "        S.rjust(width,[fillchar]) #右对齐\n",
    "        S.center(width, [fillchar]) #中间对齐\n",
    "        S.zfill(width) #把S变成width长，并在右对齐，不足部分用0补足\n",
    "\n",
    "+ 字符串中的搜索和替换：\n",
    "\n",
    "        S.find(substr, [start, [end]]) #返回S中出现substr的第一个字母的标号，如果S中没有substr则返回-1。start和end作用就相当于在S[start:end]中搜索\n",
    "        S.index(substr, [start, [end]]) #与find()相同，只是在S中没有substr时，会返回一个运行时错误\n",
    "        S.rfind(substr, [start, [end]]) #返回S中最后出现的substr的第一个字母的标号，如果S中没有substr则返回-1，也就是说从右边算起的第一次出现的substr的首字母标号\n",
    "        S.rindex(substr, [start, [end]])\n",
    "        S.count(substr, [start, [end]]) #计算substr在S中出现的次数\n",
    "        S.replace(oldstr, newstr, [count]) #把S中的oldstar替换为newstr，count为替换次数。这是替换的通用形式，还有一些函数进行特殊字符的替换\n",
    "        S.strip([chars]) #把S中前后chars中有的字符全部去掉，可以理解为把S前后chars替换为None\n",
    "        S.lstrip([chars])\n",
    "        S.rstrip([chars])\n",
    "        S.expandtabs([tabsize]) #把S中的tab字符替换没空格，每个tab替换为tabsize个空格，默认是8个\n",
    "\n",
    "+ 字符串的分割和组合：\n",
    "\n",
    "        S.split([sep, [maxsplit]]) #以sep为分隔符，把S分成一个list。maxsplit表示分割的次数。默认的分割符为空白字符\n",
    "        S.rsplit([sep, [maxsplit]])\n",
    "        S.splitlines([keepends]) #把S按照行分割符分为一个list，keepends是一个bool值，如果为真每行后而会保留行分割符。\n",
    "        S.join(seq) #把seq代表的序列──字符串序列，用S连接起来\n",
    "\n",
    "+ 字符串的mapping，这一功能包含两个函数：\n",
    "\n",
    "        String.maketrans(from, to) #返回一个256个字符组成的翻译表，其中from中的字符被一一对应地转换成to，所以from和to必须是等长的。\n",
    "        S.translate(table[,deletechars]) # 使用上面的函数产后的翻译表，把S进行翻译，并把deletechars中有的字符删掉。需要注意的是，如果S为unicode字符串，那么就不支持 deletechars参数，可以使用把某个字符翻译为None的方式实现相同的功能。此外还可以使用codecs模块的功能来创建更加功能强大的翻译表。\n",
    "\n",
    "+ 字符串还有一对编码和解码的函数：\n",
    "\n",
    "        S.encode([encoding,[errors]]) # 其中encoding可以有多种值，比如gb2312 gbk gb18030 bz2 zlib big5 bzse64等都支持。errors默认值为\"strict\"，意思是UnicodeError。可能的值还有'ignore', 'replace', 'xmlcharrefreplace', 'backslashreplace' 和所有的通过codecs.register_error注册的值。这一部分内容涉及codecs模块，不是特明白\n",
    "\n",
    "        S.decode([encoding,[errors]]) #字符串的测试函数，这一类函数在string模块中没有，这些函数返回的都是bool值：\n",
    "\n",
    "        S.startwith(prefix[,start[,end]]) #是否以prefix开头\n",
    "        S.endwith(suffix[,start[,end]]) #以suffix结尾\n",
    "        S.isalnum() #是否全是字母和数字，并至少有一个字符\n",
    "        S.isalpha() #是否全是字母，并至少有一个字符\n",
    "        S.isdigit() #是否全是数字，并至少有一个字符\n",
    "        S.isspace() #是否全是空白字符，并至少有一个字符\n",
    "        S.islower() #S中的字母是否全是小写\n",
    "        S.isupper() #S中的字母是否便是大写\n",
    "        S.istitle() #S是否是首字母大写的\n",
    "\n",
    "+ 字符串类型转换函数，这几个函数只在string模块中有：\n",
    "\n",
    "        string.atoi(s[,base]) #base默认为10，如果为0,那么s就可以是012或0x23这种形式的字符串，如果是16那么s就只能是0x23或0X12这种形式的字符串\n",
    "        string.atol(s[,base]) #转成long\n",
    "        string.atof(s[,base]) #转成float\n",
    "\n",
    "\n"
   ]
  },
  {
   "cell_type": "markdown",
   "metadata": {},
   "source": [
    "#### python3中的字符串\n",
    "\n",
    "在python3中增加了一个新的方法叫format().这个方法是用来代替`%d`这种格式化字符串方法的(后者在python3中已经无法使用了)."
   ]
  },
  {
   "cell_type": "code",
   "execution_count": 16,
   "metadata": {
    "collapsed": false
   },
   "outputs": [
    {
     "name": "stdout",
     "output_type": "stream",
     "text": [
      "this is 2015-7-11\n"
     ]
    }
   ],
   "source": [
    "print(\"this is {}-{}-{}\".format(2015,7,11))"
   ]
  },
  {
   "cell_type": "code",
   "execution_count": 17,
   "metadata": {
    "collapsed": false
   },
   "outputs": [
    {
     "name": "stdout",
     "output_type": "stream",
     "text": [
      "this is 2015-7-11\n"
     ]
    }
   ],
   "source": [
    "print(\"this is {y:}-{m:}-{d:}\".format(y=2015,m=7,d=11))"
   ]
  },
  {
   "cell_type": "code",
   "execution_count": 18,
   "metadata": {
    "collapsed": false,
    "scrolled": true
   },
   "outputs": [
    {
     "name": "stdout",
     "output_type": "stream",
     "text": [
      "the price is $12.35\n"
     ]
    }
   ],
   "source": [
    "print(\"the price is ${:.2f}\".format(12.346))#按四舍五入取值"
   ]
  },
  {
   "cell_type": "markdown",
   "metadata": {},
   "source": [
    "#### 字符串拼接\n",
    "\n",
    "字符串有两种拼接方式,`+`和`join`方法,一般来说是join方法更加推荐,因为它的效率比`+`高很多,而且语义更加明确"
   ]
  },
  {
   "cell_type": "markdown",
   "metadata": {},
   "source": [
    "#### 格式化字符串\n",
    "\n",
    "格式化字符串更加推荐的是用format方法,因为%号虽然python2也行,但已经不合python3版本的规范了.而且它还要记许多的格式化标记\n",
    "\n",
    "format方法有4种使用方法:\n",
    "\n",
    "+ 位置占位符\n"
   ]
  },
  {
   "cell_type": "code",
   "execution_count": 1,
   "metadata": {
    "collapsed": false
   },
   "outputs": [
    {
     "data": {
      "text/plain": [
       "'一是1'"
      ]
     },
     "execution_count": 1,
     "metadata": {},
     "output_type": "execute_result"
    }
   ],
   "source": [
    "\"{}是{}\".format(\"一\",1)"
   ]
  },
  {
   "cell_type": "markdown",
   "metadata": {},
   "source": [
    "+ 使用键值对"
   ]
  },
  {
   "cell_type": "code",
   "execution_count": 7,
   "metadata": {
    "collapsed": false
   },
   "outputs": [
    {
     "data": {
      "text/plain": [
       "'一是1'"
      ]
     },
     "execution_count": 7,
     "metadata": {},
     "output_type": "execute_result"
    }
   ],
   "source": [
    "\"{a:}是{b:}\".format(a=\"一\",b=1)"
   ]
  },
  {
   "cell_type": "markdown",
   "metadata": {},
   "source": [
    "看到:后面是可以使用格式化标识的"
   ]
  },
  {
   "cell_type": "code",
   "execution_count": 10,
   "metadata": {
    "collapsed": true
   },
   "outputs": [],
   "source": [
    "import math"
   ]
  },
  {
   "cell_type": "code",
   "execution_count": 13,
   "metadata": {
    "collapsed": false
   },
   "outputs": [
    {
     "data": {
      "text/plain": [
       "'pi是3.142'"
      ]
     },
     "execution_count": 13,
     "metadata": {},
     "output_type": "execute_result"
    }
   ],
   "source": [
    "\"{a:}是{b:0.3f}\".format(a=\"pi\",b=math.pi)"
   ]
  },
  {
   "cell_type": "markdown",
   "metadata": {},
   "source": [
    "+ 使用属性"
   ]
  },
  {
   "cell_type": "code",
   "execution_count": 21,
   "metadata": {
    "collapsed": true
   },
   "outputs": [],
   "source": [
    "class Person:\n",
    "    def __init__(self,name,age):\n",
    "        self.name=name\n",
    "        self.age=age\n",
    "        \n",
    "    def toString(self):\n",
    "        return \"{self.name}今年{self.age}岁\".format(self=self)"
   ]
  },
  {
   "cell_type": "code",
   "execution_count": 22,
   "metadata": {
    "collapsed": false
   },
   "outputs": [],
   "source": [
    "xiaoming = Person(\"XM\",18)"
   ]
  },
  {
   "cell_type": "code",
   "execution_count": 23,
   "metadata": {
    "collapsed": false
   },
   "outputs": [
    {
     "data": {
      "text/plain": [
       "'XM今年18岁'"
      ]
     },
     "execution_count": 23,
     "metadata": {},
     "output_type": "execute_result"
    }
   ],
   "source": [
    "xiaoming.toString()"
   ]
  },
  {
   "cell_type": "markdown",
   "metadata": {},
   "source": [
    "+ 使用元组"
   ]
  },
  {
   "cell_type": "code",
   "execution_count": 25,
   "metadata": {
    "collapsed": false
   },
   "outputs": [],
   "source": [
    "point = (1,3)"
   ]
  },
  {
   "cell_type": "code",
   "execution_count": 26,
   "metadata": {
    "collapsed": false
   },
   "outputs": [
    {
     "data": {
      "text/plain": [
       "'X=1;Y=3'"
      ]
     },
     "execution_count": 26,
     "metadata": {},
     "output_type": "execute_result"
    }
   ],
   "source": [
    "\"X={0[0]};Y={0[1]}\".format(point)"
   ]
  },
  {
   "cell_type": "markdown",
   "metadata": {},
   "source": [
    "### 列表\n",
    "\n",
    "列表可以看作C,java中的数组,定义方式有两种:\n",
    "\n",
    "    a=[]\n",
    "    b=list()\n",
    "\n",
    "列表属于可变数据类型,它的内部其实\n",
    "\n",
    "> 列表的方法:\n",
    "\n",
    "\n",
    "序号|函数|说明\n",
    "---|---|---\n",
    "1|cmp(list1, list2)|比较两个列表的元素\n",
    "2|len(list)|列表元素个数\n",
    "3|max(list)|返回列表元素最大值\n",
    "4|min(list)|返回列表元素最小值\n",
    "5|list(seq)|将元组转换为列表\n",
    "\n",
    "> 列表的常用方法:\n",
    "\n",
    "序号|方法|说明\n",
    "---|---|---\n",
    "1|list.append(obj)|在列表末尾添加新的对象\n",
    "2|list.count(obj)|统计某个元素在列表中出现的次数\n",
    "3|list.extend(seq)|在列表末尾一次性追加另一个序列中的多个值（用新列表扩展原来的列表）\n",
    "4|list.index(obj)|从列表中找出某个值第一个匹配项的索引位置\n",
    "5|list.insert(index, obj)|将对象插入列表\n",
    "6|list.pop(obj=list[-1])|移除列表中的一个元素（默认最后一个元素），并且返回该元素的值\n",
    "7|list.remove(obj)|移除列表中某个值的第一个匹配项\n",
    "8|list.reverse()|反向列表中元素\n",
    "9|list.sort([func])|对原列表进行排序\n",
    "\n",
    "> 黑科技 列表解析\n",
    "\n",
    "所谓列表解析就是在列表中写入代码段,吧代码段生成的结果放入列表中.\n",
    "\n",
    "例:\n",
    "  \n"
   ]
  },
  {
   "cell_type": "code",
   "execution_count": 1,
   "metadata": {
    "collapsed": false,
    "scrolled": true
   },
   "outputs": [
    {
     "data": {
      "text/plain": [
       "[0, 1, 2, 3, 4, 5, 6, 7, 8, 9]"
      ]
     },
     "execution_count": 1,
     "metadata": {},
     "output_type": "execute_result"
    }
   ],
   "source": [
    "[i for i in range(10)]"
   ]
  },
  {
   "cell_type": "markdown",
   "metadata": {},
   "source": [
    "> range()等差数列生成器\n",
    "\n",
    "    range(start,end,step)\n",
    "  \n",
    "等差数列生成器在2.7返回的是一个真的等差\"数列\",然而`xrange()`和3.0+的`range()`返回的是一个等差数列生成器这点需要注意"
   ]
  },
  {
   "cell_type": "markdown",
   "metadata": {},
   "source": [
    "事实上python中字典,集合,列表都有解析,同时还有生成器,以及相关的`map`函数,`filter`内容过滤器等.\n",
    "这块内容很多,所以后面会单独拿出来讲"
   ]
  },
  {
   "cell_type": "markdown",
   "metadata": {},
   "source": [
    "### 元组\n",
    "元祖是不可变的列表,它的定义比较奇怪,它用`,`来辨识"
   ]
  },
  {
   "cell_type": "code",
   "execution_count": 26,
   "metadata": {
    "collapsed": false
   },
   "outputs": [
    {
     "data": {
      "text/plain": [
       "tuple"
      ]
     },
     "execution_count": 26,
     "metadata": {},
     "output_type": "execute_result"
    }
   ],
   "source": [
    "a = 12,4\n",
    "type(a)"
   ]
  },
  {
   "cell_type": "markdown",
   "metadata": {},
   "source": [
    "当然也可以用更加优雅的方式定义(虽然我觉得这没啥必要):"
   ]
  },
  {
   "cell_type": "code",
   "execution_count": 27,
   "metadata": {
    "collapsed": true
   },
   "outputs": [],
   "source": [
    "b=tuple((11,\"sf\"))"
   ]
  },
  {
   "cell_type": "markdown",
   "metadata": {},
   "source": [
    "> 元组内置函数\n",
    "\n",
    "序号|方法及描述|说明\n",
    "---|---|---\n",
    "1|cmp(tuple1, tuple2)|比较两个元组元素。\n",
    "2|len(tuple)|计算元组元素个数。\n",
    "3|max(tuple)|返回元组中元素最大值。\n",
    "4|min(tuple)|返回元组中元素最小值。\n",
    "5|tuple(seq)|将列表转换为元组。"
   ]
  },
  {
   "cell_type": "markdown",
   "metadata": {},
   "source": [
    "## 无序序列--字典和集合\n",
    "\n",
    "无序序列内容同样可以是任何类型,并且内部元素类型并不需要一样.\n",
    "无序序列自然内部没有有序的索引,但同样可以用`for ... in ...`语句来遍历"
   ]
  },
  {
   "cell_type": "markdown",
   "metadata": {},
   "source": [
    "### 字典\n",
    "\n",
    "字典是python中唯一的映射类型,其中的每个元素都由key,value两部分组成\n",
    "\n",
    "    d1 = {1:\"a\",2:\"b\"}\n",
    "    d1[3]=\"c\"\n",
    "\n",
    "> 字典的方法:\n",
    "\n",
    "方法|说明\n",
    "---|---\n",
    "adict.clear() |删除字典中的所有项或元素；\n",
    "adict.copy() |返回一个字典浅拷贝的副本；\n",
    "adict.fromkeys(seq, val=None) |创建并返回一个新字典，以seq中的元素做该字典的键，val做该字典中所有键对应的初始值（默认为None）；\n",
    "adict.get(key, default = None) |返回字典中key对应的值，若key不存在字典中，则返回default的值（default默认为None）；\n",
    "adict.has_key(key) |如果key在字典中，返回True，否则返回False。 现在用 in 、 not in；\n",
    "adict.items() |返回一个包含所有（键，值）元祖的列表；\n",
    "adict.keys()|返回所有的keys形成的列表\n",
    "adict.pop(key[,default]) |和get方法相似。如果字典中存在key，删除并返回key对应的vuale；如果key不存在，且没有给出default的值，则引发keyerror异常；\n",
    "adict.popitem()|和pop类似,只是返回一个(key,value)的元组\n",
    "adict.setdefault(key, default=None) |和set()方法相似，但如果字典中不存在Key键，由 adict[key] = default 为它赋值；\n",
    "adict.update(bdict) |将字典bdict的键值对添加到字典adict中。\n",
    "adict.values() |返回一个包含字典所有value的列表；"
   ]
  },
  {
   "cell_type": "markdown",
   "metadata": {},
   "source": [
    "### 集合\n",
    "\n",
    "集合可以看做是字典的特例(只有键没有值的字典)\n",
    "\n",
    "\n",
    "集合的特性是内容中不会有重复,利用这一特性可以为列表去重\n",
    "\n",
    "    > a = [\"a\",\"b\",\"a\",\"c\"]\n",
    "    > b = set(a)\n",
    "    > print b"
   ]
  },
  {
   "cell_type": "markdown",
   "metadata": {},
   "source": [
    "## 关于容器的小技巧\n",
    "\n",
    "> 解压序列赋值给多个变量"
   ]
  },
  {
   "cell_type": "code",
   "execution_count": 1,
   "metadata": {
    "collapsed": true
   },
   "outputs": [],
   "source": [
    "data = [ 'ACME', 50, 91.1, (2012, 12, 21) ]"
   ]
  },
  {
   "cell_type": "code",
   "execution_count": 2,
   "metadata": {
    "collapsed": true
   },
   "outputs": [],
   "source": [
    "name, shares, price, date = data"
   ]
  },
  {
   "cell_type": "code",
   "execution_count": 3,
   "metadata": {
    "collapsed": false
   },
   "outputs": [
    {
     "data": {
      "text/plain": [
       "('ACME', 50, 91.1, (2012, 12, 21))"
      ]
     },
     "execution_count": 3,
     "metadata": {},
     "output_type": "execute_result"
    }
   ],
   "source": [
    "name, shares, price, date"
   ]
  },
  {
   "cell_type": "markdown",
   "metadata": {},
   "source": [
    "> 解压可迭代对象赋值给多个变量(python2不支持)"
   ]
  },
  {
   "cell_type": "code",
   "execution_count": 4,
   "metadata": {
    "collapsed": false
   },
   "outputs": [],
   "source": [
    "record = ('Dave', 'dave@example.com', '773-555-1212', '847-555-1212')\n",
    "name, email, *phone_numbers = record"
   ]
  },
  {
   "cell_type": "code",
   "execution_count": 5,
   "metadata": {
    "collapsed": false
   },
   "outputs": [
    {
     "data": {
      "text/plain": [
       "('Dave', 'dave@example.com', ['773-555-1212', '847-555-1212'])"
      ]
     },
     "execution_count": 5,
     "metadata": {},
     "output_type": "execute_result"
    }
   ],
   "source": [
    "name, email, phone_numbers"
   ]
  },
  {
   "cell_type": "markdown",
   "metadata": {},
   "source": [
    "> 匿名通配符`_`\n",
    "\n",
    "有的时候我们并不关心一些变量是什么,那么,可以用`_`将其值丢弃"
   ]
  },
  {
   "cell_type": "code",
   "execution_count": 6,
   "metadata": {
    "collapsed": false
   },
   "outputs": [
    {
     "data": {
      "text/plain": [
       "(1, 2)"
      ]
     },
     "execution_count": 6,
     "metadata": {},
     "output_type": "execute_result"
    }
   ],
   "source": [
    "s=[1,2,3,4,5]\n",
    "a,b,_,_,_ = s\n",
    "a,b"
   ]
  },
  {
   "cell_type": "markdown",
   "metadata": {},
   "source": [
    "**练习:**\n",
    "\n",
    "利用列表的解压求列表[2,3,4,5,6,7]各个元素的积"
   ]
  },
  {
   "cell_type": "code",
   "execution_count": 9,
   "metadata": {
    "collapsed": false
   },
   "outputs": [],
   "source": [
    "l = [2,3,4,5,6,7]"
   ]
  },
  {
   "cell_type": "code",
   "execution_count": 11,
   "metadata": {
    "collapsed": false
   },
   "outputs": [],
   "source": [
    "def mul(l):\n",
    "    a,*lnext=l\n",
    "    if lnext:\n",
    "        return a*mul(lnext)\n",
    "    else:\n",
    "        return a\n"
   ]
  },
  {
   "cell_type": "code",
   "execution_count": 12,
   "metadata": {
    "collapsed": false
   },
   "outputs": [
    {
     "data": {
      "text/plain": [
       "5040"
      ]
     },
     "execution_count": 12,
     "metadata": {},
     "output_type": "execute_result"
    }
   ],
   "source": [
    "mul(l)"
   ]
  },
  {
   "cell_type": "code",
   "execution_count": 13,
   "metadata": {
    "collapsed": false
   },
   "outputs": [
    {
     "data": {
      "text/plain": [
       "5040"
      ]
     },
     "execution_count": 13,
     "metadata": {},
     "output_type": "execute_result"
    }
   ],
   "source": [
    "2*3*4*5*6*7"
   ]
  },
  {
   "cell_type": "markdown",
   "metadata": {},
   "source": [
    "这道题利用了递归的思想,后面也会讲到"
   ]
  },
  {
   "cell_type": "markdown",
   "metadata": {},
   "source": [
    "> 字典的运算\n",
    "\n",
    "**问题** 怎样在数据字典中执行一些计算操作(比如求最小值、最大值、排序等等)？\n"
   ]
  },
  {
   "cell_type": "code",
   "execution_count": 14,
   "metadata": {
    "collapsed": true
   },
   "outputs": [],
   "source": [
    " prices = {\n",
    "    'ACME': 45.23,\n",
    "    'AAPL': 612.78,\n",
    "    'IBM': 205.55,\n",
    "    'HPQ': 37.20,\n",
    "    'FB': 10.75\n",
    "    }"
   ]
  },
  {
   "cell_type": "code",
   "execution_count": 15,
   "metadata": {
    "collapsed": true
   },
   "outputs": [],
   "source": [
    "min_price = min(zip(prices.values(), prices.keys()))\n",
    "# min_price is (10.75, 'FB')\n",
    "max_price = max(zip(prices.values(), prices.keys()))\n",
    "# max_price is (612.78, 'AAPL')\n",
    "prices_sorted = sorted(zip(prices.values(), prices.keys()))"
   ]
  },
  {
   "cell_type": "code",
   "execution_count": 16,
   "metadata": {
    "collapsed": false
   },
   "outputs": [
    {
     "data": {
      "text/plain": [
       "(10.75, 'FB')"
      ]
     },
     "execution_count": 16,
     "metadata": {},
     "output_type": "execute_result"
    }
   ],
   "source": [
    "min_price"
   ]
  },
  {
   "cell_type": "code",
   "execution_count": 17,
   "metadata": {
    "collapsed": false
   },
   "outputs": [
    {
     "data": {
      "text/plain": [
       "(612.78, 'AAPL')"
      ]
     },
     "execution_count": 17,
     "metadata": {},
     "output_type": "execute_result"
    }
   ],
   "source": [
    "max_price"
   ]
  },
  {
   "cell_type": "code",
   "execution_count": 18,
   "metadata": {
    "collapsed": false
   },
   "outputs": [
    {
     "data": {
      "text/plain": [
       "[(10.75, 'FB'),\n",
       " (37.2, 'HPQ'),\n",
       " (45.23, 'ACME'),\n",
       " (205.55, 'IBM'),\n",
       " (612.78, 'AAPL')]"
      ]
     },
     "execution_count": 18,
     "metadata": {},
     "output_type": "execute_result"
    }
   ],
   "source": [
    "prices_sorted"
   ]
  },
  {
   "cell_type": "markdown",
   "metadata": {},
   "source": [
    "这题利用了`min`,`max`,`sort`对键值对元组默认排序比较只看第一个元素的特点"
   ]
  },
  {
   "cell_type": "markdown",
   "metadata": {},
   "source": [
    "\n",
    "> 查找两字典的相同点\n",
    "\n",
    "**问题** 怎样在两个字典中寻寻找相同点(比如相同的键、相同的值等等)？\n"
   ]
  },
  {
   "cell_type": "code",
   "execution_count": 19,
   "metadata": {
    "collapsed": true
   },
   "outputs": [],
   "source": [
    "a = {\n",
    "        'x' : 1,\n",
    "        'y' : 2,\n",
    "        'z' : 3\n",
    "    }\n",
    "\n",
    "b = {\n",
    "        'w' : 10,\n",
    "        'x' : 11,\n",
    "        'y' : 2\n",
    "    }"
   ]
  },
  {
   "cell_type": "code",
   "execution_count": 20,
   "metadata": {
    "collapsed": false
   },
   "outputs": [
    {
     "data": {
      "text/plain": [
       "{'x', 'y'}"
      ]
     },
     "execution_count": 20,
     "metadata": {},
     "output_type": "execute_result"
    }
   ],
   "source": [
    "a.keys() & b.keys()#相同的key"
   ]
  },
  {
   "cell_type": "code",
   "execution_count": 21,
   "metadata": {
    "collapsed": false
   },
   "outputs": [
    {
     "data": {
      "text/plain": [
       "{'z'}"
      ]
     },
     "execution_count": 21,
     "metadata": {},
     "output_type": "execute_result"
    }
   ],
   "source": [
    "a.keys() - b.keys()#a中有b中没有的"
   ]
  },
  {
   "cell_type": "code",
   "execution_count": 22,
   "metadata": {
    "collapsed": false
   },
   "outputs": [
    {
     "data": {
      "text/plain": [
       "{('y', 2)}"
      ]
     },
     "execution_count": 22,
     "metadata": {},
     "output_type": "execute_result"
    }
   ],
   "source": [
    "a.items() & b.items()#找到健值都相同的"
   ]
  }
 ],
 "metadata": {
  "kernelspec": {
   "display_name": "Python 3",
   "language": "python",
   "name": "python3"
  },
  "language_info": {
   "codemirror_mode": {
    "name": "ipython",
    "version": 3
   },
   "file_extension": ".py",
   "mimetype": "text/x-python",
   "name": "python",
   "nbconvert_exporter": "python",
   "pygments_lexer": "ipython3",
   "version": "3.5.1"
  }
 },
 "nbformat": 4,
 "nbformat_minor": 0
}
