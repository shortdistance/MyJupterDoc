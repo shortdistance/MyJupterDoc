{
 "cells": [
  {
   "cell_type": "markdown",
   "metadata": {},
   "source": [
    "# 控制语句和异常处理\n",
    "\n",
    "python的控制语句力求精简,所以只有判断语句，循环语句，异常处理语句三种。\n",
    "\n",
    "python的语法以缩进代表代码段,因此需要注意对缩进的理解,\n",
    "相同的代码,缩进不同可能意义完全不同.这也是许多学过其他语言的人难以适应python的原因之一,\n",
    "但一旦接受了这种设定,其实还是很带感的."
   ]
  },
  {
   "cell_type": "markdown",
   "metadata": {},
   "source": [
    "## 判断语句\n",
    "python只有if语句没有switch,这也是与c与java最大的区别之一.\n",
    "### if...elif...else\n",
    "> 例1.判断一个数是奇数还是偶数\n"
   ]
  },
  {
   "cell_type": "code",
   "execution_count": 1,
   "metadata": {
    "collapsed": false
   },
   "outputs": [
    {
     "name": "stdout",
     "output_type": "stream",
     "text": [
      "输入一个整数12\n",
      "偶数\n"
     ]
    }
   ],
   "source": [
    "a = int(input(\"输入一个整数\"))\n",
    "if a%2 == 0:\n",
    "    print(\"偶数\")\n",
    "else:\n",
    "    print(\"奇数\")"
   ]
  },
  {
   "cell_type": "markdown",
   "metadata": {},
   "source": [
    "> 例2:不同缩进的不同效果,例子为计算一个整数是不是3,5,15的倍数\n",
    "\n",
    "正确一:"
   ]
  },
  {
   "cell_type": "code",
   "execution_count": 2,
   "metadata": {
    "collapsed": false
   },
   "outputs": [
    {
     "name": "stdout",
     "output_type": "stream",
     "text": [
      "输入一个整数34\n",
      "不是3或5的倍数\n"
     ]
    }
   ],
   "source": [
    "a = int(input(\"输入一个整数\"))\n",
    "if a%3 == 0:  \n",
    "    if a%5 == 0:\n",
    "        print(\"15的倍数\")\n",
    "    else:\n",
    "        print(\"3的倍数\")\n",
    "elif a%5 == 0:\n",
    "    print(\"5的倍数\")\n",
    "\n",
    "else:\n",
    "    print(\"不是3或5的倍数\")\n"
   ]
  },
  {
   "cell_type": "markdown",
   "metadata": {},
   "source": [
    "正确二:"
   ]
  },
  {
   "cell_type": "code",
   "execution_count": 3,
   "metadata": {
    "collapsed": false
   },
   "outputs": [
    {
     "name": "stdout",
     "output_type": "stream",
     "text": [
      "输入一个整数34\n",
      "不是3或5的倍数\n"
     ]
    }
   ],
   "source": [
    "a = int(input(\"输入一个整数\"))\n",
    "if a%15 == 0:\n",
    "    print(\"15的倍数\")\n",
    "elif a%3 == 0:\n",
    "    print(\"3的倍数\")\n",
    "elif a%5 == 0:\n",
    "    print(\"5的倍数\")\n",
    "else:\n",
    "    print(\"不是3或5的倍数\")"
   ]
  },
  {
   "cell_type": "markdown",
   "metadata": {},
   "source": [
    "### 实现分支swtch的功能\n",
    "\n",
    "大道至简,话是这么说,但如果纯用if...else来实现switch其实很繁琐并不优雅,有没有什么办法可以实现优雅高效的switch操作呢?有的,就是用字典+lambda函数\n",
    "\n",
    "判断一个变量的类型,是"
   ]
  },
  {
   "cell_type": "code",
   "execution_count": 16,
   "metadata": {
    "collapsed": false
   },
   "outputs": [],
   "source": [
    "def which_type(x):\n",
    "    values = {\n",
    "        int:lambda x:print(x,\"is int\"),\n",
    "        float:lambda x:print(x,\"is float\"),\n",
    "        list:lambda x:print(x,\"is list\")\n",
    "    }\n",
    "    return values.get(type(x),lambda x:print(\"i dont know\"))(x)"
   ]
  },
  {
   "cell_type": "code",
   "execution_count": 19,
   "metadata": {
    "collapsed": false
   },
   "outputs": [
    {
     "name": "stdout",
     "output_type": "stream",
     "text": [
      "10 is int\n"
     ]
    }
   ],
   "source": [
    "which_type(10)"
   ]
  },
  {
   "cell_type": "code",
   "execution_count": 18,
   "metadata": {
    "collapsed": false
   },
   "outputs": [
    {
     "name": "stdout",
     "output_type": "stream",
     "text": [
      "i dont know\n"
     ]
    }
   ],
   "source": [
    "which_type(\"10\")"
   ]
  },
  {
   "cell_type": "markdown",
   "metadata": {},
   "source": [
    "## 循环语句\n",
    "\n",
    "和C和Java一样,python有for循环和while循环\n",
    "\n",
    "### for循环\n",
    "\n",
    "for循环一般是用来遍历一个序列变量或无序序列变量\n",
    "\n",
    "> 例子:"
   ]
  },
  {
   "cell_type": "code",
   "execution_count": 20,
   "metadata": {
    "collapsed": false
   },
   "outputs": [
    {
     "name": "stdout",
     "output_type": "stream",
     "text": [
      "0\n",
      "1\n",
      "2\n",
      "3\n",
      "4\n",
      "5\n",
      "6\n",
      "7\n",
      "8\n",
      "9\n"
     ]
    }
   ],
   "source": [
    "for i in range(10):\n",
    "    print(i)"
   ]
  },
  {
   "cell_type": "markdown",
   "metadata": {},
   "source": [
    "### while循环\n",
    "\n",
    "> 例:"
   ]
  },
  {
   "cell_type": "code",
   "execution_count": 21,
   "metadata": {
    "collapsed": false
   },
   "outputs": [
    {
     "name": "stdout",
     "output_type": "stream",
     "text": [
      "0\n",
      "1\n",
      "2\n",
      "3\n",
      "4\n",
      "5\n",
      "6\n",
      "7\n",
      "8\n",
      "9\n"
     ]
    }
   ],
   "source": [
    "i = 0\n",
    "while i<10:\n",
    "    print(i)\n",
    "    i+=1"
   ]
  },
  {
   "cell_type": "markdown",
   "metadata": {},
   "source": [
    "\n",
    "### 打断语句`break`和`continue`\n",
    "\n",
    "> 例:\n",
    "\n",
    "    i = 0\n",
    "    while True:\n",
    "        i += 1\n",
    "        if i > 10 :\n",
    "            break\n",
    "        if i % 2 == 0 :\n",
    "            continue\n",
    "        print(i)\n",
    "\n",
    "\n"
   ]
  },
  {
   "cell_type": "code",
   "execution_count": 22,
   "metadata": {
    "collapsed": false
   },
   "outputs": [
    {
     "name": "stdout",
     "output_type": "stream",
     "text": [
      "1\n",
      "3\n",
      "5\n",
      "7\n",
      "9\n"
     ]
    }
   ],
   "source": [
    "i = 0\n",
    "while True:\n",
    "    i += 1\n",
    "    if i > 10 :\n",
    "        break\n",
    "    if i % 2 == 0 :\n",
    "        continue\n",
    "    print(i)"
   ]
  },
  {
   "cell_type": "markdown",
   "metadata": {},
   "source": [
    "### 循环+else\n",
    "\n",
    "你可能不相信,但这是真的... for循环和while循环都有else分支,它的语义是如果正常跳出,则进入else分支,否则跳过\n",
    "> 例子"
   ]
  },
  {
   "cell_type": "code",
   "execution_count": 4,
   "metadata": {
    "collapsed": false
   },
   "outputs": [],
   "source": [
    "for i in range(100):\n",
    "    if i > 50:\n",
    "        break\n",
    "else:\n",
    "    print(\"正常跳出\")"
   ]
  },
  {
   "cell_type": "code",
   "execution_count": 5,
   "metadata": {
    "collapsed": false
   },
   "outputs": [
    {
     "name": "stdout",
     "output_type": "stream",
     "text": [
      "正常跳出\n"
     ]
    }
   ],
   "source": [
    "for i in range(20):\n",
    "    if i > 50:\n",
    "        break\n",
    "else:\n",
    "    print(\"正常跳出\")"
   ]
  },
  {
   "cell_type": "code",
   "execution_count": 1,
   "metadata": {
    "collapsed": false
   },
   "outputs": [
    {
     "name": "stdout",
     "output_type": "stream",
     "text": [
      "正常跳出\n"
     ]
    }
   ],
   "source": [
    "for i in range(20):\n",
    "    if i > 50:\n",
    "        break\n",
    "    else:\n",
    "        continue\n",
    "else:\n",
    "    print(\"正常跳出\")"
   ]
  },
  {
   "cell_type": "markdown",
   "metadata": {},
   "source": [
    "## 异常处理语句\n",
    "\n",
    ">什么是异常？\n",
    "\n",
    "异常即是一个事件，该事件会在程序执行过程中发生，影响了程序的正常执行。\n",
    "一般情况下，在Python无法正常处理程序时就会发生一个异常。\n",
    "异常是Python对象，表示一个错误。\n",
    "当Python脚本发生异常时我们需要捕获处理它，否则程序会终止执行。\n",
    "\n",
    ">python标准异常\n",
    "\n",
    "异常名称|\t描述\n",
    "---|---\n",
    "BaseException|\t所有异常的基类\n",
    "SystemExit|\t解释器请求退出\n",
    "KeyboardInterrupt|\t用户中断执行(通常是输入^C)\n",
    "Exception|\t常规错误的基类\n",
    "StopIteration|\t迭代器没有更多的值\n",
    "GeneratorExit|\t生成器(generator)发生异常来通知退出\n",
    "StandardError|\t所有的内建标准异常的基类\n",
    "ArithmeticError|\t所有数值计算错误的基类\n",
    "FloatingPointError|\t浮点计算错误\n",
    "OverflowError|\t数值运算超出最大限制\n",
    "ZeroDivisionError|\t除(或取模)零 (所有数据类型)\n",
    "AssertionError|\t断言语句失败\n",
    "AttributeError|\t对象没有这个属性\n",
    "EOFError|\t没有内建输入,到达EOF 标记\n",
    "EnvironmentError|\t操作系统错误的基类\n",
    "IOError|\t输入/输出操作失败\n",
    "OSError|\t操作系统错误\n",
    "WindowsError|\t系统调用失败\n",
    "ImportError|\t导入模块/对象失败\n",
    "LookupError|\t无效数据查询的基类\n",
    "IndexError|\t序列中没有此索引(index)\n",
    "KeyError|\t映射中没有这个键\n",
    "MemoryError|\t内存溢出错误(对于Python 解释器不是致命的)\n",
    "NameError|\t未声明/初始化对象 (没有属性)\n",
    "UnboundLocalError|\t访问未初始化的本地变量\n",
    "ReferenceError|\t弱引用(Weak reference)试图访问已经垃圾回收了的对象\n",
    "RuntimeError|\t一般的运行时错误\n",
    "NotImplementedError|    尚未实现的方法\n",
    "SyntaxError|\tPython 语法错误\n",
    "IndentationError|\t缩进错误\n",
    "TabError|\tTab 和空格混用\n",
    "SystemError|\t一般的解释器系统错误\n",
    "TypeError|\t对类型无效的操作\n",
    "ValueError|\t传入无效的参数\n",
    "UnicodeError|\tUnicode 相关的错误\n",
    "UnicodeDecodeError|\tUnicode 解码时的错误\n",
    "UnicodeEncodeError|\tUnicode 编码时错误\n",
    "UnicodeTranslateError|\tUnicode 转换时错误\n",
    "Warning|\t警告的基类\n",
    "DeprecationWarning|\t关于被弃用的特征的警告\n",
    "FutureWarning|\t关于构造将来语义会有改变的警告\n",
    "OverflowWarning|\t旧的关于自动提升为长整型(long)的警告\n",
    "PendingDeprecationWarning|\t关于特性将会被废弃的警告\n",
    "RuntimeWarning|\t可疑的运行时行为(runtime behavior)的警告\n",
    "SyntaxWarning|\t可疑的语法的警告\n",
    "UserWarning|\t用户代码生成的警告\n",
    "\n",
    "\n",
    "\n",
    "python提供了两个非常重要的功能来处理python程序在运行中出现的异常和错误。你可以使用该功能来调试python程序。\n",
    "+ 异常处理。\n",
    "+ 断言(Assertions)"
   ]
  },
  {
   "cell_type": "markdown",
   "metadata": {},
   "source": [
    "### 异常处理\n",
    "\n",
    "> 捕捉异常可以使用try/except语句。\n",
    "\n",
    "try/except语句用来检测try语句块中的错误，从而让except语句捕获异常信息并处理。\n",
    "如果你不想在异常发生时结束你的程序，只需在try里捕获它。\n",
    "\n",
    "    try:\n",
    "        <语句>        #运行别的代码\n",
    "    except <名字>：\n",
    "        <语句>        #如果在try部份引发了'name'异常\n",
    "    except <名字>，<数据>:\n",
    "        <语句>        #如果引发了'name'异常，获得附加的数据\n",
    "    else:\n",
    "        <语句>        #如果没有异常发生\n",
    "    finally:\n",
    "        <语句>    #退出try时总会执行\n",
    "        \n",
    "try的工作原理是，当开始一个try语句后，python就在当前程序的上下文中作标记，这样当异常出现时就可以回到这里，try子句先执行，接下来会发生什么依赖于执行时是否出现异常。\n",
    "\n",
    "+ 如果当try后的语句执行时发生异常，python就跳回到try并执行第一个匹配该异常的except子句，异常处理完毕，控制流就通过整个try语句（除非在处理异常时又引发新的异常）。\n",
    "+ 如果在try后的语句里发生了异常，却没有匹配的except子句，异常将被递交到上层的try，或者到程序的最上层（这样将结束程序，并打印缺省的出错信息）。\n",
    "+ 如果在try子句执行时没有发生异常，python将执行else语句后的语句（如果有else的话），然后控制流通过整个try语句。\n",
    "+ 无论是否有异常,finally都将被执行,它一般作为存放收尾动作的地方,但是注意,finally有陷阱:\n",
    "        如果主干上的错误分支中没有对应的捕捉,那么他将被保存在一个临时的位置,而如果同时finally中有错误,则这个临时的错误会被finally中的错误给替代\n",
    "\n",
    "> 触发异常\n",
    "\n",
    "我们可以使用raise语句自己触发异常\n",
    "raise语法格式如下：\n",
    "\n",
    "    raise [Exception [, args [, traceback]]]\n",
    "\n",
    "> 例子:\n"
   ]
  },
  {
   "cell_type": "code",
   "execution_count": 8,
   "metadata": {
    "collapsed": false
   },
   "outputs": [],
   "source": [
    "def functionName( level ):\n",
    "    if level < 1:\n",
    "        raise ValueError(\"Invalid level! \"+str(level))\n",
    "    else:\n",
    "        print(\"ok\")\n"
   ]
  },
  {
   "cell_type": "code",
   "execution_count": 9,
   "metadata": {
    "collapsed": false
   },
   "outputs": [
    {
     "name": "stdout",
     "output_type": "stream",
     "text": [
      "ok\n"
     ]
    }
   ],
   "source": [
    "functionName(2)"
   ]
  },
  {
   "cell_type": "code",
   "execution_count": 10,
   "metadata": {
    "collapsed": false
   },
   "outputs": [
    {
     "ename": "ValueError",
     "evalue": "Invalid level! 0",
     "output_type": "error",
     "traceback": [
      "\u001b[0;31m---------------------------------------------------------------------------\u001b[0m",
      "\u001b[0;31mValueError\u001b[0m                                Traceback (most recent call last)",
      "\u001b[0;32m<ipython-input-10-385485286317>\u001b[0m in \u001b[0;36m<module>\u001b[0;34m()\u001b[0m\n\u001b[0;32m----> 1\u001b[0;31m \u001b[0mfunctionName\u001b[0m\u001b[0;34m(\u001b[0m\u001b[0;36m0\u001b[0m\u001b[0;34m)\u001b[0m\u001b[0;34m\u001b[0m\u001b[0m\n\u001b[0m",
      "\u001b[0;32m<ipython-input-8-c7aff5bd58d1>\u001b[0m in \u001b[0;36mfunctionName\u001b[0;34m(level)\u001b[0m\n\u001b[1;32m      1\u001b[0m \u001b[0;32mdef\u001b[0m \u001b[0mfunctionName\u001b[0m\u001b[0;34m(\u001b[0m \u001b[0mlevel\u001b[0m \u001b[0;34m)\u001b[0m\u001b[0;34m:\u001b[0m\u001b[0;34m\u001b[0m\u001b[0m\n\u001b[1;32m      2\u001b[0m     \u001b[0;32mif\u001b[0m \u001b[0mlevel\u001b[0m \u001b[0;34m<\u001b[0m \u001b[0;36m1\u001b[0m\u001b[0;34m:\u001b[0m\u001b[0;34m\u001b[0m\u001b[0m\n\u001b[0;32m----> 3\u001b[0;31m         \u001b[0;32mraise\u001b[0m \u001b[0mValueError\u001b[0m\u001b[0;34m(\u001b[0m\u001b[0;34m\"Invalid level! \"\u001b[0m\u001b[0;34m+\u001b[0m\u001b[0mstr\u001b[0m\u001b[0;34m(\u001b[0m\u001b[0mlevel\u001b[0m\u001b[0;34m)\u001b[0m\u001b[0;34m)\u001b[0m\u001b[0;34m\u001b[0m\u001b[0m\n\u001b[0m\u001b[1;32m      4\u001b[0m     \u001b[0;32melse\u001b[0m\u001b[0;34m:\u001b[0m\u001b[0;34m\u001b[0m\u001b[0m\n\u001b[1;32m      5\u001b[0m         \u001b[0mprint\u001b[0m\u001b[0;34m(\u001b[0m\u001b[0;34m\"ok\"\u001b[0m\u001b[0;34m)\u001b[0m\u001b[0;34m\u001b[0m\u001b[0m\n",
      "\u001b[0;31mValueError\u001b[0m: Invalid level! 0"
     ]
    }
   ],
   "source": [
    "functionName(0)"
   ]
  },
  {
   "cell_type": "markdown",
   "metadata": {},
   "source": [
    "**注意:**这块是和python2不同的地方之一,raise再python2中这么用:\n",
    "\n",
    "    raise Exception,args"
   ]
  },
  {
   "cell_type": "markdown",
   "metadata": {},
   "source": [
    "> 用户自定义异常\n",
    "\n",
    "通过创建一个新的异常类，程序可以命名它们自己的异常。异常应该是典型的继承自Exception类，通过直接或间接的方式。\n",
    "以下为与RuntimeError相关的实例,实例中创建了一个类，基类为RuntimeError，用于在异常触发时输出更多的信息。\n",
    "在try语句块中，用户自定义的异常后执行except块语句，变量 e 是用于创建Networkerror类的实例。\n",
    "\n",
    "\n",
    "    class Networkerror(RuntimeError):\n",
    "        def __init__(self, arg):\n",
    "            self.args = arg\n",
    "\n",
    "\n",
    "在你定义以上类后，你可以触发该异常，如下所示：\n",
    "\n",
    "    try:\n",
    "        raise Networkerror(\"Bad hostname\")\n",
    "    except Networkerror as e:\n",
    "        print(e.args)\n",
    "\n",
    "**注意:**这块和python2中也不一样,python2中except这样用:\n",
    "\n",
    "    except NotImplementedError, error:\n",
    "\n",
    "\n",
    "> 断言\n",
    "\n",
    "assert语句用来断言某个条件是真的，并且在它非真的时候引发一个错误--AssertionError。\n"
   ]
  },
  {
   "cell_type": "code",
   "execution_count": 12,
   "metadata": {
    "collapsed": true
   },
   "outputs": [],
   "source": [
    "flag = True\n",
    "\n",
    "assert flag == True"
   ]
  },
  {
   "cell_type": "code",
   "execution_count": 13,
   "metadata": {
    "collapsed": false
   },
   "outputs": [
    {
     "ename": "AssertionError",
     "evalue": "",
     "output_type": "error",
     "traceback": [
      "\u001b[0;31m---------------------------------------------------------------------------\u001b[0m",
      "\u001b[0;31mAssertionError\u001b[0m                            Traceback (most recent call last)",
      "\u001b[0;32m<ipython-input-13-64df29166d12>\u001b[0m in \u001b[0;36m<module>\u001b[0;34m()\u001b[0m\n\u001b[0;32m----> 1\u001b[0;31m \u001b[0;32massert\u001b[0m \u001b[0mflag\u001b[0m \u001b[0;34m==\u001b[0m \u001b[0;32mFalse\u001b[0m\u001b[0;34m\u001b[0m\u001b[0m\n\u001b[0m",
      "\u001b[0;31mAssertionError\u001b[0m: "
     ]
    }
   ],
   "source": [
    "assert flag == False"
   ]
  },
  {
   "cell_type": "code",
   "execution_count": 16,
   "metadata": {
    "collapsed": false
   },
   "outputs": [
    {
     "name": "stdout",
     "output_type": "stream",
     "text": [
      "failed\n"
     ]
    }
   ],
   "source": [
    "try:\n",
    "    assert flag == False\n",
    "except AssertionError as err:\n",
    "    print(\"failed\")\n",
    "else:\n",
    "    print(\"pass\")"
   ]
  }
 ],
 "metadata": {
  "kernelspec": {
   "display_name": "Python 3",
   "language": "python",
   "name": "python3"
  },
  "language_info": {
   "codemirror_mode": {
    "name": "ipython",
    "version": 3
   },
   "file_extension": ".py",
   "mimetype": "text/x-python",
   "name": "python",
   "nbconvert_exporter": "python",
   "pygments_lexer": "ipython3",
   "version": "3.5.1"
  }
 },
 "nbformat": 4,
 "nbformat_minor": 0
}
