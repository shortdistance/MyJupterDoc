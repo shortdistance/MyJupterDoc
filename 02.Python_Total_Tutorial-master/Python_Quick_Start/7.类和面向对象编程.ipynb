{
 "cells": [
  {
   "cell_type": "markdown",
   "metadata": {},
   "source": [
    "# 类和面向对象编程\n",
    "\n",
    "提到类就不得不提面向对象编程(oop)了,类可以理解为是C中结构体的扩展,通过定义字段实现对事物的抽象达到复用的效果\n",
    "python是动态语言,它的类模型和一般的静态语言有不小得差别.这些会在后面讨论.\n",
    "首先我们来看看怎么用类:\n",
    "\n",
    "## 定义类\n",
    "\n",
    "基本结构:\n",
    "\n",
    "    class 类名(父类1,父类2...):\n",
    "        x = 0 #定义变量\n",
    "\n",
    "        def y(self):#定义方法\n",
    "            代码段\n",
    "\n",
    "如此这样.\n",
    "\n",
    ">例:       "
   ]
  },
  {
   "cell_type": "code",
   "execution_count": 9,
   "metadata": {
    "collapsed": true
   },
   "outputs": [],
   "source": [
    "class Animal:\n",
    "    def __init__(self,sex):\n",
    "        self.sex=sex\n",
    "        \n",
    "    def run(self):\n",
    "        print('Animal is running...')"
   ]
  },
  {
   "cell_type": "code",
   "execution_count": 10,
   "metadata": {
    "collapsed": true
   },
   "outputs": [],
   "source": [
    "ani00 = Animal(\"male\")"
   ]
  },
  {
   "cell_type": "markdown",
   "metadata": {},
   "source": [
    "## 继承\n",
    "\n",
    "继承会继承父类的属性和方法.\n",
    "\n",
    "### 构造函数的继承\n",
    "\n",
    "#### 如果子类没有定义构造函数,父类中只有一个定义了构造函数,那么父类的构造函数会被子类继承\n",
    "\n",
    "> 例"
   ]
  },
  {
   "cell_type": "code",
   "execution_count": 14,
   "metadata": {
    "collapsed": true
   },
   "outputs": [],
   "source": [
    "class 动物:\n",
    "    def __init__(self,性别):\n",
    "        self.性别 = 性别\n",
    "        \n",
    "    def 跑(self):\n",
    "        print(\"动物跑\")\n",
    "    def 吃什么(self):\n",
    "        pass\n",
    "\n",
    "class 吃肉:\n",
    "    def 吃什么(self):\n",
    "        print(\"吃肉\")\n",
    "        \n",
    "class 狼(吃肉,动物):\n",
    "    pass"
   ]
  },
  {
   "cell_type": "code",
   "execution_count": 15,
   "metadata": {
    "collapsed": false
   },
   "outputs": [],
   "source": [
    "wolf = 狼(\"公\")"
   ]
  },
  {
   "cell_type": "code",
   "execution_count": 16,
   "metadata": {
    "collapsed": false
   },
   "outputs": [
    {
     "name": "stdout",
     "output_type": "stream",
     "text": [
      "吃肉\n"
     ]
    }
   ],
   "source": [
    "wolf.吃什么()"
   ]
  },
  {
   "cell_type": "markdown",
   "metadata": {},
   "source": [
    "#### 继承的父类中有很多有构造函数\n",
    "\n",
    "如果默认的继承方式那么\n"
   ]
  },
  {
   "cell_type": "code",
   "execution_count": 17,
   "metadata": {
    "collapsed": true
   },
   "outputs": [],
   "source": [
    "class A:\n",
    "    def __init__(self):\n",
    "        print(\"A\")\n",
    "        \n",
    "class B:\n",
    "    def __init__(self):\n",
    "        print(\"B\")\n",
    "        \n",
    "class C(A,B):\n",
    "    pass\n",
    "class D(B,A):\n",
    "    pass"
   ]
  },
  {
   "cell_type": "code",
   "execution_count": 18,
   "metadata": {
    "collapsed": false
   },
   "outputs": [
    {
     "name": "stdout",
     "output_type": "stream",
     "text": [
      "A\n"
     ]
    }
   ],
   "source": [
    "c = C()"
   ]
  },
  {
   "cell_type": "code",
   "execution_count": 19,
   "metadata": {
    "collapsed": false
   },
   "outputs": [
    {
     "name": "stdout",
     "output_type": "stream",
     "text": [
      "B\n"
     ]
    }
   ],
   "source": [
    "d = D()"
   ]
  },
  {
   "cell_type": "markdown",
   "metadata": {},
   "source": [
    "如果俩都想被继承,那么:"
   ]
  },
  {
   "cell_type": "code",
   "execution_count": 22,
   "metadata": {
    "collapsed": true
   },
   "outputs": [],
   "source": [
    "class E(A,B):\n",
    "    def __init__(self):\n",
    "        A.__init__(self)\n",
    "        B.__init__(self)"
   ]
  },
  {
   "cell_type": "code",
   "execution_count": 23,
   "metadata": {
    "collapsed": false
   },
   "outputs": [
    {
     "name": "stdout",
     "output_type": "stream",
     "text": [
      "A\n",
      "B\n"
     ]
    }
   ],
   "source": [
    "e = E()"
   ]
  },
  {
   "cell_type": "markdown",
   "metadata": {},
   "source": [
    "### 多重继承与Mixin\n",
    "\n",
    "python支持多重继承,但多重继承会出现法理问题(钻石调用、MRO 查找顺序等,括弧笑),这就需要有个规范来对多重继承产生约束,一般来说python常用的规范就是一个主脉络+多个插件的Mixin方式.\n",
    "\n",
    "***必须注意继承的时候是从最右的类开始的,而如果碰到同名的类,前面的会被后面的覆盖,正如对构造函数的继承机制一样,因此最好把主要继承的父类放最后,描述特点的插件放在前面,越重要的放在越前面***\n",
    "\n",
    "所谓的Mixin可以理解为一个主要的父类+多个功能插件类,有点像java的接口,差别在于接口没有实现,强调的是\"我是XXX\",而Mixin强调的是\"我能XXX\"\n",
    "\n",
    "举个例子:\n",
    "如果要描述水果\n",
    "\n",
    "那很简单,父类就是水果了:"
   ]
  },
  {
   "cell_type": "code",
   "execution_count": 5,
   "metadata": {
    "collapsed": true
   },
   "outputs": [],
   "source": [
    "class 水果:\n",
    "    def __init__(self,单价,产地):\n",
    "        self.单价 = 单价 #float\n",
    "        self.产地 = 产地 #str"
   ]
  },
  {
   "cell_type": "code",
   "execution_count": 3,
   "metadata": {
    "collapsed": false
   },
   "outputs": [],
   "source": [
    "class 苹果(水果):\n",
    "    pass\n",
    "\n",
    "class 橘子(水果):\n",
    "    pass\n",
    "\n",
    "class 香蕉(水果):\n",
    "    pass\n",
    "\n",
    "class 开心果(水果):\n",
    "    pass\n",
    "\n",
    "class 蛤蟆瓜(水果):\n",
    "    pass\n"
   ]
  },
  {
   "cell_type": "markdown",
   "metadata": {
    "collapsed": false
   },
   "source": [
    "我们要描述它能不能送人,告诉别人怎么吃它,怎么办呢,可以定义一个方法叫可以送人,定义一个方法叫吃法咨询,然后定义不同的类对这些方法实现,作为插件让水果继承,如下:"
   ]
  },
  {
   "cell_type": "code",
   "execution_count": 4,
   "metadata": {
    "collapsed": true
   },
   "outputs": [],
   "source": [
    "class 可以送人:\n",
    "    def 可以送人嘛(self):\n",
    "        return \"可以送人\"\n",
    "   \n",
    "class 不可以送人:\n",
    "    def 可以送人嘛(self):\n",
    "        return \"不可以送人\"\n",
    "    \n",
    "class 剥皮儿吃:\n",
    "    def 吃法(self):\n",
    "        return \"剥皮儿吃\"\n",
    "   \n",
    "class 敲开壳儿吃仁儿:\n",
    "    def 吃法(self):\n",
    "        return \"敲开壳儿吃仁儿\"\n",
    "\n",
    "class 去皮儿吃肉核儿别吃:\n",
    "    def 吃法(self):\n",
    "        return \"去皮儿吃肉核儿别吃\"\n",
    "    "
   ]
  },
  {
   "cell_type": "code",
   "execution_count": 9,
   "metadata": {
    "collapsed": true
   },
   "outputs": [],
   "source": [
    "class 苹果(可以送人,去皮儿吃肉核儿别吃,水果):\n",
    "    pass\n",
    "\n",
    "class 橘子(可以送人,去皮儿吃肉核儿别吃,水果):\n",
    "    pass\n",
    "\n",
    "class 香蕉(可以送人,剥皮儿吃,水果):\n",
    "    pass\n",
    "\n",
    "class 开心果(可以送人,敲开壳儿吃仁儿,水果):\n",
    "    pass\n",
    "\n",
    "class 蛤蟆瓜(不可以送人,去皮儿吃肉核儿别吃,水果):\n",
    "    pass"
   ]
  },
  {
   "cell_type": "markdown",
   "metadata": {},
   "source": [
    "这种就是python的Mixin了.当然了看起来还是有点复杂的"
   ]
  },
  {
   "cell_type": "markdown",
   "metadata": {},
   "source": [
    "## 封装\n",
    "\n",
    "封装指的是设定可访问的权限,python对它的有多种支持方式:\n",
    "\n",
    "> 通过命名隐藏\n",
    "\n",
    "这种方式比较原始了,就是在定义的时候使用`__`来隐藏."
   ]
  },
  {
   "cell_type": "code",
   "execution_count": 24,
   "metadata": {
    "collapsed": true
   },
   "outputs": [],
   "source": [
    "class CA:\n",
    "    def __init__(self,a):\n",
    "        self.__a = a"
   ]
  },
  {
   "cell_type": "code",
   "execution_count": 25,
   "metadata": {
    "collapsed": true
   },
   "outputs": [],
   "source": [
    "ca = CA(\"10\")"
   ]
  },
  {
   "cell_type": "code",
   "execution_count": 26,
   "metadata": {
    "collapsed": false
   },
   "outputs": [
    {
     "ename": "AttributeError",
     "evalue": "'CA' object has no attribute '__a'",
     "output_type": "error",
     "traceback": [
      "\u001b[0;31m---------------------------------------------------------------------------\u001b[0m",
      "\u001b[0;31mAttributeError\u001b[0m                            Traceback (most recent call last)",
      "\u001b[0;32m<ipython-input-26-c727d2c7cc0d>\u001b[0m in \u001b[0;36m<module>\u001b[0;34m()\u001b[0m\n\u001b[0;32m----> 1\u001b[0;31m \u001b[0mca\u001b[0m\u001b[0;34m.\u001b[0m\u001b[0m__a\u001b[0m\u001b[0;34m\u001b[0m\u001b[0m\n\u001b[0m",
      "\u001b[0;31mAttributeError\u001b[0m: 'CA' object has no attribute '__a'"
     ]
    }
   ],
   "source": [
    "ca.__a"
   ]
  },
  {
   "cell_type": "markdown",
   "metadata": {},
   "source": [
    "这样你就无法随便的访问变量了,但我们连读都度不了了呀,咋办"
   ]
  },
  {
   "cell_type": "code",
   "execution_count": 27,
   "metadata": {
    "collapsed": false
   },
   "outputs": [
    {
     "data": {
      "text/plain": [
       "'10'"
      ]
     },
     "execution_count": 27,
     "metadata": {},
     "output_type": "execute_result"
    }
   ],
   "source": [
    "ca._CA__a"
   ]
  },
  {
   "cell_type": "markdown",
   "metadata": {},
   "source": [
    "事实上只是转换了下名字,在变量名前增加了`_+类名`而已.\n",
    "显然这种封装是不完全而且也很粗糙的."
   ]
  },
  {
   "cell_type": "markdown",
   "metadata": {},
   "source": [
    "> 用`@property`封装属性\n",
    "\n",
    "这也是常用的封装,也相当于是声明实例变量了"
   ]
  },
  {
   "cell_type": "code",
   "execution_count": 48,
   "metadata": {
    "collapsed": true
   },
   "outputs": [],
   "source": [
    "class Student:\n",
    "\n",
    "    @property\n",
    "    def birth(self):\n",
    "        return self._birth\n",
    "\n",
    "    @birth.setter\n",
    "    def birth(self, value):\n",
    "        self._birth = value\n",
    "\n",
    "    @property\n",
    "    def age(self):\n",
    "        return 2015 - self._birth\n",
    "    \n",
    "    def __init__(self,birth):\n",
    "        self.birth = birth"
   ]
  },
  {
   "cell_type": "code",
   "execution_count": 49,
   "metadata": {
    "collapsed": false
   },
   "outputs": [],
   "source": [
    "s2=Student(1998) "
   ]
  },
  {
   "cell_type": "code",
   "execution_count": 53,
   "metadata": {
    "collapsed": false
   },
   "outputs": [],
   "source": [
    "s2.birth =2000"
   ]
  },
  {
   "cell_type": "code",
   "execution_count": 54,
   "metadata": {
    "collapsed": false
   },
   "outputs": [
    {
     "data": {
      "text/plain": [
       "2000"
      ]
     },
     "execution_count": 54,
     "metadata": {},
     "output_type": "execute_result"
    }
   ],
   "source": [
    "s2.birth"
   ]
  },
  {
   "cell_type": "code",
   "execution_count": 55,
   "metadata": {
    "collapsed": false
   },
   "outputs": [
    {
     "data": {
      "text/plain": [
       "15"
      ]
     },
     "execution_count": 55,
     "metadata": {},
     "output_type": "execute_result"
    }
   ],
   "source": [
    "s2.age"
   ]
  },
  {
   "cell_type": "code",
   "execution_count": 56,
   "metadata": {
    "collapsed": false
   },
   "outputs": [
    {
     "ename": "AttributeError",
     "evalue": "can't set attribute",
     "output_type": "error",
     "traceback": [
      "\u001b[0;31m---------------------------------------------------------------------------\u001b[0m",
      "\u001b[0;31mAttributeError\u001b[0m                            Traceback (most recent call last)",
      "\u001b[0;32m<ipython-input-56-d6da85212657>\u001b[0m in \u001b[0;36m<module>\u001b[0;34m()\u001b[0m\n\u001b[0;32m----> 1\u001b[0;31m \u001b[0ms2\u001b[0m\u001b[0;34m.\u001b[0m\u001b[0mage\u001b[0m \u001b[0;34m=\u001b[0m \u001b[0;36m16\u001b[0m\u001b[0;34m\u001b[0m\u001b[0m\n\u001b[0m",
      "\u001b[0;31mAttributeError\u001b[0m: can't set attribute"
     ]
    }
   ],
   "source": [
    "s2.age = 16"
   ]
  },
  {
   "cell_type": "markdown",
   "metadata": {},
   "source": [
    "这样也只是给定义了的变量设了保护,如果有人往对象中添加新的属性咋办\n",
    "\n",
    "这时候就用`__slot__`限定可定义的属性"
   ]
  },
  {
   "cell_type": "markdown",
   "metadata": {},
   "source": [
    "> `__slot__`限定可定义的属性\n",
    "\n",
    "这个也是动态语言才会有的特征,类被定义好后是允许添加新属性的.`__slot__`方法也就是为了限制这一特性才设计的.\n",
    "\n",
    "注意`__slot__`只能对当前类有效,对子类是无效的"
   ]
  },
  {
   "cell_type": "code",
   "execution_count": 57,
   "metadata": {
    "collapsed": true
   },
   "outputs": [],
   "source": [
    "class Teacher:\n",
    "    __slots__=(\"name\",\"age\")"
   ]
  },
  {
   "cell_type": "code",
   "execution_count": 58,
   "metadata": {
    "collapsed": true
   },
   "outputs": [],
   "source": [
    "tea1 = Teacher()"
   ]
  },
  {
   "cell_type": "code",
   "execution_count": 60,
   "metadata": {
    "collapsed": true
   },
   "outputs": [],
   "source": [
    "tea1.name=\"郝老师\""
   ]
  },
  {
   "cell_type": "code",
   "execution_count": 61,
   "metadata": {
    "collapsed": false
   },
   "outputs": [
    {
     "ename": "AttributeError",
     "evalue": "'Teacher' object has no attribute 'sex'",
     "output_type": "error",
     "traceback": [
      "\u001b[0;31m---------------------------------------------------------------------------\u001b[0m",
      "\u001b[0;31mAttributeError\u001b[0m                            Traceback (most recent call last)",
      "\u001b[0;32m<ipython-input-61-fcac4f918012>\u001b[0m in \u001b[0;36m<module>\u001b[0;34m()\u001b[0m\n\u001b[0;32m----> 1\u001b[0;31m \u001b[0mtea1\u001b[0m\u001b[0;34m.\u001b[0m\u001b[0msex\u001b[0m \u001b[0;34m=\u001b[0m \u001b[0;34m\"男\"\u001b[0m\u001b[0;34m\u001b[0m\u001b[0m\n\u001b[0m",
      "\u001b[0;31mAttributeError\u001b[0m: 'Teacher' object has no attribute 'sex'"
     ]
    }
   ],
   "source": [
    "tea1.sex = \"男\""
   ]
  },
  {
   "cell_type": "code",
   "execution_count": 62,
   "metadata": {
    "collapsed": true
   },
   "outputs": [],
   "source": [
    "class 数学老师(Teacher):\n",
    "    pass"
   ]
  },
  {
   "cell_type": "code",
   "execution_count": 64,
   "metadata": {
    "collapsed": false
   },
   "outputs": [],
   "source": [
    "数学老师.sex = \"男\""
   ]
  },
  {
   "cell_type": "markdown",
   "metadata": {},
   "source": [
    "那怎么继承呢"
   ]
  },
  {
   "cell_type": "code",
   "execution_count": 78,
   "metadata": {
    "collapsed": false
   },
   "outputs": [],
   "source": [
    "class 语文老师(Teacher):\n",
    "    __slots__ = ()"
   ]
  },
  {
   "cell_type": "code",
   "execution_count": 79,
   "metadata": {
    "collapsed": true
   },
   "outputs": [],
   "source": [
    "tea2 = 语文老师()"
   ]
  },
  {
   "cell_type": "code",
   "execution_count": 80,
   "metadata": {
    "collapsed": false
   },
   "outputs": [
    {
     "ename": "AttributeError",
     "evalue": "'语文老师' object has no attribute 'sex'",
     "output_type": "error",
     "traceback": [
      "\u001b[0;31m---------------------------------------------------------------------------\u001b[0m",
      "\u001b[0;31mAttributeError\u001b[0m                            Traceback (most recent call last)",
      "\u001b[0;32m<ipython-input-80-f0f7539fb460>\u001b[0m in \u001b[0;36m<module>\u001b[0;34m()\u001b[0m\n\u001b[0;32m----> 1\u001b[0;31m \u001b[0mtea2\u001b[0m\u001b[0;34m.\u001b[0m\u001b[0msex\u001b[0m \u001b[0;34m=\u001b[0m \u001b[0;34m\"女\"\u001b[0m\u001b[0;34m\u001b[0m\u001b[0m\n\u001b[0m",
      "\u001b[0;31mAttributeError\u001b[0m: '语文老师' object has no attribute 'sex'"
     ]
    }
   ],
   "source": [
    "tea2.sex = \"女\""
   ]
  },
  {
   "cell_type": "markdown",
   "metadata": {},
   "source": [
    "如果子类中定义了`__slots__`,那么实际的slots就是父类和子类的和"
   ]
  },
  {
   "cell_type": "markdown",
   "metadata": {},
   "source": [
    "## 多态"
   ]
  },
  {
   "cell_type": "markdown",
   "metadata": {},
   "source": [
    "\n",
    "什么是多态? 多态来源自希腊文字(polymorphism),意思是多种形式,在java,\n",
    "C++这些静态类型语言中一般是指父类型变量可以引用子类型对象,或一个接口，多种方法,一个接口多个类实现.而python并不关心类型,\n",
    "而是关注接口(或者说协议),因此python的多态和他们的多态区别很大.\n",
    "\n",
    "python中的多态可以自动的适用于所有类别的对象类型,只要对象支持所预设的接口即可.\n",
    "当传递的对象不支持这种预期的接口,python会再运行时检测到并抛出错误.\n",
    "\n",
    "这种模式就是所谓的\"Duck type\"鸭子类型,即是说,一个对象有效的语义，\n",
    "不是由继承自特定的类或实现特定的接口，而是由当前方法和属性的集合决定.\n",
    "\n",
    "> 例:"
   ]
  },
  {
   "cell_type": "code",
   "execution_count": 81,
   "metadata": {
    "collapsed": true
   },
   "outputs": [],
   "source": [
    "class V:\n",
    "    def __init__(self,x,y):\n",
    "        self.x = x\n",
    "        self.y = y\n",
    "    def __repr__(self):\n",
    "        return str(self.x)+\",\"+str(self.y)\n",
    "    def __add__(self,other):\n",
    "        result = V(self.x+other.x,self.y+other.y)\n",
    "        return result\n",
    "\n",
    "class C:\n",
    "    def __init__(self,x,y,z):\n",
    "        self.x = x\n",
    "        self.y = y\n",
    "        self.z = z\n",
    "    def __repr__(self):\n",
    "        return str(self.x)+\",\"+str(self.y)+\",\"+str(self.z)\n",
    "    def __add__(self,other):\n",
    "        result = C(self.x+other.x,self.y+other.y,other.z)\n",
    "        return result\n"
   ]
  },
  {
   "cell_type": "code",
   "execution_count": 82,
   "metadata": {
    "collapsed": false
   },
   "outputs": [
    {
     "name": "stdout",
     "output_type": "stream",
     "text": [
      "4,7\n"
     ]
    },
    {
     "ename": "AttributeError",
     "evalue": "'V' object has no attribute 'z'",
     "output_type": "error",
     "traceback": [
      "\u001b[0;31m---------------------------------------------------------------------------\u001b[0m",
      "\u001b[0;31mAttributeError\u001b[0m                            Traceback (most recent call last)",
      "\u001b[0;32m<ipython-input-82-3afafbbf057c>\u001b[0m in \u001b[0;36m<module>\u001b[0;34m()\u001b[0m\n\u001b[1;32m      3\u001b[0m \u001b[0;34m\u001b[0m\u001b[0m\n\u001b[1;32m      4\u001b[0m \u001b[0mprint\u001b[0m\u001b[0;34m(\u001b[0m\u001b[0mv\u001b[0m\u001b[0;34m+\u001b[0m\u001b[0mc\u001b[0m\u001b[0;34m)\u001b[0m\u001b[0;31m#4,7\u001b[0m\u001b[0;34m\u001b[0m\u001b[0m\n\u001b[0;32m----> 5\u001b[0;31m \u001b[0mprint\u001b[0m\u001b[0;34m(\u001b[0m\u001b[0mc\u001b[0m\u001b[0;34m+\u001b[0m\u001b[0mv\u001b[0m\u001b[0;34m)\u001b[0m\u001b[0;31m#会报错\u001b[0m\u001b[0;34m\u001b[0m\u001b[0m\n\u001b[0m",
      "\u001b[0;32m<ipython-input-81-ab79601830da>\u001b[0m in \u001b[0;36m__add__\u001b[0;34m(self, other)\u001b[0m\n\u001b[1;32m     17\u001b[0m         \u001b[0;32mreturn\u001b[0m \u001b[0mstr\u001b[0m\u001b[0;34m(\u001b[0m\u001b[0mself\u001b[0m\u001b[0;34m.\u001b[0m\u001b[0mx\u001b[0m\u001b[0;34m)\u001b[0m\u001b[0;34m+\u001b[0m\u001b[0;34m\",\"\u001b[0m\u001b[0;34m+\u001b[0m\u001b[0mstr\u001b[0m\u001b[0;34m(\u001b[0m\u001b[0mself\u001b[0m\u001b[0;34m.\u001b[0m\u001b[0my\u001b[0m\u001b[0;34m)\u001b[0m\u001b[0;34m+\u001b[0m\u001b[0;34m\",\"\u001b[0m\u001b[0;34m+\u001b[0m\u001b[0mstr\u001b[0m\u001b[0;34m(\u001b[0m\u001b[0mself\u001b[0m\u001b[0;34m.\u001b[0m\u001b[0mz\u001b[0m\u001b[0;34m)\u001b[0m\u001b[0;34m\u001b[0m\u001b[0m\n\u001b[1;32m     18\u001b[0m     \u001b[0;32mdef\u001b[0m \u001b[0m__add__\u001b[0m\u001b[0;34m(\u001b[0m\u001b[0mself\u001b[0m\u001b[0;34m,\u001b[0m\u001b[0mother\u001b[0m\u001b[0;34m)\u001b[0m\u001b[0;34m:\u001b[0m\u001b[0;34m\u001b[0m\u001b[0m\n\u001b[0;32m---> 19\u001b[0;31m         \u001b[0mresult\u001b[0m \u001b[0;34m=\u001b[0m \u001b[0mC\u001b[0m\u001b[0;34m(\u001b[0m\u001b[0mself\u001b[0m\u001b[0;34m.\u001b[0m\u001b[0mx\u001b[0m\u001b[0;34m+\u001b[0m\u001b[0mother\u001b[0m\u001b[0;34m.\u001b[0m\u001b[0mx\u001b[0m\u001b[0;34m,\u001b[0m\u001b[0mself\u001b[0m\u001b[0;34m.\u001b[0m\u001b[0my\u001b[0m\u001b[0;34m+\u001b[0m\u001b[0mother\u001b[0m\u001b[0;34m.\u001b[0m\u001b[0my\u001b[0m\u001b[0;34m,\u001b[0m\u001b[0mother\u001b[0m\u001b[0;34m.\u001b[0m\u001b[0mz\u001b[0m\u001b[0;34m)\u001b[0m\u001b[0;34m\u001b[0m\u001b[0m\n\u001b[0m\u001b[1;32m     20\u001b[0m         \u001b[0;32mreturn\u001b[0m \u001b[0mresult\u001b[0m\u001b[0;34m\u001b[0m\u001b[0m\n",
      "\u001b[0;31mAttributeError\u001b[0m: 'V' object has no attribute 'z'"
     ]
    }
   ],
   "source": [
    "c = C(1,2,4)\n",
    "v = V(3,5)\n",
    "\n",
    "print(v+c)#4,7\n",
    "print(c+v)#会报错\n"
   ]
  },
  {
   "cell_type": "code",
   "execution_count": 84,
   "metadata": {
    "collapsed": false
   },
   "outputs": [
    {
     "name": "stdout",
     "output_type": "stream",
     "text": [
      "da,eb\n"
     ]
    }
   ],
   "source": [
    "cs = C(\"a\",\"b\",\"c\")\n",
    "vs = V(\"d\",\"e\")\n",
    "print(vs+cs)#da,eb\n"
   ]
  },
  {
   "cell_type": "markdown",
   "metadata": {},
   "source": [
    "可见当v+c时,v看到c中有x,y这两个参数,满足与其相加的要求,因此可以计算,\n",
    "而c+v时,c的加法方法需要相加对象v的z属性,明显v没有该属性,所以会报错.\n",
    "\n",
    "同时,多态也体现在vs+cs时,因为字符串也有`+`操作,所以vs+cs也可以进行,准确的说所有可`+`的类型都可以作为输入.\n",
    "动态语言的魅力也在于此,因为对参数的类型没有要求所以灵活性非常高,当然代价就是安全性了.\n",
    "\n",
    "Python没有方法重载,所谓重载是指可以定义重名方法,由输入参数的类型或者数量来作为区别\n",
    "python是动态语言,对输入参数类型没有要求而对于数量,因为有`*args`可以作为参数,也可以设定默认值,\n",
    "所以对数量也可以看做是没有要求.因为这一点python没有必要存在重载.如果有两个同名方法,那后一个会替掉前一个."
   ]
  }
 ],
 "metadata": {
  "kernelspec": {
   "display_name": "Python 3",
   "language": "python",
   "name": "python3"
  },
  "language_info": {
   "codemirror_mode": {
    "name": "ipython",
    "version": 3
   },
   "file_extension": ".py",
   "mimetype": "text/x-python",
   "name": "python",
   "nbconvert_exporter": "python",
   "pygments_lexer": "ipython3",
   "version": "3.5.0"
  }
 },
 "nbformat": 4,
 "nbformat_minor": 0
}
