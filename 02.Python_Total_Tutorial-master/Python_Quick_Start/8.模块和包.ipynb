{
 "cells": [
  {
   "cell_type": "markdown",
   "metadata": {},
   "source": [
    "# 模块和包\n",
    "\n",
    "\n",
    "## 模块\n",
    "\n",
    "每个python文件就是一个所谓的模块\n",
    "\n",
    "如果要引用一个模块 只用import\n",
    "\n",
    "后面也可以加个`as` 来修改引入后的模块名\n"
   ]
  },
  {
   "cell_type": "code",
   "execution_count": 1,
   "metadata": {
    "collapsed": false
   },
   "outputs": [
    {
     "name": "stdout",
     "output_type": "stream",
     "text": [
      "HELLO = \"Hello world!\"\r\n",
      "def say_hello():\r\n",
      "    print(\"say hello\")\r\n",
      "\r\n",
      "class MyHello:\r\n",
      "    def hello_myhello(self):\r\n",
      "        print(\"say myhello\")\r\n"
     ]
    }
   ],
   "source": [
    "!cat mymodule.py"
   ]
  },
  {
   "cell_type": "code",
   "execution_count": 2,
   "metadata": {
    "collapsed": false
   },
   "outputs": [],
   "source": [
    "import mymodule"
   ]
  },
  {
   "cell_type": "code",
   "execution_count": 3,
   "metadata": {
    "collapsed": false
   },
   "outputs": [
    {
     "data": {
      "text/plain": [
       "'Hello world!'"
      ]
     },
     "execution_count": 3,
     "metadata": {},
     "output_type": "execute_result"
    }
   ],
   "source": [
    "mymodule.HELLO"
   ]
  },
  {
   "cell_type": "code",
   "execution_count": 4,
   "metadata": {
    "collapsed": false
   },
   "outputs": [],
   "source": [
    "a = mymodule.MyHello()"
   ]
  },
  {
   "cell_type": "code",
   "execution_count": 5,
   "metadata": {
    "collapsed": false
   },
   "outputs": [
    {
     "name": "stdout",
     "output_type": "stream",
     "text": [
      "say myhello\n"
     ]
    }
   ],
   "source": [
    "a.hello_myhello()"
   ]
  },
  {
   "cell_type": "code",
   "execution_count": 6,
   "metadata": {
    "collapsed": false
   },
   "outputs": [
    {
     "name": "stdout",
     "output_type": "stream",
     "text": [
      "say hello\n"
     ]
    }
   ],
   "source": [
    "mymodule.say_hello()"
   ]
  },
  {
   "cell_type": "markdown",
   "metadata": {},
   "source": [
    "也可以用from xxx import XXX直接调用其中的值或者方法"
   ]
  },
  {
   "cell_type": "code",
   "execution_count": 7,
   "metadata": {
    "collapsed": false
   },
   "outputs": [
    {
     "name": "stdout",
     "output_type": "stream",
     "text": [
      "HELLO = \"Hello world 2!\"\r\n",
      "def say_hello():\r\n",
      "    print(\"say hello 2\")\r\n",
      "\r\n",
      "class MyHello:\r\n",
      "    def hello_myhello(self):\r\n",
      "        print(\"say myhello 2\")\r\n"
     ]
    }
   ],
   "source": [
    "!cat myModule2.py"
   ]
  },
  {
   "cell_type": "code",
   "execution_count": 8,
   "metadata": {
    "collapsed": false
   },
   "outputs": [],
   "source": [
    "from myModule2 import HELLO,MyHello,say_hello"
   ]
  },
  {
   "cell_type": "code",
   "execution_count": 9,
   "metadata": {
    "collapsed": false
   },
   "outputs": [
    {
     "data": {
      "text/plain": [
       "'Hello world 2!'"
      ]
     },
     "execution_count": 9,
     "metadata": {},
     "output_type": "execute_result"
    }
   ],
   "source": [
    "HELLO"
   ]
  },
  {
   "cell_type": "code",
   "execution_count": 10,
   "metadata": {
    "collapsed": true
   },
   "outputs": [],
   "source": [
    "b = MyHello()"
   ]
  },
  {
   "cell_type": "code",
   "execution_count": 11,
   "metadata": {
    "collapsed": false
   },
   "outputs": [
    {
     "name": "stdout",
     "output_type": "stream",
     "text": [
      "say myhello 2\n"
     ]
    }
   ],
   "source": [
    "b.hello_myhello()"
   ]
  },
  {
   "cell_type": "code",
   "execution_count": 13,
   "metadata": {
    "collapsed": false
   },
   "outputs": [
    {
     "name": "stdout",
     "output_type": "stream",
     "text": [
      "say hello 2\n"
     ]
    }
   ],
   "source": [
    "say_hello()"
   ]
  },
  {
   "cell_type": "markdown",
   "metadata": {},
   "source": [
    "## 模块的标准写法\n",
    "\n",
    "    #!/usr/bin/env python\n",
    "\n",
    "    # -*- codeing:utf-8 -*-\n",
    "\n",
    "    \"\"\"模块说明\n",
    "    \"\"\"\n",
    "    __author__ = 'python' \n",
    "    __version__= '1.0'\n",
    "    __nonsense__ = 'aaaabbbbccc'\n",
    "\n",
    "    import xxx#导入模块\n",
    "\n",
    "    Pi=3.14#全局变量\n",
    "\n",
    "    class MyClass: \n",
    "        pass\n",
    "\n",
    "    def MyFunction():\n",
    "        pass\n",
    "\n",
    "    if __name__ == '__main__':\n",
    "        test()\n"
   ]
  },
  {
   "cell_type": "markdown",
   "metadata": {},
   "source": [
    "## 包\n",
    "\n",
    "当一个模块(文件)无法满足需要,比如希望模块化的管理app,或者代码太长需要拆分时,我们就需要一种文件组织形式了,也就是包\n",
    "\n",
    "### 包结构\n",
    "\n",
    "    APP-|-__init__.py\n",
    "        |-A.py\n",
    "        |-B.py\n",
    "        \n",
    "        \n",
    "其中`__init__.py`是告诉python的解释器这是一个包.它可以为空,也可以定义一些约束\n",
    "\n",
    "    __all__  指定的是指此包被import * 的时候, 哪些模块会被import进来\n",
    "    __path__: __init__.py的常用变量__path__, 默认情况下只有一个元素, 就是当前包的路径, 修改__path__, 可以修改此包内的搜索路径. "
   ]
  },
  {
   "cell_type": "markdown",
   "metadata": {},
   "source": [
    "##  import  的相对引用\n",
    "\n",
    "    from . import echo\n",
    "    from .. import formats\n",
    "    from ..filters import equalizer\n",
    "    \n",
    "    "
   ]
  },
  {
   "cell_type": "markdown",
   "metadata": {},
   "source": [
    "## 循环引用和循环依赖\n",
    "\n",
    "在写包的过程中,往往我们会希望像写java一样一个类一个文件或者相关的类放在一个文件中,当类关系比较复杂的时候就会出现循环引用和循环依赖的问题\n",
    "\n",
    "如上包结构中类关系如下:\n",
    "\n",
    "    APP-|-__init__.py\n",
    "        |-A.py\n",
    "        |    |-class a \n",
    "        |-B.py\n",
    "             |-class b\n",
    "             \n",
    "\n",
    "A中要引用B中的b,B又要引用A中的a,这样就是一个典型的循环引用了,如果用相对引用,那会报错,如何解决呢?\n",
    "\n",
    "+ 使用绝对引用\n",
    "\n",
    "+ 不在文件头部引用,而在需要用的地方引用\n"
   ]
  },
  {
   "cell_type": "markdown",
   "metadata": {},
   "source": [
    "## 模块的载入行为(科普)\n",
    "\n",
    "当一个模块被载入的时候它会完成这些行为:\n",
    "\n",
    "+ 首先在sys.modules中注册,这样以后再次载入的时候就是从这个dict里面找了\n",
    "+ 之后将模块对象的名字加到对应导入位置的作用域中,也就是说如果它在全局引入,它会变成一个全局变量"
   ]
  },
  {
   "cell_type": "code",
   "execution_count": 8,
   "metadata": {
    "collapsed": false
   },
   "outputs": [
    {
     "name": "stdout",
     "output_type": "stream",
     "text": [
      "0.28183311101853326\n"
     ]
    },
    {
     "ename": "NameError",
     "evalue": "name 'random' is not defined",
     "output_type": "error",
     "traceback": [
      "\u001b[0;31m---------------------------------------------------------------------------\u001b[0m",
      "\u001b[0;31mNameError\u001b[0m                                 Traceback (most recent call last)",
      "\u001b[0;32m<ipython-input-8-c29a32d3f823>\u001b[0m in \u001b[0;36m<module>\u001b[0;34m()\u001b[0m\n\u001b[1;32m      3\u001b[0m     \u001b[0mprint\u001b[0m\u001b[0;34m(\u001b[0m\u001b[0mrandom\u001b[0m\u001b[0;34m.\u001b[0m\u001b[0mrandom\u001b[0m\u001b[0;34m(\u001b[0m\u001b[0;34m)\u001b[0m\u001b[0;34m)\u001b[0m\u001b[0;34m\u001b[0m\u001b[0m\n\u001b[1;32m      4\u001b[0m \u001b[0ma\u001b[0m\u001b[0;34m(\u001b[0m\u001b[0;34m)\u001b[0m\u001b[0;34m\u001b[0m\u001b[0m\n\u001b[0;32m----> 5\u001b[0;31m \u001b[0mprint\u001b[0m\u001b[0;34m(\u001b[0m\u001b[0mrandom\u001b[0m\u001b[0;34m.\u001b[0m\u001b[0mrandom\u001b[0m\u001b[0;34m(\u001b[0m\u001b[0;34m)\u001b[0m\u001b[0;34m)\u001b[0m\u001b[0;34m\u001b[0m\u001b[0m\n\u001b[0m",
      "\u001b[0;31mNameError\u001b[0m: name 'random' is not defined"
     ]
    }
   ],
   "source": [
    "def a():\n",
    "    import random\n",
    "    print(random.random())\n",
    "a()\n",
    "print(random.random())\n"
   ]
  },
  {
   "cell_type": "markdown",
   "metadata": {},
   "source": [
    "### 模块中的引用\n",
    "\n",
    "我们来看看import在模块中的行为:"
   ]
  },
  {
   "cell_type": "code",
   "execution_count": 1,
   "metadata": {
    "collapsed": true
   },
   "outputs": [],
   "source": [
    "!mkdir pack1"
   ]
  },
  {
   "cell_type": "code",
   "execution_count": 4,
   "metadata": {
    "collapsed": true
   },
   "outputs": [],
   "source": [
    "!mkdir pack1/pack2"
   ]
  },
  {
   "cell_type": "code",
   "execution_count": 1,
   "metadata": {
    "collapsed": false
   },
   "outputs": [
    {
     "name": "stdout",
     "output_type": "stream",
     "text": [
      "Writing pack1/__init__.py\n"
     ]
    }
   ],
   "source": [
    "%%writefile pack1/__init__.py\n",
    "# coding:utf-8\n",
    "from __future__ import division,absolute_import,print_function,unicode_literals"
   ]
  },
  {
   "cell_type": "code",
   "execution_count": 2,
   "metadata": {
    "collapsed": false
   },
   "outputs": [
    {
     "name": "stdout",
     "output_type": "stream",
     "text": [
      "Overwriting pack1/test_print.py\n"
     ]
    }
   ],
   "source": [
    "%%writefile pack1/test_print.py\n",
    "def test_print():\n",
    "    a = lambda x:print(x)\n",
    "    a(1)"
   ]
  },
  {
   "cell_type": "code",
   "execution_count": 3,
   "metadata": {
    "collapsed": false
   },
   "outputs": [
    {
     "name": "stdout",
     "output_type": "stream",
     "text": [
      "Overwriting pack1/test_uincode.py\n"
     ]
    }
   ],
   "source": [
    "%%writefile pack1/test_uincode.py\n",
    "def test_uincode():\n",
    "    l=\"模块和包\"\n",
    "    print(type(l))"
   ]
  },
  {
   "cell_type": "code",
   "execution_count": 3,
   "metadata": {
    "collapsed": false
   },
   "outputs": [
    {
     "name": "stdout",
     "output_type": "stream",
     "text": [
      "Writing pack1/test_div.py\n"
     ]
    }
   ],
   "source": [
    "%%writefile pack1/test_div.py\n",
    "def test_div():\n",
    "    print(3/2)\n",
    "    "
   ]
  },
  {
   "cell_type": "code",
   "execution_count": 11,
   "metadata": {
    "collapsed": false
   },
   "outputs": [
    {
     "name": "stdout",
     "output_type": "stream",
     "text": [
      "Overwriting pack1/pack2/__init__.py\n"
     ]
    }
   ],
   "source": [
    "%%writefile pack1/pack2/__init__.py\n",
    "from ..test_div import test_div\n",
    "def test_abi():\n",
    "    test_div()"
   ]
  },
  {
   "cell_type": "code",
   "execution_count": 6,
   "metadata": {
    "collapsed": true
   },
   "outputs": [],
   "source": [
    "import pack1"
   ]
  },
  {
   "cell_type": "code",
   "execution_count": 7,
   "metadata": {
    "collapsed": false
   },
   "outputs": [
    {
     "ename": "AttributeError",
     "evalue": "'module' object has no attribute 'test_uincode'",
     "output_type": "error",
     "traceback": [
      "\u001b[0;31m---------------------------------------------------------------------------\u001b[0m",
      "\u001b[0;31mAttributeError\u001b[0m                            Traceback (most recent call last)",
      "\u001b[0;32m<ipython-input-7-6014f23ecd90>\u001b[0m in \u001b[0;36m<module>\u001b[0;34m()\u001b[0m\n\u001b[0;32m----> 1\u001b[0;31m \u001b[0mpack1\u001b[0m\u001b[0;34m.\u001b[0m\u001b[0mtest_uincode\u001b[0m\u001b[0;34m(\u001b[0m\u001b[0;34m)\u001b[0m\u001b[0;34m\u001b[0m\u001b[0m\n\u001b[0m",
      "\u001b[0;31mAttributeError\u001b[0m: 'module' object has no attribute 'test_uincode'"
     ]
    }
   ],
   "source": [
    "pack1.test_uincode()"
   ]
  },
  {
   "cell_type": "markdown",
   "metadata": {},
   "source": [
    "可见`__init__`中必须要引入需要的方法"
   ]
  },
  {
   "cell_type": "code",
   "execution_count": 1,
   "metadata": {
    "collapsed": false
   },
   "outputs": [
    {
     "name": "stdout",
     "output_type": "stream",
     "text": [
      "Overwriting pack1/__init__.py\n"
     ]
    }
   ],
   "source": [
    "%%writefile pack1/__init__.py\n",
    "# coding:utf-8\n",
    "from __future__ import division,absolute_import,print_function,unicode_literals\n",
    "from .test_uincode import test_uincode\n",
    "from .test_print import test_print\n",
    "from .test_div import test_div\n",
    "from .pack2 import test_abi"
   ]
  },
  {
   "cell_type": "code",
   "execution_count": 2,
   "metadata": {
    "collapsed": false
   },
   "outputs": [
    {
     "ename": "SyntaxError",
     "evalue": "Non-ASCII character '\\xe6' in file pack1/test_uincode.py on line 2, but no encoding declared; see http://python.org/dev/peps/pep-0263/ for details (test_uincode.py, line 2)",
     "output_type": "error",
     "traceback": [
      "\u001b[0;36m  File \u001b[0;32m\"pack1/test_uincode.py\"\u001b[0;36m, line \u001b[0;32m2\u001b[0m\n\u001b[0;31m    l=\"模块和包\"\u001b[0m\n\u001b[0m            ^\u001b[0m\n\u001b[0;31mSyntaxError\u001b[0m\u001b[0;31m:\u001b[0m Non-ASCII character '\\xe6' in file pack1/test_uincode.py on line 2, but no encoding declared; see http://python.org/dev/peps/pep-0263/ for details\n"
     ]
    }
   ],
   "source": [
    "import pack1\n",
    "pack1.test_uincode()"
   ]
  },
  {
   "cell_type": "markdown",
   "metadata": {},
   "source": [
    "可见`# coding:utf-8`这句并不能在全模块中使用"
   ]
  },
  {
   "cell_type": "code",
   "execution_count": 3,
   "metadata": {
    "collapsed": false
   },
   "outputs": [
    {
     "name": "stdout",
     "output_type": "stream",
     "text": [
      "Overwriting pack1/test_uincode.py\n"
     ]
    }
   ],
   "source": [
    "%%writefile pack1/test_uincode.py\n",
    "# coding:utf-8\n",
    "def test_uincode():\n",
    "    l=\"模块和包\"\n",
    "    print(type(l))"
   ]
  },
  {
   "cell_type": "code",
   "execution_count": 4,
   "metadata": {
    "collapsed": false
   },
   "outputs": [
    {
     "name": "stdout",
     "output_type": "stream",
     "text": [
      "<type 'str'>\n"
     ]
    }
   ],
   "source": [
    "import pack1\n",
    "pack1.test_uincode()"
   ]
  },
  {
   "cell_type": "markdown",
   "metadata": {},
   "source": [
    "可见from `__future__ import unicode_literals`,这句并没有作用"
   ]
  },
  {
   "cell_type": "code",
   "execution_count": 4,
   "metadata": {
    "collapsed": false
   },
   "outputs": [
    {
     "name": "stdout",
     "output_type": "stream",
     "text": [
      "Overwriting pack1/test_uincode.py\n"
     ]
    }
   ],
   "source": [
    "%%writefile pack1/test_uincode.py\n",
    "# coding:utf-8\n",
    "from __future__ import unicode_literals\n",
    "def test_uincode():\n",
    "    l=\"模块和包\"\n",
    "    print(type(l))"
   ]
  },
  {
   "cell_type": "code",
   "execution_count": 1,
   "metadata": {
    "collapsed": false
   },
   "outputs": [
    {
     "name": "stdout",
     "output_type": "stream",
     "text": [
      "<type 'unicode'>\n"
     ]
    }
   ],
   "source": [
    "import pack1\n",
    "pack1.test_uincode()"
   ]
  },
  {
   "cell_type": "code",
   "execution_count": 3,
   "metadata": {
    "collapsed": false
   },
   "outputs": [
    {
     "ename": "SyntaxError",
     "evalue": "invalid syntax (test_print.py, line 2)",
     "output_type": "error",
     "traceback": [
      "\u001b[0;36m  File \u001b[0;32m\"pack1/test_print.py\"\u001b[0;36m, line \u001b[0;32m2\u001b[0m\n\u001b[0;31m    a = lambda x:print(x)\u001b[0m\n\u001b[0m                     ^\u001b[0m\n\u001b[0;31mSyntaxError\u001b[0m\u001b[0;31m:\u001b[0m invalid syntax\n"
     ]
    }
   ],
   "source": [
    "import pack1\n",
    "pack1.test_print()"
   ]
  },
  {
   "cell_type": "markdown",
   "metadata": {},
   "source": [
    "可见print也没有被加载"
   ]
  },
  {
   "cell_type": "code",
   "execution_count": 7,
   "metadata": {
    "collapsed": false
   },
   "outputs": [
    {
     "name": "stdout",
     "output_type": "stream",
     "text": [
      "Overwriting pack1/test_print.py\n"
     ]
    }
   ],
   "source": [
    "%%writefile pack1/test_print.py\n",
    "from __future__ import print_function\n",
    "def test_print():\n",
    "    a = lambda x:print(x)\n",
    "    a(1)"
   ]
  },
  {
   "cell_type": "code",
   "execution_count": 1,
   "metadata": {
    "collapsed": false
   },
   "outputs": [
    {
     "name": "stdout",
     "output_type": "stream",
     "text": [
      "1\n"
     ]
    }
   ],
   "source": [
    "import pack1\n",
    "pack1.test_div()"
   ]
  },
  {
   "cell_type": "markdown",
   "metadata": {},
   "source": [
    "可见乘法也没有生效"
   ]
  },
  {
   "cell_type": "markdown",
   "metadata": {},
   "source": [
    "基本可以确定了,import 并不能让模块全局的被加载"
   ]
  }
 ],
 "metadata": {
  "kernelspec": {
   "display_name": "Python 2",
   "language": "python",
   "name": "python2"
  },
  "language_info": {
   "codemirror_mode": {
    "name": "ipython",
    "version": 2
   },
   "file_extension": ".py",
   "mimetype": "text/x-python",
   "name": "python",
   "nbconvert_exporter": "python",
   "pygments_lexer": "ipython2",
   "version": "2.7.11"
  }
 },
 "nbformat": 4,
 "nbformat_minor": 0
}
