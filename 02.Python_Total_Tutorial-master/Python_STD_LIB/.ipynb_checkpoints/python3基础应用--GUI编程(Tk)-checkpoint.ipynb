{
 "cells": [
  {
   "cell_type": "markdown",
   "metadata": {},
   "source": [
    "# python3基础应用--GUI编程(Tk)\n",
    "\n",
    "GUI也就是图形界面啦,Python有不少GUI框架,而tkinter是自带的,为啥选这个呢,因为一般用Python写GUI都不会写多复杂,也就是够用就好.最符合这一要求的就是tkinter了,Python自带,逻辑简单,模块少而够用.python自带的IDLE就是它写的,要啥自行车呀!"
   ]
  },
  {
   "cell_type": "markdown",
   "metadata": {},
   "source": [
    "## 第一个例子"
   ]
  },
  {
   "cell_type": "code",
   "execution_count": 45,
   "metadata": {
    "collapsed": true
   },
   "outputs": [],
   "source": [
    "import tkinter"
   ]
  },
  {
   "cell_type": "code",
   "execution_count": 2,
   "metadata": {
    "collapsed": false
   },
   "outputs": [
    {
     "ename": "SystemExit",
     "evalue": "0",
     "output_type": "error",
     "traceback": [
      "An exception has occurred, use %tb to see the full traceback.\n",
      "\u001b[0;31mSystemExit\u001b[0m\u001b[0;31m:\u001b[0m 0\n"
     ]
    },
    {
     "name": "stderr",
     "output_type": "stream",
     "text": [
      "To exit: use 'exit', 'quit', or Ctrl-D.\n"
     ]
    }
   ],
   "source": [
    "tkinter._test()"
   ]
  },
  {
   "cell_type": "markdown",
   "metadata": {},
   "source": [
    "是不是跳出了一个小框框\n",
    "![]()\n",
    "tk的自带例子,好玩儿不,当然了我是在ipython中写了这个例子,要彻底关掉必须重启kernel,所以,后面的例子都会写进py文件运行"
   ]
  },
  {
   "cell_type": "markdown",
   "metadata": {},
   "source": [
    "## 第一个例子 +\n",
    "\n",
    "我们来自己写个例子,体会下tk的逻辑"
   ]
  },
  {
   "cell_type": "code",
   "execution_count": 1,
   "metadata": {
    "collapsed": false
   },
   "outputs": [
    {
     "name": "stdout",
     "output_type": "stream",
     "text": [
      "from tkinter import Frame,Label,Button\r\n",
      "\r\n",
      "class Application(Frame):\r\n",
      "    def __init__(self, master=None):\r\n",
      "        Frame.__init__(self, master)\r\n",
      "        #窗口大小位置\r\n",
      "        self.master.geometry(\"600x400+100+400\")#长x宽+x+y\r\n",
      "        self.pack()\r\n",
      "        self.createWidgets()\r\n",
      "\r\n",
      "    def createWidgets(self):\r\n",
      "        self.helloLabel = Label(self, text='Hello, world!')\r\n",
      "    \r\n",
      "        self.helloLabel.pack()\r\n",
      "        self.quitButton = Button(self, text='Quit',fg=\"red\", command=self.quit)\r\n",
      "        self.quitButton.pack()\r\n",
      "\r\n",
      "if __name__ ==\"__main__\":\r\n",
      "    app = Application()\r\n",
      "    # 设置窗口标题:\r\n",
      "    app.master.title('Hello World')\r\n",
      "\r\n",
      "    app.master.geometry(\"600x400+100+400\")#长x宽+x+y\r\n",
      "    # 主消息循环:\r\n",
      "    app.mainloop()\r\n"
     ]
    }
   ],
   "source": [
    "!cat firstGUI.py"
   ]
  },
  {
   "cell_type": "code",
   "execution_count": 3,
   "metadata": {
    "collapsed": true
   },
   "outputs": [],
   "source": [
    "!python3 firstGUI.py"
   ]
  },
  {
   "cell_type": "markdown",
   "metadata": {},
   "source": [
    "运行后出现如图小对话框\n",
    "\n",
    "![]()\n",
    "\n",
    "\n",
    "可以看出,主类继承自Frame基类\n",
    "\n",
    "每个Button、Label、输入框等，都是一个Widget。Frame则是可以容纳其他Widget的Widget，所有的Widget组合起来就是一棵树。\n",
    "\n",
    "pack()方法把Widget加入到父容器中，并实现布局。pack()是最简单的布局，grid()可以实现更复杂的布局。\n",
    "\n",
    "在createWidgets()方法中，我们创建一个Label和一个Button，当Button被点击时，触发self.quit()使程序退出"
   ]
  },
  {
   "cell_type": "markdown",
   "metadata": {},
   "source": [
    "## 组件\n",
    "\n",
    "tkinter的控件主要有这些:\n",
    "\n",
    "+ Label 标签\n",
    "+ Button 按钮\n",
    "+ Toplevel\n",
    "+ Canvas\n",
    "+ Checkbutton\n",
    "+ Entry\n",
    "+ Frame\n",
    "+ LabelFrame\n",
    "+ Listbox\n",
    "+ Menu \n",
    "+ Menubutton\n",
    "+ Message\n",
    "+ OptionMenu\n",
    "+ PaneWindow \n",
    "+ Radiobutton \n",
    "+ Scale \n",
    "+ Scrollbar \n",
    "+ Spinbox \n",
    "+ Text \n",
    "+ Bitmap\n",
    "+ Image\n",
    "+ ScrolledText.frame\n",
    "+ ScrolledText.vbar\n"
   ]
  },
  {
   "cell_type": "markdown",
   "metadata": {},
   "source": [
    "> 标签 Label\n",
    "\n",
    "标签可以定义的属性主要有:\n",
    "\n",
    "+ text 标签的内容,文本信息\n",
    "\n",
    "+ font 字体\n",
    "\n",
    "+ background 背景色\n",
    "\n",
    "等\n"
   ]
  },
  {
   "cell_type": "markdown",
   "metadata": {},
   "source": [
    "> 按钮 Button\n",
    "\n",
    "按钮算是最常用的控件之一了,它的属性主要有:\n",
    "\n",
    "+ 宽度 width\n",
    "+ 高度 height\n",
    "+ 背景色 background\n",
    "+ 显示文字 text \n",
    "\n",
    "但是说到按钮当然最重要的是触发事件了\n",
    "\n",
    "+ 命令 command 接受一个函数名,注意是函数名,没有括弧"
   ]
  },
  {
   "cell_type": "markdown",
   "metadata": {},
   "source": [
    ">输入框 Entry\n",
    "\n",
    "属性:\n",
    "\n",
    "+ get() 获取输入(返回一个str)\n",
    "\n",
    "例:一个用户登录界面"
   ]
  },
  {
   "cell_type": "code",
   "execution_count": 4,
   "metadata": {
    "collapsed": false
   },
   "outputs": [
    {
     "name": "stdout",
     "output_type": "stream",
     "text": [
      "from tkinter import Frame,Label,Button,Entry\r\n",
      "\r\n",
      "\r\n",
      "class Application(Frame):\r\n",
      "    def __init__(self, master=None):\r\n",
      "        Frame.__init__(self, master)\r\n",
      "        self.pack()\r\n",
      "        self.createWidgets()\r\n",
      "\r\n",
      "    def createWidgets(self):\r\n",
      "        self.userLabel = Label(self, text='用户名:')\r\n",
      "        self.userLabel.grid(row = 0,column = 0,sticky=\"w\")\r\n",
      "        self.userEntry = Entry(self)\r\n",
      "        self.userEntry.grid(row = 0,column = 1,sticky=\"e\")\r\n",
      "        self.pwLabel = Label(self, text='密码:')\r\n",
      "        self.pwLabel.grid(row = 1,column = 0,sticky=\"w\")\r\n",
      "        self.pwEntry = Entry(self)\r\n",
      "        self.pwEntry.grid(row = 1,column = 1,sticky=\"e\")\r\n",
      "\r\n",
      "        self.enterButton = Button(self,text = \"登录\",command = self.reg)\r\n",
      "        self.enterButton.grid(row = 2,column = 1,sticky = \"e\")\r\n",
      "\r\n",
      "        self.logLabel = Label(self, text='')\r\n",
      "        self.logLabel.grid(row = 3)\r\n",
      "\r\n",
      "    def reg(self):\r\n",
      "        s1 = self.userEntry.get()\r\n",
      "        s2 = self.pwEntry.get()\r\n",
      "        if s1 == \"www.google.com\" and s2 == \"www.bing.com\":\r\n",
      "            self.logLabel[\"text\"]=\"登录成功\"\r\n",
      "        else:\r\n",
      "            self.logLabel[\"text\"]=\"用户名或密码错误\"\r\n",
      "            self.userEntry.delete(0,len(s1))\r\n",
      "            self.pwEntry.delete(0,len(s1))\r\n",
      "\r\n",
      "if __name__ ==\"__main__\":\r\n",
      "    app = Application()\r\n",
      "    # 设置窗口标题:\r\n",
      "    app.master.title('登录界面')\r\n",
      "    #窗口大小位置\r\n",
      "    #app.master.geometry(\"600x400+100+400\")#长x宽+x+y\r\n",
      "    # 主消息循环:\r\n",
      "    app.mainloop()\r\n"
     ]
    }
   ],
   "source": [
    "!cat entry.py"
   ]
  },
  {
   "cell_type": "code",
   "execution_count": 5,
   "metadata": {
    "collapsed": false
   },
   "outputs": [],
   "source": [
    "!python3 entry.py"
   ]
  },
  {
   "cell_type": "markdown",
   "metadata": {},
   "source": [
    ">单选按钮 Radiobutton\n",
    "\n",
    "一般是几个里面选一个用\n",
    "\n",
    "直接看代码:\n",
    "\n"
   ]
  },
  {
   "cell_type": "code",
   "execution_count": 6,
   "metadata": {
    "collapsed": false
   },
   "outputs": [
    {
     "name": "stdout",
     "output_type": "stream",
     "text": [
      "from tkinter import Frame,Label,Button,Radiobutton\r\n",
      "\r\n",
      "class Application(Frame):\r\n",
      "    def __init__(self, master=None):\r\n",
      "        Frame.__init__(self, master)\r\n",
      "        #窗口大小位置\r\n",
      "        self.master.geometry(\"600x400+100+400\")#长x宽+x+y\r\n",
      "        self.pack()\r\n",
      "        self.createWidgets()\r\n",
      "    def createWidgets(self):\r\n",
      "        self.helloLabel = Label(self, text='Hello, world!\\n')\r\n",
      "        self.helloLabel.pack()\r\n",
      "\r\n",
      "        self.c1 = Radiobutton(self,text = \"1\",command = lambda : self.helloLabel.config(\r\n",
      "                                                                text = \"1被选中了奇数次\\n\") )\r\n",
      "        self.c1.pack()\r\n",
      "        self.c2 = Radiobutton(self,text = \"2\",command = lambda : self.helloLabel.config(\r\n",
      "                                                                text = \"2被选中了奇数次\\n\") )\r\n",
      "        self.c2.pack()\r\n",
      "        self.quitButton = Button(self, text='Quit',fg=\"red\", command=self.quit)\r\n",
      "        self.quitButton.pack()\r\n",
      "\r\n",
      "if __name__ ==\"__main__\":\r\n",
      "    app = Application()\r\n",
      "    # 设置窗口标题:\r\n",
      "    app.master.title('Hello World')\r\n",
      "\r\n",
      "    app.master.geometry(\"600x400+100+400\")#长x宽+x+y\r\n",
      "    # 主消息循环:\r\n",
      "    app.mainloop()\r\n"
     ]
    }
   ],
   "source": [
    "!cat radiobutton.py\n"
   ]
  },
  {
   "cell_type": "code",
   "execution_count": 7,
   "metadata": {
    "collapsed": true
   },
   "outputs": [],
   "source": [
    "!python3 radiobutton.py"
   ]
  },
  {
   "cell_type": "markdown",
   "metadata": {},
   "source": [
    ">复选框 Checkbutton \n",
    "\n",
    "复选框通常是用来选择信息的时候的一种选择,它前面 有个小正方形的方块,如果选中则有一个对号,也可以再 次点击以取消该对号来取消选中。\n",
    "\n",
    "看个例子\n",
    "\n"
   ]
  },
  {
   "cell_type": "code",
   "execution_count": 8,
   "metadata": {
    "collapsed": false
   },
   "outputs": [
    {
     "name": "stdout",
     "output_type": "stream",
     "text": [
      "from tkinter import Frame,Label,Button,Checkbutton\r\n",
      "\r\n",
      "class Application(Frame):\r\n",
      "    def __init__(self, master=None):\r\n",
      "        Frame.__init__(self, master)\r\n",
      "        #窗口大小位置\r\n",
      "        self.master.geometry(\"600x400+100+400\")#长x宽+x+y\r\n",
      "        self.pack()\r\n",
      "        self.createWidgets()\r\n",
      "    def createWidgets(self):\r\n",
      "        self.helloLabel = Label(self, text='Hello, world!\\n')\r\n",
      "        self.helloLabel.pack()\r\n",
      "\r\n",
      "        self.c1 = Checkbutton(self,text = \"1\",command = lambda : self.helloLabel.config(text = self.helloLabel[\"text\"]+\"1被选中了奇数次\\n\") )\r\n",
      "        self.c1.pack()\r\n",
      "        self.c2 = Checkbutton(self,text = \"2\",command = lambda : self.helloLabel.config(text = self.helloLabel[\"text\"]+\"2被选中了奇数次\\n\") )\r\n",
      "        self.c2.pack()\r\n",
      "        self.quitButton = Button(self, text='Quit',fg=\"red\", command=self.quit)\r\n",
      "        self.quitButton.pack()\r\n",
      "\r\n",
      "if __name__ ==\"__main__\":\r\n",
      "    app = Application()\r\n",
      "    # 设置窗口标题:\r\n",
      "    app.master.title('Hello World')\r\n",
      "\r\n",
      "    app.master.geometry(\"600x400+100+400\")#长x宽+x+y\r\n",
      "    # 主消息循环:\r\n",
      "    app.mainloop()\r\n"
     ]
    }
   ],
   "source": [
    "!cat checkbutton.py"
   ]
  },
  {
   "cell_type": "code",
   "execution_count": 9,
   "metadata": {
    "collapsed": false
   },
   "outputs": [],
   "source": [
    "!python3 checkbutton.py"
   ]
  },
  {
   "cell_type": "markdown",
   "metadata": {},
   "source": [
    ">文本域 Text\n",
    "\n",
    "也就是用来存放字符串的大空间\n",
    "\n",
    "基本的定义也就是宽度width和高度height了\n"
   ]
  },
  {
   "cell_type": "code",
   "execution_count": 22,
   "metadata": {
    "collapsed": false
   },
   "outputs": [
    {
     "name": "stdout",
     "output_type": "stream",
     "text": [
      "from tkinter import *\r\n",
      "\r\n",
      "root = Tk()\r\n",
      "\r\n",
      "text = Text(root)\r\n",
      "text.pack()\r\n",
      "\r\n",
      "# INSERT 索引表示插入光标当前的位置\r\n",
      "text.insert(INSERT, \"I love \")\r\n",
      "text.insert(END, \"FishC.com!\")\r\n",
      "\r\n",
      "mainloop()\r\n"
     ]
    }
   ],
   "source": [
    "!cat text.py"
   ]
  },
  {
   "cell_type": "code",
   "execution_count": 15,
   "metadata": {
    "collapsed": true
   },
   "outputs": [],
   "source": [
    "!python3 text.py"
   ]
  },
  {
   "cell_type": "markdown",
   "metadata": {},
   "source": [
    "> 画布 Canvas\n",
    "\n",
    "和html5中的画布一样,tk中的画布也是用来绘图的,直接看代码吧:\n",
    "\n"
   ]
  },
  {
   "cell_type": "code",
   "execution_count": 11,
   "metadata": {
    "collapsed": false
   },
   "outputs": [
    {
     "name": "stdout",
     "output_type": "stream",
     "text": [
      "from tkinter import Frame,Canvas\r\n",
      "\r\n",
      "class Application(Frame):\r\n",
      "    def __init__(self, master=None):\r\n",
      "        Frame.__init__(self, master)\r\n",
      "        self.pack()\r\n",
      "        self.createWidgets()\r\n",
      "\r\n",
      "    def createWidgets(self):\r\n",
      "        self.can = Canvas(self,width = 400,height=300,bg = \"#233333\")\r\n",
      "        self.can.create_line((0,0),(200,200),width = 8)\r\n",
      "        self.can.create_text(300,30,text = \"一个画板\")\r\n",
      "        self.can.pack()\r\n",
      "if __name__ ==\"__main__\":\r\n",
      "    app = Application()\r\n",
      "    # 设置窗口标题:\r\n",
      "    app.master.title('Hello World')\r\n",
      "    # 主消息循环:\r\n",
      "    app.mainloop()\r\n"
     ]
    }
   ],
   "source": [
    "!cat canvas.py"
   ]
  },
  {
   "cell_type": "code",
   "execution_count": 12,
   "metadata": {
    "collapsed": true
   },
   "outputs": [],
   "source": [
    "!python3 canvas.py"
   ]
  },
  {
   "cell_type": "markdown",
   "metadata": {},
   "source": [
    "> 多窗口 Toplevel"
   ]
  },
  {
   "cell_type": "code",
   "execution_count": 13,
   "metadata": {
    "collapsed": false
   },
   "outputs": [
    {
     "name": "stdout",
     "output_type": "stream",
     "text": [
      "from tkinter import Frame,Label,Button,Toplevel\r\n",
      "\r\n",
      "class Application(Frame):\r\n",
      "    def __init__(self, master=None):\r\n",
      "        Frame.__init__(self, master)\r\n",
      "        #窗口大小位置\r\n",
      "        self.pack()\r\n",
      "        self.createWidgets()\r\n",
      "\r\n",
      "    def createWidgets(self):\r\n",
      "        self.helloLabel = Label(self, text='Hello, world1!')\r\n",
      "\r\n",
      "        self.helloLabel.pack()\r\n",
      "class App2(Toplevel):\r\n",
      "    def __init__(self, master=None):\r\n",
      "        Toplevel.__init__(self, master)\r\n",
      "        self.createWidgets()\r\n",
      "\r\n",
      "    def createWidgets(self):\r\n",
      "        self.helloLabel = Label(self, text='Hello, world2!')\r\n",
      "        self.helloLabel.pack()\r\n",
      "\r\n",
      "if __name__ ==\"__main__\":\r\n",
      "    app1 = Application()\r\n",
      "    # 设置窗口标题:\r\n",
      "    app1.master.title('Hello World1')\r\n",
      "    app1.master.geometry(\"600x400+100+400\")#长x宽+x+y\r\n",
      "    # 主消息循环:\r\n",
      "    app2 = App2()\r\n",
      "    app2.title(\"helloword2\")\r\n",
      "    app1.mainloop()\r\n"
     ]
    }
   ],
   "source": [
    "!cat toplevel.py"
   ]
  },
  {
   "cell_type": "code",
   "execution_count": 14,
   "metadata": {
    "collapsed": true
   },
   "outputs": [],
   "source": [
    "!python3 toplevel.py"
   ]
  },
  {
   "cell_type": "markdown",
   "metadata": {},
   "source": [
    ">菜单 Menu\n",
    "\n",
    "Menu 和其他的组件一样,第一个是 parent,这里通常可以为窗口。\n",
    "\n",
    "然后我们可以用 add_commmand 方法来为它添加菜单项, 如果该菜单是顶层菜单,则添加的菜单项依次向右添加。 如果该菜单时顶层菜单的一个菜单项,则它添加的是下拉菜单的菜单项。\n",
    "add_command 中的参数常用的有:\n",
    "\n",
    "+ label 属性,用来指定的是菜单项的名称\n",
    "+ command 属性用来指定被点击的时候调用的方法\n",
    "+ acceletor 属性指定的是快捷键 \n",
    "+ underline 属性 是是否拥有下划线。\n",
    "\n",
    "最后可以用窗口的 menu 属性指定我们使用哪一个作为它 的顶层菜单.\n",
    "\n",
    ">>子菜单\n",
    "\n",
    "如果有子菜单,我们需则需要使用 add_cascade\n",
    "\n",
    "cascade 可以理解为“级联”,即它 的作用只是为了引出后面的菜单。\n",
    "\n",
    "add_cascade属性:\n",
    "\n",
    "+ menu 属性,它指明了要把那个菜单级联到该菜单项上\n",
    "+ label 属性,用于指定该菜单项的名称。\n",
    "\n",
    "\n",
    ">>弹出菜单\n",
    "\n",
    "一般弹出菜单是右键点击后出现的菜单,tk中的弹出菜单比较原始的,具体思路是这样:\n",
    "\n",
    "+ 我们先新建一个菜单,\n",
    "+ 然后向菜单项中添加各种功能,\n",
    "+ 最后我们监听鼠标右键消息,如果是鼠标 右键被单击,\n",
    "+ 此时可以根据需要判断下鼠标位置来确定是哪个弹出菜单被弹出,\n",
    "+ 然后使用 Menu 类的 pop 方法来弹出 菜单。\n",
    "\n",
    "Menu 类里面有一个post方法,它接收两个参数,即 x 和 y 坐标,它会在相应的位置弹出菜单。\n",
    "\n",
    ">> 插入分割线\n",
    "\n",
    "    .add_separator()\n",
    "    \n",
    ">> 插入单选菜单和复选菜单\n",
    "\n",
    "单选菜单:\n",
    "\n",
    "    .add_radiobutton() \n",
    "    \n",
    "复选菜单:\n",
    "    \n",
    "    .add_checkbutton()\n",
    "\n",
    "例子: 一个菜单栏"
   ]
  },
  {
   "cell_type": "code",
   "execution_count": 15,
   "metadata": {
    "collapsed": false
   },
   "outputs": [
    {
     "name": "stdout",
     "output_type": "stream",
     "text": [
      "from tkinter import Frame,Label,Button,Menu\r\n",
      "\r\n",
      "class Application(Frame):\r\n",
      "    def __init__(self, master=None,):\r\n",
      "        Frame.__init__(self, master)\r\n",
      "        #窗口大小位置\r\n",
      "        self.pack()\r\n",
      "        self.createWidgets()\r\n",
      "        self.creatMenu()\r\n",
      "\r\n",
      "\r\n",
      "    def creatMenu(self):\r\n",
      "        #主菜单\r\n",
      "        menubar = Menu(self)\r\n",
      "        #子菜单\r\n",
      "        menufile = Menu(menubar)\r\n",
      "        for item in [\"新建\",\"打开\",\"保存\",\"另存为\"]:\r\n",
      "            menufile.add_radiobutton(label = item)\r\n",
      "        menuedit = Menu(menubar)\r\n",
      "        for item in [\"复制\",\"黏贴\",\"剪切\"]:\r\n",
      "            menuedit.add_checkbutton(label = item)\r\n",
      "        #子菜单与主菜单关联\r\n",
      "        for name,submenu in zip([\"文件\",\"编辑\"],[menufile,menuedit]):\r\n",
      "            menubar.add_cascade(label=name,menu=submenu)\r\n",
      "        #最关键的一步,主菜单与app关联\r\n",
      "        self.master.config(menu=menubar)\r\n",
      "        #右键菜单\r\n",
      "        menu = Menu(self.master)\r\n",
      "        for i in ('One', 'Two', 'Three'):\r\n",
      "            menu.add_command(label=i)\r\n",
      "        #插入分割线\r\n",
      "        menu.add_separator()\r\n",
      "\r\n",
      "        for i in ('1', '2', '3'):\r\n",
      "            menu.add_command(label=i)\r\n",
      "        #绑定鼠标右键呼出\r\n",
      "        if (self.master.tk.call('tk', 'windowingsystem')=='aqua'):\r\n",
      "            self.master.bind('<2>', lambda e: menu.post(e.x_root, e.y_root))\r\n",
      "            self.master.bind('<Control-1>', lambda e: menu.post(e.x_root, e.y_root))\r\n",
      "        else:\r\n",
      "            self.master.bind('<3>', lambda e: menu.post(e.x_root, e.y_root))\r\n",
      "\r\n",
      "\r\n",
      "\r\n",
      "    def createWidgets(self):\r\n",
      "        self.helloLabel = Label(self, text='Hello, world!')\r\n",
      "        self.helloLabel[\"background\"] =\"green\"\r\n",
      "        self.helloLabel.pack()\r\n",
      "        self.quitButton = Button(self, text='Quit',fg=\"red\", command=self.quit)\r\n",
      "        self.quitButton.pack()\r\n",
      "\r\n",
      "\r\n",
      "\r\n",
      "\r\n",
      "if __name__ ==\"__main__\":\r\n",
      "    app = Application()\r\n",
      "    # 设置窗口标题:\r\n",
      "    app.master.title('Hello World')\r\n",
      "    #app.master.geometry(\"600x400+100+400\")#长x宽+x+y\r\n",
      "    # 主消息循环:\r\n",
      "    app.mainloop()\r\n"
     ]
    }
   ],
   "source": [
    "!cat menu.py"
   ]
  },
  {
   "cell_type": "code",
   "execution_count": 16,
   "metadata": {
    "collapsed": false,
    "scrolled": false
   },
   "outputs": [],
   "source": [
    "!python3 menu.py"
   ]
  },
  {
   "cell_type": "markdown",
   "metadata": {},
   "source": [
    ">对话框 Dialog 和消息盒子 messagebox\n",
    "\n",
    ">>对话框\n",
    "\n",
    "对话框就是那个点击以后跳出来的框框,让你选几个选项,选完给程序一个返回值,一般用来做问卷调查呀啥的,我们拿原来登录界面做做修改,把账号密码错误提示弄成对话框"
   ]
  },
  {
   "cell_type": "code",
   "execution_count": 17,
   "metadata": {
    "collapsed": false
   },
   "outputs": [
    {
     "name": "stdout",
     "output_type": "stream",
     "text": [
      "from tkinter import Frame,Label,Button,Entry\r\n",
      "\r\n",
      "from tkinter.dialog import Dialog,DIALOG_ICON\r\n",
      "\r\n",
      "class Application(Frame):\r\n",
      "    def __init__(self, master=None):\r\n",
      "        Frame.__init__(self, master)\r\n",
      "        self.pack()\r\n",
      "        self.createWidgets()\r\n",
      "\r\n",
      "    def createWidgets(self):\r\n",
      "        self.userLabel = Label(self, text='用户名:')\r\n",
      "        self.userLabel.grid(row = 0,column = 0,sticky=\"w\")\r\n",
      "        self.userEntry = Entry(self)\r\n",
      "        self.userEntry.grid(row = 0,column = 1,sticky=\"e\")\r\n",
      "        self.pwLabel = Label(self, text='密码:')\r\n",
      "        self.pwLabel.grid(row = 1,column = 0,sticky=\"w\")\r\n",
      "        self.pwEntry = Entry(self)\r\n",
      "        self.pwEntry.grid(row = 1,column = 1,sticky=\"e\")\r\n",
      "\r\n",
      "        self.enterButton = Button(self,text = \"登录\",command = self.reg)\r\n",
      "        self.enterButton.grid(row = 2,column = 1,sticky = \"e\")\r\n",
      "\r\n",
      "        self.logLabel = Label(self, text='')\r\n",
      "        self.logLabel.grid(row = 3)\r\n",
      "\r\n",
      "    def reg(self):\r\n",
      "        s1 = self.userEntry.get()\r\n",
      "        s2 = self.pwEntry.get()\r\n",
      "        if s1 == \"www.google.com\" and s2 == \"www.bing.com\":\r\n",
      "            self.logLabel[\"text\"]=\"登录成功\"\r\n",
      "        else:\r\n",
      "            self.logLabel[\"text\"]=\"用户名或密码错误\"\r\n",
      "            self.userEntry.delete(0,len(s1))\r\n",
      "            self.pwEntry.delete(0,len(s1))\r\n",
      "            d = Dialog(None,title = \"错误信息\",text = \"用户名或密码错误\",\r\n",
      "                bitmap = DIALOG_ICON,default=0,strings = (\"重来\",\"放弃\"))\r\n",
      "\r\n",
      "if __name__ ==\"__main__\":\r\n",
      "    app = Application()\r\n",
      "    # 设置窗口标题:\r\n",
      "    app.master.title('登录界面')\r\n",
      "    #窗口大小位置\r\n",
      "    #app.master.geometry(\"600x400+100+400\")#长x宽+x+y\r\n",
      "    # 主消息循环:\r\n",
      "    app.mainloop()\r\n"
     ]
    }
   ],
   "source": [
    "!cat dialog.py"
   ]
  },
  {
   "cell_type": "code",
   "execution_count": 18,
   "metadata": {
    "collapsed": false
   },
   "outputs": [],
   "source": [
    "!python3 dialog.py"
   ]
  },
  {
   "cell_type": "markdown",
   "metadata": {},
   "source": [
    ">>消息盒子\n",
    "\n",
    "消息盒子就是提示错误的那种弹窗,同样的还拿那个改"
   ]
  },
  {
   "cell_type": "code",
   "execution_count": 19,
   "metadata": {
    "collapsed": false
   },
   "outputs": [
    {
     "name": "stdout",
     "output_type": "stream",
     "text": [
      "from tkinter import Frame,Label,Button,Entry\r\n",
      "\r\n",
      "from tkinter.messagebox import showinfo\r\n",
      "\r\n",
      "class Application(Frame):\r\n",
      "    def __init__(self, master=None):\r\n",
      "        Frame.__init__(self, master)\r\n",
      "        self.pack()\r\n",
      "        self.createWidgets()\r\n",
      "\r\n",
      "    def createWidgets(self):\r\n",
      "        self.userLabel = Label(self, text='用户名:')\r\n",
      "        self.userLabel.grid(row = 0,column = 0,sticky=\"w\")\r\n",
      "        self.userEntry = Entry(self)\r\n",
      "        self.userEntry.grid(row = 0,column = 1,sticky=\"e\")\r\n",
      "        self.pwLabel = Label(self, text='密码:')\r\n",
      "        self.pwLabel.grid(row = 1,column = 0,sticky=\"w\")\r\n",
      "        self.pwEntry = Entry(self)\r\n",
      "        self.pwEntry.grid(row = 1,column = 1,sticky=\"e\")\r\n",
      "\r\n",
      "        self.enterButton = Button(self,text = \"登录\",command = self.reg)\r\n",
      "        self.enterButton.grid(row = 2,column = 1,sticky = \"e\")\r\n",
      "\r\n",
      "        self.logLabel = Label(self, text='')\r\n",
      "        self.logLabel.grid(row = 3)\r\n",
      "\r\n",
      "    def reg(self):\r\n",
      "        s1 = self.userEntry.get()\r\n",
      "        s2 = self.pwEntry.get()\r\n",
      "        if s1 == \"www.google.com\" and s2 == \"www.bing.com\":\r\n",
      "            self.logLabel[\"text\"]=\"登录成功\"\r\n",
      "        else:\r\n",
      "            self.logLabel[\"text\"]=\"用户名或密码错误\"\r\n",
      "            self.userEntry.delete(0,len(s1))\r\n",
      "            self.pwEntry.delete(0,len(s1))\r\n",
      "            showinfo(title = \"错误\",message=\"用户名或密码错误\")\r\n",
      "\r\n",
      "if __name__ ==\"__main__\":\r\n",
      "    app = Application()\r\n",
      "    # 设置窗口标题:\r\n",
      "    app.master.title('登录界面')\r\n",
      "    #窗口大小位置\r\n",
      "    #app.master.geometry(\"600x400+100+400\")#长x宽+x+y\r\n",
      "    # 主消息循环:\r\n",
      "    app.mainloop()\r\n"
     ]
    }
   ],
   "source": [
    "!cat messagebox.py"
   ]
  },
  {
   "cell_type": "code",
   "execution_count": 20,
   "metadata": {
    "collapsed": true
   },
   "outputs": [],
   "source": [
    "!python3 messagebox.py"
   ]
  },
  {
   "cell_type": "markdown",
   "metadata": {},
   "source": [
    "## 大小和位置\n",
    "\n",
    "对于窗口,大小可以通过geometry函数来控制\n",
    "\n",
    "    'width x height + xoffset + yoffset'"
   ]
  },
  {
   "cell_type": "markdown",
   "metadata": {},
   "source": [
    "## 控件布局\n",
    "\n",
    "有3种方式可以为控件布局:\n",
    "\n",
    "+ pack()\n",
    "+ grid()\n",
    "+ place()\n",
    "\n",
    ">pack()\n",
    "pack()默认会一个一个从上往下堆叠,但同样也可以接受几个参数\n",
    "\n",
    "+ side (left,top,right,bottom)\n",
    "+ fill ( X,Y,BOTH 和 NONE)水平方向填充,竖直方向填充,水平和竖直方向填充和不填充。\n",
    "+ expand 参数可以是 YES 和 NO\n",
    "+ anchor (n, ne, e, se, s, sw, w, nw, or center)NESW 表示上右下左以及他们的组合或者是 CENTER(表示中 间)。\n",
    "+ ipadx 表示的是内边距的 x 方向\n",
    "+ ipady 表示 的是内边距的 y 方向\n",
    "+ padx 表示的是外边距的 x 方向\n",
    "+ pady 表示的是外边距的 y 方向。"
   ]
  },
  {
   "cell_type": "code",
   "execution_count": 21,
   "metadata": {
    "collapsed": false
   },
   "outputs": [
    {
     "name": "stdout",
     "output_type": "stream",
     "text": [
      "from tkinter import Frame,Label,Button\r\n",
      "class Application(Frame):\r\n",
      "    def __init__(self, master=None):\r\n",
      "        Frame.__init__(self, master)\r\n",
      "        self.pack()\r\n",
      "        self.createWidgets()\r\n",
      "\r\n",
      "    def createWidgets(self):\r\n",
      "        self.LabelL = Label(self, text='左边')\r\n",
      "        self.LabelL.pack(side=\"left\")\r\n",
      "        self.LabelR = Label(self, text='右边')\r\n",
      "        self.LabelR.pack(side=\"right\")\r\n",
      "        self.LabelT = Label(self, text='顶')\r\n",
      "        self.LabelT.pack(side=\"top\")\r\n",
      "        self.LabelB = Label(self, text='底')\r\n",
      "        self.LabelB.pack(side=\"bottom\")\r\n",
      "\r\n",
      "        self.LabelN = Label(self, text='N')\r\n",
      "        self.LabelN.pack(anchor=\"n\")\r\n",
      "        self.LabelE = Label(self, text='E')\r\n",
      "        self.LabelE.pack(anchor=\"e\")\r\n",
      "        self.LabelS = Label(self, text='S')\r\n",
      "        self.LabelS.pack(anchor=\"s\")\r\n",
      "        self.LabelW= Label(self, text='W')\r\n",
      "        self.LabelW.pack(anchor=\"w\")\r\n",
      "        self.LabelCENTER= Label(self, text='CENTER')\r\n",
      "        self.LabelCENTER.pack(anchor=\"center\")\r\n",
      "\r\n",
      "\r\n",
      "        self.quitButton = Button(self, text='Quit',background=\"red\", command=self.quit)\r\n",
      "        self.quitButton.pack(side=\"bottom\")\r\n",
      "\r\n",
      "if __name__ ==\"__main__\":\r\n",
      "    app = Application()\r\n",
      "    # 设置窗口标题:\r\n",
      "    app.master.title('pack布局测试')\r\n",
      "    #窗口大小位置\r\n",
      "    #app.master.geometry(\"600x400+100+400\")#长x宽+x+y\r\n",
      "    # 主消息循环:\r\n",
      "    app.mainloop()\r\n"
     ]
    }
   ],
   "source": [
    "!cat pack.py"
   ]
  },
  {
   "cell_type": "code",
   "execution_count": 22,
   "metadata": {
    "collapsed": false
   },
   "outputs": [],
   "source": [
    "!python3 pack.py"
   ]
  },
  {
   "cell_type": "markdown",
   "metadata": {},
   "source": [
    "> grid() 最常用布局\n",
    "\n",
    "grid()里的参数:\n",
    "\n",
    "+ row 表示行(从0开始)\n",
    "+ column 表示列(从0开始)\n",
    "+ sticky  (N,E,S,W) 表 示上右下左,它决定了这个组件是从哪个方向开始的\n",
    "+ ipadx,ipady,padx,pady,它们 的意思和 pack 函数是一样的,默认边距是 0。\n",
    "+ rowspan 表示跨越的行数 columnspan 表示跨越的列数。"
   ]
  },
  {
   "cell_type": "code",
   "execution_count": 23,
   "metadata": {
    "collapsed": false
   },
   "outputs": [
    {
     "name": "stdout",
     "output_type": "stream",
     "text": [
      "from tkinter import Frame,Label,Button\r\n",
      "class Application(Frame):\r\n",
      "    def __init__(self, master=None):\r\n",
      "        Frame.__init__(self, master)\r\n",
      "        self.pack()\r\n",
      "        self.createWidgets()\r\n",
      "\r\n",
      "    def createWidgets(self):\r\n",
      "        self.Label00 = Label(self, text='00')\r\n",
      "        self.Label00.grid(row=0,column=0)\r\n",
      "        self.Label10 = Label(self, text='10')\r\n",
      "        self.Label10.grid(row=1,column=0)\r\n",
      "        self.Label11 = Label(self, text='11')\r\n",
      "        self.Label11.grid(row=1,column=1)\r\n",
      "        self.Label30 = Label(self, text='30')\r\n",
      "        self.Label30.grid(row=3,column=0)\r\n",
      "\r\n",
      "\r\n",
      "        self.quitButton = Button(self, text='Quit',background=\"red\", command=self.quit)\r\n",
      "        self.quitButton.grid(row=2,column=2)\r\n",
      "\r\n",
      "if __name__ ==\"__main__\":\r\n",
      "    app = Application()\r\n",
      "    # 设置窗口标题:\r\n",
      "    app.master.title('pack布局测试')\r\n",
      "    #窗口大小位置\r\n",
      "    #app.master.geometry(\"600x400+100+400\")#长x宽+x+y\r\n",
      "    # 主消息循环:\r\n",
      "    app.mainloop()\r\n"
     ]
    }
   ],
   "source": [
    "!cat grid.py"
   ]
  },
  {
   "cell_type": "code",
   "execution_count": 24,
   "metadata": {
    "collapsed": true
   },
   "outputs": [],
   "source": [
    "!python3 grid.py"
   ]
  },
  {
   "cell_type": "markdown",
   "metadata": {},
   "source": [
    "> place() 最好不要用....不优雅"
   ]
  },
  {
   "cell_type": "markdown",
   "metadata": {},
   "source": [
    "## 事件\n",
    "\n",
    "> 事件绑定和解绑 bind() unbind()\n",
    ">>绑定bind()\n",
    "\n",
    "bind 函数的调用规则: \n",
    "\n",
    "    窗体对象.bind(事件类型,回调函数)\n",
    "\n",
    "事件类型:\n",
    "\n",
    "事件类型是一组字符串,它采用的描述方式是这 样的:\n",
    "\n",
    "    <MODIFIER-MODIFIER-TYPE-DETAIL>\n",
    "    \n",
    "+ MODIFIER 即修饰符,它的全部取值如下:\n",
    "\n",
    "Control|Mod1, M1, Command\n",
    "---|---\n",
    "Alt|Mod2, M2, Option\n",
    "Shift|Mod3, M3\n",
    "Lock|Mod4, M4\n",
    "Extended|Mod5, M5\n",
    "Button1, B1|Meta, M\n",
    "Button2, B2|Double\n",
    "Button3, B3|Triple\n",
    "Button4, B4|Quadruple\n",
    "Button5, B5|---\n",
    "\n",
    "\n",
    "\n",
    "+ TYPE 表示类型,它的全部取值如下:\n",
    "\n",
    "Activate|Destroy|Map\n",
    "---|---|---\n",
    "ButtonPress, Button|Enter|MapRequest\n",
    "ButtonRelease|Expose|Motion\n",
    "Circulate|FocusIn|MouseWheel\n",
    "CirculateRequest|FocusOut|Property\n",
    "Colormap|Gravity|Reparent\n",
    "Configure|KeyPress, Key|ResizeRequest\n",
    "ConfigureRequest|KeyRelease|Unmap\n",
    "Create|Leave|Visibility\n",
    "Deactivate|---|---\n",
    "\n",
    "\n",
    "\n",
    "+ DETAIL 表示细节,其实也就是对第二个参数的一些辅助说明。\n",
    "    \n",
    "常用事件类型:\n",
    "\n",
    "+ `<Button-1>` 表示鼠标左键单击,其中的 1 换成 3 表示右 键被单击,为 2 的时候表示鼠标中键\n",
    "+ `<KeyPress-A>` 表示 A 键被按下,其中的 A 可以换成其他的键位。\n",
    "+ `<Control-V>` 表示按下的是 Ctrl 和 V 键,V 可以换成其他 键位。\n",
    "+ `<F1>`表示按下的是 F1 键,对于 Fn 系列的,都可以随便 换。\n",
    "\n",
    "更加具体的可以看<http://www.tcl.tk/man/tcl8.5/TkCmd/bind.htm#M23>\n",
    "\n",
    "bind()可以绑定所有继承自Misc类的组件,也就是说即便是标签也可以绑定动作.\n",
    "\n",
    "bind()有两个扩展\n",
    "\n",
    "\n",
    "+ 窗体对象.bind_all(事件类型,回调函数)全程序级别绑定事件\n",
    "\n",
    "+ 窗体对象.bind_class(类名,事件类型,回调函数)类级别绑定事件,比如所有标签这样\n",
    "\n",
    ">> 解绑 unbind()\n",
    "\n",
    "窗体对象.unbind(事件类型)"
   ]
  },
  {
   "cell_type": "markdown",
   "metadata": {},
   "source": [
    "## ttk\n",
    "\n",
    "ttk是tk的扩展,主要是美化和新增了几个控件\n",
    "\n",
    "还是看例子:\n"
   ]
  },
  {
   "cell_type": "code",
   "execution_count": 25,
   "metadata": {
    "collapsed": false
   },
   "outputs": [
    {
     "name": "stdout",
     "output_type": "stream",
     "text": [
      "#from tkinter import *\r\n",
      "from tkinter.ttk import *\r\n",
      "\r\n",
      "class Application(Frame):\r\n",
      "    def __init__(self, master=None):\r\n",
      "        Frame.__init__(self, master)\r\n",
      "        #窗口大小位置\r\n",
      "        self.master.geometry(\"600x400+100+400\")#长x宽+x+y\r\n",
      "        self.pack()\r\n",
      "        self.createWidgets()\r\n",
      "\r\n",
      "    def createWidgets(self):\r\n",
      "        self.helloLabel = Label(self, text='Hello, world!')\r\n",
      "\r\n",
      "        self.helloLabel.pack()\r\n",
      "        self.quitButton = Button(self, text='Quit', command=self.quit)\r\n",
      "        self.quitButton.pack()\r\n",
      "\r\n",
      "if __name__ ==\"__main__\":\r\n",
      "    app = Application()\r\n",
      "    # 设置窗口标题:\r\n",
      "    app.master.title('Hello World')\r\n",
      "\r\n",
      "    app.master.geometry(\"600x400+100+400\")#长x宽+x+y\r\n",
      "    # 主消息循环:\r\n",
      "    app.mainloop()\r\n"
     ]
    }
   ],
   "source": [
    "!cat ttk.py"
   ]
  },
  {
   "cell_type": "code",
   "execution_count": 26,
   "metadata": {
    "collapsed": false
   },
   "outputs": [],
   "source": [
    "!python3 ttk.py"
   ]
  },
  {
   "cell_type": "markdown",
   "metadata": {
    "collapsed": true
   },
   "source": [
    "## gui 界的 helloworld, 一个记事本"
   ]
  },
  {
   "cell_type": "code",
   "execution_count": 27,
   "metadata": {
    "collapsed": true
   },
   "outputs": [],
   "source": [
    "!atom editer.py"
   ]
  },
  {
   "cell_type": "code",
   "execution_count": 32,
   "metadata": {
    "collapsed": false
   },
   "outputs": [],
   "source": [
    "!python3 editer.py"
   ]
  }
 ],
 "metadata": {
  "kernelspec": {
   "display_name": "Python 3",
   "language": "python",
   "name": "python3"
  },
  "language_info": {
   "codemirror_mode": {
    "name": "ipython",
    "version": 3
   },
   "file_extension": ".py",
   "mimetype": "text/x-python",
   "name": "python",
   "nbconvert_exporter": "python",
   "pygments_lexer": "ipython3",
   "version": "3.5.0"
  }
 },
 "nbformat": 4,
 "nbformat_minor": 0
}
