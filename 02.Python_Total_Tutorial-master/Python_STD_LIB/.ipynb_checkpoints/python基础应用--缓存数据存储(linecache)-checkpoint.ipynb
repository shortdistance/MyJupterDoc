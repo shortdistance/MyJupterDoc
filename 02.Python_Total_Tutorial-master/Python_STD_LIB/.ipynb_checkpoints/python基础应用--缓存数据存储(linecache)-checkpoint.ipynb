{
 "cells": [
  {
   "cell_type": "markdown",
   "metadata": {},
   "source": [
    "# python基础应用--缓存数据存储(linecache)\n",
    "\n",
    "在许多时候我们希望将一些数据存入缓存,而不是硬盘,以此来增加读取的速度,linecache作用就在于此,看名字就知道,行缓存,除了缓存外,还可以直接获取文件的行信息"
   ]
  },
  {
   "cell_type": "code",
   "execution_count": 1,
   "metadata": {
    "collapsed": true
   },
   "outputs": [],
   "source": [
    "import linecache"
   ]
  },
  {
   "cell_type": "markdown",
   "metadata": {},
   "source": [
    "# linecache模块函数讲解\n",
    "\n",
    "\n",
    "函数|说明\n",
    "---|---\n",
    " linecache.getline(filename, lineno[, module_globals]) |这个方法从filename也就是文件中读取内容，得到第 lineno行，注意没有去掉换行符，它将包含在行内。\n",
    "linecache.clearcache() |清除现有的文件缓存。\n",
    "linecache.checkcache([filename]) |参数是文件名，作用是检查缓存内容的有效性，可能硬盘内容发生了变化，更新了，如果不提供参数，将检查缓存中所有的项。"
   ]
  },
  {
   "cell_type": "markdown",
   "metadata": {},
   "source": [
    "## 使用\n",
    "\n",
    "主要就是用getlines方法将文件读入缓存,可以看到返回的是一组字符串的列表"
   ]
  },
  {
   "cell_type": "code",
   "execution_count": 2,
   "metadata": {
    "collapsed": false
   },
   "outputs": [
    {
     "data": {
      "text/plain": [
       "['# Python应用--包管理安装模块(setuptools,pip)\\n',\n",
       " '\\n',\n",
       " '包管理工具当然很重要,python在有pip之前都是下载到本地后使用setuptools来安装第三方模块的,\\n',\n",
       " '即便到了今天,这个依然是python包必用的工具.\\n',\n",
       " '\\n',\n",
       " '## 用setuptools编写dota2Apiv0.1.1版本的安装脚本\\n',\n",
       " '\\n',\n",
       " '从<https://github.com/hsz1273327/dota2api/tree/v0.1.1>下载代码\\n',\n",
       " '\\n',\n",
       " '    setup.py:\\n',\n",
       " '\\n',\n",
       " '    from distutils.core import setup\\n',\n",
       " '\\n',\n",
       " \"    with open('requirements.txt') as f:\\n\",\n",
       " '        required = f.read().splitlines()\\n',\n",
       " '    \"\"\"\\n',\n",
       " '    name--项目名\\n',\n",
       " '    version--版本\\n',\n",
       " '    author--作者\\n',\n",
       " '    author_email--作者email\\n',\n",
       " '    packages--要安装的包,一个列表,每个元素为包名字的字符串\\n',\n",
       " '    package_data--包数据,一个字典,元素为包名:数据所在文件夹及文件\\n',\n",
       " '    url--项目地址\\n',\n",
       " '    license--协议\\n',\n",
       " '    description--描述\\n',\n",
       " \"    long_description--open('readme.md').read(),文件\\n\",\n",
       " '    install_requires--依赖库\\n',\n",
       " '    scripts--可以直接执行的文件,一个元素为脚本地址的列表\\n',\n",
       " '    \"\"\"\\n',\n",
       " '    setup(\\n',\n",
       " \"    \\tname='dota2Api',\\n\",\n",
       " \"    \\tversion='0.1.2',\\n\",\n",
       " \"    \\tauthor='Huang Sizhe',\\n\",\n",
       " \"    \\tauthor_email='hsz1273327@gmail.com',\\n\",\n",
       " \"    \\tpackages=['dota2Api'],\\n\",\n",
       " '    \\tpackage_data={\"dota2Api\": [\"source/*.json\"]},\\n',\n",
       " \"    \\turl='https://github.com/hsz1273327/dota2api',\\n\",\n",
       " \"    \\tlicense='MIT',\\n\",\n",
       " \"    \\tdescription='a simple dota2 api-requests',\\n\",\n",
       " \"    \\tlong_description=open('README.txt').read(),\\n\",\n",
       " '    \\tinstall_requires=required,\\n',\n",
       " '    \\t)\\n',\n",
       " '\\n',\n",
       " '安装只要\\n',\n",
       " '\\n',\n",
       " '    $python setup.py install\\n',\n",
       " '\\n',\n",
       " '# 将包注册到pypi服务器\\n',\n",
       " '\\n',\n",
       " '1. 首先要有个pypi的账号,<https://pypi.python.org/pypi>可以选Register注册,注册的时候password必须大于16位,PGPkeyID可以不填.\\n',\n",
       " '表单提交好后登入邮箱验证即可注册完成.\\n',\n",
       " '\\n',\n",
       " '2. 注册包\\n',\n",
       " 'cd到 项目根目录\\n',\n",
       " '\\n',\n",
       " '    python setup.py register\\n',\n",
       " '\\n',\n",
       " '用刚才注册的信息来注册本台电脑\\n',\n",
       " '\\n',\n",
       " '直接这样会报错,因为和原来有个名字太接近了我们得换个名字\\n',\n",
       " '\\n',\n",
       " '    pip search dota2\\n',\n",
       " '\\n',\n",
       " '用来查看有哪些相关的包,我们得确定没有重名\\n',\n",
       " '\\n',\n",
       " '就决定改名叫`dota2analysis`,相应地修改readme,包名,test和setup.py\\n',\n",
       " '再次注册该包\\n',\n",
       " '\\n',\n",
       " '3. 然后就是上传\\n',\n",
       " '\\n',\n",
       " '    Python setup.py sdist upload\\n',\n",
       " '\\n',\n",
       " '4. 试试行不行\\n',\n",
       " '\\n',\n",
       " '    pip install dota2analysis\\n']"
      ]
     },
     "execution_count": 2,
     "metadata": {},
     "output_type": "execute_result"
    }
   ],
   "source": [
    "linecache.getlines(\"Python基础应用--包管理安装模块(setuptools).md\")"
   ]
  },
  {
   "cell_type": "markdown",
   "metadata": {},
   "source": [
    "日常编程中如果涉及读取大文件，一定要使用首选linecache模块，相比open()那种方法要快N倍."
   ]
  },
  {
   "cell_type": "code",
   "execution_count": null,
   "metadata": {
    "collapsed": true
   },
   "outputs": [],
   "source": []
  }
 ],
 "metadata": {
  "kernelspec": {
   "display_name": "Python 3",
   "language": "python",
   "name": "python3"
  },
  "language_info": {
   "codemirror_mode": {
    "name": "ipython",
    "version": 3
   },
   "file_extension": ".py",
   "mimetype": "text/x-python",
   "name": "python",
   "nbconvert_exporter": "python",
   "pygments_lexer": "ipython3",
   "version": "3.5.0"
  }
 },
 "nbformat": 4,
 "nbformat_minor": 0
}
