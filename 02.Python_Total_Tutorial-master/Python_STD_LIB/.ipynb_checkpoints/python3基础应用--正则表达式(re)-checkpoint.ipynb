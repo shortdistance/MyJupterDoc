{
 "cells": [
  {
   "cell_type": "markdown",
   "metadata": {},
   "source": [
    "# python3基础应用--正则表达式(re)\n",
    "\n",
    "正则表达式是一个用来匹配字符串的一个模式，最简单的正则表达式就是一个简单的字符串，比如'python'这个可以用来匹配'python'这个词语。你可以用正则表达式在一串字符中来匹配一个你要查找的内容，或者替换他，或者将其分割成不能的字符片段.\n",
    "\n",
    "正则表达式是很复杂的,记得还有人专门写书讲这个呢.这边当然不能全部讲透了,只能给出一些常用的,可以看[这篇](!http://deerchao.net/tutorials/regex/regex.htm)来仔细学习.\n",
    "\n",
    "注意正则式英语环境下的工具,要支持中文日语啥的还得知道对应编码\n"
   ]
  },
  {
   "cell_type": "code",
   "execution_count": 4,
   "metadata": {
    "collapsed": true
   },
   "outputs": [],
   "source": [
    "import re"
   ]
  },
  {
   "cell_type": "markdown",
   "metadata": {},
   "source": [
    "## python中使用正则表达式"
   ]
  },
  {
   "cell_type": "markdown",
   "metadata": {},
   "source": [
    "+ compile(pattern[, flags])\n",
    "\n",
    "用来将一个字符串编译成一个pattern对象。它来进行计算的话将会有更高的效率，如果你想对一个正则表达式进行search或者match操作最好先将它转换为一个pattern对象pattern对象中包含search和match的方法re.search(pat, string)与pat.(string)是等价的，pattern对象也能用在普通的正则表达式函数中。\n"
   ]
  },
  {
   "cell_type": "markdown",
   "metadata": {},
   "source": [
    "+ search(pattern, string[, flag])\n",
    "\n",
    "如果存在的话search函数可以找到string中的第一个pattern的子串，返回一个MatchObject(值为True），没有找到的话则返回None（值为false),所以可以这样写：\n",
    "\n",
    "    if re.search(pat, string):\n",
    "         print 'Found it!'\n"
   ]
  },
  {
   "cell_type": "markdown",
   "metadata": {},
   "source": [
    "+ match(pattern, string[, flag])\n",
    "\n",
    "match用来匹配在字符串的开头处的模式，如果你要匹配整个字符串的话，可以在模式串的末尾加上一个'$'\n"
   ]
  },
  {
   "cell_type": "markdown",
   "metadata": {},
   "source": [
    "+ split(pattern, string[, maxsplit=0])\n",
    "\n",
    "这个可以利用pattern的出现来进行切割，类似于split方法，但是，这个是使用正则表达式，下面是一个例子 \n"
   ]
  },
  {
   "cell_type": "code",
   "execution_count": 5,
   "metadata": {
    "collapsed": false
   },
   "outputs": [
    {
     "data": {
      "text/plain": [
       "['alpha', 'beta', 'gamma']"
      ]
     },
     "execution_count": 5,
     "metadata": {},
     "output_type": "execute_result"
    }
   ],
   "source": [
    "some_text = 'alpha, beta,,,,gamma' \n",
    "re.split(r'[, ]+', some_text) "
   ]
  },
  {
   "cell_type": "markdown",
   "metadata": {},
   "source": [
    "如果模式里面包含了括号，那么被括号扩起来的部分将留在被分割的字符之间。\n",
    "maxsplit参数用来表示最大的被允许的分割次数。"
   ]
  },
  {
   "cell_type": "markdown",
   "metadata": {},
   "source": [
    "+ findall(pattern, string)\n",
    "\n",
    "findall用来返回一个字符串的list，里面包含了所有的匹配的字符串。\n"
   ]
  },
  {
   "cell_type": "markdown",
   "metadata": {},
   "source": [
    "+ sub(pat, repl, string[, count=0])\n",
    "\n",
    "sub用来替换字符串中最左边的n个符合匹配规则的模式串。\n",
    "\n",
    "\n",
    "\n",
    "\n"
   ]
  },
  {
   "cell_type": "code",
   "execution_count": 12,
   "metadata": {
    "collapsed": false
   },
   "outputs": [
    {
     "data": {
      "text/plain": [
       "'Dear Mr. Hao'"
      ]
     },
     "execution_count": 12,
     "metadata": {},
     "output_type": "execute_result"
    }
   ],
   "source": [
    "pat = '{name}'  \n",
    "text = 'Dear {name}'  \n",
    "re.sub(pat, 'Mr. Hao', text)  "
   ]
  },
  {
   "cell_type": "markdown",
   "metadata": {},
   "source": [
    "+ escape(string)\n",
    "\n",
    "看下面的例子就知道了\n",
    "\n",
    "\n"
   ]
  },
  {
   "cell_type": "code",
   "execution_count": 9,
   "metadata": {
    "collapsed": false
   },
   "outputs": [
    {
     "data": {
      "text/plain": [
       "'www\\\\.python\\\\.org'"
      ]
     },
     "execution_count": 9,
     "metadata": {},
     "output_type": "execute_result"
    }
   ],
   "source": [
    "re.escape('www.python.org')  \n",
    "\n"
   ]
  },
  {
   "cell_type": "code",
   "execution_count": 15,
   "metadata": {
    "collapsed": false
   },
   "outputs": [
    {
     "data": {
      "text/plain": [
       "'How\\\\ are\\\\ you\\\\?\\\\ Fine\\\\,\\\\ thank\\\\ you\\\\ and\\\\ you\\\\?'"
      ]
     },
     "execution_count": 15,
     "metadata": {},
     "output_type": "execute_result"
    }
   ],
   "source": [
    "re.escape('How are you? Fine, thank you and you?')  "
   ]
  },
  {
   "cell_type": "code",
   "execution_count": null,
   "metadata": {
    "collapsed": true
   },
   "outputs": [],
   "source": []
  }
 ],
 "metadata": {
  "kernelspec": {
   "display_name": "Python 3",
   "language": "python",
   "name": "python3"
  },
  "language_info": {
   "codemirror_mode": {
    "name": "ipython",
    "version": 3
   },
   "file_extension": ".py",
   "mimetype": "text/x-python",
   "name": "python",
   "nbconvert_exporter": "python",
   "pygments_lexer": "ipython3",
   "version": "3.5.0"
  }
 },
 "nbformat": 4,
 "nbformat_minor": 0
}
