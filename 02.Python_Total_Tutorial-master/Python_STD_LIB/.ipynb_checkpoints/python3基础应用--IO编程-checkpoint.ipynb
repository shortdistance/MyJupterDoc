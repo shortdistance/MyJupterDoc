{
 "cells": [
  {
   "cell_type": "markdown",
   "metadata": {},
   "source": [
    "# python3基础应用--IO编程\n",
    "\n",
    "IO编程就是处理文件.文件操作基本上可以看做有读操作和写操作\n",
    "\n",
    "python的打开一个文件用命令`open`,无论读还是写都必须先打开,操作完之后也必须要用`close()`将其关闭,但现在用`with ... as`语句,可以不要再写`close()`了\n",
    "\n",
    "    with open(path, 'rwb', encoding='gbk', errors='ignore') as f:\n",
    "        XXXX\n",
    "\n",
    "## 读:\n",
    "\n"
   ]
  },
  {
   "cell_type": "markdown",
   "metadata": {},
   "source": [
    "> `readline`一行一行读,返回一个生成器,一次读取一行"
   ]
  },
  {
   "cell_type": "code",
   "execution_count": 1,
   "metadata": {
    "collapsed": false
   },
   "outputs": [
    {
     "name": "stdout",
     "output_type": "stream",
     "text": [
      "# Apache Spark\n",
      "\n",
      "\n",
      "\n",
      "Spark is a fast and general cluster computing system for Big Data. It provides\n",
      "\n"
     ]
    }
   ],
   "source": [
    "# 读文本文件\n",
    "with open('source/README.md', 'r') as f:\n",
    "    print(f.readline())\n",
    "    print(f.readline())\n",
    "    print(f.readline())"
   ]
  },
  {
   "cell_type": "markdown",
   "metadata": {},
   "source": [
    "> `readlines`一行一行读,返回整个列表,列表中每一个元素是一行"
   ]
  },
  {
   "cell_type": "code",
   "execution_count": 2,
   "metadata": {
    "collapsed": false
   },
   "outputs": [
    {
     "name": "stdout",
     "output_type": "stream",
     "text": [
      "['# Apache Spark\\n', '\\n', 'Spark is a fast and general cluster computing system for Big Data. It provides\\n', 'high-level APIs in Scala, Java, and Python, and an optimized engine that\\n', 'supports general computation graphs for data analysis. It also supports a\\n']\n"
     ]
    }
   ],
   "source": [
    "with open('source/README.md', 'r') as f:\n",
    "    print(f.readlines()[:5])"
   ]
  },
  {
   "cell_type": "markdown",
   "metadata": {},
   "source": [
    "> 直接读取生成字符串"
   ]
  },
  {
   "cell_type": "code",
   "execution_count": 3,
   "metadata": {
    "collapsed": false
   },
   "outputs": [
    {
     "name": "stdout",
     "output_type": "stream",
     "text": [
      "# Apa\n"
     ]
    }
   ],
   "source": [
    "with open('source/README.md', 'r') as f:\n",
    "    print(f.read()[:5])"
   ]
  },
  {
   "cell_type": "markdown",
   "metadata": {},
   "source": [
    ">读取图片等2进制数据,后面的参数中加入`b`"
   ]
  },
  {
   "cell_type": "code",
   "execution_count": 4,
   "metadata": {
    "collapsed": false
   },
   "outputs": [
    {
     "name": "stdout",
     "output_type": "stream",
     "text": [
      "b'\\xff\\xd8\\xff\\xe0\\x00\\x10JFIF\\x00\\x01\\x01\\x00\\x00\\x01\\x00\\x01\\x00\\x00'\n"
     ]
    }
   ],
   "source": [
    "with open('source/LBQ.jpg', 'rb') as f:\n",
    "    print(f.read()[:20])"
   ]
  },
  {
   "cell_type": "markdown",
   "metadata": {},
   "source": [
    "## 写:\n"
   ]
  },
  {
   "cell_type": "code",
   "execution_count": 5,
   "metadata": {
    "collapsed": true
   },
   "outputs": [],
   "source": [
    "string = \"\"\"我是一只小鸭子咿呀咿呀呦\n",
    "是一只小鸭子咿呀咿呀呦\n",
    "一只小鸭子咿呀咿呀呦\n",
    "只小鸭子咿呀咿呀呦\n",
    "小鸭子咿呀咿呀呦\n",
    "鸭子咿呀咿呀呦\n",
    "子咿呀咿呀呦\n",
    "咿呀咿呀呦\n",
    "呀咿呀呦\n",
    "咿呀呦\n",
    "呀呦\n",
    "呦\n",
    "这是回声\n",
    "\"\"\"\n",
    "with open('source/newbee.txt', 'w') as f:\n",
    "    f.write(string)"
   ]
  },
  {
   "cell_type": "markdown",
   "metadata": {},
   "source": [
    "## 内存读写 StringIO和BytesIO\n",
    "\n",
    "\n",
    "很多时候，数据读写不一定是文件，也可以在内存中读写。\n",
    "\n",
    "python3中提供了专门的IO库,我们可以利用它来实现内存读写\n",
    "\n",
    "StringIO顾名思义就是在内存中读写str。而BytesIO也就是在内存中读写二进制数据了"
   ]
  },
  {
   "cell_type": "code",
   "execution_count": 6,
   "metadata": {
    "collapsed": true
   },
   "outputs": [],
   "source": [
    "from io import StringIO,BytesIO"
   ]
  },
  {
   "cell_type": "markdown",
   "metadata": {},
   "source": [
    "### 写"
   ]
  },
  {
   "cell_type": "code",
   "execution_count": 7,
   "metadata": {
    "collapsed": false
   },
   "outputs": [
    {
     "data": {
      "text/plain": [
       "5"
      ]
     },
     "execution_count": 7,
     "metadata": {},
     "output_type": "execute_result"
    }
   ],
   "source": [
    "f = StringIO()\n",
    "f.write('hello')"
   ]
  },
  {
   "cell_type": "code",
   "execution_count": 8,
   "metadata": {
    "collapsed": false
   },
   "outputs": [
    {
     "data": {
      "text/plain": [
       "1"
      ]
     },
     "execution_count": 8,
     "metadata": {},
     "output_type": "execute_result"
    }
   ],
   "source": [
    "f.write(' ')"
   ]
  },
  {
   "cell_type": "code",
   "execution_count": 9,
   "metadata": {
    "collapsed": false
   },
   "outputs": [
    {
     "data": {
      "text/plain": [
       "6"
      ]
     },
     "execution_count": 9,
     "metadata": {},
     "output_type": "execute_result"
    }
   ],
   "source": [
    "f.write('world!')"
   ]
  },
  {
   "cell_type": "code",
   "execution_count": 10,
   "metadata": {
    "collapsed": false
   },
   "outputs": [
    {
     "name": "stdout",
     "output_type": "stream",
     "text": [
      "hello world!\n"
     ]
    }
   ],
   "source": [
    "print(f.getvalue())"
   ]
  },
  {
   "cell_type": "code",
   "execution_count": 11,
   "metadata": {
    "collapsed": false
   },
   "outputs": [
    {
     "name": "stdout",
     "output_type": "stream",
     "text": [
      "b'\\xe4\\xb8\\xad\\xe6\\x96\\x87'\n"
     ]
    }
   ],
   "source": [
    "f = BytesIO()\n",
    "f.write('中文'.encode('utf-8'))\n",
    "print(f.getvalue())"
   ]
  },
  {
   "cell_type": "markdown",
   "metadata": {},
   "source": [
    "### 读"
   ]
  },
  {
   "cell_type": "code",
   "execution_count": 12,
   "metadata": {
    "collapsed": false
   },
   "outputs": [
    {
     "data": {
      "text/plain": [
       "'Hello!\\nHi!\\nGoodbye!'"
      ]
     },
     "execution_count": 12,
     "metadata": {},
     "output_type": "execute_result"
    }
   ],
   "source": [
    "f = StringIO('Hello!\\nHi!\\nGoodbye!')\n",
    "f.read()"
   ]
  },
  {
   "cell_type": "code",
   "execution_count": 13,
   "metadata": {
    "collapsed": false
   },
   "outputs": [
    {
     "data": {
      "text/plain": [
       "b'\\xe4\\xb8\\xad\\xe6\\x96\\x87'"
      ]
     },
     "execution_count": 13,
     "metadata": {},
     "output_type": "execute_result"
    }
   ],
   "source": [
    "f = BytesIO(b'\\xe4\\xb8\\xad\\xe6\\x96\\x87')\n",
    "f.read()"
   ]
  },
  {
   "cell_type": "markdown",
   "metadata": {},
   "source": [
    "## 文件及文件夹操作\n",
    "\n",
    "python提供了`os`模块来操作操作系统的文件系统"
   ]
  },
  {
   "cell_type": "code",
   "execution_count": 14,
   "metadata": {
    "collapsed": true
   },
   "outputs": [],
   "source": [
    "import os"
   ]
  },
  {
   "cell_type": "markdown",
   "metadata": {},
   "source": [
    "### 系统信息"
   ]
  },
  {
   "cell_type": "code",
   "execution_count": 15,
   "metadata": {
    "collapsed": false
   },
   "outputs": [
    {
     "data": {
      "text/plain": [
       "'posix'"
      ]
     },
     "execution_count": 15,
     "metadata": {},
     "output_type": "execute_result"
    }
   ],
   "source": [
    "os.name # 操作系统类型"
   ]
  },
  {
   "cell_type": "markdown",
   "metadata": {},
   "source": [
    "如果是posix，说明系统是Linux、Unix或Mac OS X，如果是nt，就是Windows系统。"
   ]
  },
  {
   "cell_type": "code",
   "execution_count": 16,
   "metadata": {
    "collapsed": false
   },
   "outputs": [
    {
     "data": {
      "text/plain": [
       "posix.uname_result(sysname='Darwin', nodename='hszMba.local', release='14.5.0', version='Darwin Kernel Version 14.5.0: Wed Jul 29 02:26:53 PDT 2015; root:xnu-2782.40.9~1/RELEASE_X86_64', machine='x86_64')"
      ]
     },
     "execution_count": 16,
     "metadata": {},
     "output_type": "execute_result"
    }
   ],
   "source": [
    "os.uname()"
   ]
  },
  {
   "cell_type": "markdown",
   "metadata": {},
   "source": [
    "### 环境变量"
   ]
  },
  {
   "cell_type": "code",
   "execution_count": 17,
   "metadata": {
    "collapsed": false
   },
   "outputs": [
    {
     "data": {
      "text/plain": [
       "environ({'SHLVL': '1', 'CLICOLOR': '1', 'LUA_PATH': '/Users/huangsizhe/.luarocks/share/lua/5.1/?.lua;/Users/huangsizhe/.luarocks/share/lua/5.1/?/init.lua;/Users/huangsizhe/torch/install/share/lua/5.1/?.lua;/Users/huangsizhe/torch/install/share/lua/5.1/?/init.lua;./?.lua;/Users/huangsizhe/torch/install/share/luajit-2.1.0-alpha/?.lua;/usr/local/share/lua/5.1/?.lua;/usr/local/share/lua/5.1/?/init.lua', 'SSH_AUTH_SOCK': '/private/tmp/com.apple.launchd.sjU1LTVbmR/Listeners', 'TERM': 'xterm-color', 'CATALINA_BASE': '/Users/huangsizhe/workspace/Framework/tomcat/apache-tomcat-8.0.26', 'JAVA_HOME': '/Library/Java/JavaVirtualMachines/jdk1.8.0_51.jdk/Contents/Home', 'GOPATH': '/Users/huangsizhe/workspace/STUDY/LANGUAGE/go/mygo:/Users/huangsizhe/workspace/STUDY/LANGUAGE/go/mygo01', 'XPC_FLAGS': '0x0', '__CF_USER_TEXT_ENCODING': '0x1F5:0x19:0x34', 'PAGER': 'cat', 'LANG': 'zh_CN.UTF-8', 'DISPLAY': '/private/tmp/com.apple.launchd.2A3Hd8hnPt/org.macosforge.xquartz:0', 'USER': 'huangsizhe', 'CLASSPATH': ':/Users/huangsizhe/workspace/Framework/tomcat/apache-tomcat-8.0.26/common/lib/jsp-api.jar', 'JPY_PARENT_PID': '533', 'TMPDIR': '/var/folders/8z/vx2qsp9d7bs5wxkvm2t44xfr0000gn/T/', 'TERM_PROGRAM_VERSION': '343.7', 'SHELL': '/bin/bash', 'LOGNAME': 'huangsizhe', 'GIT_PAGER': 'cat', 'TERM_PROGRAM': 'Apple_Terminal', 'APACHE_SPARK_VERSION': '1.4.1', '_': '/usr/local/bin/jupyter', 'LD_LIBRARY_PATH': '/Users/huangsizhe/torch/install/lib:', 'Apple_PubSub_Socket_Render': '/private/tmp/com.apple.launchd.1lLuNbFxbq/Render', 'PS1': '\\\\[\\\\033[01;32m\\\\]\\\\u@\\\\h\\\\[\\\\033[00m\\\\]:\\\\[\\\\033[01;36m\\\\]\\\\w\\\\[\\\\033[00m\\\\]\\\\$ ', 'PWD': '/Users/huangsizhe', 'LUA_CPATH': '/Users/huangsizhe/.luarocks/lib/lua/5.1/?.so;/Users/huangsizhe/torch/install/lib/lua/5.1/?.so;./?.so;/usr/local/lib/lua/5.1/?.so;/usr/local/lib/lua/5.1/loadall.so', '__PYVENV_LAUNCHER__': '/usr/local/Cellar/python3/3.5.0/bin/python3.5', 'HOME': '/Users/huangsizhe', 'CATALINA_HOME': '/Users/huangsizhe/workspace/Framework/tomcat/apache-tomcat-8.0.26', 'LSCOLORS': 'gxfxcxdxbxegedabagacad', 'XPC_SERVICE_NAME': '0', 'ANDROID_HOME': '/usr/local/opt/android-sdk', 'TERM_SESSION_ID': 'CE37796D-5338-4667-947B-129E17750481', 'DYLD_LIBRARY_PATH': '/Users/huangsizhe/torch/install/lib:', 'PATH': '/Users/huangsizhe/torch/install/bin:/Users/huangsizhe/workspace/Framework/tomcat/apache-tomcat-8.0.26/bin:/Users/huangsizhe/workspace/Framework/tomcat/apache-tomcat-8.0.26/lib:/Users/huangsizhe/workspace/STUDY/LANGUAGE/go/mygo/bin:/Users/huangsizhe/workspace/STUDY/LANGUAGE/go/mygo01/bin:/Users/huangsizhe/node_modules/.bin:/usr/local/bin:/usr/bin:/bin:/usr/sbin:/sbin:/opt/X11/bin'})"
      ]
     },
     "execution_count": 17,
     "metadata": {},
     "output_type": "execute_result"
    }
   ],
   "source": [
    "os.environ"
   ]
  },
  {
   "cell_type": "code",
   "execution_count": 18,
   "metadata": {
    "collapsed": false
   },
   "outputs": [
    {
     "data": {
      "text/plain": [
       "'/Library/Java/JavaVirtualMachines/jdk1.8.0_51.jdk/Contents/Home'"
      ]
     },
     "execution_count": 18,
     "metadata": {},
     "output_type": "execute_result"
    }
   ],
   "source": [
    "os.environ.get('JAVA_HOME')"
   ]
  },
  {
   "cell_type": "markdown",
   "metadata": {},
   "source": [
    "### 操作文件和文件夹"
   ]
  },
  {
   "cell_type": "code",
   "execution_count": 19,
   "metadata": {
    "collapsed": false
   },
   "outputs": [
    {
     "data": {
      "text/plain": [
       "'/Users/huangsizhe/workspace/STUDY/LANGUAGE/Python/ipython3/由浅入深/Python3基础应用'"
      ]
     },
     "execution_count": 19,
     "metadata": {},
     "output_type": "execute_result"
    }
   ],
   "source": [
    "# 查看当前目录的绝对路径:\n",
    "os.path.abspath('.')"
   ]
  },
  {
   "cell_type": "code",
   "execution_count": 20,
   "metadata": {
    "collapsed": false
   },
   "outputs": [
    {
     "data": {
      "text/plain": [
       "'/Users/huangsizhe/workspace/STUDY/LANGUAGE/Python/ipython3/由浅入深/Python3基础应用'"
      ]
     },
     "execution_count": 20,
     "metadata": {},
     "output_type": "execute_result"
    }
   ],
   "source": [
    "os.getcwd()"
   ]
  },
  {
   "cell_type": "code",
   "execution_count": 21,
   "metadata": {
    "collapsed": false
   },
   "outputs": [],
   "source": [
    "# 在某个目录下创建一个新目录，首先把新目录的完整路径表示出来:\n",
    "Path = os.path.join(os.path.abspath('.'), 'testdir')\n",
    "#合并路径用join可以避免不同平台符号不同的问题"
   ]
  },
  {
   "cell_type": "code",
   "execution_count": 22,
   "metadata": {
    "collapsed": false
   },
   "outputs": [
    {
     "data": {
      "text/plain": [
       "('/Users/huangsizhe/workspace/STUDY/LANGUAGE/Python/ipython3/由浅入深/Python3基础应用/python3基础应用--IO编程',\n",
       " '.ipynb')"
      ]
     },
     "execution_count": 22,
     "metadata": {},
     "output_type": "execute_result"
    }
   ],
   "source": [
    "#拆分文件扩展名\n",
    "os.path.splitext(\n",
    "    '/Users/huangsizhe/workspace/STUDY/LANGUAGE/Python/ipython3/由浅入深/Python3基础应用/python3基础应用--IO编程.ipynb')"
   ]
  },
  {
   "cell_type": "code",
   "execution_count": 23,
   "metadata": {
    "collapsed": false
   },
   "outputs": [],
   "source": [
    "#新建目录\n",
    "os.mkdir(Path)"
   ]
  },
  {
   "cell_type": "code",
   "execution_count": 24,
   "metadata": {
    "collapsed": false
   },
   "outputs": [],
   "source": [
    "# 删掉一个目录:\n",
    "os.rmdir(Path)"
   ]
  },
  {
   "cell_type": "code",
   "execution_count": 25,
   "metadata": {
    "collapsed": false
   },
   "outputs": [
    {
     "data": {
      "text/plain": [
       "'/Users/huangsizhe/workspace/STUDY/LANGUAGE/Python/ipython3/由浅入深/Python3基础应用'"
      ]
     },
     "execution_count": 25,
     "metadata": {},
     "output_type": "execute_result"
    }
   ],
   "source": [
    "#拆分目录\n",
    "Path,_ = os.path.split(Path)\n",
    "Path"
   ]
  },
  {
   "cell_type": "code",
   "execution_count": 26,
   "metadata": {
    "collapsed": false
   },
   "outputs": [
    {
     "data": {
      "text/plain": [
       "'/Users/huangsizhe/workspace/STUDY/LANGUAGE/Python/ipython3/由浅入深/Python3基础应用/source/tes.txt'"
      ]
     },
     "execution_count": 26,
     "metadata": {},
     "output_type": "execute_result"
    }
   ],
   "source": [
    "Path = os.path.join(Path,'source','tes.txt')\n",
    "Path"
   ]
  },
  {
   "cell_type": "code",
   "execution_count": 27,
   "metadata": {
    "collapsed": true
   },
   "outputs": [],
   "source": [
    "with open(Path,\"w\") as file:\n",
    "    file.write(\"qwert\")\n"
   ]
  },
  {
   "cell_type": "code",
   "execution_count": 28,
   "metadata": {
    "collapsed": false
   },
   "outputs": [
    {
     "name": "stdout",
     "output_type": "stream",
     "text": [
      "qwert\n"
     ]
    }
   ],
   "source": [
    "with open(Path,\"r\") as file:\n",
    "    print(file.read())"
   ]
  },
  {
   "cell_type": "code",
   "execution_count": 29,
   "metadata": {
    "collapsed": false
   },
   "outputs": [
    {
     "data": {
      "text/plain": [
       "['.DS_Store', 'LBQ.jpg', 'newbee.txt', 'README.md', 'tes.txt']"
      ]
     },
     "execution_count": 29,
     "metadata": {},
     "output_type": "execute_result"
    }
   ],
   "source": [
    "#查看有什么文件文件夹\n",
    "os.listdir('./source')"
   ]
  },
  {
   "cell_type": "code",
   "execution_count": 30,
   "metadata": {
    "collapsed": true
   },
   "outputs": [],
   "source": [
    "os.rename(Path, './source/test.txt')"
   ]
  },
  {
   "cell_type": "code",
   "execution_count": 31,
   "metadata": {
    "collapsed": false
   },
   "outputs": [
    {
     "data": {
      "text/plain": [
       "['.DS_Store', 'LBQ.jpg', 'newbee.txt', 'README.md', 'test.txt']"
      ]
     },
     "execution_count": 31,
     "metadata": {},
     "output_type": "execute_result"
    }
   ],
   "source": [
    "os.listdir('./source')"
   ]
  },
  {
   "cell_type": "code",
   "execution_count": 32,
   "metadata": {
    "collapsed": false
   },
   "outputs": [],
   "source": [
    "os.remove('./source/test.txt')"
   ]
  },
  {
   "cell_type": "code",
   "execution_count": 33,
   "metadata": {
    "collapsed": false
   },
   "outputs": [
    {
     "data": {
      "text/plain": [
       "['.DS_Store', 'LBQ.jpg', 'newbee.txt', 'README.md']"
      ]
     },
     "execution_count": 33,
     "metadata": {},
     "output_type": "execute_result"
    }
   ],
   "source": [
    "os.listdir('./source')"
   ]
  },
  {
   "cell_type": "code",
   "execution_count": 34,
   "metadata": {
    "collapsed": false
   },
   "outputs": [],
   "source": [
    "# 运行shell命令\n",
    "#os.system(\"atom\")"
   ]
  },
  {
   "cell_type": "code",
   "execution_count": 38,
   "metadata": {
    "collapsed": false
   },
   "outputs": [
    {
     "data": {
      "text/plain": [
       "False"
      ]
     },
     "execution_count": 38,
     "metadata": {},
     "output_type": "execute_result"
    }
   ],
   "source": [
    "#判断是不是文件\n",
    "os.path.isfile(os.getcwd())"
   ]
  },
  {
   "cell_type": "code",
   "execution_count": 37,
   "metadata": {
    "collapsed": false
   },
   "outputs": [
    {
     "data": {
      "text/plain": [
       "True"
      ]
     },
     "execution_count": 37,
     "metadata": {},
     "output_type": "execute_result"
    }
   ],
   "source": [
    "#判断是不是文件夹\n",
    "os.path.isdir(os.getcwd())"
   ]
  },
  {
   "cell_type": "code",
   "execution_count": 39,
   "metadata": {
    "collapsed": false
   },
   "outputs": [
    {
     "data": {
      "text/plain": [
       "True"
      ]
     },
     "execution_count": 39,
     "metadata": {},
     "output_type": "execute_result"
    }
   ],
   "source": [
    "#判断是否存在\n",
    "os.path.exists(os.getcwd())"
   ]
  },
  {
   "cell_type": "code",
   "execution_count": 41,
   "metadata": {
    "collapsed": false
   },
   "outputs": [
    {
     "data": {
      "text/plain": [
       "29248"
      ]
     },
     "execution_count": 41,
     "metadata": {},
     "output_type": "execute_result"
    }
   ],
   "source": [
    "#获取文件大小\n",
    "os.path.getsize(\"./source/LBQ.jpg\")"
   ]
  },
  {
   "cell_type": "code",
   "execution_count": 45,
   "metadata": {
    "collapsed": true
   },
   "outputs": [],
   "source": [
    "import time"
   ]
  },
  {
   "cell_type": "code",
   "execution_count": 46,
   "metadata": {
    "collapsed": false
   },
   "outputs": [
    {
     "data": {
      "text/plain": [
       "'Thu Sep 24 05:31:16 2015'"
      ]
     },
     "execution_count": 46,
     "metadata": {},
     "output_type": "execute_result"
    }
   ],
   "source": [
    "#获取文件的修改时间:\n",
    "\n",
    "time.ctime(os.path.getatime(\"./source/LBQ.jpg\"))"
   ]
  },
  {
   "cell_type": "code",
   "execution_count": 47,
   "metadata": {
    "collapsed": false
   },
   "outputs": [
    {
     "data": {
      "text/plain": [
       "'Wed Sep 23 15:02:49 2015'"
      ]
     },
     "execution_count": 47,
     "metadata": {},
     "output_type": "execute_result"
    }
   ],
   "source": [
    "#获取文件的创建时间:\n",
    "\n",
    "time.ctime(os.path.getctime(\"./source/LBQ.jpg\"))"
   ]
  }
 ],
 "metadata": {
  "kernelspec": {
   "display_name": "Python 3",
   "language": "python",
   "name": "python3"
  },
  "language_info": {
   "codemirror_mode": {
    "name": "ipython",
    "version": 3
   },
   "file_extension": ".py",
   "mimetype": "text/x-python",
   "name": "python",
   "nbconvert_exporter": "python",
   "pygments_lexer": "ipython3",
   "version": "3.5.0"
  }
 },
 "nbformat": 4,
 "nbformat_minor": 0
}
