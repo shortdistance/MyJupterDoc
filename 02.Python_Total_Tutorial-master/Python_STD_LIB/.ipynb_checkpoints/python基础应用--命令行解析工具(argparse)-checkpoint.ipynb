{
 "cells": [
  {
   "cell_type": "markdown",
   "metadata": {},
   "source": [
    "# python基础应用--命令行解析工具(argparse)\n",
    "\n",
    "计算机最基础的应用就是命令行工具了,用python写命令行工具可以使用argparse.它可以解析命令行参数,可以生成次级菜单等"
   ]
  },
  {
   "cell_type": "code",
   "execution_count": 1,
   "metadata": {
    "collapsed": true
   },
   "outputs": [],
   "source": [
    "import argparse"
   ]
  },
  {
   "cell_type": "markdown",
   "metadata": {},
   "source": [
    "## 基本命令\n",
    "\n",
    "argparse模块的命令可以归结为就3条\n",
    "\n",
    "+ `parser = argparse.ArgumentParser()`  创建命令行解析对象\n",
    "\n",
    "+ `parser.add_argument(name or flags...[, action][, nargs][, const][, default][, type][, choices][, required][, help][, metavar][, dest])` 增加命令行参数\n",
    "\n",
    "选项|说明\n",
    "---|---\n",
    "name or flags|命令行参数名或者选项，如上面的address或者-p,--port.其中命令行参数如果没给定，且没有设置defualt，则出错。但是如果是选项的话，则设置为None\n",
    "nargs|命令行参数的个数，一般使用通配符表示，其中，'?'表示只用一个，'*'表示0到多个，'+'表示至少一个\n",
    "default|默认值\n",
    "type|参数的类型，默认是字符串string类型，还有float、int等类型\n",
    "help|和ArgumentParser方法中的参数作用相似，出现的场合也一致\n",
    "\n",
    "\n",
    "+ `parser.parse_args()` 解析命令行参数\n",
    "\n"
   ]
  },
  {
   "cell_type": "markdown",
   "metadata": {},
   "source": [
    "## 一个简单的例子\n",
    "\n",
    "我们来写一个可以实现两位整型数相加的命令行工具,它有`--help(-h)`和`--version(-v)`两个参数信息\n",
    "\n",
    "代码如下:"
   ]
  },
  {
   "cell_type": "code",
   "execution_count": 7,
   "metadata": {
    "collapsed": false
   },
   "outputs": [
    {
     "name": "stdout",
     "output_type": "stream",
     "text": [
      "import argparse\r\n",
      "\r\n",
      "__version__=0.1\r\n",
      "\r\n",
      "def sumarg(args):\r\n",
      "    if args.sum:\r\n",
      "        print(sum([int(i) for i in args.sum]))\r\n",
      "\r\n",
      "def version(args):\r\n",
      "    if args.version :\r\n",
      "        print(\"version:\"+str(__version__))\r\n",
      "\r\n",
      "\r\n",
      "def argp():\r\n",
      "    parser = argparse.ArgumentParser()\r\n",
      "    parser.add_argument(\"--sum\", type=int,nargs='+', help=\"add the args \")\r\n",
      "    parser.add_argument(\"-v\",\"--version\", help=u\"get app's version\",action=\"store_true\")\r\n",
      "\r\n",
      "    args = parser.parse_args()\r\n",
      "    #if not args.sum:\r\n",
      "    #    print(\"usage: python sum.py --sum x1 x2 ...\" )\r\n",
      "\r\n",
      "    sumarg(args)\r\n",
      "    version(args)\r\n",
      "\r\n",
      "if __name__ == '__main__':\r\n",
      "    argp()\r\n"
     ]
    }
   ],
   "source": [
    "!cat sum.py"
   ]
  },
  {
   "cell_type": "code",
   "execution_count": 8,
   "metadata": {
    "collapsed": false
   },
   "outputs": [
    {
     "name": "stdout",
     "output_type": "stream",
     "text": [
      "usage: sum.py [-h] [--sum SUM [SUM ...]] [-v]\r\n",
      "\r\n",
      "optional arguments:\r\n",
      "  -h, --help           show this help message and exit\r\n",
      "  --sum SUM [SUM ...]  add the args\r\n",
      "  -v, --version        get app's version\r\n"
     ]
    }
   ],
   "source": [
    "!python3 sum.py -h"
   ]
  },
  {
   "cell_type": "code",
   "execution_count": 9,
   "metadata": {
    "collapsed": false
   },
   "outputs": [
    {
     "name": "stdout",
     "output_type": "stream",
     "text": [
      "version:0.1\r\n"
     ]
    }
   ],
   "source": [
    "!python3 sum.py -v"
   ]
  },
  {
   "cell_type": "code",
   "execution_count": 10,
   "metadata": {
    "collapsed": false
   },
   "outputs": [
    {
     "name": "stdout",
     "output_type": "stream",
     "text": [
      "7\r\n"
     ]
    }
   ],
   "source": [
    "!python3 sum.py --sum 1 2 4"
   ]
  },
  {
   "cell_type": "markdown",
   "metadata": {},
   "source": [
    "**说明**:\n",
    "\n",
    "1. type参数只是类型检验,传入的参数还是字符串\n",
    "\n",
    "2. 不需要写usage\n",
    "\n",
    "3. 有nargs参数的话获取的对应是一个list"
   ]
  }
 ],
 "metadata": {
  "kernelspec": {
   "display_name": "Python 3",
   "language": "python",
   "name": "python3"
  },
  "language_info": {
   "codemirror_mode": {
    "name": "ipython",
    "version": 3
   },
   "file_extension": ".py",
   "mimetype": "text/x-python",
   "name": "python",
   "nbconvert_exporter": "python",
   "pygments_lexer": "ipython3",
   "version": "3.5.0"
  }
 },
 "nbformat": 4,
 "nbformat_minor": 0
}
