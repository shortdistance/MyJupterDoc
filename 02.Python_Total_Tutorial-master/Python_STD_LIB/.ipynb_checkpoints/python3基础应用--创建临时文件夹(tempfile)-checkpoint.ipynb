{
 "cells": [
  {
   "cell_type": "markdown",
   "metadata": {},
   "source": [
    "# python3基础应用--创建临时文件夹(tempfile)\n",
    "\n",
    "\n",
    "tempfile模块，是为创建临时文件(夹)所提供的\n",
    "\n",
    "　\n",
    "如果你的应用程序需要一个临时文件来存储数据，但不需要同其他程序共享，那么tempfile模块来创建临时文件(夹)是个不错的选择\n",
    "\n",
    "其他的应用程序是无法找到或打开这个文件(夹),因为tempfile在创建的过程中没有引用文件系统表，用tempfile创建的临时文件(夹)，关闭\n",
    "\n",
    "后会自动删除。"
   ]
  },
  {
   "cell_type": "code",
   "execution_count": null,
   "metadata": {
    "collapsed": true
   },
   "outputs": [],
   "source": []
  }
 ],
 "metadata": {
  "kernelspec": {
   "display_name": "Python 3",
   "language": "python",
   "name": "python3"
  },
  "language_info": {
   "codemirror_mode": {
    "name": "ipython",
    "version": 3
   },
   "file_extension": ".py",
   "mimetype": "text/x-python",
   "name": "python",
   "nbconvert_exporter": "python",
   "pygments_lexer": "ipython3",
   "version": "3.5.0"
  }
 },
 "nbformat": 4,
 "nbformat_minor": 0
}
