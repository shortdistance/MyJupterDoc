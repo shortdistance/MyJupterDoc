{
 "cells": [
  {
   "cell_type": "markdown",
   "metadata": {},
   "source": [
    "# python3基础应用--系统,文件,文件夹操作(os,filecmp,difflib)"
   ]
  },
  {
   "cell_type": "code",
   "execution_count": 9,
   "metadata": {
    "collapsed": true
   },
   "outputs": [],
   "source": [
    "import os"
   ]
  },
  {
   "cell_type": "markdown",
   "metadata": {},
   "source": [
    "## 获取系统信息"
   ]
  },
  {
   "cell_type": "code",
   "execution_count": 4,
   "metadata": {
    "collapsed": false
   },
   "outputs": [
    {
     "data": {
      "text/plain": [
       "'posix'"
      ]
     },
     "execution_count": 4,
     "metadata": {},
     "output_type": "execute_result"
    }
   ],
   "source": [
    "os.name "
   ]
  },
  {
   "cell_type": "code",
   "execution_count": 5,
   "metadata": {
    "collapsed": false
   },
   "outputs": [
    {
     "data": {
      "text/plain": [
       "posix.uname_result(sysname='Darwin', nodename='hszmba', release='14.5.0', version='Darwin Kernel Version 14.5.0: Wed Jul 29 02:26:53 PDT 2015; root:xnu-2782.40.9~1/RELEASE_X86_64', machine='x86_64')"
      ]
     },
     "execution_count": 5,
     "metadata": {},
     "output_type": "execute_result"
    }
   ],
   "source": [
    "os.uname()"
   ]
  },
  {
   "cell_type": "markdown",
   "metadata": {},
   "source": [
    "## 环境变量"
   ]
  },
  {
   "cell_type": "code",
   "execution_count": 6,
   "metadata": {
    "collapsed": false
   },
   "outputs": [
    {
     "data": {
      "text/plain": [
       "environ({'TERM': 'xterm-color', 'JPY_PARENT_PID': '3018', 'LESS': '-R', 'SHLVL': '1', 'TERM_PROGRAM_VERSION': '343.7', 'DOTA2_API_KEY': '062C38E28D7C8ECC037047ABD4BE039B', 'LOGNAME': 'huangsizhe', 'LSCOLORS': 'Gxfxcxdxbxegedabagacad', 'USER': 'huangsizhe', '__CF_USER_TEXT_ENCODING': '0x1F5:0x19:0x34', 'TERM_PROGRAM': 'Apple_Terminal', 'LANG': 'zh_CN.UTF-8', 'ANDROID_HOME': '/Users/huangsizhe/Library/Android/sdk', 'AUTOJUMP_ERROR_PATH': '/Users/huangsizhe/Library/autojump/errors.log', '_': '/Users/huangsizhe/anaconda/bin/jupyter', 'CLICOLOR': '1', 'SHELL': '/bin/zsh', 'LC_CTYPE': 'zh_CN.UTF-8', 'AUTOJUMP_SOURCED': '1', 'CLING_EXE': '/usr/local/fromweb/cling-MacOSX-10.9/bin/cling', 'TMPDIR': '/var/folders/2g/vh7qp8xx7px1bplwvcn1fm_h0000gn/T/', 'XPC_FLAGS': '0x0', 'SSH_AUTH_SOCK': '/private/tmp/com.apple.launchd.EkLEAk0T0e/Listeners', 'HOME': '/Users/huangsizhe', 'SCALA_HOME': '/usr/local/Cellar/scala210/2.10.5', 'PAGER': 'cat', 'GIT_PAGER': 'cat', 'PATH': '/Users/huangsizhe/anaconda/bin:/usr/local/bin:/usr/bin:/bin:/usr/sbin:/sbin:/usr/local/opt/go/libexec/bin:/Users/huangsizhe/workspace/Framework/gopath/bin', 'PWD': '/Users/huangsizhe', 'TERM_SESSION_ID': '609EB5A4-FF27-40AB-BA81-36DBE632ADD7', 'Apple_PubSub_Socket_Render': '/private/tmp/com.apple.launchd.h7nAQ5qY0m/Render', '__PYVENV_LAUNCHER__': '/usr/local/Cellar/python3/3.5.0/bin/python3.5', 'ZSH': '/Users/huangsizhe/.oh-my-zsh', 'OLDPWD': '/Users/huangsizhe/workspace/PROJECT/dota2api', 'JAVA_HOME': '/Library/Java/JavaVirtualMachines/jdk1.8.0_60.jdk/Contents/Home', 'XPC_SERVICE_NAME': '0', 'GOPATH': '/Users/huangsizhe/workspace/Framework/gopath'})"
      ]
     },
     "execution_count": 6,
     "metadata": {},
     "output_type": "execute_result"
    }
   ],
   "source": [
    "os.environ"
   ]
  },
  {
   "cell_type": "code",
   "execution_count": 7,
   "metadata": {
    "collapsed": false
   },
   "outputs": [
    {
     "data": {
      "text/plain": [
       "'/Library/Java/JavaVirtualMachines/jdk1.8.0_60.jdk/Contents/Home'"
      ]
     },
     "execution_count": 7,
     "metadata": {},
     "output_type": "execute_result"
    }
   ],
   "source": [
    "os.environ.get('JAVA_HOME')"
   ]
  },
  {
   "cell_type": "markdown",
   "metadata": {},
   "source": [
    "## 调用系统工具或程序(os.system())\n",
    "\n"
   ]
  },
  {
   "cell_type": "code",
   "execution_count": 13,
   "metadata": {
    "collapsed": false
   },
   "outputs": [
    {
     "data": {
      "text/plain": [
       "0"
      ]
     },
     "execution_count": 13,
     "metadata": {},
     "output_type": "execute_result"
    }
   ],
   "source": [
    "os.system(\"atom\")#返回状态码"
   ]
  },
  {
   "cell_type": "code",
   "execution_count": 14,
   "metadata": {
    "collapsed": false
   },
   "outputs": [
    {
     "data": {
      "text/plain": [
       "<os._wrap_close at 0x104f934a8>"
      ]
     },
     "execution_count": 14,
     "metadata": {},
     "output_type": "execute_result"
    }
   ],
   "source": [
    "os.popen(\"atom\")#返回过程输出"
   ]
  },
  {
   "cell_type": "markdown",
   "metadata": {},
   "source": [
    "## 操作文件和文件夹\n",
    "\n",
    "操作|说明\n",
    "---|---\n",
    "os.path.abspath(相对路径)|获取绝对路径\n",
    "os.getcwd()|获取当前绝对路径\n",
    "os.walk(path)|遍历path目录下的所有文件并返回(python2中为os.path.walk)\n",
    "os.path.splitext(path)|拆分路径文件名和扩展名\n",
    "os.path.split(Path)|拆分路径和最近的一个文件夹\n",
    "os.join(path1,path2)|将路径和路径合并,可以避免不同平台符号不同的问题\n",
    "os.mkdir(path)|新建目录\n",
    "os.rmdir(path)|删除目录\n",
    "os.listdir(path)|查看有什么文件文件夹\n",
    "os.rename(path, name)|重命名\n",
    "os.remove(path)|删除文件\n",
    "os.path.isfile()|判断是不是文件\n",
    "os.path.isdir()|判断是不是文件夹\n",
    "os.path.exists()|判断是否存在这个路径\n",
    "os.path.getsize(path)|获取文件大小\n",
    "os.path.getatime(path)|获取文件修改时间\n",
    "os.path.getctime(path)|获取文件创建时间\n",
    "os.stat(path)|获取文件夹或文件信息\n"
   ]
  },
  {
   "cell_type": "code",
   "execution_count": 18,
   "metadata": {
    "collapsed": false
   },
   "outputs": [
    {
     "data": {
      "text/plain": [
       "'/Users/huangsizhe/workspace/Post_source/计算机编程/由浅入深学Python/Python标准库应用'"
      ]
     },
     "execution_count": 18,
     "metadata": {},
     "output_type": "execute_result"
    }
   ],
   "source": [
    "# 查看当前目录的绝对路径:\n",
    "os.path.abspath('.')"
   ]
  },
  {
   "cell_type": "code",
   "execution_count": 19,
   "metadata": {
    "collapsed": false
   },
   "outputs": [
    {
     "data": {
      "text/plain": [
       "'/Users/huangsizhe/workspace/Post_source/计算机编程/由浅入深学Python/Python标准库应用'"
      ]
     },
     "execution_count": 19,
     "metadata": {},
     "output_type": "execute_result"
    }
   ],
   "source": [
    "os.getcwd()"
   ]
  },
  {
   "cell_type": "code",
   "execution_count": 20,
   "metadata": {
    "collapsed": true
   },
   "outputs": [],
   "source": [
    "# 在某个目录下创建一个新目录，首先把新目录的完整路径表示出来:\n",
    "Path = os.path.join(os.path.abspath('.'), 'testdir')\n",
    "#合并路径用join可以避免不同平台符号不同的问题"
   ]
  },
  {
   "cell_type": "code",
   "execution_count": 21,
   "metadata": {
    "collapsed": false
   },
   "outputs": [
    {
     "data": {
      "text/plain": [
       "('/Users/huangsizhe/workspace/STUDY/LANGUAGE/Python/ipython3/由浅入深/Python3基础应用/python3基础应用--IO编程',\n",
       " '.ipynb')"
      ]
     },
     "execution_count": 21,
     "metadata": {},
     "output_type": "execute_result"
    }
   ],
   "source": [
    "#拆分文件扩展名\n",
    "os.path.splitext(\n",
    "    '/Users/huangsizhe/workspace/STUDY/LANGUAGE/Python/ipython3/由浅入深/Python3基础应用/python3基础应用--IO编程.ipynb')"
   ]
  },
  {
   "cell_type": "code",
   "execution_count": 22,
   "metadata": {
    "collapsed": true
   },
   "outputs": [],
   "source": [
    "#新建目录\n",
    "os.mkdir(Path)"
   ]
  },
  {
   "cell_type": "code",
   "execution_count": 23,
   "metadata": {
    "collapsed": true
   },
   "outputs": [],
   "source": [
    "# 删掉一个目录:\n",
    "os.rmdir(Path)"
   ]
  },
  {
   "cell_type": "code",
   "execution_count": 24,
   "metadata": {
    "collapsed": false
   },
   "outputs": [
    {
     "data": {
      "text/plain": [
       "'/Users/huangsizhe/workspace/Post_source/计算机编程/由浅入深学Python/Python标准库应用'"
      ]
     },
     "execution_count": 24,
     "metadata": {},
     "output_type": "execute_result"
    }
   ],
   "source": [
    "#拆分目录\n",
    "Path,_ = os.path.split(Path)\n",
    "Path"
   ]
  },
  {
   "cell_type": "code",
   "execution_count": 25,
   "metadata": {
    "collapsed": false
   },
   "outputs": [
    {
     "data": {
      "text/plain": [
       "'/Users/huangsizhe/workspace/Post_source/计算机编程/由浅入深学Python/Python标准库应用/source/README.md'"
      ]
     },
     "execution_count": 25,
     "metadata": {},
     "output_type": "execute_result"
    }
   ],
   "source": [
    "Path = os.path.join(Path,'source','README.md')\n",
    "Path"
   ]
  },
  {
   "cell_type": "code",
   "execution_count": 26,
   "metadata": {
    "collapsed": false
   },
   "outputs": [
    {
     "data": {
      "text/plain": [
       "['.DS_Store', 'LBQ.jpg', 'new.json', 'newbee.txt', 'README.md']"
      ]
     },
     "execution_count": 26,
     "metadata": {},
     "output_type": "execute_result"
    }
   ],
   "source": [
    "#查看有什么文件文件夹\n",
    "os.listdir('./source')"
   ]
  },
  {
   "cell_type": "code",
   "execution_count": 27,
   "metadata": {
    "collapsed": false
   },
   "outputs": [],
   "source": [
    "#重命名\n",
    "os.rename(Path, './source/readme.md')"
   ]
  },
  {
   "cell_type": "code",
   "execution_count": 28,
   "metadata": {
    "collapsed": true
   },
   "outputs": [],
   "source": [
    "#删除文件\n",
    "os.remove('./source/1.txt')"
   ]
  },
  {
   "cell_type": "code",
   "execution_count": 30,
   "metadata": {
    "collapsed": false
   },
   "outputs": [
    {
     "data": {
      "text/plain": [
       "[('/Users/huangsizhe/workspace/Post_source/计算机编程/由浅入深学Python/Python标准库应用',\n",
       "  ['.ipynb_checkpoints', 'source'],\n",
       "  ['.DS_Store',\n",
       "   'canvas.py',\n",
       "   'checkbutton.py',\n",
       "   'dialog.py',\n",
       "   'editer.py',\n",
       "   'entry.py',\n",
       "   'firstGUI.py',\n",
       "   'grid.py',\n",
       "   'menu.py',\n",
       "   'messagebox.py',\n",
       "   'newsh.data',\n",
       "   'pack.py',\n",
       "   'python3基础应用--GUI编程(Tk).ipynb',\n",
       "   'python3基础应用--IO编程.ipynb',\n",
       "   'python3基础应用--Json模块.ipynb',\n",
       "   'python3基础应用--创建临时文件夹(tempfile).ipynb',\n",
       "   'python3基础应用--数据库sqlite3.ipynb',\n",
       "   'Python基础应用--包管理安装模块(setuptools).md',\n",
       "   'python基础应用--多进程( multiprocessing,subprocess).ipynb',\n",
       "   'python基础应用--时间模块(time,datetime,timeit).ipynb',\n",
       "   'python基础应用--简单数据存储(shelve).ipynb',\n",
       "   'python基础应用--缓存数据存储(linecache).ipynb',\n",
       "   'radiobutton.py',\n",
       "   'text.py',\n",
       "   'toplevel.py',\n",
       "   'ttk.py',\n",
       "   'Untitled.ipynb']),\n",
       " ('/Users/huangsizhe/workspace/Post_source/计算机编程/由浅入深学Python/Python标准库应用/.ipynb_checkpoints',\n",
       "  [],\n",
       "  ['python3基础应用--GUI编程(Tk)-checkpoint.ipynb',\n",
       "   'python3基础应用--IO编程-checkpoint.ipynb',\n",
       "   'python3基础应用--Json模块-checkpoint.ipynb',\n",
       "   'python3基础应用--创建临时文件夹(tempfile)-checkpoint.ipynb',\n",
       "   'python3基础应用--单元测试(nose)-checkpoint.ipynb',\n",
       "   'python3基础应用--多线程-checkpoint.ipynb',\n",
       "   'python3基础应用--多进程-checkpoint.ipynb',\n",
       "   'python3基础应用--时间模块-checkpoint.ipynb',\n",
       "   'python基础应用--简单数据存储(shelve)-checkpoint.ipynb',\n",
       "   'python基础应用--缓存数据存储(linecache)-checkpoint.ipynb',\n",
       "   'Untitled-checkpoint.ipynb']),\n",
       " ('/Users/huangsizhe/workspace/Post_source/计算机编程/由浅入深学Python/Python标准库应用/source',\n",
       "  [],\n",
       "  ['.DS_Store', 'LBQ.jpg', 'new.json', 'newbee.txt', 'readme.md'])]"
      ]
     },
     "execution_count": 30,
     "metadata": {},
     "output_type": "execute_result"
    }
   ],
   "source": [
    "list(os.walk(os.getcwd()))"
   ]
  },
  {
   "cell_type": "code",
   "execution_count": 12,
   "metadata": {
    "collapsed": false,
    "scrolled": true
   },
   "outputs": [
    {
     "data": {
      "text/plain": [
       "os.stat_result(st_mode=16877, st_ino=958021, st_dev=16777220, st_nlink=31, st_uid=501, st_gid=20, st_size=1054, st_atime=1445261120, st_mtime=1445261363, st_ctime=1445261363)"
      ]
     },
     "execution_count": 12,
     "metadata": {},
     "output_type": "execute_result"
    }
   ],
   "source": [
    "os.stat(os.getcwd())"
   ]
  },
  {
   "cell_type": "markdown",
   "metadata": {},
   "source": [
    "## 文件文件夹比较(filecmp)\n",
    "\n",
    "+ filecmp.cmp(f1, f2[, shallow])\n",
    "\n",
    " 比较两个文件的内容是否匹配。参数f1, f2指定要比较的文件的路径。可选参数shallow指定比较文件时是否需要考虑文件本身的属性（通过os.stat函数可以获得文件属性）。如果文件内容匹配，函数返回True，否则返回False。\n",
    "\n",
    "+ filecmp.cmpfiles(dir1, dir2, common[, shallow])\n",
    "\n",
    "比较两个文件夹内指定文件是否相等。参数dir1, dir2指定要比较的文件夹，参数common指定要比较的文件名列表。函数返回包含3个list元素的元组，分别表示匹配、不匹配以及错误的文件列表。错误的文件指的是不存在的文件，或文件被琐定不可读，或没权限读文件，或者由于其他原因访问不了该文件。\n",
    "\n",
    "filecmp模块中定义了一个dircmp类，用于比较文件夹，通过该类比较两个文件夹，可以获取一些详细的比较结果（如只在A文件夹存在的文件列表），并支持子文件夹的递归比较。\n",
    "\n",
    "dircmp提供了三个方法用于报告比较的结果：\n",
    "\n",
    "report()：只比较指定文件夹中的内容（文件与文件夹）\n",
    "report_partial_closure()：比较文件夹及第一级子文件夹的内容\n",
    "report_full_closure()：递归比较所有的文件夹的内容"
   ]
  },
  {
   "cell_type": "code",
   "execution_count": 18,
   "metadata": {
    "collapsed": true
   },
   "outputs": [],
   "source": [
    "import filecmp"
   ]
  },
  {
   "cell_type": "code",
   "execution_count": 19,
   "metadata": {
    "collapsed": false
   },
   "outputs": [
    {
     "data": {
      "text/plain": [
       "False"
      ]
     },
     "execution_count": 19,
     "metadata": {},
     "output_type": "execute_result"
    }
   ],
   "source": [
    "filecmp.cmp(\"source/newbee.txt\",\"source/readme.md\")"
   ]
  },
  {
   "cell_type": "markdown",
   "metadata": {},
   "source": [
    "## 文件内容比较(difflib)"
   ]
  },
  {
   "cell_type": "code",
   "execution_count": 26,
   "metadata": {
    "collapsed": false
   },
   "outputs": [
    {
     "name": "stdout",
     "output_type": "stream",
     "text": [
      "\n",
      "\n",
      "- avi\n",
      "\n",
      "?   ^\n",
      "\n",
      "+ avg\n",
      "\n",
      "?   ^\n",
      "\n",
      "  sss\n",
      "\n",
      "+ asf\n",
      "- sdf\n",
      "\n",
      "- \n",
      "\n"
     ]
    }
   ],
   "source": [
    "import difflib \n",
    "with open('source/a.txt', 'r') as f:\n",
    "    print(f.read())\n",
    "    a = f.readlines()\n",
    "    \n",
    "    \n",
    "with open('source/b.txt', 'r') as f:\n",
    "    print(f.read())\n",
    "    b = f.readlines()\n",
    "    \n",
    "diff = difflib.ndiff(a, b)\n",
    "for i in diff:\n",
    "    print(i)"
   ]
  },
  {
   "cell_type": "code",
   "execution_count": null,
   "metadata": {
    "collapsed": true
   },
   "outputs": [],
   "source": []
  }
 ],
 "metadata": {
  "kernelspec": {
   "display_name": "Python 3",
   "language": "python",
   "name": "python3"
  },
  "language_info": {
   "codemirror_mode": {
    "name": "ipython",
    "version": 3
   },
   "file_extension": ".py",
   "mimetype": "text/x-python",
   "name": "python",
   "nbconvert_exporter": "python",
   "pygments_lexer": "ipython3",
   "version": "3.5.0"
  }
 },
 "nbformat": 4,
 "nbformat_minor": 0
}
