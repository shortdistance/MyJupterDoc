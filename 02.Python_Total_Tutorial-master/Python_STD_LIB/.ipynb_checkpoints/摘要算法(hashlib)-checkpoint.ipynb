{
 "cells": [
  {
   "cell_type": "markdown",
   "metadata": {},
   "source": [
    "# python3基础应用--摘要算法(hashlib)\n",
    "\n",
    "Python的hashlib提供了常见的摘要算法，如MD5，SHA1等等。\n",
    "\n",
    "什么是摘要算法呢？摘要算法又称哈希算法、散列算法。它通过一个函数，把任意长度的数据转换为一个长度固定的数据串（通常用16进制的字符串表示）\n",
    "\n",
    "常见的用途比如文件校验,下载下来的文件可以通过md5校验判断是否是原版文件\n",
    "\n",
    "还有一种是用来存储用户的密码,大家都知道明文密码存储在数据库里很不安全,所以可以通过摘要算法给密码加个密存储进去.\n",
    "\n",
    "有没有可能两个不同的数据通过某个摘要算法得到了相同的摘要？完全有可能，因为任何摘要算法都是把无限多的数据集合映射到一个有限的集合中。这种情况称为碰撞，比如Bob试图根据你的摘要反推出一篇文章'how to learn hashlib in python - by Bob'，并且这篇文章的摘要恰好和你的文章完全一致，这种情况也并非不可能出现，但是非常非常困难。"
   ]
  },
  {
   "cell_type": "code",
   "execution_count": 1,
   "metadata": {
    "collapsed": true
   },
   "outputs": [],
   "source": [
    "import hashlib "
   ]
  },
  {
   "cell_type": "markdown",
   "metadata": {},
   "source": [
    "# md5"
   ]
  },
  {
   "cell_type": "code",
   "execution_count": 3,
   "metadata": {
    "collapsed": true
   },
   "outputs": [],
   "source": [
    "psw=\"haolaoshixihuandadota2\""
   ]
  },
  {
   "cell_type": "code",
   "execution_count": 4,
   "metadata": {
    "collapsed": true
   },
   "outputs": [],
   "source": [
    "md5 = hashlib.md5()"
   ]
  },
  {
   "cell_type": "code",
   "execution_count": 5,
   "metadata": {
    "collapsed": false
   },
   "outputs": [
    {
     "name": "stdout",
     "output_type": "stream",
     "text": [
      "acc5d43185d33c88def863ac18704561\n"
     ]
    }
   ],
   "source": [
    "md5.update(psw.encode('utf-8'))\n",
    "print(md5.hexdigest())"
   ]
  },
  {
   "cell_type": "markdown",
   "metadata": {},
   "source": [
    "## SHA1"
   ]
  },
  {
   "cell_type": "code",
   "execution_count": 6,
   "metadata": {
    "collapsed": true
   },
   "outputs": [],
   "source": [
    "sha1 = hashlib.sha1()"
   ]
  },
  {
   "cell_type": "code",
   "execution_count": 7,
   "metadata": {
    "collapsed": false
   },
   "outputs": [
    {
     "name": "stdout",
     "output_type": "stream",
     "text": [
      "e53754d171a425b1dbb4a215cd86d568050055c5\n"
     ]
    }
   ],
   "source": [
    "sha1.update(psw.encode(\"utf-8\"))\n",
    "print(sha1.hexdigest())"
   ]
  },
  {
   "cell_type": "markdown",
   "metadata": {},
   "source": [
    "##  sha224, sha256, sha384, sha512"
   ]
  },
  {
   "cell_type": "markdown",
   "metadata": {},
   "source": [
    "一样的操作,只是时间花费不同而已"
   ]
  },
  {
   "cell_type": "code",
   "execution_count": 8,
   "metadata": {
    "collapsed": true
   },
   "outputs": [],
   "source": [
    "sha224 = hashlib.sha224()"
   ]
  },
  {
   "cell_type": "code",
   "execution_count": 9,
   "metadata": {
    "collapsed": false
   },
   "outputs": [
    {
     "name": "stdout",
     "output_type": "stream",
     "text": [
      "660b6249c5213d05e1df371cf7cae75fd9369a467684bc631c44d0f4\n"
     ]
    }
   ],
   "source": [
    "sha224.update(psw.encode(\"utf-8\"))\n",
    "print(sha224.hexdigest())"
   ]
  },
  {
   "cell_type": "markdown",
   "metadata": {},
   "source": [
    "## 长字符串操作\n",
    "\n",
    "长字符串或者一个分段的字符串要作摘要可以分段的进行update,结果是一样的"
   ]
  },
  {
   "cell_type": "code",
   "execution_count": 10,
   "metadata": {
    "collapsed": false
   },
   "outputs": [
    {
     "name": "stdout",
     "output_type": "stream",
     "text": [
      "d26a53750bc40b38b65a520292f69306\n"
     ]
    }
   ],
   "source": [
    "x_md5 = hashlib.md5()\n",
    "x_md5.update('how to use md5 in '.encode('utf-8'))\n",
    "x_md5.update('python hashlib?'.encode('utf-8'))\n",
    "print(x_md5.hexdigest())"
   ]
  }
 ],
 "metadata": {
  "kernelspec": {
   "display_name": "Python 3",
   "language": "python",
   "name": "python3"
  },
  "language_info": {
   "codemirror_mode": {
    "name": "ipython",
    "version": 3
   },
   "file_extension": ".py",
   "mimetype": "text/x-python",
   "name": "python",
   "nbconvert_exporter": "python",
   "pygments_lexer": "ipython3",
   "version": "3.5.0"
  }
 },
 "nbformat": 4,
 "nbformat_minor": 0
}
