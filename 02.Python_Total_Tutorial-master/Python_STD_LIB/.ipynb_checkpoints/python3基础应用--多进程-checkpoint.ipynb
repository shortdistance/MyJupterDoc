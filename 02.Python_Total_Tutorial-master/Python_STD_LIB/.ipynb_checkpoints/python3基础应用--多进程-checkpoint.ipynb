{
 "cells": [
  {
   "cell_type": "markdown",
   "metadata": {},
   "source": [
    "# python3基础应用--多进程\n",
    "\n",
    "\n",
    "\n",
    "## 进程(Process)\n",
    "\n",
    "进程（Process）是计算机中的程序关于某数据集合上的一次运行活动，是系统进行资源分配和调度的基本单位，是操作系统结构的基础。在早期面向进程设计的计算机结构中，进程是程序的基本执行实体；在当代面向线程设计的计算机结构中，进程是线程的容器。程序是指令、数据及其组织形式的描述，进程是程序的实体。--by 百度百科\n",
    "\n",
    "Unix/Linux操作系统提供了一个fork()系统调用.普通的函数调用，调用一次，返回一次，但是fork()调用一次，返回两次，因为操作系统自动把当前进程（称为父进程）复制了一份（称为子进程），然后，分别在父进程和子进程内返回。\n",
    "\n",
    "子进程永远返回0，而父进程返回子进程的ID。这样做的理由是，一个父进程可以fork出很多子进程，所以，父进程要记下每个子进程的ID，而子进程只需要调用getppid()就可以拿到父进程的ID。\n",
    "\n",
    "依然是`os`模块,它封装了`fork()`\n",
    "\n",
    "*ps:这个只能unix-like系统使用*"
   ]
  },
  {
   "cell_type": "code",
   "execution_count": 1,
   "metadata": {
    "collapsed": true
   },
   "outputs": [],
   "source": [
    "import os"
   ]
  },
  {
   "cell_type": "code",
   "execution_count": 6,
   "metadata": {
    "collapsed": false
   },
   "outputs": [
    {
     "name": "stdout",
     "output_type": "stream",
     "text": [
      "Process (12303) 开始...\n",
      "父进程 (12303) 产生了子进程 (12330).\n",
      "子进程: (12329) 它的父进程是: (12303.)\n"
     ]
    }
   ],
   "source": [
    "print('Process (%s) 开始...' % os.getpid())\n",
    "# Only works on Unix/Linux/Mac:\n",
    "pid = os.fork()\n",
    "if pid == 0:\n",
    "    print('子进程: (%s) 它的父进程是: (%s.)' % (os.getpid(), os.getppid()))\n",
    "else:\n",
    "    print('父进程 (%s) 产生了子进程 (%s).' % (os.getpid(), pid))"
   ]
  },
  {
   "cell_type": "markdown",
   "metadata": {},
   "source": [
    "## 多进程（multiprocessing）\n",
    "\n",
    "进入正题了\n",
    "Python是跨平台的，提供了一个跨平台的多进程支持。multiprocessing模块就是跨平台版本的多进程模块。\n",
    "\n",
    "multiprocessing模块提供了一个Process类来代表一个进程对象，下面的例子演示了启动一个子进程并等待其结束："
   ]
  },
  {
   "cell_type": "code",
   "execution_count": 7,
   "metadata": {
    "collapsed": false
   },
   "outputs": [
    {
     "name": "stdout",
     "output_type": "stream",
     "text": [
      "父进程 12303.\n",
      "子进程要开始啦.\n",
      "子进程: (12330) 它的父进程是: (12303.)\n",
      "子进程结束.\n",
      "子进程 test (12331)...\n"
     ]
    }
   ],
   "source": [
    "from multiprocessing import Process\n",
    "import os\n",
    "\n",
    "# 子进程要执行的代码\n",
    "def run_proc(name):\n",
    "    print('子进程 %s (%s)...' % (name, os.getpid()))\n",
    "\n",
    "if __name__=='__main__':\n",
    "    print('父进程 %s.' % os.getpid())\n",
    "    p = Process(target=run_proc, args=('test',))\n",
    "    print('子进程要开始啦.')\n",
    "    p.start()\n",
    "    p.join()\n",
    "    print('子进程结束.')"
   ]
  },
  {
   "cell_type": "markdown",
   "metadata": {},
   "source": [
    "创建子进程时，只需要传入一个执行函数和函数的参数，创建一个Process实例，用start()方法启动，这样创建进程比fork()还要简单。\n",
    "\n",
    "join()方法可以等待子进程结束后再继续往下运行，通常用于进程间的同步。"
   ]
  },
  {
   "cell_type": "markdown",
   "metadata": {},
   "source": [
    "## 进程池(pool)\n",
    "\n",
    "如果要启动大量的子进程，可以用进程池的方式批量创建子进程："
   ]
  },
  {
   "cell_type": "code",
   "execution_count": 8,
   "metadata": {
    "collapsed": false
   },
   "outputs": [
    {
     "name": "stdout",
     "output_type": "stream",
     "text": [
      "父进程 12303.\n",
      "等待所有进程完成...\n",
      "所有进程完成了.运行任务 1 (12340)...\n",
      "运行任务 0 (12339)...\n",
      "运行任务 2 (12341)...\n",
      "运行任务 3 (12342)...\n",
      "任务 1 执行了 1.15 秒.任务 0 执行了 0.48 秒.任务 2 执行了 2.75 秒.任务 3 执行了 1.57 秒.\n",
      "\n",
      "\n",
      "\n",
      "运行任务 4 (12339)...\n",
      "任务 4 执行了 2.06 秒.\n",
      "\n"
     ]
    }
   ],
   "source": [
    "from multiprocessing import Pool\n",
    "import os, time, random\n",
    "\n",
    "def long_time_task(name):\n",
    "    print('运行任务 %s (%s)...' % (name, os.getpid()))\n",
    "    start = time.time()\n",
    "    time.sleep(random.random() * 3)\n",
    "    end = time.time()\n",
    "    print('任务 %s 执行了 %0.2f 秒.' % (name, (end - start)))\n",
    "\n",
    "if __name__=='__main__':\n",
    "    print('父进程 %s.' % os.getpid())\n",
    "    p = Pool(4)\n",
    "    for i in range(5):\n",
    "        p.apply_async(long_time_task, args=(i,))\n",
    "    print('等待所有子进程完成...')\n",
    "    p.close()\n",
    "    p.join()\n",
    "    print('所有子进程完成了.')"
   ]
  },
  {
   "cell_type": "markdown",
   "metadata": {},
   "source": [
    "对Pool对象调用join()方法会等待所有子进程执行完毕，调用join()之前必须先调用close()，调用close()之后就不能继续添加新的Process了。\n",
    "\n",
    "请注意输出的结果，task 0，1，2，3是立刻执行的，而task 4要等待前面某个task完成后才执行，这是因为Pool的默认大小在我的电脑上是4，因此，最多同时执行4个进程。这是Pool有意设计的限制，并不是操作系统的限制。如果改成：\n",
    "\n",
    "    p = Pool(5)\n",
    "\n",
    "就可以同时跑5个进程。\n",
    "\n",
    "由于Pool的默认大小是CPU的核数，如果你不幸拥有8核CPU，你要提交至少9个子进程才能看到上面的等待效果。"
   ]
  },
  {
   "cell_type": "markdown",
   "metadata": {},
   "source": [
    "## 子进程(subprocess)\n",
    "\n",
    "很多时候，子进程并不是自身，而是一个外部进程。我们创建了子进程后，还需要控制子进程的输入和输出。\n",
    "\n",
    "subprocess模块可以让我们非常方便地启动一个子进程，然后控制其输入和输出。\n",
    "\n",
    "下面的例子演示了如何在Python代码中运行命令nslookup www.python.org，这和命令行直接运行的效果是一样的："
   ]
  },
  {
   "cell_type": "code",
   "execution_count": 33,
   "metadata": {
    "collapsed": false
   },
   "outputs": [
    {
     "name": "stdout",
     "output_type": "stream",
     "text": [
      "Server:\t\t8.8.4.4\n",
      "Address:\t8.8.4.4#53\n",
      "\n",
      "Non-authoritative answer:\n",
      "www.python.org\tcanonical name = python.map.fastly.net.\n",
      "Name:\tpython.map.fastly.net\n",
      "Address: 185.31.17.223\n",
      "\n",
      "\n",
      "Exit code: 0\n"
     ]
    }
   ],
   "source": [
    "import subprocess\n",
    "r = subprocess.Popen('nslookup www.python.org', shell=True,stdout=subprocess.PIPE)\n",
    "print(r.communicate()[0].decode(\"utf-8\"))\n",
    "print('Exit code:', r.returncode)"
   ]
  },
  {
   "cell_type": "markdown",
   "metadata": {},
   "source": [
    "## 进程间通信\n",
    "进程之间肯定是需要通信的，操作系统提供了很多机制来实现进程间的通信。Python的multiprocessing模块包装了底层的机制，提供了Queue、Pipes等多种方式来交换数据。"
   ]
  },
  {
   "cell_type": "markdown",
   "metadata": {},
   "source": [
    ">Queue\n",
    "\n",
    "父进程中创建两个子进程，一个往Queue里写数据，一个从Queue里读数据："
   ]
  },
  {
   "cell_type": "code",
   "execution_count": 34,
   "metadata": {
    "collapsed": false
   },
   "outputs": [
    {
     "name": "stdout",
     "output_type": "stream",
     "text": [
      "进程-写: 12405\n",
      "进程-读: 12406\n",
      "将 A 放入Queue...\n",
      "从Queue中读入A .\n",
      "将 B 放入Queue...从Queue中读入B .\n",
      "\n",
      "将 C 放入Queue...从Queue中读入C .\n",
      "\n"
     ]
    }
   ],
   "source": [
    "from multiprocessing import Process, Queue\n",
    "import os, time, random\n",
    "\n",
    "# 写数据进程执行的代码:\n",
    "def write(q):\n",
    "    print('进程-写: %s' % os.getpid())\n",
    "    for value in ['A', 'B', 'C']:\n",
    "        print('将 %s 放入Queue...' % value)\n",
    "        q.put(value)\n",
    "        time.sleep(random.random())\n",
    "\n",
    "# 读数据进程执行的代码:\n",
    "def read(q):\n",
    "    print('进程-读: %s' % os.getpid())\n",
    "    while True:\n",
    "        value = q.get(True)\n",
    "        print('从Queue中读入%s .' % value)\n",
    "\n",
    "if __name__=='__main__':\n",
    "    # 父进程创建Queue，并传给各个子进程：\n",
    "    q = Queue()\n",
    "    pw = Process(target=write, args=(q,))\n",
    "    pr = Process(target=read, args=(q,))\n",
    "    # 启动子进程pw，写入:\n",
    "    pw.start()\n",
    "    # 启动子进程pr，读取:\n",
    "    pr.start()\n",
    "    # 等待pw结束:\n",
    "    pw.join()\n",
    "    # pr进程里是死循环，无法等待其结束，只能强行终止:\n",
    "    pr.terminate()"
   ]
  },
  {
   "cell_type": "code",
   "execution_count": null,
   "metadata": {
    "collapsed": true
   },
   "outputs": [],
   "source": []
  }
 ],
 "metadata": {
  "kernelspec": {
   "display_name": "Python 3",
   "language": "python",
   "name": "python3"
  },
  "language_info": {
   "codemirror_mode": {
    "name": "ipython",
    "version": 3
   },
   "file_extension": ".py",
   "mimetype": "text/x-python",
   "name": "python",
   "nbconvert_exporter": "python",
   "pygments_lexer": "ipython3",
   "version": "3.5.0"
  }
 },
 "nbformat": 4,
 "nbformat_minor": 0
}
