{
 "cells": [
  {
   "cell_type": "markdown",
   "metadata": {},
   "source": [
    "# 单元测试框架(unittest)\n",
    "\n",
    "unittest 从名字上看，它是一个单元测试框架；从官方文档的字数上看，它的能力应该比 doctest 强一些。\n",
    "\n",
    "使用 unittest 的标准流程为：\n",
    "\n",
    "+ 从 unittest.TestCase 派生一个子类\n",
    "+ 在类中定义各种以 `\"test_\"` 打头的方法\n",
    "+ 通过 unittest.main() 函数来启动测试\n",
    "\n",
    "unittest 的一个很有用的特性是 TestCase 的 setUp() 和 tearDown() 方法，它们提供了为测试进行准备和扫尾工作的功能，听起来就像上下文管理器一样。这种功能很适合用在测试对象需要复杂执行环境的情况下。 \n",
    "\n"
   ]
  },
  {
   "cell_type": "code",
   "execution_count": 1,
   "metadata": {
    "collapsed": false
   },
   "outputs": [
    {
     "name": "stdout",
     "output_type": "stream",
     "text": [
      "#!/usr/bin/env python\r\n",
      "# -*- coding:utf-8 -*-\r\n",
      "\r\n",
      "\"\"\"\\\r\n",
      "这里可以写用到多个函数的\r\n",
      "\r\n",
      ">>> summing(multiply(2,3),multiply(2,3))\r\n",
      "12\r\n",
      "\r\n",
      "\"\"\"\r\n",
      "from functools import reduce\r\n",
      "from operator import mul,add\r\n",
      "\r\n",
      "def multiply(*args):\r\n",
      "    \"\"\"\\\r\n",
      "    这里可以写单元测试\r\n",
      "    >>> multiply(2,3)\r\n",
      "    6\r\n",
      "    >>> multiply('baka~',3)\r\n",
      "    'baka~baka~baka~'\r\n",
      "    \"\"\"\r\n",
      "    return reduce(mul,args)\r\n",
      "\r\n",
      "def  summing(*args):\r\n",
      "    \"\"\"\\\r\n",
      "    这里可以写单元测试\r\n",
      "    >>> summing(2,3)\r\n",
      "    5\r\n",
      "    >>> summing(2,3,4)\r\n",
      "    9\r\n",
      "    \"\"\"\r\n",
      "    return reduce(add,args)\r\n",
      "\r\n",
      "if __name__ == '__main__':\r\n",
      "    import doctest\r\n",
      "    doctest.testmod(verbose=True)"
     ]
    }
   ],
   "source": [
    "!cat func_oper.py"
   ]
  },
  {
   "cell_type": "code",
   "execution_count": 7,
   "metadata": {
    "collapsed": false
   },
   "outputs": [
    {
     "name": "stdout",
     "output_type": "stream",
     "text": [
      "Overwriting test_my.py\n"
     ]
    }
   ],
   "source": [
    "%%writefile test_my.py\n",
    "#!/usr/bin/env python\n",
    "# -*- coding:utf-8 -*-\n",
    "import unittest\n",
    "    \n",
    "from func_oper import multiply,summing\n",
    "\n",
    "class Test_mul(unittest.TestCase):\n",
    "    def setUp(self):\n",
    "        pass\n",
    "    def test_number_3_4(self):\n",
    "        self.assertEqual(multiply(3,4),12)\n",
    "    def test_string_a_3(self):\n",
    "        self.assertEqual(multiply('a',3),'aaa')\n",
    "        \n",
    "class Test_sum(unittest.TestCase):\n",
    "    def setUp(self):\n",
    "        pass\n",
    "    def test_number_3_4(self):\n",
    "        self.assertEqual(summing(3,4),7)\n",
    "    def test_number_3_4_5(self):\n",
    "        self.assertEqual(summing(3,4,5),12)\n",
    "class TestCase1(unittest.TestCase):\n",
    "    def setUp(self):\n",
    "        pass\n",
    "    def test_sum_mul_2_3_mul_2_3(self):\n",
    "        self.assertEqual(summing(multiply(2,3),multiply(2,3)),12)\n",
    "\n",
    "if __name__ == '__main__':\n",
    "    unittest.main()\n"
   ]
  },
  {
   "cell_type": "markdown",
   "metadata": {},
   "source": [
    "> 调用测试文件测试"
   ]
  },
  {
   "cell_type": "code",
   "execution_count": 9,
   "metadata": {
    "collapsed": false
   },
   "outputs": [
    {
     "name": "stderr",
     "output_type": "stream",
     "text": [
      "test_sum_mul_2_3_mul_2_3 (__main__.TestCase1) ... ok\n",
      "test_number_3_4 (__main__.Test_mul) ... ok\n",
      "test_string_a_3 (__main__.Test_mul) ... ok\n",
      "test_number_3_4 (__main__.Test_sum) ... ok\n",
      "test_number_3_4_5 (__main__.Test_sum) ... ok\n",
      "\n",
      "----------------------------------------------------------------------\n",
      "Ran 5 tests in 0.004s\n",
      "\n",
      "OK\n"
     ]
    }
   ],
   "source": [
    "%run test_my.py -v"
   ]
  },
  {
   "cell_type": "markdown",
   "metadata": {},
   "source": [
    "> 命令行启动测试"
   ]
  },
  {
   "cell_type": "code",
   "execution_count": 11,
   "metadata": {
    "collapsed": false
   },
   "outputs": [
    {
     "name": "stdout",
     "output_type": "stream",
     "text": [
      "test_sum_mul_2_3_mul_2_3 (test_my.TestCase1) ... ok\r\n",
      "test_number_3_4 (test_my.Test_mul) ... ok\r\n",
      "test_string_a_3 (test_my.Test_mul) ... ok\r\n",
      "test_number_3_4 (test_my.Test_sum) ... ok\r\n",
      "test_number_3_4_5 (test_my.Test_sum) ... ok\r\n",
      "\r\n",
      "----------------------------------------------------------------------\r\n",
      "Ran 5 tests in 0.000s\r\n",
      "\r\n",
      "OK\r\n"
     ]
    }
   ],
   "source": [
    "!python -m unittest discover -v"
   ]
  }
 ],
 "metadata": {
  "kernelspec": {
   "display_name": "Python 2",
   "language": "python",
   "name": "python2"
  },
  "language_info": {
   "codemirror_mode": {
    "name": "ipython",
    "version": 2
   },
   "file_extension": ".py",
   "mimetype": "text/x-python",
   "name": "python",
   "nbconvert_exporter": "python",
   "pygments_lexer": "ipython2",
   "version": "2.7.10"
  }
 },
 "nbformat": 4,
 "nbformat_minor": 0
}
