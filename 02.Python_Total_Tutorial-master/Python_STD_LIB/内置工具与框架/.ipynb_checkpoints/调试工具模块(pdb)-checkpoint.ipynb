{
 "cells": [
  {
   "cell_type": "markdown",
   "metadata": {},
   "source": [
    "# 调试工具模块(pdb)\n",
    "\n",
    "pdb是python自带的调试模块,它可以在交互环境中使用,也可以在terminal中作为python的一个模式使用"
   ]
  },
  {
   "cell_type": "markdown",
   "metadata": {},
   "source": [
    "> 要调试的脚本:"
   ]
  },
  {
   "cell_type": "code",
   "execution_count": null,
   "metadata": {
    "collapsed": false
   },
   "outputs": [],
   "source": [
    "%%writefile counter.py\n",
    "#!/usr/bin/env python\n",
    "# --*-- coding:utf-8 --*--\n",
    "from __future__ import print_function\n",
    "\n",
    "class Counter(object):\n",
    "    \"\"\"一个计数器\n",
    "    用法:\n",
    "    >>> counter1 = Counter()\n",
    "    >>> counter1()\n",
    "    1\n",
    "    >>> counter1()\n",
    "    2\n",
    "    >>> counter2 = Counter(lambda : 2,-3)\n",
    "    >>> counter2()\n",
    "    -1\n",
    "    >>> counter2()\n",
    "    1\n",
    "    \"\"\"\n",
    "    def __str__(self):\n",
    "        return \"state:\"+str(self.value)\n",
    "    def __repr__(self):\n",
    "        return self.__str__\n",
    "    def __call__(self):\n",
    "        def count():\n",
    "            self.value += self.func()\n",
    "            return self.value\n",
    "        return count()\n",
    "    \n",
    "    def __init__(self,func=lambda : 1,start=0):\n",
    "        self.value = start\n",
    "        self.func = func \n",
    "test = Counter()\n",
    "test()\n",
    "test()\n",
    "print(test)\n",
    "if __name__==\"__main__\":\n",
    "    counter1 = Counter()\n",
    "    counter2 = Counter()\n",
    "    for i in range(10):\n",
    "        counter1()\n",
    "    for i in range(8):\n",
    "        counter2()\n",
    "    if counter1.value == counter2.value:\n",
    "        print(\"not success\")\n",
    "    else: \n",
    "        print(\"don't known\")\n",
    "        \n",
    "    \n",
    "    import doctest\n",
    "    doctest.testmod(verbose=True)\n"
   ]
  },
  {
   "cell_type": "markdown",
   "metadata": {},
   "source": [
    "> 命令行调试\n",
    "\n",
    "    python -m pdb counter.py\n",
    "    \n",
    "在jupyter中无法演示,请自己试试"
   ]
  },
  {
   "cell_type": "markdown",
   "metadata": {},
   "source": [
    "> 在交互shell中调试\n",
    "\n",
    "    import pdb\n",
    "    import counter\n",
    "    pdb.run('counter.test()')"
   ]
  },
  {
   "cell_type": "markdown",
   "metadata": {},
   "source": [
    "> 常用的调试命令\n",
    "\n",
    "可以用help命令来查看"
   ]
  },
  {
   "cell_type": "markdown",
   "metadata": {},
   "source": [
    "> 在ipython中调用pdb\n",
    "\n",
    "ipython内置了魔法命令`%pdb`可以在程序出错的时候自动跳入debug"
   ]
  },
  {
   "cell_type": "code",
   "execution_count": 4,
   "metadata": {
    "collapsed": false
   },
   "outputs": [
    {
     "name": "stdout",
     "output_type": "stream",
     "text": [
      "Automatic pdb calling has been turned ON\n",
      "state:2\n"
     ]
    },
    {
     "ename": "AssertionError",
     "evalue": "",
     "output_type": "error",
     "traceback": [
      "\u001b[0;31m---------------------------------------------------------------------------\u001b[0m",
      "\u001b[0;31mAssertionError\u001b[0m                            Traceback (most recent call last)",
      "\u001b[0;32m<ipython-input-4-16cc623a427d>\u001b[0m in \u001b[0;36m<module>\u001b[0;34m()\u001b[0m\n\u001b[1;32m     33\u001b[0m \u001b[0mtest\u001b[0m\u001b[0;34m(\u001b[0m\u001b[0;34m)\u001b[0m\u001b[0;34m\u001b[0m\u001b[0m\n\u001b[1;32m     34\u001b[0m \u001b[0mprint\u001b[0m\u001b[0;34m(\u001b[0m\u001b[0mtest\u001b[0m\u001b[0;34m)\u001b[0m\u001b[0;34m\u001b[0m\u001b[0m\n\u001b[0;32m---> 35\u001b[0;31m \u001b[0;32massert\u001b[0m \u001b[0mtest\u001b[0m\u001b[0;34m.\u001b[0m\u001b[0mvalue\u001b[0m \u001b[0;34m==\u001b[0m \u001b[0;36m1\u001b[0m\u001b[0;34m\u001b[0m\u001b[0m\n\u001b[0m",
      "\u001b[0;31mAssertionError\u001b[0m: "
     ]
    },
    {
     "name": "stdout",
     "output_type": "stream",
     "text": [
      "> \u001b[0;32m<ipython-input-4-16cc623a427d>\u001b[0m(35)\u001b[0;36m<module>\u001b[0;34m()\u001b[0m\n",
      "\u001b[0;32m     33 \u001b[0;31m\u001b[0mtest\u001b[0m\u001b[0;34m(\u001b[0m\u001b[0;34m)\u001b[0m\u001b[0;34m\u001b[0m\u001b[0m\n",
      "\u001b[0m\u001b[0;32m     34 \u001b[0;31m\u001b[0mprint\u001b[0m\u001b[0;34m(\u001b[0m\u001b[0mtest\u001b[0m\u001b[0;34m)\u001b[0m\u001b[0;34m\u001b[0m\u001b[0m\n",
      "\u001b[0m\u001b[0;32m---> 35 \u001b[0;31m\u001b[0;32massert\u001b[0m \u001b[0mtest\u001b[0m\u001b[0;34m.\u001b[0m\u001b[0mvalue\u001b[0m \u001b[0;34m==\u001b[0m \u001b[0;36m1\u001b[0m\u001b[0;34m\u001b[0m\u001b[0m\n",
      "\u001b[0m\n",
      "--KeyboardInterrupt--\n",
      "ipdb> h\n",
      "\n",
      "Documented commands (type help <topic>):\n",
      "========================================\n",
      "EOF    c          d        h         next    pp       retval  u          whatis\n",
      "a      cl         debug    help      p       psource  run     unalias    where \n",
      "alias  clear      disable  ignore    pdef    q        rv      undisplay\n",
      "args   commands   display  interact  pdoc    quit     s       unt      \n",
      "b      condition  down     j         pfile   r        source  until    \n",
      "break  cont       enable   jump      pinfo   restart  step    up       \n",
      "bt     continue   exit     n         pinfo2  return   tbreak  w        \n",
      "\n",
      "Miscellaneous help topics:\n",
      "==========================\n",
      "exec  pdb\n",
      "\n",
      "Undocumented commands:\n",
      "======================\n",
      "l  list  ll  longlist\n",
      "\n",
      "ipdb> EOF\n",
      "\n"
     ]
    }
   ],
   "source": [
    "%pdb\n",
    "from __future__ import print_function\n",
    "\n",
    "class Counter(object):\n",
    "    \"\"\"一个计数器\n",
    "    用法:\n",
    "    >>> counter1 = Counter()\n",
    "    >>> counter1()\n",
    "    1\n",
    "    >>> counter1()\n",
    "    2\n",
    "    >>> counter2 = Counter(lambda : 2,-3)\n",
    "    >>> counter2()\n",
    "    -1\n",
    "    >>> counter2()\n",
    "    1\n",
    "    \"\"\"\n",
    "    def __str__(self):\n",
    "        return \"state:\"+str(self.value)\n",
    "    def __repr__(self):\n",
    "        return self.__str__\n",
    "    def __call__(self):\n",
    "        def count():\n",
    "            self.value += self.func()\n",
    "            return self.value\n",
    "        return count()\n",
    "    \n",
    "    def __init__(self,func=lambda : 1,start=0):\n",
    "        self.value = start\n",
    "        self.func = func \n",
    "test = Counter()\n",
    "test()\n",
    "test()\n",
    "print(test)\n",
    "assert test.value == 1 "
   ]
  }
 ],
 "metadata": {
  "kernelspec": {
   "display_name": "Python 3",
   "language": "python",
   "name": "python3"
  },
  "language_info": {
   "codemirror_mode": {
    "name": "ipython",
    "version": 3
   },
   "file_extension": ".py",
   "mimetype": "text/x-python",
   "name": "python",
   "nbconvert_exporter": "python",
   "pygments_lexer": "ipython3",
   "version": "3.5.0"
  }
 },
 "nbformat": 4,
 "nbformat_minor": 0
}
