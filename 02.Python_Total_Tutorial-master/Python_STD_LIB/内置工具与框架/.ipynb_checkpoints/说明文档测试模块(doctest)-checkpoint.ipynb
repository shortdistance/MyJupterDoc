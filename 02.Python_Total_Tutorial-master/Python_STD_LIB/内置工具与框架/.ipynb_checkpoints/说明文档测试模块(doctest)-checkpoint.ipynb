{
 "cells": [
  {
   "cell_type": "markdown",
   "metadata": {},
   "source": [
    "## 说明文档测试模块(doctest)\n",
    "\n",
    "doctest 并不是测试文档用的测试,而是用文档测试代码,听上去蛮酷的~\n",
    "\n",
    "doctest 模块会搜索那些看起来像交互式会话的 Python 代码片段，然后尝试执行并验证结果\n",
    "\n",
    "doctest 的编写过程就仿佛你真的在一个交互式 shell（比如 idle）中导入了要测试的模块，然后开始一条条地测试模块里的函数一样。实际上有很多人也是这么做的，他们写好一个模块后，就在 shell 里挨个测试函数，最后把 shell 会话复制粘贴成 doctest 用例。 \n"
   ]
  },
  {
   "cell_type": "markdown",
   "metadata": {},
   "source": [
    "> 一个简单的例子:"
   ]
  },
  {
   "cell_type": "code",
   "execution_count": 16,
   "metadata": {
    "collapsed": false
   },
   "outputs": [
    {
     "name": "stdout",
     "output_type": "stream",
     "text": [
      "Writing func_oper.py\n"
     ]
    }
   ],
   "source": [
    "%%writefile func_oper.py\n",
    "#!/usr/bin/env python\n",
    "# -*- coding:utf-8 -*-\n",
    "\n",
    "\"\"\"\\\n",
    "这里可以写用到多个函数的\n",
    "\n",
    ">>> summing(multiply(2,3),multiply(2,3))\n",
    "12\n",
    "\n",
    "\"\"\"\n",
    "from functools import reduce\n",
    "from operator import mul,add\n",
    "\n",
    "def multiply(*args):\n",
    "    \"\"\"\\\n",
    "    这里可以写单元测试\n",
    "    >>> multiply(2,3)\n",
    "    6\n",
    "    >>> multiply('baka~',3)\n",
    "    'baka~baka~baka~'\n",
    "    \"\"\"\n",
    "    return reduce(mul,args)\n",
    "\n",
    "def  summing(*args):\n",
    "    \"\"\"\\\n",
    "    这里可以写单元测试\n",
    "    >>> summing(2,3)\n",
    "    5\n",
    "    >>> summing(2,3,4)\n",
    "    9\n",
    "    \"\"\"\n",
    "    return reduce(add,args)\n",
    "\n",
    "if __name__ == '__main__':\n",
    "    import doctest\n",
    "    doctest.testmod(verbose=True)"
   ]
  },
  {
   "cell_type": "code",
   "execution_count": 17,
   "metadata": {
    "collapsed": false
   },
   "outputs": [
    {
     "name": "stdout",
     "output_type": "stream",
     "text": [
      "Trying:\n",
      "    summing(multiply(2,3),multiply(2,3))\n",
      "Expecting:\n",
      "    12\n",
      "ok\n",
      "Trying:\n",
      "    multiply(2,3)\n",
      "Expecting:\n",
      "    6\n",
      "ok\n",
      "Trying:\n",
      "    multiply('baka~',3)\n",
      "Expecting:\n",
      "    'baka~baka~baka~'\n",
      "ok\n",
      "Trying:\n",
      "    summing(2,3)\n",
      "Expecting:\n",
      "    5\n",
      "ok\n",
      "Trying:\n",
      "    summing(2,3,4)\n",
      "Expecting:\n",
      "    9\n",
      "ok\n",
      "3 items passed all tests:\n",
      "   1 tests in __main__\n",
      "   2 tests in __main__.multiply\n",
      "   2 tests in __main__.summing\n",
      "5 tests in 3 items.\n",
      "5 passed and 0 failed.\n",
      "Test passed.\n"
     ]
    }
   ],
   "source": [
    "%run func_oper.py"
   ]
  },
  {
   "cell_type": "markdown",
   "metadata": {},
   "source": [
    "    if __name__ == '__main__':\n",
    "        import doctest\n",
    "        doctest.testmod(verbose=True)\n",
    "\n",
    "这种方式很适合在写简单模块包的时候用,因为模块都是引用来用的."
   ]
  },
  {
   "cell_type": "code",
   "execution_count": 20,
   "metadata": {
    "collapsed": false
   },
   "outputs": [
    {
     "name": "stdout",
     "output_type": "stream",
     "text": [
      "Trying:\r\n",
      "    summing(multiply(2,3),multiply(2,3))\r\n",
      "Expecting:\r\n",
      "    12\r\n",
      "ok\r\n",
      "Trying:\r\n",
      "    multiply(2,3)\r\n",
      "Expecting:\r\n",
      "    6\r\n",
      "ok\r\n",
      "Trying:\r\n",
      "    multiply('baka~',3)\r\n",
      "Expecting:\r\n",
      "    'baka~baka~baka~'\r\n",
      "ok\r\n",
      "Trying:\r\n",
      "    summing(2,3)\r\n",
      "Expecting:\r\n",
      "    5\r\n",
      "ok\r\n",
      "Trying:\r\n",
      "    summing(2,3,4)\r\n",
      "Expecting:\r\n",
      "    9\r\n",
      "ok\r\n",
      "3 items passed all tests:\r\n",
      "   1 tests in func_oper\r\n",
      "   2 tests in func_oper.multiply\r\n",
      "   2 tests in func_oper.summing\r\n",
      "5 tests in 3 items.\r\n",
      "5 passed and 0 failed.\r\n",
      "Test passed.\r\n"
     ]
    }
   ],
   "source": [
    "!python -m doctest -v func_oper.py"
   ]
  },
  {
   "cell_type": "markdown",
   "metadata": {},
   "source": [
    "这种方式启动测试就不用在写\n",
    "\n",
    "    if __name__ == '__main__':\n",
    "        import doctest\n",
    "        doctest.testmod(verbose=True)\n",
    "        \n",
    "这段了,效果也是一样"
   ]
  },
  {
   "cell_type": "markdown",
   "metadata": {},
   "source": [
    "doctest也可以在文件外写测试,但这么搞就有点本末倒置了,因此这边就不写了"
   ]
  }
 ],
 "metadata": {
  "kernelspec": {
   "display_name": "Python 3",
   "language": "python",
   "name": "python3"
  },
  "language_info": {
   "codemirror_mode": {
    "name": "ipython",
    "version": 3
   },
   "file_extension": ".py",
   "mimetype": "text/x-python",
   "name": "python",
   "nbconvert_exporter": "python",
   "pygments_lexer": "ipython3",
   "version": "3.5.0"
  }
 },
 "nbformat": 4,
 "nbformat_minor": 0
}
