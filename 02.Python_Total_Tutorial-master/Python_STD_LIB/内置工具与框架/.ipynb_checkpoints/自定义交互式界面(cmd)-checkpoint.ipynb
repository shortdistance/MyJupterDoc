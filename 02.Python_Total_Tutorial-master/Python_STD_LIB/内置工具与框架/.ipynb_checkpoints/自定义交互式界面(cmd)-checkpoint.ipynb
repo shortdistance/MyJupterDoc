{
 "cells": [
  {
   "cell_type": "markdown",
   "metadata": {},
   "source": [
    "# 自定义交互式界面(cmd)\n",
    "\n",
    "Python提供了交互界面的自定义功能,通过cmd模块我们可以将一些指令放入交互界面中,便于直接调用\n",
    "\n",
    "说起来很抽象,想象下ipython吧,大约就是可以做个ipython出来的意思"
   ]
  },
  {
   "cell_type": "markdown",
   "metadata": {},
   "source": [
    "> 官方的例子"
   ]
  },
  {
   "cell_type": "code",
   "execution_count": 3,
   "metadata": {
    "collapsed": false
   },
   "outputs": [
    {
     "name": "stdout",
     "output_type": "stream",
     "text": [
      "Overwriting turtleshell.py\n"
     ]
    }
   ],
   "source": [
    "%%writefile turtleshell.py\n",
    "#!/usr/bin/env python\n",
    "# --*-- coding:utf-8 --*--\n",
    "from __future__ import print_function\n",
    "import cmd, sys\n",
    "from turtle import *\n",
    "\n",
    "class TurtleShell(cmd.Cmd):\n",
    "    intro = 'Welcome to the turtle shell.   Type help or ? to list commands.\\n'\n",
    "    prompt = '(turtle) '\n",
    "    file = None\n",
    "\n",
    "    # ----- basic turtle commands -----\n",
    "    def do_forward(self, arg):\n",
    "        'Move the turtle forward by the specified distance:  FORWARD 10'\n",
    "        forward(*parse(arg))\n",
    "    def do_right(self, arg):\n",
    "        'Turn turtle right by given number of degrees:  RIGHT 20'\n",
    "        right(*parse(arg))\n",
    "    def do_left(self, arg):\n",
    "        'Turn turtle left by given number of degrees:  LEFT 90'\n",
    "        left(*parse(arg))\n",
    "    def do_goto(self, arg):\n",
    "        'Move turtle to an absolute position with changing orientation.  GOTO 100 200'\n",
    "        goto(*parse(arg))\n",
    "    def do_home(self, arg):\n",
    "        'Return turtle to the home position:  HOME'\n",
    "        home()\n",
    "    def do_circle(self, arg):\n",
    "        'Draw circle with given radius an options extent and steps:  CIRCLE 50'\n",
    "        circle(*parse(arg))\n",
    "    def do_position(self, arg):\n",
    "        'Print the current turle position:  POSITION'\n",
    "        print('Current position is %d %d\\n' % position())\n",
    "    def do_heading(self, arg):\n",
    "        'Print the current turle heading in degrees:  HEADING'\n",
    "        print('Current heading is %d\\n' % (heading(),))\n",
    "    def do_color(self, arg):\n",
    "        'Set the color:  COLOR BLUE'\n",
    "        color(arg.lower())\n",
    "    def do_undo(self, arg):\n",
    "        'Undo (repeatedly) the last turtle action(s):  UNDO'\n",
    "    def do_reset(self, arg):\n",
    "        'Clear the screen and return turtle to center:  RESET'\n",
    "        reset()\n",
    "    def do_bye(self, arg):\n",
    "        'Stop recording, close the turtle window, and exit:  BYE'\n",
    "        print('Thank you for using Turtle')\n",
    "        self.close()\n",
    "        bye()\n",
    "        return True\n",
    "\n",
    "    # ----- record and playback -----\n",
    "    def do_record(self, arg):\n",
    "        'Save future commands to filename:  RECORD rose.cmd'\n",
    "        self.file = open(arg, 'w')\n",
    "    def do_playback(self, arg):\n",
    "        'Playback commands from a file:  PLAYBACK rose.cmd'\n",
    "        self.close()\n",
    "        with open(arg) as f:\n",
    "            self.cmdqueue.extend(f.read().splitlines())\n",
    "    def precmd(self, line):\n",
    "        line = line.lower()\n",
    "        if self.file and 'playback' not in line:\n",
    "            print(line, file=self.file)\n",
    "        return line\n",
    "    def close(self):\n",
    "        if self.file:\n",
    "            self.file.close()\n",
    "            self.file = None\n",
    "\n",
    "def parse(arg):\n",
    "    'Convert a series of zero or more numbers to an argument tuple'\n",
    "    return tuple(map(int, arg.split()))\n",
    "\n",
    "if __name__ == '__main__':\n",
    "    TurtleShell().cmdloop()"
   ]
  },
  {
   "cell_type": "markdown",
   "metadata": {},
   "source": [
    "在命令行运行下试试\n",
    "\n",
    "    (turtle) CIRCLE 50\n",
    "    (turtle) bye"
   ]
  }
 ],
 "metadata": {
  "kernelspec": {
   "display_name": "Python 3",
   "language": "python",
   "name": "python3"
  },
  "language_info": {
   "codemirror_mode": {
    "name": "ipython",
    "version": 3
   },
   "file_extension": ".py",
   "mimetype": "text/x-python",
   "name": "python",
   "nbconvert_exporter": "python",
   "pygments_lexer": "ipython3",
   "version": "3.5.0"
  }
 },
 "nbformat": 4,
 "nbformat_minor": 0
}
