{
 "cells": [
  {
   "cell_type": "markdown",
   "metadata": {},
   "source": [
    "# 日志框架(logging)\n",
    "\n",
    "日志是程序必备的功能之一,如果一个程序天衣无缝,那确实没啥必要有日志了,但如果有可能有错误,我们就该用日志收集可能的错误,这样也可以更好的debug.另外在服务器端收集信息也可以用日志,分析日志是所有搞计算机的人的必修课...\n",
    "\n",
    "在logging框架下首先我们需要初始化一个logger来处理log,之后通过添加handler,Formatter和config子属性来自定义我们的logger.\n",
    "\n",
    "> 一个简单的例子"
   ]
  },
  {
   "cell_type": "code",
   "execution_count": 6,
   "metadata": {
    "collapsed": false
   },
   "outputs": [
    {
     "name": "stderr",
     "output_type": "stream",
     "text": [
      "w\n",
      "ERROR:endlesscode:w\n",
      "ERROR:endlesscode:f\n"
     ]
    }
   ],
   "source": [
    "import logging\n",
    "import sys\n",
    "#日志的名字,会在每行的一开始写\n",
    "logger = logging.getLogger(\"endlesscode\")\n",
    "#格式化\n",
    "formatter = logging.Formatter('%(name)-12s %(asctime)s %(levelname)-8s %(message)s', '%a, %d %b %Y %H:%M:%S',)\n",
    "#设定输出文件\n",
    "file_handler = logging.FileHandler(\"test.log\")\n",
    "#为handler设置输出格式\n",
    "file_handler.setFormatter(formatter)\n",
    "#流控制\n",
    "stream_handler = logging.StreamHandler(sys.stderr)\n",
    "#为logger设置handler\n",
    "logger.addHandler(file_handler)\n",
    "#发送信息到流\n",
    "logger.addHandler(stream_handler)\n",
    "#设置报错等级\n",
    "#logger.setLevel(logging.ERROR)\n",
    "#报错\n",
    "logger.error(\"w\")\n",
    "#移除handler\n",
    "logger.removeHandler(stream_handler)\n",
    "#报错\n",
    "logger.error(\"f\")"
   ]
  },
  {
   "cell_type": "markdown",
   "metadata": {},
   "source": [
    "+ level: 设置日志级别，默认为logging.WARNING\n",
    "\n",
    "+ stream: 指定将日志的输出流，可以指定输出到sys.stderr,sys.stdout或者文件，默认输出到sys.stderr，当stream和filename同时指定时，stream被忽略"
   ]
  },
  {
   "cell_type": "markdown",
   "metadata": {},
   "source": [
    "## 输出文本的格式化\n",
    "\n",
    "元素|格式化字符串|描述\n",
    "---|---|---\n",
    "args|不用格式化|\t参数会是一个元组\n",
    "asctime\t|%(asctime)s\t|可读的时间\n",
    "created\t|%(created)f|\t记录的创建时间\n",
    "filename\t|%(filename)s\t|文件名\n",
    "funcName\t|%(funcName)s\t|函数名\n",
    "levelname\t|%(levelname)s\t|错误,警报等的名字\n",
    "levelno\t|%(levelno)s|错误,警报等,是预警等级\n",
    "lineno\t|%(lineno)d\t|报错行数\n",
    "module\t|%(module)s\t|报错模块\n",
    "msecs\t|%(msecs)d\t|毫秒级的出错时间\n",
    "message|%(message)s\t|错误信息\n",
    "name\t|%(name)s\t|log的名字\n",
    "pathname\t|%(pathname)s\t|报错文件所在path\n",
    "process\t|%(process)d\t|进程id\n",
    "processName\t|%(processName)s\t|进程名\n",
    "relativeCreated\t|%(relativeCreated)d\t|微秒级的报错时间\n",
    "thread\t|%(thread)d\t|线程id\n",
    "threadName\t|%(threadName)s|线程名"
   ]
  },
  {
   "cell_type": "markdown",
   "metadata": {},
   "source": [
    "## 日志回滚"
   ]
  },
  {
   "cell_type": "code",
   "execution_count": 7,
   "metadata": {
    "collapsed": true
   },
   "outputs": [],
   "source": [
    "from logging.handlers import RotatingFileHandler"
   ]
  },
  {
   "cell_type": "code",
   "execution_count": null,
   "metadata": {
    "collapsed": true
   },
   "outputs": [],
   "source": [
    "#定义一个RotatingFileHandler，最多备份5个日志文件，每个日志文件最大10M\n",
    "Rthandler = RotatingFileHandler('myapp.log', maxBytes=10*1024*1024,backupCount=5)\n",
    "Rthandler.setLevel(logging.INFO)\n",
    "formatter = logging.Formatter('%(name)-12s: %(levelname)-8s %(message)s')\n",
    "Rthandler.setFormatter(formatter)\n",
    "logging.getLogger('').addHandler(Rthandler)"
   ]
  },
  {
   "cell_type": "markdown",
   "metadata": {},
   "source": [
    "## 几种handler\n",
    "handler|说明\n",
    "---|---\n",
    "StreamHandler(stream=None) | 流输出\n",
    "FileHandler(filename, mode='a', encoding=None, delay=False)| 写入文件\n",
    "WatchedFileHandler(filename[, mode[, encoding[, delay]]])|监控log文件\n",
    "RotatingFileHandler(filename, mode='a', maxBytes=0, backupCount=0, encoding=None, delay=0)|轮替日志,根据日志文件的大小来循环\n",
    " TimedRotatingFileHandler(filename, when='h', interval=1, backupCount=0, encoding=None, delay=False, utc=False, atTime=None)|轮替日志,根据时间来循环,interval参数可选的值有:[\"S\"-Seconds;'M'-Minutes;'H'-Hours;'D'-Days;'W0'~'W6'-Weekday (0=Monday);'midnight'-半夜循环]\n",
    " SocketHandler(host, port)|把log送到网上的socket\n",
    " DatagramHandler(host, port)|把log送到网上的UDP sockets\n",
    " SysLogHandler(address=('localhost', SYSLOG_UDP_PORT), facility=LOG_USER, socktype=socket.SOCK_DGRAM)|log送到unix系统log\n",
    "  SMTPHandler(mailhost, fromaddr, toaddrs, subject, credentials=None, secure=None, timeout=1.0)|log送到电子邮箱\n",
    "  MemoryHandler(capacity, flushLevel=ERROR, target=None)|log存入内存\n",
    "HTTPHandler(host, url, method='GET', secure=False, credentials=None, context=None)|log通过http网络送到服务器"
   ]
  },
  {
   "cell_type": "markdown",
   "metadata": {},
   "source": [
    "## config\n",
    "当然可以在程序中设置log了,但为了改起来方便也可以写在别的文件中然后用`config.fileConfig(path)`来设置,我们看看配置文件大约是啥样"
   ]
  },
  {
   "cell_type": "markdown",
   "metadata": {},
   "source": [
    "    [loggers]\n",
    "    keys=root,simpleExample\n",
    "\n",
    "    [handlers]\n",
    "    keys=consoleHandler\n",
    "\n",
    "    [formatters]\n",
    "    keys=simpleFormatter\n",
    "\n",
    "    [logger_root]\n",
    "    level=DEBUG\n",
    "    handlers=consoleHandler\n",
    "\n",
    "    [logger_simpleExample]\n",
    "    level=DEBUG\n",
    "    handlers=consoleHandler\n",
    "    qualname=simpleExample\n",
    "    propagate=0\n",
    "\n",
    "    [handler_consoleHandler]\n",
    "    class=StreamHandler\n",
    "    level=DEBUG\n",
    "    formatter=simpleFormatter\n",
    "    args=(sys.stdout,)\n",
    "\n",
    "    [formatter_simpleFormatter]\n",
    "    format=%(asctime)s - %(name)s - %(levelname)s - %(message)s\n",
    "    datefmt=%a, %d %b %Y %H:%M:%S"
   ]
  },
  {
   "cell_type": "markdown",
   "metadata": {},
   "source": [
    "要注意的是如果用这种方式那么,使用 rotation file handler 时，不要同时声明 file handler，否则 rotation 发生时，doRollover 函数的 os.rename 会报错(「另一个程序正在使用此文件，进程无法访问).当然,可以写另一个py文件专门用来初始化,要用的时候`import`进来就好了."
   ]
  }
 ],
 "metadata": {
  "kernelspec": {
   "display_name": "Python 3",
   "language": "python",
   "name": "python3"
  },
  "language_info": {
   "codemirror_mode": {
    "name": "ipython",
    "version": 3
   },
   "file_extension": ".py",
   "mimetype": "text/x-python",
   "name": "python",
   "nbconvert_exporter": "python",
   "pygments_lexer": "ipython3",
   "version": "3.5.1"
  }
 },
 "nbformat": 4,
 "nbformat_minor": 0
}
