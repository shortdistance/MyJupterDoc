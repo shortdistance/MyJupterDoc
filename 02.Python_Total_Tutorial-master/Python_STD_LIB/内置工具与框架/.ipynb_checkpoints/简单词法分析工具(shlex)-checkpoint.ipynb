{
 "cells": [
  {
   "cell_type": "markdown",
   "metadata": {},
   "source": [
    "# 简单shell词法分析工具(shlex)\n",
    "\n",
    "词法分析是编译中的一个很重要的步骤,Python中提供了shlex模块用来做词法分析,用于分析shell中的输入语法,\n",
    "shlex基本只提供一个分词的功能和识别引号的功能"
   ]
  },
  {
   "cell_type": "markdown",
   "metadata": {},
   "source": [
    "> 例:解析一串字符串,以`,`分割,但引号内的`,`不用于分割"
   ]
  },
  {
   "cell_type": "code",
   "execution_count": 2,
   "metadata": {
    "collapsed": false
   },
   "outputs": [
    {
     "name": "stdout",
     "output_type": "stream",
     "text": [
      "['ab', 'cdsfd,sfsd', 'ewewq', '5654']\n"
     ]
    }
   ],
   "source": [
    "import shlex\n",
    "strin=shlex.shlex(\"ab,'cdsfd,sfsd',ewewq,5654\",posix=True)\n",
    "strin.whitespace=','\n",
    "strin.whitesapce_split=True\n",
    "b=list(strin)\n",
    "print(b)"
   ]
  },
  {
   "cell_type": "markdown",
   "metadata": {},
   "source": [
    "> split方法可以在用多种空白的时候解析"
   ]
  },
  {
   "cell_type": "code",
   "execution_count": 4,
   "metadata": {
    "collapsed": false
   },
   "outputs": [
    {
     "name": "stdout",
     "output_type": "stream",
     "text": [
      "['ab', 'cdsfd  sfsd', 'ewewq', '5654']\n"
     ]
    }
   ],
   "source": [
    "import shlex\n",
    "strin2=shlex.split(\"ab 'cdsfd  sfsd'   ewewq 5654\",posix=True)\n",
    "\n",
    "b=list(strin)\n",
    "print(b)"
   ]
  }
 ],
 "metadata": {
  "kernelspec": {
   "display_name": "Python 3",
   "language": "python",
   "name": "python3"
  },
  "language_info": {
   "codemirror_mode": {
    "name": "ipython",
    "version": 3
   },
   "file_extension": ".py",
   "mimetype": "text/x-python",
   "name": "python",
   "nbconvert_exporter": "python",
   "pygments_lexer": "ipython3",
   "version": "3.5.0"
  }
 },
 "nbformat": 4,
 "nbformat_minor": 0
}
