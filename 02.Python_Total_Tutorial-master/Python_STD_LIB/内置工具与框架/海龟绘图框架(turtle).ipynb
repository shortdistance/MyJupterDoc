{
 "cells": [
  {
   "cell_type": "markdown",
   "metadata": {},
   "source": [
    "# 海龟绘图框架(turtle)\n",
    "\n",
    "Python内置的一个绘图库,基于Tk.用起来很简单.可以玩玩试试.\n"
   ]
  },
  {
   "cell_type": "markdown",
   "metadata": {},
   "source": [
    "海龟绘图属性：\n",
    "\n",
    "+ 位置\n",
    "+ 方向\n",
    "+ 画笔(画笔的属性，颜色、画线的宽度)"
   ]
  },
  {
   "cell_type": "markdown",
   "metadata": {},
   "source": [
    "操纵海龟绘图有着许多的命令,这些命令可以划分为两种:\n",
    "\n",
    "+ 运动命令\n",
    "\n",
    "命令|说明\n",
    "---|---\n",
    "forward(degree)  |向前移动距离degree代表距离\n",
    "backward(degree)  |向后移动距离degree代表距离\n",
    "right(degree)    |向右移动多少度\n",
    "left(degree)  |向左移动多少度\n",
    "goto(x,y)  |将画笔移动到坐标为x,y的位置\n",
    "stamp()     |复制当前图形\n",
    "speed(speed)  |画笔绘制的速度范围[0,10]整数\n",
    "reset()|是将整个画布清空并将画笔置于原点(画布的中心)\n",
    "\n",
    "+ 画笔控制命令\n",
    "\n",
    "命令|说明\n",
    "---|---\n",
    "down() |移动时绘制图形,缺省时也为绘制\n",
    "up() |移动时不绘制图形\n",
    "pensize(width) |设置绘制图形时的宽度\n",
    "color(colorstring) |设置绘制图形时笔的颜色\n",
    "fillcolor(colorstring) |设置绘制图形的填充颜色\n",
    "fill(Ture)|---\n",
    "fill(false)|---"
   ]
  },
  {
   "cell_type": "markdown",
   "metadata": {},
   "source": [
    "> 例子:画个正方形"
   ]
  },
  {
   "cell_type": "code",
   "execution_count": 10,
   "metadata": {
    "collapsed": false
   },
   "outputs": [
    {
     "name": "stdout",
     "output_type": "stream",
     "text": [
      "Overwriting sq.py\n"
     ]
    }
   ],
   "source": [
    "%%writefile sq.py\n",
    "#--*-- coding:utf-8 --*--\n",
    "import turtle\n",
    "import time\n",
    "#定义绘制时画笔的颜色\n",
    "turtle.color(\"purple\")\n",
    "#定义绘制时画笔的线条的宽度\n",
    "turtle.pensize(5)\n",
    "#定义绘图的速度 \n",
    "turtle.speed(10)\n",
    "#以0,0为起点进行绘制\n",
    "turtle.goto(0,0)\n",
    "turtle.down()\n",
    "#绘出正方形的四条边\n",
    "for i in range(4):\n",
    "    turtle.forward(100)\n",
    "    turtle.right(90)\n",
    "#画笔移动到点(-150,-120)时不绘图\n",
    "turtle.up()\n",
    "turtle.goto(-150,-120)\n",
    "#再次定义画笔颜色\n",
    "turtle.color(\"red\")\n",
    "#在(-150,-120)点上打印\"Done\"\n",
    "turtle.write(\"Done\")\n",
    "time.sleep(3)"
   ]
  },
  {
   "cell_type": "code",
   "execution_count": 9,
   "metadata": {
    "collapsed": false
   },
   "outputs": [],
   "source": [
    "!python3 sq.py"
   ]
  },
  {
   "cell_type": "markdown",
   "metadata": {},
   "source": [
    "> 画个五角星"
   ]
  },
  {
   "cell_type": "code",
   "execution_count": 11,
   "metadata": {
    "collapsed": false
   },
   "outputs": [
    {
     "name": "stdout",
     "output_type": "stream",
     "text": [
      "Writing fs.py\n"
     ]
    }
   ],
   "source": [
    "%%writefile fs.py\n",
    "#--*-- coding:utf-8 --*--\n",
    "import turtle\n",
    "import time\n",
    "turtle.color(\"purple\")\n",
    "turtle.pensize(5)\n",
    "turtle.goto(0,0)\n",
    "turtle.speed(10)\n",
    "turtle.down()\n",
    "for i in range(6):\n",
    "    turtle.forward(100)\n",
    "    turtle.right(144)\n",
    "turtle.up()\n",
    "turtle.forward(100)\n",
    "turtle.goto(-150,-120)\n",
    "turtle.color(\"red\")\n",
    "turtle.write(\"Done\")\n",
    "time.sleep(3)"
   ]
  },
  {
   "cell_type": "code",
   "execution_count": 12,
   "metadata": {
    "collapsed": true
   },
   "outputs": [],
   "source": [
    "!python3 fs.py"
   ]
  }
 ],
 "metadata": {
  "kernelspec": {
   "display_name": "Python 2",
   "language": "python",
   "name": "python2"
  },
  "language_info": {
   "codemirror_mode": {
    "name": "ipython",
    "version": 2
   },
   "file_extension": ".py",
   "mimetype": "text/x-python",
   "name": "python",
   "nbconvert_exporter": "python",
   "pygments_lexer": "ipython2",
   "version": "2.7.10"
  }
 },
 "nbformat": 4,
 "nbformat_minor": 0
}
