{
 "cells": [
  {
   "cell_type": "markdown",
   "metadata": {},
   "source": [
    "# zip格式压缩解压(zipfile)\n",
    "\n",
    "从简单的角度来看的话，zip压缩格式是个不错的选择.python对zip格式的支持够简单，够好用。"
   ]
  },
  {
   "cell_type": "code",
   "execution_count": 1,
   "metadata": {
    "collapsed": true
   },
   "outputs": [],
   "source": [
    "import zipfile"
   ]
  },
  {
   "cell_type": "markdown",
   "metadata": {},
   "source": [
    "## 简单应用"
   ]
  },
  {
   "cell_type": "markdown",
   "metadata": {},
   "source": [
    "> 文本压缩成zip文件"
   ]
  },
  {
   "cell_type": "code",
   "execution_count": 11,
   "metadata": {
    "collapsed": false
   },
   "outputs": [],
   "source": [
    "with zipfile.ZipFile('output.zip', 'w',zipfile.ZIP_DEFLATED) as f:\n",
    "    f.write(\"input副本.txt\")"
   ]
  },
  {
   "cell_type": "code",
   "execution_count": 13,
   "metadata": {
    "collapsed": true
   },
   "outputs": [],
   "source": [
    "!rm input副本.txt"
   ]
  },
  {
   "cell_type": "code",
   "execution_count": 14,
   "metadata": {
    "collapsed": false
   },
   "outputs": [],
   "source": [
    "with zipfile.ZipFile('output.zip', 'r',zipfile.ZIP_DEFLATED) as f:\n",
    "    f.extractall()"
   ]
  },
  {
   "cell_type": "markdown",
   "metadata": {},
   "source": [
    "+ zipfile.ZipFile(fileName[, mode[, compression[, allowZip64]]]) \n",
    "\n",
    "    + mode和一般的文件操作一样,'r'表示打开一个存在的只读ZIP文件；'w'表示清空并打开一个只写的ZIP文件，或创建一个只写的ZIP文件；'a'表示打开一个ZIP文件，并添加内容。 \n",
    "    + compression表示压缩格式，可选的压缩格式只有2个：ZIP_STORE;ZIP_DEFLATED。ZIP_STORE是默认的，表示不压缩；ZIP_DEFLATED表示压缩，如果你不知道什么是Deflated。 \n",
    "    + allowZip64为True时，表示支持64位的压缩，一般而言，在所压缩的文件大于2G时，会用到这个选项；默认情况下，该值为False，因为Unix系统不支持。 \n",
    "+ zipfile.write(filename[, arcname[, compress_type]]) \n",
    "    + acrname是压缩文件中该文件的名字，默认情况下和filename一样 \n",
    "    + compress_type的存在是因为zip文件允许被压缩的文件可以有不同的压缩类型。\n",
    "+ zipfile.extractall([path[, member[, password]]]) \n",
    "    + path解压缩目录，没什么可说的 \n",
    "    + member需要解压缩的文件名儿列表 \n",
    "    + password当zip文件有密码时需要该选项 "
   ]
  },
  {
   "cell_type": "markdown",
   "metadata": {},
   "source": [
    "## 高级"
   ]
  },
  {
   "cell_type": "code",
   "execution_count": 15,
   "metadata": {
    "collapsed": false
   },
   "outputs": [
    {
     "data": {
      "text/plain": [
       "True"
      ]
     },
     "execution_count": 15,
     "metadata": {},
     "output_type": "execute_result"
    }
   ],
   "source": [
    "zipfile.is_zipfile(\"output.zip\") #查看是不是zip压缩文件"
   ]
  },
  {
   "cell_type": "code",
   "execution_count": 18,
   "metadata": {
    "collapsed": false
   },
   "outputs": [
    {
     "name": "stdout",
     "output_type": "stream",
     "text": [
      "['input副本.txt']\n"
     ]
    }
   ],
   "source": [
    "# 查看zip中的文件列表\n",
    "with zipfile.ZipFile('output.zip', 'r',zipfile.ZIP_DEFLATED) as f:\n",
    "    print(f.namelist())"
   ]
  },
  {
   "cell_type": "code",
   "execution_count": 22,
   "metadata": {
    "collapsed": false
   },
   "outputs": [
    {
     "name": "stdout",
     "output_type": "stream",
     "text": [
      "强大的交互执行框架--Jupyter及其支持的几种优秀语言介绍\n",
      "\n",
      "Jupyter 是ipython notebook 脱离ipython项目后的一个独立项目.不同于notebook, Jupyter已经不再只是python的交互执行框架,\n",
      "而是致力于多语言通用的交互执行.\n",
      "\n",
      "在以前 notebook作为ipython的一个子项目就受到许多人的喜爱和追捧,当时就已经可以通过多种途径利用它执行其他非python语言.\n",
      "现在Jupyter 与ipython分家后,这一特性得到了更好的支持.\n",
      "\n",
      "现在的Jupyter只负责交互执行,而执行的是什么语言其实是由其执行核心--kernel 来实现的,而现在的ipython可以自带其执行python版本的python核心.\n",
      "\n",
      "于是顺带的,本文也介绍几种支持Jupyter的优秀的语言.\n",
      "\n",
      "## Jupyter支持的语言:\n",
      "\n",
      "在[这里](https://github.com/ipython/ipython/wiki/IPython-kernels-for-other-languages)你可以看到目前支持的语言.\n",
      "\n",
      "\n",
      "## Jupyter的安装:\n",
      "\n",
      "Jupyter 现在是独立安装.当然,你依然需要装有python 和 pip.\n",
      "\n",
      "\n",
      "    $pip install jupyter\n",
      "\n",
      "如果你用brew 安装的python3,那么自然的\n",
      "\n",
      "    $pip3 install jupyter\n",
      "\n",
      "## 运行\n",
      "\n",
      "    $jupyter notebook\n",
      "\n",
      "\n",
      "    当然了,没有kernel是没法运行的\n",
      "\n",
      "\n",
      "## 几个比较值得安装的的kernel安装:\n",
      "\n",
      "本文中介绍的的kernel只在mac下测试安装成功,在linux下应当都能成功,但windows下未必.\n",
      "欢迎朋友们写下其他平台的经验,我看到也会进行修改,谢谢\n",
      "\n",
      "### 通用依赖\n",
      "几乎所有kernel都需要`zeromq`和`openssl`这两个库,他们都可以用brew安装\n",
      "\n",
      "brew install zeromq\n",
      "brew install openssl\n",
      "\n",
      "> python2与python3并存\n",
      "\n",
      "### 安装依赖\n",
      "\n",
      "python的kernel自然依赖于python.\n",
      "\n",
      "对于新手来说python2和python3并存本身就是件比较纠结蛋碎的事儿,mac下一般会用homebrew安装两个版本\n",
      "(当然也会有人安装其他比如pypy之类,那个咱不管)\n",
      "\n",
      "    $brew install python\n",
      "    $brew install python3\n",
      "\n",
      "\n",
      "如果是这样安装,那python python2 python3对应的便是不同版本的python如下表(可能版本不同有些许不同)\n",
      "\n",
      "命令|python来源|pip命令|库位置\n",
      "---|---|---|---\n",
      "python|brew 安装的 python|pip|/usr/local/lib/python2.7/site-packages\n",
      "python2|brew 安装的 python|pip|/usr/local/lib/python2.7/site-packages\n",
      "python3|brew 安装的 python3|pip3|/usr/local/lib/python3.4/site-packages\n",
      "\n",
      "\n",
      "### 安装kernel\n",
      "\n",
      "**分别安装ipython,在各自环境下执行**\n",
      "\n",
      "    $pip install ipython[all]\n",
      "    $ipython kernelspec install-self\n",
      "    $pip3 install ipython[all]\n",
      "    $ipython kernelspec install-self\n",
      "\n",
      "### 测试下\n",
      "\n",
      "打开Jupyter:\n",
      "\n",
      "    jupyter notebook\n",
      "\n",
      "可以在*new*看到里面出现*Python 2*和*Python 3*两个可选项\n",
      "\n",
      ">Bash\n",
      "\n",
      "Bash 不用多介绍,最通用的shell命令语言,同时它的kernel也是安装起来最简单的kernel了.\n",
      "\n",
      "### 安装Bash-kernel\n",
      "\n",
      "安装Bash-kernel只要用pip工具即可\n",
      "\n",
      "    pip install bash_kernel\n",
      "    python -m bash_kernel.install\n",
      "\n",
      "### 测试下\n",
      "\n",
      "新建一个bash用的notebook\n",
      "在其中的一个cell中输入\n",
      "\n",
      "    for i in {1..5}\n",
      "    do  \n",
      "        echo $i  \n",
      "    done  \n",
      "\n",
      "\n",
      "看看是不是输出了1到5这5个数\n",
      "\n",
      "更多的bash语言细节可以[点击这里查看](http://www.yiibai.com/shell/)\n",
      "\n",
      ">Golang\n",
      "\n",
      "Go语言是谷歌几年前推出的一门编译型语言,它以简洁优雅高,高开发效率,高可维护性和善于处理高并发而著称\n",
      "Go有一套完善的开发流程和语言规范,而在Jupyter下执行Go主要是用于学习其语言特性\n"
     ]
    }
   ],
   "source": [
    "# 打开zip中某个文件\n",
    "with zipfile.ZipFile('output.zip', 'r',zipfile.ZIP_DEFLATED) as f:\n",
    "    print(f.open('input副本.txt').read().decode(\"utf-8\"))"
   ]
  },
  {
   "cell_type": "code",
   "execution_count": 23,
   "metadata": {
    "collapsed": false
   },
   "outputs": [
    {
     "name": "stdout",
     "output_type": "stream",
     "text": [
      "[<ZipInfo filename='input副本.txt' compress_type=deflate filemode='-rw-r--r--' file_size=3425 compress_size=1778>]\n"
     ]
    }
   ],
   "source": [
    "# 查看zip的信息列表\n",
    "with zipfile.ZipFile('output.zip', 'r',zipfile.ZIP_DEFLATED) as f:\n",
    "    print(f.infolist())"
   ]
  },
  {
   "cell_type": "code",
   "execution_count": 27,
   "metadata": {
    "collapsed": false
   },
   "outputs": [
    {
     "name": "stdout",
     "output_type": "stream",
     "text": [
      "<ZipInfo filename='input副本.txt' compress_type=deflate filemode='-rw-r--r--' file_size=3425 compress_size=1778>\n"
     ]
    }
   ],
   "source": [
    "# 查看zip中某文件的信息\n",
    "with zipfile.ZipFile('output.zip', 'r',zipfile.ZIP_DEFLATED) as f:\n",
    "    info = f.getinfo('input副本.txt')\n",
    "print(info)"
   ]
  },
  {
   "cell_type": "code",
   "execution_count": 28,
   "metadata": {
    "collapsed": false
   },
   "outputs": [
    {
     "data": {
      "text/plain": [
       "(2016, 1, 5, 13, 27, 8)"
      ]
     },
     "execution_count": 28,
     "metadata": {},
     "output_type": "execute_result"
    }
   ],
   "source": [
    "info.date_time#年月日小时分钟秒"
   ]
  },
  {
   "cell_type": "code",
   "execution_count": 31,
   "metadata": {
    "collapsed": false
   },
   "outputs": [
    {
     "name": "stdout",
     "output_type": "stream",
     "text": [
      "None\n"
     ]
    }
   ],
   "source": [
    "# 检查zip中每个文件的CRC,有错误会返回对应文件作为列表成员\n",
    "with zipfile.ZipFile('output.zip', 'r',zipfile.ZIP_DEFLATED) as f:\n",
    "    print(f.testzip())"
   ]
  },
  {
   "cell_type": "code",
   "execution_count": 33,
   "metadata": {
    "collapsed": false
   },
   "outputs": [],
   "source": [
    "#给文件加密码\n",
    "with zipfile.ZipFile('output.zip', 'r',zipfile.ZIP_DEFLATED) as f:\n",
    "    f.setpassword(\" \".encode())"
   ]
  },
  {
   "cell_type": "code",
   "execution_count": 36,
   "metadata": {
    "collapsed": false
   },
   "outputs": [
    {
     "name": "stdout",
     "output_type": "stream",
     "text": [
      "强大的交互执行框架--Jupyter及其支持的几种优秀语言介绍\n",
      "\n",
      "Jupyter 是ipython notebook 脱离ipython项目后的一个独立项目.不同于notebook, Jupyter已经不再只是python的交互执行框架,\n",
      "而是致力于多语言通用的交互执行.\n",
      "\n",
      "在以前 notebook作为ipython的一个子项目就受到许多人的喜爱和追捧,当时就已经可以通过多种途径利用它执行其他非python语言.\n",
      "现在Jupyter 与ipython分家后,这一特性得到了更好的支持.\n",
      "\n",
      "现在的Jupyter只负责交互执行,而执行的是什么语言其实是由其执行核心--kernel 来实现的,而现在的ipython可以自带其执行python版本的python核心.\n",
      "\n",
      "于是顺带的,本文也介绍几种支持Jupyter的优秀的语言.\n",
      "\n",
      "## Jupyter支持的语言:\n",
      "\n",
      "在[这里](https://github.com/ipython/ipython/wiki/IPython-kernels-for-other-languages)你可以看到目前支持的语言.\n",
      "\n",
      "\n",
      "## Jupyter的安装:\n",
      "\n",
      "Jupyter 现在是独立安装.当然,你依然需要装有python 和 pip.\n",
      "\n",
      "\n",
      "    $pip install jupyter\n",
      "\n",
      "如果你用brew 安装的python3,那么自然的\n",
      "\n",
      "    $pip3 install jupyter\n",
      "\n",
      "## 运行\n",
      "\n",
      "    $jupyter notebook\n",
      "\n",
      "\n",
      "    当然了,没有kernel是没法运行的\n",
      "\n",
      "\n",
      "## 几个比较值得安装的的kernel安装:\n",
      "\n",
      "本文中介绍的的kernel只在mac下测试安装成功,在linux下应当都能成功,但windows下未必.\n",
      "欢迎朋友们写下其他平台的经验,我看到也会进行修改,谢谢\n",
      "\n",
      "### 通用依赖\n",
      "几乎所有kernel都需要`zeromq`和`openssl`这两个库,他们都可以用brew安装\n",
      "\n",
      "brew install zeromq\n",
      "brew install openssl\n",
      "\n",
      "> python2与python3并存\n",
      "\n",
      "### 安装依赖\n",
      "\n",
      "python的kernel自然依赖于python.\n",
      "\n",
      "对于新手来说python2和python3并存本身就是件比较纠结蛋碎的事儿,mac下一般会用homebrew安装两个版本\n",
      "(当然也会有人安装其他比如pypy之类,那个咱不管)\n",
      "\n",
      "    $brew install python\n",
      "    $brew install python3\n",
      "\n",
      "\n",
      "如果是这样安装,那python python2 python3对应的便是不同版本的python如下表(可能版本不同有些许不同)\n",
      "\n",
      "命令|python来源|pip命令|库位置\n",
      "---|---|---|---\n",
      "python|brew 安装的 python|pip|/usr/local/lib/python2.7/site-packages\n",
      "python2|brew 安装的 python|pip|/usr/local/lib/python2.7/site-packages\n",
      "python3|brew 安装的 python3|pip3|/usr/local/lib/python3.4/site-packages\n",
      "\n",
      "\n",
      "### 安装kernel\n",
      "\n",
      "**分别安装ipython,在各自环境下执行**\n",
      "\n",
      "    $pip install ipython[all]\n",
      "    $ipython kernelspec install-self\n",
      "    $pip3 install ipython[all]\n",
      "    $ipython kernelspec install-self\n",
      "\n",
      "### 测试下\n",
      "\n",
      "打开Jupyter:\n",
      "\n",
      "    jupyter notebook\n",
      "\n",
      "可以在*new*看到里面出现*Python 2*和*Python 3*两个可选项\n",
      "\n",
      ">Bash\n",
      "\n",
      "Bash 不用多介绍,最通用的shell命令语言,同时它的kernel也是安装起来最简单的kernel了.\n",
      "\n",
      "### 安装Bash-kernel\n",
      "\n",
      "安装Bash-kernel只要用pip工具即可\n",
      "\n",
      "    pip install bash_kernel\n",
      "    python -m bash_kernel.install\n",
      "\n",
      "### 测试下\n",
      "\n",
      "新建一个bash用的notebook\n",
      "在其中的一个cell中输入\n",
      "\n",
      "    for i in {1..5}\n",
      "    do  \n",
      "        echo $i  \n",
      "    done  \n",
      "\n",
      "\n",
      "看看是不是输出了1到5这5个数\n",
      "\n",
      "更多的bash语言细节可以[点击这里查看](http://www.yiibai.com/shell/)\n",
      "\n",
      ">Golang\n",
      "\n",
      "Go语言是谷歌几年前推出的一门编译型语言,它以简洁优雅高,高开发效率,高可维护性和善于处理高并发而著称\n",
      "Go有一套完善的开发流程和语言规范,而在Jupyter下执行Go主要是用于学习其语言特性\n"
     ]
    }
   ],
   "source": [
    "#带密码打开\n",
    "with zipfile.ZipFile('output.zip', 'r',zipfile.ZIP_DEFLATED) as f:\n",
    "    print(f.read('input副本.txt',\" \".encode()).decode(\"utf-8\"))"
   ]
  },
  {
   "cell_type": "code",
   "execution_count": 37,
   "metadata": {
    "collapsed": false
   },
   "outputs": [
    {
     "name": "stdout",
     "output_type": "stream",
     "text": [
      "File Name                                             Modified             Size\n",
      "input副本.txt                                    2016-01-05 13:27:08         3425\n"
     ]
    }
   ],
   "source": [
    "#查看信息\n",
    "with zipfile.ZipFile('output.zip', 'r',zipfile.ZIP_DEFLATED) as f:\n",
    "    f.printdir()"
   ]
  },
  {
   "cell_type": "markdown",
   "metadata": {},
   "source": [
    "## 补充:\n",
    "\n",
    "zip文件格式信息科普:\n",
    "\n",
    "一个 ZIP 文件由三个部分组成：压缩源文件数据区+压缩源文件目录区+压缩源文件目录结束标志 \n",
    "\n",
    "> 压缩源文件数据区 \n",
    "\n",
    "在这个数据区中每一个压缩的源文件/目录都是一条记录，记录的格式如下： [文件头+ 文件数据 + 数据描述符]\n",
    "    \n",
    "+ 文件头结构 \n",
    "\n",
    "组成| 长度 \n",
    "---|---\n",
    "文件头标记| 4 bytes (0x04034b50) \n",
    "解压文件所需 pkware 版本 |2 bytes \n",
    "全局方式位标记 |2 bytes \n",
    "压缩方式 |2 bytes \n",
    "最后修改文件时间 |2 bytes \n",
    "最后修改文件日期 |2 bytes \n",
    "CRC-32校验 |4 bytes \n",
    "压缩后尺寸 |4 bytes \n",
    "未压缩尺寸 |4 bytes \n",
    "文件名长度 |2 bytes \n",
    "扩展记录长度 |2 bytes \n",
    "文件名 |（不定长度） \n",
    "扩展字段 |（不定长度）\n",
    "       \n",
    "+ 文件数据 \n",
    "    \n",
    "+ 数据描述符 \n",
    "    \n",
    "组成 |长度 \n",
    "---|---\n",
    "CRC-32校验 |4 bytes \n",
    "压缩后尺寸 |4 bytes \n",
    "未压缩尺寸 |4 bytes \n",
    "\n",
    "这个数据描述符只在全局方式位标记的第３位设为１时才存在，紧接在压缩数据的最后一个字节后。这个数据描述符只用在不能对输出的 ZIP 文件进行检索时使用。例如：在一个不能检索的驱动器（如：磁带机上）上的 ZIP 文件中。如果是磁盘上的ZIP文件一般没有这个数据描述符。 \n",
    "\n",
    "\n",
    "> 压缩源文件目录区 \n",
    "\n",
    "在这个数据区中每一条纪录对应在压缩源文件数据区中的一条数据 \n",
    "\n",
    " 组成 |长度 \n",
    " ---|---\n",
    "目录中文件文件头标记| 4 bytes (0x02014b50) \n",
    "压缩使用的pkware 版本| 2 bytes \n",
    "解压文件所需 pkware 版本| 2 bytes \n",
    "全局方式位标记 |2 bytes \n",
    "压缩方式| 2 bytes \n",
    "最后修改文件时间| 2 bytes \n",
    "最后修改文件日期 |2 bytes \n",
    "ＣＲＣ－３２校验 |4 bytes \n",
    "压缩后尺寸| 4 bytes \n",
    "未压缩尺寸| 4 bytes \n",
    "文件名长度 |2 bytes \n",
    "扩展字段长度| 2 bytes \n",
    "文件注释长度 |2 bytes \n",
    "磁盘开始号 |2 bytes \n",
    "内部文件属性 |2 bytes \n",
    "外部文件属性 |4 bytes \n",
    "局部头部偏移量 |4 bytes \n",
    "文件名 |（不定长度） \n",
    "扩展字段 |（不定长度） \n",
    "文件注释 |（不定长度） \n",
    "\n",
    "\n",
    "> 压缩源文件目录结束标志 \n",
    "\n",
    "组成 |长度 \n",
    "---|---\n",
    "目录结束标记 |4 bytes (0x02014b50) \n",
    "当前磁盘编号 |2 bytes \n",
    "目录区开始磁盘编号| 2 bytes \n",
    "本磁盘上纪录总数 |2 bytes \n",
    "目录区中纪录总数| 2 bytes \n",
    "目录区尺寸大小 |4 bytes \n",
    "目录区对第一张磁盘的偏移量| 4 bytes \n",
    "ZIP 文件注释长度 |2 bytes \n",
    "ZIP 文件注释 |（不定长度）"
   ]
  }
 ],
 "metadata": {
  "kernelspec": {
   "display_name": "Python 3",
   "language": "python",
   "name": "python3"
  },
  "language_info": {
   "codemirror_mode": {
    "name": "ipython",
    "version": 3
   },
   "file_extension": ".py",
   "mimetype": "text/x-python",
   "name": "python",
   "nbconvert_exporter": "python",
   "pygments_lexer": "ipython3",
   "version": "3.5.0"
  }
 },
 "nbformat": 4,
 "nbformat_minor": 0
}
