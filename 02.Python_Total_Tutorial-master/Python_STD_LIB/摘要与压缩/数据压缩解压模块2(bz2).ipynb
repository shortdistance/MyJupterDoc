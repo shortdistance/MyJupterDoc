{
 "cells": [
  {
   "cell_type": "markdown",
   "metadata": {},
   "source": [
    "# 数据压缩解压模块2(bz2)\n",
    "\n",
    "bz2和zlib差不多,都是压缩模块,只是使用的不同的算法"
   ]
  },
  {
   "cell_type": "code",
   "execution_count": 1,
   "metadata": {
    "collapsed": true
   },
   "outputs": [],
   "source": [
    "import bz2"
   ]
  },
  {
   "cell_type": "markdown",
   "metadata": {},
   "source": [
    "## 压缩和解压一段文字\n",
    "\n",
    "注意压缩只能是bytes类型,在2.7中是str类型,但也最好转成2进制格式"
   ]
  },
  {
   "cell_type": "code",
   "execution_count": 2,
   "metadata": {
    "collapsed": true
   },
   "outputs": [],
   "source": [
    "exa_str=\"\"\"\\\n",
    "网易体育1月5日报道：\n",
    "\n",
    "国际足球历史和统计联合会（IFFHS）今日凌晨在其官网上公布了2015年度世界最佳组织者的评选结果，\\\n",
    "巴塞罗那前锋梅西问鼎，这也是阿根廷人职业生涯首次当选年度最佳组织核心的荣誉。另外，梅西在巴萨的队友\\\n",
    "“小白”伊涅斯塔排在第二位，意大利球星皮尔洛力压切尔西王牌阿扎尔占据第三名的位置。值得一提的是，\\\n",
    "排名前十的球员中有3个来自于皇马。此外，还一同公布了最佳教练的评选，巴萨主帅恩里克力压瓜迪奥拉、阿莱格里等名帅当选。\n",
    "\"\"\""
   ]
  },
  {
   "cell_type": "markdown",
   "metadata": {},
   "source": [
    "> 压缩`compress(data[, level])`\n",
    "\n",
    "level是压缩等级(范围1~9),默认是9,1是最快单压缩最少的,9是最慢但压缩最多得"
   ]
  },
  {
   "cell_type": "code",
   "execution_count": 5,
   "metadata": {
    "collapsed": false
   },
   "outputs": [
    {
     "data": {
      "text/plain": [
       "b'BZh91AY&SY\\'j.f\\x00\\x01 Ny\\x00\\x10z\\x00\\x01`\\x08\\x00\\x7f\\xff\\xff\\xff\\xff\\xf7\\xfd\\xff\\x9f\\xe0\\xb0\\x01\\x9bF\\x93\\x08\\xa9\\xe9\\xa244\\xd3CL\\x8d\\x18\\x9a\\x1ada24\\xd3F\\x86\\x8044\\xd0\\x1a\\xa6\\xa7\\xa4z\\x13F\\xd0 h\\xd3@\\x1a\\x00\\x00\\x01\\xa6\\x80\\x00\\x1a\\x11\\xa9=S\\xcayM=O \\x86\\x8fH\\xf54\\r4\\x19\\x03&\\x83\\xd4\\x06\\xd2y\"s\\x85[\\x9a9],P\\x84\\x8bA\\n\\xf5\\x01\\xa4U\\x84\\xbeB\\xa9\\xd7~\\xe8kP\\x94NUR\\xeb\\xa4\\x80\\x88q\\x04T\\x03\\x0e\\xa9\\xe8\\x18\\xbcZ\"\\xc9\\x11f\\xe4\\x05X\\xf2`\\xc1~\\x941l\\xf0\\xa5\\xcd\\xa4P01Uy\\x9d1\\xe1\\xc6\\x83\\x9e\\\\Q\\xeb\\x00\\x99\\x111\\xa0\\xe2\\xd8\\x17\"sLT\\x86\\xa2\\xd1\\xa8y`r\\xa9\\x8e\\xbf\\xc7\\x13\\x088F\\x8f\\x83\\xb2\\x17\\xc6E(\\xef+\\xec\\xf4@\\xc8G\\xbd\\xca\\x03\\x03\\xab}\\x8c22\\xc1\\x97C\\x1a\\xfa\\xeeZa\\x01\\x02m~\\xe6\\x0e \\xc2\\x9b=\\ra\\xc9n\\xbe\\x04\\xba\\xa5\\x89\\xf1\\xa6F\\x8c\\xaa\\xa5\\xc6s\\x15\\x02^\\xd6\\x92_\\x18\\xb00\\xe3\\xc2 T^b\\xb3x\\x96\\xb7\\x84=\\xdd\\x07@d\\x94\\x856\\x1fJ\\xe9!\\xd9X\\x04X\\x03\\xaa\\xde\\x81\\xe3\\x10\\xd780\\x82\\r\\x97\\xcb\\x87P@\\x0c\\x8a\\x93@\\x88\\x02\\x03\\x9aR\\x08a\\x92\\xff\\x06\\x99\\x15\\xe3NW \\xb0\\x0e\\xc0@\\x85~\\x96\\x88K\\x05\\xb0f~\\x12w\\x0ec\\xdfz\\xf2vd\\xa7\\xed\\xea\\xec\\xe9\\x0e\\xf2P\\xc7\\x9b\\x8c\\xc8oP\\xc8=\\x025\\x14gjt\\xc9\\x1c\\'\\x92\\x13\\x99)F\\xf1<\\x0b\\xf31\\xda\\xa8\\xf5\\x93\\x06\\xe8\\x14\\x828Y\\xda\\x98\\x1b\\x8c\\x12\\x83\\xe2\\x07\\x04Z\\xe4\\xe5\\x10\\xcc\\xb8\\xb8B5U\\xfdI\\x9a\\xef\\xe1]\\xaa\\x8b\\xacD\\xdc\\xd6qC\\xffRnF\\xd0d\\xf1Rmx\\x11\\x81G\\xeaC\\x0c\\xc7\\ta\\xf5\\x9f+Y\\xd7\\x0b\\x8b(\\xe8\\xc3\\xc8\\xeeCi\\xdb1\\xdc\\xb8\\x1bt\\x99\\x9b\\x8c\\nq\\x81@\\x88Sc\\xd7\\x97\\x93\\x19<\\x946\\xc4j}?\\xc7qST\\x0f3\\xfc]\\xc9\\x14\\xe1B@\\x9d\\xa8\\xb9\\x98'"
      ]
     },
     "execution_count": 5,
     "metadata": {},
     "output_type": "execute_result"
    }
   ],
   "source": [
    "b = bz2.compress(exa_str.encode())\n",
    "b "
   ]
  },
  {
   "cell_type": "markdown",
   "metadata": {},
   "source": [
    "> 解压`decompress(data)`"
   ]
  },
  {
   "cell_type": "code",
   "execution_count": 7,
   "metadata": {
    "collapsed": false
   },
   "outputs": [
    {
     "data": {
      "text/plain": [
       "'网易体育1月5日报道：\\n\\n国际足球历史和统计联合会（IFFHS）今日凌晨在其官网上公布了2015年度世界最佳组织者的评选结果，巴塞罗那前锋梅西问鼎，这也是阿根廷人职业生涯首次当选年度最佳组织核心的荣誉。另外，梅西在巴萨的队友“小白”伊涅斯塔排在第二位，意大利球星皮尔洛力压切尔西王牌阿扎尔占据第三名的位置。值得一提的是，排名前十的球员中有3个来自于皇马。此外，还一同公布了最佳教练的评选，巴萨主帅恩里克力压瓜迪奥拉、阿莱格里等名帅当选。\\n'"
      ]
     },
     "execution_count": 7,
     "metadata": {},
     "output_type": "execute_result"
    }
   ],
   "source": [
    "bz2.decompress(b).decode(\"utf-8\")"
   ]
  },
  {
   "cell_type": "code",
   "execution_count": 8,
   "metadata": {
    "collapsed": false
   },
   "outputs": [
    {
     "data": {
      "text/plain": [
       "0.8309409888357256"
      ]
     },
     "execution_count": 8,
     "metadata": {},
     "output_type": "execute_result"
    }
   ],
   "source": [
    "len(b)/len(exa_str.encode())"
   ]
  },
  {
   "cell_type": "markdown",
   "metadata": {},
   "source": [
    "看起来压缩效果并不如`zlib`"
   ]
  },
  {
   "cell_type": "code",
   "execution_count": null,
   "metadata": {
    "collapsed": true
   },
   "outputs": [],
   "source": []
  }
 ],
 "metadata": {
  "kernelspec": {
   "display_name": "Python 3",
   "language": "python",
   "name": "python3"
  },
  "language_info": {
   "codemirror_mode": {
    "name": "ipython",
    "version": 3
   },
   "file_extension": ".py",
   "mimetype": "text/x-python",
   "name": "python",
   "nbconvert_exporter": "python",
   "pygments_lexer": "ipython3",
   "version": "3.5.0"
  }
 },
 "nbformat": 4,
 "nbformat_minor": 0
}
