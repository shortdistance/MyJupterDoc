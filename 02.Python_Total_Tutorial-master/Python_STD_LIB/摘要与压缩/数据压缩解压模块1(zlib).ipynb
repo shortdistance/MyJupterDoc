{
 "cells": [
  {
   "cell_type": "markdown",
   "metadata": {},
   "source": [
    "# 数据压缩解压模块1(zlib)\n",
    "\n",
    "python中的zlib模块提供了压缩和解压缩的方法,压缩和解压说白了就是时间换空间,运算换存储的一种解决方案.zlib是其他压缩模块的基础,它可以压缩bytes(2.7中是str)"
   ]
  },
  {
   "cell_type": "code",
   "execution_count": 3,
   "metadata": {
    "collapsed": true
   },
   "outputs": [],
   "source": [
    "import zlib"
   ]
  },
  {
   "cell_type": "markdown",
   "metadata": {},
   "source": [
    "## 压缩和解压一段文字\n",
    "\n",
    "注意压缩只能是bytes类型,在2.7中是str类型,但也最好转成2进制格式"
   ]
  },
  {
   "cell_type": "code",
   "execution_count": 55,
   "metadata": {
    "collapsed": false
   },
   "outputs": [],
   "source": [
    "exa_str=\"\"\"\\\n",
    "网易体育1月5日报道：\n",
    "\n",
    "国际足球历史和统计联合会（IFFHS）今日凌晨在其官网上公布了2015年度世界最佳组织者的评选结果，\\\n",
    "巴塞罗那前锋梅西问鼎，这也是阿根廷人职业生涯首次当选年度最佳组织核心的荣誉。另外，梅西在巴萨的队友\\\n",
    "“小白”伊涅斯塔排在第二位，意大利球星皮尔洛力压切尔西王牌阿扎尔占据第三名的位置。值得一提的是，\\\n",
    "排名前十的球员中有3个来自于皇马。此外，还一同公布了最佳教练的评选，巴萨主帅恩里克力压瓜迪奥拉、阿莱格里等名帅当选。\n",
    "\"\"\""
   ]
  },
  {
   "cell_type": "markdown",
   "metadata": {},
   "source": [
    "> 压缩`compress(data[, level])`\n",
    "\n",
    "level是压缩等级(范围0~9),默认是6,1是最快单压缩最少的,9是最慢但压缩最多得,0表示不压缩"
   ]
  },
  {
   "cell_type": "code",
   "execution_count": 36,
   "metadata": {
    "collapsed": false
   },
   "outputs": [],
   "source": [
    "z_str=zlib.compress(exa_str.encode())"
   ]
  },
  {
   "cell_type": "code",
   "execution_count": 37,
   "metadata": {
    "collapsed": false
   },
   "outputs": [
    {
     "data": {
      "text/plain": [
       "0.7527910685805422"
      ]
     },
     "execution_count": 37,
     "metadata": {},
     "output_type": "execute_result"
    }
   ],
   "source": [
    "len(z_str)/len(exa_str.encode())"
   ]
  },
  {
   "cell_type": "markdown",
   "metadata": {},
   "source": [
    "可以看到默认level时压缩率在75%的样子"
   ]
  },
  {
   "cell_type": "markdown",
   "metadata": {},
   "source": [
    "> 解压"
   ]
  },
  {
   "cell_type": "code",
   "execution_count": 38,
   "metadata": {
    "collapsed": false
   },
   "outputs": [
    {
     "data": {
      "text/plain": [
       "'网易体育1月5日报道：\\n\\n国际足球历史和统计联合会（IFFHS）今日凌晨在其官网上公布了2015年度世界最佳组织者的评选结果，巴塞罗那前锋梅西问鼎，这也是阿根廷人职业生涯首次当选年度最佳组织核心的荣誉。另外，梅西在巴萨的队友“小白”伊涅斯塔排在第二位，意大利球星皮尔洛力压切尔西王牌阿扎尔占据第三名的位置。值得一提的是，排名前十的球员中有3个来自于皇马。此外，还一同公布了最佳教练的评选，巴萨主帅恩里克力压瓜迪奥拉、阿莱格里等名帅当选。\\n'"
      ]
     },
     "execution_count": 38,
     "metadata": {},
     "output_type": "execute_result"
    }
   ],
   "source": [
    "zlib.decompress(z_str).decode(\"utf-8\")"
   ]
  },
  {
   "cell_type": "markdown",
   "metadata": {},
   "source": [
    "## 压缩对象和解压对象\n",
    "\n",
    "zlib提供方法来自定义压缩和解压器\n",
    " "
   ]
  },
  {
   "cell_type": "markdown",
   "metadata": {},
   "source": [
    "> compressobj([level[, method[, wbits[, memLevel[, strategy]]]]])\n",
    "\n",
    "+ level 压缩等级,范围1~9,默认6\n",
    "+ method 压缩方法,目前只支持默认方法\n",
    "+ wbits  确定窗口缓冲区的大小,范围是8~15,越高效果越好,但占用内存越多\n",
    "+ memLevel 内部压缩状态存储等级,范围1~9,数值越大消耗内存越多,但更快压缩率更高\n",
    "+ strategy 压缩算法相关,可选值有`Z_DEFAULT_STRATEGY`, `Z_FILTERED`,` Z_HUFFMAN_ONLY`"
   ]
  },
  {
   "cell_type": "markdown",
   "metadata": {},
   "source": [
    "> decompressobj(wbits=15)\n",
    "\n",
    "解压器"
   ]
  }
 ],
 "metadata": {
  "kernelspec": {
   "display_name": "Python 3",
   "language": "python",
   "name": "python3"
  },
  "language_info": {
   "codemirror_mode": {
    "name": "ipython",
    "version": 3
   },
   "file_extension": ".py",
   "mimetype": "text/x-python",
   "name": "python",
   "nbconvert_exporter": "python",
   "pygments_lexer": "ipython3",
   "version": "3.5.0"
  }
 },
 "nbformat": 4,
 "nbformat_minor": 0
}
