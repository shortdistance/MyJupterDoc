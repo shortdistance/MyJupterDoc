{
 "cells": [
  {
   "cell_type": "markdown",
   "metadata": {},
   "source": [
    "# tar文件压缩解压(tarfile)\n",
    "\n",
    "这次的是对tar文件的压缩解压模块"
   ]
  },
  {
   "cell_type": "markdown",
   "metadata": {},
   "source": [
    "> `Tarfile.open(cls, name=None, mode='r', fileobj=None, bufsize=10240, **kwargs)`\n",
    "\n",
    "  mode:\n",
    "  \n",
    "    'r' or 'r:*' open for reading with transparent compression\n",
    "    'r:'         open for reading exclusively uncompressed\n",
    "    'r:gz'       open for reading with gzip compression\n",
    "    'r:bz2'      open for reading with bzip2 compression\n",
    "    'a' or 'a:'  open for appending, creating the file if necessary\n",
    "    'w' or 'w:'  open for writing without compression\n",
    "    'w:gz'       open for writing with gzip compression\n",
    "    'w:bz2'      open for writing with bzip2 compression\n",
    "   \n",
    "    'r|*'        open a stream of tar blocks with transparent compression\n",
    "    'r|'         open an uncompressed stream of tar blocks for reading\n",
    "    'r|gz'       open a gzip compressed stream of tar blocks\n",
    "    'r|bz2'      open a bzip2 compressed stream of tar blocks\n",
    "    'w|'         open an uncompressed stream for writing\n",
    "    'w|gz'       open a gzip compressed stream for writing\n",
    "    'w|bz2'      open a bzip2 compressed stream for writing\n",
    " "
   ]
  },
  {
   "cell_type": "markdown",
   "metadata": {},
   "source": [
    "## 创建压缩包"
   ]
  },
  {
   "cell_type": "code",
   "execution_count": 3,
   "metadata": {
    "collapsed": true
   },
   "outputs": [],
   "source": [
    "import os"
   ]
  },
  {
   "cell_type": "code",
   "execution_count": 4,
   "metadata": {
    "collapsed": true
   },
   "outputs": [],
   "source": [
    "with tarfile.open(\"tartest.tar.gz\",\"w:gz\") as tar:\n",
    "    for root,dir,files in os.walk(\"in\"):\n",
    "        for file in files:\n",
    "            fullpath = os.path.join(root,file)\n",
    "            tar.add(fullpath)\n"
   ]
  },
  {
   "cell_type": "markdown",
   "metadata": {},
   "source": [
    "## 解压"
   ]
  },
  {
   "cell_type": "code",
   "execution_count": 5,
   "metadata": {
    "collapsed": true
   },
   "outputs": [],
   "source": [
    "with tarfile.open(\"tartest.tar.gz\") as tar:\n",
    "    names = tar.getnames()\n",
    "    for name in names:\n",
    "       tar.extract(name,path=\"out\")"
   ]
  },
  {
   "cell_type": "code",
   "execution_count": null,
   "metadata": {
    "collapsed": true
   },
   "outputs": [],
   "source": []
  }
 ],
 "metadata": {
  "kernelspec": {
   "display_name": "Python 3",
   "language": "python",
   "name": "python3"
  },
  "language_info": {
   "codemirror_mode": {
    "name": "ipython",
    "version": 3
   },
   "file_extension": ".py",
   "mimetype": "text/x-python",
   "name": "python",
   "nbconvert_exporter": "python",
   "pygments_lexer": "ipython3",
   "version": "3.5.0"
  }
 },
 "nbformat": 4,
 "nbformat_minor": 0
}
