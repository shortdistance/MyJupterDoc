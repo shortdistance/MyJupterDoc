{
 "cells": [
  {
   "cell_type": "markdown",
   "metadata": {},
   "source": [
    "# gzip文件压缩解压(gzip)\n",
    "\n",
    "gzip模块是用来压缩解压gzip文件的用法很简单"
   ]
  },
  {
   "cell_type": "code",
   "execution_count": 1,
   "metadata": {
    "collapsed": true
   },
   "outputs": [],
   "source": [
    "import gzip"
   ]
  },
  {
   "cell_type": "markdown",
   "metadata": {},
   "source": [
    "## 压缩"
   ]
  },
  {
   "cell_type": "code",
   "execution_count": 8,
   "metadata": {
    "collapsed": true
   },
   "outputs": [],
   "source": [
    "content = \"\"\" 强大的交互执行框架--Jupyter及其支持的几种优秀语言介绍\n",
    "\n",
    "Jupyter 是ipython notebook 脱离ipython项目后的一个独立项目.不同于notebook, Jupyter已经不再只是python的交互执行框架,\n",
    "而是致力于多语言通用的交互执行.\n",
    "\n",
    "在以前 notebook作为ipython的一个子项目就受到许多人的喜爱和追捧,当时就已经可以通过多种途径利用它执行其他非python语言.\n",
    "现在Jupyter 与ipython分家后,这一特性得到了更好的支持.\n",
    "\n",
    "现在的Jupyter只负责交互执行,而执行的是什么语言其实是由其执行核心--kernel 来实现的,而现在的ipython可以自带其执行python版本的python核心.\n",
    "\n",
    "于是顺带的,本文也介绍几种支持Jupyter的优秀的语言.\n",
    "\n",
    "## Jupyter支持的语言:\n",
    "\n",
    "在[这里](https://github.com/ipython/ipython/wiki/IPython-kernels-for-other-languages)你可以看到目前支持的语言.\n",
    "\n",
    "\n",
    "## Jupyter的安装:\n",
    "\n",
    "Jupyter 现在是独立安装.当然,你依然需要装有python 和 pip.\n",
    "\n",
    "\n",
    "    $pip install jupyter\n",
    "\n",
    "如果你用brew 安装的python3,那么自然的\n",
    "\n",
    "    $pip3 install jupyter\n",
    "\n",
    "## 运行\n",
    "\n",
    "    $jupyter notebook\n",
    "\n",
    "\n",
    "    当然了,没有kernel是没法运行的\n",
    "\n",
    "\n",
    "## 几个比较值得安装的的kernel安装:\n",
    "\n",
    "本文中介绍的的kernel只在mac下测试安装成功,在linux下应当都能成功,但windows下未必.\n",
    "欢迎朋友们写下其他平台的经验,我看到也会进行修改,谢谢\n",
    "\n",
    "### 通用依赖\n",
    "几乎所有kernel都需要`zeromq`和`openssl`这两个库,他们都可以用brew安装\n",
    "\n",
    "brew install zeromq\n",
    "brew install openssl\n",
    "\n",
    "> python2与python3并存\n",
    "\n",
    "### 安装依赖\n",
    "\n",
    "python的kernel自然依赖于python.\n",
    "\n",
    "对于新手来说python2和python3并存本身就是件比较纠结蛋碎的事儿,mac下一般会用homebrew安装两个版本\n",
    "(当然也会有人安装其他比如pypy之类,那个咱不管)\n",
    "\n",
    "    $brew install python\n",
    "    $brew install python3\n",
    "\n",
    "\n",
    "如果是这样安装,那python python2 python3对应的便是不同版本的python如下表(可能版本不同有些许不同)\n",
    "\n",
    "命令|python来源|pip命令|库位置\n",
    "---|---|---|---\n",
    "python|brew 安装的 python|pip|/usr/local/lib/python2.7/site-packages\n",
    "python2|brew 安装的 python|pip|/usr/local/lib/python2.7/site-packages\n",
    "python3|brew 安装的 python3|pip3|/usr/local/lib/python3.4/site-packages\n",
    "\n",
    "\n",
    "### 安装kernel\n",
    "\n",
    "**分别安装ipython,在各自环境下执行**\n",
    "\n",
    "    $pip install ipython[all]\n",
    "    $ipython kernelspec install-self\n",
    "    $pip3 install ipython[all]\n",
    "    $ipython kernelspec install-self\n",
    "\n",
    "### 测试下\n",
    "\n",
    "打开Jupyter:\n",
    "\n",
    "    jupyter notebook\n",
    "\n",
    "可以在*new*看到里面出现*Python 2*和*Python 3*两个可选项\n",
    "\n",
    ">Bash\n",
    "\n",
    "Bash 不用多介绍,最通用的shell命令语言,同时它的kernel也是安装起来最简单的kernel了.\n",
    "\n",
    "### 安装Bash-kernel\n",
    "\n",
    "安装Bash-kernel只要用pip工具即可\n",
    "\n",
    "    pip install bash_kernel\n",
    "    python -m bash_kernel.install\n",
    "\n",
    "### 测试下\n",
    "\n",
    "新建一个bash用的notebook\n",
    "在其中的一个cell中输入\n",
    "\n",
    "    for i in {1..5}\n",
    "    do  \n",
    "        echo $i  \n",
    "    done  \n",
    "\n",
    "\n",
    "看看是不是输出了1到5这5个数\n",
    "\n",
    "更多的bash语言细节可以[点击这里查看](http://www.yiibai.com/shell/)\n",
    "\n",
    ">Golang\n",
    "\n",
    "Go语言是谷歌几年前推出的一门编译型语言,它以简洁优雅高,高开发效率,高可维护性和善于处理高并发而著称\n",
    "Go有一套完善的开发流程和语言规范,而在Jupyter下执行Go主要是用于学习其语言特性\n",
    "\"\"\""
   ]
  },
  {
   "cell_type": "code",
   "execution_count": 9,
   "metadata": {
    "collapsed": false
   },
   "outputs": [],
   "source": [
    "with gzip.open('Jupyter.md.gz', 'wb') as f:\n",
    "    f.write(content.encode())"
   ]
  },
  {
   "cell_type": "markdown",
   "metadata": {},
   "source": [
    "## 解压 "
   ]
  },
  {
   "cell_type": "code",
   "execution_count": 10,
   "metadata": {
    "collapsed": true
   },
   "outputs": [],
   "source": [
    "with gzip.open('Jupyter.md.gz', 'rb') as f:\n",
    "    file_content = f.read()"
   ]
  },
  {
   "cell_type": "code",
   "execution_count": 11,
   "metadata": {
    "collapsed": false
   },
   "outputs": [
    {
     "data": {
      "text/plain": [
       "' 强大的交互执行框架--Jupyter及其支持的几种优秀语言介绍\\n\\nJupyter 是ipython notebook 脱离ipython项目后的一个独立项目.不同于notebook, Jupyter已经不再只是python的交互执行框架,\\n而是致力于多语言通用的交互执行.\\n\\n在以前 notebook作为ipython的一个子项目就受到许多人的喜爱和追捧,当时就已经可以通过多种途径利用它执行其他非python语言.\\n现在Jupyter 与ipython分家后,这一特性得到了更好的支持.\\n\\n现在的Jupyter只负责交互执行,而执行的是什么语言其实是由其执行核心--kernel 来实现的,而现在的ipython可以自带其执行python版本的python核心.\\n\\n于是顺带的,本文也介绍几种支持Jupyter的优秀的语言.\\n\\n## Jupyter支持的语言:\\n\\n在[这里](https://github.com/ipython/ipython/wiki/IPython-kernels-for-other-languages)你可以看到目前支持的语言.\\n\\n\\n## Jupyter的安装:\\n\\nJupyter 现在是独立安装.当然,你依然需要装有python 和 pip.\\n\\n\\n    $pip install jupyter\\n\\n如果你用brew 安装的python3,那么自然的\\n\\n    $pip3 install jupyter\\n\\n## 运行\\n\\n    $jupyter notebook\\n\\n\\n    当然了,没有kernel是没法运行的\\n\\n\\n## 几个比较值得安装的的kernel安装:\\n\\n本文中介绍的的kernel只在mac下测试安装成功,在linux下应当都能成功,但windows下未必.\\n欢迎朋友们写下其他平台的经验,我看到也会进行修改,谢谢\\n\\n### 通用依赖\\n几乎所有kernel都需要`zeromq`和`openssl`这两个库,他们都可以用brew安装\\n\\nbrew install zeromq\\nbrew install openssl\\n\\n> python2与python3并存\\n\\n### 安装依赖\\n\\npython的kernel自然依赖于python.\\n\\n对于新手来说python2和python3并存本身就是件比较纠结蛋碎的事儿,mac下一般会用homebrew安装两个版本\\n(当然也会有人安装其他比如pypy之类,那个咱不管)\\n\\n    $brew install python\\n    $brew install python3\\n\\n\\n如果是这样安装,那python python2 python3对应的便是不同版本的python如下表(可能版本不同有些许不同)\\n\\n命令|python来源|pip命令|库位置\\n---|---|---|---\\npython|brew 安装的 python|pip|/usr/local/lib/python2.7/site-packages\\npython2|brew 安装的 python|pip|/usr/local/lib/python2.7/site-packages\\npython3|brew 安装的 python3|pip3|/usr/local/lib/python3.4/site-packages\\n\\n\\n### 安装kernel\\n\\n**分别安装ipython,在各自环境下执行**\\n\\n    $pip install ipython[all]\\n    $ipython kernelspec install-self\\n    $pip3 install ipython[all]\\n    $ipython kernelspec install-self\\n\\n### 测试下\\n\\n打开Jupyter:\\n\\n    jupyter notebook\\n\\n可以在*new*看到里面出现*Python 2*和*Python 3*两个可选项\\n\\n>Bash\\n\\nBash 不用多介绍,最通用的shell命令语言,同时它的kernel也是安装起来最简单的kernel了.\\n\\n### 安装Bash-kernel\\n\\n安装Bash-kernel只要用pip工具即可\\n\\n    pip install bash_kernel\\n    python -m bash_kernel.install\\n\\n### 测试下\\n\\n新建一个bash用的notebook\\n在其中的一个cell中输入\\n\\n    for i in {1..5}\\n    do  \\n        echo $i  \\n    done  \\n\\n\\n看看是不是输出了1到5这5个数\\n\\n更多的bash语言细节可以[点击这里查看](http://www.yiibai.com/shell/)\\n\\n>Golang\\n\\nGo语言是谷歌几年前推出的一门编译型语言,它以简洁优雅高,高开发效率,高可维护性和善于处理高并发而著称\\nGo有一套完善的开发流程和语言规范,而在Jupyter下执行Go主要是用于学习其语言特性\\n'"
      ]
     },
     "execution_count": 11,
     "metadata": {},
     "output_type": "execute_result"
    }
   ],
   "source": [
    "file_content.decode(\"utf-8\")"
   ]
  },
  {
   "cell_type": "markdown",
   "metadata": {},
   "source": [
    "## 文件压缩"
   ]
  },
  {
   "cell_type": "code",
   "execution_count": 12,
   "metadata": {
    "collapsed": true
   },
   "outputs": [],
   "source": [
    "import shutil\n",
    "with open('input.txt', 'rb') as f_in, gzip.open('output.txt.gz', 'wb') as f_out:\n",
    "    shutil.copyfileobj(f_in, f_out)"
   ]
  }
 ],
 "metadata": {
  "kernelspec": {
   "display_name": "Python 3",
   "language": "python",
   "name": "python3"
  },
  "language_info": {
   "codemirror_mode": {
    "name": "ipython",
    "version": 3
   },
   "file_extension": ".py",
   "mimetype": "text/x-python",
   "name": "python",
   "nbconvert_exporter": "python",
   "pygments_lexer": "ipython3",
   "version": "3.5.0"
  }
 },
 "nbformat": 4,
 "nbformat_minor": 0
}
