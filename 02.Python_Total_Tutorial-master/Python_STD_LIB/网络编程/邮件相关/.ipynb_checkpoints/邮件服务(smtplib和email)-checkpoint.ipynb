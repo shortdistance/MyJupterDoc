{
 "cells": [
  {
   "cell_type": "markdown",
   "metadata": {},
   "source": [
    "# 邮件服务(smtplib和email)\n",
    "\n",
    "SMTP是发送邮件的协议，Python内置对SMTP的支持，可以发送纯文本邮件、HTML邮件以及带附件的邮件。\n",
    "\n",
    "Python对SMTP支持有smtplib和email两个模块，email负责构造邮件，smtplib负责发送邮件。\n",
    "\n",
    ">构造一个最简单的纯文本邮件 "
   ]
  },
  {
   "cell_type": "code",
   "execution_count": null,
   "metadata": {
    "collapsed": true
   },
   "outputs": [],
   "source": [
    "from email.mime.text import MIMEText\n",
    "msg = MIMEText('hello, send by Python...', 'plain', 'utf-8')"
   ]
  },
  {
   "cell_type": "markdown",
   "metadata": {},
   "source": [
    "+ 第一个参数就是邮件正文\n",
    "+ 第二个参数是MIME的subtype，传入'plain'，最终的MIME就是'text/plain'\n",
    "+ 最后一定要用utf-8编码保证多语言兼容性"
   ]
  },
  {
   "cell_type": "markdown",
   "metadata": {},
   "source": [
    "我们用set_debuglevel(1)就可以打印出和SMTP服务器交互的所有信息。SMTP协议就是简单的文本命令和响应。login()方法用来登录SMTP服务器，sendmail()方法就是发邮件，由于可以一次发给多个人，所以传入一个list，邮件正文是一个str，as_string()把MIMEText对象变成str。\n",
    "\n",
    "\n",
    "邮件主题、如何显示发件人、收件人等信息并不是通过SMTP协议发给MTA，而是包含在发给MTA的文本中的，所以，我们必须把From、To和Subject添加到MIMEText中，才是一封完整的邮件："
   ]
  },
  {
   "cell_type": "markdown",
   "metadata": {
    "collapsed": true
   },
   "source": [
    "    # -*- coding: utf-8 -*-\n",
    "\n",
    "    from email import encoders\n",
    "    from email.header import Header\n",
    "    from email.mime.text import MIMEText\n",
    "    from email.utils import parseaddr, formataddr\n",
    "    import smtplib\n",
    "\n",
    "    def _format_addr(s):\n",
    "        name, addr = parseaddr(s)\n",
    "        return formataddr(( \\\n",
    "            Header(name, 'utf-8').encode(), \\\n",
    "            addr.encode('utf-8') if isinstance(addr, unicode) else addr))\n",
    "\n",
    "    from_addr = raw_input('From: ')\n",
    "    password = raw_input('Password: ')\n",
    "    to_addr = raw_input('To: ')\n",
    "    smtp_server = raw_input('SMTP server: ')\n",
    "\n",
    "    msg = MIMEText('hello, send by Python...', 'plain', 'utf-8')\n",
    "    msg['From'] = _format_addr(u'Python爱好者 <%s>' % from_addr)\n",
    "    msg['To'] = _format_addr(u'管理员 <%s>' % to_addr)\n",
    "    msg['Subject'] = Header(u'来自SMTP的问候……', 'utf-8').encode()\n",
    "\n",
    "    server = smtplib.SMTP(smtp_server, 25)\n",
    "    server.set_debuglevel(1)\n",
    "    server.login(from_addr, password)\n",
    "    server.sendmail(from_addr, [to_addr], msg.as_string())\n",
    "    server.quit()\n"
   ]
  },
  {
   "cell_type": "markdown",
   "metadata": {},
   "source": [
    "> 发送HTML邮件\n",
    "\n",
    "如果我们要发送HTML邮件，而不是普通的纯文本文件怎么办？方法很简单，在构造MIMEText对象时，把HTML字符串传进去，再把第二个参数由plain变为html就可以了："
   ]
  },
  {
   "cell_type": "markdown",
   "metadata": {},
   "source": [
    "    msg = MIMEText('<html><body><h1>Hello</h1>' +\n",
    "        '<p>send by <a href=\"http://www.python.org\">Python</a>...</p>' +\n",
    "        '</body></html>', 'html', 'utf-8')"
   ]
  },
  {
   "cell_type": "markdown",
   "metadata": {},
   "source": [
    "> 发送附件\n",
    "\n",
    "如果Email中要加上附件怎么办？带附件的邮件可以看做包含若干部分的邮件：文本和各个附件本身，所以，可以构造一个MIMEMultipart对象代表邮件本身，然后往里面加上一个MIMEText作为邮件正文，再继续往里面加上表示附件的MIMEBase对象即可："
   ]
  },
  {
   "cell_type": "code",
   "execution_count": null,
   "metadata": {
    "collapsed": true
   },
   "outputs": [],
   "source": [
    "#发送附件 ,要添加\n",
    "from email.MIMEMultipart import MIMEMultipart \n",
    "from email.MIMEBase import MIMEBase\n",
    "\n",
    "# 邮件对象:\n",
    "msg = MIMEMultipart()\n",
    "msg['From'] = _format_addr(u'Python爱好者 <%s>' % from_addr)\n",
    "msg['To'] = _format_addr(u'管理员 <%s>' % to_addr)\n",
    "msg['Subject'] = Header(u'来自SMTP的问候……', 'utf-8').encode()\n",
    "\n",
    "# 邮件正文是MIMEText:\n",
    "msg.attach(MIMEText('send with file...', 'plain', 'utf-8'))\n",
    "\n",
    "# 添加附件就是加上一个MIMEBase，从本地读取一个图片:\n",
    "with open('/Users/michael/Downloads/test.png', 'rb') as f:\n",
    "    # 设置附件的MIME和文件名，这里是png类型:\n",
    "    mime = MIMEBase('image', 'png', filename='test.png')\n",
    "    # 加上必要的头信息:\n",
    "    mime.add_header('Content-Disposition', 'attachment', filename='test.png')\n",
    "    mime.add_header('Content-ID', '<0>')\n",
    "    mime.add_header('X-Attachment-Id', '0')\n",
    "    # 把附件的内容读进来:\n",
    "    mime.set_payload(f.read())\n",
    "    # 用Base64编码:\n",
    "    encoders.encode_base64(mime)\n",
    "    # 添加到MIMEMultipart:\n",
    "    msg.attach(mime)"
   ]
  },
  {
   "cell_type": "markdown",
   "metadata": {},
   "source": [
    "> 发送图片\n",
    "\n",
    "如果要把一个图片嵌入到邮件正文中怎么做？直接在HTML邮件中链接图片地址行不行？答案是，大部分邮件服务商都会自动屏蔽带有外链的图片，因为不知道这些链接是否指向恶意网站。\n",
    "\n",
    "要把图片嵌入到邮件正文中，我们只需按照发送附件的方式，先把邮件作为附件添加进去，然后，在HTML中通过引用\n",
    "\n",
    "\n",
    "    src=\"cid:0\"就可以把附件作为图片嵌入了。如果有多个图片，给它们依次编号，然后引用不同的cid:x即可。\n",
    "\n",
    "把上面代码加入MIMEMultipart的MIMEText从plain改为html，然后在适当的位置引用图片"
   ]
  },
  {
   "cell_type": "markdown",
   "metadata": {},
   "source": [
    "    msg.attach(MIMEText('<html><body><h1>Hello</h1>' +\n",
    "        '<p><img src=\"cid:0\"></p>' +\n",
    "        '</body></html>', 'html', 'utf-8'))"
   ]
  },
  {
   "cell_type": "markdown",
   "metadata": {},
   "source": [
    "> 同时支持HTML和Plain格式\n",
    "\n",
    "如果我们发送HTML邮件，收件人通过浏览器或者Outlook之类的软件是可以正常浏览邮件内容的，但是，如果收件人使用的设备太古老，查看不了HTML邮件怎么办？\n",
    "\n",
    "办法是在发送HTML的同时再附加一个纯文本，如果收件人无法查看HTML格式的邮件，就可以自动降级查看纯文本邮件。\n",
    "\n",
    "利用MIMEMultipart就可以组合一个HTML和Plain，要注意指定subtype是alternative：\n",
    "\n",
    "    msg = MIMEMultipart('alternative')\n",
    "    msg['From'] = ...\n",
    "    msg['To'] = ...\n",
    "    msg['Subject'] = ...\n",
    "\n",
    "    msg.attach(MIMEText('hello', 'plain', 'utf-8'))\n",
    "    msg.attach(MIMEText('<html><body><h1>Hello</h1></body></html>', 'html', 'utf-8'))\n"
   ]
  },
  {
   "cell_type": "markdown",
   "metadata": {},
   "source": [
    "> 加密SMTP\n",
    "\n",
    "使用标准的25端口连接SMTP服务器时，使用的是明文传输，发送邮件的整个过程可能会被窃听。要更安全地发送邮件，可以加密SMTP会话，实际上就是先创建SSL安全连接，然后再使用SMTP协议发送邮件。\n",
    "\n",
    "某些邮件服务商，例如Gmail，提供的SMTP服务必须要加密传输。我们来看看如何通过Gmail提供的安全SMTP发送邮件。\n",
    "\n",
    "必须知道，Gmail的SMTP端口是587，因此，修改代码如下：\n",
    "\n",
    "    smtp_server = 'smtp.gmail.com'\n",
    "    smtp_port = 587\n",
    "    server = smtplib.SMTP(smtp_server, smtp_port)\n",
    "    server.starttls()\n",
    "    # 剩下的代码和前面的一模一样:\n",
    "    server.set_debuglevel(1)\n",
    "    ..."
   ]
  },
  {
   "cell_type": "markdown",
   "metadata": {
    "collapsed": true
   },
   "source": [
    "> 写一个163邮箱的发送方法"
   ]
  },
  {
   "cell_type": "code",
   "execution_count": 1,
   "metadata": {
    "collapsed": false
   },
   "outputs": [
    {
     "name": "stdout",
     "output_type": "stream",
     "text": [
      "Overwriting email_sender.py\n"
     ]
    }
   ],
   "source": [
    "%%writefile email_sender.py\n",
    "#--*--coding:utf-8 --*--\n",
    "from __future__ import absolute_import,division,print_function,unicode_literals\n",
    "class EmailServer(object):\n",
    "    \"\"\"定义邮箱服务器\"\"\"\n",
    "    def __str__(self):\n",
    "        return \"stmp server [\"+self.smtp_server+\":\"+self.smtp_port+\"]\"+(\"with tls\" if self.tls == True else \"\")\n",
    "    def __repr__(self):\n",
    "        return self.__str__()\n",
    "    def __init__(self,smtp_server,smtp_port,tls=False):\n",
    "        self.smtp_server = smtp_server\n",
    "        self.smtp_port = smtp_port\n",
    "        self.tls = tls\n",
    "        \n",
    "    def setclient(self,from_addr, password):\n",
    "        \"\"\"设置客户端与邮件服务器间的链接\n",
    "        \"\"\"\n",
    "        from smtplib import SMTP \n",
    "        email_client = SMTP(self.smtp_server, self.smtp_port) \n",
    "        if self.tls == True:\n",
    "            email_client.starttls()\n",
    "        email_client.set_debuglevel(1)\n",
    "        email_client.login(from_addr, password)\n",
    "        return email_client\n",
    "    \n",
    "class EmailSender(object):\n",
    "    \"\"\"邮件发送器,需要用发件邮箱的账号密码来初始化,之后可以调用实例实现发送\n",
    "    \"\"\"\n",
    "    server = EmailServer(None,None,False)\n",
    "    def __str__(self):\n",
    "        return \"sender {sender} at [{server}:{port}]{tls}\".format(sender = self.sender_addr,\n",
    "                                                                 server = self.server.smtp_server,\n",
    "                                                                 port = self.server.smtp_port,\n",
    "                                                                 tls = \"with tls\" if self.server.tls == True else \"\")\n",
    "    def __repr__(self):\n",
    "        return self.__str__()\n",
    "    def __init__(self,sender_addr,password):\n",
    "        self.sender_addr = sender_addr\n",
    "        self.password = password\n",
    "        \n",
    "    def setServer(self,server):\n",
    "        self.server = server\n",
    "    def setServerByAttr(self,smtp_server,smtp_port,tls=False):\n",
    "        self.server = EmailServer(smtp_server,smtp_port,tls)\n",
    "\n",
    "    #格式化文本\n",
    "    def _format_addr(self,s):\n",
    "        from email.header import Header\n",
    "        from email.utils import parseaddr, formataddr\n",
    "        name, addr = parseaddr(s)\n",
    "        import sys\n",
    "        if sys.version_info <(3,0):\n",
    "            return formataddr(( Header(name, 'utf-8').encode(),\n",
    "                               addr.encode('utf-8') if isinstance(addr, unicode) else addr))\n",
    "        else:\n",
    "            return formataddr((Header(name, 'utf-8').encode(), addr))\n",
    "        \n",
    "    def _add_attachment(self,file_type,extension,name,aid):\n",
    "        from email import encoders\n",
    "        try:\n",
    "            from email.mime.base import MIMEBase \n",
    "        except:\n",
    "            from email.MIMEBase import MIMEBase\n",
    "        with open(path, 'rb') as f:\n",
    "            # 设置附件的MIME和文件名，这里是png类型:\n",
    "            mime = MIMEBase(file_type, extension, filename=name)\n",
    "            # 加上必要的头信息:\n",
    "            mime.add_header('Content-Disposition', 'attachment', filename=name)\n",
    "            mime.add_header('Content-ID', '<{i}>'.format(i=aid))\n",
    "            mime.add_header('X-Attachment-Id', '{i}'.format(i=aid))\n",
    "                # 把附件的内容读进来:\n",
    "            mime.set_payload(f.read())\n",
    "                # 用Base64编码:\n",
    "            encoders.encode_base64(mime)\n",
    "        return mime\n",
    "    \n",
    "    def _make_msg(self,to_addr,\n",
    "                 subject = None,\n",
    "                 header = {'FROM':None,\n",
    "                          'TO':None},\n",
    "                 content = {\"plain\":None,\n",
    "                            \"html\":None},\n",
    "                 attachments=None):\n",
    "        from email.header import Header\n",
    "        from email.mime.text import MIMEText\n",
    "        try:\n",
    "            from email.mime.multipart import MIMEMultipart \n",
    "        except:\n",
    "            from email.MIMEMultipart import MIMEMultipart\n",
    "        import re\n",
    "        # 创建内容\n",
    "        msg = MIMEMultipart('alternative') \n",
    "        msg['From'] = self._format_addr('{from_addr}'.\\\n",
    "                        format(from_addr=self.sender_addr) if (header.get('FROM') is None) else '{From} {from_addr}'.\\\n",
    "                                 format(From=header.get('FROM'),from_addr=self.sender_addr))\n",
    "        msg['To'] = self._format_addr('{to_addr}'.\\\n",
    "                               format(to_addr=to_addr) if (header.get('TO') is None) else '{to} {to_addr}'.\\\n",
    "                                 format(to=header.get('TO'),to_addr=to_addr))\n",
    "        msg['Subject'] = Header(subject, 'utf-8').encode()\n",
    "            \n",
    "        #附件    \n",
    "        if attachments != None:\n",
    "            import os\n",
    "            for i in range(len(attachments)): \n",
    "                file_type = attachments[i][0]\n",
    "                path = attachments[i][1]\n",
    "                _,extension = os.path.splitext(path)\n",
    "                _,name = os.path.split(path)\n",
    "                mine = self._add_attachment(file_type,extension,name,str(i))\n",
    "                msg.attach(mime)\n",
    "        #正文        \n",
    "        if content.get(\"plain\"):\n",
    "            msg.attach(MIMEText(content.get(\"plain\"), 'plain', 'utf-8'))\n",
    "        if content.get(\"html\"):\n",
    "            html=content.get(\"html\")\n",
    "            img_paths = re.findall('<img src=\"(.*?)\">', html)\n",
    "            if img_paths:\n",
    "                img_ids = [\"img\"+str(i) for i in range(len(img_paths))]\n",
    "                result,number = re.subn('<img src=\"(.*?)\">', \"\"\"'<img src=\"%s\">'\"\"\", html) \n",
    "                import os\n",
    "                for i in range(number): \n",
    "                    file_type = \"img\"\n",
    "                    path = img_paths[i]\n",
    "                    _,extension = os.path.splitext(path)\n",
    "                    _,name = os.path.split(path)\n",
    "                    mine = self._add_attachment(file_type,extension,name,img_ids[i])\n",
    "                    msg.attach(mime)\n",
    "\n",
    "                res=result%tuple([\"cid:{i}\".format(i=i) for i in range(number)])\n",
    "            else:\n",
    "                res=html\n",
    "            msg.attach(MIMEText(res, 'html', 'utf-8'))\n",
    "        return msg\n",
    "    def _send(self,to_addrs,client,msg):\n",
    "        client.sendmail(self.sender_addr,to_addrs, msg.as_string())\n",
    "        return True\n",
    "\n",
    "    def __call__(self,to_addrs,\n",
    "                 subject = None,\n",
    "                 header = {'FROM':None,\n",
    "                          'TO':None},\n",
    "                 content = {\"plain\":None,\n",
    "                            \"html\":None},\n",
    "                 attachments=None):\n",
    "        \"\"\"\n",
    "        to_addrs -- 接收邮箱\n",
    "        subject -- 主题\n",
    "        header -- 头部,记录用户的昵称等,必须是一个\n",
    "                            {'FROM':None,\n",
    "                              'TO':None}\n",
    "                            形式的字典\n",
    "        content -- 主体内容,分为一般文本和html两种,必须是一个\n",
    "                                {\"plain\":None,\n",
    "                                \"html\":None}\n",
    "                            形式的字典\n",
    "        attachments -- 附件(类型,本地文件地址)\n",
    "        \"\"\"\n",
    "        #判断是否为空\n",
    "        if subject is None :\n",
    "            print('subject is None.')\n",
    "            return False \n",
    "        if (content.get(\"plain\") is None) and (content.get(\"html\") is None): \n",
    "            print('content is None.')\n",
    "            return False \n",
    "        for to_addr in to_addrs:\n",
    "            msg = self._make_msg(to_addr,subject,header,content,attachments)\n",
    "            client = self.server.setclient(self.sender_addr,self.password)\n",
    "            self._send(to_addrs,client,msg)\n",
    "        client.quit()\n",
    "        return True\n",
    "    \n",
    "class Sender_163(EmailSender):\n",
    "     def __init__(self,sender_addr,password):\n",
    "        EmailSender.__init__(self,sender_addr,password)\n",
    "        self.setServerByAttr(smtp_server=\"smtp.163.com\",smtp_port=\"25\",tls=False)\n",
    "            \n",
    "class Sender_163_tls(EmailSender): \n",
    "    def __init__(self,sender_addr,password):\n",
    "        EmailSender.__init__(self,sender_addr,password)\n",
    "        self.setServerByAttr(smtp_server=\"smtp.163.com\",smtp_port=\"465\",tls=True)\n",
    "        \n",
    "class Sender_gmail(EmailSender):\n",
    "    def __init__(self,sender_addr,password):\n",
    "        EmailSender.__init__(self,sender_addr,password)\n",
    "        self.setServerByAttr(smtp_server=\"smtp.googlemail.com\",smtp_port=\"587\",tls=True)\n",
    "\n",
    "class Sender_sinacn_tls(EmailSender): \n",
    "    def __init__(self,sender_addr,password):\n",
    "        EmailSender.__init__(self,sender_addr,password)\n",
    "        self.setServerByAttr(smtp_server=\"smtp.sina.cn\",smtp_port=\"465\",tls=True)\n",
    "class Sender_sinacn(EmailSender): \n",
    "    def __init__(self,sender_addr,password):\n",
    "        EmailSender.__init__(self,sender_addr,password)\n",
    "        self.setServerByAttr(smtp_server=\"smtp.sina.cn\",smtp_port=\"25\",tls=False)"
   ]
  },
  {
   "cell_type": "code",
   "execution_count": 2,
   "metadata": {
    "collapsed": false
   },
   "outputs": [],
   "source": [
    "import email_sender"
   ]
  },
  {
   "cell_type": "code",
   "execution_count": 3,
   "metadata": {
    "collapsed": false
   },
   "outputs": [],
   "source": [
    "sender = email_sender.Sender_163(\"15851390734@163.com\",\"hsz881224\")"
   ]
  },
  {
   "cell_type": "code",
   "execution_count": 4,
   "metadata": {
    "collapsed": false
   },
   "outputs": [
    {
     "data": {
      "text/plain": [
       "sender 15851390734@163.com at [smtp.163.com:25]"
      ]
     },
     "execution_count": 4,
     "metadata": {},
     "output_type": "execute_result"
    }
   ],
   "source": [
    "sender"
   ]
  },
  {
   "cell_type": "code",
   "execution_count": 5,
   "metadata": {
    "collapsed": false
   },
   "outputs": [
    {
     "name": "stderr",
     "output_type": "stream",
     "text": [
      "send: 'ehlo hszmba.local\\r\\n'\n",
      "reply: b'250-mail\\r\\n'\n",
      "reply: b'250-PIPELINING\\r\\n'\n",
      "reply: b'250-AUTH LOGIN PLAIN\\r\\n'\n",
      "reply: b'250-AUTH=LOGIN PLAIN\\r\\n'\n",
      "reply: b'250-coremail 1Uxr2xKj7kG0xkI17xGrU7I0s8FY2U3Uj8Cz28x1UUUUU7Ic2I0Y2Ur4KCNPUCa0xDrUUUUj\\r\\n'\n",
      "reply: b'250-STARTTLS\\r\\n'\n",
      "reply: b'250 8BITMIME\\r\\n'\n",
      "reply: retcode (250); Msg: b'mail\\nPIPELINING\\nAUTH LOGIN PLAIN\\nAUTH=LOGIN PLAIN\\ncoremail 1Uxr2xKj7kG0xkI17xGrU7I0s8FY2U3Uj8Cz28x1UUUUU7Ic2I0Y2Ur4KCNPUCa0xDrUUUUj\\nSTARTTLS\\n8BITMIME'\n",
      "send: 'AUTH PLAIN ADE1ODUxMzkwNzM0QDE2My5jb20AaHN6ODgxMjI0\\r\\n'\n",
      "reply: b'235 Authentication successful\\r\\n'\n",
      "reply: retcode (235); Msg: b'Authentication successful'\n",
      "send: 'mail FROM:<15851390734@163.com>\\r\\n'\n",
      "reply: b'250 Mail OK\\r\\n'\n",
      "reply: retcode (250); Msg: b'Mail OK'\n",
      "send: 'rcpt TO:<469389377@qq.com>\\r\\n'\n",
      "reply: b'250 Mail OK\\r\\n'\n",
      "reply: retcode (250); Msg: b'Mail OK'\n",
      "send: 'data\\r\\n'\n",
      "reply: b'354 End data with <CR><LF>.<CR><LF>\\r\\n'\n",
      "reply: retcode (354); Msg: b'End data with <CR><LF>.<CR><LF>'\n",
      "data: (354, b'End data with <CR><LF>.<CR><LF>')\n",
      "send: b'Content-Type: multipart/alternative; boundary=\"===============8756843679975483456==\"\\r\\nMIME-Version: 1.0\\r\\nFrom: master hsz 15851390734@163.com\\r\\nTo: hsz pythoner 469389377@qq.com\\r\\nSubject: =?utf-8?b?5p2l6IeqU01UUOeahOmXruWAmeKApuKApg==?=\\r\\n\\r\\n--===============8756843679975483456==\\r\\nContent-Type: text/html; charset=\"utf-8\"\\r\\nMIME-Version: 1.0\\r\\nContent-Transfer-Encoding: base64\\r\\n\\r\\nPGh0bWw+PGJvZHk+PGgxPkhlbGxvPC9oMT4KICAgICAgICAgICAgICAgICAgICAgICAgICAgIDxw\\r\\nPnNlbmQgYnkgPGEgaHJlZj0iaHR0cDovL3d3dy5weXRob24ub3JnIj5QeXRob248L2E+Li4uPC9w\\r\\nPgogICAgICAgICAgICAgICAgICAgICAgICAgICAgPC9ib2R5PjwvaHRtbD4=\\r\\n\\r\\n--===============8756843679975483456==--\\r\\n.\\r\\n'\n",
      "reply: b'250 Mail OK queued as smtp8,DMCowACHOslvk6hWF1u7AA--.51185S2 1453888371\\r\\n'\n",
      "reply: retcode (250); Msg: b'Mail OK queued as smtp8,DMCowACHOslvk6hWF1u7AA--.51185S2 1453888371'\n",
      "data: (250, b'Mail OK queued as smtp8,DMCowACHOslvk6hWF1u7AA--.51185S2 1453888371')\n",
      "send: 'quit\\r\\n'\n",
      "reply: b'221 Bye\\r\\n'\n",
      "reply: retcode (221); Msg: b'Bye'\n"
     ]
    },
    {
     "data": {
      "text/plain": [
       "True"
      ]
     },
     "execution_count": 5,
     "metadata": {},
     "output_type": "execute_result"
    }
   ],
   "source": [
    "sender((\"469389377@qq.com\",),subject = \"来自SMTP的问候……\",\n",
    "                 header = {'FROM': \"master hsz\",\n",
    "                          'TO':\"hsz pythoner\"},\n",
    "                 content = {\"html\":\"\"\"<html><body><h1>Hello</h1>\n",
    "                            <p>send by <a href=\"http://www.python.org\">Python</a>...</p>\n",
    "                            </body></html>\"\"\"},\n",
    "                 attachments=None)"
   ]
  }
 ],
 "metadata": {
  "kernelspec": {
   "display_name": "Python 3",
   "language": "python",
   "name": "python3"
  },
  "language_info": {
   "codemirror_mode": {
    "name": "ipython",
    "version": 3
   },
   "file_extension": ".py",
   "mimetype": "text/x-python",
   "name": "python",
   "nbconvert_exporter": "python",
   "pygments_lexer": "ipython3",
   "version": "3.5.1"
  }
 },
 "nbformat": 4,
 "nbformat_minor": 0
}
