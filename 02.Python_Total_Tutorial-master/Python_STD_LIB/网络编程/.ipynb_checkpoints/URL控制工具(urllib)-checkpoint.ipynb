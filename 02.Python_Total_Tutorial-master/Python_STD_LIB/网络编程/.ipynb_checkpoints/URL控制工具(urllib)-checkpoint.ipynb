{
 "cells": [
  {
   "cell_type": "markdown",
   "metadata": {},
   "source": [
    "# URL控制工具(urllib)\n",
    "\n",
    "urllib提供了一系列用于操作URL的功能。注意,在python2中这些功能分别在urllib,urllib2,urlparse中实现"
   ]
  },
  {
   "cell_type": "code",
   "execution_count": 1,
   "metadata": {
    "collapsed": true
   },
   "outputs": [],
   "source": [
    "import urllib"
   ]
  },
  {
   "cell_type": "markdown",
   "metadata": {},
   "source": [
    "urllib由4个模块组成:\n",
    "\n",
    "模块|说明\n",
    "---|---\n",
    "error|urllib可能发生的错误\n",
    "parse|url地址句法分析\n",
    "request|http请求模块\n",
    "robotparser|robot.txt网站设置文件解析(请看格式化文件处理中的介绍)"
   ]
  },
  {
   "cell_type": "markdown",
   "metadata": {},
   "source": [
    "## 地址句法分析 urllib.parse(urlparse)\n",
    "\n",
    "urllib.parse可以将url地址分解为元件,再重新组合"
   ]
  },
  {
   "cell_type": "code",
   "execution_count": 26,
   "metadata": {
    "collapsed": true
   },
   "outputs": [],
   "source": [
    "from urllib.parse import urlparse,urlsplit,urljoin"
   ]
  },
  {
   "cell_type": "code",
   "execution_count": 18,
   "metadata": {
    "collapsed": true
   },
   "outputs": [],
   "source": [
    "url1=\"https://www.google.com.hk/?gws_rd=ssl#safe=strict&q=python\""
   ]
  },
  {
   "cell_type": "code",
   "execution_count": 19,
   "metadata": {
    "collapsed": true
   },
   "outputs": [],
   "source": [
    "url2=\"http://www.cwi.nl:80/%7Eguido/Python.html\""
   ]
  },
  {
   "cell_type": "code",
   "execution_count": 21,
   "metadata": {
    "collapsed": false
   },
   "outputs": [
    {
     "data": {
      "text/plain": [
       "ParseResult(scheme='https', netloc='www.google.com.hk', path='/', params='', query='gws_rd=ssl', fragment='safe=strict&q=python')"
      ]
     },
     "execution_count": 21,
     "metadata": {},
     "output_type": "execute_result"
    }
   ],
   "source": [
    "o1 = urlparse(url1)\n",
    "o1"
   ]
  },
  {
   "cell_type": "code",
   "execution_count": 23,
   "metadata": {
    "collapsed": false
   },
   "outputs": [
    {
     "data": {
      "text/plain": [
       "ParseResult(scheme='http', netloc='www.cwi.nl:80', path='/%7Eguido/Python.html', params='', query='', fragment='')"
      ]
     },
     "execution_count": 23,
     "metadata": {},
     "output_type": "execute_result"
    }
   ],
   "source": [
    "o2 = urlparse(url2)\n",
    "o2"
   ]
  },
  {
   "cell_type": "code",
   "execution_count": 24,
   "metadata": {
    "collapsed": false
   },
   "outputs": [
    {
     "data": {
      "text/plain": [
       "80"
      ]
     },
     "execution_count": 24,
     "metadata": {},
     "output_type": "execute_result"
    }
   ],
   "source": [
    "o2.port"
   ]
  },
  {
   "cell_type": "code",
   "execution_count": 25,
   "metadata": {
    "collapsed": false
   },
   "outputs": [
    {
     "data": {
      "text/plain": [
       "'https://www.google.com.hk/?gws_rd=ssl#safe=strict&q=python'"
      ]
     },
     "execution_count": 25,
     "metadata": {},
     "output_type": "execute_result"
    }
   ],
   "source": [
    "o1.geturl()"
   ]
  },
  {
   "cell_type": "code",
   "execution_count": 29,
   "metadata": {
    "collapsed": false
   },
   "outputs": [
    {
     "data": {
      "text/plain": [
       "SplitResult(scheme='https', netloc='www.google.com.hk', path='/', query='gws_rd=ssl', fragment='safe=strict&q=python')"
      ]
     },
     "execution_count": 29,
     "metadata": {},
     "output_type": "execute_result"
    }
   ],
   "source": [
    "s1=urlsplit(url1)\n",
    "s1"
   ]
  },
  {
   "cell_type": "code",
   "execution_count": 30,
   "metadata": {
    "collapsed": false
   },
   "outputs": [
    {
     "data": {
      "text/plain": [
       "'http://www.cwi.nl/%7Eguido/FAQ.html'"
      ]
     },
     "execution_count": 30,
     "metadata": {},
     "output_type": "execute_result"
    }
   ],
   "source": [
    "urljoin('http://www.cwi.nl/%7Eguido/Python.html', 'FAQ.html')"
   ]
  },
  {
   "cell_type": "markdown",
   "metadata": {},
   "source": [
    "## http请求urllib.request(urllib2)\n",
    "\n",
    "这个貌似是最常用的模块了,写爬虫,做网站测试啥的都用它"
   ]
  },
  {
   "cell_type": "code",
   "execution_count": 51,
   "metadata": {
    "collapsed": true
   },
   "outputs": [],
   "source": [
    "from urllib.request import Request,urlopen,ProxyHandler"
   ]
  },
  {
   "cell_type": "markdown",
   "metadata": {},
   "source": [
    "### 最简单的打开一个网页\n",
    "\n",
    "    urlopen(url,timeout=XXX)\n"
   ]
  },
  {
   "cell_type": "code",
   "execution_count": 43,
   "metadata": {
    "collapsed": false
   },
   "outputs": [
    {
     "name": "stdout",
     "output_type": "stream",
     "text": [
      "<!doctype html>\n",
      "<!--[if lt IE 7]>   <html class=\"no-js ie6 lt-ie7 lt-ie8 lt-ie9\">   <![endif]-->\n",
      "<!--[if IE 7]>      <html class=\"no-js ie7 lt-ie8 lt-ie9\">          <![endif]-->\n",
      "<!--[if IE 8]>      <html class=\"no-js ie8 lt-ie9\">                 <![endif]-->\n",
      "<!--[if gt IE 8]><!--><html class=\"no-js\"\n"
     ]
    }
   ],
   "source": [
    "with urlopen('http://www.python.org/',timeout=10) as f:\n",
    "    print(f.read().decode(\"utf-8\")[:300])"
   ]
  },
  {
   "cell_type": "markdown",
   "metadata": {},
   "source": [
    "### 使用Request\n",
    "\n",
    "使用Request可以为每个请求添加一些数据,头文件等\n",
    "\n",
    "Request(url, data=None, headers={}, origin_req_host=None, unverifiable=False, method=None)\n",
    "\n",
    "+ date:发送的数据(put,post)\n",
    "+ headers: 头\n",
    "+ method:方法\n",
    "+"
   ]
  },
  {
   "cell_type": "code",
   "execution_count": 39,
   "metadata": {
    "collapsed": false
   },
   "outputs": [
    {
     "name": "stdout",
     "output_type": "stream",
     "text": [
      "<!doctype html>\n",
      "<!--[if lt IE 7]>   <html class=\"no-js ie6 lt-ie7 lt-ie8 lt-ie9\">   <![endif]-->\n",
      "<!--[if IE 7]>      <html class=\"no-js ie7 lt-ie8 lt-ie9\">          <![endif]-->\n",
      "<!--[if IE 8]>      <html class=\"no-js ie8 lt-ie9\">                 <![endif]-->\n",
      "<!--[if gt IE 8]><!--><html class=\"no-js\"\n"
     ]
    }
   ],
   "source": [
    "req = Request('http://python.org/')\n",
    "with urlopen(req) as f:\n",
    "    print(f.read().decode(\"utf-8\")[:300])"
   ]
  },
  {
   "cell_type": "markdown",
   "metadata": {},
   "source": [
    "#### 设定头文件\n",
    "\n",
    "对有些 header 要特别留意，Server 端会针对这些 header 做检查\n",
    "\n",
    "User-Agent 有些 Server 或 Proxy 会检查该值，用来判断是否是浏览器发起的 Request\n",
    "Content-Type 在使用 REST 接口时，Server 会检查该值，用来确定 HTTP Body 中的内容该怎样解析。\n",
    " \n",
    "\n",
    "常见的取值有：\n",
    "\n",
    "+ application/xml ：在 XML RPC，如 RESTful/SOAP 调用时使用\n",
    "+ application/json ：在 JSON RPC 调用时使用\n",
    "+ application/x-www-form-urlencoded ：浏览器提交 Web 表单时使用\n",
    "\n",
    "  ……\n",
    " \n",
    "\n",
    "在使用 RPC 调用 Server 提供的 RESTful 或 SOAP 服务时， Content-Type 设置错误会导致 Server 拒绝服务。"
   ]
  },
  {
   "cell_type": "code",
   "execution_count": 48,
   "metadata": {
    "collapsed": false
   },
   "outputs": [
    {
     "name": "stdout",
     "output_type": "stream",
     "text": [
      "<!doctype html>\n",
      "<!--[if lt IE 7]>   <html class=\"no-js ie6 lt-ie7 lt-ie8 lt-ie9\">   <![endif]-->\n",
      "<!--[if IE 7]>      <html class=\"no-js ie7 lt-ie8 lt-ie9\">          <![endif]-->\n",
      "<!--[if IE 8]>      <html class=\"no-js ie8 lt-ie9\">                 <![endif]-->\n",
      "<!--[if gt IE 8]><!--><html class=\"no-js\"\n"
     ]
    }
   ],
   "source": [
    "#方法1.直接定义头文件\n",
    "url = 'http://python.org/'\n",
    "user_agent = 'Mozilla/5.0 (Windows NT 6.1) AppleWebKit/537.11 (KHTML, like Gecko) Chrome/23.0.1271.64 Safari/537.11'\n",
    "headers = { 'User-Agent' : user_agent,\n",
    "           'Accept':'text/html;q=0.9,*/*;q=0.8',\n",
    "   'Accept-Charset':'ISO-8859-1,utf-8;q=0.7,*;q=0.3',\n",
    "  'Accept-Encoding':'gzip',\n",
    "       'Connection':'close'\n",
    "}\n",
    "req = urllib.request.Request(url, headers=headers)\n",
    "with urlopen(req,timeout=10) as f:\n",
    "    print(f.read().decode(\"utf-8\")[:300])\n"
   ]
  },
  {
   "cell_type": "code",
   "execution_count": 50,
   "metadata": {
    "collapsed": false
   },
   "outputs": [
    {
     "name": "stdout",
     "output_type": "stream",
     "text": [
      "<!doctype html>\n",
      "<!--[if lt IE 7]>   <html class=\"no-js ie6 lt-ie7 lt-ie8 lt-ie9\">   <![endif]-->\n",
      "<!--[if IE 7]>      <html class=\"no-js ie7 lt-ie8 lt-ie9\">          <![endif]-->\n",
      "<!--[if IE 8]>      <html class=\"no-js ie8 lt-ie9\">                 <![endif]-->\n",
      "<!--[if gt IE 8]><!--><html class=\"no-js\"\n"
     ]
    }
   ],
   "source": [
    "#方法2:用build_opener定义,这样便于扩展\n",
    "url = 'http://python.org/'\n",
    "user_agent = 'Mozilla/5.0 (Windows NT 6.1) AppleWebKit/537.11 (KHTML, like Gecko) Chrome/23.0.1271.64 Safari/537.11'\n",
    "headers = { 'User-Agent' : user_agent,\n",
    "           'Accept':'text/html;q=0.9,*/*;q=0.8',\n",
    "   'Accept-Charset':'ISO-8859-1,utf-8;q=0.7,*;q=0.3',\n",
    "  'Accept-Encoding':'gzip',\n",
    "       'Connection':'close'\n",
    "}\n",
    "opener = urllib.request.build_opener()\n",
    "opener.addheaders = [(k,v) for k,v in headers.items()]\n",
    "with opener.open(req,timeout=10) as f:\n",
    "    print(f.read().decode(\"utf-8\")[:300])"
   ]
  },
  {
   "cell_type": "markdown",
   "metadata": {},
   "source": [
    "### 设定代理ProxyHandler\n",
    "\n",
    "    proxy_support = ProxyHandler({'sock5': 'localhost:1080'})"
   ]
  }
 ],
 "metadata": {
  "kernelspec": {
   "display_name": "Python 3",
   "language": "python",
   "name": "python3"
  },
  "language_info": {
   "codemirror_mode": {
    "name": "ipython",
    "version": 3
   },
   "file_extension": ".py",
   "mimetype": "text/x-python",
   "name": "python",
   "nbconvert_exporter": "python",
   "pygments_lexer": "ipython3",
   "version": "3.5.1"
  }
 },
 "nbformat": 4,
 "nbformat_minor": 0
}
