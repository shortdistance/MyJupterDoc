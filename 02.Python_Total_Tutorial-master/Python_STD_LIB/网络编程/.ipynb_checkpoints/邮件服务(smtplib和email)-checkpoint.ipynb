{
 "cells": [
  {
   "cell_type": "markdown",
   "metadata": {},
   "source": [
    "# 邮件服务(smtplib和email)\n",
    "\n",
    "SMTP是发送邮件的协议，Python内置对SMTP的支持，可以发送纯文本邮件、HTML邮件以及带附件的邮件。\n",
    "\n",
    "Python对SMTP支持有smtplib和email两个模块，email负责构造邮件，smtplib负责发送邮件。\n",
    "\n",
    ">构造一个最简单的纯文本邮件 "
   ]
  },
  {
   "cell_type": "code",
   "execution_count": 1,
   "metadata": {
    "collapsed": true
   },
   "outputs": [],
   "source": [
    "from email.mime.text import MIMEText\n",
    "msg = MIMEText('hello, send by Python...', 'plain', 'utf-8')"
   ]
  },
  {
   "cell_type": "markdown",
   "metadata": {},
   "source": [
    "+ 第一个参数就是邮件正文\n",
    "+ 第二个参数是MIME的subtype，传入'plain'，最终的MIME就是'text/plain'\n",
    "+ 最后一定要用utf-8编码保证多语言兼容性"
   ]
  },
  {
   "cell_type": "markdown",
   "metadata": {},
   "source": [
    "我们用set_debuglevel(1)就可以打印出和SMTP服务器交互的所有信息。SMTP协议就是简单的文本命令和响应。login()方法用来登录SMTP服务器，sendmail()方法就是发邮件，由于可以一次发给多个人，所以传入一个list，邮件正文是一个str，as_string()把MIMEText对象变成str。\n",
    "\n",
    "\n",
    "邮件主题、如何显示发件人、收件人等信息并不是通过SMTP协议发给MTA，而是包含在发给MTA的文本中的，所以，我们必须把From、To和Subject添加到MIMEText中，才是一封完整的邮件："
   ]
  },
  {
   "cell_type": "code",
   "execution_count": null,
   "metadata": {
    "collapsed": true
   },
   "outputs": [],
   "source": [
    "    # -*- coding: utf-8 -*-\n",
    "\n",
    "    from email import encoders\n",
    "    from email.header import Header\n",
    "    from email.mime.text import MIMEText\n",
    "    from email.utils import parseaddr, formataddr\n",
    "    import smtplib\n",
    "\n",
    "    def _format_addr(s):\n",
    "        name, addr = parseaddr(s)\n",
    "        return formataddr(( \\\n",
    "            Header(name, 'utf-8').encode(), \\\n",
    "            addr.encode('utf-8') if isinstance(addr, unicode) else addr))\n",
    "\n",
    "    from_addr = raw_input('From: ')\n",
    "    password = raw_input('Password: ')\n",
    "    to_addr = raw_input('To: ')\n",
    "    smtp_server = raw_input('SMTP server: ')\n",
    "\n",
    "    msg = MIMEText('hello, send by Python...', 'plain', 'utf-8')\n",
    "    msg['From'] = _format_addr(u'Python爱好者 <%s>' % from_addr)\n",
    "    msg['To'] = _format_addr(u'管理员 <%s>' % to_addr)\n",
    "    msg['Subject'] = Header(u'来自SMTP的问候……', 'utf-8').encode()\n",
    "\n",
    "    server = smtplib.SMTP(smtp_server, 25)\n",
    "    server.set_debuglevel(1)\n",
    "    server.login(from_addr, password)\n",
    "    server.sendmail(from_addr, [to_addr], msg.as_string())\n",
    "    server.quit()\n"
   ]
  },
  {
   "cell_type": "markdown",
   "metadata": {},
   "source": [
    "> 发送HTML邮件\n",
    "\n",
    "如果我们要发送HTML邮件，而不是普通的纯文本文件怎么办？方法很简单，在构造MIMEText对象时，把HTML字符串传进去，再把第二个参数由plain变为html就可以了："
   ]
  },
  {
   "cell_type": "markdown",
   "metadata": {},
   "source": [
    "    msg = MIMEText('<html><body><h1>Hello</h1>' +\n",
    "        '<p>send by <a href=\"http://www.python.org\">Python</a>...</p>' +\n",
    "        '</body></html>', 'html', 'utf-8')"
   ]
  },
  {
   "cell_type": "markdown",
   "metadata": {},
   "source": [
    "> 发送附件\n",
    "\n",
    "如果Email中要加上附件怎么办？带附件的邮件可以看做包含若干部分的邮件：文本和各个附件本身，所以，可以构造一个MIMEMultipart对象代表邮件本身，然后往里面加上一个MIMEText作为邮件正文，再继续往里面加上表示附件的MIMEBase对象即可："
   ]
  },
  {
   "cell_type": "code",
   "execution_count": null,
   "metadata": {
    "collapsed": true
   },
   "outputs": [],
   "source": [
    "#发送附件 ,要添加\n",
    "from email.MIMEMultipart import MIMEMultipart \n",
    "from email.MIMEBase import MIMEBase\n",
    "\n",
    "# 邮件对象:\n",
    "msg = MIMEMultipart()\n",
    "msg['From'] = _format_addr(u'Python爱好者 <%s>' % from_addr)\n",
    "msg['To'] = _format_addr(u'管理员 <%s>' % to_addr)\n",
    "msg['Subject'] = Header(u'来自SMTP的问候……', 'utf-8').encode()\n",
    "\n",
    "# 邮件正文是MIMEText:\n",
    "msg.attach(MIMEText('send with file...', 'plain', 'utf-8'))\n",
    "\n",
    "# 添加附件就是加上一个MIMEBase，从本地读取一个图片:\n",
    "with open('/Users/michael/Downloads/test.png', 'rb') as f:\n",
    "    # 设置附件的MIME和文件名，这里是png类型:\n",
    "    mime = MIMEBase('image', 'png', filename='test.png')\n",
    "    # 加上必要的头信息:\n",
    "    mime.add_header('Content-Disposition', 'attachment', filename='test.png')\n",
    "    mime.add_header('Content-ID', '<0>')\n",
    "    mime.add_header('X-Attachment-Id', '0')\n",
    "    # 把附件的内容读进来:\n",
    "    mime.set_payload(f.read())\n",
    "    # 用Base64编码:\n",
    "    encoders.encode_base64(mime)\n",
    "    # 添加到MIMEMultipart:\n",
    "    msg.attach(mime)"
   ]
  },
  {
   "cell_type": "markdown",
   "metadata": {},
   "source": [
    "> 发送图片\n",
    "\n",
    "如果要把一个图片嵌入到邮件正文中怎么做？直接在HTML邮件中链接图片地址行不行？答案是，大部分邮件服务商都会自动屏蔽带有外链的图片，因为不知道这些链接是否指向恶意网站。\n",
    "\n",
    "要把图片嵌入到邮件正文中，我们只需按照发送附件的方式，先把邮件作为附件添加进去，然后，在HTML中通过引用\n",
    "\n",
    "\n",
    "    src=\"cid:0\"就可以把附件作为图片嵌入了。如果有多个图片，给它们依次编号，然后引用不同的cid:x即可。\n",
    "\n",
    "把上面代码加入MIMEMultipart的MIMEText从plain改为html，然后在适当的位置引用图片"
   ]
  },
  {
   "cell_type": "markdown",
   "metadata": {},
   "source": [
    "    msg.attach(MIMEText('<html><body><h1>Hello</h1>' +\n",
    "        '<p><img src=\"cid:0\"></p>' +\n",
    "        '</body></html>', 'html', 'utf-8'))"
   ]
  },
  {
   "cell_type": "markdown",
   "metadata": {},
   "source": [
    "> 同时支持HTML和Plain格式\n",
    "\n",
    "如果我们发送HTML邮件，收件人通过浏览器或者Outlook之类的软件是可以正常浏览邮件内容的，但是，如果收件人使用的设备太古老，查看不了HTML邮件怎么办？\n",
    "\n",
    "办法是在发送HTML的同时再附加一个纯文本，如果收件人无法查看HTML格式的邮件，就可以自动降级查看纯文本邮件。\n",
    "\n",
    "利用MIMEMultipart就可以组合一个HTML和Plain，要注意指定subtype是alternative：\n",
    "\n",
    "    msg = MIMEMultipart('alternative')\n",
    "    msg['From'] = ...\n",
    "    msg['To'] = ...\n",
    "    msg['Subject'] = ...\n",
    "\n",
    "    msg.attach(MIMEText('hello', 'plain', 'utf-8'))\n",
    "    msg.attach(MIMEText('<html><body><h1>Hello</h1></body></html>', 'html', 'utf-8'))\n"
   ]
  },
  {
   "cell_type": "markdown",
   "metadata": {},
   "source": [
    "> 加密SMTP\n",
    "\n",
    "使用标准的25端口连接SMTP服务器时，使用的是明文传输，发送邮件的整个过程可能会被窃听。要更安全地发送邮件，可以加密SMTP会话，实际上就是先创建SSL安全连接，然后再使用SMTP协议发送邮件。\n",
    "\n",
    "某些邮件服务商，例如Gmail，提供的SMTP服务必须要加密传输。我们来看看如何通过Gmail提供的安全SMTP发送邮件。\n",
    "\n",
    "必须知道，Gmail的SMTP端口是587，因此，修改代码如下：\n",
    "\n",
    "    smtp_server = 'smtp.gmail.com'\n",
    "    smtp_port = 587\n",
    "    server = smtplib.SMTP(smtp_server, smtp_port)\n",
    "    server.starttls()\n",
    "    # 剩下的代码和前面的一模一样:\n",
    "    server.set_debuglevel(1)\n",
    "    ..."
   ]
  },
  {
   "cell_type": "code",
   "execution_count": null,
   "metadata": {
    "collapsed": true
   },
   "outputs": [],
   "source": []
  }
 ],
 "metadata": {
  "kernelspec": {
   "display_name": "Python 3",
   "language": "python",
   "name": "python3"
  },
  "language_info": {
   "codemirror_mode": {
    "name": "ipython",
    "version": 3
   },
   "file_extension": ".py",
   "mimetype": "text/x-python",
   "name": "python",
   "nbconvert_exporter": "python",
   "pygments_lexer": "ipython3",
   "version": "3.5.1"
  }
 },
 "nbformat": 4,
 "nbformat_minor": 0
}
