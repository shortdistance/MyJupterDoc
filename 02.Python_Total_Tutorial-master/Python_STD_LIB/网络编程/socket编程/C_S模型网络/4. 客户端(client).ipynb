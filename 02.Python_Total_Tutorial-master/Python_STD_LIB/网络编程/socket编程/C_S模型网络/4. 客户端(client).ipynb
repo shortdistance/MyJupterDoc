{
 "cells": [
  {
   "cell_type": "markdown",
   "metadata": {},
   "source": [
    "# 理解Socket\n",
    "\n",
    "Socket是I/O的延生,它的作用是使进程间,机器间同行成为可能.而gevent也是利用这点通过改写I/O接口实现的并发"
   ]
  },
  {
   "cell_type": "markdown",
   "metadata": {},
   "source": [
    "# 建立Socket\n",
    "\n",
    "建立一个socket由两步组成:\n",
    "\n",
    "1. 建立一个socket对象\n",
    "2. 将socket对象与远程服务器相连\n",
    "\n"
   ]
  },
  {
   "cell_type": "markdown",
   "metadata": {},
   "source": [
    "创建一个socket对像并连接一般代码是这样:\n",
    "\n",
    "```python\n",
    "from socket import socket,AF_INET,SOCK_STREAM\n",
    "\n",
    "s = socket(AF_INET,SOCK_STREAM)\n",
    "s.connect((\"www.example.com\",80))\n",
    "```"
   ]
  },
  {
   "cell_type": "markdown",
   "metadata": {},
   "source": [
    "> 例子:连上百度服务器"
   ]
  },
  {
   "cell_type": "code",
   "execution_count": 1,
   "metadata": {
    "collapsed": false
   },
   "outputs": [
    {
     "name": "stdout",
     "output_type": "stream",
     "text": [
      "Writing socket/exp4.1/connectBaidu.py\n"
     ]
    }
   ],
   "source": [
    "%%writefile socket/exp4.1/connectBaidu.py\n",
    "#!/usr/bin/env python\n",
    "#coding:utf-8\n",
    "from __future__ import division, print_function\n",
    "\"\"\"连上百度服务器\n",
    "\"\"\"\n",
    "from socket import socket,AF_INET,SOCK_STREAM\n",
    "\n",
    "def main():\n",
    "    print(\"创建socket...\")\n",
    "    s = socket(AF_INET,SOCK_STREAM)\n",
    "    print(\"创建成功!\")\n",
    "    print(\"连接到百度...\")\n",
    "    s.connect((\"www.baidu.com\",80))\n",
    "    print(\"连接成功!\")\n",
    "if __name__==\"__main__\":\n",
    "    main()"
   ]
  },
  {
   "cell_type": "code",
   "execution_count": 2,
   "metadata": {
    "collapsed": true
   },
   "outputs": [],
   "source": [
    "!chmod 777 socket/exp4.1/connectBaidu.py"
   ]
  },
  {
   "cell_type": "code",
   "execution_count": 3,
   "metadata": {
    "collapsed": false
   },
   "outputs": [
    {
     "name": "stdout",
     "output_type": "stream",
     "text": [
      "创建socket...\n",
      "创建成功!\n",
      "连接到百度...\n",
      "连接成功!\n"
     ]
    }
   ],
   "source": [
    "!socket/exp4.1/connectBaidu.py"
   ]
  },
  {
   "cell_type": "markdown",
   "metadata": {},
   "source": [
    "在c语言中连接需要ip地址,而python中socket对象会自己用dns找到域名的对应ip地址,但端口还是需要自己设定"
   ]
  },
  {
   "cell_type": "markdown",
   "metadata": {},
   "source": [
    "## 寻找端口号(getservbyname())"
   ]
  },
  {
   "cell_type": "markdown",
   "metadata": {},
   "source": [
    "这个函数可以根据系统查看端口列表,在UNIX系统(linux,freeBSD,Mac osx ...)中一般都在`/etc/services`目录下可以找到对应的列表\n",
    "\n",
    "`getservbyname()`需要协议名和端口名,用法如下:\n",
    "\n",
    "`getservbyname(\"http\",\"tcp\")`\n",
    "\n",
    "注意,原书中的方法已经改名"
   ]
  },
  {
   "cell_type": "markdown",
   "metadata": {},
   "source": [
    ">我们来改写上面的代码,让它自动获取端口号:"
   ]
  },
  {
   "cell_type": "code",
   "execution_count": 4,
   "metadata": {
    "collapsed": false
   },
   "outputs": [
    {
     "name": "stdout",
     "output_type": "stream",
     "text": [
      "Writing socket/exp4.2/connectBaidu.py\n"
     ]
    }
   ],
   "source": [
    "%%writefile socket/exp4.2/connectBaidu.py\n",
    "#!/usr/bin/env python\n",
    "#coding:utf-8\n",
    "from __future__ import division, print_function\n",
    "\"\"\"连上百度服务器\n",
    "\"\"\"\n",
    "from socket import socket,AF_INET,SOCK_STREAM, getservbyname,error\n",
    "\n",
    "def main():\n",
    "    print(\"创建socket...\")\n",
    "    s = socket(AF_INET,SOCK_STREAM)\n",
    "    print(\"创建成功!\")\n",
    "    print(\"获取端口号...\")\n",
    "    port = getservbyname(\"http\",\"tcp\")\n",
    "    print(\"端口号为{port}\".format(port = port))\n",
    "    print(\"创建成功!\")\n",
    "    print(\"连接到百度...\")\n",
    "    try:\n",
    "        s.connect((\"www.baidu.com\",80))\n",
    "    except error as e:\n",
    "        print(\"连接失败!\")\n",
    "        print(e)\n",
    "    print(\"连接成功!\")\n",
    "if __name__==\"__main__\":\n",
    "    main()"
   ]
  },
  {
   "cell_type": "code",
   "execution_count": 6,
   "metadata": {
    "collapsed": true
   },
   "outputs": [],
   "source": [
    "!chmod 777 socket/exp4.2/connectBaidu.py"
   ]
  },
  {
   "cell_type": "code",
   "execution_count": 7,
   "metadata": {
    "collapsed": false
   },
   "outputs": [
    {
     "name": "stdout",
     "output_type": "stream",
     "text": [
      "创建socket...\n",
      "创建成功!\n",
      "获取端口号...\n",
      "端口号为80\n",
      "创建成功!\n",
      "连接到百度...\n",
      "连接成功!\n"
     ]
    }
   ],
   "source": [
    "!socket/exp4.2/connectBaidu.py"
   ]
  },
  {
   "cell_type": "markdown",
   "metadata": {},
   "source": [
    "### 相似的不用建立连接也可以获取的信息有:\n",
    "\n",
    "+ gethostname() -- 返回自己主机的hostname\n",
    "+ gethostbyname() -- 映射hostname 到ip地址\n",
    "+ gethostbyaddr() -- 映射ip地址或者hostname 到DNS信息\n",
    "+ getprotobyname() -- 映射协议名到一个数"
   ]
  },
  {
   "cell_type": "code",
   "execution_count": 8,
   "metadata": {
    "collapsed": true
   },
   "outputs": [],
   "source": [
    "from socket import gethostname,gethostbyname,gethostbyaddr,getprotobyname"
   ]
  },
  {
   "cell_type": "code",
   "execution_count": 9,
   "metadata": {
    "collapsed": false
   },
   "outputs": [
    {
     "data": {
      "text/plain": [
       "'hszmba.local'"
      ]
     },
     "execution_count": 9,
     "metadata": {},
     "output_type": "execute_result"
    }
   ],
   "source": [
    "gethostname()"
   ]
  },
  {
   "cell_type": "code",
   "execution_count": 10,
   "metadata": {
    "collapsed": false
   },
   "outputs": [
    {
     "data": {
      "text/plain": [
       "'180.97.33.108'"
      ]
     },
     "execution_count": 10,
     "metadata": {},
     "output_type": "execute_result"
    }
   ],
   "source": [
    "gethostbyname('www.baidu.com')"
   ]
  },
  {
   "cell_type": "code",
   "execution_count": 11,
   "metadata": {
    "collapsed": false
   },
   "outputs": [
    {
     "data": {
      "text/plain": [
       "('localhost',\n",
       " ['1.0.0.0.0.0.0.0.0.0.0.0.0.0.0.0.0.0.0.0.0.0.0.0.0.0.0.0.0.0.0.0.ip6.arpa'],\n",
       " ['::1'])"
      ]
     },
     "execution_count": 11,
     "metadata": {},
     "output_type": "execute_result"
    }
   ],
   "source": [
    "gethostbyaddr('localhost')#必须本地在host文件中有记载"
   ]
  },
  {
   "cell_type": "code",
   "execution_count": 12,
   "metadata": {
    "collapsed": false
   },
   "outputs": [
    {
     "data": {
      "text/plain": [
       "6"
      ]
     },
     "execution_count": 12,
     "metadata": {},
     "output_type": "execute_result"
    }
   ],
   "source": [
    "getprotobyname(\"TCP\")"
   ]
  },
  {
   "cell_type": "markdown",
   "metadata": {},
   "source": [
    "## 从socket连接中获取信息"
   ]
  },
  {
   "cell_type": "markdown",
   "metadata": {},
   "source": [
    "每次的socket连接都会由系统随机的给出一些信息,我们可以通过socket模块获取之"
   ]
  },
  {
   "cell_type": "code",
   "execution_count": 13,
   "metadata": {
    "collapsed": false
   },
   "outputs": [
    {
     "name": "stdout",
     "output_type": "stream",
     "text": [
      "Writing socket/exp4.3/connectBaidu.py\n"
     ]
    }
   ],
   "source": [
    "%%writefile socket/exp4.3/connectBaidu.py\n",
    "#!/usr/bin/env python\n",
    "#coding:utf-8\n",
    "from __future__ import division, print_function\n",
    "\"\"\"连上百度服务器\n",
    "\"\"\"\n",
    "from socket import socket,AF_INET,SOCK_STREAM, getservbyname,error\n",
    "\n",
    "def main():\n",
    "    print(\"创建socket...\")\n",
    "    s = socket(AF_INET,SOCK_STREAM)\n",
    "    print(\"创建成功!\")\n",
    "    print(\"获取端口号...\")\n",
    "    port = getservbyname(\"http\",\"tcp\")\n",
    "    print(\"端口号为{port}\".format(port = port))\n",
    "    print(\"创建成功!\")\n",
    "    print(\"连接到百度...\")\n",
    "    try:\n",
    "        s.connect((\"www.baidu.com\",80))\n",
    "    except error as e:\n",
    "        print(\"连接失败!\")\n",
    "        print(e)\n",
    "    print(\"连接成功!\")\n",
    "    fromname = s.getsockname()\n",
    "    fromport=s.getpeername()\n",
    "    print(\"连接来自{fromname}\".format(fromname = fromname))\n",
    "    print(\"连接的是{fromport}\".format(fromport = fromport))\n",
    "if __name__==\"__main__\":\n",
    "    main()"
   ]
  },
  {
   "cell_type": "code",
   "execution_count": 14,
   "metadata": {
    "collapsed": true
   },
   "outputs": [],
   "source": [
    "!chmod 777 socket/exp4.3/connectBaidu.py"
   ]
  },
  {
   "cell_type": "code",
   "execution_count": 16,
   "metadata": {
    "collapsed": false
   },
   "outputs": [
    {
     "name": "stdout",
     "output_type": "stream",
     "text": [
      "创建socket...\r\n",
      "创建成功!\r\n",
      "获取端口号...\r\n",
      "端口号为80\r\n",
      "创建成功!\r\n",
      "连接到百度...\r\n",
      "连接成功!\r\n",
      "连接来自('192.168.3.5', 63903)\r\n",
      "连接的是('180.97.33.108', 80)\r\n"
     ]
    }
   ],
   "source": [
    "!socket/exp4.3/connectBaidu.py"
   ]
  },
  {
   "cell_type": "markdown",
   "metadata": {},
   "source": [
    "可以看到,我们的主机ip地址是内网地址,端口是个很随便的数字,而连接的百度呢开的是80端口"
   ]
  },
  {
   "cell_type": "markdown",
   "metadata": {},
   "source": [
    "socket对象提供了操作系统的send(),sendto(),recv()和recvfrom()调用接口,而文件类对象提供了read(),write()和readline()这些python的文件接口\n",
    "\n",
    "当你有特殊的需求的时候socket很有用,比如你希望读写数据时协议可以详细记录时间.使用二进制协议传送固定大小数据,数据超时特殊处理等,当写UDP程序的时候socket一样是很好的选择\n",
    "\n",
    "文件类对象一般不会再UDP服务中使用"
   ]
  }
 ],
 "metadata": {
  "kernelspec": {
   "display_name": "Python 2",
   "language": "python",
   "name": "python2"
  },
  "language_info": {
   "codemirror_mode": {
    "name": "ipython",
    "version": 2
   },
   "file_extension": ".py",
   "mimetype": "text/x-python",
   "name": "python",
   "nbconvert_exporter": "python",
   "pygments_lexer": "ipython2",
   "version": "2.7.11"
  }
 },
 "nbformat": 4,
 "nbformat_minor": 0
}
