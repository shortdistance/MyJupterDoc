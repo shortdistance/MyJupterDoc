{
 "cells": [
  {
   "cell_type": "markdown",
   "metadata": {},
   "source": [
    "UDP服务之前稍微了解过,它和TCP的最大区别是TCP要求保证信息传送的可靠性和信息的正确性完整性,而UDP则不需要,UDP常用在DNS这样的短消息服务中.\n",
    "\n",
    "在服务端使用UDP可以向TCP一样建立一个socket,设置选项绑定端口,但并不需要使用listen()或者accept函数,替代他们的是recvfrom函数.这个函数会返回2个信息:收到的数据,发送数据的ip和端口,UDP是无连接协议,所以只要服务器发送一个答复即可,而不用像TCP一样专门用socket和远程机器相连.\n",
    "\n",
    "一个典型的UDP服务像这样:\n",
    "\n",
    "```python\n",
    "#!/usr/bin/env python\n",
    "#coding:utf-8\n",
    "\n",
    "\"\"\"基本的UDP服务器\"\"\"\n",
    "from socket import socket\n",
    "from socket import AF_INET, SOCK_DGRAM\n",
    "from socket import SOL_SOCKET, SO_REUSEADDR\n",
    "\n",
    "host = \"\"\n",
    "port = 12345\n",
    "\n",
    "# 步骤一\n",
    "s = socket(AF_INET, SOCK_DGRAM)#设定通信类型和\n",
    "\n",
    "# 步骤二\n",
    "s.setsockopt(SOL_SOCKET, SO_REUSEADDR,1)\n",
    "\n",
    "# 步骤三\n",
    "s.bind((host,port))\n",
    "print(\"等待连接\")\n",
    "\n",
    "while True:\n",
    "    try:\n",
    "        msg,addr = s.recvfrom(8192)\n",
    "        print(\"连接来自\")\n",
    "        print(msg)\n",
    "        s.sendto(msg,addr)\n",
    "    except (KeyboardInterrupt,SystemExit):\n",
    "        raise\n",
    "    except:\n",
    "        traceback.print_exc()\n",
    "```\n",
    "\n",
    "可以看到这个程序比典型的tcp服务的错误检测短好多,它只在接收消息的步骤有异常检查."
   ]
  },
  {
   "cell_type": "markdown",
   "metadata": {},
   "source": [
    "> 一个简单的UDP服务器"
   ]
  },
  {
   "cell_type": "code",
   "execution_count": 13,
   "metadata": {
    "collapsed": false
   },
   "outputs": [
    {
     "name": "stdout",
     "output_type": "stream",
     "text": [
      "Overwriting socket/exp6.1/server.py\n"
     ]
    }
   ],
   "source": [
    "%%writefile socket/exp6.1/server.py\n",
    "#!/usr/bin/env python\n",
    "#coding:utf-8\n",
    "\n",
    "\"\"\"UDP昨日时间服务器\"\"\"\n",
    "from socket import socket\n",
    "from socket import AF_INET, SOCK_DGRAM\n",
    "from socket import SOL_SOCKET, SO_REUSEADDR\n",
    "import time\n",
    "import struct\n",
    "import traceback\n",
    "\n",
    "\n",
    "host = \"\"\n",
    "port = 12345\n",
    "\n",
    "# 步骤一\n",
    "s = socket(AF_INET, SOCK_DGRAM)#设定通信类型和\n",
    "\n",
    "# 步骤二\n",
    "s.setsockopt(SOL_SOCKET, SO_REUSEADDR,1)\n",
    "\n",
    "# 步骤三\n",
    "s.bind((host,port))\n",
    "print(\"等待连接\")\n",
    "\n",
    "while True:\n",
    "    try:\n",
    "        msg,addr = s.recvfrom(8192)\n",
    "        print(\"连接来自\")\n",
    "        print(addr)\n",
    "        #实现时间功能\n",
    "        secs = int(time.time())\n",
    "        secs -= 60*60*24\n",
    "        secs += 2208988800\n",
    "        reply = struct.pack(\"!I\",secs)\n",
    "        #实现时间功能结束\n",
    "        print(\"准备返回发送\")\n",
    "        s.sendto(reply,addr)\n",
    "        print(\"发送结束\")\n",
    "    except (KeyboardInterrupt,SystemExit):\n",
    "        raise\n",
    "    except:\n",
    "        traceback.print_exc()"
   ]
  },
  {
   "cell_type": "code",
   "execution_count": 2,
   "metadata": {
    "collapsed": true
   },
   "outputs": [],
   "source": [
    "!chmod 777 socket/exp6.1/server.py"
   ]
  },
  {
   "cell_type": "markdown",
   "metadata": {},
   "source": [
    "> 对应的客户端编程\n",
    "\n",
    "相对来说UDP客户端要比服务器端复杂不少,我们针对上面的服务器写一个客户端,再来看他们间通信"
   ]
  },
  {
   "cell_type": "code",
   "execution_count": 16,
   "metadata": {
    "collapsed": false
   },
   "outputs": [
    {
     "name": "stdout",
     "output_type": "stream",
     "text": [
      "Overwriting socket/exp6.1/client.py\n"
     ]
    }
   ],
   "source": [
    "%%writefile socket/exp6.1/client.py\n",
    "#!/usr/bin/env python\n",
    "#coding:utf-8\n",
    "\n",
    "\"\"\"UDP昨日时间客户端\"\"\"\n",
    "from socket import socket,getservbyname\n",
    "from socket import AF_INET, SOCK_DGRAM\n",
    "from socket import SOL_SOCKET, SO_REUSEADDR\n",
    "import time\n",
    "import struct\n",
    "import traceback\n",
    "import sys\n",
    "\n",
    "host = \"\"\n",
    "textport = 12345\n",
    "\n",
    "# 步骤一\n",
    "s = socket(AF_INET, SOCK_DGRAM)#设定通信类型和\n",
    "\n",
    "# 步骤二\n",
    "try:\n",
    "    port = int(textport)\n",
    "except ValueError:\n",
    "    port = getservbyname(textport,'udp')\n",
    "s.connect((host,port))\n",
    "#print(\"输入要发送的日期\")\n",
    "\n",
    "#data = sys.stdin.readline().strip()\n",
    "data = raw_input(\"输入要发送的日期\").strip()\n",
    "s.sendall(data)\n",
    "print(\"等待回复,按CTRL-C或者CTRl-BREAK结束\")\n",
    "buf = s.recvfrom(2048)[0]\n",
    "if len(buf) != 4:\n",
    "    print(\"错误的长度{a}:{b}\".format(a = len(buf),b = buf))\n",
    "    sys.exit(1)\n",
    "print time.ctime(int(struct.unpack(\"!I\",buf)[0]-2208988800))\n"
   ]
  },
  {
   "cell_type": "code",
   "execution_count": 5,
   "metadata": {
    "collapsed": true
   },
   "outputs": [],
   "source": [
    "!chmod 777 socket/exp6.1/client.py"
   ]
  },
  {
   "cell_type": "markdown",
   "metadata": {},
   "source": [
    "连接了试试"
   ]
  },
  {
   "cell_type": "markdown",
   "metadata": {},
   "source": [
    "可以看到貌似客户端发送后就会进入无尽的的等待,\n",
    "```shell\n",
    "输入要发送的日期\n",
    "等待回复,按CTRL-C或者CTRl-BREAK结束\n",
    "Sun Mar 20 09:29:09 2016\n",
    "```\n",
    "\n",
    "而服务器可以正确的接收和回复\n",
    "```shell\n",
    "等待连接\n",
    "连接来自\n",
    "('127.0.0.1', 59386)\n",
    "准备返回发送\n",
    "发送结束\n",
    "```\n"
   ]
  },
  {
   "cell_type": "markdown",
   "metadata": {},
   "source": [
    "我们在客户端和服务器上都用recvfrom()方法接收对方的信息,它会返回msg和addr两个数据,后面的参数实际是接收数据的大小."
   ]
  }
 ],
 "metadata": {
  "kernelspec": {
   "display_name": "Python 2",
   "language": "python",
   "name": "python2"
  },
  "language_info": {
   "codemirror_mode": {
    "name": "ipython",
    "version": 2
   },
   "file_extension": ".py",
   "mimetype": "text/x-python",
   "name": "python",
   "nbconvert_exporter": "python",
   "pygments_lexer": "ipython2",
   "version": "2.7.11"
  }
 },
 "nbformat": 4,
 "nbformat_minor": 0
}
