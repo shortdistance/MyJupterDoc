{
 "cells": [
  {
   "cell_type": "markdown",
   "metadata": {},
   "source": [
    "这部分讲的socket的高级操作,分为以下几个部分:\n",
    "\n",
    "+ 半开放socket(Half-open socket)\n",
    "\n",
    "    它可以是关闭一个方向上的通信\n",
    "    \n",
    "+ 超时(Timeouts)\n",
    "\n",
    "    等待一定时间后,如果没有可以连接的网络则产生异常\n",
    "\n",
    "+ 传送字符串和标记字符串结束的技巧\n",
    "\n",
    "+ 网络字节命令,一般用于C-based的协议通信\n",
    "\n",
    "+ 广播(Broadcast),一台机器向多台机器发送数据\n",
    "\n",
    "+ IPv6\n",
    "\n",
    "+ 绑定到特殊地质或接口\n",
    "\n",
    "+ 使用poll()和select()同时查找多个不同事件"
   ]
  },
  {
   "cell_type": "markdown",
   "metadata": {},
   "source": [
    "# 半开放socket\n",
    "\n",
    "一般socket是双向的,即数据可以在socket上双向发送,而有时候我们需要数据单向传输,这种单向传输数据的socket就是半开放socket,我们用shutdown()方法来关闭socket,通过这种方式实现半开放socket\n",
    "\n",
    "半开放socket适用于以下情况:\n",
    "\n",
    "+ 你想要确保所有写好的数据都被传送出去了.当为了关闭socket的输出频道而调用shutdown()函数时,只有缓存里面的数据都被发送成功后才会有返回\n",
    "\n",
    "+ 你想有个办法来捕获潜在的程序错误,这些错误是由试图写一个不能写的socket或者读一个不该读的socket引起的\n",
    "\n",
    "+ 程序使用了fork()或者多线程,而你想防止其他进程或线程的某些操作,或者你想立刻关闭一个socket\n"
   ]
  },
  {
   "cell_type": "code",
   "execution_count": null,
   "metadata": {
    "collapsed": true
   },
   "outputs": [],
   "source": []
  }
 ],
 "metadata": {
  "kernelspec": {
   "display_name": "Python 2",
   "language": "python",
   "name": "python2"
  },
  "language_info": {
   "codemirror_mode": {
    "name": "ipython",
    "version": 2
   },
   "file_extension": ".py",
   "mimetype": "text/x-python",
   "name": "python",
   "nbconvert_exporter": "python",
   "pygments_lexer": "ipython2",
   "version": "2.7.11"
  }
 },
 "nbformat": 4,
 "nbformat_minor": 0
}
