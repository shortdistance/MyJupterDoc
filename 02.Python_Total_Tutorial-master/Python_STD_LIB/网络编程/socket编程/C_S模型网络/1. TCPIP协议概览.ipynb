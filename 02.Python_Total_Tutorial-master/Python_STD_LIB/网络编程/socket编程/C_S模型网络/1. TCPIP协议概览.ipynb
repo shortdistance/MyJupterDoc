{
 "cells": [
  {
   "cell_type": "markdown",
   "metadata": {},
   "source": [
    "TCP/IP协议实际上是一些网络通信协议的集合,也是大多数人使用的通信协议.\n",
    "\n",
    "它通过将信息分解为许多小的信息包再在Intrnet上传输的形式传输信息,在收到后再反向的组合这些信息包"
   ]
  },
  {
   "cell_type": "markdown",
   "metadata": {},
   "source": [
    "## 寻址\n",
    "\n",
    "TCP/IP协议使用IP地址寻址,使用端口号确定要访问的程序.但ip地址往往不好记忆,怎么办呢?那就是访问NDS服务器解析域名为ip地址后再去访问,访问dns服务相当于是图书管理找书先找目录一个道理.它的搜索顺序是\n",
    "\n",
    "    本地缓存=>本地=>运营商=>网络上其他dns服务器"
   ]
  },
  {
   "cell_type": "markdown",
   "metadata": {},
   "source": [
    "## 可靠性\n",
    "\n",
    "TCP/IP协议强调可靠性,它的每个包都会有一个验证码,而且接收方收到每个信息包都必须给出反馈,如果发送方没收到反馈则会一直发送对应的信息包或者确定是网络有问题"
   ]
  },
  {
   "cell_type": "markdown",
   "metadata": {},
   "source": [
    "## 路由\n",
    "\n",
    "一般网络上信息是无法直接接通的,而是通过几个中转节点作为路由"
   ]
  },
  {
   "cell_type": "markdown",
   "metadata": {},
   "source": [
    "## 安全\n",
    "\n",
    "在公用网络上传输信息很重要的一个问题就是安全问题,因此加密通信SSL或者TLS就是其加密手段了,https就是ssl加密的http协议,但是貌似国内的并不支持这种协议,至少貌似百度是不支持的,呵呵"
   ]
  },
  {
   "cell_type": "markdown",
   "metadata": {},
   "source": [
    "## 客户端/服务器模式(C/S模式)\n",
    "\n",
    "服务器打开一个端口一直监听,一旦有客户端访问就处理,而客户端相对的就是负责提供需求来访问的那个"
   ]
  },
  {
   "cell_type": "markdown",
   "metadata": {},
   "source": [
    "## 顺带一提的UDP协议\n",
    "\n",
    "UDP协议是短传输协议,提交和返回的信息都很少,而且并不保证只接受一次,也不保证数据是否真的能被收到,它只保证接收到的一定是完整的(毕竟短嘛),DNS一般就是用UDP来实现的"
   ]
  },
  {
   "cell_type": "markdown",
   "metadata": {},
   "source": [
    "## 啥时候用TCP/IP,啥时候用UDP\n",
    "\n",
    "TCP/IP:\n",
    "\n",
    "+ 需要可靠的数据传输\n",
    "+ 不止一个请求和答复\n",
    "+ 数据多\n",
    "+ 可以容忍短暂延迟\n",
    "\n",
    "UDP:\n",
    "\n",
    "+ 不在意包能不能达到,顺序正确不\n",
    "+ 只有简单的基本请求\n",
    "+ 要晶块建立会话\n",
    "+ 数据量少于64k,而通常我们只传输1k以下的数据"
   ]
  }
 ],
 "metadata": {
  "kernelspec": {
   "display_name": "Python 2",
   "language": "python",
   "name": "python2"
  },
  "language_info": {
   "codemirror_mode": {
    "name": "ipython",
    "version": 2
   },
   "file_extension": ".py",
   "mimetype": "text/x-python",
   "name": "python",
   "nbconvert_exporter": "python",
   "pygments_lexer": "ipython2",
   "version": "2.7.11"
  }
 },
 "nbformat": 4,
 "nbformat_minor": 0
}
