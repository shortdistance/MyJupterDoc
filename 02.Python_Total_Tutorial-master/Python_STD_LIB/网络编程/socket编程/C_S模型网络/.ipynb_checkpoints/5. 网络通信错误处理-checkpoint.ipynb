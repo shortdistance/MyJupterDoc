{
 "cells": [
  {
   "cell_type": "markdown",
   "metadata": {},
   "source": [
    "# 网络错误处理\n",
    "\n",
    "涉及到通信,错误就难以避免,错误处理也成了socket客户端编程的一个重要问题"
   ]
  },
  {
   "cell_type": "markdown",
   "metadata": {},
   "source": [
    "### socket异常\n",
    "\n",
    "Socket模块定义了4种异常:\n",
    "\n",
    "异常|说明\n",
    "---|---\n",
    "error|与一般I/O和通信问题有关的错误\n",
    "gaierror|与查询地址信息有关的错误\n",
    "herror|与其他地址错误有关的错误\n",
    "timeout|与在一个socket上调用settimeout()后处理超时有关的错误\n",
    "\n"
   ]
  },
  {
   "cell_type": "markdown",
   "metadata": {},
   "source": [
    "## socket客户端异常处理"
   ]
  },
  {
   "cell_type": "code",
   "execution_count": 2,
   "metadata": {
    "collapsed": false
   },
   "outputs": [
    {
     "name": "stdout",
     "output_type": "stream",
     "text": [
      "Writing socket/exp5.1/errorhandler.py\n"
     ]
    }
   ],
   "source": [
    "%%writefile socket/exp5.1/errorhandler.py\n",
    "#!/usr/bin/env python\n",
    "#coding:utf-8\n",
    "from __future__ import division, print_function\n",
    "\"\"\"socket异常处理\n",
    "\"\"\"\n",
    "from socket import socket, getservbyname\n",
    "from socket import AF_INET, SOCK_STREAM\n",
    "from socket import error, gaierror, herror, timeout\n",
    "import sys\n",
    "import time\n",
    "\n",
    "def create():\n",
    "    try:\n",
    "        s = socket(AF_INET,SOCK_STREAM)\n",
    "    except error as e:\n",
    "        print(\"创建错误\")\n",
    "        print(e)\n",
    "    return s\n",
    "\n",
    "def find_port(textport):\n",
    "    try:\n",
    "        port = int(textport)\n",
    "    except ValueError :\n",
    "        try:\n",
    "            port = getservbyname(textport,\"tcp\")\n",
    "        except error as e:\n",
    "            print(\"找不到端口: \",e)\n",
    "            sys.exit(1)\n",
    "    return port\n",
    "\n",
    "def connect(s,host,port):\n",
    "    try:\n",
    "        s.connect((host,port))\n",
    "    except gaierror as e:\n",
    "        print(\"地址错误: \",e)\n",
    "        sys.exit(1)\n",
    "    except error as e:\n",
    "        print(\"连接错误: \",e)\n",
    "        sys.exit(1)\n",
    "    return s\n",
    "   \n",
    "def sleep(t):\n",
    "    print(\"sleeping...\")\n",
    "    time.sleep(t)\n",
    "    print(\"continue...\")\n",
    "def send(s,filename):\n",
    "    try:\n",
    "        s.sendall(\"GET {filename} HTTP/1.0\\r\\n\\r\\n\".format(filename = filename))\n",
    "    except error as e:\n",
    "        print(\"发送错误: \",e)\n",
    "        sys.exit(1)\n",
    "    return s\n",
    "\n",
    "def shutdown(s):\n",
    "    try:\n",
    "        s.shutdown(1)\n",
    "    except error as e:\n",
    "        print(\"关闭错误\",e)\n",
    "        sys.exit(1)\n",
    "    return s\n",
    "\n",
    "\n",
    "def recive(s):\n",
    "    try:\n",
    "        buf = s.recv(2048)\n",
    "    except error as e:\n",
    "        print(\"接收错误: \",e)\n",
    "        sys.exit(1)\n",
    "    return buf\n",
    "\n",
    "\n",
    "def main():\n",
    "    host = sys.argv[1]\n",
    "    textport = sys.argv[2]\n",
    "    filename = sys.argv[3]\n",
    "    s = create()\n",
    "    port = find_port(textport)\n",
    "    s = connect(s,host,port)\n",
    "    sleep(10)\n",
    "    s = send(s,filename)    \n",
    "\n",
    "    while True:\n",
    "        buf = recive(s)\n",
    "        if not len(buf):\n",
    "            break\n",
    "        sys.stdout.write(buf)\n",
    "    \n",
    "if __name__==\"__main__\":\n",
    "    main()"
   ]
  },
  {
   "cell_type": "code",
   "execution_count": 3,
   "metadata": {
    "collapsed": true
   },
   "outputs": [],
   "source": [
    "!chmod 777 socket/exp5.1/errorhandler.py"
   ]
  },
  {
   "cell_type": "code",
   "execution_count": 4,
   "metadata": {
    "collapsed": false
   },
   "outputs": [
    {
     "name": "stdout",
     "output_type": "stream",
     "text": [
      "Traceback (most recent call last):\r\n",
      "  File \"socket/exp5.1/errorhandler.py\", line 89, in <module>\r\n",
      "    main()\r\n",
      "  File \"socket/exp5.1/errorhandler.py\", line 75, in main\r\n",
      "    filename = sys.argv[3]\r\n",
      "IndexError: list index out of range\r\n"
     ]
    }
   ],
   "source": [
    "!socket/exp5.1/errorhandler.py www.baidu.com http "
   ]
  },
  {
   "cell_type": "markdown",
   "metadata": {},
   "source": [
    "## socket的服务器端错误处理\n",
    "\n",
    "服务器端错误和客户端不同,它要求有错误了也要能继续执行而不会退出.\n",
    "\n",
    "下面是一个捕获所有错误的示例:"
   ]
  },
  {
   "cell_type": "code",
   "execution_count": 6,
   "metadata": {
    "collapsed": false
   },
   "outputs": [
    {
     "name": "stdout",
     "output_type": "stream",
     "text": [
      "Overwriting socket/exp5.2/errorhandler.py\n"
     ]
    }
   ],
   "source": [
    "%%writefile socket/exp5.2/errorhandler.py\n",
    "#!/usr/bin/env python\n",
    "#coding:utf-8\n",
    "from __future__ import division, print_function\n",
    "\"\"\"socket异常处理\n",
    "\"\"\"\n",
    "from socket import socket, traceback\n",
    "from socket import AF_INET, SOCK_STREAM\n",
    "from socket import SOL_SOCKET, SO_REUSEADDR\n",
    "from socket import error, gaierror, herror, timeout\n",
    "\n",
    "def main():\n",
    "    host = \"\"\n",
    "    port = 12345\n",
    "    s = socket(AF_INET, SOCK_STREAM)#设定通信类型和\n",
    "    s.setsockopt(SOL_SOCKET, SO_REUSEADDR,1)\n",
    "    s.bind((host,port))\n",
    "    s.listen(1)\n",
    "    \n",
    "    while True:\n",
    "        try:\n",
    "            #块1\n",
    "            clientsock,clientaddr = s.accept()\n",
    "        except KeyboardInterrupt:\n",
    "            raise\n",
    "        except:\n",
    "            traceback.print_exc()\n",
    "            continue\n",
    "        try:\n",
    "            #块2\n",
    "            print(\"链接来自:\")\n",
    "            print(clientsock.getpeername())\n",
    "        except (KeyboardInterrupt,SystemExit):\n",
    "            raise\n",
    "        except:\n",
    "            traceback.print_exc()\n",
    "            \n",
    "        try:\n",
    "            #块3\n",
    "            clientsock.close()\n",
    "        except KeyboardInterrupt:\n",
    "            raise\n",
    "        except:\n",
    "            traceback.print_exc()"
   ]
  },
  {
   "cell_type": "markdown",
   "metadata": {},
   "source": [
    "> 块1:接收消息,如果输入的是`ctrl+C`那么程序会继续抛出这个异常,而其他的异常会被打印在屏幕上,然后进入下一次循环\n",
    "\n",
    "> 块2:和前面的块类似,不过它还要额外的监视系统退出,也就是是sys.exit()\n",
    "\n",
    "> 块3也和块1类似,保证可以随时关闭连接"
   ]
  },
  {
   "cell_type": "markdown",
   "metadata": {},
   "source": [
    "> 在大型程序中常用finally语句确保socket关闭有意义,也就是块3可以用finally语句保证连接可以关闭"
   ]
  }
 ],
 "metadata": {
  "kernelspec": {
   "display_name": "Python 2",
   "language": "python",
   "name": "python2"
  },
  "language_info": {
   "codemirror_mode": {
    "name": "ipython",
    "version": 2
   },
   "file_extension": ".py",
   "mimetype": "text/x-python",
   "name": "python",
   "nbconvert_exporter": "python",
   "pygments_lexer": "ipython2",
   "version": "2.7.11"
  }
 },
 "nbformat": 4,
 "nbformat_minor": 0
}
