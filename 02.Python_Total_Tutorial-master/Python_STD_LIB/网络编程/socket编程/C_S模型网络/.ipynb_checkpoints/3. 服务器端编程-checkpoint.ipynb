{
 "cells": [
  {
   "cell_type": "markdown",
   "metadata": {},
   "source": [
    "服务器的特点是一直监听一个端口,等待来自客户端的请求.一般来说服务器什么都可以做,只要是监听端口的都可以说是服务器.我想软件即服务也是这里来的.\n",
    "\n",
    "在某些方面,服务器程序和客户端程序是很类似的,很多熟悉的用在网络客户端上的程序指令一样可以在服务器上用,毕竟都是用的socket接口嘛,但在细节上这两者差别很大,而且立场不同要解决的问题也不会一样.这块会讲解如何写一个简单的服务器程序实现简单的计算服务."
   ]
  },
  {
   "cell_type": "markdown",
   "metadata": {},
   "source": [
    "# 准备连接\n",
    "\n",
    "建立一个TCP连接的过程分为4步:\n",
    "\n",
    "+ 建立一个socket对象\n",
    "+ 设置socket选项(可选)\n",
    "+ 绑定到一个端口(或网卡)\n",
    "+ 监听端口连接\n",
    "\n",
    "\n",
    "可以用这样的一些代码段实现:\n",
    "\n",
    "```python\n",
    "from socket import socket\n",
    "from socket import AF_INET, SOCK_STREAM\n",
    "from socket import SOL_SOCKET, SO_REUSEADDR\n",
    "...\n",
    "\n",
    "host = \"\"\n",
    "port = 12345\n",
    "\n",
    "# 步骤一\n",
    "s = socket(AF_INET, SOCK_STREAM)#设定通信类型和\n",
    "\n",
    "# 步骤二\n",
    "s.setsockopt(SOL_SOCKET, SO_REUSEADDR,1)\n",
    "\n",
    "# 步骤三\n",
    "s.bind((host,port))\n",
    "\n",
    "# 步骤四\n",
    "s.listen(5)\n",
    "\n",
    "```"
   ]
  },
  {
   "cell_type": "markdown",
   "metadata": {},
   "source": [
    "> 步骤一\n",
    "\n",
    "在建立socket对象的时候需要制定通信类型和协议家族,通信类型指明用了什么协议来传输数据,而协议家族则定义了数据如何被传输,常用的通信类型和协议家族如下表:"
   ]
  },
  {
   "cell_type": "markdown",
   "metadata": {},
   "source": [
    "**通信类型:**\n",
    "\n",
    "通信协议名字|说明|对应socket中的常量\n",
    "---|---|---\n",
    "IPv4|当前的Internet标准|AF_iNET\n",
    "IPv6|下一代Internet标准|---\n",
    "IPX/SPX|NetWare|---\n",
    "AFP|Apple文件共享|---"
   ]
  },
  {
   "cell_type": "markdown",
   "metadata": {},
   "source": [
    "**协议家族:**\n",
    "\n",
    "协议家族|对应socket中的常量\n",
    "---|---\n",
    "UDP协议|SOCK_DGRAM\n",
    "TCP协议|SOCK_STREAM"
   ]
  },
  {
   "cell_type": "markdown",
   "metadata": {},
   "source": [
    "> 步骤二\n",
    "\n",
    "对于一个socket对象可以设置和得到很多不同的选项.\n",
    "\n",
    "\n",
    "设定socket选项用命令\n",
    "```python\n",
    "setsockopt(level, optname,value)\n",
    "```\n",
    "实现\n",
    "\n",
    "\n",
    "其中level是定义那个选项将被使用,通常都是填的`SOL_SOCKET`,表示正用到的socket选项,还可以通过设置一个特殊协议号码来设置协议选项.对于给定的操作系统一般号码都是明确的.所以为了简便他们很少用于为编写移动设备设计应用程序.\n",
    "如果level设定的是`SOL_SOCKET`,你可以选用的optname就受限很多了,下表是可选项:\n",
    "\n",
    "**SOL_SOCKET常用选项:**\n",
    "\n",
    "选项|意义|期望值\n",
    "---|---|---\n",
    "SO_BINDTODEVICE|可以使socket只在某个特殊的网络接口(网卡)有效,也许不能是移动编写设备|一个字符串给出设备的名称,或者一个空字符串返回默认值\n",
    "SO_BROADCAST|允许广播地址发送和接收信息包,只对UDP有效,如何发送和接收广播信息包|布尔值\n",
    "SO_DONTROUTE|禁止通过路由器和网关往外发送信息包,这主要是为了安全而用在以太网上UDP通信的一种方法,不管目的地址使用什么IP地址,它都可以防止数据离开本地网络|布尔值\n",
    "SO_KEEPALIVE|可以使TCP通信的信息报保持连续性.这些信息包可以在没有信息传输的时候使通信的双方确定连接是保持的|布尔值\n",
    "SO_OOBINLINE|可以把收到的不正常的数据看成正常的数据,也就是说会通过一个标准的对recv()的调用来接收这些数据|布尔值\n",
    "SO_REUSEADDR|当socket关闭后,本地端用于该socket的端口号立刻就可以被重用,通常来说只有经过系统定义的一段时间后,才能重用|布尔值\n",
    "SO_TYPE|重新得到socket类型(例如`SOCK_STREAM`或`SOCK_DGRAM`).只用于getsockopt()|整数\n",
    "\n"
   ]
  },
  {
   "cell_type": "markdown",
   "metadata": {},
   "source": [
    "可以通过如下代码获取当前系统机器上安装的python支持的socket选项."
   ]
  },
  {
   "cell_type": "code",
   "execution_count": 1,
   "metadata": {
    "collapsed": false
   },
   "outputs": [
    {
     "name": "stdout",
     "output_type": "stream",
     "text": [
      "SO_ACCEPTCONN\n",
      "SO_BROADCAST\n",
      "SO_DEBUG\n",
      "SO_DONTROUTE\n",
      "SO_ERROR\n",
      "SO_KEEPALIVE\n",
      "SO_LINGER\n",
      "SO_OOBINLINE\n",
      "SO_RCVBUF\n",
      "SO_RCVLOWAT\n",
      "SO_RCVTIMEO\n",
      "SO_REUSEADDR\n",
      "SO_REUSEPORT\n",
      "SO_SNDBUF\n",
      "SO_SNDLOWAT\n",
      "SO_SNDTIMEO\n",
      "SO_TYPE\n",
      "SO_USELOOPBACK\n"
     ]
    }
   ],
   "source": [
    "import socket\n",
    "solist = [x for x in dir(socket) if x.startswith(\"SO_\")]\n",
    "solist.sort()\n",
    "for x in solist:\n",
    "    print(x)"
   ]
  },
  {
   "cell_type": "markdown",
   "metadata": {},
   "source": [
    "> 步骤三\n",
    "\n",
    "绑定主机与端口.为了绑定一个端口,使用这样的代码:\n",
    "\n",
    "```python\n",
    "\n",
    "s.bind((\"\",80))\n",
    "\n",
    "```\n",
    "这条指令请求80端口,它是标准http宽口,需要注意的是bind()方法接收的是一个又hostname和port组成的tuple,而不是单独的两部分.\n",
    "\n",
    "bind()方法也可以绑定专门的IP地址\n"
   ]
  },
  {
   "cell_type": "markdown",
   "metadata": {},
   "source": [
    "> 步骤四\n",
    "\n",
    "监听连接用listen()方法,它只有一个参数,就是允许的等待连接数(保存在队列中),很多人设5,一般最大也就5."
   ]
  },
  {
   "cell_type": "markdown",
   "metadata": {},
   "source": [
    "# 接收连接\n",
    "\n",
    "服务器一般都是要一直运行等待服务的,所以会有一个无线循环\n",
    "\n",
    ">例"
   ]
  },
  {
   "cell_type": "code",
   "execution_count": 12,
   "metadata": {
    "collapsed": false
   },
   "outputs": [
    {
     "name": "stdout",
     "output_type": "stream",
     "text": [
      "Overwriting socket/exp3.1/server.py\n"
     ]
    }
   ],
   "source": [
    "%%writefile socket/exp3.1/server.py\n",
    "#!/usr/bin/env python\n",
    "#coding:utf-8\n",
    "\n",
    "\"\"\"基本的服务器\"\"\"\n",
    "from socket import socket\n",
    "from socket import AF_INET, SOCK_STREAM\n",
    "from socket import SOL_SOCKET, SO_REUSEADDR\n",
    "\n",
    "host = \"\"\n",
    "port = 12345\n",
    "\n",
    "# 步骤一\n",
    "s = socket(AF_INET, SOCK_STREAM)#设定通信类型和\n",
    "\n",
    "# 步骤二\n",
    "s.setsockopt(SOL_SOCKET, SO_REUSEADDR,1)\n",
    "\n",
    "# 步骤三\n",
    "s.bind((host,port))\n",
    "print(\"等待连接\")\n",
    "# 步骤四\n",
    "s.listen(5)\n",
    "while True:\n",
    "    clientsock,clientaddr = s.accept()\n",
    "    print(\"连接来自\")\n",
    "    print(clientsock.getpeername())\n",
    "    clientsock.close()"
   ]
  },
  {
   "cell_type": "code",
   "execution_count": 3,
   "metadata": {
    "collapsed": true
   },
   "outputs": [],
   "source": [
    "!chmod 777 socket/exp3.1/server.py"
   ]
  },
  {
   "cell_type": "markdown",
   "metadata": {},
   "source": [
    "使用\n",
    "\n",
    "```shell\n",
    "$ socket/exp3.1/server.py\n",
    "```\n",
    "开启服务"
   ]
  },
  {
   "cell_type": "code",
   "execution_count": 13,
   "metadata": {
    "collapsed": false
   },
   "outputs": [
    {
     "name": "stdout",
     "output_type": "stream",
     "text": [
      "Trying ::1...\r\n",
      "telnet: connect to address ::1: Connection refused\r\n",
      "Trying 127.0.0.1...\r\n",
      "Connected to localhost.\r\n",
      "Escape character is '^]'.\r\n",
      "Connection closed by foreign host.\r\n"
     ]
    }
   ],
   "source": [
    "!telnet localhost 12345"
   ]
  },
  {
   "cell_type": "markdown",
   "metadata": {},
   "source": [
    "服务器上显示\n",
    "\n",
    "    等待连接\n",
    "    连接来自\n",
    "    ('127.0.0.1', 63790)\n"
   ]
  }
 ],
 "metadata": {
  "kernelspec": {
   "display_name": "Python 2",
   "language": "python",
   "name": "python2"
  },
  "language_info": {
   "codemirror_mode": {
    "name": "ipython",
    "version": 2
   },
   "file_extension": ".py",
   "mimetype": "text/x-python",
   "name": "python",
   "nbconvert_exporter": "python",
   "pygments_lexer": "ipython2",
   "version": "2.7.11"
  }
 },
 "nbformat": 4,
 "nbformat_minor": 0
}
