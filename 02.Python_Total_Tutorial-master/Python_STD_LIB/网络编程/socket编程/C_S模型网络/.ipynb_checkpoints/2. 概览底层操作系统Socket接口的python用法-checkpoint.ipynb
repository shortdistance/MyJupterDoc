{
 "cells": [
  {
   "cell_type": "markdown",
   "metadata": {},
   "source": [
    "python提供socket模块来实现socket接口,一个典型的客户端程序如下:"
   ]
  },
  {
   "cell_type": "code",
   "execution_count": 19,
   "metadata": {
    "collapsed": false
   },
   "outputs": [
    {
     "name": "stdout",
     "output_type": "stream",
     "text": [
      "Overwriting socket/exp2.1/client.py\n"
     ]
    }
   ],
   "source": [
    "%%writefile socket/exp2.1/client.py\n",
    "#!/usr/bin/env python\n",
    "#coding:utf-8\n",
    "from __future__ import division, print_function\n",
    "\"\"\"一个简单的Gopher信息查找服务的客户端\n",
    "\"\"\"\n",
    "from socket import socket,AF_INET,SOCK_STREAM ,error\n",
    "import sys\n",
    "\n",
    "def main():\n",
    "    port = 70\n",
    "    host = sys.argv[1]\n",
    "    filename = sys.argv[2]\n",
    "    s = socket(AF_INET,SOCK_STREAM)\n",
    "    try:\n",
    "        s.connect((host,port))\n",
    "\n",
    "    except error as e:\n",
    "        print(e)\n",
    "        sys.exit(1)\n",
    "    s.sendall(filename + \"\\r\\n\")\n",
    "    while True:\n",
    "        buf = s.recv(2048)\n",
    "        if not len(buf):\n",
    "            break\n",
    "        sys.stdout.write(buf)\n",
    "        \n",
    "if __name__==\"__main__\":\n",
    "    main()"
   ]
  },
  {
   "cell_type": "code",
   "execution_count": 20,
   "metadata": {
    "collapsed": true
   },
   "outputs": [],
   "source": [
    "!chmod 777 socket/exp2.1/client.py"
   ]
  },
  {
   "cell_type": "code",
   "execution_count": 21,
   "metadata": {
    "collapsed": false
   },
   "outputs": [
    {
     "name": "stdout",
     "output_type": "stream",
     "text": [
      "iWelcome to gopher at quux.org!\tfake\t(NULL)\t0\r",
      "\r\n",
      "i\tfake\t(NULL)\t0\r",
      "\r\n",
      "iThis server has a lot of information of historic interest,\tfake\t(NULL)\t0\r",
      "\r\n",
      "ifunny, or just plain entertaining -- all presented in Gopher.\tfake\t(NULL)\t0\r",
      "\r\n",
      "iThere are many mirrors here of rare or valuable files with the\tfake\t(NULL)\t0\r",
      "\r\n",
      "iaim to preserve them in case their host disappears.  PLEASE READ\tfake\t(NULL)\t0\r",
      "\r\n",
      "i\"About This Server\" FOR IMPORTANT NOTES AND LEGAL INFORMATION.\tfake\t(NULL)\t0\r",
      "\r\n",
      "i\tfake\t(NULL)\t0\r",
      "\r\n",
      "0About This Server\t/About This Server.txt\tgopher.quux.org\t70\t+\r",
      "\r\n",
      "1Archives\t/Archives\tgopher.quux.org\t70\t+\r",
      "\r\n",
      "1Books\t/Books\tgopher.quux.org\t70\t+\r",
      "\r\n",
      "1Communication\t/Communication\tgopher.quux.org\t70\t+\r",
      "\r\n",
      "iThis directory contains the entire text of the book\tfake\t(NULL)\t0\r",
      "\r\n",
      "i\"We the Media: Grassroots Journalism by the People, for the People\"\tfake\t(NULL)\t0\r",
      "\r\n",
      "iby Dan Gillmor in various formats.\tfake\t(NULL)\t0\r",
      "\r\n",
      "i\tfake\t(NULL)\t0\r",
      "\r\n",
      "iFeel free to download and enjoy.\tfake\t(NULL)\t0\r",
      "\r\n",
      "1Computers\t/Computers\tgopher.quux.org\t70\t+\r",
      "\r\n",
      "1Current Issues and Events (Updated Apr. 23, 2002)\t/Current\tgopher.quux.org\t70\t+\r",
      "\r\n",
      "1Development Projects\t/devel\tgopher.quux.org\t70\t+\r",
      "\r\n",
      "0Gopher's 10th Anniversary\t/3.0.0.txt\tgopher.quux.org\t70\r",
      "\r\n",
      "1Government, Politics, Law, and Conflict\t/Government\tgopher.quux.org\t70\t+\r",
      "\r\n",
      "0How To Help\t/How To Help.txt\tgopher.quux.org\t70\t+\r",
      "\r\n",
      "1Humor and Fun\t/Humor and Fun\tgopher.quux.org\t70\t+\r",
      "\r\n",
      "1Index to Quux.Org\t/Archives/index\tgopher.quux.org\t70\r",
      "\r\n",
      "1Internet\t/Internet\tgopher.quux.org\t70\t+\r",
      "\r\n",
      "1Other Gopher Servers\t/Software/Gopher/servers\tgopher.quux.org\t70\r",
      "\r\n",
      "1People\t/People\tgopher.quux.org\t70\t+\r",
      "\r\n",
      "1Reference\t/Reference\tgopher.quux.org\t70\t+\r",
      "\r\n",
      "1Software and Downloads\t/Software\tgopher.quux.org\t70\t+\r",
      "\r\n",
      "1The Gopher Project\t/Software/Gopher\tgopher.quux.org\t70\r",
      "\r\n",
      "0What's New\t/whatsnew.txt\tgopher.quux.org\t70\t+\r",
      "\r\n"
     ]
    }
   ],
   "source": [
    "!socket/exp2.1/client.py quux.org /"
   ]
  },
  {
   "cell_type": "code",
   "execution_count": 13,
   "metadata": {
    "collapsed": false,
    "scrolled": true
   },
   "outputs": [
    {
     "name": "stdout",
     "output_type": "stream",
     "text": [
      "[Errno 61] Connection refused\r\n"
     ]
    }
   ],
   "source": [
    "!socket/exp2.1/client.py qu.org /"
   ]
  },
  {
   "cell_type": "markdown",
   "metadata": {},
   "source": [
    "Gopher协议是一个古老又简单的协议,它的作用是像主机请求相关文档,\n",
    "socket()建立一个socket,参数就是TCP协议和IP协议"
   ]
  },
  {
   "cell_type": "markdown",
   "metadata": {},
   "source": [
    "> 对文件类的操作\n",
    "\n",
    "socket提供一个makefile()函数来生成文件类型,这个例子实现了用文件类接口重写"
   ]
  },
  {
   "cell_type": "code",
   "execution_count": 22,
   "metadata": {
    "collapsed": false
   },
   "outputs": [
    {
     "name": "stdout",
     "output_type": "stream",
     "text": [
      "Overwriting socket/exp2.2/client.py\n"
     ]
    }
   ],
   "source": [
    "%%writefile socket/exp2.2/client.py\n",
    "#!/usr/bin/env python\n",
    "#coding:utf-8\n",
    "from __future__ import division, print_function\n",
    "\"\"\"一个简单的Gopher信息查找服务的客户端,但用文件操作\n",
    "\"\"\"\n",
    "from socket import socket,AF_INET,SOCK_STREAM ,error\n",
    "import sys\n",
    "\n",
    "def main():\n",
    "    port = 70\n",
    "    host = sys.argv[1]\n",
    "    filename = sys.argv[2]\n",
    "    s = socket(AF_INET,SOCK_STREAM)\n",
    "    try:\n",
    "        s.connect((host,port))\n",
    "\n",
    "    except error as e:\n",
    "        print(e)\n",
    "        sys.exit(1)\n",
    "    fd = s.makefile(\"rw\",0)\n",
    "    fd.write(filename+\"\\人\\n\")\n",
    "    for line in fd.readlines():\n",
    "        sys.stdout.write(line)\n",
    "        \n",
    "if __name__==\"__main__\":\n",
    "    main()"
   ]
  },
  {
   "cell_type": "code",
   "execution_count": 16,
   "metadata": {
    "collapsed": true
   },
   "outputs": [],
   "source": [
    "!chmod 777 socket/exp2.2/client.py"
   ]
  },
  {
   "cell_type": "code",
   "execution_count": 23,
   "metadata": {
    "collapsed": false
   },
   "outputs": [
    {
     "name": "stdout",
     "output_type": "stream",
     "text": [
      "3'/\\人' does not exist (no handler found)\t\terror.host\t1\r",
      "\r\n"
     ]
    }
   ],
   "source": [
    "!socket/exp2.2/client.py quux.org /"
   ]
  },
  {
   "cell_type": "markdown",
   "metadata": {},
   "source": [
    "# 典型的服务器:"
   ]
  },
  {
   "cell_type": "code",
   "execution_count": 29,
   "metadata": {
    "collapsed": false
   },
   "outputs": [
    {
     "name": "stdout",
     "output_type": "stream",
     "text": [
      "Overwriting socket/exp2.3/server.py\n"
     ]
    }
   ],
   "source": [
    "%%writefile socket/exp2.3/server.py\n",
    "#!/usr/bin/env python\n",
    "#coding:utf-8\n",
    "from __future__ import division, print_function\n",
    "\"\"\"一个简单的Server\n",
    "\"\"\"\n",
    "from socket import socket,AF_INET,SOCK_STREAM ,SOL_SOCKET ,SO_REUSEADDR\n",
    "import sys\n",
    "\n",
    "def main():\n",
    "    port = 51423\n",
    "    host = \"\"\n",
    "\n",
    "    s = socket(AF_INET,SOCK_STREAM)\n",
    "    s.setsockopt(SOL_SOCKET,SO_REUSEADDR,1)\n",
    "    s.bind((host,port))\n",
    "    s.listen(True)#表示开始监听端口了\n",
    "    print(\"Server is running on port {port}.press Ctrl-C to terminate.\".format(port = port))\n",
    "    while True:\n",
    "        #主循环,从accept()方法开始\n",
    "        clientsock,clientaddr = s.accept()\n",
    "        clientfile = clientsock.makefile(\"rw\",0)\n",
    "        clientfile.write(\"Welcom, \"+ str(clientaddr)+\"\\n\")\n",
    "        clientfile.write(\"Please enter a string: \")\n",
    "        line = clientfile.readline().strip()\n",
    "        clientfile.write(\"Please entered {nbr} chars: \".format(nbr=len(line)))\n",
    "        clientfile.close()#注意要关闭\n",
    "        clientsock.close()\n",
    "if __name__==\"__main__\":\n",
    "    main()"
   ]
  },
  {
   "cell_type": "code",
   "execution_count": 26,
   "metadata": {
    "collapsed": true
   },
   "outputs": [],
   "source": [
    "!chmod 777 socket/exp2.3/server.py"
   ]
  },
  {
   "cell_type": "markdown",
   "metadata": {},
   "source": [
    "在另一个进程中开始服务"
   ]
  },
  {
   "cell_type": "markdown",
   "metadata": {},
   "source": [
    "在一个进程中用telnet工具访问\n",
    "\n",
    "```shell\n",
    "$ telnet localhost 51423\n",
    "\n",
    "Trying ::1...\n",
    "telnet: connect to address ::1: Connection refused\n",
    "Trying 127.0.0.1...\n",
    "Connected to localhost.\n",
    "Escape character is '^]'.\n",
    "Welcom, ('127.0.0.1', 57026)\n",
    "Please enter a string: hsz123\n",
    "Please entered 6 chars: Connection closed by foreign host.\n",
    "\n",
    "```"
   ]
  },
  {
   "cell_type": "markdown",
   "metadata": {},
   "source": [
    "## 利用urllib实现下载"
   ]
  },
  {
   "cell_type": "markdown",
   "metadata": {},
   "source": [
    "urllib是python的url控制工具,利用它可以实现很多有趣的功能,比如下面的下载,注意urlopen方法在python3中已经request子模块下,用3改写的时候需要留心"
   ]
  },
  {
   "cell_type": "code",
   "execution_count": 32,
   "metadata": {
    "collapsed": false
   },
   "outputs": [
    {
     "name": "stdout",
     "output_type": "stream",
     "text": [
      "Writing socket/exp2.4/download.py\n"
     ]
    }
   ],
   "source": [
    "%%writefile socket/exp2.4/download.py\n",
    "#!/usr/bin/env python\n",
    "#coding:utf-8\n",
    "from __future__ import division, print_function\n",
    "\"\"\"一个简单的下载功能\n",
    "\"\"\"\n",
    "import urllib \n",
    "import sys\n",
    "\n",
    "def main():\n",
    "    f = urllib.urlopen(sys.argv[1])\n",
    "    while True:\n",
    "        buf = f.read(2048)\n",
    "        if not len(buf):\n",
    "            break\n",
    "        sys.stdout.write(buf)\n",
    "if __name__==\"__main__\":\n",
    "    main()"
   ]
  },
  {
   "cell_type": "code",
   "execution_count": 33,
   "metadata": {
    "collapsed": true
   },
   "outputs": [],
   "source": [
    "!chmod 777 socket/exp2.4/download.py"
   ]
  },
  {
   "cell_type": "markdown",
   "metadata": {},
   "source": [
    "打开shell运行\n",
    "```shell\n",
    ".download.py http://http.us.debian.org/debian/ls-lR.gz | gunzip\n",
    "```\n",
    "\n",
    "你就可以看到debian的各种文档了"
   ]
  },
  {
   "cell_type": "code",
   "execution_count": null,
   "metadata": {
    "collapsed": true
   },
   "outputs": [],
   "source": []
  }
 ],
 "metadata": {
  "kernelspec": {
   "display_name": "Python 2",
   "language": "python",
   "name": "python2"
  },
  "language_info": {
   "codemirror_mode": {
    "name": "ipython",
    "version": 2
   },
   "file_extension": ".py",
   "mimetype": "text/x-python",
   "name": "python",
   "nbconvert_exporter": "python",
   "pygments_lexer": "ipython2",
   "version": "2.7.11"
  }
 },
 "nbformat": 4,
 "nbformat_minor": 0
}
