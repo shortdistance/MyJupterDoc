{
 "cells": [
  {
   "cell_type": "markdown",
   "metadata": {},
   "source": [
    "对于一个服务器管理员,通信状态的日志文档是很重要的参考文档,python提供了一个很简单的接口来使用logging模块记录日志,我们来修改之前的UDP服务器\n",
    "\n",
    "我们已经使用s.recvfrom()获得了访问主机的ip地址,但ip地址有的时候并不能很好的让人知道究竟是谁,所以一个更好的方案是同时记录下访问者的主机名,也就是dns的反向查找.\n",
    "反向查找是可以被仿造的,因此还要有一次判断确认是否是伪造的"
   ]
  },
  {
   "cell_type": "code",
   "execution_count": 10,
   "metadata": {
    "collapsed": false
   },
   "outputs": [
    {
     "name": "stdout",
     "output_type": "stream",
     "text": [
      "Overwriting socket/exp7.1/server.py\n"
     ]
    }
   ],
   "source": [
    "%%writefile socket/exp7.1/server.py\n",
    "#!/usr/bin/env python\n",
    "#coding:utf-8\n",
    "\n",
    "\"\"\"UDP昨日时间服务器,有log文档\"\"\"\n",
    "from socket import socket,gethostbyaddr,getaddrinfo\n",
    "from socket import AF_INET, SOCK_DGRAM\n",
    "from socket import SOL_SOCKET, SO_REUSEADDR\n",
    "import time\n",
    "import struct\n",
    "import traceback\n",
    "import logging\n",
    "logging.basicConfig(\n",
    "                format='%(asctime)s %(filename)s[line:%(lineno)d] %(levelname)s %(message)s',\n",
    "                datefmt='%a, %d %b %Y %H:%M:%S',\n",
    "                filename='udpserver.log',\n",
    "                filemode='w', level=logging.INFO)\n",
    "\n",
    "host = \"\"\n",
    "port = 12345\n",
    "\n",
    "# 步骤一\n",
    "s = socket(AF_INET, SOCK_DGRAM)#设定通信类型和\n",
    "\n",
    "# 步骤二\n",
    "s.setsockopt(SOL_SOCKET, SO_REUSEADDR,1)\n",
    "\n",
    "# 步骤三\n",
    "s.bind((host,port))\n",
    "logging.info(\"等待连接\")\n",
    "\n",
    "def difhost(fromhost,addr):\n",
    "    idfips = getaddrinfo(fromhost[0],None)\n",
    "        #返回值为(family,socktype,proto,canonname,sockaddr)\n",
    "    ips = [i[4][0] for i in idfips]\n",
    "    if addr[0] in ips:\n",
    "        return True\n",
    "    else:\n",
    "        return False\n",
    "\n",
    "while True:\n",
    "    try:\n",
    "        msg,addr = s.recvfrom(8192)\n",
    "        fromhost = gethostbyaddr(addr[0])\n",
    "        logging.info(\"连接来自\")\n",
    "        if difhost(fromhost,addr):\n",
    "            logging.info(fromhost[0]+str(addr))\n",
    "        else:\n",
    "            logging.info(\"unknow\"+str(addr))\n",
    "        #实现时间功能\n",
    "        secs = int(time.time())\n",
    "        secs -= 60*60*24\n",
    "        secs += 2208988800\n",
    "        reply = struct.pack(\"!I\",secs)\n",
    "        #实现时间功能结束\n",
    "        logging.info(\"准备返回发送\")\n",
    "        s.sendto(reply,addr)\n",
    "        logging.info(\"发送结束\")\n",
    "    except (KeyboardInterrupt,SystemExit):\n",
    "        raise\n",
    "    except:\n",
    "        traceback.print_exc()"
   ]
  },
  {
   "cell_type": "code",
   "execution_count": 2,
   "metadata": {
    "collapsed": true
   },
   "outputs": [],
   "source": [
    "!chmod 777 socket/exp7.1/server.py"
   ]
  }
 ],
 "metadata": {
  "kernelspec": {
   "display_name": "Python 2",
   "language": "python",
   "name": "python2"
  },
  "language_info": {
   "codemirror_mode": {
    "name": "ipython",
    "version": 2
   },
   "file_extension": ".py",
   "mimetype": "text/x-python",
   "name": "python",
   "nbconvert_exporter": "python",
   "pygments_lexer": "ipython2",
   "version": "2.7.11"
  }
 },
 "nbformat": 4,
 "nbformat_minor": 0
}
