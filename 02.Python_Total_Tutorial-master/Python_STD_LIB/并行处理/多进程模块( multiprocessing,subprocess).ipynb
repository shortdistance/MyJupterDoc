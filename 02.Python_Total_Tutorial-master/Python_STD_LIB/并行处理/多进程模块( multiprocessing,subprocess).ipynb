{
 "cells": [
  {
   "cell_type": "markdown",
   "metadata": {},
   "source": [
    "# 多进程模块( multiprocessing,subprocess)\n",
    "\n",
    "\n",
    "\n",
    "## 进程(Process)\n",
    "\n",
    "进程（Process）是计算机中的程序关于某数据集合上的一次运行活动，是系统进行资源分配和调度的基本单位，是操作系统结构的基础。在早期面向进程设计的计算机结构中，进程是程序的基本执行实体；在当代面向线程设计的计算机结构中，进程是线程的容器。程序是指令、数据及其组织形式的描述，进程是程序的实体。--by 百度百科\n",
    "\n",
    "Unix/Linux操作系统提供了一个fork()系统调用.普通的函数调用，调用一次，返回一次，但是fork()调用一次，返回两次，因为操作系统自动把当前进程（称为父进程）复制了一份（称为子进程），然后，分别在父进程和子进程内返回。\n",
    "\n",
    "子进程永远返回0，而父进程返回子进程的ID。这样做的理由是，一个父进程可以fork出很多子进程，所以，父进程要记下每个子进程的ID，而子进程只需要调用getppid()就可以拿到父进程的ID。\n",
    "\n",
    "在\"系统与环境工具\"中我们介绍了`os`模块,它封装了`fork()`\n",
    "\n",
    "*ps:这个只能unix-like系统使用*"
   ]
  },
  {
   "cell_type": "code",
   "execution_count": 1,
   "metadata": {
    "collapsed": true
   },
   "outputs": [],
   "source": [
    "import os"
   ]
  },
  {
   "cell_type": "code",
   "execution_count": 2,
   "metadata": {
    "collapsed": false
   },
   "outputs": [
    {
     "name": "stdout",
     "output_type": "stream",
     "text": [
      "Process (13098) 开始...\n",
      "父进程 (13098) 产生了子进程 (13103).\n"
     ]
    }
   ],
   "source": [
    "print('Process (%s) 开始...' % os.getpid())\n",
    "# Only works on Unix/Linux/Mac:\n",
    "pid = os.fork()\n",
    "if pid == 0:\n",
    "    print('子进程: (%s) 它的父进程是: (%s.)' % (os.getpid(), os.getppid()))\n",
    "else:\n",
    "    print('父进程 (%s) 产生了子进程 (%s).' % (os.getpid(), pid))"
   ]
  },
  {
   "cell_type": "markdown",
   "metadata": {},
   "source": [
    "## 多进程（multiprocessing）\n",
    "\n",
    "进入正题了\n",
    "Python是跨平台的，提供了一个跨平台的多进程支持。multiprocessing模块就是跨平台版本的多进程模块。\n",
    "\n",
    "multiprocessing模块提供了一个Process类来代表一个进程对象，下面的例子演示了启动一个子进程并等待其结束："
   ]
  },
  {
   "cell_type": "code",
   "execution_count": 3,
   "metadata": {
    "collapsed": false
   },
   "outputs": [
    {
     "name": "stdout",
     "output_type": "stream",
     "text": [
      "Overwriting multiproc00.py\n",
      "子进程: (13103) 它的父进程是: (13098.)\n"
     ]
    }
   ],
   "source": [
    "%%writefile multiproc00.py\n",
    "# --*--coding:utf-8 --*--\n",
    "from __future__ import print_function\n",
    "from multiprocessing import Process\n",
    "import os\n",
    "\n",
    "#子进程要执行的代码\n",
    "def run_proc(name):\n",
    "    for i in range(3):\n",
    "        print(u'子进程 %s (%s)...' % (name, os.getpid()))\n",
    "    print(u'子进程结束.')\n",
    "    \n",
    "if __name__=='__main__':\n",
    "    print(u'父进程 %s.' % os.getpid())\n",
    "    p = Process(target=run_proc, args=('test',))\n",
    "    print(u'子进程要开始啦.')\n",
    "    p.start()\n",
    "    for i in range(3):\n",
    "        print(u'父进程{pid}进行中...'.format(pid = os.getpid()))\n",
    "    p.join()\n",
    "    print(u\"父进程结束啦\")\n",
    "    "
   ]
  },
  {
   "cell_type": "code",
   "execution_count": 4,
   "metadata": {
    "collapsed": false
   },
   "outputs": [
    {
     "name": "stdout",
     "output_type": "stream",
     "text": [
      "父进程 13105.\n",
      "子进程要开始啦.\n",
      "父进程13105进行中...\n",
      "父进程13105进行中...\n",
      "父进程13105进行中...\n",
      "子进程 test (13107)...\n",
      "子进程 test (13107)...\n",
      "子进程 test (13107)...\n",
      "子进程结束.\n",
      "父进程结束啦\n"
     ]
    }
   ],
   "source": [
    "!python multiproc00.py"
   ]
  },
  {
   "cell_type": "markdown",
   "metadata": {},
   "source": [
    "创建子进程时，只需要传入一个执行函数和函数的参数，创建一个Process实例，用start()方法启动，这样创建进程比fork()还要简单。\n",
    "\n",
    "join()方法可以等待子进程结束后再继续往下运行，通常用于进程间的同步。"
   ]
  },
  {
   "cell_type": "markdown",
   "metadata": {},
   "source": [
    "可以看到我们的父进程进行完了子进程才进行.其实当执行start方法的时候我们就已经把进程创建好并给他任务了.\n",
    "虽然进程启动了,但我们并不能知道它啥时候运算完成.这时候用join方法来确认是否执行完了(通过阻塞主进程),也就是起个等待结果的作用."
   ]
  },
  {
   "cell_type": "markdown",
   "metadata": {},
   "source": [
    "## 进程间通信\n",
    "\n",
    "如何让进程间通信呢,其实原理上来讲就是构造一个独立的数据结构来存放结果来参与通信\n",
    "\n",
    "有两种方式,最常用的一种是用队列\n",
    ">先进先出队列Queue"
   ]
  },
  {
   "cell_type": "code",
   "execution_count": 7,
   "metadata": {
    "collapsed": false
   },
   "outputs": [
    {
     "name": "stdout",
     "output_type": "stream",
     "text": [
      "Overwriting multiproc01.py\n"
     ]
    }
   ],
   "source": [
    "%%writefile multiproc01.py\n",
    "# --*--coding:utf-8 --*--\n",
    "from __future__ import print_function\n",
    "from multiprocessing import Process, Queue\n",
    "\n",
    "def f(q):\n",
    "    q.put([42, None, 'hello'])\n",
    "\n",
    "if __name__ == '__main__':\n",
    "    q = Queue()\n",
    "    p = Process(target=f, args=(q,))\n",
    "    p.start()\n",
    "    print(q.get())    # prints \"[42, None, 'hello']\"\n",
    "    p.join()"
   ]
  },
  {
   "cell_type": "code",
   "execution_count": 8,
   "metadata": {
    "collapsed": false
   },
   "outputs": [
    {
     "name": "stdout",
     "output_type": "stream",
     "text": [
      "[42, None, 'hello']\r\n"
     ]
    }
   ],
   "source": [
    "!python multiproc01.py"
   ]
  },
  {
   "cell_type": "markdown",
   "metadata": {},
   "source": [
    "看一个稍微复杂一点的:"
   ]
  },
  {
   "cell_type": "code",
   "execution_count": 9,
   "metadata": {
    "collapsed": false
   },
   "outputs": [
    {
     "name": "stdout",
     "output_type": "stream",
     "text": [
      "Overwriting multiproc02.py\n"
     ]
    }
   ],
   "source": [
    "%%writefile multiproc02.py\n",
    "# --*--coding:utf-8 --*--\n",
    "from __future__ import print_function\n",
    "from multiprocessing import Process, Queue\n",
    "import os, time, random\n",
    "\n",
    "# 写数据进程执行的代码:\n",
    "def write(q):\n",
    "    for value in ['A', 'B', 'C']:\n",
    "        print('Put %s to queue...' % value)\n",
    "        q.put(value)\n",
    "        time.sleep(random.random())\n",
    "# 读数据进程执行的代码:\n",
    "def read(q):\n",
    "    # pr进程里是死循环，无法等待其结束，只能强行终止:\n",
    "    while True:\n",
    "        if not q.empty():\n",
    "            value = q.get(True)\n",
    "            print('Get %s from queue.' % value)\n",
    "            time.sleep(random.random())\n",
    "        else:\n",
    "            q.put(\"Done!\")\n",
    "            break\n",
    "if __name__ == '__main__':\n",
    "    # 父进程创建Queue，并传给各个子进程：\n",
    "    q = Queue()\n",
    "    pw = Process(target=write, args=(q,))\n",
    "    pr = Process(target=read, args=(q,))\n",
    "    # 启动子进程pw，写入:\n",
    "    pw.start()    \n",
    "    # 等待pw结束:\n",
    "    pw.join()\n",
    "    # 启动子进程pr，读取:\n",
    "    pr.start()\n",
    "    pr.join()\n",
    "    print(q.get())\n",
    "    print('\\n所有数据都写入并且读完')\n"
   ]
  },
  {
   "cell_type": "code",
   "execution_count": 10,
   "metadata": {
    "collapsed": false
   },
   "outputs": [
    {
     "name": "stdout",
     "output_type": "stream",
     "text": [
      "Put A to queue...\n",
      "Put B to queue...\n",
      "Put C to queue...\n",
      "Get A from queue.\n",
      "Get B from queue.\n",
      "Get C from queue.\n",
      "Done!\n",
      "\n",
      "所有数据都写入并且读完\n"
     ]
    }
   ],
   "source": [
    "!python multiproc02.py"
   ]
  },
  {
   "cell_type": "markdown",
   "metadata": {},
   "source": [
    "看到两个进程间的交互么,父进程创建一个队列给各个子进程,子进程接收父进程的队列作为参数运行.\n",
    "运行过程中将结果存入队列最后运行完后将\"done!\"存入队列,由父进程接收."
   ]
  },
  {
   "cell_type": "markdown",
   "metadata": {},
   "source": [
    "再来是用管道\n",
    "\n",
    "> 管道Pipes\n",
    "\n",
    "既然是管道,那就肯定有两端,有方向,分成单向管道和双向管道了.\n",
    "\n",
    "看一个最简单的双向管道"
   ]
  },
  {
   "cell_type": "code",
   "execution_count": 11,
   "metadata": {
    "collapsed": false
   },
   "outputs": [
    {
     "name": "stdout",
     "output_type": "stream",
     "text": [
      "Overwriting multiproc03.py\n"
     ]
    }
   ],
   "source": [
    "%%writefile multiproc03.py\n",
    "# --*--coding:utf-8 --*--\n",
    "\n",
    "from multiprocessing import Process, Pipe\n",
    "\n",
    "def f(conn):\n",
    "    conn.send([42, None, 'hello'])\n",
    "    conn.close()\n",
    "\n",
    "if __name__ == '__main__':\n",
    "    parent_conn, child_conn = Pipe()\n",
    "    p = Process(target=f, args=(child_conn,))\n",
    "    p.start()\n",
    "    print(parent_conn.recv())   # prints \"[42, None, 'hello']\"\n",
    "    p.join()"
   ]
  },
  {
   "cell_type": "code",
   "execution_count": 12,
   "metadata": {
    "collapsed": false
   },
   "outputs": [
    {
     "name": "stdout",
     "output_type": "stream",
     "text": [
      "[42, None, 'hello']\r\n"
     ]
    }
   ],
   "source": [
    "!python multiproc03.py"
   ]
  },
  {
   "cell_type": "code",
   "execution_count": 13,
   "metadata": {
    "collapsed": false
   },
   "outputs": [
    {
     "name": "stdout",
     "output_type": "stream",
     "text": [
      "Overwriting multiproc04.py\n"
     ]
    }
   ],
   "source": [
    "%%writefile multiproc04.py\n",
    "# --*--coding:utf-8 --*--\n",
    "from __future__ import print_function\n",
    "from multiprocessing import Process, Pipe\n",
    "import os, time, random\n",
    "\n",
    "# 写数据进程执行的代码:\n",
    "def write(conn):\n",
    "    value = [\"h1 reader~\"]\n",
    "    print('Put %s to pip...' % value)\n",
    "    conn.send(value)\n",
    "    time.sleep(1)\n",
    "    \n",
    "# 读数据进程执行的代码:\n",
    "def read(conn):\n",
    "    # pr进程里是死循环，无法等待其结束，只能强行终止:\n",
    "    value = conn.recv()\n",
    "    print('Get %s from pip.' % value)\n",
    "    conn.send(\"hi writer~~\")\n",
    "    \n",
    "\n",
    "if __name__ == '__main__':\n",
    "    # 父进程创建Queue，并传给各个子进程：\n",
    "    parent_conn, child_conn = Pipe()\n",
    "    pw = Process(target=write, args=(parent_conn,))#起点\n",
    "    pr = Process(target=read, args=(child_conn,))#终点\n",
    "    # 启动子进程pw，写入:\n",
    "    pw.start()    \n",
    "    # 等待pw结束:\n",
    "    pw.join()\n",
    "    # 启动子进程pr，读取:\n",
    "    pr.start()\n",
    "    pr.join()\n",
    "    print(parent_conn.recv())\n",
    "    print('\\n所有数据都写入并且读完')\n",
    "\n"
   ]
  },
  {
   "cell_type": "code",
   "execution_count": 14,
   "metadata": {
    "collapsed": false
   },
   "outputs": [
    {
     "name": "stdout",
     "output_type": "stream",
     "text": [
      "Put ['h1 reader~'] to pip...\n",
      "Get ['h1 reader~'] from pip.\n",
      "hi writer~~\n",
      "\n",
      "所有数据都写入并且读完\n"
     ]
    }
   ],
   "source": [
    "!python multiproc04.py"
   ]
  },
  {
   "cell_type": "markdown",
   "metadata": {},
   "source": [
    "可以看出管道的限制相对多些,必须要建立连接才能交换数据,一出一进这样子,这也是为啥队列用的比较多."
   ]
  },
  {
   "cell_type": "markdown",
   "metadata": {},
   "source": [
    "## 静态数据共享\n",
    "\n",
    "python里面的全局变量也只管到他自己的进程,如果要让一个静态的数据在每个子进程中都可以调用.那么需要用到模块中的几个方法:"
   ]
  },
  {
   "cell_type": "code",
   "execution_count": 15,
   "metadata": {
    "collapsed": false
   },
   "outputs": [
    {
     "name": "stdout",
     "output_type": "stream",
     "text": [
      "Overwriting multiproc05.py\n"
     ]
    }
   ],
   "source": [
    "%%writefile multiproc05.py\n",
    "# --*--coding:utf-8 --*--\n",
    "from __future__ import print_function\n",
    "\n",
    "from multiprocessing import Process, Value, Array\n",
    "\n",
    "def f(n, a):\n",
    "    n.value = 3.1415927\n",
    "    for i in range(len(a)):\n",
    "        a[i] = -a[i]\n",
    "\n",
    "if __name__ == '__main__':\n",
    "    num = Value('d', 0.0)\n",
    "    arr = Array('i', range(10))\n",
    "\n",
    "    p = Process(target=f, args=(num, arr))\n",
    "    p.start()\n",
    "    p.join()\n",
    "\n",
    "    print(num.value)\n",
    "    print(arr[:])"
   ]
  },
  {
   "cell_type": "code",
   "execution_count": 16,
   "metadata": {
    "collapsed": false
   },
   "outputs": [
    {
     "name": "stdout",
     "output_type": "stream",
     "text": [
      "3.1415927\r\n",
      "[0, -1, -2, -3, -4, -5, -6, -7, -8, -9]\r\n"
     ]
    }
   ],
   "source": [
    "!python multiproc05.py"
   ]
  },
  {
   "cell_type": "markdown",
   "metadata": {},
   "source": [
    "## 高级共享multiprocessing.Manager\n",
    "\n",
    "之前介绍了queue,pipe,array和value,这些都太具体太细节了,有没有什么方法可以简单地处理数据共享的问题呢?multiprocess提供一个manager模块.\n",
    "\n",
    "Manager()返回的manager对象控制了一个server进程，此进程包含的python对象可以被其他的进程通过proxies来访问。从而达到多进程间数据通信且安全。\n",
    "\n",
    "Manager支持的类型有list,dict,Namespace,Lock,RLock,Semaphore,BoundedSemaphore,Condition,Event,Queue,Value和Array。 "
   ]
  },
  {
   "cell_type": "markdown",
   "metadata": {},
   "source": [
    "> 数据结构的使用:"
   ]
  },
  {
   "cell_type": "code",
   "execution_count": 17,
   "metadata": {
    "collapsed": false
   },
   "outputs": [
    {
     "name": "stdout",
     "output_type": "stream",
     "text": [
      "Overwriting multiproc06.py\n"
     ]
    }
   ],
   "source": [
    "%%writefile multiproc06.py\n",
    "# --*--coding:utf-8 --*--\n",
    "from __future__ import print_function\n",
    "\n",
    "import multiprocessing\n",
    "import time\n",
    "\n",
    "def worker(d, key, value):\n",
    "    d[key] = value\n",
    "\n",
    "if __name__ == '__main__':\n",
    "    mgr = multiprocessing.Manager()\n",
    "    d = mgr.dict()\n",
    "    jobs = [ multiprocessing.Process(target=worker, args=(d, i, i*2))\n",
    "             for i in range(10) \n",
    "             ]\n",
    "    for j in jobs:\n",
    "        j.start()\n",
    "    for j in jobs:\n",
    "        j.join()\n",
    "    print ('Results:' )\n",
    "    for key, value in enumerate(dict(d)):\n",
    "        print(\"%s=%s\" % (key, value))"
   ]
  },
  {
   "cell_type": "code",
   "execution_count": 18,
   "metadata": {
    "collapsed": false
   },
   "outputs": [
    {
     "name": "stdout",
     "output_type": "stream",
     "text": [
      "Results:\r\n",
      "0=0\r\n",
      "1=1\r\n",
      "2=2\r\n",
      "3=3\r\n",
      "4=4\r\n",
      "5=5\r\n",
      "6=6\r\n",
      "7=7\r\n",
      "8=8\r\n",
      "9=9\r\n"
     ]
    }
   ],
   "source": [
    "!python multiproc06.py"
   ]
  },
  {
   "cell_type": "markdown",
   "metadata": {},
   "source": [
    "> namespace对象没有公共的方法，但是有可写的属性"
   ]
  },
  {
   "cell_type": "code",
   "execution_count": 19,
   "metadata": {
    "collapsed": true
   },
   "outputs": [],
   "source": [
    "import multiprocessing"
   ]
  },
  {
   "cell_type": "code",
   "execution_count": 20,
   "metadata": {
    "collapsed": true
   },
   "outputs": [],
   "source": [
    "manager = multiprocessing.Manager()"
   ]
  },
  {
   "cell_type": "code",
   "execution_count": 21,
   "metadata": {
    "collapsed": true
   },
   "outputs": [],
   "source": [
    "Global = manager.Namespace()"
   ]
  },
  {
   "cell_type": "code",
   "execution_count": 22,
   "metadata": {
    "collapsed": true
   },
   "outputs": [],
   "source": [
    "Global.x = 10"
   ]
  },
  {
   "cell_type": "code",
   "execution_count": 24,
   "metadata": {
    "collapsed": true
   },
   "outputs": [],
   "source": [
    "Global.y = 'hello'"
   ]
  },
  {
   "cell_type": "code",
   "execution_count": 25,
   "metadata": {
    "collapsed": false
   },
   "outputs": [
    {
     "name": "stdout",
     "output_type": "stream",
     "text": [
      "Namespace(x=10, y='hello')\n"
     ]
    }
   ],
   "source": [
    "print(Global)"
   ]
  },
  {
   "cell_type": "markdown",
   "metadata": {},
   "source": [
    "## 进程池(pool)\n",
    "\n",
    "如果要启动大量的子进程，可以用进程池的方式批量创建子进程："
   ]
  },
  {
   "cell_type": "code",
   "execution_count": 26,
   "metadata": {
    "collapsed": false
   },
   "outputs": [
    {
     "name": "stdout",
     "output_type": "stream",
     "text": [
      "Overwriting multiprocpool00.py\n"
     ]
    }
   ],
   "source": [
    "%%writefile multiprocpool00.py\n",
    "# --*--coding:utf-8 --*--\n",
    "from __future__ import print_function\n",
    "from multiprocessing import Pool\n",
    "import os, time, random\n",
    "\n",
    "def long_time_task(name):\n",
    "    print('运行任务 %s (%s)...' % (name, os.getpid()))\n",
    "    start = time.time()\n",
    "    time.sleep(random.random() * 3)\n",
    "    end = time.time()\n",
    "    print('任务 %s 执行了 %0.2f 秒.' % (name, (end - start)))\n",
    "\n",
    "if __name__=='__main__':\n",
    "    print('父进程 %s.' % os.getpid())\n",
    "    p = Pool(4)\n",
    "    for i in range(5):\n",
    "        p.apply_async(long_time_task, args=(i,))#创建非阻塞子进程用这个\n",
    "    print('等待所有子进程完成...')\n",
    "    p.close()\n",
    "    p.join()\n",
    "    print('所有子进程完成了.')"
   ]
  },
  {
   "cell_type": "code",
   "execution_count": 27,
   "metadata": {
    "collapsed": false
   },
   "outputs": [
    {
     "name": "stdout",
     "output_type": "stream",
     "text": [
      "父进程 13135.\n",
      "等待所有子进程完成...\n",
      "运行任务 0 (13136)...\n",
      "运行任务 1 (13137)...\n",
      "运行任务 2 (13138)...\n",
      "运行任务 3 (13139)...\n",
      "任务 1 执行了 0.36 秒.\n",
      "运行任务 4 (13137)...\n",
      "任务 3 执行了 0.45 秒.\n",
      "任务 0 执行了 1.36 秒.\n",
      "任务 2 执行了 1.55 秒.\n",
      "任务 4 执行了 2.61 秒.\n",
      "所有子进程完成了.\n"
     ]
    }
   ],
   "source": [
    "!python multiprocpool00.py"
   ]
  },
  {
   "cell_type": "markdown",
   "metadata": {},
   "source": [
    "对Pool对象调用join()方法会等待所有子进程执行完毕，调用join()之前必须先调用close()，调用close()之后就不能继续添加新的Process了。\n",
    "\n",
    "请注意输出的结果，task 0，1，2，3是立刻执行的，而task 4要等待前面某个task完成后才执行，这是因为Pool的默认大小在我的电脑上是4，因此，最多同时执行4个进程。这是Pool有意设计的限制，并不是操作系统的限制。如果改成：\n",
    "\n",
    "    p = Pool(5)\n",
    "\n",
    "就可以同时跑5个进程。\n",
    "\n",
    "由于Pool的默认大小是CPU的核数，如果你不幸拥有8核CPU，你要提交至少9个子进程才能看到上面的等待效果。\n",
    "\n",
    "除了使用`apply_async`方法外,还有apply，map和map_async可以用于线程池的计算\n",
    "\n",
    "命令|说明\n",
    "---|---\n",
    "apply|单一任务布置\n",
    "apply_async|非阻塞单一任务布置\n",
    "map()|同系统的map方法\n",
    "map_async|非阻塞的map\n",
    "\n"
   ]
  },
  {
   "cell_type": "code",
   "execution_count": 28,
   "metadata": {
    "collapsed": false
   },
   "outputs": [
    {
     "name": "stdout",
     "output_type": "stream",
     "text": [
      "Overwriting multiprocpool01.py\n"
     ]
    }
   ],
   "source": [
    "%%writefile multiprocpool01.py\n",
    "# --*--coding:utf-8 --*--\n",
    "from __future__ import print_function\n",
    "from multiprocessing import Pool\n",
    "from time import sleep\n",
    "\n",
    "def f(x):\n",
    "    return x*x\n",
    "\n",
    "if __name__ == '__main__':\n",
    "    # start 4 worker processes\n",
    "    pool = Pool(processes=4)\n",
    "    print(\"map: \",pool.map(f, range(10)))\n",
    "    print(\"imap:\")\n",
    "    for i in pool.imap_unordered(f, range(10)):\n",
    "        print(i)\n",
    "\n",
    "    # evaluate \"f(10)\" asynchronously\n",
    "    res = pool.apply_async(f, [10])\n",
    "    print(\"apply:\",res.get(timeout=1))             # prints \"100\"\n",
    "\n",
    "    # make worker sleep for 10 secs\n",
    "    res = pool.apply_async(sleep, [10])\n",
    "    print(res.get(timeout=1))             # raises multiprocessing.TimeoutError\n"
   ]
  },
  {
   "cell_type": "code",
   "execution_count": 29,
   "metadata": {
    "collapsed": false
   },
   "outputs": [
    {
     "name": "stdout",
     "output_type": "stream",
     "text": [
      "map:  [0, 1, 4, 9, 16, 25, 36, 49, 64, 81]\n",
      "imap:\n",
      "0\n",
      "1\n",
      "4\n",
      "9\n",
      "16\n",
      "25\n",
      "36\n",
      "49\n",
      "64\n",
      "81\n",
      "apply: 100\n",
      "Traceback (most recent call last):\n",
      "  File \"multiprocpool01.py\", line 23, in <module>\n",
      "    print(res.get(timeout=1))             # raises multiprocessing.TimeoutError\n",
      "  File \"/Users/huangsizhe/Lib/conda/anaconda/lib/python2.7/multiprocessing/pool.py\", line 563, in get\n",
      "    raise TimeoutError\n",
      "multiprocessing.TimeoutError\n"
     ]
    }
   ],
   "source": [
    "!python multiprocpool01.py"
   ]
  },
  {
   "cell_type": "markdown",
   "metadata": {},
   "source": [
    "> 获取进程池中的运算结果"
   ]
  },
  {
   "cell_type": "code",
   "execution_count": 30,
   "metadata": {
    "collapsed": false
   },
   "outputs": [
    {
     "name": "stdout",
     "output_type": "stream",
     "text": [
      "Writing multiprocpool02.py\n"
     ]
    }
   ],
   "source": [
    "%%writefile multiprocpool02.py\n",
    "# --*--coding:utf-8 --*--\n",
    "from __future__ import print_function\n",
    "import multiprocessing\n",
    "import time\n",
    "\n",
    "def func(msg):\n",
    "    print(\"msg:\", msg)\n",
    "    time.sleep(1)\n",
    "    print(\"end\")\n",
    "    return \"done \" + msg\n",
    "\n",
    "if __name__ == \"__main__\":\n",
    "    pool = multiprocessing.Pool(processes=4)\n",
    "    result = []\n",
    "    for i in xrange(3):\n",
    "        msg = \"hello %d\" %(i)\n",
    "        result.append(pool.apply_async(func, (msg, )))\n",
    "    pool.close()\n",
    "    pool.join()\n",
    "    for res in result:\n",
    "        print(\":::\", res.get())\n",
    "    print(\"Sub-process(es) done.\")"
   ]
  },
  {
   "cell_type": "code",
   "execution_count": 31,
   "metadata": {
    "collapsed": false
   },
   "outputs": [
    {
     "name": "stdout",
     "output_type": "stream",
     "text": [
      "msg: hello 0\n",
      "msg: hello 1\n",
      "msg: hello 2\n",
      "end\n",
      "end\n",
      "end\n",
      "::: done hello 0\n",
      "::: done hello 1\n",
      "::: done hello 2\n",
      "Sub-process(es) done.\n"
     ]
    }
   ],
   "source": [
    "!python multiprocpool02.py"
   ]
  },
  {
   "cell_type": "markdown",
   "metadata": {},
   "source": [
    "## 子进程(subprocess)\n",
    "\n",
    "很多时候，子进程并不是自身，而是一个外部进程。我们创建了子进程后，还需要控制子进程的输入和输出。\n",
    "\n",
    "subprocess模块可以让我们非常方便地启动一个子进程，然后控制其输入和输出。\n",
    "\n",
    "下面的例子演示了如何在Python代码中运行命令nslookup www.python.org，这和命令行直接运行的效果是一样的："
   ]
  },
  {
   "cell_type": "code",
   "execution_count": 32,
   "metadata": {
    "collapsed": false
   },
   "outputs": [
    {
     "name": "stdout",
     "output_type": "stream",
     "text": [
      "Server:\t\t192.168.2.1\n",
      "Address:\t192.168.2.1#53\n",
      "\n",
      "Non-authoritative answer:\n",
      "www.python.org\tcanonical name = python.map.fastly.net.\n",
      "Name:\tpython.map.fastly.net\n",
      "Address: 103.245.222.223\n",
      "\n",
      "\n",
      "Exit code: 0\n"
     ]
    }
   ],
   "source": [
    "import subprocess\n",
    "r = subprocess.Popen('nslookup www.python.org', shell=True,stdout=subprocess.PIPE)\n",
    "print(r.communicate()[0].decode(\"utf-8\"))\n",
    "print('Exit code:', r.returncode)"
   ]
  },
  {
   "cell_type": "markdown",
   "metadata": {},
   "source": [
    "> # 并行性能测试"
   ]
  },
  {
   "cell_type": "markdown",
   "metadata": {},
   "source": [
    "我们来比较下一个性能吧~来求1到1000万的平方和吧\n",
    "\n",
    "**首先是原装的cpython**"
   ]
  },
  {
   "cell_type": "code",
   "execution_count": 14,
   "metadata": {
    "collapsed": false
   },
   "outputs": [
    {
     "name": "stdout",
     "output_type": "stream",
     "text": [
      "Overwriting multiprocTest.py\n"
     ]
    }
   ],
   "source": [
    "%%writefile multiprocTest.py\n",
    "# --*--coding:utf-8 --*--\n",
    "from __future__ import print_function\n",
    "\n",
    "if __name__==\"__main__\":\n",
    "    print(sum(map(lambda x: x**2,xrange(1,10000001))))"
   ]
  },
  {
   "cell_type": "code",
   "execution_count": 15,
   "metadata": {
    "collapsed": false
   },
   "outputs": [
    {
     "name": "stdout",
     "output_type": "stream",
     "text": [
      "333333383333335000000\n",
      "333333383333335000000\n",
      "333333383333335000000\n",
      "333333383333335000000\n",
      "1 loops, best of 3: 4.34 s per loop\n"
     ]
    }
   ],
   "source": [
    "%timeit !python multiprocTest.py"
   ]
  },
  {
   "cell_type": "markdown",
   "metadata": {},
   "source": [
    "**接着是pypy以性能著称的pypy**"
   ]
  },
  {
   "cell_type": "code",
   "execution_count": 16,
   "metadata": {
    "collapsed": false
   },
   "outputs": [
    {
     "name": "stdout",
     "output_type": "stream",
     "text": [
      "333333383333335000000\n",
      "333333383333335000000\n",
      "333333383333335000000\n",
      "333333383333335000000\n",
      "1 loops, best of 3: 589 ms per loop\n"
     ]
    }
   ],
   "source": [
    "%timeit !pypy multiprocTest.py"
   ]
  },
  {
   "cell_type": "markdown",
   "metadata": {},
   "source": [
    "**然后是多进程并行**"
   ]
  },
  {
   "cell_type": "code",
   "execution_count": 17,
   "metadata": {
    "collapsed": false
   },
   "outputs": [
    {
     "name": "stdout",
     "output_type": "stream",
     "text": [
      "Overwriting multiTest.py\n"
     ]
    }
   ],
   "source": [
    "%%writefile multiTest.py\n",
    "# --*--coding:utf-8 --*--\n",
    "from __future__ import print_function\n",
    "from multiprocessing import Pool\n",
    "import time\n",
    "def f(x):\n",
    "    return x**2\n",
    "\n",
    "if __name__==\"__main__\":\n",
    "    pool = Pool(processes=4)\n",
    "    result = pool.map_async(f,xrange(1,10000001), )\n",
    "    pool.close()\n",
    "    pool.join()\n",
    "    print(sum(result.get()))"
   ]
  },
  {
   "cell_type": "code",
   "execution_count": 18,
   "metadata": {
    "collapsed": false
   },
   "outputs": [
    {
     "name": "stdout",
     "output_type": "stream",
     "text": [
      "333333383333335000000\n",
      "333333383333335000000\n",
      "333333383333335000000\n",
      "333333383333335000000\n",
      "1 loops, best of 3: 9 s per loop\n"
     ]
    }
   ],
   "source": [
    "%timeit !python multiTest.py"
   ]
  },
  {
   "cell_type": "code",
   "execution_count": 19,
   "metadata": {
    "collapsed": false
   },
   "outputs": [
    {
     "name": "stdout",
     "output_type": "stream",
     "text": [
      "333333383333335000000\n",
      "333333383333335000000\n",
      "333333383333335000000\n",
      "333333383333335000000\n",
      "1 loops, best of 3: 19.1 s per loop\n"
     ]
    }
   ],
   "source": [
    "%timeit !pypy multiTest.py"
   ]
  },
  {
   "cell_type": "markdown",
   "metadata": {},
   "source": [
    "由此可见还是pypy靠谱"
   ]
  }
 ],
 "metadata": {
  "kernelspec": {
   "display_name": "Python 3",
   "language": "python",
   "name": "python3"
  },
  "language_info": {
   "codemirror_mode": {
    "name": "ipython",
    "version": 3
   },
   "file_extension": ".py",
   "mimetype": "text/x-python",
   "name": "python",
   "nbconvert_exporter": "python",
   "pygments_lexer": "ipython3",
   "version": "3.5.1"
  }
 },
 "nbformat": 4,
 "nbformat_minor": 0
}
