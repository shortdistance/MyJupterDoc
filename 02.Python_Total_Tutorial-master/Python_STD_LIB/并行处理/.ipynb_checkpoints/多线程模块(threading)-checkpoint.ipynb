{
 "cells": [
  {
   "cell_type": "markdown",
   "metadata": {},
   "source": [
    "# 多线程模块(threading)\n",
    "\n",
    "threading提供了一个高层的API来提供线程的并发性。这些线程并发运行并共享内存。 多线程看着多么美好的,但因为数据安全的问题被加了锁..所以永远是单核运行....不细说了看个简单的用法吧\n",
    "        \n",
    "下面来看threading模块的具体用法： \n"
   ]
  },
  {
   "cell_type": "code",
   "execution_count": 1,
   "metadata": {
    "collapsed": false
   },
   "outputs": [
    {
     "name": "stdout",
     "output_type": "stream",
     "text": [
      "Overwriting threading00.py\n"
     ]
    }
   ],
   "source": [
    "%%writefile threading00.py\n",
    "# --*--coding:utf-8 --*--\n",
    "from __future__ import print_function\n",
    "\n",
    "import threading\n",
    "import time\n",
    " \n",
    "def worker(i):\n",
    "    print(i)\n",
    "    time.sleep(1)\n",
    "    print(\"AWAKE\")\n",
    "    \n",
    "for i in xrange(5):\n",
    "    t = threading.Thread(target=worker,args=(i,))\n",
    "    t.start()\n",
    "print(\"closed\")"
   ]
  },
  {
   "cell_type": "code",
   "execution_count": 2,
   "metadata": {
    "collapsed": false
   },
   "outputs": [
    {
     "name": "stdout",
     "output_type": "stream",
     "text": [
      "01\n",
      "\n",
      "2\n",
      "3\n",
      "4\n",
      "closed\n",
      "AWAKE\n",
      "AWAKE\n",
      "AWAKEAWAKE\n",
      "\n",
      "AWAKE\n"
     ]
    }
   ],
   "source": [
    "!python threading00.py"
   ]
  },
  {
   "cell_type": "markdown",
   "metadata": {},
   "source": [
    "对比下不用多线程:"
   ]
  },
  {
   "cell_type": "code",
   "execution_count": 14,
   "metadata": {
    "collapsed": false
   },
   "outputs": [
    {
     "name": "stdout",
     "output_type": "stream",
     "text": [
      "0\n",
      "AWAKE\n",
      "1\n",
      "AWAKE\n",
      "2\n",
      "AWAKE\n",
      "3\n",
      "AWAKE\n",
      "4\n",
      "AWAKE\n"
     ]
    }
   ],
   "source": [
    "def worker(i):\n",
    "    print(i)\n",
    "    import time\n",
    "    time.sleep(1)\n",
    "    print(\"AWAKE\")\n",
    "    \n",
    "for i in xrange(5):\n",
    "    worker(i)"
   ]
  },
  {
   "cell_type": "markdown",
   "metadata": {},
   "source": [
    "> 几个方法:\n",
    "\n",
    "setDaemon() 设为True时说明是守护进程\n",
    "\n",
    "join() 表示阻塞等待"
   ]
  },
  {
   "cell_type": "code",
   "execution_count": 20,
   "metadata": {
    "collapsed": false
   },
   "outputs": [
    {
     "name": "stdout",
     "output_type": "stream",
     "text": [
      "0\n",
      "True\n",
      "1\n",
      "True\n",
      "2\n",
      "True\n",
      "3 True\n",
      "\n",
      "4\n",
      "True\n",
      "closed\n"
     ]
    }
   ],
   "source": [
    "import threading\n",
    "import time\n",
    "import Queue\n",
    "q = Queue.Queue()\n",
    "def worker(i):\n",
    "    print(i)\n",
    "    time.sleep(1)\n",
    "    print(\"AWAKE\")\n",
    "    q.put(\"r\")\n",
    "for i in xrange(5):\n",
    "    t = threading.Thread(target=worker,args=(i,))\n",
    "    t.start()\n",
    "    print(t.isAlive())\n",
    "print(\"closed\")"
   ]
  },
  {
   "cell_type": "code",
   "execution_count": 21,
   "metadata": {
    "collapsed": false
   },
   "outputs": [
    {
     "name": "stdout",
     "output_type": "stream",
     "text": [
      "AWAKE\n",
      "AWAKE\n",
      "AWAKE\n",
      "AWAKE\n",
      "AWAKE\n"
     ]
    },
    {
     "data": {
      "text/plain": [
       "False"
      ]
     },
     "execution_count": 21,
     "metadata": {},
     "output_type": "execute_result"
    }
   ],
   "source": [
    "t.isAlive()"
   ]
  },
  {
   "cell_type": "code",
   "execution_count": 22,
   "metadata": {
    "collapsed": false
   },
   "outputs": [],
   "source": [
    "t.join()"
   ]
  },
  {
   "cell_type": "code",
   "execution_count": 23,
   "metadata": {
    "collapsed": false
   },
   "outputs": [
    {
     "data": {
      "text/plain": [
       "<Thread(Thread-37, stopped 123145338101760)>"
      ]
     },
     "execution_count": 23,
     "metadata": {},
     "output_type": "execute_result"
    }
   ],
   "source": [
    "t"
   ]
  },
  {
   "cell_type": "code",
   "execution_count": 35,
   "metadata": {
    "collapsed": true
   },
   "outputs": [],
   "source": [
    "from datetime import datetime"
   ]
  },
  {
   "cell_type": "code",
   "execution_count": 37,
   "metadata": {
    "collapsed": false
   },
   "outputs": [],
   "source": [
    "a = datetime.utcnow()"
   ]
  },
  {
   "cell_type": "code",
   "execution_count": 38,
   "metadata": {
    "collapsed": true
   },
   "outputs": [],
   "source": [
    "b = datetime.utcnow()"
   ]
  },
  {
   "cell_type": "code",
   "execution_count": 41,
   "metadata": {
    "collapsed": false
   },
   "outputs": [
    {
     "data": {
      "text/plain": [
       "int"
      ]
     },
     "execution_count": 41,
     "metadata": {},
     "output_type": "execute_result"
    }
   ],
   "source": [
    "type((b-a).seconds)"
   ]
  },
  {
   "cell_type": "code",
   "execution_count": 240,
   "metadata": {
    "collapsed": false
   },
   "outputs": [],
   "source": [
    "from random import randint,random\n",
    "from time import sleep\n",
    "from datetime import datetime\n",
    "class Worker(threading.Thread):\n",
    "    def run (self):\n",
    "        self.state = 0\n",
    "        times = randint(5,30)\n",
    "        self.ifdo = True\n",
    "        for i in range(times):\n",
    "            if random() < 0.2:\n",
    "                self._state = \"error\"\n",
    "                break\n",
    "            if self.ifdo == False:\n",
    "                self._state = \"stoped\"\n",
    "                break\n",
    "\n",
    "            print 'I am running...'\n",
    "            time.sleep(2)\n",
    "            self.state = int(100*(float(i)/times))\n",
    "        else:\n",
    "            self._state = \"success\"\n",
    "            \n",
    "        if self._state == \"stoped\":\n",
    "            self.state = 'REVOKED'\n",
    "\n",
    "        if self._state == \"error\":\n",
    "            self.state = 'FAILURE'\n",
    "\n",
    "        if self._state == \"success\":\n",
    "            self.state = 'SUCCESS'\n",
    "        self.end_time = datetime.utcnow()\n",
    "\n",
    "\n",
    "    def stop (self):\n",
    "        print 'I am stopping it...'\n",
    "        self.ifdo = False;\n",
    "\n",
    "    def getstate(self):\n",
    "        return self.state\n",
    "    def getend_time(self):\n",
    "        if self.isAlive == True:\n",
    "            return False\n",
    "        else:\n",
    "            return self.end_time\n"
   ]
  },
  {
   "cell_type": "code",
   "execution_count": 241,
   "metadata": {
    "collapsed": true
   },
   "outputs": [],
   "source": [
    "worker = Worker()\n",
    "worker.setDaemon(True)"
   ]
  },
  {
   "cell_type": "code",
   "execution_count": 242,
   "metadata": {
    "collapsed": false
   },
   "outputs": [],
   "source": [
    "worker.start()"
   ]
  },
  {
   "cell_type": "code",
   "execution_count": 243,
   "metadata": {
    "collapsed": false
   },
   "outputs": [
    {
     "data": {
      "text/plain": [
       "'FAILURE'"
      ]
     },
     "execution_count": 243,
     "metadata": {},
     "output_type": "execute_result"
    }
   ],
   "source": [
    "worker.getstate()"
   ]
  },
  {
   "cell_type": "code",
   "execution_count": 244,
   "metadata": {
    "collapsed": false
   },
   "outputs": [
    {
     "name": "stdout",
     "output_type": "stream",
     "text": [
      "I am stopping it...\n"
     ]
    }
   ],
   "source": [
    "worker.stop()\n",
    "worker.join()"
   ]
  },
  {
   "cell_type": "code",
   "execution_count": 245,
   "metadata": {
    "collapsed": false
   },
   "outputs": [
    {
     "data": {
      "text/plain": [
       "'FAILURE'"
      ]
     },
     "execution_count": 245,
     "metadata": {},
     "output_type": "execute_result"
    }
   ],
   "source": [
    "worker.getstate()"
   ]
  },
  {
   "cell_type": "code",
   "execution_count": 246,
   "metadata": {
    "collapsed": false
   },
   "outputs": [
    {
     "data": {
      "text/plain": [
       "datetime.datetime"
      ]
     },
     "execution_count": 246,
     "metadata": {},
     "output_type": "execute_result"
    }
   ],
   "source": [
    "type(worker.end_time)"
   ]
  },
  {
   "cell_type": "code",
   "execution_count": 247,
   "metadata": {
    "collapsed": false
   },
   "outputs": [
    {
     "data": {
      "text/plain": [
       "False"
      ]
     },
     "execution_count": 247,
     "metadata": {},
     "output_type": "execute_result"
    }
   ],
   "source": [
    "worker.isAlive()"
   ]
  },
  {
   "cell_type": "code",
   "execution_count": null,
   "metadata": {
    "collapsed": true
   },
   "outputs": [],
   "source": []
  }
 ],
 "metadata": {
  "kernelspec": {
   "display_name": "Python 2",
   "language": "python",
   "name": "python2"
  },
  "language_info": {
   "codemirror_mode": {
    "name": "ipython",
    "version": 2
   },
   "file_extension": ".py",
   "mimetype": "text/x-python",
   "name": "python",
   "nbconvert_exporter": "python",
   "pygments_lexer": "ipython2",
   "version": "2.7.11"
  }
 },
 "nbformat": 4,
 "nbformat_minor": 0
}
