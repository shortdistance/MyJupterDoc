{
 "cells": [
  {
   "cell_type": "markdown",
   "metadata": {},
   "source": [
    "线程安全是多线程编程中最不容易的事儿,线程间同步,互斥数据共享一直是要考虑的问题,而最常见的就是用队列实现管理线程了\n",
    "\n",
    "该模块在2和3中并不相同,2中叫Queue,3中叫queue"
   ]
  },
  {
   "cell_type": "code",
   "execution_count": 1,
   "metadata": {
    "collapsed": false
   },
   "outputs": [],
   "source": [
    "from __future__ import print_function,unicode_literals,division\n",
    "try: \n",
    "    import Queue\n",
    "except:\n",
    "    import queue as Queue\n",
    "import threading\n",
    "import random"
   ]
  },
  {
   "cell_type": "code",
   "execution_count": 2,
   "metadata": {
    "collapsed": false
   },
   "outputs": [],
   "source": [
    "class Producer(threading.Thread):\n",
    "    \"\"\"生产者\"\"\"\n",
    "    def __init__(self,q,con,name):\n",
    "        super(Producer,self).__init__()\n",
    "        self.q = q\n",
    "        self.name = name\n",
    "        self.con = con\n",
    "        print(\"生产者{self.name}产生了\".format(self=self))\n",
    "        \n",
    "    def run(self):\n",
    "        while True:\n",
    "            #global writelock\n",
    "            self.con.acquire()\n",
    "            if self.q.full():\n",
    "\n",
    "                print(\"队列满了,生产者等待\")\n",
    "                self.con.wait()\n",
    "            else:\n",
    "                value = random.randint(0,10)\n",
    "\n",
    "                print(\"{self.name}把值{self.name}:{value}放入了队列\".format(self=self,\n",
    "                                                                         value=value))\n",
    "            self.q.put(\"{self.name}:{value}\".format(self=self,value=value))\n",
    "            self.con.notify()\n",
    "        self.con.release()\n",
    "            "
   ]
  },
  {
   "cell_type": "code",
   "execution_count": 4,
   "metadata": {
    "collapsed": true
   },
   "outputs": [],
   "source": [
    "class Consumer(threading.Thread):\n",
    "    \"\"\"消费者\"\"\"\n",
    "    def __init__(self,q,con,name):\n",
    "        super(Consumer,self).__init__()\n",
    "        self.q = q\n",
    "        self.name = name\n",
    "        self.con = con\n",
    "        print(\"消费者{self.name}产生了\".format(self=self))\n",
    "        \n",
    "    def run(self):\n",
    "        while True:\n",
    "            #global writelock\n",
    "            self.con.acquire()\n",
    "            if self.q.empty():\n",
    "\n",
    "                print(\"队列空了,消费者等待\")\n",
    "                self.con.wait()\n",
    "            else:\n",
    "                value = self.q.get()\n",
    "\n",
    "                print(\"{self.name}从队列中获取了{self.name}:{value}\".format(self=self,\n",
    "                                                                         value=value))\n",
    "                self.con.notify()\n",
    "            self.con.release()    "
   ]
  },
  {
   "cell_type": "code",
   "execution_count": 5,
   "metadata": {
    "collapsed": false
   },
   "outputs": [
    {
     "name": "stdout",
     "output_type": "stream",
     "text": [
      "生产者P1产生了\n",
      "P1把值P1:10放入了队列\n",
      "P1把值P1:10放入了队列\n",
      "P1把值P1:0放入了队列\n",
      "P1把值P1:7放入了队列\n",
      "P1把值P1:7放入了队列\n",
      "P1把值P1:2放入了队列\n",
      "P1把值P1:7放入了队列\n",
      "P1把值P1:0放入了队列\n",
      "P1把值P1:7放入了队列\n",
      "P1把值P1:4放入了队列\n",
      "队列满了,生产者等待\n",
      "生产者P2产生了\n",
      "队列满了,生产者等待\n",
      "消费者C1产生了\n",
      "C1从队列中获取了C1:P1:10\n",
      "C1从队列中获取了C1:P1:10\n",
      "C1从队列中获取了C1:P1:0\n",
      "C1从队列中获取了C1:P1:7\n",
      "C1从队列中获取了C1:P1:7\n",
      "C1从队列中获取了C1:P1:2\n",
      "C1从队列中获取了C1:P1:7\n",
      "C1从队列中获取了C1:P1:0\n",
      "C1从队列中获取了C1:P1:7\n",
      "C1从队列中获取了C1:P1:4\n",
      "队列空了,生产者等待\n"
     ]
    }
   ],
   "source": [
    "q = Queue.Queue(10)\n",
    "con = threading.Condition()\n",
    "p1 = Producer(q,con,\"P1\")\n",
    "p1.start()\n",
    "p2 = Producer(q,con,\"P2\")\n",
    "p2.start()\n",
    "c1 = Consumer(q,con,\"C1\")\n",
    "c1.start()"
   ]
  },
  {
   "cell_type": "markdown",
   "metadata": {},
   "source": [
    "> Queue模块说明\n",
    "\n",
    "方法|说明\n",
    "---|---\n",
    "**队列类型**|---\n",
    "Queue.Queue(maxsize)|先进先出队列,maxsize是队列长度,其值为非正数时是无限循环队列\n",
    "Queue.LifoQueue(maxsize)|后进先出队列,也就是栈\n",
    "Queue.PriorityQueue(maxsize)|优先级队列\n",
    "**支持方法**|---\n",
    "qsize()|返回近似队列大小,,用近似二字因为当该值大于0时不能保证并发执行的时候get(),put()方法不被阻塞\n",
    "empty()|判断是否为空,空返回True否则返回False\n",
    "full()|当设定了队列大小的时候,如果队列满了则返回True,否则False\n",
    "put(item[,block[,timeout]])|向队列添加元素,<br>当block设置为False时队列满则抛出异常<br>当block为True,timeout为None时则会等待直到有空位<br>当block为True,timeout不为None时则根据设定的时间判断是否等待,超时了就抛出错误\n",
    "put_nowait(item)|相当于put(item,False)\n",
    "get([,block[,timeout])|从队列中取出元素,<br>当block设置为False时队列空则抛出异常<br>当block为True,timeout为None时则会等待直到有元素<br>当block为True,timeout不为None时则根据设定的时间判断是否等待,超时了就抛出错误\n",
    "get_nowait()|等价于get(False)\n",
    "task_done()|发送信号表明入列任务已经完成,常在消费者线程里使用\n",
    "join()|阻塞直到队列中所有元素处理完\n",
    "\n",
    "\n",
    "Queue是线程安全的,而且支持in操作,因此用它的时候不用考虑锁的问题"
   ]
  }
 ],
 "metadata": {
  "kernelspec": {
   "display_name": "Python 3",
   "language": "python",
   "name": "python3"
  },
  "language_info": {
   "codemirror_mode": {
    "name": "ipython",
    "version": 3
   },
   "file_extension": ".py",
   "mimetype": "text/x-python",
   "name": "python",
   "nbconvert_exporter": "python",
   "pygments_lexer": "ipython3",
   "version": "3.5.1"
  }
 },
 "nbformat": 4,
 "nbformat_minor": 0
}
