{
 "cells": [
  {
   "cell_type": "markdown",
   "metadata": {},
   "source": [
    "# 命令行解析工具(argparse)\n",
    "\n",
    "计算机最基础的应用就是命令行工具了,用python写命令行工具可以使用argparse.它可以解析命令行参数,可以生成次级菜单等"
   ]
  },
  {
   "cell_type": "code",
   "execution_count": 1,
   "metadata": {
    "collapsed": true
   },
   "outputs": [],
   "source": [
    "import argparse"
   ]
  },
  {
   "cell_type": "markdown",
   "metadata": {},
   "source": [
    "## 基本命令\n",
    "\n",
    "argparse模块的命令可以归结为就3条\n",
    "\n",
    "+ `parser = argparse.ArgumentParser()`  创建命令行解析对象\n",
    "\n",
    "+ `parser.add_argument(name or flags...[, action][, nargs][, const][, default][, type][, choices][, required][, help][, metavar][, dest])` 增加命令行参数\n",
    "\n",
    "选项|说明\n",
    "---|---\n",
    "name or flags|命令行参数名或者选项，如上面的address或者-p,--port.其中命令行参数如果没给定，且没有设置defualt，则出错。但是如果是选项的话，则设置为None\n",
    "nargs|命令行参数的个数，一般使用通配符表示，其中，'?'表示只用一个，'*'表示0到多个，'+'表示至少一个\n",
    "default|默认值\n",
    "type|参数的类型，默认是字符串string类型，还有float、int等类型\n",
    "help|和ArgumentParser方法中的参数作用相似，出现的场合也一致\n",
    "\n",
    "\n",
    "+ `parser.parse_args()` 解析命令行参数\n",
    "\n"
   ]
  },
  {
   "cell_type": "markdown",
   "metadata": {},
   "source": [
    "## 一个简单的例子\n",
    "\n",
    "我们来写一个可以实现两位整型数相加的命令行工具,它有`--help(-h)`和`--version(-v)`两个参数信息\n",
    "\n",
    "代码如下:"
   ]
  },
  {
   "cell_type": "code",
   "execution_count": 2,
   "metadata": {
    "collapsed": false
   },
   "outputs": [
    {
     "name": "stdout",
     "output_type": "stream",
     "text": [
      "Overwriting sum.py\n"
     ]
    }
   ],
   "source": [
    "%%writefile sum.py\n",
    "# !/usr/bin/env python\n",
    "# -*- coding:utf-8 -*-\n",
    "from __future__ import print_function\n",
    "import argparse\n",
    "\n",
    "__version__=0.1\n",
    "\n",
    "def sumarg(args):\n",
    "    if args.sum:\n",
    "        print(sum([int(i) for i in args.sum]))\n",
    "\n",
    "def version(args):\n",
    "    if args.version :\n",
    "        print(\"version:\"+str(__version__))\n",
    "\n",
    "def argp():\n",
    "    parser = argparse.ArgumentParser()\n",
    "    parser.add_argument(\"--sum\", type=int,nargs='+', help=\"add the args \")\n",
    "    parser.add_argument(\"-v\",\"--version\", help=u\"get app's version\",action=\"store_true\")\n",
    "\n",
    "    args = parser.parse_args()\n",
    "    \n",
    "    sumarg(args)\n",
    "    version(args)\n",
    "\n",
    "if __name__ == '__main__':\n",
    "    argp()"
   ]
  },
  {
   "cell_type": "code",
   "execution_count": 3,
   "metadata": {
    "collapsed": false
   },
   "outputs": [
    {
     "name": "stdout",
     "output_type": "stream",
     "text": [
      "usage: sum.py [-h] [--sum SUM [SUM ...]] [-v]\r\n",
      "\r\n",
      "optional arguments:\r\n",
      "  -h, --help           show this help message and exit\r\n",
      "  --sum SUM [SUM ...]  add the args\r\n",
      "  -v, --version        get app's version\r\n"
     ]
    }
   ],
   "source": [
    "!python sum.py -h"
   ]
  },
  {
   "cell_type": "code",
   "execution_count": 6,
   "metadata": {
    "collapsed": false
   },
   "outputs": [
    {
     "name": "stdout",
     "output_type": "stream",
     "text": [
      "version:0.1\r\n"
     ]
    }
   ],
   "source": [
    "!python sum.py -v"
   ]
  },
  {
   "cell_type": "code",
   "execution_count": 7,
   "metadata": {
    "collapsed": false
   },
   "outputs": [
    {
     "name": "stdout",
     "output_type": "stream",
     "text": [
      "7\r\n"
     ]
    }
   ],
   "source": [
    "!python sum.py --sum 1 2 4"
   ]
  },
  {
   "cell_type": "markdown",
   "metadata": {},
   "source": [
    "**说明**:\n",
    "\n",
    "1. type参数只是类型检验,传入的参数还是字符串\n",
    "\n",
    "2. 不需要写usage\n",
    "\n",
    "3. 有nargs参数的话获取的对应是一个list\n",
    "\n",
    "4. 参数传入实际上是被存入了一个namespace的空间中这个空间有俩参数,其中一个是方法名命名的一个list,要调用使用即可:\n",
    "    \n",
    "        args.方法名\n",
    "5. 如果参数中有只能接受一个的情况,可以加入判断\n",
    "\n",
    "        if args.methodname1 == args.methodname1:  \n",
    "            print 'usage: ' + __file__ + ' --help'  \n",
    "            sys.exit(2)  \n",
    "  \n",
    "\n",
    "    来判断两个参数,要么都存在， 要么都不存在， 即可满足要求  \n",
    "\n",
    "\n"
   ]
  },
  {
   "cell_type": "markdown",
   "metadata": {},
   "source": [
    "> 练习:写一个`rename`的命令行工具"
   ]
  },
  {
   "cell_type": "code",
   "execution_count": null,
   "metadata": {
    "collapsed": true
   },
   "outputs": [],
   "source": []
  }
 ],
 "metadata": {
  "kernelspec": {
   "display_name": "Python 3",
   "language": "python",
   "name": "python3"
  },
  "language_info": {
   "codemirror_mode": {
    "name": "ipython",
    "version": 3
   },
   "file_extension": ".py",
   "mimetype": "text/x-python",
   "name": "python",
   "nbconvert_exporter": "python",
   "pygments_lexer": "ipython3",
   "version": "3.5.0"
  }
 },
 "nbformat": 4,
 "nbformat_minor": 0
}
