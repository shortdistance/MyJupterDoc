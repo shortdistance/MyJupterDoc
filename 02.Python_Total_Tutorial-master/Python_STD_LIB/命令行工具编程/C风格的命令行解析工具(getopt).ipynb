{
 "cells": [
  {
   "cell_type": "markdown",
   "metadata": {
    "deletable": true,
    "editable": true
   },
   "source": [
    "# C风格的命令行解析工具(getopt)\n",
    "\n",
    "虽然官方更加推荐使用argparse作为命令行解析工具,但如果app更加适合C风格的命令行命令的话,那`getopt`模块也是个好选择,因为更加简单.但因为更加底层所以一般都和sys模块一起用"
   ]
  },
  {
   "cell_type": "markdown",
   "metadata": {
    "deletable": true,
    "editable": true
   },
   "source": [
    "> 看个例子\n",
    "\n",
    "这个例子实现输入啥就多次的输出啥"
   ]
  },
  {
   "cell_type": "code",
   "execution_count": 1,
   "metadata": {
    "collapsed": false,
    "deletable": true,
    "editable": true
   },
   "outputs": [
    {
     "name": "stdout",
     "output_type": "stream",
     "text": [
      "Overwriting echo_times.py\n"
     ]
    }
   ],
   "source": [
    "%%writefile echo_times.py\n",
    "#!/usr/bin/env python\n",
    "# --*-- coding:utf-8 --*--\n",
    "from __future__ import print_function\n",
    "import sys\n",
    "import getopt\n",
    " #去掉第一位的自身名字\n",
    "\n",
    "#短选项,'hvo:' 为短选项处理格式，h,v,都表示是为无参数，o:表示必有参数,必须要有参数的则在字符后面加“:”表示.\n",
    "#getopt.getopt(args,'hvt:') \n",
    "#['help', 'version', 'output='] 为长选项处理格式，help,version都表示为无参数,output=表示为必有参数，表达工里需要在字符串后加 \"=\" 表示。\n",
    "\n",
    "optlist,args = getopt.getopt(sys.argv[1:],'t:') \n",
    "\n",
    "def main():\n",
    "    times = 1\n",
    "    s = None\n",
    "\n",
    "    for o,v in optlist:\n",
    "        if o==\"-t\":\n",
    "            times = int(v)\n",
    "    if args:\n",
    "        s = args[0]\n",
    "    print(s*times)\n",
    "\n",
    "if __name__ == \"__main__\":\n",
    "    main()\n",
    "\n"
   ]
  },
  {
   "cell_type": "code",
   "execution_count": 72,
   "metadata": {
    "collapsed": false,
    "deletable": true,
    "editable": true
   },
   "outputs": [
    {
     "name": "stdout",
     "output_type": "stream",
     "text": [
      "aa\r\n"
     ]
    }
   ],
   "source": [
    "!python echo_times.py -t 2 a"
   ]
  }
 ],
 "metadata": {
  "kernelspec": {
   "display_name": "Python 2",
   "language": "python",
   "name": "python2"
  },
  "language_info": {
   "codemirror_mode": {
    "name": "ipython",
    "version": 2
   },
   "file_extension": ".py",
   "mimetype": "text/x-python",
   "name": "python",
   "nbconvert_exporter": "python",
   "pygments_lexer": "ipython2",
   "version": "2.7.10"
  }
 },
 "nbformat": 4,
 "nbformat_minor": 0
}
