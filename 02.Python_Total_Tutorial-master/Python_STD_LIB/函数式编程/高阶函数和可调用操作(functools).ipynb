{
 "cells": [
  {
   "cell_type": "markdown",
   "metadata": {
    "deletable": true,
    "editable": true
   },
   "source": [
    "# 高阶函数和可调用操作(functools)\n",
    "\n",
    "该模块提供几个高阶函数和可调用操作\n",
    "\n",
    "+ `cmp_to_key(func)`key值比较函数\n",
    "+ `total_ordering(cls)[装饰器]`自动补完比较运算符\n",
    "+ `reduce(function,iterable[,initializer])`归约\n",
    "+ `partial(func, *args, **keywords)`偏函数\n",
    "+ `update_wrapper(wrapper, wrapped, assigned=WRAPPER_ASSIGNMENTS, updated=WRAPPER_UPDATES)`函数属性交换\n",
    "+ `wraps(wrapped, assigned=WRAPPER_ASSIGNMENTS, updated=WRAPPER_UPDATES)[装饰器]`函数属性交换"
   ]
  },
  {
   "cell_type": "code",
   "execution_count": 16,
   "metadata": {
    "collapsed": true,
    "deletable": true,
    "editable": true
   },
   "outputs": [],
   "source": [
    "from functools import *\n",
    "from __future__ import print_function"
   ]
  },
  {
   "cell_type": "markdown",
   "metadata": {
    "deletable": true,
    "editable": true
   },
   "source": [
    "## `cmp_to_key`\n",
    "\n",
    "这个函数并不常用.3.0中`sorted`方法取消了cmp参数,这个函数是拿来过度用的"
   ]
  },
  {
   "cell_type": "code",
   "execution_count": 2,
   "metadata": {
    "collapsed": true,
    "deletable": true,
    "editable": true
   },
   "outputs": [],
   "source": [
    "def cmp_to_key(mycmp): #【从2.x到3.x移植程序时需要用到】\n",
    "    'Convert a cmp= function into a key= function'\n",
    "    class K(object):\n",
    "        def __init__(self, obj, *args):\n",
    "            self.obj = obj\n",
    "        def __lt__(self, other):\n",
    "            return mycmp(self.obj, other.obj) < 0\n",
    "        def __gt__(self, other):\n",
    "            return mycmp(self.obj, other.obj) > 0\n",
    "        def __eq__(self, other):\n",
    "            return mycmp(self.obj, other.obj) == 0\n",
    "        def __le__(self, other):\n",
    "            return mycmp(self.obj, other.obj) <= 0\n",
    "        def __ge__(self, other):\n",
    "            return mycmp(self.obj, other.obj) >= 0\n",
    "        def __ne__(self, other):\n",
    "            return mycmp(self.obj, other.obj) != 0\n",
    "    return K"
   ]
  },
  {
   "cell_type": "code",
   "execution_count": 3,
   "metadata": {
    "collapsed": true,
    "deletable": true,
    "editable": true
   },
   "outputs": [],
   "source": [
    "def reverse_numeric(x, y):\n",
    "    return y - x"
   ]
  },
  {
   "cell_type": "code",
   "execution_count": 4,
   "metadata": {
    "collapsed": false,
    "deletable": true,
    "editable": true
   },
   "outputs": [
    {
     "data": {
      "text/plain": [
       "[5, 4, 3, 2, 1]"
      ]
     },
     "execution_count": 4,
     "metadata": {},
     "output_type": "execute_result"
    }
   ],
   "source": [
    "sorted([5, 2, 4, 1, 3], key=cmp_to_key(reverse_numeric))"
   ]
  },
  {
   "cell_type": "markdown",
   "metadata": {
    "deletable": true,
    "editable": true
   },
   "source": [
    "## `total_ordering(cls)[装饰器]`自动补完比较运算符\n",
    "\n",
    "这个装饰器只给类定义时用,只要在类中定义了一个比较用的运算符(`__lt__()`, `__le__()`, `__gt__()`, or `__ge__()`)那就可以把其他的自动补完."
   ]
  },
  {
   "cell_type": "markdown",
   "metadata": {
    "deletable": true,
    "editable": true
   },
   "source": [
    "> 例:官方例子"
   ]
  },
  {
   "cell_type": "code",
   "execution_count": 5,
   "metadata": {
    "collapsed": false,
    "deletable": true,
    "editable": true
   },
   "outputs": [
    {
     "ename": "NameError",
     "evalue": "name 'total_ordering' is not defined",
     "output_type": "error",
     "traceback": [
      "\u001b[0;31m---------------------------------------------------------------------------\u001b[0m",
      "\u001b[0;31mNameError\u001b[0m                                 Traceback (most recent call last)",
      "\u001b[0;32m<ipython-input-5-bd5224e5333f>\u001b[0m in \u001b[0;36m<module>\u001b[0;34m()\u001b[0m\n\u001b[0;32m----> 1\u001b[0;31m \u001b[1;33m@\u001b[0m\u001b[0mtotal_ordering\u001b[0m\u001b[1;33m\u001b[0m\u001b[0m\n\u001b[0m\u001b[1;32m      2\u001b[0m \u001b[1;32mclass\u001b[0m \u001b[0mStudent\u001b[0m\u001b[1;33m(\u001b[0m\u001b[0mobject\u001b[0m\u001b[1;33m)\u001b[0m\u001b[1;33m:\u001b[0m\u001b[1;33m\u001b[0m\u001b[0m\n\u001b[1;32m      3\u001b[0m     \u001b[1;32mdef\u001b[0m \u001b[0m__eq__\u001b[0m\u001b[1;33m(\u001b[0m\u001b[0mself\u001b[0m\u001b[1;33m,\u001b[0m \u001b[0mother\u001b[0m\u001b[1;33m)\u001b[0m\u001b[1;33m:\u001b[0m\u001b[1;33m\u001b[0m\u001b[0m\n\u001b[1;32m      4\u001b[0m         return ((self.lastname.lower(), self.firstname.lower()) ==\n\u001b[1;32m      5\u001b[0m                 (other.lastname.lower(), other.firstname.lower()))\n",
      "\u001b[0;31mNameError\u001b[0m: name 'total_ordering' is not defined"
     ]
    }
   ],
   "source": [
    "@total_ordering\n",
    "class Student(object):\n",
    "    def __eq__(self, other):\n",
    "        return ((self.lastname.lower(), self.firstname.lower()) ==\n",
    "                (other.lastname.lower(), other.firstname.lower()))\n",
    "    def __lt__(self, other):\n",
    "        return ((self.lastname.lower(), self.firstname.lower()) <\n",
    "                (other.lastname.lower(), other.firstname.lower()))\n",
    "    def __init__(self,lastname,firstname):\n",
    "        self.lastname = lastname\n",
    "        self.firstname = firstname"
   ]
  },
  {
   "cell_type": "code",
   "execution_count": 31,
   "metadata": {
    "collapsed": false,
    "deletable": true,
    "editable": true
   },
   "outputs": [
    {
     "data": {
      "text/plain": [
       "True"
      ]
     },
     "execution_count": 31,
     "metadata": {},
     "output_type": "execute_result"
    }
   ],
   "source": [
    "a = Student(\"Jhon\",\"Daffy\")\n",
    "b = Student(\"Anlly\",\"Queen\")\n",
    "a>b"
   ]
  },
  {
   "cell_type": "markdown",
   "metadata": {
    "deletable": true,
    "editable": true
   },
   "source": [
    "## `reduce(function,iterable[,initializer])` 归约\n",
    "\n",
    "\"map reduce\"中的reduce,也就是规约,从左到右地一个一个的操作,可以有一个初始值\n",
    "\n",
    ">例子 求积"
   ]
  },
  {
   "cell_type": "code",
   "execution_count": 6,
   "metadata": {
    "collapsed": false,
    "deletable": true,
    "editable": true
   },
   "outputs": [
    {
     "data": {
      "text/plain": [
       "362880"
      ]
     },
     "execution_count": 6,
     "metadata": {},
     "output_type": "execute_result"
    }
   ],
   "source": [
    "reduce(lambda x,y:x*y,range(1,10))"
   ]
  },
  {
   "cell_type": "markdown",
   "metadata": {
    "deletable": true,
    "editable": true
   },
   "source": [
    "## `partial(func, *args, **keywords)`偏函数\n",
    "\n",
    "偏函数和柯里化是函数式编程中常见的技术,这俩有联系有区别\n",
    "\n",
    "partial 通过包装手法，允许我们 \"重新定义\" 函数签名,用一些默认参数包装一个可调用对象,返回结果是可调用对象，并且可以像原始对象一样对待\n",
    "冻结部分函数位置函数或关键字参数，简化函数,更少更灵活的函数参数调用"
   ]
  },
  {
   "cell_type": "markdown",
   "metadata": {
    "deletable": true,
    "editable": true
   },
   "source": [
    "> 例 求加法"
   ]
  },
  {
   "cell_type": "code",
   "execution_count": 41,
   "metadata": {
    "collapsed": true,
    "deletable": true,
    "editable": true
   },
   "outputs": [],
   "source": [
    "def add(x,y,z):\n",
    "    return x+y+z*2\n",
    "    "
   ]
  },
  {
   "cell_type": "code",
   "execution_count": 42,
   "metadata": {
    "collapsed": false,
    "deletable": true,
    "editable": true
   },
   "outputs": [
    {
     "data": {
      "text/plain": [
       "9"
      ]
     },
     "execution_count": 42,
     "metadata": {},
     "output_type": "execute_result"
    }
   ],
   "source": [
    "add(1,2,3)"
   ]
  },
  {
   "cell_type": "code",
   "execution_count": 43,
   "metadata": {
    "collapsed": false,
    "deletable": true,
    "editable": true
   },
   "outputs": [
    {
     "data": {
      "text/plain": [
       "9"
      ]
     },
     "execution_count": 43,
     "metadata": {},
     "output_type": "execute_result"
    }
   ],
   "source": [
    "partial(add,1)(2,3)"
   ]
  },
  {
   "cell_type": "code",
   "execution_count": 44,
   "metadata": {
    "collapsed": false,
    "deletable": true,
    "editable": true
   },
   "outputs": [
    {
     "data": {
      "text/plain": [
       "9"
      ]
     },
     "execution_count": 44,
     "metadata": {},
     "output_type": "execute_result"
    }
   ],
   "source": [
    "partial(add,1,2)(3)"
   ]
  },
  {
   "cell_type": "code",
   "execution_count": 45,
   "metadata": {
    "collapsed": false,
    "deletable": true,
    "editable": true
   },
   "outputs": [
    {
     "data": {
      "text/plain": [
       "9"
      ]
     },
     "execution_count": 45,
     "metadata": {},
     "output_type": "execute_result"
    }
   ],
   "source": [
    "partial(add,z=3)(1,2)"
   ]
  },
  {
   "cell_type": "markdown",
   "metadata": {
    "deletable": true,
    "editable": true
   },
   "source": [
    "这个可以理解成是柯里化的一个比较丑陋的实现方式,但标准库往往是最好用的."
   ]
  },
  {
   "cell_type": "markdown",
   "metadata": {
    "deletable": true,
    "editable": true
   },
   "source": [
    "## `update_wrapper(wrapper, wrapped, assigned=WRAPPER_ASSIGNMENTS, updated=WRAPPER_UPDATES)`\n",
    "\n",
    "默认partial对象或者那些被装饰器包裹的可调用对象没有__name__和__doc__, 这种情况下，对于装饰器函数非常难以debug.使用update_wrapper(),从原始对象拷贝或加入现有对象\n",
    "\n"
   ]
  },
  {
   "cell_type": "markdown",
   "metadata": {
    "deletable": true,
    "editable": true
   },
   "source": [
    "> 看一个计时器的例子"
   ]
  },
  {
   "cell_type": "code",
   "execution_count": 8,
   "metadata": {
    "collapsed": false,
    "deletable": true,
    "editable": true
   },
   "outputs": [
    {
     "name": "stdout",
     "output_type": "stream",
     "text": [
      "hello world2\n",
      "('used:', 0.000520406641644485)\n",
      "hello2\n",
      "test hello\n"
     ]
    }
   ],
   "source": [
    "from functools import update_wrapper\n",
    "import time\n",
    "\n",
    "def timeit_(func):\n",
    "    def wrapper():\n",
    "        start = time.clock()\n",
    "        func()\n",
    "        end =time.clock()\n",
    "        print('used:', end - start)\n",
    "    return update_wrapper(wrapper,func)\n",
    "@timeit_\n",
    "def hello2():\n",
    "    \"\"\"test hello\"\"\"\n",
    "    print('hello world2')\n",
    "\n",
    "\n",
    "hello2()\n",
    "print(hello2.__name__)\n",
    "print(hello2.__doc__)\n"
   ]
  },
  {
   "cell_type": "markdown",
   "metadata": {
    "deletable": true,
    "editable": true
   },
   "source": [
    "## `wraps(wrapped, assigned=WRAPPER_ASSIGNMENTS, updated=WRAPPER_UPDATES)[装饰器]`函数属性交换\n",
    "\n",
    "调用函数装饰器partial(update_wrapper, wrapped=wrapped, assigned=assigned, updated=updated)的简写"
   ]
  },
  {
   "cell_type": "code",
   "execution_count": 20,
   "metadata": {
    "collapsed": false,
    "deletable": true,
    "editable": true
   },
   "outputs": [],
   "source": [
    "import time\n",
    "def timeit_withoutname(func):\n",
    "    def wrapper():\n",
    "        start = time.clock()\n",
    "        func()\n",
    "        end =time.clock()\n",
    "        print('used:', end - start)\n",
    "    return wrapper\n",
    "def timeit(func):\n",
    "    @wraps(func)\n",
    "    def wrapper():\n",
    "        start = time.clock()\n",
    "        func()\n",
    "        end =time.clock()\n",
    "        print('used:', end - start)\n",
    "    return wrapper"
   ]
  },
  {
   "cell_type": "code",
   "execution_count": 21,
   "metadata": {
    "collapsed": false,
    "deletable": true,
    "editable": true
   },
   "outputs": [
    {
     "name": "stdout",
     "output_type": "stream",
     "text": [
      "in foo()\n",
      "used: 2.1000000000270802e-05\n",
      "foo\n",
      "in bar()\n",
      "used: 9.000000000369823e-06\n",
      "wrapper\n"
     ]
    }
   ],
   "source": [
    "@timeit\n",
    "def foo():\n",
    "    print('in foo()')\n",
    " \n",
    "foo()\n",
    "print(foo.__name__)\n",
    "\n",
    "@timeit_withoutname\n",
    "def bar():\n",
    "    print('in bar()')\n",
    " \n",
    "bar()\n",
    "print(bar.__name__)"
   ]
  },
  {
   "cell_type": "markdown",
   "metadata": {
    "deletable": true,
    "editable": true
   },
   "source": [
    "可以看出`wraps`装饰器替换了原函数和wrapper的内置属性,或者说把他俩整个替换掉了.另外相信你也注意到了，这个装饰器竟然带有一个参数。实际上，他还有另外两个可选的参数，assigned中的属性名将使用赋值的方式替换，而updated中的属性名将使用update的方式合并，你可以通过查看functools的源代码获得它们的默认值。对于这个装饰器，相当于wrapper = functools.wraps(func)(wrapper)。"
   ]
  }
 ],
 "metadata": {
  "kernelspec": {
   "display_name": "Python 2",
   "language": "python",
   "name": "python2"
  },
  "language_info": {
   "codemirror_mode": {
    "name": "ipython",
    "version": 2
   },
   "file_extension": ".py",
   "mimetype": "text/x-python",
   "name": "python",
   "nbconvert_exporter": "python",
   "pygments_lexer": "ipython2",
   "version": "2.7.10"
  }
 },
 "nbformat": 4,
 "nbformat_minor": 0
}
