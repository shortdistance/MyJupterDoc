{
 "cells": [
  {
   "cell_type": "markdown",
   "metadata": {},
   "source": [
    "# 运算符模块(operator)\n",
    "\n",
    "operator模块提供了一系列的符号操作,比如`operator.add(x, y)`等于`x+y`.\n",
    "\n",
    "它长作为方法与map,reduce等函数式编程工具配合使用."
   ]
  },
  {
   "cell_type": "code",
   "execution_count": 2,
   "metadata": {
    "collapsed": true
   },
   "outputs": [],
   "source": [
    "import operator"
   ]
  },
  {
   "cell_type": "code",
   "execution_count": 5,
   "metadata": {
    "collapsed": false
   },
   "outputs": [],
   "source": [
    "c = list(map(operator.mul,range(2,6),range(3,7)))\n",
    "print(c)"
   ]
  },
  {
   "cell_type": "markdown",
   "metadata": {},
   "source": [
    "具体符号如下:\n",
    "\n",
    "Operation|\tSyntax|\tFunction\n",
    "---|---|---\n",
    "Addition|\ta + b\t|add(a, b)\n",
    "Concatenation|\tseq1 + seq2\t|concat(seq1, seq2)\n",
    "Containment Test|\tobj in seq\t|contains(seq, obj)\n",
    "Division|\ta / b\t|truediv(a, b)\n",
    "Division|\ta // b\t|floordiv(a, b)\n",
    "Bitwise And|\ta & b\t|and\\_(a, b)\n",
    "Bitwise Exclusive Or|\ta ^ b\t|xor(a, b)\n",
    "Bitwise Inversion|\t~ a\t|invert(a)\n",
    "Bitwise Or|\ta l b\t|or\\_(a, b)\n",
    "Exponentiation|\ta \\*\\* b\t|pow(a, b)\n",
    "Identity|\ta is b\t|is\\_(a, b)\n",
    "Identity|\ta is not b\t|is\\_not(a, b)\n",
    "Indexed Assignment|\tobj[k] = v\t|setitem(obj, k, v)\n",
    "Indexed Deletion|\tdel obj[k]\t|delitem(obj, k)\n",
    "Indexing|\tobj[k]\t|getitem(obj, k)\n",
    "Left Shift|\ta << b\t|lshift(a, b)\n",
    "Modulo|\ta % b\t|mod(a, b)\n",
    "Multiplication|\ta \\* b\t|mul(a, b)\n",
    "Matrix Multiplication|\ta @ b\t|matmul(a, b)\n",
    "Negation (Arithmetic)|\t- a\t|neg(a)\n",
    "Negation (Logical)|\tnot a\t|not\\_(a)\n",
    "Positive|\t+ a\t|pos(a)\n",
    "Right Shift|\ta >> b\t|rshift(a, b)\n",
    "Slice Assignment|\tseq[i:j] = values\t|setitem(seq, slice(i, j), values)\n",
    "Slice Deletion|\tdel seq[i:j]\t|delitem(seq, slice(i, j))\n",
    "Slicing\t|seq[i:j]|\tgetitem(seq, slice(i, j))\n",
    "String Formatting|\ts % obj\t|mod(s, obj)\n",
    "Subtraction|\ta - b|\tsub(a, b)\n",
    "Truth Test|\tobj\t|truth(obj)\n",
    "Ordering|\ta < b\t|lt(a, b)\n",
    "Ordering|\ta <= b\t|le(a, b)\n",
    "Equality|\ta == b\t|eq(a, b)\n",
    "Difference|\ta != b\t|ne(a, b)\n",
    "Ordering|\ta >= b\t|ge(a, b)\n",
    "Ordering|\ta > b\t|gt(a, b)\n",
    "Matrix Multiplication|a @ b|matmul(a, b)\n"
   ]
  }
 ],
 "metadata": {
  "kernelspec": {
   "display_name": "Python 3",
   "language": "python",
   "name": "python3"
  },
  "language_info": {
   "codemirror_mode": {
    "name": "ipython",
    "version": 3
   },
   "file_extension": ".py",
   "mimetype": "text/x-python",
   "name": "python",
   "nbconvert_exporter": "python",
   "pygments_lexer": "ipython3",
   "version": "3.5.0"
  }
 },
 "nbformat": 4,
 "nbformat_minor": 0
}
