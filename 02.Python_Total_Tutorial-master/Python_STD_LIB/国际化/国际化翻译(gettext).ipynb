{
 "cells": [
  {
   "cell_type": "markdown",
   "metadata": {},
   "source": [
    "# 国际化翻译(gettext)\n",
    "\n",
    "我们写app希望可以适应本地化需求,也就是当换一种语言的时候可以自动转成翻译好的对应文本.我们当然可以每个语言些一个版本,代码相同只是修改其中的文本.\n",
    "\n",
    "一个简单的解决方案是使用一个函数包裹字符串,让函数负责找到对应翻译.比如\n"
   ]
  },
  {
   "cell_type": "code",
   "execution_count": 1,
   "metadata": {
    "collapsed": false
   },
   "outputs": [
    {
     "name": "stdout",
     "output_type": "stream",
     "text": [
      "Overwriting international.py\n"
     ]
    }
   ],
   "source": [
    "%%writefile international.py\n",
    "#coding:utf-8\n",
    "spanishStrings = {'Hello world!': 'Hola Mundo!'}\n",
    "frenchStrings = {'Hello world!': 'Bonjour le monde!'}\n",
    "germanStrings = {'Hello world!': 'Hallo Welt!'}\n",
    "  "
   ]
  },
  {
   "cell_type": "code",
   "execution_count": 2,
   "metadata": {
    "collapsed": true
   },
   "outputs": [],
   "source": [
    "from international import *\n",
    "def trans(s):\n",
    "    if LANGUAGE == 'English':\n",
    "        return s\n",
    "    if LANGUAGE == 'Spanish':\n",
    "        return spanishStrings.get(s)\n",
    "    if LANGUAGE == 'French':\n",
    "        return frenchStrings.get(s)\n",
    "    if LANGUAGE == 'German':\n",
    "        return germanStrings.get(s)"
   ]
  },
  {
   "cell_type": "code",
   "execution_count": 3,
   "metadata": {
    "collapsed": false
   },
   "outputs": [
    {
     "name": "stdout",
     "output_type": "stream",
     "text": [
      "Bonjour le monde!\n"
     ]
    }
   ],
   "source": [
    "LANGUAGE = 'French'\n",
    "print(trans(\"Hello world!\"))"
   ]
  },
  {
   "cell_type": "markdown",
   "metadata": {},
   "source": [
    "但是很明显,一旦文本量变大了就会无法管理了~"
   ]
  },
  {
   "cell_type": "markdown",
   "metadata": {},
   "source": [
    "Python提供了gettext模块用于解决这类问题"
   ]
  },
  {
   "cell_type": "markdown",
   "metadata": {},
   "source": [
    "\n",
    "## gettext的使用\n",
    "\n",
    "> 创建国际化文档的文件夹目录\n",
    "\n",
    "\n",
    "    ----|\n",
    "        |-src-|\n",
    "              |-locale-|\n",
    "                       |-en-|\n",
    "                       |    |-LC_MESSAGES\n",
    "                       |\n",
    "                       |-cn-|\n",
    "                       |    |-LC_MESSAGES\n",
    "                       |\n",
    "                       |-fr-|\n",
    "                            |-LC_MESSAGES\n",
    "        "
   ]
  },
  {
   "cell_type": "markdown",
   "metadata": {},
   "source": [
    "> gettext初始化\n",
    "\n",
    "使用脚本工具`pygettext`初始化gettext设置(如果安装的python中没有的话可以来[这里下载](./pygettext.py))"
   ]
  },
  {
   "cell_type": "code",
   "execution_count": 4,
   "metadata": {
    "collapsed": false
   },
   "outputs": [],
   "source": [
    "!pygettext.py "
   ]
  },
  {
   "cell_type": "code",
   "execution_count": 5,
   "metadata": {
    "collapsed": false
   },
   "outputs": [
    {
     "name": "stdout",
     "output_type": "stream",
     "text": [
      "# SOME DESCRIPTIVE TITLE.\r\n",
      "# Copyright (C) YEAR ORGANIZATION\r\n",
      "# FIRST AUTHOR <EMAIL@ADDRESS>, YEAR.\r\n",
      "#\r\n",
      "msgid \"\"\r\n",
      "msgstr \"\"\r\n",
      "\"Project-Id-Version: PACKAGE VERSION\\n\"\r\n",
      "\"POT-Creation-Date: 2016-01-06 15:41+CST\\n\"\r\n",
      "\"PO-Revision-Date: YEAR-MO-DA HO:MI+ZONE\\n\"\r\n",
      "\"Last-Translator: FULL NAME <EMAIL@ADDRESS>\\n\"\r\n",
      "\"Language-Team: LANGUAGE <LL@li.org>\\n\"\r\n",
      "\"MIME-Version: 1.0\\n\"\r\n",
      "\"Content-Type: text/plain; charset=CHARSET\\n\"\r\n",
      "\"Content-Transfer-Encoding: ENCODING\\n\"\r\n",
      "\"Generated-By: pygettext.py 1.5\\n\"\r\n",
      "\r\n",
      "\r\n"
     ]
    }
   ],
   "source": [
    "!cat messages.pot"
   ]
  },
  {
   "cell_type": "markdown",
   "metadata": {},
   "source": [
    "我们修改它的\n",
    "\n",
    "\"Content-Type: text/plain; charset=CHARSET\\n\"\n",
    "\"Content-Transfer-Encoding: ENCODING\\n\"\n",
    "\n",
    "两个字段"
   ]
  },
  {
   "cell_type": "code",
   "execution_count": 6,
   "metadata": {
    "collapsed": false
   },
   "outputs": [
    {
     "name": "stdout",
     "output_type": "stream",
     "text": [
      "Overwriting messages.pot\n"
     ]
    }
   ],
   "source": [
    "%%writefile messages.pot\n",
    "# SOME DESCRIPTIVE TITLE.\n",
    "# Copyright (C) YEAR ORGANIZATION\n",
    "# FIRST AUTHOR <EMAIL@ADDRESS>, YEAR.\n",
    "#\n",
    "msgid \"\"\n",
    "msgstr \"\"\n",
    "\"Project-Id-Version: PACKAGE VERSION\\n\"\n",
    "\"POT-Creation-Date: 2016-01-06 10:05+CST\\n\"\n",
    "\"PO-Revision-Date: YEAR-MO-DA HO:MI+ZONE\\n\"\n",
    "\"Last-Translator: FULL NAME <EMAIL@ADDRESS>\\n\"\n",
    "\"Language-Team: LANGUAGE <LL@li.org>\\n\"\n",
    "\"MIME-Version: 1.0\\n\"\n",
    "\"Content-Type: text/plain; charset=gb2312\\n\"\n",
    "\"Content-Transfer-Encoding: utf-8\\n\"\n",
    "\"Generated-By: pygettext.py 1.5\\n\""
   ]
  },
  {
   "cell_type": "markdown",
   "metadata": {},
   "source": [
    "接着我们将它保存为lang.po"
   ]
  },
  {
   "cell_type": "code",
   "execution_count": 7,
   "metadata": {
    "collapsed": false
   },
   "outputs": [
    {
     "name": "stdout",
     "output_type": "stream",
     "text": [
      "done!\r\n"
     ]
    }
   ],
   "source": [
    "!rename.py messages.pot lang.po"
   ]
  },
  {
   "cell_type": "markdown",
   "metadata": {},
   "source": [
    "> 注册国际化文本"
   ]
  },
  {
   "cell_type": "code",
   "execution_count": 8,
   "metadata": {
    "collapsed": false
   },
   "outputs": [
    {
     "name": "stdout",
     "output_type": "stream",
     "text": [
      "Overwriting transfer.py\n"
     ]
    }
   ],
   "source": [
    "%%writefile transfer.py\n",
    "#!/usr/bin/env python\n",
    "# -*- coding: utf-8 -*-\n",
    "import gettext\n",
    "langen = gettext.translation('lang', './locale', languages=['en'])\n",
    "langcn = gettext.translation('lang', './locale', languages=['cn'])\n",
    "langfr = gettext.translation('lang', './locale', languages=['fr'])\n"
   ]
  },
  {
   "cell_type": "markdown",
   "metadata": {},
   "source": [
    "其中:\n",
    "\n",
    "+ `gettext_te.py`是要翻译模块或app名\n",
    "+ `./locale`是存放翻译文件的路径,\n",
    "+ `languages`参数指定要使用的语言存放的子目录,这里cn表示使用`./locale/cn/LC_MESSAGES/`路径下的翻译文件.\n",
    "\n",
    "这样我们就有了一个`_()`方法来翻译文本"
   ]
  },
  {
   "cell_type": "markdown",
   "metadata": {},
   "source": [
    "> 编辑之前的lang.po"
   ]
  },
  {
   "cell_type": "code",
   "execution_count": 9,
   "metadata": {
    "collapsed": false
   },
   "outputs": [
    {
     "name": "stdout",
     "output_type": "stream",
     "text": [
      "Overwriting lang.po\n"
     ]
    }
   ],
   "source": [
    "%%writefile lang.po\n",
    "# SOME DESCRIPTIVE TITLE.\n",
    "# Copyright (C) YEAR ORGANIZATION\n",
    "# FIRST AUTHOR <EMAIL@ADDRESS>, YEAR.\n",
    "#\n",
    "msgid \"\"\n",
    "msgstr \"\"\n",
    "\"Project-Id-Version: PACKAGE VERSION\\n\"\n",
    "\"POT-Creation-Date: 2016-01-06 10:05+CST\\n\"\n",
    "\"PO-Revision-Date: YEAR-MO-DA HO:MI+ZONE\\n\"\n",
    "\"Last-Translator: FULL NAME <EMAIL@ADDRESS>\\n\"\n",
    "\"Language-Team: LANGUAGE <LL@li.org>\\n\"\n",
    "\"MIME-Version: 1.0\\n\"\n",
    "\"Content-Type: text/plain; charset=utf-8\\n\"\n",
    "\"Content-Transfer-Encoding: utf-8\\n\"\n",
    "\"Generated-By: pygettext.py 1.5\\n\"\n",
    "\n",
    "msgid \"Hello world!\"\n",
    "msgstr \"世界你好!\"\n",
    "\n",
    "msgid \"Python is a good Language.\"\n",
    "msgstr \"Python是门好语言.\""
   ]
  },
  {
   "cell_type": "markdown",
   "metadata": {},
   "source": [
    "> 生成mo文件"
   ]
  },
  {
   "cell_type": "code",
   "execution_count": 10,
   "metadata": {
    "collapsed": false
   },
   "outputs": [],
   "source": [
    "!msgfmt.py lang.po"
   ]
  },
  {
   "cell_type": "markdown",
   "metadata": {},
   "source": [
    "之后将生成的mo文件放入`./locale/cn/LC_MESSAGES/`下"
   ]
  },
  {
   "cell_type": "code",
   "execution_count": 11,
   "metadata": {
    "collapsed": true
   },
   "outputs": [],
   "source": [
    "!cp lang.mo locale/cn/LC_MESSAGES/lang.mo"
   ]
  },
  {
   "cell_type": "code",
   "execution_count": 12,
   "metadata": {
    "collapsed": true
   },
   "outputs": [],
   "source": [
    "!rm lang.mo"
   ]
  },
  {
   "cell_type": "code",
   "execution_count": 13,
   "metadata": {
    "collapsed": true
   },
   "outputs": [],
   "source": [
    "!rm lang.po"
   ]
  },
  {
   "cell_type": "markdown",
   "metadata": {},
   "source": [
    "再编辑另外两个文件"
   ]
  },
  {
   "cell_type": "code",
   "execution_count": 14,
   "metadata": {
    "collapsed": true
   },
   "outputs": [],
   "source": [
    "!pygettext.py"
   ]
  },
  {
   "cell_type": "code",
   "execution_count": 15,
   "metadata": {
    "collapsed": false
   },
   "outputs": [
    {
     "name": "stdout",
     "output_type": "stream",
     "text": [
      "Overwriting messages.pot\n"
     ]
    }
   ],
   "source": [
    "%%writefile messages.pot\n",
    "# SOME DESCRIPTIVE TITLE.\n",
    "# Copyright (C) YEAR ORGANIZATION\n",
    "# FIRST AUTHOR <EMAIL@ADDRESS>, YEAR.\n",
    "#\n",
    "msgid \"\"\n",
    "msgstr \"\"\n",
    "\"Project-Id-Version: PACKAGE VERSION\\n\"\n",
    "\"POT-Creation-Date: 2016-01-06 10:05+CST\\n\"\n",
    "\"PO-Revision-Date: YEAR-MO-DA HO:MI+ZONE\\n\"\n",
    "\"Last-Translator: FULL NAME <EMAIL@ADDRESS>\\n\"\n",
    "\"Language-Team: LANGUAGE <LL@li.org>\\n\"\n",
    "\"MIME-Version: 1.0\\n\"\n",
    "\"Content-Type: text/plain; charset=IBM037\\n\"\n",
    "\"Content-Transfer-Encoding: utf-8\\n\"\n",
    "\"Generated-By: pygettext.py 1.5\\n\""
   ]
  },
  {
   "cell_type": "code",
   "execution_count": 16,
   "metadata": {
    "collapsed": false
   },
   "outputs": [
    {
     "name": "stdout",
     "output_type": "stream",
     "text": [
      "done!\r\n"
     ]
    }
   ],
   "source": [
    "!rename.py messages.pot lang.po"
   ]
  },
  {
   "cell_type": "code",
   "execution_count": 17,
   "metadata": {
    "collapsed": false
   },
   "outputs": [
    {
     "name": "stdout",
     "output_type": "stream",
     "text": [
      "Overwriting lang.po\n"
     ]
    }
   ],
   "source": [
    "%%writefile lang.po\n",
    "# SOME DESCRIPTIVE TITLE.\n",
    "# Copyright (C) YEAR ORGANIZATION\n",
    "# FIRST AUTHOR <EMAIL@ADDRESS>, YEAR.\n",
    "#\n",
    "msgid \"\"\n",
    "msgstr \"\"\n",
    "\"Project-Id-Version: PACKAGE VERSION\\n\"\n",
    "\"POT-Creation-Date: 2016-01-06 10:05+CST\\n\"\n",
    "\"PO-Revision-Date: YEAR-MO-DA HO:MI+ZONE\\n\"\n",
    "\"Last-Translator: FULL NAME <EMAIL@ADDRESS>\\n\"\n",
    "\"Language-Team: LANGUAGE <LL@li.org>\\n\"\n",
    "\"MIME-Version: 1.0\\n\"\n",
    "\"Content-Type: text/plain; charset=IBM037\\n\"\n",
    "\"Content-Transfer-Encoding: utf-8\\n\"\n",
    "\"Generated-By: pygettext.py 1.5\\n\"\n",
    "\n"
   ]
  },
  {
   "cell_type": "code",
   "execution_count": 18,
   "metadata": {
    "collapsed": false
   },
   "outputs": [],
   "source": [
    "!msgfmt.py lang.po"
   ]
  },
  {
   "cell_type": "code",
   "execution_count": 19,
   "metadata": {
    "collapsed": true
   },
   "outputs": [],
   "source": [
    "!cp lang.mo locale/en/LC_MESSAGES/lang.mo"
   ]
  },
  {
   "cell_type": "code",
   "execution_count": 20,
   "metadata": {
    "collapsed": true
   },
   "outputs": [],
   "source": [
    "!rm lang.mo"
   ]
  },
  {
   "cell_type": "code",
   "execution_count": 21,
   "metadata": {
    "collapsed": true
   },
   "outputs": [],
   "source": [
    "!rm lang.po"
   ]
  },
  {
   "cell_type": "code",
   "execution_count": 22,
   "metadata": {
    "collapsed": true
   },
   "outputs": [],
   "source": [
    "!pygettext.py"
   ]
  },
  {
   "cell_type": "code",
   "execution_count": 23,
   "metadata": {
    "collapsed": false
   },
   "outputs": [
    {
     "name": "stdout",
     "output_type": "stream",
     "text": [
      "Overwriting messages.pot\n"
     ]
    }
   ],
   "source": [
    "%%writefile messages.pot\n",
    "# SOME DESCRIPTIVE TITLE.\n",
    "# Copyright (C) YEAR ORGANIZATION\n",
    "# FIRST AUTHOR <EMAIL@ADDRESS>, YEAR.\n",
    "#\n",
    "msgid \"\"\n",
    "msgstr \"\"\n",
    "\"Project-Id-Version: PACKAGE VERSION\\n\"\n",
    "\"POT-Creation-Date: 2016-01-06 10:05+CST\\n\"\n",
    "\"PO-Revision-Date: YEAR-MO-DA HO:MI+ZONE\\n\"\n",
    "\"Last-Translator: FULL NAME <EMAIL@ADDRESS>\\n\"\n",
    "\"Language-Team: LANGUAGE <LL@li.org>\\n\"\n",
    "\"MIME-Version: 1.0\\n\"\n",
    "\"Content-Type: text/plain; charset=IBM01147\\n\"\n",
    "\"Content-Transfer-Encoding: utf-8\\n\"\n",
    "\"Generated-By: pygettext.py 1.5\\n\""
   ]
  },
  {
   "cell_type": "code",
   "execution_count": 24,
   "metadata": {
    "collapsed": false
   },
   "outputs": [
    {
     "name": "stdout",
     "output_type": "stream",
     "text": [
      "done!\r\n"
     ]
    }
   ],
   "source": [
    "!rename.py messages.pot lang.po"
   ]
  },
  {
   "cell_type": "code",
   "execution_count": 25,
   "metadata": {
    "collapsed": false
   },
   "outputs": [
    {
     "name": "stdout",
     "output_type": "stream",
     "text": [
      "Overwriting lang.po\n"
     ]
    }
   ],
   "source": [
    "%%writefile lang.po\n",
    "# SOME DESCRIPTIVE TITLE.\n",
    "# Copyright (C) YEAR ORGANIZATION\n",
    "# FIRST AUTHOR <EMAIL@ADDRESS>, YEAR.\n",
    "#\n",
    "msgid \"\"\n",
    "msgstr \"\"\n",
    "\"Project-Id-Version: PACKAGE VERSION\\n\"\n",
    "\"POT-Creation-Date: 2016-01-06 10:05+CST\\n\"\n",
    "\"PO-Revision-Date: YEAR-MO-DA HO:MI+ZONE\\n\"\n",
    "\"Last-Translator: FULL NAME <EMAIL@ADDRESS>\\n\"\n",
    "\"Language-Team: LANGUAGE <LL@li.org>\\n\"\n",
    "\"MIME-Version: 1.0\\n\"\n",
    "\"Content-Type: text/plain; charset=utf-8\\n\"\n",
    "\"Content-Transfer-Encoding: utf-8\\n\"\n",
    "\"Generated-By: pygettext.py 1.5\\n\"\n",
    "\n",
    "msgid \"Hello world!\"\n",
    "msgstr \"Bonjour le Monde!\"\n",
    "\n",
    "msgid \"Python is a good language.\"\n",
    "msgstr \"Python est une bien langue.\""
   ]
  },
  {
   "cell_type": "code",
   "execution_count": 26,
   "metadata": {
    "collapsed": true
   },
   "outputs": [],
   "source": [
    "!msgfmt.py lang.po"
   ]
  },
  {
   "cell_type": "code",
   "execution_count": 27,
   "metadata": {
    "collapsed": true
   },
   "outputs": [],
   "source": [
    "!cp lang.mo locale/fr/LC_MESSAGES/lang.mo"
   ]
  },
  {
   "cell_type": "code",
   "execution_count": 28,
   "metadata": {
    "collapsed": true
   },
   "outputs": [],
   "source": [
    "!rm lang.mo"
   ]
  },
  {
   "cell_type": "code",
   "execution_count": 29,
   "metadata": {
    "collapsed": true
   },
   "outputs": [],
   "source": [
    "!rm lang.po"
   ]
  },
  {
   "cell_type": "markdown",
   "metadata": {},
   "source": [
    "> 编辑主模块"
   ]
  },
  {
   "cell_type": "code",
   "execution_count": 30,
   "metadata": {
    "collapsed": false
   },
   "outputs": [
    {
     "name": "stdout",
     "output_type": "stream",
     "text": [
      "Overwriting gettext_te.py\n"
     ]
    }
   ],
   "source": [
    "%%writefile gettext_te.py\n",
    "#!/usr/bin/env python\n",
    "# -*- coding: utf-8 -*-\n",
    "from __future__ import print_function\n",
    "from transfer import *\n",
    "langcn.install()\n",
    "print(_(\"Hello world!\"))\n",
    "langen.install()\n",
    "print(_(\"Hello world!\"))\n",
    "langfr.install()\n",
    "print(_(\"Hello world!\"))"
   ]
  },
  {
   "cell_type": "code",
   "execution_count": 31,
   "metadata": {
    "collapsed": false
   },
   "outputs": [
    {
     "name": "stdout",
     "output_type": "stream",
     "text": [
      "世界你好!\n",
      "Hello world!\n",
      "Bonjour le Monde!\n"
     ]
    }
   ],
   "source": [
    "%run gettext_te.py"
   ]
  },
  {
   "cell_type": "markdown",
   "metadata": {},
   "source": [
    "这样每次只要修改对应文件夹的`mo`文件就可以实现本地化了,一次受罪终身受用~"
   ]
  },
  {
   "cell_type": "markdown",
   "metadata": {},
   "source": [
    "## 用format方法处理带变量字符串\n",
    "\n",
    "当遇到要有变量的字符串时我们当然可以直接分段的翻译,但明显这样不好用不好看,可以利用字符串的format方法优雅的翻译\n",
    "\n",
    "(请先将kernel重启)"
   ]
  },
  {
   "cell_type": "code",
   "execution_count": 1,
   "metadata": {
    "collapsed": false
   },
   "outputs": [
    {
     "name": "stdout",
     "output_type": "stream",
     "text": [
      "Writing lang.po\n"
     ]
    }
   ],
   "source": [
    "%%writefile lang.po\n",
    "# SOME DESCRIPTIVE TITLE.\n",
    "# Copyright (C) YEAR ORGANIZATION\n",
    "# FIRST AUTHOR <EMAIL@ADDRESS>, YEAR.\n",
    "#\n",
    "msgid \"\"\n",
    "msgstr \"\"\n",
    "\"Project-Id-Version: PACKAGE VERSION\\n\"\n",
    "\"POT-Creation-Date: 2016-01-06 10:05+CST\\n\"\n",
    "\"PO-Revision-Date: YEAR-MO-DA HO:MI+ZONE\\n\"\n",
    "\"Last-Translator: FULL NAME <EMAIL@ADDRESS>\\n\"\n",
    "\"Language-Team: LANGUAGE <LL@li.org>\\n\"\n",
    "\"MIME-Version: 1.0\\n\"\n",
    "\"Content-Type: text/plain; charset=utf-8\\n\"\n",
    "\"Content-Transfer-Encoding: utf-8\\n\"\n",
    "\"Generated-By: pygettext.py 1.5\\n\"\n",
    "\n",
    "msgid \"Hello world!\"\n",
    "msgstr \"Bonjour le Monde!\"\n",
    "\n",
    "msgid \"Python is a good language.\"\n",
    "msgstr \"Python est une bien langue.\"\n",
    "\n",
    "msgid \"Hello\"\n",
    "msgstr \"Bonjour\"\n",
    "\n",
    "msgid \"Hello {name:}!\"\n",
    "msgstr \"Bonjour {name:}!\""
   ]
  },
  {
   "cell_type": "code",
   "execution_count": 2,
   "metadata": {
    "collapsed": true
   },
   "outputs": [],
   "source": [
    "!msgfmt.py lang.po"
   ]
  },
  {
   "cell_type": "code",
   "execution_count": 3,
   "metadata": {
    "collapsed": true
   },
   "outputs": [],
   "source": [
    "!cp lang.mo locale/fr/LC_MESSAGES/lang.mo"
   ]
  },
  {
   "cell_type": "code",
   "execution_count": 4,
   "metadata": {
    "collapsed": true
   },
   "outputs": [],
   "source": [
    "!rm lang.po"
   ]
  },
  {
   "cell_type": "code",
   "execution_count": 5,
   "metadata": {
    "collapsed": true
   },
   "outputs": [],
   "source": [
    "!rm lang.mo"
   ]
  },
  {
   "cell_type": "code",
   "execution_count": 6,
   "metadata": {
    "collapsed": false
   },
   "outputs": [
    {
     "name": "stdout",
     "output_type": "stream",
     "text": [
      "Writing lang.po\n"
     ]
    }
   ],
   "source": [
    "%%writefile lang.po\n",
    "# SOME DESCRIPTIVE TITLE.\n",
    "# Copyright (C) YEAR ORGANIZATION\n",
    "# FIRST AUTHOR <EMAIL@ADDRESS>, YEAR.\n",
    "#\n",
    "msgid \"\"\n",
    "msgstr \"\"\n",
    "\"Project-Id-Version: PACKAGE VERSION\\n\"\n",
    "\"POT-Creation-Date: 2016-01-06 10:05+CST\\n\"\n",
    "\"PO-Revision-Date: YEAR-MO-DA HO:MI+ZONE\\n\"\n",
    "\"Last-Translator: FULL NAME <EMAIL@ADDRESS>\\n\"\n",
    "\"Language-Team: LANGUAGE <LL@li.org>\\n\"\n",
    "\"MIME-Version: 1.0\\n\"\n",
    "\"Content-Type: text/plain; charset=utf-8\\n\"\n",
    "\"Content-Transfer-Encoding: utf-8\\n\"\n",
    "\"Generated-By: pygettext.py 1.5\\n\"\n",
    "\n",
    "msgid \"Hello world!\"\n",
    "msgstr \"世界你好!\"\n",
    "\n",
    "msgid \"Python is a good Language.\"\n",
    "msgstr \"Python是门好语言.\"\n",
    "\n",
    "msgid \"Hello\"\n",
    "msgstr \"你好\"\n",
    "\n",
    "msgid \"Hello {name:}!\"\n",
    "msgstr \"你好{name:}!\""
   ]
  },
  {
   "cell_type": "code",
   "execution_count": 7,
   "metadata": {
    "collapsed": true
   },
   "outputs": [],
   "source": [
    "!msgfmt.py lang.po"
   ]
  },
  {
   "cell_type": "code",
   "execution_count": 8,
   "metadata": {
    "collapsed": true
   },
   "outputs": [],
   "source": [
    "!cp lang.mo locale/cn/LC_MESSAGES/lang.mo"
   ]
  },
  {
   "cell_type": "code",
   "execution_count": 9,
   "metadata": {
    "collapsed": true
   },
   "outputs": [],
   "source": [
    "!rm lang.po"
   ]
  },
  {
   "cell_type": "code",
   "execution_count": 10,
   "metadata": {
    "collapsed": true
   },
   "outputs": [],
   "source": [
    "!rm lang.mo"
   ]
  },
  {
   "cell_type": "code",
   "execution_count": 11,
   "metadata": {
    "collapsed": false
   },
   "outputs": [
    {
     "name": "stdout",
     "output_type": "stream",
     "text": [
      "Overwriting gettext_te2.py\n"
     ]
    }
   ],
   "source": [
    "%%writefile gettext_te2.py\n",
    "#!/usr/bin/env python\n",
    "# -*- coding: utf-8 -*-\n",
    "from __future__ import print_function\n",
    "from transfer import *\n",
    "langcn.install()\n",
    "print(_(\"Hello world!\"))\n",
    "print(_(\"Hello\"))\n",
    "print(_(\"Hello {name:}!\").format(name=\"Lily\"))\n",
    "langen.install()\n",
    "print(_(\"Hello world!\"))\n",
    "print(_(\"Hello\"))\n",
    "print(_(\"Hello {name:}!\").format(name=\"Lily\"))\n",
    "langfr.install()\n",
    "print(_(\"Hello world!\"))\n",
    "print(_(\"Hello\"))\n",
    "print(_(\"Hello {name:}!\").format(name=\"Lily\"))"
   ]
  },
  {
   "cell_type": "code",
   "execution_count": 12,
   "metadata": {
    "collapsed": false
   },
   "outputs": [
    {
     "name": "stdout",
     "output_type": "stream",
     "text": [
      "世界你好!\n",
      "你好\n",
      "你好Lily!\n",
      "Hello world!\n",
      "Hello\n",
      "Hello Lily!\n",
      "Bonjour le Monde!\n",
      "Bonjour\n",
      "Bonjour Lily!\n"
     ]
    }
   ],
   "source": [
    "%run gettext_te2.py"
   ]
  }
 ],
 "metadata": {
  "kernelspec": {
   "display_name": "Python 3",
   "language": "python",
   "name": "python3"
  },
  "language_info": {
   "codemirror_mode": {
    "name": "ipython",
    "version": 3
   },
   "file_extension": ".py",
   "mimetype": "text/x-python",
   "name": "python",
   "nbconvert_exporter": "python",
   "pygments_lexer": "ipython3",
   "version": "3.5.0"
  }
 },
 "nbformat": 4,
 "nbformat_minor": 0
}
