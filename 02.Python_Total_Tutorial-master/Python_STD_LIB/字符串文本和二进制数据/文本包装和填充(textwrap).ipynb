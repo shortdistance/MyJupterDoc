{
 "cells": [
  {
   "cell_type": "markdown",
   "metadata": {
    "deletable": true,
    "editable": true
   },
   "source": [
    "# 文本包装和填充(textwrap)\n",
    "\n",
    "TextWrap提供函数:\n",
    "\n",
    "+ wrap()\n",
    "+ fill()\n",
    "+ 工具函数dedent()\n",
    "+ TextWrapper类\n",
    "\n",
    "通常包装或者填充一两个字符串使用wrap()和fill()。其他情况使用TextWrapper更高效。 "
   ]
  },
  {
   "cell_type": "code",
   "execution_count": 1,
   "metadata": {
    "collapsed": true,
    "deletable": true,
    "editable": true
   },
   "outputs": [],
   "source": [
    "from textwrap import wrap,fill,dedent,TextWrapper"
   ]
  },
  {
   "cell_type": "code",
   "execution_count": 2,
   "metadata": {
    "collapsed": true,
    "deletable": true,
    "editable": true
   },
   "outputs": [],
   "source": [
    "sample_text = '''\\\n",
    "    The textwrap module can beused to format text for output in\n",
    "    situations wherepretty-printing is desired.  It offers\n",
    "    programmatic functionalitysimilar to the paragraph wrapping\n",
    "    or filling features found inmany text editors.\n",
    "'''"
   ]
  },
  {
   "cell_type": "markdown",
   "metadata": {
    "deletable": true,
    "editable": true
   },
   "source": [
    "> `wrap(text[,width])`\n",
    "\n",
    "包装单个段落(text为输入，系字符串)，每行最长宽度width。返回输出行的列表，最后行无换行符。Width默认70。"
   ]
  },
  {
   "cell_type": "code",
   "execution_count": 3,
   "metadata": {
    "collapsed": false,
    "deletable": true,
    "editable": true
   },
   "outputs": [
    {
     "data": {
      "text/plain": [
       "['    The textwrap',\n",
       " 'module can beused to',\n",
       " 'format text for',\n",
       " 'output in',\n",
       " 'situations',\n",
       " 'wherepretty-printing',\n",
       " 'is desired.  It',\n",
       " 'offers',\n",
       " 'programmatic',\n",
       " 'functionalitysimilar',\n",
       " 'to the paragraph',\n",
       " 'wrapping     or',\n",
       " 'filling features',\n",
       " 'found inmany text',\n",
       " 'editors.']"
      ]
     },
     "execution_count": 3,
     "metadata": {},
     "output_type": "execute_result"
    }
   ],
   "source": [
    "wrap(sample_text,20)"
   ]
  },
  {
   "cell_type": "markdown",
   "metadata": {
    "deletable": true,
    "editable": true
   },
   "source": [
    "> `fill(text[,width])`\n",
    "\n",
    "包装单段文字，并返回包含包裹段落的字符串。实际上是\"\\n\".join(wrap(text,...))的缩写。"
   ]
  },
  {
   "cell_type": "code",
   "execution_count": 4,
   "metadata": {
    "collapsed": false,
    "deletable": true,
    "editable": true
   },
   "outputs": [
    {
     "data": {
      "text/plain": [
       "'    The textwrap module can beused to format text\\nfor output in     situations wherepretty-printing\\nis desired.  It offers     programmatic\\nfunctionalitysimilar to the paragraph wrapping\\nor filling features found inmany text editors.'"
      ]
     },
     "execution_count": 4,
     "metadata": {},
     "output_type": "execute_result"
    }
   ],
   "source": [
    "fill(sample_text,50)"
   ]
  },
  {
   "cell_type": "markdown",
   "metadata": {
    "deletable": true,
    "editable": true
   },
   "source": [
    "> `dedent(text)`\n",
    "\n",
    "反缩进去掉每行行首空白"
   ]
  },
  {
   "cell_type": "code",
   "execution_count": 34,
   "metadata": {
    "collapsed": false,
    "deletable": true,
    "editable": true
   },
   "outputs": [
    {
     "data": {
      "text/plain": [
       "'The textwrap module can beused to format text for output in\\nsituations wherepretty-printing is desired.  It offers\\nprogrammatic functionalitysimilar to the paragraph wrapping\\nor filling features found inmany text editors.\\n'"
      ]
     },
     "execution_count": 34,
     "metadata": {},
     "output_type": "execute_result"
    }
   ],
   "source": [
    "dedent(sample_text)"
   ]
  },
  {
   "cell_type": "markdown",
   "metadata": {
    "deletable": true,
    "editable": true
   },
   "source": [
    "## 实用代码"
   ]
  },
  {
   "cell_type": "markdown",
   "metadata": {
    "deletable": true,
    "editable": true
   },
   "source": [
    "> 段落填充"
   ]
  },
  {
   "cell_type": "code",
   "execution_count": 36,
   "metadata": {
    "collapsed": false,
    "deletable": true,
    "editable": true
   },
   "outputs": [
    {
     "name": "stdout",
     "output_type": "stream",
     "text": [
      "Nodedent:\n",
      "\n",
      "    The textwrap module can beused to format text\n",
      "for output in     situations wherepretty-printing\n",
      "is desired.  It offers     programmatic\n",
      "functionalitysimilar to the paragraph wrapping\n",
      "or filling features found inmany text editors.\n"
     ]
    }
   ],
   "source": [
    "print('Nodedent:\\n')\n",
    "print(fill(sample_text, width=50))"
   ]
  },
  {
   "cell_type": "markdown",
   "metadata": {
    "deletable": true,
    "editable": true
   },
   "source": [
    "结果为左对齐，第一行有缩进。行中的空格继续保留"
   ]
  },
  {
   "cell_type": "markdown",
   "metadata": {
    "deletable": true,
    "editable": true
   },
   "source": [
    "> 移除缩进"
   ]
  },
  {
   "cell_type": "code",
   "execution_count": 37,
   "metadata": {
    "collapsed": false,
    "deletable": true,
    "editable": true,
    "scrolled": true
   },
   "outputs": [
    {
     "name": "stdout",
     "output_type": "stream",
     "text": [
      "Nodedent:\n",
      "\n",
      "The textwrap module can beused to format text for output in\n",
      "situations wherepretty-printing is desired.  It offers\n",
      "programmatic functionalitysimilar to the paragraph wrapping\n",
      "or filling features found inmany text editors.\n",
      "\n"
     ]
    }
   ],
   "source": [
    "print('Nodedent:\\n')\n",
    "print(dedent(sample_text))"
   ]
  },
  {
   "cell_type": "markdown",
   "metadata": {
    "deletable": true,
    "editable": true
   },
   "source": [
    "第一行就不会缩进了"
   ]
  },
  {
   "cell_type": "markdown",
   "metadata": {
    "deletable": true,
    "editable": true
   },
   "source": [
    "> 移除缩进+填充"
   ]
  },
  {
   "cell_type": "code",
   "execution_count": 38,
   "metadata": {
    "collapsed": false,
    "deletable": true,
    "editable": true
   },
   "outputs": [
    {
     "name": "stdout",
     "output_type": "stream",
     "text": [
      "(45, ' Columns:\\n')\n",
      "The textwrap module can beused to format text\n",
      "for output in situations wherepretty-printing\n",
      "is desired.  It offers programmatic\n",
      "functionalitysimilar to the paragraph\n",
      "wrapping or filling features found inmany\n",
      "text editors.\n",
      "(70, ' Columns:\\n')\n",
      "The textwrap module can beused to format text for output in situations\n",
      "wherepretty-printing is desired.  It offers programmatic\n",
      "functionalitysimilar to the paragraph wrapping or filling features\n",
      "found inmany text editors.\n"
     ]
    }
   ],
   "source": [
    "for width in [ 45,70 ]:\n",
    "    print(width,' Columns:\\n' )\n",
    "    print(fill(dedent(sample_text),width=width))"
   ]
  },
  {
   "cell_type": "markdown",
   "metadata": {
    "deletable": true,
    "editable": true
   },
   "source": [
    "> 悬挂缩进：悬挂缩进第一行的缩进小于其他行的缩进。"
   ]
  },
  {
   "cell_type": "code",
   "execution_count": 39,
   "metadata": {
    "collapsed": false,
    "deletable": true,
    "editable": true
   },
   "outputs": [
    {
     "name": "stdout",
     "output_type": "stream",
     "text": [
      "The textwrap module can beused to format text for\n",
      "    output in situations wherepretty-printing is\n",
      "    desired.  It offers programmatic\n",
      "    functionalitysimilar to the paragraph wrapping\n",
      "    or filling features found inmany text editors.\n"
     ]
    }
   ],
   "source": [
    "dedented_text =dedent(sample_text).strip()\n",
    "\n",
    "print(fill(dedented_text,\n",
    "           initial_indent='',\n",
    "           subsequent_indent=' ' * 4,\n",
    "           width=50))"
   ]
  },
  {
   "cell_type": "markdown",
   "metadata": {
    "deletable": true,
    "editable": true
   },
   "source": [
    "其中的’’*4还可以使用其他字符代替。"
   ]
  }
 ],
 "metadata": {
  "kernelspec": {
   "display_name": "Python 2",
   "language": "python",
   "name": "python2"
  },
  "language_info": {
   "codemirror_mode": {
    "name": "ipython",
    "version": 2
   },
   "file_extension": ".py",
   "mimetype": "text/x-python",
   "name": "python",
   "nbconvert_exporter": "python",
   "pygments_lexer": "ipython2",
   "version": "2.7.10"
  }
 },
 "nbformat": 4,
 "nbformat_minor": 0
}
