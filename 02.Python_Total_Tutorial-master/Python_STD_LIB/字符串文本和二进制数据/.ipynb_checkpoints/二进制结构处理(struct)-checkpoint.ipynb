{
 "cells": [
  {
   "cell_type": "markdown",
   "metadata": {},
   "source": [
    "# 二进制结构处理(struct)\n",
    "\n",
    "有的时候需要用python处理二进制数据，比如，存取文件，socket操作时.这时候，可以使用python的struct模块来完成.可以用 struct来处理c语言中的结构体.\n",
    "\n",
    "struct模块中最重要的三个函数是pack(), unpack(), calcsize():\n",
    "\n",
    "+ pack(fmt, v1, v2, ...)     \n",
    "按照给定的格式(fmt)，把数据封装成bytes(2.7中是str,实际上是类似于c结构体的字节流)\n",
    "+ unpack(fmt, string)       \n",
    "按照给定的格式(fmt)解析字节流bytes，返回解析出来的tuple\n",
    "+ calcsize(fmt)                 \n",
    "计算给定的格式(fmt)占用多少字节的内存"
   ]
  },
  {
   "cell_type": "markdown",
   "metadata": {},
   "source": [
    "struct中支持的格式如下表：\n",
    "\n",
    "Format|C Type|Python|字节数\n",
    "---|---|---|---\n",
    "x|pad byte|no value|---\n",
    "c|char|string of length 1|1\n",
    "b|signed char|integer|1\n",
    "B|unsigned char|integer|1\n",
    "?|\\_Bool|bool|1\n",
    "h|short|integer|2\n",
    "H|unsigned short|nteger|2\n",
    "i|int|integer|4\n",
    "I|unsigned int|integer or long|4\n",
    "l|long|integer|4\n",
    "L|unsigned long|long|4\n",
    "q|long long|long|8\n",
    "Q|unsigned long long|long|8\n",
    "n(3+)|ssize_t|integer|---\n",
    "N(3+)|size_t|integer|---\t \n",
    "f|float|float|4\n",
    "d|double|float|8\n",
    "s|char[]|bytes(2.7string)|---\n",
    "p|char[]|bytes(2.7string)|---\n",
    "P|void \\*|\tinteger|---\n",
    "\n",
    "\n",
    "注1.q和Q只在机器支持64位操作时有意思\n",
    "\n",
    "注2.每个格式前可以有一个数字，表示个数\n",
    "\n",
    "注3.s格式表示一定长度的字符串，4s表示长度为4的字符串，但是p表示的是pascal字符串\n",
    "\n",
    "注4.P用来转换一个指针，其长度和机器字长相关\n",
    "\n",
    "注5.最后一个可以用来表示指针类型的，占4个字节\n",
    "\n",
    "为了同c中的结构体交换数据，还要考虑有的c或c++编译器使用了字节对齐，通常是以4个字节为单位的32位系统，故而struct根据本地机器字节顺序转换.可以用格式中的第一个字符来改变对齐方式.定义如下：\n",
    "\n",
    "Character|\tByte order|\tSize and alignment\n",
    "---|---|---\n",
    "@\t|native\t|native            凑够4个字节\n",
    "=\t|native\t|standard        按原字节数\n",
    "<\t|little-endian\t|standard        按原字节数\n",
    "\\>\t|big-endian|standard       按原字节数\n",
    "!\t|network (= big-endian)|standard       按原字节数\n",
    "\n",
    "使用方法是放在fmt的第一个位置，就像'@5s6sif'"
   ]
  },
  {
   "cell_type": "code",
   "execution_count": 1,
   "metadata": {
    "collapsed": true
   },
   "outputs": [],
   "source": [
    "from struct import pack,unpack,calcsize"
   ]
  },
  {
   "cell_type": "markdown",
   "metadata": {},
   "source": [
    "> `pack()`\n",
    "\n",
    "pack把相应的数据类型变成bytes"
   ]
  },
  {
   "cell_type": "code",
   "execution_count": 14,
   "metadata": {
    "collapsed": false
   },
   "outputs": [
    {
     "data": {
      "text/plain": [
       "'\\xa4pEA'"
      ]
     },
     "execution_count": 14,
     "metadata": {},
     "output_type": "execute_result"
    }
   ],
   "source": [
    "pack('f',12.34)"
   ]
  },
  {
   "cell_type": "markdown",
   "metadata": {},
   "source": [
    "如果是由多个数据构成的，可以这样："
   ]
  },
  {
   "cell_type": "code",
   "execution_count": 18,
   "metadata": {
    "collapsed": false
   },
   "outputs": [
    {
     "data": {
      "text/plain": [
       "'helloworld!\\x00\\x02\\x00\\x00\\x00\\xf4}4B'"
      ]
     },
     "execution_count": 18,
     "metadata": {},
     "output_type": "execute_result"
    }
   ],
   "source": [
    "a='hello'\n",
    "\n",
    "b='world!'\n",
    "\n",
    "c=2\n",
    "\n",
    "d=45.123\n",
    "\n",
    "pack('5s6sif',a,b,c,d)"
   ]
  },
  {
   "cell_type": "markdown",
   "metadata": {},
   "source": [
    ">`unpack()`\n",
    "\n",
    "unpack把bytes变成相应的数据类型："
   ]
  },
  {
   "cell_type": "code",
   "execution_count": 15,
   "metadata": {
    "collapsed": false
   },
   "outputs": [
    {
     "data": {
      "text/plain": [
       "(12.34000015258789,)"
      ]
     },
     "execution_count": 15,
     "metadata": {},
     "output_type": "execute_result"
    }
   ],
   "source": [
    "unpack(\"f\",b'\\xa4pEA')"
   ]
  },
  {
   "cell_type": "code",
   "execution_count": 3,
   "metadata": {
    "collapsed": false,
    "scrolled": true
   },
   "outputs": [
    {
     "data": {
      "text/plain": [
       "(4042322160, 32896)"
      ]
     },
     "execution_count": 3,
     "metadata": {},
     "output_type": "execute_result"
    }
   ],
   "source": [
    "unpack('>IH', b'\\xf0\\xf0\\xf0\\xf0\\x80\\x80')"
   ]
  },
  {
   "cell_type": "markdown",
   "metadata": {},
   "source": [
    ">>例 一个bmp格式图片前30个字节\n",
    "\n",
    "其格式为:\n",
    "\n",
    "+ 一个4字节整数：表示位图大小；\n",
    "+ 一个4字节整数：保留位，始终为0；\n",
    "+ 一个4字节整数：实际图像的偏移量；\n",
    "+ 一个4字节整数：Header的字节数；\n",
    "+ 一个4字节整数：图像宽度；\n",
    "+ 一个4字节整数：图像高度；\n",
    "+ 一个2字节整数：始终为1；\n",
    "+ 一个2字节整数：颜色数。"
   ]
  },
  {
   "cell_type": "code",
   "execution_count": 8,
   "metadata": {
    "collapsed": true
   },
   "outputs": [],
   "source": [
    "s = b'\\x42\\x4d\\x38\\x8c\\x0a\\x00\\x00\\x00\\x00\\x00\\x36\\x00\\x00\\x00\\x28\\x00\\x00\\x00\\x80\\x02\\x00\\x00\\x68\\x01\\x00\\x00\\x01\\x00\\x18\\x00'"
   ]
  },
  {
   "cell_type": "code",
   "execution_count": 9,
   "metadata": {
    "collapsed": false
   },
   "outputs": [
    {
     "data": {
      "text/plain": [
       "('B', 'M', 691256, 0, 54, 40, 640, 360, 1, 24)"
      ]
     },
     "execution_count": 9,
     "metadata": {},
     "output_type": "execute_result"
    }
   ],
   "source": [
    "unpack('<ccIIIIIIHH', s)"
   ]
  }
 ],
 "metadata": {
  "kernelspec": {
   "display_name": "Python 2",
   "language": "python",
   "name": "python2"
  },
  "language_info": {
   "codemirror_mode": {
    "name": "ipython",
    "version": 2
   },
   "file_extension": ".py",
   "mimetype": "text/x-python",
   "name": "python",
   "nbconvert_exporter": "python",
   "pygments_lexer": "ipython2",
   "version": "2.7.10"
  }
 },
 "nbformat": 4,
 "nbformat_minor": 0
}
