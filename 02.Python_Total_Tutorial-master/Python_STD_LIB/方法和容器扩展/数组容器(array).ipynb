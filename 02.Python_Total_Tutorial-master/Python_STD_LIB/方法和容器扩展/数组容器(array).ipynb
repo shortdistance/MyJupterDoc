{
 "cells": [
  {
   "cell_type": "markdown",
   "metadata": {},
   "source": [
    "# 数组容器(array)\n",
    "\n",
    "Python有List这个混合类型序列,而array则是它的固定类型序列\n",
    "\n",
    "它的操作和list没什么不一样,但只能存放固定类型\n",
    "\n",
    "声明的时候必须定义类型,后面则可以跟一个序列用于初始化赋值\n",
    "\n",
    "类型:\n",
    "\n",
    "Type code|\tC Type\t|Python Type\t|Minimum size in bytes\n",
    "---|---|---|---\n",
    "'c'\t|char|\tcharacter|\t1\n",
    "'b'|\tsigned char\t|int|\t1\n",
    "'B'\t|unsigned char\t|int|\t1\n",
    "'u'\t|Py_UNICODE\t|Unicode character|\t2 (see note)\n",
    "'h'\t|signed short|\tint|\t2\n",
    "'H'\t|unsigned short\t|int|\t2\n",
    "'i'\t|signed int\t|int\t|2\n",
    "'I'\t|unsigned int\t|long\t|2\n",
    "'l'\t|signed long\t|int\t|4\n",
    "'L'\t|unsigned long\t|long\t|4\n",
    "'f'\t|float\t|float|\t4\n",
    "'d'\t|double\t|float|\t8"
   ]
  },
  {
   "cell_type": "code",
   "execution_count": 1,
   "metadata": {
    "collapsed": true
   },
   "outputs": [],
   "source": [
    "from array import array as A\n",
    "import array"
   ]
  },
  {
   "cell_type": "markdown",
   "metadata": {},
   "source": [
    "> 声明"
   ]
  },
  {
   "cell_type": "code",
   "execution_count": 2,
   "metadata": {
    "collapsed": false
   },
   "outputs": [],
   "source": [
    "arr_int = A(\"i\")"
   ]
  },
  {
   "cell_type": "markdown",
   "metadata": {},
   "source": [
    "> 赋值"
   ]
  },
  {
   "cell_type": "code",
   "execution_count": 3,
   "metadata": {
    "collapsed": false
   },
   "outputs": [],
   "source": [
    "arr_int.append(1)#一个一个添加"
   ]
  },
  {
   "cell_type": "code",
   "execution_count": 12,
   "metadata": {
    "collapsed": true
   },
   "outputs": [],
   "source": [
    "arr_int.extend([2,3,4,5,6])"
   ]
  },
  {
   "cell_type": "code",
   "execution_count": 13,
   "metadata": {
    "collapsed": true
   },
   "outputs": [],
   "source": [
    "arr_char = A(\"c\",[\"a\",\"s\",\"d\",\"f\",\"g\"])#申明+赋值"
   ]
  },
  {
   "cell_type": "code",
   "execution_count": 14,
   "metadata": {
    "collapsed": false
   },
   "outputs": [
    {
     "data": {
      "text/plain": [
       "array('i', [1, 2, 3, 4, 5, 6])"
      ]
     },
     "execution_count": 14,
     "metadata": {},
     "output_type": "execute_result"
    }
   ],
   "source": [
    "arr_int"
   ]
  },
  {
   "cell_type": "code",
   "execution_count": 15,
   "metadata": {
    "collapsed": false
   },
   "outputs": [
    {
     "data": {
      "text/plain": [
       "array('c', 'asdfg')"
      ]
     },
     "execution_count": 15,
     "metadata": {},
     "output_type": "execute_result"
    }
   ],
   "source": [
    "arr_char"
   ]
  },
  {
   "cell_type": "markdown",
   "metadata": {},
   "source": [
    "> 可用方法\n",
    "\n",
    "方法|说明\n",
    "---|---\n",
    "array.typecode|类型代码\n",
    "array.itemsize|每个元素的字节数\n",
    "array.append(x)|添加元素\n",
    "array.buffer_info()|返回(address_id, length)\n",
    "array.byteswap()|---\n",
    "array.count(x)|x的出现次数\n",
    "array.extend(iterable)|将一个序列从后面存入数组\n",
    "array.fromfile(f, n)|从f文件中读取n个元素并从后面保存入数组\n",
    "array.fromlist(list)|相当于`for x in list: a.append(x)`\n",
    "array.fromstring(s)|类似上一个\n",
    "array.fromunicode(s)|类似上一个\n",
    "array.index(x)|x出现的第一个位置\n",
    "array.insert(i, x)|插入操作\n",
    "array.pop([i])|出栈\n",
    "array.read(f, n)|已被fromfile取代\n",
    "array.remove(x)|删除元素\n",
    "array.reverse()|倒转\n",
    "array.tofile(f)|存入文件\n",
    "array.tolist()|返回对应列表\n",
    "array.tostring()|返回字符串\n",
    "array.tounicode()|返回unicode\n",
    "array.write(f)|被tofile()取代\n",
    "\n"
   ]
  },
  {
   "cell_type": "code",
   "execution_count": 1,
   "metadata": {
    "collapsed": false
   },
   "outputs": [
    {
     "data": {
      "text/plain": [
       "function"
      ]
     },
     "execution_count": 1,
     "metadata": {},
     "output_type": "execute_result"
    }
   ],
   "source": [
    "type(lambda: None)"
   ]
  },
  {
   "cell_type": "code",
   "execution_count": null,
   "metadata": {
    "collapsed": true
   },
   "outputs": [],
   "source": []
  }
 ],
 "metadata": {
  "kernelspec": {
   "display_name": "Python 2",
   "language": "python",
   "name": "python2"
  },
  "language_info": {
   "codemirror_mode": {
    "name": "ipython",
    "version": 2
   },
   "file_extension": ".py",
   "mimetype": "text/x-python",
   "name": "python",
   "nbconvert_exporter": "python",
   "pygments_lexer": "ipython2",
   "version": "2.7.10"
  }
 },
 "nbformat": 4,
 "nbformat_minor": 0
}
