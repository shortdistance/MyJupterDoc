{
 "cells": [
  {
   "cell_type": "markdown",
   "metadata": {},
   "source": [
    "# 堆结构(heapq)\n",
    "\n",
    "heapq模块使用一个用堆实现的优先级队列。堆是一种简单的有序列表，并且置入了堆的相关规则。\n",
    "\n",
    "堆是一种树形的数据结构，树上的子节点与父节点之间存在顺序关系。二叉堆(binary heap)能够用一个经过组织的列表或数组结构来标识，在这种结构中，元素N的子节点的序号为2*N+1和2*N+2(下标始于0)。简单来说，这个模块中的所有函数都假设序列是有序的，所以序列中的第一个元素(seq[0])是最小的，序列的其他部分构成一个二叉树，并且seq[i]节点的子节点分别为seq[2*i+1]以及seq[2*i+2]。当对序列进行修改时，相关函数总是确保子节点大于等于父节点。\n",
    "\n",
    "因此把数据放入堆就等于排序了\n"
   ]
  },
  {
   "cell_type": "code",
   "execution_count": 2,
   "metadata": {
    "collapsed": true
   },
   "outputs": [],
   "source": [
    "import heapq"
   ]
  },
  {
   "cell_type": "code",
   "execution_count": 3,
   "metadata": {
    "collapsed": false
   },
   "outputs": [
    {
     "name": "stdout",
     "output_type": "stream",
     "text": [
      "10\n",
      "20\n",
      "30\n",
      "40\n",
      "50\n"
     ]
    }
   ],
   "source": [
    "heap = [] \n",
    "for value in [20, 10, 30, 50, 40]:\n",
    "    heapq.heappush(heap, value)\n",
    "while heap:\n",
    "    print(heapq.heappop(heap))"
   ]
  },
  {
   "cell_type": "markdown",
   "metadata": {},
   "source": [
    "## 相关操作\n",
    "\n",
    "操作|说明\n",
    "---|---\n",
    "heappush(heap,x)        |将x入堆\n",
    "heappop(heap)           |将堆中最小的元素弹出\n",
    "heapify(heap)           |将heap属性强制应用到任意一个列表\n",
    "heapreplace(heap,x)     |将堆中最小的元素弹出，同时将x入堆\n",
    "nlargest(n,iter)        |返回iter中第n大的元素\n",
    "nsmallest(n,iter)      | 返回iter中第n小的元素\n",
    "merge(\\*iterables, key=None, reverse=False)|合并可迭代对象并入堆"
   ]
  }
 ],
 "metadata": {
  "kernelspec": {
   "display_name": "Python 3",
   "language": "python",
   "name": "python3"
  },
  "language_info": {
   "codemirror_mode": {
    "name": "ipython",
    "version": 3
   },
   "file_extension": ".py",
   "mimetype": "text/x-python",
   "name": "python",
   "nbconvert_exporter": "python",
   "pygments_lexer": "ipython3",
   "version": "3.5.0"
  }
 },
 "nbformat": 4,
 "nbformat_minor": 0
}
