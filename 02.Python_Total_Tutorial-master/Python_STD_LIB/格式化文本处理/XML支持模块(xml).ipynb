{
 "cells": [
  {
   "cell_type": "markdown",
   "metadata": {},
   "source": [
    "# XML支持模块(xml)\n",
    "\n",
    "**什么是xml？**\n",
    "\n",
    "xml即可扩展标记语言，它可以用来标记数据、定义数据类型，是一种允许用户对自己的标记语言进行定义的源语言,简单说它是html的爹。大约长这个样子:\n",
    "\n",
    "    <?xml version=\"1.0\" encoding=\"utf-8\"?>\n",
    "    <catalog>\n",
    "        <maxid>4</maxid>\n",
    "        <login username=\"pytest\" passwd='123456'>\n",
    "            <caption>Python</caption>\n",
    "            <item id=\"4\">\n",
    "                <caption>测试</caption>\n",
    "            </item>\n",
    "        </login>\n",
    "        <item id=\"2\">\n",
    "            <caption>Zope</caption>\n",
    "        </item>\n",
    "    </catalog>\n",
    "\n",
    "\n",
    "它有如下特征：\n",
    "\n",
    "+ 它是有标签对组成，\n",
    "        \n",
    "        <aa></aa>\n",
    " \n",
    "+ 标签可以有属性：\n",
    "        \n",
    "        <aa id=’123’></aa>\n",
    "\n",
    "+ 标签对可以嵌入数据：\n",
    "        \n",
    "        <aa>abc</aa>\n",
    "\n",
    "+ 标签可以嵌入子标签（具有层级关系）：\n",
    "\n",
    "        <aa>\n",
    "\n",
    "             <bb></bb>\n",
    "\n",
    "        </aa>\n",
    "\n",
    "和html特点上是差不多的.\n",
    " \n",
    "\n",
    "\n",
    "对于xml的支持,python提供4种解析方式:DOM,SAX和ElementTree,具体特点归纳如下:\n",
    "\n",
    "\n",
    "方法|对应模块|实现方式|特点\n",
    "---|---|---|---\n",
    "DOM|xml.dom|`W3C DOM API`的实现.将XML数据在内存中解析成一个树，通过对树的操作来操作XML。|高内存占用,但解析成树便于分析\n",
    "SAX|xml.sax|`SAX API`的实现.用事件驱动模型，通过在解析XML的过程中触发一个个的事件并调用用户定义的回调函数来处理XML文件。|低内存占用,局部加载,API不友好\n",
    "ElementTree|xml.etree.ElementTree|一个轻量级的DOM，具有方便友好的API。代码可用性好，速度快，消耗内存少|比DOM快,API友好,性能和SAX差不多,也支持文档局部加载\n",
    "\n",
    "\n",
    "顺道一提,因为html是xml的子集所以理论上也可以当xml一样解析"
   ]
  },
  {
   "cell_type": "markdown",
   "metadata": {},
   "source": [
    "我们拿来做样板的是w3school上的一个例子[下载](http://www.w3school.com.cn/example/xmle/plant_catalog.xml)"
   ]
  },
  {
   "cell_type": "code",
   "execution_count": 1,
   "metadata": {
    "collapsed": true
   },
   "outputs": [],
   "source": [
    "from __future__ import print_function"
   ]
  },
  {
   "cell_type": "code",
   "execution_count": 2,
   "metadata": {
    "collapsed": false
   },
   "outputs": [
    {
     "name": "stdout",
     "output_type": "stream",
     "text": [
      "<?xml version=\"1.0\" encoding=\"ISO-8859-1\"?>\n",
      "<!-- Edited with XML Spy v2007 (http://www.altova.com) -->\n",
      "<CATALOG>\n",
      "\t<PLANT>\n",
      "\t\t<COMMON>Bloodroot</COMMON>\n",
      "\t\t<BOTANICAL>Sanguinaria canadensis</BOTANICAL>\n",
      "\t\t<ZONE>4</ZONE>\n",
      "\t\t<LIGHT>Mostly Shady</LIGHT>\n",
      "\t\t<PRICE>$2.44</PRICE>\n",
      "\t\t<AVAILABILITY>031599</AVAILABILITY>\n",
      "\t</PLANT>\n",
      "\t<PLANT>\n",
      "\t\t<COMMON>Columbine</COMMON>\n",
      "\t\t<BOTANICAL>Aquilegia canadensis</BOTANICAL>\n",
      "\t\t<ZONE>3</ZONE>\n",
      "\t\t<LIGHT>Mostly Shady</LIGHT>\n",
      "\t\t<PRICE>$9.37</PRICE>\n",
      "\t\t<AVAILABILITY>030699</AVAILABILITY>\n",
      "\t</PLANT>\n",
      "\t<PLANT>\n",
      "\t\t<COMMON>Marsh Marigold</COMMON>\n",
      "\t\t<BOTANICAL>Caltha palustris</BOTANICAL>\n",
      "\t\t<ZONE>4</ZONE>\n",
      "\t\t<LIGHT>Mostly Sunny</LIGHT>\n",
      "\t\t<PRICE>$6.81</PRICE>\n",
      "\t\t<AVAILABILITY>051799</AVAILABILITY>\n",
      "\t</PLANT>\n",
      "\t<PLANT>\n",
      "\t\t<COMMON>Cowslip</COMMON>\n",
      "\t\t<BOTANICAL>Caltha palustris</BOTANICAL>\n",
      "\t\t<ZONE>4</ZONE>\n",
      "\t\t<LIGHT>Mostly Shady</LIGHT>\n",
      "\t\t<PRICE>$9.90</PRICE>\n",
      "\t\t<AVAILABILITY>030699</AVAILABILITY>\n",
      "\t</PLANT>\n",
      "\t<PLANT>\n",
      "\t\t<COMMON>Dutchman's-Breeches</COMMON>\n",
      "\t\t<BOTANICAL>Dicentra cucullaria</BOTANICAL>\n",
      "\t\t<ZONE>3</ZONE>\n",
      "\t\t<LIGHT>Mostly Shady</LIGHT>\n",
      "\t\t<PRICE>$6.44</PRICE>\n",
      "\t\t<AVAILABILITY>012099</AVAILABILITY>\n",
      "\t</PLANT>\n",
      "\t<PLANT>\n",
      "\t\t<COMMON>Ginger, Wild</COMMON>\n",
      "\t\t<BOTANICAL>Asarum canadense</BOTANICAL>\n",
      "\t\t<ZONE>3</ZONE>\n",
      "\t\t<LIGHT>Mostly Shady</LIGHT>\n",
      "\t\t<PRICE>$9.03</PRICE>\n",
      "\t\t<AVAILABILITY>041899</AVAILABILITY>\n",
      "\t</PLANT>\n",
      "\t<PLANT>\n",
      "\t\t<COMMON>Hepatica</COMMON>\n",
      "\t\t<BOTANICAL>Hepatica americana</BOTANICAL>\n",
      "\t\t<ZONE>4</ZONE>\n",
      "\t\t<LIGHT>Mostly Shady</LIGHT>\n",
      "\t\t<PRICE>$4.45</PRICE>\n",
      "\t\t<AVAILABILITY>012699</AVAILABILITY>\n",
      "\t</PLANT>\n",
      "\t<PLANT>\n",
      "\t\t<COMMON>Liverleaf</COMMON>\n",
      "\t\t<BOTANICAL>Hepatica americana</BOTANICAL>\n",
      "\t\t<ZONE>4</ZONE>\n",
      "\t\t<LIGHT>Mostly Shady</LIGHT>\n",
      "\t\t<PRICE>$3.99</PRICE>\n",
      "\t\t<AVAILABILITY>010299</AVAILABILITY>\n",
      "\t</PLANT>\n",
      "\t<PLANT>\n",
      "\t\t<COMMON>Jack-In-The-Pulpit</COMMON>\n",
      "\t\t<BOTANICAL>Arisaema triphyllum</BOTANICAL>\n",
      "\t\t<ZONE>4</ZONE>\n",
      "\t\t<LIGHT>Mostly Shady</LIGHT>\n",
      "\t\t<PRICE>$3.23</PRICE>\n",
      "\t\t<AVAILABILITY>020199</AVAILABILITY>\n",
      "\t</PLANT>\n",
      "\t<PLANT>\n",
      "\t\t<COMMON>Mayapple</COMMON>\n",
      "\t\t<BOTANICAL>Podophyllum peltatum</BOTANICAL>\n",
      "\t\t<ZONE>3</ZONE>\n",
      "\t\t<LIGHT>Mostly Shady</LIGHT>\n",
      "\t\t<PRICE>$2.98</PRICE>\n",
      "\t\t<AVAILABILITY>060599</AVAILABILITY>\n",
      "\t</PLANT>\n",
      "\t<PLANT>\n",
      "\t\t<COMMON>Phlox, Woodland</COMMON>\n",
      "\t\t<BOTANICAL>Phlox divaricata</BOTANICAL>\n",
      "\t\t<ZONE>3</ZONE>\n",
      "\t\t<LIGHT>Sun or Shade</LIGHT>\n",
      "\t\t<PRICE>$2.80</PRICE>\n",
      "\t\t<AVAILABILITY>012299</AVAILABILITY>\n",
      "\t</PLANT>\n",
      "\t<PLANT>\n",
      "\t\t<COMMON>Phlox, Blue</COMMON>\n",
      "\t\t<BOTANICAL>Phlox divaricata</BOTANICAL>\n",
      "\t\t<ZONE>3</ZONE>\n",
      "\t\t<LIGHT>Sun or Shade</LIGHT>\n",
      "\t\t<PRICE>$5.59</PRICE>\n",
      "\t\t<AVAILABILITY>021699</AVAILABILITY>\n",
      "\t</PLANT>\n",
      "\t<PLANT>\n",
      "\t\t<COMMON>Spring-Beauty</COMMON>\n",
      "\t\t<BOTANICAL>Claytonia Virginica</BOTANICAL>\n",
      "\t\t<ZONE>7</ZONE>\n",
      "\t\t<LIGHT>Mostly Shady</LIGHT>\n",
      "\t\t<PRICE>$6.59</PRICE>\n",
      "\t\t<AVAILABILITY>020199</AVAILABILITY>\n",
      "\t</PLANT>\n",
      "\t<PLANT>\n",
      "\t\t<COMMON>Trillium</COMMON>\n",
      "\t\t<BOTANICAL>Trillium grandiflorum</BOTANICAL>\n",
      "\t\t<ZONE>5</ZONE>\n",
      "\t\t<LIGHT>Sun or Shade</LIGHT>\n",
      "\t\t<PRICE>$3.90</PRICE>\n",
      "\t\t<AVAILABILITY>042999</AVAILABILITY>\n",
      "\t</PLANT>\n",
      "\t<PLANT>\n",
      "\t\t<COMMON>Wake Robin</COMMON>\n",
      "\t\t<BOTANICAL>Trillium grandiflorum</BOTANICAL>\n",
      "\t\t<ZONE>5</ZONE>\n",
      "\t\t<LIGHT>Sun or Shade</LIGHT>\n",
      "\t\t<PRICE>$3.20</PRICE>\n",
      "\t\t<AVAILABILITY>022199</AVAILABILITY>\n",
      "\t</PLANT>\n",
      "\t<PLANT>\n",
      "\t\t<COMMON>Violet, Dog-Tooth</COMMON>\n",
      "\t\t<BOTANICAL>Erythronium americanum</BOTANICAL>\n",
      "\t\t<ZONE>4</ZONE>\n",
      "\t\t<LIGHT>Shade</LIGHT>\n",
      "\t\t<PRICE>$9.04</PRICE>\n",
      "\t\t<AVAILABILITY>020199</AVAILABILITY>\n",
      "\t</PLANT>\n",
      "\t<PLANT>\n",
      "\t\t<COMMON>Trout Lily</COMMON>\n",
      "\t\t<BOTANICAL>Erythronium americanum</BOTANICAL>\n",
      "\t\t<ZONE>4</ZONE>\n",
      "\t\t<LIGHT>Shade</LIGHT>\n",
      "\t\t<PRICE>$6.94</PRICE>\n",
      "\t\t<AVAILABILITY>032499</AVAILABILITY>\n",
      "\t</PLANT>\n",
      "\t<PLANT>\n",
      "\t\t<COMMON>Adder's-Tongue</COMMON>\n",
      "\t\t<BOTANICAL>Erythronium americanum</BOTANICAL>\n",
      "\t\t<ZONE>4</ZONE>\n",
      "\t\t<LIGHT>Shade</LIGHT>\n",
      "\t\t<PRICE>$9.58</PRICE>\n",
      "\t\t<AVAILABILITY>041399</AVAILABILITY>\n",
      "\t</PLANT>\n",
      "\t<PLANT>\n",
      "\t\t<COMMON>Anemone</COMMON>\n",
      "\t\t<BOTANICAL>Anemone blanda</BOTANICAL>\n",
      "\t\t<ZONE>6</ZONE>\n",
      "\t\t<LIGHT>Mostly Shady</LIGHT>\n",
      "\t\t<PRICE>$8.86</PRICE>\n",
      "\t\t<AVAILABILITY>122698</AVAILABILITY>\n",
      "\t</PLANT>\n",
      "\t<PLANT>\n",
      "\t\t<COMMON>Grecian Windflower</COMMON>\n",
      "\t\t<BOTANICAL>Anemone blanda</BOTANICAL>\n",
      "\t\t<ZONE>6</ZONE>\n",
      "\t\t<LIGHT>Mostly Shady</LIGHT>\n",
      "\t\t<PRICE>$9.16</PRICE>\n",
      "\t\t<AVAILABILITY>071099</AVAILABILITY>\n",
      "\t</PLANT>\n",
      "\t<PLANT>\n",
      "\t\t<COMMON>Bee Balm</COMMON>\n",
      "\t\t<BOTANICAL>Monarda didyma</BOTANICAL>\n",
      "\t\t<ZONE>4</ZONE>\n",
      "\t\t<LIGHT>Shade</LIGHT>\n",
      "\t\t<PRICE>$4.59</PRICE>\n",
      "\t\t<AVAILABILITY>050399</AVAILABILITY>\n",
      "\t</PLANT>\n",
      "\t<PLANT>\n",
      "\t\t<COMMON>Bergamot</COMMON>\n",
      "\t\t<BOTANICAL>Monarda didyma</BOTANICAL>\n",
      "\t\t<ZONE>4</ZONE>\n",
      "\t\t<LIGHT>Shade</LIGHT>\n",
      "\t\t<PRICE>$7.16</PRICE>\n",
      "\t\t<AVAILABILITY>042799</AVAILABILITY>\n",
      "\t</PLANT>\n",
      "\t<PLANT>\n",
      "\t\t<COMMON>Black-Eyed Susan</COMMON>\n",
      "\t\t<BOTANICAL>Rudbeckia hirta</BOTANICAL>\n",
      "\t\t<ZONE>Annual</ZONE>\n",
      "\t\t<LIGHT>Sunny</LIGHT>\n",
      "\t\t<PRICE>$9.80</PRICE>\n",
      "\t\t<AVAILABILITY>061899</AVAILABILITY>\n",
      "\t</PLANT>\n",
      "\t<PLANT>\n",
      "\t\t<COMMON>Buttercup</COMMON>\n",
      "\t\t<BOTANICAL>Ranunculus</BOTANICAL>\n",
      "\t\t<ZONE>4</ZONE>\n",
      "\t\t<LIGHT>Shade</LIGHT>\n",
      "\t\t<PRICE>$2.57</PRICE>\n",
      "\t\t<AVAILABILITY>061099</AVAILABILITY>\n",
      "\t</PLANT>\n",
      "\t<PLANT>\n",
      "\t\t<COMMON>Crowfoot</COMMON>\n",
      "\t\t<BOTANICAL>Ranunculus</BOTANICAL>\n",
      "\t\t<ZONE>4</ZONE>\n",
      "\t\t<LIGHT>Shade</LIGHT>\n",
      "\t\t<PRICE>$9.34</PRICE>\n",
      "\t\t<AVAILABILITY>040399</AVAILABILITY>\n",
      "\t</PLANT>\n",
      "\t<PLANT>\n",
      "\t\t<COMMON>Butterfly Weed</COMMON>\n",
      "\t\t<BOTANICAL>Asclepias tuberosa</BOTANICAL>\n",
      "\t\t<ZONE>Annual</ZONE>\n",
      "\t\t<LIGHT>Sunny</LIGHT>\n",
      "\t\t<PRICE>$2.78</PRICE>\n",
      "\t\t<AVAILABILITY>063099</AVAILABILITY>\n",
      "\t</PLANT>\n",
      "\t<PLANT>\n",
      "\t\t<COMMON>Cinquefoil</COMMON>\n",
      "\t\t<BOTANICAL>Potentilla</BOTANICAL>\n",
      "\t\t<ZONE>Annual</ZONE>\n",
      "\t\t<LIGHT>Shade</LIGHT>\n",
      "\t\t<PRICE>$7.06</PRICE>\n",
      "\t\t<AVAILABILITY>052599</AVAILABILITY>\n",
      "\t</PLANT>\n",
      "\t<PLANT>\n",
      "\t\t<COMMON>Primrose</COMMON>\n",
      "\t\t<BOTANICAL>Oenothera</BOTANICAL>\n",
      "\t\t<ZONE>3 - 5</ZONE>\n",
      "\t\t<LIGHT>Sunny</LIGHT>\n",
      "\t\t<PRICE>$6.56</PRICE>\n",
      "\t\t<AVAILABILITY>013099</AVAILABILITY>\n",
      "\t</PLANT>\n",
      "\t<PLANT>\n",
      "\t\t<COMMON>Gentian</COMMON>\n",
      "\t\t<BOTANICAL>Gentiana</BOTANICAL>\n",
      "\t\t<ZONE>4</ZONE>\n",
      "\t\t<LIGHT>Sun or Shade</LIGHT>\n",
      "\t\t<PRICE>$7.81</PRICE>\n",
      "\t\t<AVAILABILITY>051899</AVAILABILITY>\n",
      "\t</PLANT>\n",
      "\t<PLANT>\n",
      "\t\t<COMMON>Blue Gentian</COMMON>\n",
      "\t\t<BOTANICAL>Gentiana</BOTANICAL>\n",
      "\t\t<ZONE>4</ZONE>\n",
      "\t\t<LIGHT>Sun or Shade</LIGHT>\n",
      "\t\t<PRICE>$8.56</PRICE>\n",
      "\t\t<AVAILABILITY>050299</AVAILABILITY>\n",
      "\t</PLANT>\n",
      "\t<PLANT>\n",
      "\t\t<COMMON>Jacob's Ladder</COMMON>\n",
      "\t\t<BOTANICAL>Polemonium caeruleum</BOTANICAL>\n",
      "\t\t<ZONE>Annual</ZONE>\n",
      "\t\t<LIGHT>Shade</LIGHT>\n",
      "\t\t<PRICE>$9.26</PRICE>\n",
      "\t\t<AVAILABILITY>022199</AVAILABILITY>\n",
      "\t</PLANT>\n",
      "\t<PLANT>\n",
      "\t\t<COMMON>Greek Valerian</COMMON>\n",
      "\t\t<BOTANICAL>Polemonium caeruleum</BOTANICAL>\n",
      "\t\t<ZONE>Annual</ZONE>\n",
      "\t\t<LIGHT>Shade</LIGHT>\n",
      "\t\t<PRICE>$4.36</PRICE>\n",
      "\t\t<AVAILABILITY>071499</AVAILABILITY>\n",
      "\t</PLANT>\n",
      "\t<PLANT>\n",
      "\t\t<COMMON>California Poppy</COMMON>\n",
      "\t\t<BOTANICAL>Eschscholzia californica</BOTANICAL>\n",
      "\t\t<ZONE>Annual</ZONE>\n",
      "\t\t<LIGHT>Sun</LIGHT>\n",
      "\t\t<PRICE>$7.89</PRICE>\n",
      "\t\t<AVAILABILITY>032799</AVAILABILITY>\n",
      "\t</PLANT>\n",
      "\t<PLANT>\n",
      "\t\t<COMMON>Shooting Star</COMMON>\n",
      "\t\t<BOTANICAL>Dodecatheon</BOTANICAL>\n",
      "\t\t<ZONE>Annual</ZONE>\n",
      "\t\t<LIGHT>Mostly Shady</LIGHT>\n",
      "\t\t<PRICE>$8.60</PRICE>\n",
      "\t\t<AVAILABILITY>051399</AVAILABILITY>\n",
      "\t</PLANT>\n",
      "\t<PLANT>\n",
      "\t\t<COMMON>Snakeroot</COMMON>\n",
      "\t\t<BOTANICAL>Cimicifuga</BOTANICAL>\n",
      "\t\t<ZONE>Annual</ZONE>\n",
      "\t\t<LIGHT>Shade</LIGHT>\n",
      "\t\t<PRICE>$5.63</PRICE>\n",
      "\t\t<AVAILABILITY>071199</AVAILABILITY>\n",
      "\t</PLANT>\n",
      "\t<PLANT>\n",
      "\t\t<COMMON>Cardinal Flower</COMMON>\n",
      "\t\t<BOTANICAL>Lobelia cardinalis</BOTANICAL>\n",
      "\t\t<ZONE>2</ZONE>\n",
      "\t\t<LIGHT>Shade</LIGHT>\n",
      "\t\t<PRICE>$3.02</PRICE>\n",
      "\t\t<AVAILABILITY>022299</AVAILABILITY>\n",
      "\t</PLANT>\n",
      "</CATALOG>\n",
      "\n"
     ]
    }
   ],
   "source": [
    "with open(\"source/plant_catalog.xml\") as f:\n",
    "    f_str=f.read()\n",
    "    print(f_str)"
   ]
  },
  {
   "cell_type": "markdown",
   "metadata": {},
   "source": [
    "## DOM方法:\n",
    "\n",
    "在`xml.dom`模块中我们一般用`xml.dom.minidom`子模块来解析xml"
   ]
  },
  {
   "cell_type": "code",
   "execution_count": 3,
   "metadata": {
    "collapsed": true
   },
   "outputs": [],
   "source": [
    "import xml.dom.minidom"
   ]
  },
  {
   "cell_type": "code",
   "execution_count": 4,
   "metadata": {
    "collapsed": true
   },
   "outputs": [],
   "source": [
    "dom = xml.dom.minidom.parse(\"source/plant_catalog.xml\")#解析xml文件,返回一个dom对象"
   ]
  },
  {
   "cell_type": "code",
   "execution_count": 5,
   "metadata": {
    "collapsed": false
   },
   "outputs": [],
   "source": [
    "root=dom.documentElement#返回xml生成树的根"
   ]
  },
  {
   "cell_type": "code",
   "execution_count": 6,
   "metadata": {
    "collapsed": false
   },
   "outputs": [
    {
     "data": {
      "text/plain": [
       "'CATALOG'"
      ]
     },
     "execution_count": 6,
     "metadata": {},
     "output_type": "execute_result"
    }
   ],
   "source": [
    "root.nodeName#节点名"
   ]
  },
  {
   "cell_type": "code",
   "execution_count": 7,
   "metadata": {
    "collapsed": false
   },
   "outputs": [],
   "source": [
    "root.nodeValue#节点值"
   ]
  },
  {
   "cell_type": "code",
   "execution_count": 8,
   "metadata": {
    "collapsed": false
   },
   "outputs": [
    {
     "data": {
      "text/plain": [
       "1"
      ]
     },
     "execution_count": 8,
     "metadata": {},
     "output_type": "execute_result"
    }
   ],
   "source": [
    "root.nodeType#节点类型"
   ]
  },
  {
   "cell_type": "code",
   "execution_count": 9,
   "metadata": {
    "collapsed": false
   },
   "outputs": [
    {
     "data": {
      "text/plain": [
       "False"
      ]
     },
     "execution_count": 9,
     "metadata": {},
     "output_type": "execute_result"
    }
   ],
   "source": [
    "root.hasAttributes()   # 判断标签是否有属性"
   ]
  },
  {
   "cell_type": "markdown",
   "metadata": {},
   "source": [
    "NodeTypes - 有名常数:\n",
    "\n",
    "NodeType|\tNamed Constant\n",
    "---|---\n",
    "1|\tELEMENT_NODE\n",
    "2|\tATTRIBUTE_NODE\n",
    "3|\tTEXT_NODE\n",
    "4|\tCDATA_SECTION_NODE\n",
    "5|\tENTITY_REFERENCE_NODE\n",
    "6\t|ENTITY_NODE\n",
    "7|\tPROCESSING_INSTRUCTION_NODE\n",
    "8|\tCOMMENT_NODE\n",
    "9|\tDOCUMENT_NODE\n",
    "10|\tDOCUMENT_TYPE_NODE\n",
    "11|\tDOCUMENT_FRAGMENT_NODE\n",
    "12|\tNOTATION_NODE\n"
   ]
  },
  {
   "cell_type": "code",
   "execution_count": 10,
   "metadata": {
    "collapsed": false
   },
   "outputs": [],
   "source": [
    "commoneles=root.getElementsByTagName('COMMON')#获取已知标签名的元素(按顺序返回元素)"
   ]
  },
  {
   "cell_type": "code",
   "execution_count": 11,
   "metadata": {
    "collapsed": true
   },
   "outputs": [],
   "source": [
    "#item = commoneles[0].getAttribute(\"id\") #获得标签属性值"
   ]
  },
  {
   "cell_type": "code",
   "execution_count": 12,
   "metadata": {
    "collapsed": true
   },
   "outputs": [],
   "source": [
    "commonele0 = commoneles[0]"
   ]
  },
  {
   "cell_type": "code",
   "execution_count": 13,
   "metadata": {
    "collapsed": false
   },
   "outputs": [
    {
     "data": {
      "text/plain": [
       "'Bloodroot'"
      ]
     },
     "execution_count": 13,
     "metadata": {},
     "output_type": "execute_result"
    }
   ],
   "source": [
    "commonele0.firstChild.data#获取到第一个子节点的值"
   ]
  },
  {
   "cell_type": "markdown",
   "metadata": {},
   "source": [
    ">我们来打印出所有植物和他的对应价格"
   ]
  },
  {
   "cell_type": "code",
   "execution_count": 14,
   "metadata": {
    "collapsed": false
   },
   "outputs": [
    {
     "name": "stdout",
     "output_type": "stream",
     "text": [
      "Bloodroot : $2.44\n",
      "Columbine : $9.37\n",
      "Marsh Marigold : $6.81\n",
      "Cowslip : $9.90\n",
      "Dutchman's-Breeches : $6.44\n",
      "Ginger, Wild : $9.03\n",
      "Hepatica : $4.45\n",
      "Liverleaf : $3.99\n",
      "Jack-In-The-Pulpit : $3.23\n",
      "Mayapple : $2.98\n",
      "Phlox, Woodland : $2.80\n",
      "Phlox, Blue : $5.59\n",
      "Spring-Beauty : $6.59\n",
      "Trillium : $3.90\n",
      "Wake Robin : $3.20\n",
      "Violet, Dog-Tooth : $9.04\n",
      "Trout Lily : $6.94\n",
      "Adder's-Tongue : $9.58\n",
      "Anemone : $8.86\n",
      "Grecian Windflower : $9.16\n",
      "Bee Balm : $4.59\n",
      "Bergamot : $7.16\n",
      "Black-Eyed Susan : $9.80\n",
      "Buttercup : $2.57\n",
      "Crowfoot : $9.34\n",
      "Butterfly Weed : $2.78\n",
      "Cinquefoil : $7.06\n",
      "Primrose : $6.56\n",
      "Gentian : $7.81\n",
      "Blue Gentian : $8.56\n",
      "Jacob's Ladder : $9.26\n",
      "Greek Valerian : $4.36\n",
      "California Poppy : $7.89\n",
      "Shooting Star : $8.60\n",
      "Snakeroot : $5.63\n",
      "Cardinal Flower : $3.02\n"
     ]
    }
   ],
   "source": [
    "dom = xml.dom.minidom.parse(\"source/plant_catalog.xml\")#解析xml文件,返回一个dom对象\n",
    "root=dom.documentElement#返回xml生成树的根\n",
    "plantes = root.getElementsByTagName('PLANT')\n",
    "result = map(lambda x:(x.getElementsByTagName('COMMON')[0].firstChild.data,\n",
    "              x.getElementsByTagName('PRICE')[0].firstChild.data),plantes)\n",
    "for i in result:\n",
    "    print(i[0],\":\",i[1])"
   ]
  },
  {
   "cell_type": "markdown",
   "metadata": {},
   "source": [
    "## SAX方法\n",
    "\n",
    "SAX方法是事件驱动的,所以第一个就是继承回调类并重载回调函数,这和`html.parser`类似\n",
    "\n",
    "ContentHandler类常用方法介绍:\n",
    "\n",
    "+ characters(content)方法\n",
    "\n",
    "    调用时机：\n",
    "    从行开始，遇到标签之前，存在字符，content的值为这些字符串。\n",
    "    从一个标签，遇到下一个标签之前， 存在字符，content的值为这些字符串。\n",
    "    从一个标签，遇到行结束符之前，存在字符，content的值为这些字符串。\n",
    "    标签可以是开始标签，也可以是结束标签。\n",
    "  \n",
    "  \n",
    "+ startDocument()方法\n",
    "\n",
    "    文档启动的时候调用。\n",
    "    \n",
    "    \n",
    "+ endDocument()方法\n",
    "\n",
    "    解析器到达文档结尾时调用。\n",
    "    \n",
    "    \n",
    "+ startElement(name, attrs)方法\n",
    "\n",
    "    遇到XML开始标签时调用，name是标签的名字，attrs是标签的属性值字典。\n",
    "    \n",
    "    \n",
    "+ endElement(name)方法\n",
    "\n",
    "    遇到XML结束标签时调用。\n",
    "\n",
    "+ startElementNS(name, qname, attrs)方法\n",
    "\n",
    "    遇到XML命名空间开始时调用\n",
    "    \n",
    "+ endElementNS(name, qname)方法\n",
    "    \n",
    "    遇到XML命名空间结束时调用\n",
    "    \n",
    "    \n",
    "之后只要创建解析器对象就可以像解析html一样解析xml了"
   ]
  },
  {
   "cell_type": "markdown",
   "metadata": {},
   "source": [
    ">我们来打印出所有植物和他的对应价格"
   ]
  },
  {
   "cell_type": "code",
   "execution_count": 15,
   "metadata": {
    "collapsed": false
   },
   "outputs": [],
   "source": [
    "import xml.sax.handler\n",
    "\n",
    "class PlanteHandler(xml.sax.handler.ContentHandler):\n",
    "    def __init__(self):\n",
    "        self.CurrentData = \"\"\n",
    "        self.type = \"\"\n",
    "        self.format = \"\"\n",
    "        self.year = \"\"\n",
    "        self.rating = \"\"\n",
    "        self.stars = \"\"\n",
    "        self.description = \"\"\n",
    "        \n",
    "    # 元素开始事件处理\n",
    "    def startElement(self, tag, attributes):\n",
    "        self.CurrentData = tag\n",
    "        chidren = {\n",
    "            \"PlANTE\":lambda :print(\"*****PlANTE*****\"),\n",
    "            \"COMMON\":lambda :print(\"name:\",end=''),\n",
    "            \"PRICE\":lambda :print(\"price:\",end='')\n",
    "        }\n",
    "        chidren.get(self.CurrentData,lambda : None)()\n",
    "    \n",
    "    # 元素结束事件处理\n",
    "    def endElement(self, tag):\n",
    "        self.CurrentData = \"\"\n",
    "\n",
    "    # 内容事件处理\n",
    "    def characters(self, content):\n",
    "        chidren = {\n",
    "            \"COMMON\":lambda:print(content),\n",
    "            \"PRICE\":lambda:print(content)\n",
    "        }\n",
    "        chidren.get(self.CurrentData,lambda :None)()\n",
    "        \n",
    "    "
   ]
  },
  {
   "cell_type": "code",
   "execution_count": 16,
   "metadata": {
    "collapsed": false
   },
   "outputs": [
    {
     "name": "stdout",
     "output_type": "stream",
     "text": [
      "name:Bloodroot\n",
      "price:$2.44\n",
      "name:Columbine\n",
      "price:$9.37\n",
      "name:Marsh Marigold\n",
      "price:$6.81\n",
      "name:Cowslip\n",
      "price:$9.90\n",
      "name:Dutchman's-Breeches\n",
      "price:$6.44\n",
      "name:Ginger, Wild\n",
      "price:$9.03\n",
      "name:Hepatica\n",
      "price:$4.45\n",
      "name:Liverleaf\n",
      "price:$3.99\n",
      "name:Jack-In-The-Pulpit\n",
      "price:$3.23\n",
      "name:Mayapple\n",
      "price:$2.98\n",
      "name:Phlox, Woodland\n",
      "price:$2.80\n",
      "name:Phlox, Blue\n",
      "price:$5.59\n",
      "name:Spring-Beauty\n",
      "price:$6.59\n",
      "name:Trillium\n",
      "price:$3.90\n",
      "name:Wake Robin\n",
      "price:$3.20\n",
      "name:Violet, Dog-Tooth\n",
      "price:$9.04\n",
      "name:Trout Lily\n",
      "price:$6.94\n",
      "name:Adder's-Tongue\n",
      "price:$9.58\n",
      "name:Anemone\n",
      "price:$8.86\n",
      "name:Grecian Windflower\n",
      "price:$9.16\n",
      "name:Bee Balm\n",
      "price:$4.59\n",
      "name:Bergamot\n",
      "price:$7.16\n",
      "name:Black-Eyed Susan\n",
      "price:$9.80\n",
      "name:Buttercup\n",
      "price:$2.57\n",
      "name:Crowfoot\n",
      "price:$9.34\n",
      "name:Butterfly Weed\n",
      "price:$2.78\n",
      "name:Cinquefoil\n",
      "price:$7.06\n",
      "name:Primrose\n",
      "price:$6.56\n",
      "name:Gentian\n",
      "price:$7.81\n",
      "name:Blue Gentian\n",
      "price:$8.56\n",
      "name:Jacob's Ladder\n",
      "price:$9.26\n",
      "name:Greek Valerian\n",
      "price:$4.36\n",
      "name:California Poppy\n",
      "price:$7.89\n",
      "name:Shooting Star\n",
      "price:$8.60\n",
      "name:Snakeroot\n",
      "price:$5.63\n",
      "name:Cardinal Flower\n",
      "price:$3.02\n"
     ]
    }
   ],
   "source": [
    "parser = xml.sax.make_parser()#创建解析器对象\n",
    "Handler = PlanteHandler()#创建回调对象\n",
    "parser.setContentHandler(Handler)#设置回调对象到解析器对象\n",
    "parser.parse(\"source/plant_catalog.xml\")"
   ]
  },
  {
   "cell_type": "markdown",
   "metadata": {},
   "source": [
    "## ElementTree方法\n",
    "\n",
    "从总结上来看可以说ElementTree方法是最好的方法,Dom处理大文本的时候会相当吃内存,而SAX无法全面解析文档结构.ElementTree怎两者兼而有之,加上友好的api.这也是我最推荐的方法."
   ]
  },
  {
   "cell_type": "code",
   "execution_count": 17,
   "metadata": {
    "collapsed": true
   },
   "outputs": [],
   "source": [
    "import xml.etree.ElementTree as ET"
   ]
  },
  {
   "cell_type": "markdown",
   "metadata": {},
   "source": [
    "### 将 XML 解析为树的形式\n",
    "\n",
    "XML 是一种分级的数据形式，所以最自然的表示方法是将它表示为一棵树。ET 有两个对象来实现这个目的\n",
    "\n",
    "+ ElementTree \n",
    "\n",
    "    将整个 XML 解析为一棵树\n",
    "    \n",
    "    \n",
    "+ Element 将单个结点解析为树。\n",
    "\n",
    "\n",
    "如果是整个文档级别的操作(比如说读，写，找到一些有趣的元素)通常用 ElementTree 。单个 XML 元素和它的子元素通常用 Element 。"
   ]
  },
  {
   "cell_type": "markdown",
   "metadata": {},
   "source": [
    "> 解析整个文档"
   ]
  },
  {
   "cell_type": "code",
   "execution_count": 18,
   "metadata": {
    "collapsed": false
   },
   "outputs": [
    {
     "data": {
      "text/plain": [
       "\"\\nET.parse('source/plant_catalog.xml')也是一样\\n\\n也可以先读成str然后用\\n\\nET.fromstring(country_data_as_string)\\n\\n来读取\\n\""
      ]
     },
     "execution_count": 18,
     "metadata": {},
     "output_type": "execute_result"
    }
   ],
   "source": [
    "tree = ET.ElementTree(file='source/plant_catalog.xml')#将文档解析为树\n",
    "\"\"\"\n",
    "ET.parse('source/plant_catalog.xml')也是一样\n",
    "\n",
    "也可以先读成str然后用\n",
    "\n",
    "ET.fromstring(country_data_as_string)\n",
    "\n",
    "来读取\n",
    "\"\"\""
   ]
  },
  {
   "cell_type": "code",
   "execution_count": 19,
   "metadata": {
    "collapsed": true
   },
   "outputs": [],
   "source": [
    "root = tree.getroot()#获取根节点"
   ]
  },
  {
   "cell_type": "code",
   "execution_count": 20,
   "metadata": {
    "collapsed": false
   },
   "outputs": [
    {
     "data": {
      "text/plain": [
       "('CATALOG', {})"
      ]
     },
     "execution_count": 20,
     "metadata": {},
     "output_type": "execute_result"
    }
   ],
   "source": [
    "root.tag, root.attrib#标签和属性"
   ]
  },
  {
   "cell_type": "code",
   "execution_count": 21,
   "metadata": {
    "collapsed": false
   },
   "outputs": [
    {
     "name": "stdout",
     "output_type": "stream",
     "text": [
      "PLANT {}\n",
      "PLANT {}\n",
      "PLANT {}\n",
      "PLANT {}\n",
      "PLANT {}\n",
      "PLANT {}\n",
      "PLANT {}\n",
      "PLANT {}\n",
      "PLANT {}\n",
      "PLANT {}\n",
      "PLANT {}\n",
      "PLANT {}\n",
      "PLANT {}\n",
      "PLANT {}\n",
      "PLANT {}\n",
      "PLANT {}\n",
      "PLANT {}\n",
      "PLANT {}\n",
      "PLANT {}\n",
      "PLANT {}\n",
      "PLANT {}\n",
      "PLANT {}\n",
      "PLANT {}\n",
      "PLANT {}\n",
      "PLANT {}\n",
      "PLANT {}\n",
      "PLANT {}\n",
      "PLANT {}\n",
      "PLANT {}\n",
      "PLANT {}\n",
      "PLANT {}\n",
      "PLANT {}\n",
      "PLANT {}\n",
      "PLANT {}\n",
      "PLANT {}\n",
      "PLANT {}\n"
     ]
    }
   ],
   "source": [
    "#查看子节点\n",
    "for child in root:\n",
    "    print(child.tag, child.attrib)"
   ]
  },
  {
   "cell_type": "code",
   "execution_count": 22,
   "metadata": {
    "collapsed": false
   },
   "outputs": [
    {
     "data": {
      "text/plain": [
       "('PLANT', {})"
      ]
     },
     "execution_count": 22,
     "metadata": {},
     "output_type": "execute_result"
    }
   ],
   "source": [
    "root[0].tag, root[0].attrib#进入一个子节点查看"
   ]
  },
  {
   "cell_type": "markdown",
   "metadata": {},
   "source": [
    ">找元素"
   ]
  },
  {
   "cell_type": "code",
   "execution_count": 23,
   "metadata": {
    "collapsed": false
   },
   "outputs": [
    {
     "name": "stdout",
     "output_type": "stream",
     "text": [
      "CATALOG {} \n",
      "\t\n",
      "PLANT {} \n",
      "\t\t\n",
      "COMMON {} Bloodroot\n",
      "BOTANICAL {} Sanguinaria canadensis\n",
      "ZONE {} 4\n",
      "LIGHT {} Mostly Shady\n",
      "PRICE {} $2.44\n",
      "AVAILABILITY {} 031599\n",
      "PLANT {} \n",
      "\t\t\n",
      "COMMON {} Columbine\n",
      "BOTANICAL {} Aquilegia canadensis\n",
      "ZONE {} 3\n",
      "LIGHT {} Mostly Shady\n",
      "PRICE {} $9.37\n",
      "AVAILABILITY {} 030699\n",
      "PLANT {} \n",
      "\t\t\n",
      "COMMON {} Marsh Marigold\n",
      "BOTANICAL {} Caltha palustris\n",
      "ZONE {} 4\n",
      "LIGHT {} Mostly Sunny\n",
      "PRICE {} $6.81\n",
      "AVAILABILITY {} 051799\n",
      "PLANT {} \n",
      "\t\t\n",
      "COMMON {} Cowslip\n",
      "BOTANICAL {} Caltha palustris\n",
      "ZONE {} 4\n",
      "LIGHT {} Mostly Shady\n",
      "PRICE {} $9.90\n",
      "AVAILABILITY {} 030699\n",
      "PLANT {} \n",
      "\t\t\n",
      "COMMON {} Dutchman's-Breeches\n",
      "BOTANICAL {} Dicentra cucullaria\n",
      "ZONE {} 3\n",
      "LIGHT {} Mostly Shady\n",
      "PRICE {} $6.44\n",
      "AVAILABILITY {} 012099\n",
      "PLANT {} \n",
      "\t\t\n",
      "COMMON {} Ginger, Wild\n",
      "BOTANICAL {} Asarum canadense\n",
      "ZONE {} 3\n",
      "LIGHT {} Mostly Shady\n",
      "PRICE {} $9.03\n",
      "AVAILABILITY {} 041899\n",
      "PLANT {} \n",
      "\t\t\n",
      "COMMON {} Hepatica\n",
      "BOTANICAL {} Hepatica americana\n",
      "ZONE {} 4\n",
      "LIGHT {} Mostly Shady\n",
      "PRICE {} $4.45\n",
      "AVAILABILITY {} 012699\n",
      "PLANT {} \n",
      "\t\t\n",
      "COMMON {} Liverleaf\n",
      "BOTANICAL {} Hepatica americana\n",
      "ZONE {} 4\n",
      "LIGHT {} Mostly Shady\n",
      "PRICE {} $3.99\n",
      "AVAILABILITY {} 010299\n",
      "PLANT {} \n",
      "\t\t\n",
      "COMMON {} Jack-In-The-Pulpit\n",
      "BOTANICAL {} Arisaema triphyllum\n",
      "ZONE {} 4\n",
      "LIGHT {} Mostly Shady\n",
      "PRICE {} $3.23\n",
      "AVAILABILITY {} 020199\n",
      "PLANT {} \n",
      "\t\t\n",
      "COMMON {} Mayapple\n",
      "BOTANICAL {} Podophyllum peltatum\n",
      "ZONE {} 3\n",
      "LIGHT {} Mostly Shady\n",
      "PRICE {} $2.98\n",
      "AVAILABILITY {} 060599\n",
      "PLANT {} \n",
      "\t\t\n",
      "COMMON {} Phlox, Woodland\n",
      "BOTANICAL {} Phlox divaricata\n",
      "ZONE {} 3\n",
      "LIGHT {} Sun or Shade\n",
      "PRICE {} $2.80\n",
      "AVAILABILITY {} 012299\n",
      "PLANT {} \n",
      "\t\t\n",
      "COMMON {} Phlox, Blue\n",
      "BOTANICAL {} Phlox divaricata\n",
      "ZONE {} 3\n",
      "LIGHT {} Sun or Shade\n",
      "PRICE {} $5.59\n",
      "AVAILABILITY {} 021699\n",
      "PLANT {} \n",
      "\t\t\n",
      "COMMON {} Spring-Beauty\n",
      "BOTANICAL {} Claytonia Virginica\n",
      "ZONE {} 7\n",
      "LIGHT {} Mostly Shady\n",
      "PRICE {} $6.59\n",
      "AVAILABILITY {} 020199\n",
      "PLANT {} \n",
      "\t\t\n",
      "COMMON {} Trillium\n",
      "BOTANICAL {} Trillium grandiflorum\n",
      "ZONE {} 5\n",
      "LIGHT {} Sun or Shade\n",
      "PRICE {} $3.90\n",
      "AVAILABILITY {} 042999\n",
      "PLANT {} \n",
      "\t\t\n",
      "COMMON {} Wake Robin\n",
      "BOTANICAL {} Trillium grandiflorum\n",
      "ZONE {} 5\n",
      "LIGHT {} Sun or Shade\n",
      "PRICE {} $3.20\n",
      "AVAILABILITY {} 022199\n",
      "PLANT {} \n",
      "\t\t\n",
      "COMMON {} Violet, Dog-Tooth\n",
      "BOTANICAL {} Erythronium americanum\n",
      "ZONE {} 4\n",
      "LIGHT {} Shade\n",
      "PRICE {} $9.04\n",
      "AVAILABILITY {} 020199\n",
      "PLANT {} \n",
      "\t\t\n",
      "COMMON {} Trout Lily\n",
      "BOTANICAL {} Erythronium americanum\n",
      "ZONE {} 4\n",
      "LIGHT {} Shade\n",
      "PRICE {} $6.94\n",
      "AVAILABILITY {} 032499\n",
      "PLANT {} \n",
      "\t\t\n",
      "COMMON {} Adder's-Tongue\n",
      "BOTANICAL {} Erythronium americanum\n",
      "ZONE {} 4\n",
      "LIGHT {} Shade\n",
      "PRICE {} $9.58\n",
      "AVAILABILITY {} 041399\n",
      "PLANT {} \n",
      "\t\t\n",
      "COMMON {} Anemone\n",
      "BOTANICAL {} Anemone blanda\n",
      "ZONE {} 6\n",
      "LIGHT {} Mostly Shady\n",
      "PRICE {} $8.86\n",
      "AVAILABILITY {} 122698\n",
      "PLANT {} \n",
      "\t\t\n",
      "COMMON {} Grecian Windflower\n",
      "BOTANICAL {} Anemone blanda\n",
      "ZONE {} 6\n",
      "LIGHT {} Mostly Shady\n",
      "PRICE {} $9.16\n",
      "AVAILABILITY {} 071099\n",
      "PLANT {} \n",
      "\t\t\n",
      "COMMON {} Bee Balm\n",
      "BOTANICAL {} Monarda didyma\n",
      "ZONE {} 4\n",
      "LIGHT {} Shade\n",
      "PRICE {} $4.59\n",
      "AVAILABILITY {} 050399\n",
      "PLANT {} \n",
      "\t\t\n",
      "COMMON {} Bergamot\n",
      "BOTANICAL {} Monarda didyma\n",
      "ZONE {} 4\n",
      "LIGHT {} Shade\n",
      "PRICE {} $7.16\n",
      "AVAILABILITY {} 042799\n",
      "PLANT {} \n",
      "\t\t\n",
      "COMMON {} Black-Eyed Susan\n",
      "BOTANICAL {} Rudbeckia hirta\n",
      "ZONE {} Annual\n",
      "LIGHT {} Sunny\n",
      "PRICE {} $9.80\n",
      "AVAILABILITY {} 061899\n",
      "PLANT {} \n",
      "\t\t\n",
      "COMMON {} Buttercup\n",
      "BOTANICAL {} Ranunculus\n",
      "ZONE {} 4\n",
      "LIGHT {} Shade\n",
      "PRICE {} $2.57\n",
      "AVAILABILITY {} 061099\n",
      "PLANT {} \n",
      "\t\t\n",
      "COMMON {} Crowfoot\n",
      "BOTANICAL {} Ranunculus\n",
      "ZONE {} 4\n",
      "LIGHT {} Shade\n",
      "PRICE {} $9.34\n",
      "AVAILABILITY {} 040399\n",
      "PLANT {} \n",
      "\t\t\n",
      "COMMON {} Butterfly Weed\n",
      "BOTANICAL {} Asclepias tuberosa\n",
      "ZONE {} Annual\n",
      "LIGHT {} Sunny\n",
      "PRICE {} $2.78\n",
      "AVAILABILITY {} 063099\n",
      "PLANT {} \n",
      "\t\t\n",
      "COMMON {} Cinquefoil\n",
      "BOTANICAL {} Potentilla\n",
      "ZONE {} Annual\n",
      "LIGHT {} Shade\n",
      "PRICE {} $7.06\n",
      "AVAILABILITY {} 052599\n",
      "PLANT {} \n",
      "\t\t\n",
      "COMMON {} Primrose\n",
      "BOTANICAL {} Oenothera\n",
      "ZONE {} 3 - 5\n",
      "LIGHT {} Sunny\n",
      "PRICE {} $6.56\n",
      "AVAILABILITY {} 013099\n",
      "PLANT {} \n",
      "\t\t\n",
      "COMMON {} Gentian\n",
      "BOTANICAL {} Gentiana\n",
      "ZONE {} 4\n",
      "LIGHT {} Sun or Shade\n",
      "PRICE {} $7.81\n",
      "AVAILABILITY {} 051899\n",
      "PLANT {} \n",
      "\t\t\n",
      "COMMON {} Blue Gentian\n",
      "BOTANICAL {} Gentiana\n",
      "ZONE {} 4\n",
      "LIGHT {} Sun or Shade\n",
      "PRICE {} $8.56\n",
      "AVAILABILITY {} 050299\n",
      "PLANT {} \n",
      "\t\t\n",
      "COMMON {} Jacob's Ladder\n",
      "BOTANICAL {} Polemonium caeruleum\n",
      "ZONE {} Annual\n",
      "LIGHT {} Shade\n",
      "PRICE {} $9.26\n",
      "AVAILABILITY {} 022199\n",
      "PLANT {} \n",
      "\t\t\n",
      "COMMON {} Greek Valerian\n",
      "BOTANICAL {} Polemonium caeruleum\n",
      "ZONE {} Annual\n",
      "LIGHT {} Shade\n",
      "PRICE {} $4.36\n",
      "AVAILABILITY {} 071499\n",
      "PLANT {} \n",
      "\t\t\n",
      "COMMON {} California Poppy\n",
      "BOTANICAL {} Eschscholzia californica\n",
      "ZONE {} Annual\n",
      "LIGHT {} Sun\n",
      "PRICE {} $7.89\n",
      "AVAILABILITY {} 032799\n",
      "PLANT {} \n",
      "\t\t\n",
      "COMMON {} Shooting Star\n",
      "BOTANICAL {} Dodecatheon\n",
      "ZONE {} Annual\n",
      "LIGHT {} Mostly Shady\n",
      "PRICE {} $8.60\n",
      "AVAILABILITY {} 051399\n",
      "PLANT {} \n",
      "\t\t\n",
      "COMMON {} Snakeroot\n",
      "BOTANICAL {} Cimicifuga\n",
      "ZONE {} Annual\n",
      "LIGHT {} Shade\n",
      "PRICE {} $5.63\n",
      "AVAILABILITY {} 071199\n",
      "PLANT {} \n",
      "\t\t\n",
      "COMMON {} Cardinal Flower\n",
      "BOTANICAL {} Lobelia cardinalis\n",
      "ZONE {} 2\n",
      "LIGHT {} Shade\n",
      "PRICE {} $3.02\n",
      "AVAILABILITY {} 022299\n"
     ]
    }
   ],
   "source": [
    "#以一个节点为根深度优先遍历\n",
    "for elem in tree.iter():\n",
    "    print(elem.tag, elem.attrib,elem.text)"
   ]
  },
  {
   "cell_type": "code",
   "execution_count": 24,
   "metadata": {
    "collapsed": false
   },
   "outputs": [
    {
     "name": "stdout",
     "output_type": "stream",
     "text": [
      "COMMON {} Bloodroot\n",
      "COMMON {} Columbine\n",
      "COMMON {} Marsh Marigold\n",
      "COMMON {} Cowslip\n",
      "COMMON {} Dutchman's-Breeches\n",
      "COMMON {} Ginger, Wild\n",
      "COMMON {} Hepatica\n",
      "COMMON {} Liverleaf\n",
      "COMMON {} Jack-In-The-Pulpit\n",
      "COMMON {} Mayapple\n",
      "COMMON {} Phlox, Woodland\n",
      "COMMON {} Phlox, Blue\n",
      "COMMON {} Spring-Beauty\n",
      "COMMON {} Trillium\n",
      "COMMON {} Wake Robin\n",
      "COMMON {} Violet, Dog-Tooth\n",
      "COMMON {} Trout Lily\n",
      "COMMON {} Adder's-Tongue\n",
      "COMMON {} Anemone\n",
      "COMMON {} Grecian Windflower\n",
      "COMMON {} Bee Balm\n",
      "COMMON {} Bergamot\n",
      "COMMON {} Black-Eyed Susan\n",
      "COMMON {} Buttercup\n",
      "COMMON {} Crowfoot\n",
      "COMMON {} Butterfly Weed\n",
      "COMMON {} Cinquefoil\n",
      "COMMON {} Primrose\n",
      "COMMON {} Gentian\n",
      "COMMON {} Blue Gentian\n",
      "COMMON {} Jacob's Ladder\n",
      "COMMON {} Greek Valerian\n",
      "COMMON {} California Poppy\n",
      "COMMON {} Shooting Star\n",
      "COMMON {} Snakeroot\n",
      "COMMON {} Cardinal Flower\n"
     ]
    }
   ],
   "source": [
    "#以一个节点为根深度优先遍历,查找有没有符合要求的元素\n",
    "for elem in tree.iter(tag=\"COMMON\"):\n",
    "    print(elem.tag, elem.attrib,elem.text)"
   ]
  },
  {
   "cell_type": "markdown",
   "metadata": {},
   "source": [
    "> 用XPath查找元素\n",
    "\n",
    "`XPath`是一门在 XML 文档中查找信息的语言。XPath 可用来在 XML 文档中对元素和属性进行遍历。\n",
    "XPath 是 W3C XSLT 标准的主要元素，对XPath 的理解是很多高级 XML 应用的基础.ElementTree支持XPath语法查找元素.\n",
    "\n",
    "什么是 XPath?\n",
    "\n",
    "XPath可以说是使用路径表达式在 XML 文档中进行导航的一个标准\n",
    "\n",
    "支持的路径表达式有:\n",
    "\n",
    "表达式|\t描述\n",
    "---|---\n",
    "tag|选取此节点的所有子节点。\n",
    "/\t|从根节点选取。(绝对路径)\n",
    "//\t|从匹配选择的当前节点选择文档中的节点，而不考虑它们的位置。(相对路径)\n",
    ".\t|选取当前节点。\n",
    "..\t|选取当前节点的父节点。\n",
    "@\t|选取属性。\n",
    "@ xxx=aaa|选取属性值为aaa的属性\n",
    "\\*|匹配任意元素节点\n",
    "@\\*|匹配任意元素\n",
    "node()|匹配任意类型节点\n",
    "[]|筛选\n",
    "竖条|和\n",
    "\n",
    "\n",
    "`iterfind()`方法可以使用XPath来查找需要的元素"
   ]
  },
  {
   "cell_type": "markdown",
   "metadata": {},
   "source": [
    ">我们来打印出所有植物和他的对应价格并为大于5美元的计数"
   ]
  },
  {
   "cell_type": "code",
   "execution_count": 25,
   "metadata": {
    "collapsed": false
   },
   "outputs": [
    {
     "name": "stdout",
     "output_type": "stream",
     "text": [
      "COMMON Bloodroot\n",
      "PRICE $2.44\n",
      "COMMON Columbine\n",
      "PRICE $9.37\n",
      "COMMON Marsh Marigold\n",
      "PRICE $6.81\n",
      "COMMON Cowslip\n",
      "PRICE $9.90\n",
      "COMMON Dutchman's-Breeches\n",
      "PRICE $6.44\n",
      "COMMON Ginger, Wild\n",
      "PRICE $9.03\n",
      "COMMON Hepatica\n",
      "PRICE $4.45\n",
      "COMMON Liverleaf\n",
      "PRICE $3.99\n",
      "COMMON Jack-In-The-Pulpit\n",
      "PRICE $3.23\n",
      "COMMON Mayapple\n",
      "PRICE $2.98\n",
      "COMMON Phlox, Woodland\n",
      "PRICE $2.80\n",
      "COMMON Phlox, Blue\n",
      "PRICE $5.59\n",
      "COMMON Spring-Beauty\n",
      "PRICE $6.59\n",
      "COMMON Trillium\n",
      "PRICE $3.90\n",
      "COMMON Wake Robin\n",
      "PRICE $3.20\n",
      "COMMON Violet, Dog-Tooth\n",
      "PRICE $9.04\n",
      "COMMON Trout Lily\n",
      "PRICE $6.94\n",
      "COMMON Adder's-Tongue\n",
      "PRICE $9.58\n",
      "COMMON Anemone\n",
      "PRICE $8.86\n",
      "COMMON Grecian Windflower\n",
      "PRICE $9.16\n",
      "COMMON Bee Balm\n",
      "PRICE $4.59\n",
      "COMMON Bergamot\n",
      "PRICE $7.16\n",
      "COMMON Black-Eyed Susan\n",
      "PRICE $9.80\n",
      "COMMON Buttercup\n",
      "PRICE $2.57\n",
      "COMMON Crowfoot\n",
      "PRICE $9.34\n",
      "COMMON Butterfly Weed\n",
      "PRICE $2.78\n",
      "COMMON Cinquefoil\n",
      "PRICE $7.06\n",
      "COMMON Primrose\n",
      "PRICE $6.56\n",
      "COMMON Gentian\n",
      "PRICE $7.81\n",
      "COMMON Blue Gentian\n",
      "PRICE $8.56\n",
      "COMMON Jacob's Ladder\n",
      "PRICE $9.26\n",
      "COMMON Greek Valerian\n",
      "PRICE $4.36\n",
      "COMMON California Poppy\n",
      "PRICE $7.89\n",
      "COMMON Shooting Star\n",
      "PRICE $8.60\n",
      "COMMON Snakeroot\n",
      "PRICE $5.63\n",
      "COMMON Cardinal Flower\n",
      "PRICE $3.02\n",
      "23\n"
     ]
    }
   ],
   "source": [
    "countmony = 0 \n",
    "for elem in zip(tree.iterfind(\"*/COMMON\"),tree.iterfind(\"*/PRICE\")):\n",
    "    print(elem[0].tag, elem[0].text)\n",
    "    print(elem[1].tag, elem[1].text)\n",
    "    if float(elem[1].text[1:]) > 5:\n",
    "        countmony += 1\n",
    "print(countmony)"
   ]
  },
  {
   "cell_type": "markdown",
   "metadata": {},
   "source": [
    "###  iterparse(source, events=None, parser=None)处理XML流\n",
    "\n",
    "我们刚讲过如何使用 ET 来将 XML 读入内存并且处理。但它就不会碰到和 DOM 一样的内存问题么？当然会。这也是为什么这个包提供一个特殊的工具，用来处理大型文档，并且解决了内存问题，这个工具叫 iterparse 。\n",
    "\n",
    "他有4个关键字:\n",
    "\n",
    "+ start---元素开始\n",
    "+ end---元素结束\n",
    "+ start-ns---命名空间开始\n",
    "+ end-ns---命名空间结束\n",
    "\n",
    "iterparse每次返回一个 (event, elem)对,可以用这些返回和关键字做匹配,调用回调函数达到解析的目的\n"
   ]
  },
  {
   "cell_type": "markdown",
   "metadata": {},
   "source": [
    "> 我们来统计价钱大于5美元的植物有多少"
   ]
  },
  {
   "cell_type": "code",
   "execution_count": 26,
   "metadata": {
    "collapsed": false
   },
   "outputs": [
    {
     "name": "stdout",
     "output_type": "stream",
     "text": [
      "23\n"
     ]
    }
   ],
   "source": [
    "countf = 0\n",
    "def counter():\n",
    "    def count():\n",
    "        global countf\n",
    "        if float(elem.text[1:]) >5:\n",
    "            countf += 1\n",
    "        return countf\n",
    "    return count\n",
    "mycounter = counter()\n",
    "\n",
    "for event,elem in ET.iterparse('source/plant_catalog.xml'):        \n",
    "    keywords={\n",
    "        \"PRICE\":mycounter\n",
    "    }\n",
    "    events={\n",
    "        \"start\":lambda :False,\n",
    "        \"end\":lambda :(keywords.get(elem.tag,lambda :False)()),\n",
    "        \"start-ns\":lambda :False,\n",
    "        \"end-ns\":lambda :False\n",
    "    }\n",
    "    events.get(event,lambda :False)()\n",
    "    \n",
    "print(countf)"
   ]
  },
  {
   "cell_type": "markdown",
   "metadata": {},
   "source": [
    "## 建立XML文档\n",
    "\n",
    "ElementTree 对象提供了 write 方法可以用来建立xml文档,另外俩虽然也可以,但没这个方便.\n",
    "\n",
    "我们要建立一个xml,需要从元素入手"
   ]
  },
  {
   "cell_type": "code",
   "execution_count": 27,
   "metadata": {
    "collapsed": true
   },
   "outputs": [],
   "source": [
    "a = ET.Element(\"elema\")# 创建一个元素"
   ]
  },
  {
   "cell_type": "code",
   "execution_count": 28,
   "metadata": {
    "collapsed": true
   },
   "outputs": [],
   "source": [
    "b = ET.Element(\"elemb\")"
   ]
  },
  {
   "cell_type": "code",
   "execution_count": 29,
   "metadata": {
    "collapsed": true
   },
   "outputs": [],
   "source": [
    "sub1 = ET.Element(\"sub1\")"
   ]
  },
  {
   "cell_type": "code",
   "execution_count": 30,
   "metadata": {
    "collapsed": true
   },
   "outputs": [],
   "source": [
    "sub2 = ET.Element(\"sub2\")"
   ]
  },
  {
   "cell_type": "code",
   "execution_count": 31,
   "metadata": {
    "collapsed": true
   },
   "outputs": [],
   "source": [
    "root = ET.Element('root')"
   ]
  },
  {
   "cell_type": "code",
   "execution_count": 32,
   "metadata": {
    "collapsed": true
   },
   "outputs": [],
   "source": [
    "a.text = \"text\"#为元素创建数据"
   ]
  },
  {
   "cell_type": "code",
   "execution_count": 33,
   "metadata": {
    "collapsed": true
   },
   "outputs": [],
   "source": [
    "a.attrib = {\"class\":\"a\"}#创建属性"
   ]
  },
  {
   "cell_type": "code",
   "execution_count": 34,
   "metadata": {
    "collapsed": true
   },
   "outputs": [],
   "source": [
    "sub1sub1 = ET.SubElement(sub1,\"sub1sub1\")#创建一个节点的子节点"
   ]
  },
  {
   "cell_type": "code",
   "execution_count": 35,
   "metadata": {
    "collapsed": false
   },
   "outputs": [],
   "source": [
    "root.extend((a,b))#扩展节点"
   ]
  },
  {
   "cell_type": "code",
   "execution_count": 36,
   "metadata": {
    "collapsed": false
   },
   "outputs": [],
   "source": [
    "b.extend((sub1,sub2))"
   ]
  },
  {
   "cell_type": "code",
   "execution_count": 37,
   "metadata": {
    "collapsed": true
   },
   "outputs": [],
   "source": [
    "tree = ET.ElementTree(root)"
   ]
  },
  {
   "cell_type": "code",
   "execution_count": 38,
   "metadata": {
    "collapsed": true
   },
   "outputs": [],
   "source": [
    "tree.write(\"output.xml\")"
   ]
  },
  {
   "cell_type": "code",
   "execution_count": 39,
   "metadata": {
    "collapsed": false
   },
   "outputs": [
    {
     "name": "stdout",
     "output_type": "stream",
     "text": [
      "<root><elema class=\"a\">text</elema><elemb><sub1><sub1sub1 /></sub1><sub2 /></elemb></root>"
     ]
    }
   ],
   "source": [
    "!cat output.xml"
   ]
  }
 ],
 "metadata": {
  "kernelspec": {
   "display_name": "Python 3",
   "language": "python",
   "name": "python3"
  },
  "language_info": {
   "codemirror_mode": {
    "name": "ipython",
    "version": 3
   },
   "file_extension": ".py",
   "mimetype": "text/x-python",
   "name": "python",
   "nbconvert_exporter": "python",
   "pygments_lexer": "ipython3",
   "version": "3.5.1"
  }
 },
 "nbformat": 4,
 "nbformat_minor": 0
}
