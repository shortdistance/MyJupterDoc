{
 "cells": [
  {
   "cell_type": "markdown",
   "metadata": {},
   "source": [
    "# 通用表格格式(csv)\n",
    "\n",
    "csv是通用的表格格式,Python中提供了专门的包来处理它"
   ]
  },
  {
   "cell_type": "code",
   "execution_count": 1,
   "metadata": {
    "collapsed": true
   },
   "outputs": [],
   "source": [
    "import csv"
   ]
  },
  {
   "cell_type": "markdown",
   "metadata": {},
   "source": [
    "## 读取(`reader(csvfile, dialect='excel', **fmtparams)`)\n",
    "\n",
    "+ dialect \n",
    "\n",
    "编码风格，默认为excel方式，也就是逗号(,)分隔，另外csv模块也支持excel-tab风格，也就是制表符(tab)分隔。其它的方式需要自己定义，然后可以调用register_dialect方法来注册，以及list_dialects方法来查询已注册的所有编码风格列表。\n",
    "\n",
    "+ fmtparam\n",
    "\n",
    "格式化参数，用来覆盖之前dialect对象指定的编码风格。"
   ]
  },
  {
   "cell_type": "code",
   "execution_count": 18,
   "metadata": {
    "collapsed": false
   },
   "outputs": [],
   "source": [
    "with open('source/iris.csv',\"r\") as csvfile:\n",
    "    spamreader = csv.reader(csvfile)\n",
    "    line10 = [next(spamreader) for i in range(10)]"
   ]
  },
  {
   "cell_type": "code",
   "execution_count": 19,
   "metadata": {
    "collapsed": false
   },
   "outputs": [
    {
     "data": {
      "text/plain": [
       "[['5.1', '3.5', '1.4', '0.2', 'Iris-setosa'],\n",
       " ['4.9', '3.0', '1.4', '0.2', 'Iris-setosa'],\n",
       " ['4.7', '3.2', '1.3', '0.2', 'Iris-setosa'],\n",
       " ['4.6', '3.1', '1.5', '0.2', 'Iris-setosa'],\n",
       " ['5.0', '3.6', '1.4', '0.2', 'Iris-setosa'],\n",
       " ['5.4', '3.9', '1.7', '0.4', 'Iris-setosa'],\n",
       " ['4.6', '3.4', '1.4', '0.3', 'Iris-setosa'],\n",
       " ['5.0', '3.4', '1.5', '0.2', 'Iris-setosa'],\n",
       " ['4.4', '2.9', '1.4', '0.2', 'Iris-setosa'],\n",
       " ['4.9', '3.1', '1.5', '0.1', 'Iris-setosa']]"
      ]
     },
     "execution_count": 19,
     "metadata": {},
     "output_type": "execute_result"
    }
   ],
   "source": [
    "line10"
   ]
  },
  {
   "cell_type": "markdown",
   "metadata": {},
   "source": [
    "## 写入(`writer(csvfile[, dialect='excel'][, fmtparam])`)\n",
    "\n",
    "+ dialect \n",
    "\n",
    "编码风格，默认为excel方式，也就是逗号(,)分隔，另外csv模块也支持excel-tab风格，也就是制表符(tab)分隔。其它的方式需要自己定义，然后可以调用register_dialect方法来注册，以及list_dialects方法来查询已注册的所有编码风格列表。\n",
    "\n",
    "+ fmtparam\n",
    "\n",
    "格式化参数，用来覆盖之前dialect对象指定的编码风格。"
   ]
  },
  {
   "cell_type": "code",
   "execution_count": 20,
   "metadata": {
    "collapsed": true
   },
   "outputs": [],
   "source": [
    "\n",
    "with open('source/iris10.csv',\"w\") as csvfile:\n",
    "    writer = csv.writer(csvfile)\n",
    "    writer.writerows(line10)"
   ]
  },
  {
   "cell_type": "markdown",
   "metadata": {},
   "source": [
    "##  读入字典格式(`DictReader(csvfile, fieldnames=None, restkey=None, restval=None, dialect='excel', *args, **kwds)`)\n"
   ]
  },
  {
   "cell_type": "code",
   "execution_count": 21,
   "metadata": {
    "collapsed": true
   },
   "outputs": [],
   "source": [
    "with open('source/iris.csv',\"r\") as csvfile:\n",
    "    spamreader = csv.DictReader(csvfile,fieldnames = [\"a\",\"b\",\"c\",\"d\",\"class\"])\n",
    "    dic10 = [next(spamreader) for i in range(10)]"
   ]
  },
  {
   "cell_type": "code",
   "execution_count": 22,
   "metadata": {
    "collapsed": false
   },
   "outputs": [
    {
     "data": {
      "text/plain": [
       "[{'a': '5.1', 'b': '3.5', 'c': '1.4', 'class': 'Iris-setosa', 'd': '0.2'},\n",
       " {'a': '4.9', 'b': '3.0', 'c': '1.4', 'class': 'Iris-setosa', 'd': '0.2'},\n",
       " {'a': '4.7', 'b': '3.2', 'c': '1.3', 'class': 'Iris-setosa', 'd': '0.2'},\n",
       " {'a': '4.6', 'b': '3.1', 'c': '1.5', 'class': 'Iris-setosa', 'd': '0.2'},\n",
       " {'a': '5.0', 'b': '3.6', 'c': '1.4', 'class': 'Iris-setosa', 'd': '0.2'},\n",
       " {'a': '5.4', 'b': '3.9', 'c': '1.7', 'class': 'Iris-setosa', 'd': '0.4'},\n",
       " {'a': '4.6', 'b': '3.4', 'c': '1.4', 'class': 'Iris-setosa', 'd': '0.3'},\n",
       " {'a': '5.0', 'b': '3.4', 'c': '1.5', 'class': 'Iris-setosa', 'd': '0.2'},\n",
       " {'a': '4.4', 'b': '2.9', 'c': '1.4', 'class': 'Iris-setosa', 'd': '0.2'},\n",
       " {'a': '4.9', 'b': '3.1', 'c': '1.5', 'class': 'Iris-setosa', 'd': '0.1'}]"
      ]
     },
     "execution_count": 22,
     "metadata": {},
     "output_type": "execute_result"
    }
   ],
   "source": [
    "dic10"
   ]
  },
  {
   "cell_type": "markdown",
   "metadata": {},
   "source": [
    "##  写入字典格式(`DictWriter(csvfile, fieldnames, restval='', extrasaction='raise', dialect='excel', *args, **kwds)`)"
   ]
  },
  {
   "cell_type": "code",
   "execution_count": 27,
   "metadata": {
    "collapsed": false
   },
   "outputs": [],
   "source": [
    "with open('source/iris_dic10.csv',\"w\") as csvfile:\n",
    "    fieldnames = [\"a\",\"b\",\"c\",\"d\",\"class\"]\n",
    "    writer = csv.DictWriter(csvfile,fieldnames = [\"a\",\"b\",\"c\",\"d\",\"class\"])\n",
    "    writer.writeheader()\n",
    "    writer.writerows(dic10)"
   ]
  }
 ],
 "metadata": {
  "kernelspec": {
   "display_name": "Python 3",
   "language": "python",
   "name": "python3"
  },
  "language_info": {
   "codemirror_mode": {
    "name": "ipython",
    "version": 3
   },
   "file_extension": ".py",
   "mimetype": "text/x-python",
   "name": "python",
   "nbconvert_exporter": "python",
   "pygments_lexer": "ipython3",
   "version": "3.5.0"
  }
 },
 "nbformat": 4,
 "nbformat_minor": 0
}
