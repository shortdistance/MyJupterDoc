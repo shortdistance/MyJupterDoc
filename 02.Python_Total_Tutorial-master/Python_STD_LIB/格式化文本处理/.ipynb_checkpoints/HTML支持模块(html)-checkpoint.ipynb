{
 "cells": [
  {
   "cell_type": "markdown",
   "metadata": {},
   "source": [
    "# HTML支持模块(html)\n",
    "\n",
    "在2.7中html模块主要分为两个小模块:\n",
    "\n",
    "模块名| 对应2.7中名字| 功能\n",
    "---|---|---\n",
    "html.parser|HTMLParser|html文本解析\n",
    "html.entities| htmlentitydefs|html文本中实体的编码解码"
   ]
  },
  {
   "cell_type": "code",
   "execution_count": 1,
   "metadata": {
    "collapsed": true
   },
   "outputs": [],
   "source": [
    "from __future__ import print_function"
   ]
  },
  {
   "cell_type": "markdown",
   "metadata": {},
   "source": [
    "## html文本解析(html.parser) \n",
    "\n",
    "html.parser提供一个解析用的基类用来继承,通过定义handle来定义行为"
   ]
  },
  {
   "cell_type": "code",
   "execution_count": 2,
   "metadata": {
    "collapsed": true
   },
   "outputs": [],
   "source": [
    "try: \n",
    "    from html.entities import entitydefs,name2codepoint,codepoint2name\n",
    "except:\n",
    "    from htmlentitydefs import entitydefs,name2codepoint,codepoint2name"
   ]
  },
  {
   "cell_type": "code",
   "execution_count": 3,
   "metadata": {
    "collapsed": true
   },
   "outputs": [],
   "source": [
    "try: \n",
    "    from html.parser import HTMLParser\n",
    "except:\n",
    "    from HTMLParser import HTMLParser"
   ]
  },
  {
   "cell_type": "code",
   "execution_count": 4,
   "metadata": {
    "collapsed": true
   },
   "outputs": [],
   "source": [
    "class MyHTMLParser(HTMLParser):\n",
    "    def handle_starttag(self, tag, attrs):\n",
    "        print('开始:',tag,\"(属性:\",attrs,\")\")\n",
    "\n",
    "    def handle_endtag(self, tag):\n",
    "        print('结束:', tag)\n",
    "\n",
    "    def handle_startendtag(self, tag, attrs):\n",
    "        print('独立标签:',tag,\"(属性:\",attrs,\")\")\n",
    "\n",
    "    def handle_data(self, data):\n",
    "        print(\"数据:\",data)\n",
    "\n",
    "    def handle_comment(self, data):\n",
    "        print('注释', data)\n",
    "\n",
    "    def handle_entityref(self, name):\n",
    "        print('实体',chr(name2codepoint[name]))\n",
    "\n",
    "    def handle_charref(self, name):\n",
    "        if name.startswith('x'):\n",
    "            c = chr(int(name[1:], 16))\n",
    "        else:\n",
    "            c = chr(int(name))\n",
    "        print(\"字符编码:\", c)\n",
    "       "
   ]
  },
  {
   "cell_type": "code",
   "execution_count": 5,
   "metadata": {
    "collapsed": true
   },
   "outputs": [],
   "source": [
    "parser = MyHTMLParser()"
   ]
  },
  {
   "cell_type": "code",
   "execution_count": 8,
   "metadata": {
    "collapsed": false
   },
   "outputs": [
    {
     "name": "stdout",
     "output_type": "stream",
     "text": [
      "开始: html (属性: [] )\n",
      "数据: \n",
      "\n",
      "开始: head (属性: [] )\n",
      "结束: head\n",
      "数据: \n",
      "\n",
      "开始: body (属性: [] )\n",
      "数据: \n",
      "\n",
      "注释  test html parser \n",
      "数据: \n",
      "    \n",
      "开始: p (属性: [] )\n",
      "数据: Some \n",
      "开始: a (属性: [('href', 'asf')] )\n",
      "数据: html\n",
      "结束: a\n",
      "数据:  HTML  tutorial...\n",
      "开始: br (属性: [] )\n",
      "数据: END\n",
      "结束: br\n",
      "结束: p\n",
      "数据: \n",
      "\n",
      "结束: body\n",
      "结束: html\n"
     ]
    }
   ],
   "source": [
    "parser.feed('''<html>\n",
    "<head></head>\n",
    "<body>\n",
    "<!-- test html parser -->\n",
    "    <p>Some <a href=\"asf\">html</a> HTML &nbsp;tutorial...<br>END</br></p>\n",
    "</body></html>''')"
   ]
  },
  {
   "cell_type": "markdown",
   "metadata": {},
   "source": [
    "## html文本中实体的编码解码(html.entities)"
   ]
  },
  {
   "cell_type": "markdown",
   "metadata": {},
   "source": [
    "> entitydefs 实体的常量字典"
   ]
  },
  {
   "cell_type": "code",
   "execution_count": 7,
   "metadata": {
    "collapsed": false
   },
   "outputs": [
    {
     "data": {
      "text/plain": [
       "[('Ucirc', 'Û'), ('prop', '∝'), ('phi', 'φ'), ('radic', '√'), ('crarr', '↵')]"
      ]
     },
     "execution_count": 7,
     "metadata": {},
     "output_type": "execute_result"
    }
   ],
   "source": [
    "list(map(lambda x:(x[0],x[1]),list(entitydefs.items())))[:5]# 名字->对应符号"
   ]
  },
  {
   "cell_type": "code",
   "execution_count": 8,
   "metadata": {
    "collapsed": false
   },
   "outputs": [
    {
     "data": {
      "text/plain": [
       "[('Ucirc', 219), ('prop', 8733), ('rho', 961), ('hArr', 8660), ('radic', 8730)]"
      ]
     },
     "execution_count": 8,
     "metadata": {},
     "output_type": "execute_result"
    }
   ],
   "source": [
    "list(map(lambda x:(x[0],x[1]),list(name2codepoint.items())))[:5]# 名字->对应编码"
   ]
  },
  {
   "cell_type": "code",
   "execution_count": 9,
   "metadata": {
    "collapsed": false
   },
   "outputs": [
    {
     "data": {
      "text/plain": [
       "[(8704, 'forall'),\n",
       " (8194, 'ensp'),\n",
       " (8707, 'exist'),\n",
       " (8709, 'empty'),\n",
       " (8711, 'nabla')]"
      ]
     },
     "execution_count": 9,
     "metadata": {},
     "output_type": "execute_result"
    }
   ],
   "source": [
    "list(map(lambda x:(x[0],x[1]),list(codepoint2name.items())))[:5]# 对应编码->名字"
   ]
  }
 ],
 "metadata": {
  "kernelspec": {
   "display_name": "Python 3",
   "language": "python",
   "name": "python3"
  },
  "language_info": {
   "codemirror_mode": {
    "name": "ipython",
    "version": 3
   },
   "file_extension": ".py",
   "mimetype": "text/x-python",
   "name": "python",
   "nbconvert_exporter": "python",
   "pygments_lexer": "ipython3",
   "version": "3.5.1"
  }
 },
 "nbformat": 4,
 "nbformat_minor": 0
}
