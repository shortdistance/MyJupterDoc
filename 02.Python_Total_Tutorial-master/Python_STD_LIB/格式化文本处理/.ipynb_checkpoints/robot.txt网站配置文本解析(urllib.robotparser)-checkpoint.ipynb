{
 "cells": [
  {
   "cell_type": "markdown",
   "metadata": {},
   "source": [
    "# robot.txt网站配置文本解析(urllib.robotparser)\n",
    "\n",
    "在python2.7中这个模块叫robotparser.\n",
    "\n",
    "robotparser为robots.txt文件实现了一个解释器，可以用来读取robots文本的格式和内容，用函数方法检查给定的User-Agent是否可以访问相应的网站资源。如果要编写一个网络蜘蛛，这个模块可以限制一些蜘蛛抓取无用的或者重复的信息，避免蜘蛛掉入动态asp/php网页程序的死循环中。\n",
    "简单的来说，robots.txt文件是每个网站都应该有的，指引蜘蛛抓取和禁止抓取的一个文本格式的文件，一些合法的蜘蛛或者叫爬虫，都是遵守这个规则的，可以控制他们的访问。\n",
    "\n",
    "一个`robots.txt`大约是这个样子:\n",
    "\n",
    "    User-agent: *\n",
    "    Disallow: /search\n",
    "    Disallow: /404.html\n",
    "    Disallow: /tags.php\n",
    "    Disallow: /tags/\n",
    "    \n",
    "    \n",
    "以上代码会阻止，搜索引擎和其它一些蜘蛛程序抓取网站的某些目录和文件，另外百度有官方文档对于 robots.txt 文件有更为详细的介绍:\n",
    "\n",
    "[如何禁止搜索引擎收录的方法](http://help.baidu.com/question?prod_en=search&class=%BD%FB%D6%B9%CB%D1%CB%F7%D2%FD%C7%E6%CA%D5%C2%BC%B5%C4%B7%BD%B7%A8)。\n",
    "\n",
    "他有几个主要的方法:\n",
    "\n",
    "方法|说明\n",
    "---|---\n",
    "set_url(url)| 设定robot.txt文件提及的url\n",
    "read()|读取robots.txt的URL并做句法分析\n",
    "parse(lines)|句法分析\n",
    "can_fetch(useragent, url)|如果用户代理被允许根据包含在解析robots.txt文件的规则来获取URL。返回true\n",
    "mtime()|返回最后获取文件的时间\n",
    "modified()|设置robots.txt文件上次读取到当前时间"
   ]
  },
  {
   "cell_type": "code",
   "execution_count": 1,
   "metadata": {
    "collapsed": true
   },
   "outputs": [],
   "source": [
    "import  urllib.robotparser "
   ]
  },
  {
   "cell_type": "code",
   "execution_count": 2,
   "metadata": {
    "collapsed": true
   },
   "outputs": [],
   "source": [
    "rp  =  urllib.robotparser.RobotFileParser () \n",
    "rp.set_url ( \"http://www.musi-cal.com/robots.txt\" ) \n",
    "rp.read () "
   ]
  },
  {
   "cell_type": "code",
   "execution_count": 3,
   "metadata": {
    "collapsed": false
   },
   "outputs": [
    {
     "data": {
      "text/plain": [
       "True"
      ]
     },
     "execution_count": 3,
     "metadata": {},
     "output_type": "execute_result"
    }
   ],
   "source": [
    "rp.can_fetch ( \"*\" ,  \"http://www.musi-cal.com/cgi-bin/search?city=San+Francisco\" ) "
   ]
  },
  {
   "cell_type": "code",
   "execution_count": 4,
   "metadata": {
    "collapsed": false
   },
   "outputs": [
    {
     "data": {
      "text/plain": [
       "True"
      ]
     },
     "execution_count": 4,
     "metadata": {},
     "output_type": "execute_result"
    }
   ],
   "source": [
    "rp.can_fetch ( \"*\" ,  \"http://www.musi-cal.com/\" ) "
   ]
  }
 ],
 "metadata": {
  "kernelspec": {
   "display_name": "Python 3",
   "language": "python",
   "name": "python3"
  },
  "language_info": {
   "codemirror_mode": {
    "name": "ipython",
    "version": 3
   },
   "file_extension": ".py",
   "mimetype": "text/x-python",
   "name": "python",
   "nbconvert_exporter": "python",
   "pygments_lexer": "ipython3",
   "version": "3.5.0"
  }
 },
 "nbformat": 4,
 "nbformat_minor": 0
}
