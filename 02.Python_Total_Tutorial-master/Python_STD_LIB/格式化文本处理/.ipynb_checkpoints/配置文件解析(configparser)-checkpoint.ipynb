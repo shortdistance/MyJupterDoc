{
 "cells": [
  {
   "cell_type": "markdown",
   "metadata": {},
   "source": [
    "# 配置文件解析(configparser)\n",
    "configparser 是用来读取配置文件的包,在python2.7中叫`ConfugParser`。配置文件的格式如下：中括号“[ ]”内包含的为section。section 下面为类似于key-value 的配置内容。配置文件一般以`config`,`conf`或者`ini`作为扩展名.\n",
    "大约是这个样子"
   ]
  },
  {
   "cell_type": "code",
   "execution_count": 2,
   "metadata": {
    "collapsed": false
   },
   "outputs": [
    {
     "name": "stdout",
     "output_type": "stream",
     "text": [
      "Writing server.conf\n"
     ]
    }
   ],
   "source": [
    "%%writefile server.conf\n",
    "    [db]\n",
    "      db_host = 127.0.0.1\n",
    "      db_port = 22\n",
    "      db_user = root\n",
    "      db_pass = rootroot\n",
    "\n",
    "    [concurrent]\n",
    "      thread = 10\n",
    "      processor = 20"
   ]
  },
  {
   "cell_type": "code",
   "execution_count": 5,
   "metadata": {
    "collapsed": false
   },
   "outputs": [],
   "source": [
    "try:\n",
    "    import configparser\n",
    "except ImportError:\n",
    "    import ConfigParser as configparser\n",
    "config = configparser.ConfigParser()"
   ]
  },
  {
   "cell_type": "markdown",
   "metadata": {},
   "source": [
    "> 读取配置文件"
   ]
  },
  {
   "cell_type": "code",
   "execution_count": 6,
   "metadata": {
    "collapsed": false
   },
   "outputs": [
    {
     "data": {
      "text/plain": [
       "['server.conf']"
      ]
     },
     "execution_count": 6,
     "metadata": {},
     "output_type": "execute_result"
    }
   ],
   "source": [
    "config.read(\"server.conf\") "
   ]
  },
  {
   "cell_type": "markdown",
   "metadata": {},
   "source": [
    "> 解析配置文件"
   ]
  },
  {
   "cell_type": "code",
   "execution_count": 9,
   "metadata": {
    "collapsed": false
   },
   "outputs": [
    {
     "data": {
      "text/plain": [
       "['db', 'concurrent']"
      ]
     },
     "execution_count": 9,
     "metadata": {},
     "output_type": "execute_result"
    }
   ],
   "source": [
    "config.sections()# 获取sections的列表"
   ]
  },
  {
   "cell_type": "code",
   "execution_count": 15,
   "metadata": {
    "collapsed": false
   },
   "outputs": [
    {
     "data": {
      "text/plain": [
       "['db_host', 'db_port', 'db_user', 'db_pass']"
      ]
     },
     "execution_count": 15,
     "metadata": {},
     "output_type": "execute_result"
    }
   ],
   "source": [
    "config.options(\"db\") #获取对应section的options的键"
   ]
  },
  {
   "cell_type": "code",
   "execution_count": 16,
   "metadata": {
    "collapsed": false
   },
   "outputs": [
    {
     "data": {
      "text/plain": [
       "[('db_host', '127.0.0.1'),\n",
       " ('db_port', '22'),\n",
       " ('db_user', 'root'),\n",
       " ('db_pass', 'rootroot')]"
      ]
     },
     "execution_count": 16,
     "metadata": {},
     "output_type": "execute_result"
    }
   ],
   "source": [
    "config.items(\"db\") #获取对应section的options的键值对"
   ]
  },
  {
   "cell_type": "code",
   "execution_count": 17,
   "metadata": {
    "collapsed": false
   },
   "outputs": [
    {
     "data": {
      "text/plain": [
       "'127.0.0.1'"
      ]
     },
     "execution_count": 17,
     "metadata": {},
     "output_type": "execute_result"
    }
   ],
   "source": [
    "config.get(\"db\", 'db_host') #获取对应section的options的值"
   ]
  },
  {
   "cell_type": "markdown",
   "metadata": {},
   "source": [
    "> 写配置文件"
   ]
  },
  {
   "cell_type": "code",
   "execution_count": 22,
   "metadata": {
    "collapsed": false
   },
   "outputs": [],
   "source": [
    "config.set(\"db\", 'db_host', \"192.168.3.150\") \n",
    "#set a new value \n",
    "config.set(\"db\", \"db_dbname\", \"mydb\") \n",
    "#create a new section \n",
    "config.add_section('jupyter_notebook') \n",
    "config.set('jupyter_notebook', 'host', '192.168.3.150')"
   ]
  },
  {
   "cell_type": "code",
   "execution_count": 24,
   "metadata": {
    "collapsed": true
   },
   "outputs": [],
   "source": [
    "with open(\"server_new.conf\", \"w\") as f:\n",
    "    config.write(f)"
   ]
  },
  {
   "cell_type": "code",
   "execution_count": 25,
   "metadata": {
    "collapsed": false
   },
   "outputs": [
    {
     "name": "stdout",
     "output_type": "stream",
     "text": [
      "[db]\r\n",
      "db_host = 192.168.3.150\r\n",
      "db_port = 22\r\n",
      "db_user = root\r\n",
      "db_pass = rootroot\r\n",
      "db_dbname = mydb\r\n",
      "\r\n",
      "[concurrent]\r\n",
      "thread = 10\r\n",
      "processor = 20\r\n",
      "\r\n",
      "[jupyter_notebook]\r\n",
      "host = 192.168.3.150\r\n",
      "\r\n"
     ]
    }
   ],
   "source": [
    "!cat server_new.conf"
   ]
  }
 ],
 "metadata": {
  "kernelspec": {
   "display_name": "Python 3",
   "language": "python",
   "name": "python3"
  },
  "language_info": {
   "codemirror_mode": {
    "name": "ipython",
    "version": 3
   },
   "file_extension": ".py",
   "mimetype": "text/x-python",
   "name": "python",
   "nbconvert_exporter": "python",
   "pygments_lexer": "ipython3",
   "version": "3.5.0"
  }
 },
 "nbformat": 4,
 "nbformat_minor": 0
}
