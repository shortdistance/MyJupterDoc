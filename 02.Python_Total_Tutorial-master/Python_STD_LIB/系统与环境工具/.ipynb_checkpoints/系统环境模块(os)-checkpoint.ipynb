{
 "cells": [
  {
   "cell_type": "markdown",
   "metadata": {},
   "source": [
    "# 系统环境模块(os)"
   ]
  },
  {
   "cell_type": "code",
   "execution_count": 1,
   "metadata": {
    "collapsed": true
   },
   "outputs": [],
   "source": [
    "import os"
   ]
  },
  {
   "cell_type": "markdown",
   "metadata": {},
   "source": [
    "## 获取系统信息"
   ]
  },
  {
   "cell_type": "code",
   "execution_count": 2,
   "metadata": {
    "collapsed": false
   },
   "outputs": [
    {
     "data": {
      "text/plain": [
       "'posix'"
      ]
     },
     "execution_count": 2,
     "metadata": {},
     "output_type": "execute_result"
    }
   ],
   "source": [
    "os.name "
   ]
  },
  {
   "cell_type": "code",
   "execution_count": 3,
   "metadata": {
    "collapsed": false
   },
   "outputs": [
    {
     "data": {
      "text/plain": [
       "posix.uname_result(sysname='Darwin', nodename='hszmba.local', release='15.2.0', version='Darwin Kernel Version 15.2.0: Fri Nov 13 19:56:56 PST 2015; root:xnu-3248.20.55~2/RELEASE_X86_64', machine='x86_64')"
      ]
     },
     "execution_count": 3,
     "metadata": {},
     "output_type": "execute_result"
    }
   ],
   "source": [
    "os.uname()"
   ]
  },
  {
   "cell_type": "markdown",
   "metadata": {},
   "source": [
    "## 环境变量"
   ]
  },
  {
   "cell_type": "code",
   "execution_count": 4,
   "metadata": {
    "collapsed": false,
    "scrolled": true
   },
   "outputs": [
    {
     "data": {
      "text/plain": [
       "environ({'CONDA_HOME': '/Users/huangsizhe/Lib/conda/anaconda', 'TERM_PROGRAM': 'Apple_Terminal', 'NODE_LIB': '/usr/local/lib/node_modules', '__PYVENV_LAUNCHER__': '/Library/Frameworks/Python.framework/Versions/3.5/bin/python3.5', 'OLDPWD': '/Users/huangsizhe', 'Apple_PubSub_Socket_Render': '/private/tmp/com.apple.launchd.xZRpItI0iu/Render', 'TMPDIR': '/var/folders/2g/vh7qp8xx7px1bplwvcn1fm_h0000gn/T/', 'JPY_PARENT_PID': '5503', '__CF_USER_TEXT_ENCODING': '0x1F5:0x19:0x34', 'LESS': '-R', 'TERM': 'xterm-color', 'SCALA_HOME': '/Users/huangsizhe/Lib/scala-2.11.7', 'ZSH': '/Users/huangsizhe/.oh-my-zsh', 'LOGNAME': 'huangsizhe', 'PWD': '/Users/huangsizhe', 'TERM_PROGRAM_VERSION': '361.1', 'LC_CTYPE': 'zh_CN.UTF-8', 'JAVA_HOME': '/Library/Java/JavaVirtualMachines/jdk1.8.0_65.jdk/Contents/Home', 'LANG': 'zh_CN.UTF-8', 'GIT_PAGER': 'cat', 'PAGER': 'cat', 'CLICOLOR': '1', '_': '/Users/huangsizhe/Lib/conda/anaconda/bin/jupyter', 'HOME': '/Users/huangsizhe', 'PYTHON3_HOME': '/Library/Frameworks/Python.framework/Versions/3.5', 'GOPATH': '/Users/huangsizhe/Lib/Golib:/Users/huangsizhe/workspace/Gospace:/Users/huangsizhe/workspace/post/ComputerScience/CodingLanguages/Golang_Total_Tutorial/QuickStart:/Users/huangsizhe/workspace/post/ComputerScience/Programming/Brief_Probe_into_Programming_Paradigms/Brief_Probe_into_Functional_programming', 'AUTOJUMP_SOURCED': '1', 'POSTCS': '/Users/huangsizhe/workspace/post/ComputerScience', 'XPC_SERVICE_NAME': '0', 'USER': 'huangsizhe', 'SHLVL': '1', 'LSCOLORS': 'Gxfxcxdxbxegedabagacad', 'SSH_AUTH_SOCK': '/private/tmp/com.apple.launchd.VVTnc9lAp4/Listeners', 'WORKSPACE': '/Users/huangsizhe/workspace', 'PATH': '/Users/huangsizhe/Lib/scala-2.11.7/bin:/Users/huangsizhe/Lib/conda/anaconda/bin:/usr/local/go/bin:/Users/huangsizhe/Lib/Tools:/usr/local/bin:/usr/bin:/bin:/usr/sbin:/sbin', 'GOROOT': '/usr/local/go', 'XPC_FLAGS': '0x0', 'SHELL': '/bin/zsh', 'AUTOJUMP_ERROR_PATH': '/Users/huangsizhe/Library/autojump/errors.log', 'TERM_SESSION_ID': '94BA77BC-9F37-4257-A087-17A6FC52BB0F'})"
      ]
     },
     "execution_count": 4,
     "metadata": {},
     "output_type": "execute_result"
    }
   ],
   "source": [
    "os.environ"
   ]
  },
  {
   "cell_type": "markdown",
   "metadata": {},
   "source": [
    "### 获取环境变量"
   ]
  },
  {
   "cell_type": "code",
   "execution_count": 5,
   "metadata": {
    "collapsed": false
   },
   "outputs": [
    {
     "data": {
      "text/plain": [
       "'/Library/Java/JavaVirtualMachines/jdk1.8.0_65.jdk/Contents/Home'"
      ]
     },
     "execution_count": 5,
     "metadata": {},
     "output_type": "execute_result"
    }
   ],
   "source": [
    "os.environ.get('JAVA_HOME')"
   ]
  },
  {
   "cell_type": "markdown",
   "metadata": {},
   "source": [
    "## 进程相关\n",
    "命令|说明\n",
    "---|---\n",
    "读|-\n",
    "os.ctermid() |返回进程控制终端的文件名。在unix中有效\n",
    "os.getegid() |返回当前进程有效的group的id。对应于当前进程的可执行文件的\"set id \"的bit位。在unix中有效 \n",
    "os.geteuid() |返回当前进程有效的user的id。在unix中有效\n",
    "os.getgid() |返回当前进程当前group的id。在unix中有效\n",
    "os.getgroups() |返回当前进程支持的groups的id列表。在unix中有效 \n",
    "os.getlogin() |返回进程控制终端登陆用户的名字。在大多情况下它比使用environment变量LOGNAME来得到用户名，或pwd.getpwuid(os.getuid())[0]得到当前有效用户id的登陆名更为有效。在unix中有效，请查看相关文档.。\n",
    "os.getpgid(pid) |返回pid进程的group id.如果pid为0,返回当前进程的group id。在unix中有效\n",
    "os.getpgrp() |返回当前进程组的id.在unix中有效\n",
    "os.getpid() |返回当前进程的id.在unix，Windows中有效。\n",
    "os.getppid() |返回当前父进程的id.在unix中有效\n",
    "os.getuid() |返回当前当前进程用户的id.在unix中有效\n",
    "写|-\n",
    "os.setegid(egid) |设置当前进程有效组的id.在unix中有效\n",
    "os.seteuid(euid) |设置当前进程有效用户的id.在unix中有效 \n",
    "os.setgid(gid) |设置当前进程组的id.在unix中有效\n",
    "os.setgroups(groups) |设置当前进程支持的groups id列表。groups必须是个列表，每个元素必须是个整数，这个操作只对超级用户有效，在unix中有效\n",
    "os.setpgrp() |调用system的setpgrp()或setpgrp(0, 0)() ，依赖于使用的是哪个版本的system. 请查看 Unix手册. 在unix中有效\n",
    "os.setpgid(pid, pgrp) |调用system的setpgid()设置pid进程group的id为pgrp.请查看 Unix手册. 在unix中有效\n",
    "os.setreuid(ruid, euid) |设置当前process当前 和有效的用户id. 在unix中有效。 \n",
    "os.setregid(rgid, egid) |设置当前process当前 和有效的组id. 在unix中有效\n",
    "os.getsid(pid) |调用system的getsid(). 请查看 Unix手册. 在unix中有效\n",
    "os.setsid() |调用system的setsid().请查看 Unix手册. 在unix中有效\n",
    "os.setuid(uid) |设置当前user id. 在unix中有效\n",
    "子进程|-\n",
    "os.fork()|分出一个子进程分支\n",
    "os.kill(pid, sig)|杀死一个进程"
   ]
  },
  {
   "cell_type": "markdown",
   "metadata": {},
   "source": [
    "## 调用系统工具或程序(os.system())\n",
    "\n"
   ]
  },
  {
   "cell_type": "code",
   "execution_count": 6,
   "metadata": {
    "collapsed": false
   },
   "outputs": [
    {
     "data": {
      "text/plain": [
       "0"
      ]
     },
     "execution_count": 6,
     "metadata": {},
     "output_type": "execute_result"
    }
   ],
   "source": [
    "os.system(\"atom\")#返回状态码"
   ]
  },
  {
   "cell_type": "code",
   "execution_count": 14,
   "metadata": {
    "collapsed": false
   },
   "outputs": [
    {
     "data": {
      "text/plain": [
       "<os._wrap_close at 0x104f934a8>"
      ]
     },
     "execution_count": 14,
     "metadata": {},
     "output_type": "execute_result"
    }
   ],
   "source": [
    "os.popen(\"atom\")#返回过程输出"
   ]
  }
 ],
 "metadata": {
  "kernelspec": {
   "display_name": "Python 3",
   "language": "python",
   "name": "python3"
  },
  "language_info": {
   "codemirror_mode": {
    "name": "ipython",
    "version": 3
   },
   "file_extension": ".py",
   "mimetype": "text/x-python",
   "name": "python",
   "nbconvert_exporter": "python",
   "pygments_lexer": "ipython3",
   "version": "3.5.1"
  }
 },
 "nbformat": 4,
 "nbformat_minor": 0
}
