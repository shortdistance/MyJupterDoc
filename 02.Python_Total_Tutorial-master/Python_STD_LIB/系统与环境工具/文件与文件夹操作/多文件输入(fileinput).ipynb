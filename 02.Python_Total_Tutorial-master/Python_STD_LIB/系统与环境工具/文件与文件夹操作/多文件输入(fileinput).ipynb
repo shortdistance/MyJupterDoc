{
 "cells": [
  {
   "cell_type": "markdown",
   "metadata": {},
   "source": [
    "# 多文件输入(fileinput)\n",
    "\n",
    "根据官方的说法,这个模块是用来做多文件输入的,对一个文件的话最好还是用`open()`"
   ]
  },
  {
   "cell_type": "code",
   "execution_count": 1,
   "metadata": {
    "collapsed": true
   },
   "outputs": [],
   "source": [
    "import fileinput"
   ]
  },
  {
   "cell_type": "markdown",
   "metadata": {},
   "source": [
    "> 输入(input)\n",
    "\n",
    "    fileinput.input (files=None, inplace=False, backup='', bufsize=0, mode='r', openhook=None)\n",
    "    \n",
    "参数|说明\n",
    "---|---\n",
    "files| 文件的路径列表，默认是stdin方式，多文件('1.txt','2.txt',...}\n",
    "inplace| 是否将标准输出的结果写回文件，默认不取代\n",
    "backup| 备份文件的扩展名，只指定扩展名，如.bak。如果该文件的备份文件已存在，则会自动覆盖。\n",
    "bufsize| 缓冲区大小，默认为0，如果文件很大，可以修改此参数，一般默认即可\n",
    "mode| 读写模式，默认为只读\n",
    "openhook| 该钩子用于控制打开的所有文件，比如说编码方式等;\n",
    "\n",
    "常用方法:\n",
    "\n",
    "方法|说明\n",
    "---|---\n",
    "fileinput.input()  |返回一个包含文件内容的生成器\n",
    "fileinput.filename()|返回当前文件的名称\n",
    "fileinput.lineno()  |返回当前已经读取的行的数量（或者序号）\n",
    "fileinput.filelineno()|返回当前读取的行的行号\n",
    "fileinput.isfirstline()|检查当前行是否是文件的第一行\n",
    "fileinput.isstdin() |判断最后一行是否从stdin中读取\n",
    "fileinput.close()   |关闭队列"
   ]
  },
  {
   "cell_type": "code",
   "execution_count": 10,
   "metadata": {
    "collapsed": false
   },
   "outputs": [
    {
     "name": "stdout",
     "output_type": "stream",
     "text": [
      "source\r\n",
      "source/f1.txt\r\n",
      "source/f2.txt\r\n"
     ]
    }
   ],
   "source": [
    "!find source"
   ]
  },
  {
   "cell_type": "code",
   "execution_count": 4,
   "metadata": {
    "collapsed": false
   },
   "outputs": [
    {
     "name": "stdout",
     "output_type": "stream",
     "text": [
      "line1\r\n",
      "line2\r\n",
      "line3\r\n"
     ]
    }
   ],
   "source": [
    "!cat source/f1.txt"
   ]
  },
  {
   "cell_type": "code",
   "execution_count": 6,
   "metadata": {
    "collapsed": false
   },
   "outputs": [
    {
     "name": "stdout",
     "output_type": "stream",
     "text": [
      "1line\r\n",
      "2line\r\n",
      "3line\r\n"
     ]
    }
   ],
   "source": [
    "!cat source/f2.txt"
   ]
  },
  {
   "cell_type": "markdown",
   "metadata": {},
   "source": [
    "> 多文件操作\n",
    "\n",
    "先备份每个文件,之后每行后面加上一个`#`号"
   ]
  },
  {
   "cell_type": "code",
   "execution_count": 29,
   "metadata": {
    "collapsed": false
   },
   "outputs": [],
   "source": [
    "def process(line):\n",
    "    return line.rstrip() + '#'\n",
    " \n",
    "with fileinput.input(('source/f1.txt','source/f2.txt'),inplace=True,backup = \".bak\") as fs:\n",
    "    for x in fs:\n",
    "        print(process(x))"
   ]
  },
  {
   "cell_type": "code",
   "execution_count": 30,
   "metadata": {
    "collapsed": false
   },
   "outputs": [
    {
     "name": "stdout",
     "output_type": "stream",
     "text": [
      "line1##\r\n",
      "line2##\r\n",
      "line3##\r\n"
     ]
    }
   ],
   "source": [
    "!cat source/f1.txt"
   ]
  },
  {
   "cell_type": "code",
   "execution_count": 31,
   "metadata": {
    "collapsed": false
   },
   "outputs": [
    {
     "name": "stdout",
     "output_type": "stream",
     "text": [
      "1line##\r\n",
      "2line##\r\n",
      "3line##\r\n"
     ]
    }
   ],
   "source": [
    "!cat source/f2.txt"
   ]
  },
  {
   "cell_type": "code",
   "execution_count": 32,
   "metadata": {
    "collapsed": false
   },
   "outputs": [
    {
     "name": "stdout",
     "output_type": "stream",
     "text": [
      "source\r\n",
      "source/f1.txt\r\n",
      "source/f1.txt.bak\r\n",
      "source/f2.txt\r\n",
      "source/f2.txt.bak\r\n"
     ]
    }
   ],
   "source": [
    "!find source"
   ]
  }
 ],
 "metadata": {
  "kernelspec": {
   "display_name": "Python 3",
   "language": "python",
   "name": "python3"
  },
  "language_info": {
   "codemirror_mode": {
    "name": "ipython",
    "version": 3
   },
   "file_extension": ".py",
   "mimetype": "text/x-python",
   "name": "python",
   "nbconvert_exporter": "python",
   "pygments_lexer": "ipython3",
   "version": "3.5.0"
  }
 },
 "nbformat": 4,
 "nbformat_minor": 0
}
