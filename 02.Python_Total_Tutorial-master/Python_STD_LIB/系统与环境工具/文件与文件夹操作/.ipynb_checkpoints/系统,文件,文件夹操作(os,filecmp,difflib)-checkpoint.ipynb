{
 "cells": [
  {
   "cell_type": "markdown",
   "metadata": {},
   "source": [
    "# python3基础应用--系统,文件,文件夹操作(os,filecmp,difflib)"
   ]
  },
  {
   "cell_type": "code",
   "execution_count": 9,
   "metadata": {
    "collapsed": true
   },
   "outputs": [],
   "source": [
    "import os"
   ]
  },
  {
   "cell_type": "markdown",
   "metadata": {},
   "source": [
    "## 获取系统信息"
   ]
  },
  {
   "cell_type": "code",
   "execution_count": 4,
   "metadata": {
    "collapsed": false
   },
   "outputs": [
    {
     "data": {
      "text/plain": [
       "'posix'"
      ]
     },
     "execution_count": 4,
     "metadata": {},
     "output_type": "execute_result"
    }
   ],
   "source": [
    "os.name "
   ]
  },
  {
   "cell_type": "code",
   "execution_count": 5,
   "metadata": {
    "collapsed": false
   },
   "outputs": [
    {
     "data": {
      "text/plain": [
       "posix.uname_result(sysname='Darwin', nodename='hszmba', release='14.5.0', version='Darwin Kernel Version 14.5.0: Wed Jul 29 02:26:53 PDT 2015; root:xnu-2782.40.9~1/RELEASE_X86_64', machine='x86_64')"
      ]
     },
     "execution_count": 5,
     "metadata": {},
     "output_type": "execute_result"
    }
   ],
   "source": [
    "os.uname()"
   ]
  },
  {
   "cell_type": "markdown",
   "metadata": {},
   "source": [
    "## 环境变量"
   ]
  },
  {
   "cell_type": "code",
   "execution_count": 6,
   "metadata": {
    "collapsed": false
   },
   "outputs": [
    {
     "data": {
      "text/plain": [
       "environ({'TERM': 'xterm-color', 'JPY_PARENT_PID': '3018', 'LESS': '-R', 'SHLVL': '1', 'TERM_PROGRAM_VERSION': '343.7', 'DOTA2_API_KEY': '062C38E28D7C8ECC037047ABD4BE039B', 'LOGNAME': 'huangsizhe', 'LSCOLORS': 'Gxfxcxdxbxegedabagacad', 'USER': 'huangsizhe', '__CF_USER_TEXT_ENCODING': '0x1F5:0x19:0x34', 'TERM_PROGRAM': 'Apple_Terminal', 'LANG': 'zh_CN.UTF-8', 'ANDROID_HOME': '/Users/huangsizhe/Library/Android/sdk', 'AUTOJUMP_ERROR_PATH': '/Users/huangsizhe/Library/autojump/errors.log', '_': '/Users/huangsizhe/anaconda/bin/jupyter', 'CLICOLOR': '1', 'SHELL': '/bin/zsh', 'LC_CTYPE': 'zh_CN.UTF-8', 'AUTOJUMP_SOURCED': '1', 'CLING_EXE': '/usr/local/fromweb/cling-MacOSX-10.9/bin/cling', 'TMPDIR': '/var/folders/2g/vh7qp8xx7px1bplwvcn1fm_h0000gn/T/', 'XPC_FLAGS': '0x0', 'SSH_AUTH_SOCK': '/private/tmp/com.apple.launchd.EkLEAk0T0e/Listeners', 'HOME': '/Users/huangsizhe', 'SCALA_HOME': '/usr/local/Cellar/scala210/2.10.5', 'PAGER': 'cat', 'GIT_PAGER': 'cat', 'PATH': '/Users/huangsizhe/anaconda/bin:/usr/local/bin:/usr/bin:/bin:/usr/sbin:/sbin:/usr/local/opt/go/libexec/bin:/Users/huangsizhe/workspace/Framework/gopath/bin', 'PWD': '/Users/huangsizhe', 'TERM_SESSION_ID': '609EB5A4-FF27-40AB-BA81-36DBE632ADD7', 'Apple_PubSub_Socket_Render': '/private/tmp/com.apple.launchd.h7nAQ5qY0m/Render', '__PYVENV_LAUNCHER__': '/usr/local/Cellar/python3/3.5.0/bin/python3.5', 'ZSH': '/Users/huangsizhe/.oh-my-zsh', 'OLDPWD': '/Users/huangsizhe/workspace/PROJECT/dota2api', 'JAVA_HOME': '/Library/Java/JavaVirtualMachines/jdk1.8.0_60.jdk/Contents/Home', 'XPC_SERVICE_NAME': '0', 'GOPATH': '/Users/huangsizhe/workspace/Framework/gopath'})"
      ]
     },
     "execution_count": 6,
     "metadata": {},
     "output_type": "execute_result"
    }
   ],
   "source": [
    "os.environ"
   ]
  },
  {
   "cell_type": "code",
   "execution_count": 7,
   "metadata": {
    "collapsed": false
   },
   "outputs": [
    {
     "data": {
      "text/plain": [
       "'/Library/Java/JavaVirtualMachines/jdk1.8.0_60.jdk/Contents/Home'"
      ]
     },
     "execution_count": 7,
     "metadata": {},
     "output_type": "execute_result"
    }
   ],
   "source": [
    "os.environ.get('JAVA_HOME')"
   ]
  },
  {
   "cell_type": "markdown",
   "metadata": {},
   "source": [
    "## 调用系统工具或程序(os.system())\n",
    "\n"
   ]
  },
  {
   "cell_type": "code",
   "execution_count": 13,
   "metadata": {
    "collapsed": false
   },
   "outputs": [
    {
     "data": {
      "text/plain": [
       "0"
      ]
     },
     "execution_count": 13,
     "metadata": {},
     "output_type": "execute_result"
    }
   ],
   "source": [
    "os.system(\"atom\")#返回状态码"
   ]
  },
  {
   "cell_type": "code",
   "execution_count": 14,
   "metadata": {
    "collapsed": false
   },
   "outputs": [
    {
     "data": {
      "text/plain": [
       "<os._wrap_close at 0x104f934a8>"
      ]
     },
     "execution_count": 14,
     "metadata": {},
     "output_type": "execute_result"
    }
   ],
   "source": [
    "os.popen(\"atom\")#返回过程输出"
   ]
  }
 ],
 "metadata": {
  "kernelspec": {
   "display_name": "Python 3",
   "language": "python",
   "name": "python3"
  },
  "language_info": {
   "codemirror_mode": {
    "name": "ipython",
    "version": 3
   },
   "file_extension": ".py",
   "mimetype": "text/x-python",
   "name": "python",
   "nbconvert_exporter": "python",
   "pygments_lexer": "ipython3",
   "version": "3.5.0"
  }
 },
 "nbformat": 4,
 "nbformat_minor": 0
}
