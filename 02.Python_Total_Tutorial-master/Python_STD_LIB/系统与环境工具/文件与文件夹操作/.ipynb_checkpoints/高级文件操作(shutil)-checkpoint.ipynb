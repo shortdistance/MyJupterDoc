{
 "cells": [
  {
   "cell_type": "markdown",
   "metadata": {},
   "source": [
    "# 高级文件操作(shutil)\n",
    "\n",
    "shutil -- High-level file operations 是一种高层次的文件操作工具\n",
    "\n",
    "类似于高级API，而且主要强大之处在于其对文件的复制与删除操作更是比较支持好。\n",
    "\n",
    "相关API介绍\n",
    "\n",
    "方法|说明\n",
    "---|---\n",
    "shutil.copyfile( src, dst) |从源src复制到dst中去。当然前提是目标地址是具备可写权限。抛出的异常信息为IOException. 如果当前的dst已存在的话就会被覆盖掉\n",
    "shutil.move( src, dst)|  移动文件或重命名\n",
    "shutil.copymode( src, dst)| 只是会复制其权限其他的东西是不会被复制的\n",
    "shutil.copystat( src, dst) |复制权限、最后访问时间、最后修改时间\n",
    "shutil.copy( src, dst) | 复制一个文件到一个文件或一个目录\n",
    "shutil.copy2( src, dst)  |在copy上的基础上再复制文件最后访问时间与修改时间也复制过来了，类似于cp –p的东西\n",
    "shutil.copy2( src, dst) | 如果两个位置的文件系统是一样的话相当于是rename操作，只是改名；如果是不在相同的文件系统的话就是做move操作\n",
    "shutil.copytree( olddir, newdir, True/Flase)|把olddir拷贝一份newdir，如果第3个参数是True，则复制目录时将保持文件夹下的符号连接，如果第3个参数是False，则将在复制的目录下生成物理副本来替代符号连接\n",
    "shutil.rmtree( src )| 递归删除一个目录以及目录内的所有内容"
   ]
  }
 ],
 "metadata": {
  "kernelspec": {
   "display_name": "Python 3",
   "language": "python",
   "name": "python3"
  },
  "language_info": {
   "codemirror_mode": {
    "name": "ipython",
    "version": 3
   },
   "file_extension": ".py",
   "mimetype": "text/x-python",
   "name": "python",
   "nbconvert_exporter": "python",
   "pygments_lexer": "ipython3",
   "version": "3.5.0"
  }
 },
 "nbformat": 4,
 "nbformat_minor": 0
}
