{
 "cells": [
  {
   "cell_type": "markdown",
   "metadata": {},
   "source": [
    "# 通用路径控制(os.path)\n",
    "\n",
    "os.path下有这些操作:\n",
    "\n",
    "\n",
    "操作|说明\n",
    "---|---\n",
    "os.path.abspath(相对路径)|获取绝对路径\n",
    "os.getcwd()|获取当前绝对路径\n",
    "os.walk(path)|遍历path目录下的所有文件并返回(python2中为os.path.walk)\n",
    "os.path.splitext(path)|拆分路径文件名和扩展名\n",
    "os.path.split(Path)|拆分路径和最近的一个文件夹\n",
    "os.join(path1,path2)|将路径和路径合并,可以避免不同平台符号不同的问题\n",
    "os.mkdir(path)|新建目录\n",
    "os.rmdir(path)|删除目录\n",
    "os.listdir(path)|查看path下有什么文件文件夹,只看这一层\n",
    "os.rename(path, name)|重命名\n",
    "os.remove(path)|删除文件\n",
    "os.path.isfile()|判断是不是文件\n",
    "os.path.isdir()|判断是不是文件夹\n",
    "os.path.exists()|判断是否存在这个路径\n",
    "os.path.getsize(path)|获取文件大小\n",
    "os.path.getatime(path)|获取文件修改时间\n",
    "os.path.getctime(path)|获取文件创建时间\n",
    "os.stat(path)|获取文件夹或文件信息\n",
    "\n"
   ]
  },
  {
   "cell_type": "code",
   "execution_count": 2,
   "metadata": {
    "collapsed": true
   },
   "outputs": [],
   "source": [
    "import os"
   ]
  },
  {
   "cell_type": "code",
   "execution_count": 2,
   "metadata": {
    "collapsed": false
   },
   "outputs": [
    {
     "data": {
      "text/plain": [
       "'/Users/huangsizhe/workspace/post/计算机编程/编程语言/Python_Total_Tutorial/标准库/系统与环境工具/文件与文件夹操作'"
      ]
     },
     "execution_count": 2,
     "metadata": {},
     "output_type": "execute_result"
    }
   ],
   "source": [
    "# 查看当前目录的绝对路径:\n",
    "os.path.abspath('.')"
   ]
  },
  {
   "cell_type": "code",
   "execution_count": 3,
   "metadata": {
    "collapsed": false
   },
   "outputs": [
    {
     "data": {
      "text/plain": [
       "'/Users/huangsizhe/workspace/post/计算机编程/编程语言/Python_Total_Tutorial/标准库/系统与环境工具/文件与文件夹操作'"
      ]
     },
     "execution_count": 3,
     "metadata": {},
     "output_type": "execute_result"
    }
   ],
   "source": [
    "os.getcwd()"
   ]
  },
  {
   "cell_type": "code",
   "execution_count": 4,
   "metadata": {
    "collapsed": true
   },
   "outputs": [],
   "source": [
    "# 在某个目录下创建一个新目录，首先把新目录的完整路径表示出来:\n",
    "Path = os.path.join(os.path.abspath('.'), 'testdir')\n",
    "#合并路径用join可以避免不同平台符号不同的问题"
   ]
  },
  {
   "cell_type": "code",
   "execution_count": 5,
   "metadata": {
    "collapsed": false
   },
   "outputs": [
    {
     "data": {
      "text/plain": [
       "('/Users/huangsizhe/workspace/post/计算机编程/编程语言/Python_Total_Tutorial/标准库/系统与环境工具/文件与文件夹操作',\n",
       " '')"
      ]
     },
     "execution_count": 5,
     "metadata": {},
     "output_type": "execute_result"
    }
   ],
   "source": [
    "#拆分文件扩展名\n",
    "os.path.splitext(\n",
    "    '/Users/huangsizhe/workspace/post/计算机编程/编程语言/Python_Total_Tutorial/标准库/系统与环境工具/文件与文件夹操作')"
   ]
  },
  {
   "cell_type": "code",
   "execution_count": 6,
   "metadata": {
    "collapsed": true
   },
   "outputs": [],
   "source": [
    "#新建目录\n",
    "os.mkdir(Path)"
   ]
  },
  {
   "cell_type": "code",
   "execution_count": 7,
   "metadata": {
    "collapsed": true
   },
   "outputs": [],
   "source": [
    "# 删掉一个目录:\n",
    "os.rmdir(Path)"
   ]
  },
  {
   "cell_type": "code",
   "execution_count": 8,
   "metadata": {
    "collapsed": false
   },
   "outputs": [
    {
     "data": {
      "text/plain": [
       "'/Users/huangsizhe/workspace/post/计算机编程/编程语言/Python_Total_Tutorial/标准库/系统与环境工具/文件与文件夹操作'"
      ]
     },
     "execution_count": 8,
     "metadata": {},
     "output_type": "execute_result"
    }
   ],
   "source": [
    "#拆分目录\n",
    "Path,_ = os.path.split(Path)\n",
    "Path"
   ]
  },
  {
   "cell_type": "code",
   "execution_count": 9,
   "metadata": {
    "collapsed": false
   },
   "outputs": [
    {
     "data": {
      "text/plain": [
       "'/Users/huangsizhe/workspace/post/计算机编程/编程语言/Python_Total_Tutorial/标准库/系统与环境工具/文件与文件夹操作/source/f1.txt.bak'"
      ]
     },
     "execution_count": 9,
     "metadata": {},
     "output_type": "execute_result"
    }
   ],
   "source": [
    "Path = os.path.join(Path,'source','f1.txt.bak')\n",
    "Path"
   ]
  },
  {
   "cell_type": "code",
   "execution_count": 3,
   "metadata": {
    "collapsed": false
   },
   "outputs": [
    {
     "data": {
      "text/plain": [
       "['.DS_Store', 'f1', 'f1.txt', 'f2.txt', 'newbee.txt', 'readme.md']"
      ]
     },
     "execution_count": 3,
     "metadata": {},
     "output_type": "execute_result"
    }
   ],
   "source": [
    "#查看有什么文件文件夹\n",
    "os.listdir('./source')"
   ]
  },
  {
   "cell_type": "code",
   "execution_count": 4,
   "metadata": {
    "collapsed": false
   },
   "outputs": [
    {
     "data": {
      "text/plain": [
       "str"
      ]
     },
     "execution_count": 4,
     "metadata": {},
     "output_type": "execute_result"
    }
   ],
   "source": [
    "type(os.listdir('./source')[1])"
   ]
  },
  {
   "cell_type": "code",
   "execution_count": 11,
   "metadata": {
    "collapsed": false
   },
   "outputs": [],
   "source": [
    "#重命名\n",
    "os.rename(Path, './source/readme.md')"
   ]
  },
  {
   "cell_type": "code",
   "execution_count": 12,
   "metadata": {
    "collapsed": true
   },
   "outputs": [],
   "source": [
    "#删除文件\n",
    "os.remove('./source/f2.txt.bak')"
   ]
  },
  {
   "cell_type": "code",
   "execution_count": 13,
   "metadata": {
    "collapsed": false
   },
   "outputs": [
    {
     "data": {
      "text/plain": [
       "[('/Users/huangsizhe/workspace/post/计算机编程/编程语言/Python_Total_Tutorial/标准库/系统与环境工具/文件与文件夹操作',\n",
       "  ['.ipynb_checkpoints', 'source'],\n",
       "  ['创建临时文件夹(tempfile).ipynb',\n",
       "   '多文件输入(fileinput).ipynb',\n",
       "   '文件比较(filecmp).ipynb',\n",
       "   '系统,文件,文件夹操作(os,filecmp,difflib).ipynb',\n",
       "   '通用路径控制(os.path).ipynb',\n",
       "   '高级文件操作(shutil).ipynb']),\n",
       " ('/Users/huangsizhe/workspace/post/计算机编程/编程语言/Python_Total_Tutorial/标准库/系统与环境工具/文件与文件夹操作/.ipynb_checkpoints',\n",
       "  [],\n",
       "  ['多文件输入(fileinput)-checkpoint.ipynb',\n",
       "   '文件比较(filecmp)-checkpoint.ipynb',\n",
       "   '通用路径控制(os.path)-checkpoint.ipynb',\n",
       "   '高级文件操作(shutil)-checkpoint.ipynb']),\n",
       " ('/Users/huangsizhe/workspace/post/计算机编程/编程语言/Python_Total_Tutorial/标准库/系统与环境工具/文件与文件夹操作/source',\n",
       "  [],\n",
       "  ['f1.txt', 'f2.txt', 'readme.md'])]"
      ]
     },
     "execution_count": 13,
     "metadata": {},
     "output_type": "execute_result"
    }
   ],
   "source": [
    "list(os.walk(os.getcwd()))"
   ]
  },
  {
   "cell_type": "code",
   "execution_count": 14,
   "metadata": {
    "collapsed": false
   },
   "outputs": [
    {
     "data": {
      "text/plain": [
       "os.stat_result(st_mode=16877, st_ino=7513348, st_dev=16777217, st_nlink=10, st_uid=501, st_gid=20, st_size=340, st_atime=1452234419, st_mtime=1452234381, st_ctime=1452234381)"
      ]
     },
     "execution_count": 14,
     "metadata": {},
     "output_type": "execute_result"
    }
   ],
   "source": [
    "os.stat(os.getcwd())"
   ]
  }
 ],
 "metadata": {
  "kernelspec": {
   "display_name": "Python 3",
   "language": "python",
   "name": "python3"
  },
  "language_info": {
   "codemirror_mode": {
    "name": "ipython",
    "version": 3
   },
   "file_extension": ".py",
   "mimetype": "text/x-python",
   "name": "python",
   "nbconvert_exporter": "python",
   "pygments_lexer": "ipython3",
   "version": "3.5.1"
  }
 },
 "nbformat": 4,
 "nbformat_minor": 0
}
