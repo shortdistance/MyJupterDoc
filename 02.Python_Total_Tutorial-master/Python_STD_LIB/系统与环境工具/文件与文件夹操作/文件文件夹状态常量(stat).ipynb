{
 "cells": [
  {
   "cell_type": "markdown",
   "metadata": {},
   "source": [
    "# 文件文件夹状态常量(stat)\n",
    "\n",
    "stat模块提供了状态常量和判断是否是这些状态的方法:\n",
    "\n",
    "\n",
    "常用的状态有:\n",
    "\n",
    "+ st_mode -- protection bits(模式)\n",
    " \n",
    "+ st_ino -- inode number(索引号)\n",
    " \n",
    "+ st_dev -- device(设备)\n",
    "\n",
    "+ st_nlink -- number of hard links(硬链接号)\n",
    "\n",
    "+ st_uid -- user id of owner(用户id)\n",
    "\n",
    "+ st_gid -- group id of owner (组id)\n",
    "\n",
    "+ st_size -- size of file,in bytes (大小)\n",
    "\n",
    "+ st_atime -- time of most recent access expressed in seconds (访问时间)\n",
    "\n",
    "+ st_mtime -- time of most recent content modificatin expressed in seconds (修改时间)\n",
    "\n",
    "+ st_ctime -- platform dependent;time of most recent metadata change on Unix,or the teime of creation on Windows,expressed in senconds (根据不同操作系统而定)\n",
    "\n",
    "\n",
    "常用的方法有:\n",
    "\n",
    "+ stat.S_ISREG( fileStats [ stat.ST_MODE ] )          判断是否一般文件\n",
    "\n",
    "+ stat.S_ISLNK ( fileStats [ stat.ST_MODE ] )         判断是否链接文件\n",
    "\n",
    "+ stat.S_ISSOCK ( fileStats [ stat.ST_MODE ] )        判断是否套接字文件    \n",
    "\n",
    "+ stat.S_ISFIFO ( fileStats [ stat.ST_MODE ] )        判断是否命名管道\n",
    "\n",
    "+ stat.S_ISBLK ( fileStats [ stat.ST_MODE ] )         判断是否块设备\n",
    "\n",
    "+ stat.S_ISCHR ( fileStats [ stat.ST_MODE ] )         判断是否字符设置"
   ]
  },
  {
   "cell_type": "code",
   "execution_count": 3,
   "metadata": {
    "collapsed": false
   },
   "outputs": [
    {
     "name": "stdout",
     "output_type": "stream",
     "text": [
      "visiting source/f1.txt\n",
      "visiting source/f2.txt\n",
      "visiting source/newbee.txt\n",
      "visiting source/readme.md\n"
     ]
    }
   ],
   "source": [
    "import os, sys\n",
    "from stat import *\n",
    "\n",
    "def walktree(top, callback):\n",
    "    '''recursively descend the directory tree rooted at top,\n",
    "       calling the callback function for each regular file'''\n",
    "\n",
    "    for f in os.listdir(top):\n",
    "        pathname = os.path.join(top, f)\n",
    "        mode = os.stat(pathname).st_mode\n",
    "        if S_ISDIR(mode):\n",
    "            # It's a directory, recurse into it\n",
    "            walktree(pathname, callback)\n",
    "        elif S_ISREG(mode):\n",
    "            # It's a file, call the callback function\n",
    "            callback(pathname)\n",
    "        else:\n",
    "            # Unknown file type, print a message\n",
    "            print('Skipping %s' % pathname)\n",
    "\n",
    "def visitfile(file):\n",
    "    print('visiting', file)\n",
    "\n",
    "\n",
    "walktree(\"source\", visitfile)"
   ]
  }
 ],
 "metadata": {
  "kernelspec": {
   "display_name": "Python 3",
   "language": "python",
   "name": "python3"
  },
  "language_info": {
   "codemirror_mode": {
    "name": "ipython",
    "version": 3
   },
   "file_extension": ".py",
   "mimetype": "text/x-python",
   "name": "python",
   "nbconvert_exporter": "python",
   "pygments_lexer": "ipython3",
   "version": "3.5.0"
  }
 },
 "nbformat": 4,
 "nbformat_minor": 0
}
