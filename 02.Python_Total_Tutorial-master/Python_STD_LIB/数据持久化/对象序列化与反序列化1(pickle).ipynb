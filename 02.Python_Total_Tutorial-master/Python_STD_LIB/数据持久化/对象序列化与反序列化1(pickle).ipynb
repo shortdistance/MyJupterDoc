{
 "cells": [
  {
   "cell_type": "markdown",
   "metadata": {},
   "source": [
    "# Python对象持久化(pickle)\n",
    "\n",
    "python的pickle模块实现了基本的数据序列和反序列化。通过pickle模块的序列化操作我们能够将程序中运行的对象信息保存到文件中去，永久存储；通过pickle模块的反序列化操作，我们能够从文件中创建上一次程序保存的对象。\n",
    "\n",
    "需要注意,pickel的文件并不是默认跨版本支持的,可以对照这张表设定需要的参数\n",
    "\n",
    "pickel到目前为止有5种序列化格式:\n",
    "\n",
    "版本|说明|支持python版本\n",
    "---|---|---\n",
    "0| 人类可读的文本,用于最早期|全部版本\n",
    "1| 老的二进制版本文本同样用于早期|全部版本\n",
    "2| 出现于2.3版本,用以支持新类|2.3+\n",
    "3|出现于3.0版本,用以支持bytes类型|3.0+ \n",
    "4| 出现于Python 3.4.用于扩充pickel的支持类型和大对象|3.4+ \n",
    "\n",
    "要向下支持的话,我们必须设定pickel的版本为2,即protocol=2"
   ]
  },
  {
   "cell_type": "code",
   "execution_count": 12,
   "metadata": {
    "collapsed": true
   },
   "outputs": [],
   "source": [
    "from pickle import dump, load, dumps,loads"
   ]
  },
  {
   "cell_type": "markdown",
   "metadata": {},
   "source": [
    "## dump(obj, file, [,protocol])  \n",
    "\n",
    "将对象obj保存到文件file中去。"
   ]
  },
  {
   "cell_type": "code",
   "execution_count": 13,
   "metadata": {
    "collapsed": true
   },
   "outputs": [],
   "source": [
    "exa_l=[1,2,3,4,5]"
   ]
  },
  {
   "cell_type": "code",
   "execution_count": 14,
   "metadata": {
    "collapsed": true
   },
   "outputs": [],
   "source": [
    "with open(\"./pickle_test.txt\",\"wb\") as f:\n",
    "    dump(exa_l,f,protocol=2)"
   ]
  },
  {
   "cell_type": "markdown",
   "metadata": {},
   "source": [
    "## load(file)\n",
    "\n",
    "从file中读取一个字符串，并将它重构为原来的python对象。"
   ]
  },
  {
   "cell_type": "code",
   "execution_count": 15,
   "metadata": {
    "collapsed": false
   },
   "outputs": [
    {
     "data": {
      "text/plain": [
       "[1, 2, 3, 4, 5]"
      ]
     },
     "execution_count": 15,
     "metadata": {},
     "output_type": "execute_result"
    }
   ],
   "source": [
    "with open(\"./pickle_test.txt\",\"rb\") as f:\n",
    "    view_exam = load(f)\n",
    "view_exam"
   ]
  },
  {
   "cell_type": "markdown",
   "metadata": {},
   "source": [
    "## dumps(obj,[,protocol])  \n",
    "序列化为bytes"
   ]
  },
  {
   "cell_type": "code",
   "execution_count": 25,
   "metadata": {
    "collapsed": false
   },
   "outputs": [],
   "source": [
    "exa_b = dumps(exa_l)"
   ]
  },
  {
   "cell_type": "code",
   "execution_count": 26,
   "metadata": {
    "collapsed": false
   },
   "outputs": [
    {
     "data": {
      "text/plain": [
       "b'\\x80\\x03]q\\x00(K\\x01K\\x02K\\x03K\\x04K\\x05e.'"
      ]
     },
     "execution_count": 26,
     "metadata": {},
     "output_type": "execute_result"
    }
   ],
   "source": [
    "exa_b"
   ]
  },
  {
   "cell_type": "markdown",
   "metadata": {},
   "source": [
    "## loads(b)  \n",
    "反序列化为对象"
   ]
  },
  {
   "cell_type": "code",
   "execution_count": 27,
   "metadata": {
    "collapsed": false
   },
   "outputs": [
    {
     "data": {
      "text/plain": [
       "[1, 2, 3, 4, 5]"
      ]
     },
     "execution_count": 27,
     "metadata": {},
     "output_type": "execute_result"
    }
   ],
   "source": [
    "loads(exa_b)"
   ]
  },
  {
   "cell_type": "markdown",
   "metadata": {},
   "source": [
    "## 命令行工具 `pickletools`[3+]\n",
    "\n",
    "在python3中提供了一个命令行工具来管理pickle文件"
   ]
  },
  {
   "cell_type": "code",
   "execution_count": 16,
   "metadata": {
    "collapsed": false
   },
   "outputs": [
    {
     "name": "stdout",
     "output_type": "stream",
     "text": [
      "[1, 2, 3, 4, 5]\r\n"
     ]
    }
   ],
   "source": [
    "!python3 -m pickle pickle_test.txt"
   ]
  },
  {
   "cell_type": "code",
   "execution_count": 17,
   "metadata": {
    "collapsed": false
   },
   "outputs": [
    {
     "name": "stdout",
     "output_type": "stream",
     "text": [
      "    0: \\x80 PROTO      2\r\n",
      "    2: ]    EMPTY_LIST\r\n",
      "    3: q    BINPUT     0\r\n",
      "    5: (    MARK\r\n",
      "    6: K        BININT1    1\r\n",
      "    8: K        BININT1    2\r\n",
      "   10: K        BININT1    3\r\n",
      "   12: K        BININT1    4\r\n",
      "   14: K        BININT1    5\r\n",
      "   16: e        APPENDS    (MARK at 5)\r\n",
      "   17: .    STOP\r\n",
      "highest protocol among opcodes = 2\r\n"
     ]
    }
   ],
   "source": [
    "!python3 -m pickletools pickle_test.txt"
   ]
  },
  {
   "cell_type": "markdown",
   "metadata": {},
   "source": [
    "可用的参数:\n",
    "\n",
    "\n",
    "+ -a, --annotate\n",
    "\n",
    "Annotate each line with a short opcode description.\n",
    "\n",
    "+ -o, --output=<file>\n",
    "\n",
    "Name of a file where the output should be written.\n",
    "\n",
    "+ -l, --indentlevel=<num>\n",
    "\n",
    "The number of blanks by which to indent a new MARK level.\n",
    "\n",
    "+ -m, --memo\n",
    "\n",
    "When multiple objects are disassembled, preserve memo between disassemblies.\n",
    "\n",
    "+ -p, --preamble=<preamble>\n",
    "\n",
    "When more than one pickle file are specified, print given preamble before each disassem"
   ]
  },
  {
   "cell_type": "markdown",
   "metadata": {},
   "source": [
    "## 不可 pickle 的对象\n",
    "\n",
    "一些对象类型是不可 pickle 的。例如，Python 不能 pickle 文件对象（或者任何带有对文件对象引用的对象），因为 Python 在 unpickle 时不能保证它可以重建该文件的状态（另一个示例比较难懂，在这类文章中不值得提出来）。"
   ]
  },
  {
   "cell_type": "markdown",
   "metadata": {},
   "source": [
    "## pickle 类实例\n",
    "\n",
    "与 pickle 简单对象类型相比，pickle 类实例要多加留意。这主要由于 Python 会 pickle 实例数据（通常是 _dict_ 属性）和类的名称，而不会 pickle 类的代码。当 Python unpickle 类的实例时，它会试图使用在 pickle 该实例时的确切的类名称和模块名称（包括任何包的路径前缀）导入包含该类定义的模块。另外要注意，类定义必须出现在模块的最顶层，这意味着它们不能是嵌套的类（在其它类或函数中定义的类）。\n",
    "\n",
    "当 unpickle 类的实例时，通常不会再调用它们的 _init_() 方法。相反，Python 创建一个通用类实例，并应用已进行过 pickle 的实例属性，同时设置该实例的 _class_ 属性，使其指向原来的类。\n",
    "\n",
    "我们可以用`copyreg`这个模块注册需要的实例"
   ]
  },
  {
   "cell_type": "code",
   "execution_count": 18,
   "metadata": {
    "collapsed": true
   },
   "outputs": [],
   "source": [
    "import copyreg"
   ]
  },
  {
   "cell_type": "code",
   "execution_count": 20,
   "metadata": {
    "collapsed": false
   },
   "outputs": [],
   "source": [
    "class C(object):\n",
    "    def __init__(self,a):\n",
    "        self.a = a\n",
    "def pickle_c(c):\n",
    "    return C,(c.a,)"
   ]
  },
  {
   "cell_type": "code",
   "execution_count": 21,
   "metadata": {
    "collapsed": false
   },
   "outputs": [],
   "source": [
    "copyreg.pickle(C,pickle_c)"
   ]
  },
  {
   "cell_type": "code",
   "execution_count": 22,
   "metadata": {
    "collapsed": true
   },
   "outputs": [],
   "source": [
    "c = C(1)"
   ]
  },
  {
   "cell_type": "code",
   "execution_count": 33,
   "metadata": {
    "collapsed": false
   },
   "outputs": [
    {
     "data": {
      "text/plain": [
       "<__main__.C at 0x108ab4b00>"
      ]
     },
     "execution_count": 33,
     "metadata": {},
     "output_type": "execute_result"
    }
   ],
   "source": [
    "c"
   ]
  },
  {
   "cell_type": "code",
   "execution_count": 28,
   "metadata": {
    "collapsed": false
   },
   "outputs": [],
   "source": [
    "p = dumps(c)"
   ]
  },
  {
   "cell_type": "code",
   "execution_count": 29,
   "metadata": {
    "collapsed": false
   },
   "outputs": [
    {
     "data": {
      "text/plain": [
       "b'\\x80\\x03c__main__\\nC\\nq\\x00K\\x01\\x85q\\x01Rq\\x02.'"
      ]
     },
     "execution_count": 29,
     "metadata": {},
     "output_type": "execute_result"
    }
   ],
   "source": [
    "p"
   ]
  },
  {
   "cell_type": "code",
   "execution_count": 30,
   "metadata": {
    "collapsed": true
   },
   "outputs": [],
   "source": [
    "cc = loads(p)"
   ]
  },
  {
   "cell_type": "code",
   "execution_count": 34,
   "metadata": {
    "collapsed": false
   },
   "outputs": [
    {
     "data": {
      "text/plain": [
       "<__main__.C at 0x108a999e8>"
      ]
     },
     "execution_count": 34,
     "metadata": {},
     "output_type": "execute_result"
    }
   ],
   "source": [
    "cc"
   ]
  },
  {
   "cell_type": "code",
   "execution_count": 32,
   "metadata": {
    "collapsed": false
   },
   "outputs": [
    {
     "data": {
      "text/plain": [
       "1"
      ]
     },
     "execution_count": 32,
     "metadata": {},
     "output_type": "execute_result"
    }
   ],
   "source": [
    "cc.a"
   ]
  }
 ],
 "metadata": {
  "kernelspec": {
   "display_name": "Python 3",
   "language": "python",
   "name": "python3"
  },
  "language_info": {
   "codemirror_mode": {
    "name": "ipython",
    "version": 3
   },
   "file_extension": ".py",
   "mimetype": "text/x-python",
   "name": "python",
   "nbconvert_exporter": "python",
   "pygments_lexer": "ipython3",
   "version": "3.5.0"
  }
 },
 "nbformat": 4,
 "nbformat_minor": 0
}
