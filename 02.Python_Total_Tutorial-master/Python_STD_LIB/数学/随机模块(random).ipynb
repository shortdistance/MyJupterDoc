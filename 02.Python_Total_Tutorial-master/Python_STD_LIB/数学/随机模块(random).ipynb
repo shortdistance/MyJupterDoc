{
 "cells": [
  {
   "cell_type": "markdown",
   "metadata": {},
   "source": [
    "# 随机模块random\n",
    "\n",
    "## 常规用法\n",
    "\n",
    "无论在做测试中还是在做模拟中,随机都是必须的模块,具体这样用:"
   ]
  },
  {
   "cell_type": "code",
   "execution_count": 2,
   "metadata": {
    "collapsed": true
   },
   "outputs": [],
   "source": [
    "import random"
   ]
  },
  {
   "cell_type": "code",
   "execution_count": 3,
   "metadata": {
    "collapsed": false
   },
   "outputs": [
    {
     "data": {
      "text/plain": [
       "0.32192171027164607"
      ]
     },
     "execution_count": 3,
     "metadata": {},
     "output_type": "execute_result"
    }
   ],
   "source": [
    "random.random()        # [0,1)内随机浮点数"
   ]
  },
  {
   "cell_type": "code",
   "execution_count": 4,
   "metadata": {
    "collapsed": false
   },
   "outputs": [
    {
     "data": {
      "text/plain": [
       "4.900770636372008"
      ]
     },
     "execution_count": 4,
     "metadata": {},
     "output_type": "execute_result"
    }
   ],
   "source": [
    "random.uniform(1, 10)  # [1,10)内随机浮点数"
   ]
  },
  {
   "cell_type": "code",
   "execution_count": 5,
   "metadata": {
    "collapsed": false
   },
   "outputs": [
    {
     "data": {
      "text/plain": [
       "10"
      ]
     },
     "execution_count": 5,
     "metadata": {},
     "output_type": "execute_result"
    }
   ],
   "source": [
    "random.randint(1, 10)  # [1,10]范围内的随机整数"
   ]
  },
  {
   "cell_type": "code",
   "execution_count": 6,
   "metadata": {
    "collapsed": false
   },
   "outputs": [
    {
     "data": {
      "text/plain": [
       "66"
      ]
     },
     "execution_count": 6,
     "metadata": {},
     "output_type": "execute_result"
    }
   ],
   "source": [
    "random.randrange(0, 101, 2)  # 从等差数列中随机挑一个数"
   ]
  },
  {
   "cell_type": "code",
   "execution_count": 7,
   "metadata": {
    "collapsed": false
   },
   "outputs": [
    {
     "data": {
      "text/plain": [
       "'a'"
      ]
     },
     "execution_count": 7,
     "metadata": {},
     "output_type": "execute_result"
    }
   ],
   "source": [
    "random.choice('abcdefghij')  # 随机选一个"
   ]
  },
  {
   "cell_type": "code",
   "execution_count": 8,
   "metadata": {
    "collapsed": true
   },
   "outputs": [],
   "source": [
    "items = [1, 2, 3, 4, 5, 6, 7]\n",
    "random.shuffle(items)#随机排序"
   ]
  },
  {
   "cell_type": "code",
   "execution_count": 9,
   "metadata": {
    "collapsed": false
   },
   "outputs": [
    {
     "data": {
      "text/plain": [
       "[2, 1, 3]"
      ]
     },
     "execution_count": 9,
     "metadata": {},
     "output_type": "execute_result"
    }
   ],
   "source": [
    "random.sample([1, 2, 3, 4, 5],  3)  # 随机选3个元素"
   ]
  },
  {
   "cell_type": "markdown",
   "metadata": {},
   "source": [
    "## 随机种子\n",
    "\n",
    "学过C的都知道[伪随机](http://baike.baidu.com/link?url=jnG_iX8HCXPxH-bsD2_HH2Z7XvX-o_6AfQvmNPMq9d2PaFv34aCoS33yJ7n94XOrt2I0EhZGjttpOEYPIR8cHK),python也是伪随机,所以可以通过设定`seed`值来改变随机状态"
   ]
  },
  {
   "cell_type": "code",
   "execution_count": 35,
   "metadata": {
    "collapsed": false
   },
   "outputs": [],
   "source": [
    "from matplotlib import pyplot as plt"
   ]
  },
  {
   "cell_type": "code",
   "execution_count": 12,
   "metadata": {
    "collapsed": true
   },
   "outputs": [],
   "source": [
    "%matplotlib inline"
   ]
  },
  {
   "cell_type": "markdown",
   "metadata": {},
   "source": [
    "## 数学上的一些特殊随机\n",
    "\n",
    "### 三角分布:\n",
    "\n",
    "三角分布式是连续概率分布,可以看做是在一个范围中有一个数(众数)它附近有最高的概率密度即最有可能出现在该众数上\n",
    "\n",
    "    random.triangular(low, high, mode)#三角形分布,默认众数(mode)是中值"
   ]
  },
  {
   "cell_type": "code",
   "execution_count": 63,
   "metadata": {
    "collapsed": false
   },
   "outputs": [
    {
     "data": {
      "text/plain": [
       "0.8105164926018522"
      ]
     },
     "execution_count": 63,
     "metadata": {},
     "output_type": "execute_result"
    }
   ],
   "source": [
    "hight,low,mode = 0,2,0.5\n",
    "random.triangular(hight,low,mode)"
   ]
  },
  {
   "cell_type": "code",
   "execution_count": 64,
   "metadata": {
    "collapsed": false
   },
   "outputs": [],
   "source": [
    "from collections import Counter"
   ]
  },
  {
   "cell_type": "code",
   "execution_count": 65,
   "metadata": {
    "collapsed": false
   },
   "outputs": [],
   "source": [
    "c = Counter()\n",
    "for nbr in [round(random.triangular(0,2,0.5),2) for i in range(10000)]:\n",
    "    c[nbr] = c[nbr] + 1"
   ]
  },
  {
   "cell_type": "code",
   "execution_count": 66,
   "metadata": {
    "collapsed": false,
    "scrolled": true
   },
   "outputs": [
    {
     "data": {
      "image/png": "[encoded data removed]",
      "text/plain": [
       "<matplotlib.figure.Figure at 0x106f5f1d0>"
      ]
     },
     "metadata": {},
     "output_type": "display_data"
    }
   ],
   "source": [
    "plt.plot(c.keys(),c.values(),\".\")\n",
    "plt.show()"
   ]
  },
  {
   "cell_type": "markdown",
   "metadata": {},
   "source": [
    "### β分布\n",
    "\n",
    "β分布是在0到1上的特殊分布,\n",
    "\n",
    "做硬币试验的假定分布，即做伯努利试验的假定分布在确定伯努利试验的分布之前，我们利用试验的少量数据来估计试验的概率（作为先验概率）beta分布涉及两个参数：1、试验成功的次数2、试验失败的次数.\n",
    "\n",
    "概率密度函数为:\n",
    "\n",
    "$\\begin{align}\n",
    "f(x)=&\n",
    "x^{\\alpha-1}(1-x)^{\\beta-1}\n",
    "\\over\n",
    "\\int_0^1 u^{\\alpha-1}(1-u)^{\\beta-1}du\\\\\n",
    "=&{\\Gamma(\\alpha+\\beta)\\over{\\Gamma(\\alpha)\\Gamma(\\beta)}}x^{\\alpha-1}(1-x)^{\\beta-1}\\\\\n",
    "=&{1\\over B(\\alpha-\\beta)}x^{\\alpha-1}(1-x)^{\\beta-1}\n",
    "\\end{align}\n",
    "$\n",
    "\n",
    "累积分布函数:\n",
    "\n",
    "$\\begin{align}\n",
    "F(x;\\alpha,\\beta)=&B_x(\\alpha,\\beta)\\over B(\\alpha,\\beta)&=I_x(\\alpha,\\beta)\n",
    "\\end{align}\n",
    "$\n",
    "\n",
    "$$ \\text 其中{B_x(\\alpha,\\beta)}\\text 是不完全Β函数,{I_x(\\alpha,\\beta)} \\text 是正则不完全贝塔函数$$\n",
    "\n",
    "\n",
    "\n",
    "是不完全Β函数，$I_x (\\alpha,\\beta)$ 是正则不完全贝塔函数\n",
    "\n",
    "    random.betavariate(alpha, beta)#beta分布\n"
   ]
  },
  {
   "cell_type": "code",
   "execution_count": 71,
   "metadata": {
    "collapsed": false
   },
   "outputs": [
    {
     "data": {
      "image/png": "[encoded data removed]",
      "text/plain": [
       "<matplotlib.figure.Figure at 0x107394c90>"
      ]
     },
     "metadata": {},
     "output_type": "display_data"
    }
   ],
   "source": [
    "l0=[random.betavariate(0.5,1) for i in range(100000)]\n",
    "l1=[random.betavariate(2,3) for i in range(100000)]\n",
    "l2=[random.betavariate(3,4) for i in range(100000)]\n",
    "l3=[random.betavariate(2,5) for i in range(100000)]\n",
    "\n",
    "r0=[len(filter(lambda x:i+0.005>x>i-0.005,l0)) for i in map(lambda x:round(x*0.01,3),range(0,100,1))]\n",
    "r1=[len(filter(lambda x:i+0.005>x>i-0.005,l1)) for i in map(lambda x:round(x*0.01,3),range(0,100,1))]\n",
    "r2=[len(filter(lambda x:i+0.005>x>i-0.005,l2)) for i in map(lambda x:round(x*0.01,3),range(0,100,1))]\n",
    "r3=[len(filter(lambda x:i+0.005>x>i-0.005,l3)) for i in map(lambda x:round(x*0.01,3),range(0,100,1))]\n",
    "\n",
    "plt.plot(map(lambda x:round(x*0.01,3),range(0,100,1)),r0,color=\"red\")\n",
    "plt.plot(map(lambda x:round(x*0.01,3),range(0,100,1)),r1,color=\"blue\")\n",
    "plt.plot(map(lambda x:round(x*0.01,3),range(0,100,1)),r2,color=\"green\")\n",
    "plt.plot(map(lambda x:round(x*0.01,3),range(0,100,1)),r3,color=\"yellow\")\n",
    "plt.show()"
   ]
  },
  {
   "cell_type": "markdown",
   "metadata": {},
   "source": [
    "## 指数分布\n",
    "\n",
    "概率密度函数:\n",
    "\n",
    "指数分布可以用来表示独立随机事件发生的时间间隔，比如旅客进机场的时间间隔、中文维基百科新条目出现的时间间隔等等。\n",
    "许多电子产品的寿命分布一般服从指数分布。有的系统的寿命分布也可用指数分布来近似。它在可靠性研究中是最常用的一种分布形式。指数分布是伽玛分布和威布尔分布的特殊情况，产品的失效是偶然失效时，其寿命服从指数分布。\n",
    "指数分布可以看作当威布尔分布中的形状系数等于1的特殊分布，指数分布的失效率是与时间t无关的常数，所以分布函数简单。\n",
    "\n",
    "概率密度函数:\n",
    "\n",
    "$ f(x)=\\begin{cases}\n",
    "    \\lambda e^{-\\lambda x}&\\text{$x>0$},\\\\\n",
    "    0&\\text{$x\\le0$}.\n",
    "\\end{cases} \n",
    "$\n",
    "累积分布函数:\n",
    "\n",
    "$ F(x;\\lambda)=\\begin{cases}\n",
    "    1- e^{-\\lambda x}&\\text{$x\\ge0$},\\\\\n",
    "    0&\\text{$x<0$}.\n",
    "\\end{cases} $\n",
    "\n",
    "期望值:\n",
    "\n",
    "$ EX=\\lambda^{-1} $\n",
    "\n",
    "方差:\n",
    "$D(X)=Var(X)=\\lambda ^{-2}$\n",
    "\n",
    "    random.expovariate(lambd)\n"
   ]
  },
  {
   "cell_type": "code",
   "execution_count": 72,
   "metadata": {
    "collapsed": false
   },
   "outputs": [
    {
     "data": {
      "text/plain": [
       "0.6736423660789538"
      ]
     },
     "execution_count": 72,
     "metadata": {},
     "output_type": "execute_result"
    }
   ],
   "source": [
    "random.expovariate(3)"
   ]
  },
  {
   "cell_type": "code",
   "execution_count": 77,
   "metadata": {
    "collapsed": false
   },
   "outputs": [
    {
     "data": {
      "image/png": "[encoded data removed]",
      "text/plain": [
       "<matplotlib.figure.Figure at 0x1029dda10>"
      ]
     },
     "metadata": {},
     "output_type": "display_data"
    }
   ],
   "source": [
    "c_e3 = Counter()\n",
    "for nbr in [round(random.expovariate(3),2 )for i in range(10000)]:\n",
    "    c_e3[nbr] = c_e3[nbr] + 1\n",
    "plt.plot(c_e3.keys(),c_e3.values(),\".\")\n",
    "plt.show()"
   ]
  },
  {
   "cell_type": "markdown",
   "metadata": {},
   "source": [
    "## 伽玛分布\n",
    "\n",
    "概率密度函数:\n",
    "\n",
    "令  $X\\sim  \\Gamma(\\alpha,\\beta)$ ;\n",
    "则有:\n",
    "$f(x)={{x^{(\\alpha-1)} e^{(-\\lambda x)}}\\over{\\Gamma(\\alpha)\\beta^\\alpha}} ,x>0\n",
    "$\n",
    "    \n",
    "    \n",
    "    random.gammavariate(alpha, beta)"
   ]
  },
  {
   "cell_type": "code",
   "execution_count": 88,
   "metadata": {
    "collapsed": false
   },
   "outputs": [
    {
     "data": {
      "image/png": "[encoded data removed]",
      "text/plain": [
       "<matplotlib.figure.Figure at 0x108ba2d90>"
      ]
     },
     "metadata": {},
     "output_type": "display_data"
    }
   ],
   "source": [
    "c_gamma = Counter()\n",
    "for nbr in [round(random.gammavariate(5,0.5),2 )for i in range(10000)]:\n",
    "    c_gamma [nbr] = c_gamma [nbr] + 1\n",
    "plt.plot(c_gamma .keys(),c_gamma .values(),\".\")\n",
    "plt.show()"
   ]
  },
  {
   "cell_type": "markdown",
   "metadata": {},
   "source": [
    "## 高斯分布(正态分布)\n",
    "\n",
    "概率密度函数:\n",
    "\n",
    "$\n",
    "f(x)={1\\over {\\sqrt {2\\pi}\\sigma}}exp(-{(x-\\mu)^2\\over{2\\sigma^2}})\n",
    "$\n",
    "其中 $\\mu$ 与 $\\sigma$ 分别是变量对数的平均值与标准差\n",
    "\n",
    "\n",
    "    random.gauss(mu, sigma)#略快于下面的方法\n",
    "\n",
    "    random.normalvariate(mu, sigma)"
   ]
  },
  {
   "cell_type": "code",
   "execution_count": 95,
   "metadata": {
    "collapsed": false
   },
   "outputs": [
    {
     "data": {
      "image/png": "[encoded data removed]",
      "text/plain": [
       "<matplotlib.figure.Figure at 0x102a3d450>"
      ]
     },
     "metadata": {},
     "output_type": "display_data"
    }
   ],
   "source": [
    "c_gauss = Counter()\n",
    "for nbr in [round(random.gauss(0,1),2 )for i in range(10000)]:\n",
    "    c_gauss[nbr] = c_gauss[nbr] + 1\n",
    "plt.plot(c_gauss .keys(),c_gauss .values(),\".\")\n",
    "plt.show()"
   ]
  },
  {
   "cell_type": "markdown",
   "metadata": {},
   "source": [
    "## 对数正态分布\n",
    "\n",
    "如果 X 是正态分布的随机变量，则 exp(X) 为对数正态分布；同样，如果 Y 是对数正态分布，则 ln(Y) 为正态分布。 如果一个变量可以看作是许多很小独立因子的乘积，则这个变量可以看作是对数正态分布。\n",
    "\n",
    "概率密度函数:\n",
    "$\n",
    "f(x;\\mu,\\sigma) = \\frac{1}{ \\sigma \\sqrt{2 \\pi}} e^{-(\\ln x - \\mu)^2/2\\sigma^2}\n",
    "$\n",
    "\n",
    "其中 $\\mu$ 与 $\\sigma$ 分别是变量对数的平均值与标准差\n",
    "\n",
    "    random.lognormvariate(mu, sigma)\n"
   ]
  },
  {
   "cell_type": "code",
   "execution_count": 106,
   "metadata": {
    "collapsed": false
   },
   "outputs": [
    {
     "data": {
      "image/png": "[encoded data removed]",
      "text/plain": [
       "<matplotlib.figure.Figure at 0x107043290>"
      ]
     },
     "metadata": {},
     "output_type": "display_data"
    }
   ],
   "source": [
    "c_log = Counter()\n",
    "for nbr in [round(random.lognormvariate(0.5,0.5),2 )for i in range(10000)]:\n",
    "    c_log[nbr] = c_log[nbr] + 1\n",
    "plt.plot(c_log .keys(),c_log .values(),\".\")\n",
    "plt.show()"
   ]
  },
  {
   "cell_type": "markdown",
   "metadata": {},
   "source": [
    "## 冯·米塞斯分布\n",
    "\n",
    "冯·米塞斯分布（von Mises distribution）指一种圆上连续概率分布模型，它也被称作循环正态分布\n",
    "\n",
    "概率密度函数:\n",
    "$\n",
    "f(x|\\mu,\\kappa)=\\frac{e^{\\kappa\\cos(x-\\mu)}}{2\\pi I_0(\\kappa)}\n",
    "$\n",
    "\n",
    "参数μ和1/κ是μ和σ^2（对应正态分布中的均值和方差）的模拟量\n",
    "+ μ是位置的度量（分布将围绕μ成簇）\n",
    "+ κ是集中度的度量（分散度的倒数，所以1/κ是σ^2的模拟量）\n",
    "+ + 如果κ为0，分布是均匀分布，对于κ很小的情形，分布近似均匀分布\n",
    "+ + 如果κ很大，分布紧紧围绕μ集中分布。实际上，随着κ增加，分布将趋于x以μ为均值1/κ为方差的正态分布\n",
    "\n",
    "\n",
    "\n",
    "    random.vonmisesvariate(mu, kappa)\n",
    "    "
   ]
  },
  {
   "cell_type": "code",
   "execution_count": 115,
   "metadata": {
    "collapsed": false
   },
   "outputs": [
    {
     "data": {
      "image/png": "[encoded data removed]",
      "text/plain": [
       "<matplotlib.figure.Figure at 0x108be5690>"
      ]
     },
     "metadata": {},
     "output_type": "display_data"
    }
   ],
   "source": [
    "c_von = Counter()\n",
    "for nbr in [round(random.vonmisesvariate(10,1),2 )for i in range(10000)]:\n",
    "    c_von[nbr] = c_von[nbr] + 1\n",
    "plt.plot(c_von.keys(),c_von.values(),\".\")\n",
    "plt.show()"
   ]
  },
  {
   "cell_type": "markdown",
   "metadata": {},
   "source": [
    "## 帕累托分布\n",
    "\n",
    "帕累托法则(2,8定律)\n",
    "帕累托分布是以意大利经济学家维弗雷多·帕雷托命名的。 是从大量真实世界的现象中发现的幂定律分布。这个分布在经济学以外，也被称为布拉德福分布。\n",
    "\n",
    "概率密度函数:\n",
    "$\n",
    "p(x) = \\left \\{ \\begin{matrix} 0, & \\mbox{if }x < x_{\\min}; \\\\  \\\\ {k \\; x_{\\min}^k \\over x^{k+1}}, & \\mbox{if }x > x_{\\min}. \\end{matrix} \\right.\n",
    "$\n",
    "\n",
    "k是形状参数(shape parameter)\n",
    "\n",
    "\n",
    "    random.paretovariate(k)"
   ]
  },
  {
   "cell_type": "code",
   "execution_count": 122,
   "metadata": {
    "collapsed": false
   },
   "outputs": [
    {
     "data": {
      "image/png": "[encoded data removed]",
      "text/plain": [
       "<matplotlib.figure.Figure at 0x1070dc5d0>"
      ]
     },
     "metadata": {},
     "output_type": "display_data"
    }
   ],
   "source": [
    "c_par = Counter()\n",
    "for nbr in [round(random.paretovariate(10),2 )for i in range(10000)]:\n",
    "    c_par[nbr] = c_par[nbr] + 1\n",
    "plt.plot(c_par.keys(),c_par.values(),\".\")\n",
    "plt.show()"
   ]
  },
  {
   "cell_type": "markdown",
   "metadata": {},
   "source": [
    "## 韦伯分布\n",
    "\n",
    "韦伯分布（Weibull distribution），又称韦氏分布或威布尔分布，是可靠性分析和寿命检验的理论基础。\n",
    "\n",
    "概率密度函数:\n",
    "\n",
    "$\n",
    "f(x;\\lambda,k) =  \\begin{cases}\n",
    "\\frac{k}{\\lambda}\\left(\\frac{x}{\\lambda}\\right)^{k-1}e^{-(x/\\lambda)^{k}} & x\\geq0\\\\\n",
    "0 & x<0\\end{cases}\n",
    "$\n",
    "\n",
    "λ＞0是比例参数（scale parameter），k＞0是形状参数（shape parameter）\n",
    "\n",
    "    random.weibullvariate(lambda, k)\n"
   ]
  },
  {
   "cell_type": "code",
   "execution_count": 128,
   "metadata": {
    "collapsed": false
   },
   "outputs": [
    {
     "data": {
      "image/png": "[encoded data removed]",
      "text/plain": [
       "<matplotlib.figure.Figure at 0x106d5ec50>"
      ]
     },
     "metadata": {},
     "output_type": "display_data"
    }
   ],
   "source": [
    "c_wei = Counter()\n",
    "for nbr in [round(random.weibullvariate(2,1),2 )for i in range(10000)]:\n",
    "    c_wei[nbr] = c_wei[nbr] + 1\n",
    "plt.plot(c_wei.keys(),c_wei.values(),\".\")\n",
    "plt.show()"
   ]
  }
 ],
 "metadata": {
  "kernelspec": {
   "display_name": "Python 2",
   "language": "python",
   "name": "python2"
  },
  "language_info": {
   "codemirror_mode": {
    "name": "ipython",
    "version": 2
   },
   "file_extension": ".py",
   "mimetype": "text/x-python",
   "name": "python",
   "nbconvert_exporter": "python",
   "pygments_lexer": "ipython2",
   "version": "2.7.10"
  }
 },
 "nbformat": 4,
 "nbformat_minor": 0
}
