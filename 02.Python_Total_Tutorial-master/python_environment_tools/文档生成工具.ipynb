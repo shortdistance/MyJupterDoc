{
 "cells": [
  {
   "cell_type": "markdown",
   "metadata": {},
   "source": [
    "# 文档生成工具\n",
    "\n",
    "pydoc是python自带的文档生成器.一般要了解一个模块我们可以看它的源码,毕竟python代码可读性高嘛,但看文档也是个不错的选择"
   ]
  },
  {
   "cell_type": "markdown",
   "metadata": {},
   "source": [
    "> pydoc的使用"
   ]
  },
  {
   "cell_type": "code",
   "execution_count": 2,
   "metadata": {
    "collapsed": false
   },
   "outputs": [
    {
     "name": "stdout",
     "output_type": "stream",
     "text": [
      "Help on package flask:\r\n",
      "\r\n",
      "N\bNA\bAM\bME\bE\r\n",
      "    flask\r\n",
      "\r\n",
      "F\bFI\bIL\bLE\bE\r\n",
      "    /usr/local/Pytho/Anaconda2/lib/python2.7/site-packages/flask/__init__.py\r\n",
      "\r\n",
      "D\bDE\bES\bSC\bCR\bRI\bIP\bPT\bTI\bIO\bON\bN\r\n",
      "    flask\r\n",
      "    ~~~~~\r\n",
      "    \r\n",
      "    A microframework based on Werkzeug.  It's extensively documented\r\n",
      "    and follows best practice patterns.\r\n",
      "    \r\n",
      "    :copyright: (c) 2011 by Armin Ronacher.\r\n",
      "    :license: BSD, see LICENSE for more details.\r\n",
      "\r\n",
      "P\bPA\bAC\bCK\bKA\bAG\bGE\bE \b C\bCO\bON\bNT\bTE\bEN\bNT\bTS\bS\r\n",
      "    _compat\r\n",
      "    app\r\n",
      "    blueprints\r\n",
      "    config\r\n",
      "    ctx\r\n",
      "    debughelpers\r\n",
      "    ext (package)\r\n",
      "    exthook\r\n",
      "    globals\r\n",
      "    helpers\r\n",
      "    json\r\n",
      "    logging\r\n",
      "    module\r\n",
      "    sessions\r\n",
      "    signals\r\n",
      "    templating\r\n",
      "    testing\r\n",
      "    testsuite (package)\r\n",
      "    views\r\n",
      "    wrappers\r\n",
      "\r\n",
      "F\bFU\bUN\bNC\bCT\bTI\bIO\bON\bNS\bS\r\n",
      "    e\bes\bsc\bca\bap\bpe\be(...)\r\n",
      "        escape(s) -> markup\r\n",
      "        \r\n",
      "        Convert the characters &, <, >, ', and \" in string s to HTML-safe\r\n",
      "        sequences.  Use this if you need to display text that might contain\r\n",
      "        such characters in HTML.  Marks return value as markup string.\r\n",
      "\r\n",
      "D\bDA\bAT\bTA\bA\r\n",
      "    _\b__\b_v\bve\ber\brs\bsi\bio\bon\bn_\b__\b_ = '0.10.1'\r\n",
      "    a\bab\bbo\bor\brt\bt = <werkzeug.exceptions.Aborter object>\r\n",
      "    a\bap\bpp\bpc\bco\bon\bnt\bte\bex\bxt\bt_\b_p\bpo\bop\bpp\bpe\bed\bd = <flask.signals._FakeSignal object>\r\n",
      "    a\bap\bpp\bpc\bco\bon\bnt\bte\bex\bxt\bt_\b_p\bpu\bus\bsh\bhe\bed\bd = <flask.signals._FakeSignal object>\r\n",
      "    a\bap\bpp\bpc\bco\bon\bnt\bte\bex\bxt\bt_\b_t\bte\bea\bar\bri\bin\bng\bg_\b_d\bdo\bow\bwn\bn = <flask.signals._FakeSignal object>\r\n",
      "    c\bcu\bur\brr\bre\ben\bnt\bt_\b_a\bap\bpp\bp = <LocalProxy unbound>\r\n",
      "    g\bg = <LocalProxy unbound>\r\n",
      "    g\bgo\bot\bt_\b_r\bre\beq\bqu\bue\bes\bst\bt_\b_e\bex\bxc\bce\bep\bpt\bti\bio\bon\bn = <flask.signals._FakeSignal object>\r\n",
      "    j\bjs\bso\bon\bn_\b_a\bav\bva\bai\bil\bla\bab\bbl\ble\be = True\r\n",
      "    m\bme\bes\bss\bsa\bag\bge\be_\b_f\bfl\bla\bas\bsh\bhe\bed\bd = <flask.signals._FakeSignal object>\r\n",
      "    r\bre\beq\bqu\bue\bes\bst\bt = <LocalProxy unbound>\r\n",
      "    r\bre\beq\bqu\bue\bes\bst\bt_\b_f\bfi\bin\bni\bis\bsh\bhe\bed\bd = <flask.signals._FakeSignal object>\r\n",
      "    r\bre\beq\bqu\bue\bes\bst\bt_\b_s\bst\bta\bar\brt\bte\bed\bd = <flask.signals._FakeSignal object>\r\n",
      "    r\bre\beq\bqu\bue\bes\bst\bt_\b_t\bte\bea\bar\bri\bin\bng\bg_\b_d\bdo\bow\bwn\bn = <flask.signals._FakeSignal object>\r\n",
      "    s\bse\bes\bss\bsi\bio\bon\bn = <LocalProxy unbound>\r\n",
      "    s\bsi\big\bgn\bna\bal\bls\bs_\b_a\bav\bva\bai\bil\bla\bab\bbl\ble\be = False\r\n",
      "    t\bte\bem\bmp\bpl\bla\bat\bte\be_\b_r\bre\ben\bnd\bde\ber\bre\bed\bd = <flask.signals._FakeSignal object>\r\n",
      "\r\n",
      "V\bVE\bER\bRS\bSI\bIO\bON\bN\r\n",
      "    0.10.1\r\n",
      "\r\n",
      "\r\n"
     ]
    }
   ],
   "source": [
    "!python -m pydoc flask"
   ]
  },
  {
   "cell_type": "markdown",
   "metadata": {},
   "source": [
    "因为jupyter的输出和在terminal中不同,我们看到的是由很多重复字母的,你可以再你的terminal中运行一次看看效果"
   ]
  },
  {
   "cell_type": "code",
   "execution_count": 5,
   "metadata": {
    "collapsed": false
   },
   "outputs": [
    {
     "name": "stdout",
     "output_type": "stream",
     "text": [
      "pydoc - the Python documentation tool\r\n",
      "\r\n",
      "pydoc <name> ...\r\n",
      "    Show text documentation on something.  <name> may be the name of a\r\n",
      "    Python keyword, topic, function, module, or package, or a dotted\r\n",
      "    reference to a class or function within a module or module in a\r\n",
      "    package.  If <name> contains a '/', it is used as the path to a\r\n",
      "    Python source file to document. If name is 'keywords', 'topics',\r\n",
      "    or 'modules', a listing of these things is displayed.\r\n",
      "\r\n",
      "pydoc -k <keyword>\r\n",
      "    Search for a keyword in the synopsis lines of all available modules.\r\n",
      "\r\n",
      "pydoc -p <port>\r\n",
      "    Start an HTTP server on the given port on the local machine.  Port\r\n",
      "    number 0 can be used to get an arbitrary unused port.\r\n",
      "\r\n",
      "pydoc -g\r\n",
      "    Pop up a graphical interface for finding and serving documentation.\r\n",
      "\r\n",
      "pydoc -w <name> ...\r\n",
      "    Write out the HTML documentation for a module to a file in the current\r\n",
      "    directory.  If <name> contains a '/', it is treated as a filename; if\r\n",
      "    it names a directory, documentation is written for all the contents.\r\n",
      "\r\n"
     ]
    }
   ],
   "source": [
    "!pydoc -h"
   ]
  },
  {
   "cell_type": "markdown",
   "metadata": {},
   "source": [
    "+ -k 查找关键字\n",
    "+ -p 用localhost打开网页版,后面填端口号\n",
    "+ -g GUI版\n",
    "+ -w 生成html文件"
   ]
  }
 ],
 "metadata": {
  "kernelspec": {
   "display_name": "Python 3",
   "language": "python",
   "name": "python3"
  },
  "language_info": {
   "codemirror_mode": {
    "name": "ipython",
    "version": 3
   },
   "file_extension": ".py",
   "mimetype": "text/x-python",
   "name": "python",
   "nbconvert_exporter": "python",
   "pygments_lexer": "ipython3",
   "version": "3.5.1"
  }
 },
 "nbformat": 4,
 "nbformat_minor": 0
}
