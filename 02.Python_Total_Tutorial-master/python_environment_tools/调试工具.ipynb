{
 "cells": [
  {
   "cell_type": "markdown",
   "metadata": {
    "deletable": true,
    "editable": true
   },
   "source": [
    "# 调试工具\n",
    "\n",
    "## 调试模块\n",
    "pdb是python自带的调试模块,它可以在交互环境中使用,也可以在terminal中作为python的一个模式使用"
   ]
  },
  {
   "cell_type": "markdown",
   "metadata": {
    "deletable": true,
    "editable": true
   },
   "source": [
    "> 要调试的脚本:"
   ]
  },
  {
   "cell_type": "code",
   "execution_count": 3,
   "metadata": {
    "collapsed": false,
    "deletable": true,
    "editable": true
   },
   "outputs": [
    {
     "name": "stdout",
     "output_type": "stream",
     "text": [
      "Overwriting counter.py\n"
     ]
    }
   ],
   "source": [
    "%%writefile counter.py\n",
    "#!/usr/bin/env python\n",
    "# --*-- coding:utf-8 --*--\n",
    "from __future__ import print_function\n",
    "\n",
    "class Counter(object):\n",
    "    \"\"\"一个计数器\n",
    "    用法:\n",
    "    >>> counter1 = Counter()\n",
    "    >>> counter1()\n",
    "    1\n",
    "    >>> counter1()\n",
    "    2\n",
    "    >>> counter2 = Counter(lambda : 2,-3)\n",
    "    >>> counter2()\n",
    "    -1\n",
    "    >>> counter2()\n",
    "    1\n",
    "    \"\"\"\n",
    "    def __str__(self):\n",
    "        return \"state:\"+str(self.value)\n",
    "    def __repr__(self):\n",
    "        return self.__str__\n",
    "    def __call__(self):\n",
    "        def count():\n",
    "            self.value += self.func()\n",
    "            return self.value\n",
    "        return count()\n",
    "    \n",
    "    def __init__(self,func=lambda : 1,start=0):\n",
    "        self.value = start\n",
    "        self.func = func \n",
    "test = Counter()\n",
    "test()\n",
    "test()\n",
    "print(test)\n",
    "if __name__==\"__main__\":\n",
    "    counter1 = Counter()\n",
    "    counter2 = Counter()\n",
    "    for i in range(10):\n",
    "        counter1()\n",
    "    for i in range(8):\n",
    "        counter2()\n",
    "    if counter1.value == counter2.value:\n",
    "        print(\"not success\")\n",
    "    else: \n",
    "        print(\"don't known\")\n",
    "        \n",
    "    \n",
    "    import doctest\n",
    "    doctest.testmod(verbose=True)\n"
   ]
  },
  {
   "cell_type": "markdown",
   "metadata": {
    "deletable": true,
    "editable": true
   },
   "source": [
    "> 命令行调试\n",
    "\n",
    "    python -m pdb counter.py\n",
    "    \n",
    "在jupyter中无法演示,请自己试试"
   ]
  },
  {
   "cell_type": "markdown",
   "metadata": {
    "deletable": true,
    "editable": true
   },
   "source": [
    "> 在交互shell中调试\n",
    "\n",
    "    import pdb\n",
    "    import counter\n",
    "    pdb.run('counter.test()')"
   ]
  },
  {
   "cell_type": "markdown",
   "metadata": {
    "deletable": true,
    "editable": true
   },
   "source": [
    "> 常用的调试命令\n",
    "\n",
    "可以用help命令来查看"
   ]
  },
  {
   "cell_type": "markdown",
   "metadata": {
    "deletable": true,
    "editable": true
   },
   "source": [
    "> 在ipython中调用pdb\n",
    "\n",
    "ipython内置了魔法命令`%pdb`可以在程序出错的时候自动跳入debug"
   ]
  },
  {
   "cell_type": "code",
   "execution_count": 2,
   "metadata": {
    "collapsed": false,
    "deletable": true,
    "editable": true
   },
   "outputs": [
    {
     "name": "stdout",
     "output_type": "stream",
     "text": [
      "Automatic pdb calling has been turned ON\n",
      "state:2\n"
     ]
    },
    {
     "ename": "AssertionError",
     "evalue": "",
     "output_type": "error",
     "traceback": [
      "\u001b[0;31m---------------------------------------------------------------------------\u001b[0m",
      "\u001b[0;31mAssertionError\u001b[0m                            Traceback (most recent call last)",
      "\u001b[0;32m<ipython-input-2-16cc623a427d>\u001b[0m in \u001b[0;36m<module>\u001b[0;34m()\u001b[0m\n\u001b[1;32m     33\u001b[0m \u001b[0mtest\u001b[0m\u001b[0;34m(\u001b[0m\u001b[0;34m)\u001b[0m\u001b[0;34m\u001b[0m\u001b[0m\n\u001b[1;32m     34\u001b[0m \u001b[0mprint\u001b[0m\u001b[0;34m(\u001b[0m\u001b[0mtest\u001b[0m\u001b[0;34m)\u001b[0m\u001b[0;34m\u001b[0m\u001b[0m\n\u001b[0;32m---> 35\u001b[0;31m \u001b[0;32massert\u001b[0m \u001b[0mtest\u001b[0m\u001b[0;34m.\u001b[0m\u001b[0mvalue\u001b[0m \u001b[0;34m==\u001b[0m \u001b[0;36m1\u001b[0m\u001b[0;34m\u001b[0m\u001b[0m\n\u001b[0m",
      "\u001b[0;31mAssertionError\u001b[0m: "
     ]
    },
    {
     "name": "stdout",
     "output_type": "stream",
     "text": [
      "> \u001b[0;32m<ipython-input-2-16cc623a427d>\u001b[0m(35)\u001b[0;36m<module>\u001b[0;34m()\u001b[0m\n",
      "\u001b[0;32m     31 \u001b[0;31m\u001b[0mtest\u001b[0m \u001b[0;34m=\u001b[0m \u001b[0mCounter\u001b[0m\u001b[0;34m(\u001b[0m\u001b[0;34m)\u001b[0m\u001b[0;34m\u001b[0m\u001b[0m\n",
      "\u001b[0m\u001b[0;32m     32 \u001b[0;31m\u001b[0mtest\u001b[0m\u001b[0;34m(\u001b[0m\u001b[0;34m)\u001b[0m\u001b[0;34m\u001b[0m\u001b[0m\n",
      "\u001b[0m\u001b[0;32m     33 \u001b[0;31m\u001b[0mtest\u001b[0m\u001b[0;34m(\u001b[0m\u001b[0;34m)\u001b[0m\u001b[0;34m\u001b[0m\u001b[0m\n",
      "\u001b[0m\u001b[0;32m     34 \u001b[0;31m\u001b[0mprint\u001b[0m\u001b[0;34m(\u001b[0m\u001b[0mtest\u001b[0m\u001b[0;34m)\u001b[0m\u001b[0;34m\u001b[0m\u001b[0m\n",
      "\u001b[0m\u001b[0;32m---> 35 \u001b[0;31m\u001b[0;32massert\u001b[0m \u001b[0mtest\u001b[0m\u001b[0;34m.\u001b[0m\u001b[0mvalue\u001b[0m \u001b[0;34m==\u001b[0m \u001b[0;36m1\u001b[0m\u001b[0;34m\u001b[0m\u001b[0m\n",
      "\u001b[0m\n",
      "\u0001\u0002ipdb> \u0001\u0002help\n",
      "\n",
      "Documented commands (type help <topic>):\n",
      "========================================\n",
      "EOF    c          d        h         next    pp       retval  u          whatis\n",
      "a      cl         debug    help      p       psource  run     unalias    where \n",
      "alias  clear      disable  ignore    pdef    q        rv      undisplay\n",
      "args   commands   display  interact  pdoc    quit     s       unt      \n",
      "b      condition  down     j         pfile   r        source  until    \n",
      "break  cont       enable   jump      pinfo   restart  step    up       \n",
      "bt     continue   exit     n         pinfo2  return   tbreak  w        \n",
      "\n",
      "Miscellaneous help topics:\n",
      "==========================\n",
      "pdb  exec\n",
      "\n",
      "Undocumented commands:\n",
      "======================\n",
      "l  list  ll  longlist\n",
      "\n",
      "\u0001\u0002ipdb> \u0001\u0002exit\n"
     ]
    }
   ],
   "source": [
    "%pdb\n",
    "from __future__ import print_function\n",
    "\n",
    "class Counter(object):\n",
    "    \"\"\"一个计数器\n",
    "    用法:\n",
    "    >>> counter1 = Counter()\n",
    "    >>> counter1()\n",
    "    1\n",
    "    >>> counter1()\n",
    "    2\n",
    "    >>> counter2 = Counter(lambda : 2,-3)\n",
    "    >>> counter2()\n",
    "    -1\n",
    "    >>> counter2()\n",
    "    1\n",
    "    \"\"\"\n",
    "    def __str__(self):\n",
    "        return \"state:\"+str(self.value)\n",
    "    def __repr__(self):\n",
    "        return self.__str__\n",
    "    def __call__(self):\n",
    "        def count():\n",
    "            self.value += self.func()\n",
    "            return self.value\n",
    "        return count()\n",
    "    \n",
    "    def __init__(self,func=lambda : 1,start=0):\n",
    "        self.value = start\n",
    "        self.func = func \n",
    "test = Counter()\n",
    "test()\n",
    "test()\n",
    "print(test)\n",
    "assert test.value == 1 "
   ]
  },
  {
   "cell_type": "markdown",
   "metadata": {
    "deletable": true,
    "editable": true
   },
   "source": [
    "##  调用追踪\n",
    "\n",
    "调试的时候我们除了想知道哪条代码错了,也会想知道是谁调用了这条错误的代码,这个时候调用追踪模块就有用了\n",
    "\n",
    ">一个简单的例子 "
   ]
  },
  {
   "cell_type": "code",
   "execution_count": 3,
   "metadata": {
    "collapsed": true,
    "deletable": true,
    "editable": true
   },
   "outputs": [],
   "source": [
    "import traceback\n",
    "def func():\n",
    "    s =  traceback.extract_stack()\n",
    "    print('%s Invoked me!'%s[-2][2])\n",
    "    \n",
    "def a():\n",
    "    func()\n",
    "b = lambda :func()"
   ]
  },
  {
   "cell_type": "code",
   "execution_count": 4,
   "metadata": {
    "collapsed": false,
    "deletable": true,
    "editable": true
   },
   "outputs": [
    {
     "name": "stdout",
     "output_type": "stream",
     "text": [
      "a Invoked me!\n"
     ]
    }
   ],
   "source": [
    "a()"
   ]
  },
  {
   "cell_type": "code",
   "execution_count": 5,
   "metadata": {
    "collapsed": false,
    "deletable": true,
    "editable": true
   },
   "outputs": [
    {
     "name": "stdout",
     "output_type": "stream",
     "text": [
      "<lambda> Invoked me!\n"
     ]
    }
   ],
   "source": [
    "b()"
   ]
  },
  {
   "cell_type": "markdown",
   "metadata": {
    "deletable": true,
    "editable": true
   },
   "source": [
    "## 测试运行时间模块\n",
    "\n",
    "Python中的timeit是测试代码执行效率的工具.可以用命令行直接测试脚本,也可以测试代码字符串的效率,当然最简单的还是直接用ipython的内置timeit魔法命令测某段代码的效率"
   ]
  },
  {
   "cell_type": "code",
   "execution_count": 6,
   "metadata": {
    "collapsed": false,
    "deletable": true,
    "editable": true
   },
   "outputs": [
    {
     "data": {
      "text/plain": [
       "1.00792034000915"
      ]
     },
     "execution_count": 6,
     "metadata": {},
     "output_type": "execute_result"
    }
   ],
   "source": [
    "import timeit\n",
    "t = timeit.Timer('map(lambda x: x**2,range(1000))')\n",
    "t.timeit()"
   ]
  },
  {
   "cell_type": "markdown",
   "metadata": {
    "deletable": true,
    "editable": true
   },
   "source": [
    "在命令行中我们呢也可以这样使用"
   ]
  },
  {
   "cell_type": "code",
   "execution_count": 7,
   "metadata": {
    "collapsed": false,
    "deletable": true,
    "editable": true
   },
   "outputs": [
    {
     "name": "stdout",
     "output_type": "stream",
     "text": [
      "10000000 loops, best of 3: 0.0225 usec per loop\r\n"
     ]
    }
   ],
   "source": [
    "!python -m timeit -s \"map(lambda x: x**2,range(1000))\""
   ]
  },
  {
   "cell_type": "markdown",
   "metadata": {
    "deletable": true,
    "editable": true
   },
   "source": [
    "在jupyter中更加简单了,可以使用魔法命令来测试"
   ]
  },
  {
   "cell_type": "code",
   "execution_count": 8,
   "metadata": {
    "collapsed": false,
    "deletable": true,
    "editable": true
   },
   "outputs": [
    {
     "name": "stdout",
     "output_type": "stream",
     "text": [
      "1000000 loops, best of 3: 930 ns per loop\n"
     ]
    }
   ],
   "source": [
    "%timeit  map(lambda x: x**2,range(1000))"
   ]
  }
 ],
 "metadata": {
  "kernelspec": {
   "display_name": "Python 2",
   "language": "python",
   "name": "python2"
  },
  "language_info": {
   "codemirror_mode": {
    "name": "ipython",
    "version": 2
   },
   "file_extension": ".py",
   "mimetype": "text/x-python",
   "name": "python",
   "nbconvert_exporter": "python",
   "pygments_lexer": "ipython2",
   "version": "2.7.10"
  }
 },
 "nbformat": 4,
 "nbformat_minor": 0
}
