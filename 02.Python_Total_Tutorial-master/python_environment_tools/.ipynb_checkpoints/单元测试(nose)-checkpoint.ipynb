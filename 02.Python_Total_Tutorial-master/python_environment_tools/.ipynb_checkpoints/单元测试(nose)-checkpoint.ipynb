{
 "cells": [
  {
   "cell_type": "markdown",
   "metadata": {
    "collapsed": true
   },
   "source": [
    "# Nose \n",
    "\n",
    "Nose是一个流行的单元测试第三方框架,虽然是第三方框架,但因为太过常用放在基础应用部分介绍,其实python有自带的单元测试模块unittest,但使用起来比较麻烦,基本没啥人用\n",
    "\n",
    "\n",
    "## 用Nose编写dota2Apiv0.1.0版本的测试\n",
    "\n",
    "从<https://github.com/hsz1273327/dota2api/tree/v0.1.0>下载代码\n",
    "新建一个test.py的文件"
   ]
  },
  {
   "cell_type": "markdown",
   "metadata": {
    "collapsed": true
   },
   "source": [
    "    #coding:utf-8\n",
    "    from dota2Api import ApiUser\n",
    "\n",
    "    def test_user_firendslist():\n",
    "        a=ApiUser(name=\"hsz1273327\")\n",
    "        l = a.friendlist()\n",
    "        assert len(l)>0\n",
    "\n",
    "    def test_user_recentgames():\n",
    "        a=ApiUser(name=\"hsz1273327\")\n",
    "        l = a.recentgames()\n",
    "        assert len(l)==1\n",
    "\n",
    "    def test_user_recentgames_with_herosname():\n",
    "        a=ApiUser(name=\"hsz1273327\")\n",
    "        l = a.recentgames(hero_name=u\"食人魔魔法师\")\n",
    "        assert len(l)==1\n",
    "\n",
    "    def test_user_recentgames_with_herosname():\n",
    "        a=ApiUser(name=\"hsz1273327\")\n",
    "        l = a.recentgames(matches_requested=2)\n",
    "        assert len(l)==2\n",
    "        \n",
    "结果为:\n",
    "\n",
    "    ...\n",
    "    ----------------------------------------------------------------------\n",
    "    Ran 3 tests in 11.250s\n",
    "\n",
    "    OK\n"
   ]
  },
  {
   "cell_type": "code",
   "execution_count": null,
   "metadata": {
    "collapsed": false
   },
   "outputs": [],
   "source": []
  },
  {
   "cell_type": "markdown",
   "metadata": {},
   "source": [
    "## 测试代码覆盖率统计--coverage\n",
    "\n",
    "光测试无法看到我们的测试是否完全\n",
    "\n",
    "    pip install coverage\n",
    "\n",
    "安装好后在shell中cd退回到项目根地址前一地址\n",
    "\n",
    "    $nosetests -w dota2api --with-coverage --cover-package=dota2Api -v\n",
    "    \n",
    "结果:\n",
    "\n",
    "    test.test_user_firendslist ... ok\n",
    "    test.test_user_recentgames ... ok\n",
    "    test.test_user_recentgames_with_herosname ... ok\n",
    "\n",
    "    Name                  Stmts   Miss  Cover   Missing\n",
    "    ---------------------------------------------------\n",
    "    dota2Api.py               4      0   100%   \n",
    "    dota2Api/apicore.py      70     35    50%   4-5, 44-48, 55-75, 81-107, 113-115, 129\n",
    "    dota2Api/game.py         56     11    80%   10, 12-19, 34, 36, 40\n",
    "    dota2Api/user.py         71     16    77%   11, 13-19, 39-40, 46-47, 120-125\n",
    "    ---------------------------------------------------\n",
    "    TOTAL                   201     62    69%   \n",
    "    ----------------------------------------------------------------------\n",
    "    Ran 3 tests in 11.607s\n",
    "\n",
    "    OK\n",
    "\n"
   ]
  },
  {
   "cell_type": "markdown",
   "metadata": {},
   "source": [
    "## 输出为html用于了解详细情况\n",
    "\n",
    "这虽然可以大体上看到测试的覆盖率,但我们任然不知道哪些被用到了哪些没有,可以通过使用输出为html文件来获取详细信息\n",
    "\n",
    "    $nosetests -w dota2api --with-coverage --cover-package=dota2Api -v --cover-html\n",
    "    \n",
    "这样在项目根目录下会生成一个cover文件夹,里面有静态页面可以看分析结果\n",
    "\n"
   ]
  },
  {
   "cell_type": "code",
   "execution_count": null,
   "metadata": {
    "collapsed": true
   },
   "outputs": [],
   "source": []
  }
 ],
 "metadata": {
  "kernelspec": {
   "display_name": "Python 3",
   "language": "python",
   "name": "python3"
  },
  "language_info": {
   "codemirror_mode": {
    "name": "ipython",
    "version": 3
   },
   "file_extension": ".py",
   "mimetype": "text/x-python",
   "name": "python",
   "nbconvert_exporter": "python",
   "pygments_lexer": "ipython3",
   "version": "3.5.1"
  }
 },
 "nbformat": 4,
 "nbformat_minor": 0
}
