{
 "cells": [
  {
   "cell_type": "markdown",
   "metadata": {},
   "source": [
    "# 虚拟环境\n",
    "\n",
    "我们希望项目的环境依赖是独立隔离的,每个项目间各自不会影响其他的项目,最成熟传统的做法就是使用虚拟环境了.虚拟环境可以理解为node.js中npm工具的本地安装,他会把用到的包包括python的虚拟机都放到你指定的目录下,在一个terminal进程中只要你激活了那个虚拟环境,你用到的与python相关联的东西就都是虚拟环境中的了.\n",
    "\n",
    "在python2.7中我们可以使用`virtualenv`来构建虚拟环境,而python3中在带了工具`pyvenv`来构建虚拟环境\n",
    "\n",
    "virtualenv可以用pip安装。\n",
    "\n",
    "    pip install virtualenv\n",
    "\n",
    "下面是使用方法(python只要把virtualenv替换成pyvenv即可):\n",
    "\n",
    "1. virtualenv基本使用 创建虚拟环境文件夹\n",
    "\n",
    "        virtualenv venv\n",
    " \n",
    "2. 使用虚拟环境\n",
    "\n",
    "        source venv/bin/activate\n",
    "    \n",
    "3. 退出虚拟环境\n",
    "\n",
    "        deactivate\n",
    "  \n",
    "激活后会看到你的命令行每行前面多出一个(venv)字样，表示你在使用虚拟环境"
   ]
  }
 ],
 "metadata": {
  "kernelspec": {
   "display_name": "Python 3",
   "language": "python",
   "name": "python3"
  },
  "language_info": {
   "codemirror_mode": {
    "name": "ipython",
    "version": 3
   },
   "file_extension": ".py",
   "mimetype": "text/x-python",
   "name": "python",
   "nbconvert_exporter": "python",
   "pygments_lexer": "ipython3",
   "version": "3.5.1"
  }
 },
 "nbformat": 4,
 "nbformat_minor": 0
}
