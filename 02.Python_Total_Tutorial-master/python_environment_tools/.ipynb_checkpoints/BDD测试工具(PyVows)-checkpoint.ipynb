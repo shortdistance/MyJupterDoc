{
 "cells": [
  {
   "cell_type": "markdown",
   "metadata": {},
   "source": [
    "# TDD 与 BDD\n",
    "\n",
    "测试驱动开发(TDD)是现代开发模式\n",
    "\n",
    "测试驱动开发大概的流程是:\n",
    "\n",
    "+ 先针对每个功能点抽象出接口代码，\n",
    "+ 然后编写单元测试代码，\n",
    "+ 接下来实现接口\n",
    "+ 运行单元测试代码\n",
    "\n",
    "循环此过程，直到整个单元测试都通过。这一点和敏捷开发有类似之处。\n",
    "\n",
    "它能让你减少程序逻辑方面的错误，尽可能的减少项目中的bug，开始接触编程的时候我们大都有过这样的体验，可能你觉得完成得很完美，自我感觉良好，但是实际测试或者应用的时候才发现里面可能存在一堆bug，或者存在设计问题，或者更严重的逻辑问题，而TDD正好可以帮助我们尽量减少类似事件的发生。而且现在大行其道的一些模式对TDD的支持都非常不错，比如MVC和MVP等\n",
    "\n",
    "python中的测试框架比如自带unittest模块和最常见的nose模块普遍比较老,自带的断言方式也是比较传统的assert,这种测试写起来会比较容易没条理,无法直观的看到哪些测了哪些不完善."
   ]
  },
  {
   "cell_type": "markdown",
   "metadata": {},
   "source": [
    "敏捷开发提倡的行为驱动开发(BDD)原则实际上可以看作是对TDD的一种补充，当然你也可以把它看作TDD的一个分支。因为在TDD中，我们并不能完全保证根据设计所编写的测试就是用户所期望的功能。BDD将这一部分简单和自然化，用自然语言来描述，让开发、测试、BA以及客户都能在这个基础上达成一致。因为测试优先的概念并不是每个人都能接受的，可能有人觉得系统太复杂而难以测试，有人认为不存在的东西无法测试。所以，我们在这里试图转换一种观念，那便是考虑它的行为，也就是说它应该如何运行，然后抽象出能达成共识的规范.\n",
    "\n",
    "BDD的核心价值是体现在正确的对系统行为进行设计，所以它并非一种行之有效的测试方法。它强调的是系统最终的实现与用户期望的行为是一致的、验证代码实现是否符合设计目标。但是它本身并不强调对系统功能、性能以及边界值等的健全性做保证，无法像完整的测试一样发现系统的各种问题。但BDD倡导的用简洁的自然语言描述系统行为的理念，可以明确的根据设计产生测试，并保障测试用例的质量。\n",
    "\n",
    "简单说,BDD测试的代码应该是不会编程的人也能看懂的.这样"
   ]
  },
  {
   "cell_type": "markdown",
   "metadata": {},
   "source": [
    "python中比较好的BDD测试工具就是PyVows了,它主要包括三个方面:\n",
    "\n",
    "+ BDD风格的断言\n",
    "\n",
    "+ BDD风格的测试代码结构\n",
    "\n",
    "+ 测试结果统计与分析\n"
   ]
  },
  {
   "cell_type": "markdown",
   "metadata": {},
   "source": [
    "首先是安装"
   ]
  },
  {
   "cell_type": "markdown",
   "metadata": {},
   "source": [
    "    pip install pyvows"
   ]
  },
  {
   "cell_type": "code",
   "execution_count": 5,
   "metadata": {
    "collapsed": true
   },
   "outputs": [],
   "source": [
    "import pyvows"
   ]
  },
  {
   "cell_type": "markdown",
   "metadata": {},
   "source": [
    "# BDD风格的断言\n",
    "\n",
    "TDD风格的断言最典型的就是python自带的关键字\n",
    "\n",
    "```python\n",
    "assert\n",
    "```\n",
    "\n",
    "它会根据后面的第一个表达式的真值判断是不是要抛出一个`assertionError`,并接收第二个参数(可选)作为assertError的错误信息"
   ]
  },
  {
   "cell_type": "code",
   "execution_count": 4,
   "metadata": {
    "collapsed": false
   },
   "outputs": [
    {
     "ename": "AssertionError",
     "evalue": "应该是0",
     "output_type": "error",
     "traceback": [
      "\u001b[0;31m---------------------------------------------------------------------------\u001b[0m",
      "\u001b[0;31mAssertionError\u001b[0m                            Traceback (most recent call last)",
      "\u001b[0;32m<ipython-input-4-ddc949274534>\u001b[0m in \u001b[0;36m<module>\u001b[0;34m()\u001b[0m\n\u001b[0;32m----> 1\u001b[0;31m \u001b[0;32massert\u001b[0m \u001b[0;36m1\u001b[0m\u001b[0;34m==\u001b[0m\u001b[0;36m0\u001b[0m \u001b[0;34m,\u001b[0m \u001b[0;34m\"应该是0\"\u001b[0m\u001b[0;34m\u001b[0m\u001b[0m\n\u001b[0m",
      "\u001b[0;31mAssertionError\u001b[0m: 应该是0"
     ]
    }
   ],
   "source": [
    "assert 1==0 , \"应该是0\""
   ]
  },
  {
   "cell_type": "markdown",
   "metadata": {},
   "source": [
    "这种方式很\"程序员思维\",英语翻译过来就是\n",
    "\n",
    "`断言 1 == 0 ,应该是0`\n",
    "\n",
    "没有主语,语音并不清晰,或者说不会编程的人看来会很难受\n",
    "\n",
    "BDD要求的是语义清晰接近自然语言,当然了自然语言指的是英语,明显这是不符合要求的,pyvow的断言库则是不同的风格,要使用BDD风格的测试,需要引入expect模块"
   ]
  },
  {
   "cell_type": "code",
   "execution_count": 1,
   "metadata": {
    "collapsed": false
   },
   "outputs": [],
   "source": [
    "from pyvows import expect"
   ]
  },
  {
   "cell_type": "code",
   "execution_count": 10,
   "metadata": {
    "collapsed": false
   },
   "outputs": [
    {
     "data": {
      "text/plain": [
       "<preggy.core.Expect at 0x104159290>"
      ]
     },
     "execution_count": 10,
     "metadata": {},
     "output_type": "execute_result"
    }
   ],
   "source": [
    "expect([1,2,3,4,5]).to_length(5)"
   ]
  },
  {
   "cell_type": "code",
   "execution_count": 14,
   "metadata": {
    "collapsed": false
   },
   "outputs": [
    {
     "name": "stdout",
     "output_type": "stream",
     "text": [
      "Expected topic([1, 2, 3, 4]) to have 5 of length, but it has 4\n"
     ]
    }
   ],
   "source": [
    "try:\n",
    "    expect([1,2,3,4]).to_length(5)\n",
    "    \n",
    "except Exception as e:\n",
    "    print e"
   ]
  },
  {
   "cell_type": "markdown",
   "metadata": {},
   "source": [
    "## 自带的断言方法:\n",
    "\n",
    "\n",
    "\n",
    "\n",
    "### 断言相等\n",
    "\n",
    "+ expect(4).to_equal(4)\n",
    " \n",
    "+ expect(5).Not.to_equal(4)\n",
    "\n",
    "### 断言相似\n",
    "\n",
    "\n",
    "+ expect(\"sOmE RandOm     CAse StRiNG\").to_be_like('some random case string')\n",
    " \n",
    "+ expect(1).to_be_like(1)\n",
    "+ expect(1).to_be_like(1.0)\n",
    "+ expect(1).to_be_like(long(1))\n",
    " \n",
    "+ expect([1, 2, 3]).to_be_like([3, 2, 1])\n",
    "+ expect([1, 2, 3]).to_be_like((3, 2, 1))\n",
    "+ expect([[1, 2], [3,4]]).to_be_like([4, 3], [2, 1]])\n",
    " \n",
    "+ expect({ 'some': 1, 'key': 2 }).to_be_like({ 'key': 2, 'some': 1 })\n",
    " \n",
    "+ expect(\"sOmE RandOm     CAse StRiNG\").Not.to_be_like('other string')\n",
    "+ expect(1).Not_to_be_like(2)\n",
    "+ expect([[1, 2], [3,4]]).Not.to_be_like([4, 4], [2, 1]])\n",
    "+ expect({ 'some': 1, 'key': 2 }).Not.to_be_like({ 'key': 3, 'some': 4 })\n",
    "\n",
    "### 断言类型\n",
    "\n",
    "\n",
    "+ expect(os.path).to_be_a_function()\n",
    "+ expect(1).to_be_numeric()\n",
    "+ expect(\"some\").Not.to_be_a_function()\n",
    "+ expect(\"some\").Not.to_be_numeric()\n",
    "\n",
    "### 断言真值\n",
    "\n",
    "\n",
    "+ expect(True).to_be_true()\n",
    "+ expect(\"some\").to_be_true()\n",
    "+ expect([1, 2, 3]).to_be_true()\n",
    "+ expect({ \"a\": \"b\" }).to_be_true()\n",
    "+ expect(1).to_be_true()\n",
    "+ expect(False).to_be_false()\n",
    "+ expect(None).to_be_false()\n",
    "+ expect(\"\").to_be_false()\n",
    "+ expect(0).to_be_false()\n",
    "+ expect([]).to_be_false()\n",
    "+ expect({}).to_be_false()\n",
    "\n",
    "### 断言空值\n",
    "\n",
    "+ expect(None).to_be_null()\n",
    "+ expect(\"some\").Not.to_be_null()\n",
    "\n",
    "\n",
    "### 断言包含\n",
    "\n",
    "+ expect([1, 2, 3]).to_include(2)\n",
    "+ expect((1, 2, 3)).to_include(2)\n",
    "+ expect(\"123\").to_include(\"2\")\n",
    "+ expect({ \"a\": 1, \"b\": 2, \"c\": 3}).to_include(\"b\")\n",
    "+ expect([1, 3]).Not.to_include(2)\n",
    "\n",
    "### 正则匹配断言\n",
    "\n",
    "+ expect('some').to_match(r'^[a-z]+')\n",
    "+ expect(\"Some\").Not.to_match(r'^[a-z]+')\n",
    "\n",
    "### 断言长度\n",
    "\n",
    "+ expect([1, 2, 3]).to_length(3)\n",
    "+ expect((1, 2, 3)).to_length(3)\n",
    "+ expect(\"abc\").to_length(3)\n",
    "+ expect({ \"a\": 1, \"b\": 2, \"c\": 3}).to_length(3)\n",
    "+ expect([1]).Not.to_length(3)\n",
    "\n",
    "### 断言空容器\n",
    "\n",
    "+ expect([]).to_be_empty()\n",
    "+ expect(tuple()).to_be_empty()\n",
    "+ expect({}).to_be_empty()\n",
    "+ expect(\"\").to_be_empty()\n",
    "\n",
    "### 断言某错误\n",
    "\n",
    "\n",
    "+ expect(RuntimeError()).to_be_an_error()\n",
    "+ expect(RuntimeError()).to_be_an_error_like(RuntimeError)\n",
    "+ expect(ValueError(\"error\")).to_have_an_error_message_of(\"error\")\n",
    "+ expect(\"I'm not an error\").Not.to_be_an_error()\n",
    "+ expect(ValueError()).Not.to_be_an_error_like(RuntimeError)\n",
    "+ expect(ValueError(\"some\")).Not.to_have_an_error_message_of(\"error\")\n"
   ]
  },
  {
   "cell_type": "markdown",
   "metadata": {},
   "source": [
    "## 自定义断言\n",
    "\n",
    "我们可以用`@Vows.create_assertions `自定义一个BDD风格的断言"
   ]
  },
  {
   "cell_type": "code",
   "execution_count": 23,
   "metadata": {
    "collapsed": false
   },
   "outputs": [],
   "source": [
    "@pyvows.Vows.create_assertions\n",
    "def to_be_bigger_than(topic, expected):\n",
    "    return topic > expected"
   ]
  },
  {
   "cell_type": "code",
   "execution_count": 24,
   "metadata": {
    "collapsed": false
   },
   "outputs": [
    {
     "ename": "AssertionError",
     "evalue": "Expected topic(2) to be bigger than 3",
     "output_type": "error",
     "traceback": [
      "\u001b[0;31m---------------------------------------------------------------------------\u001b[0m",
      "\u001b[0;31mAssertionError\u001b[0m                            Traceback (most recent call last)",
      "\u001b[0;32m<ipython-input-24-e99a6b74ac2f>\u001b[0m in \u001b[0;36m<module>\u001b[0;34m()\u001b[0m\n\u001b[0;32m----> 1\u001b[0;31m \u001b[0mexpect\u001b[0m\u001b[0;34m(\u001b[0m\u001b[0;36m2\u001b[0m\u001b[0;34m)\u001b[0m\u001b[0;34m.\u001b[0m\u001b[0mto_be_bigger_than\u001b[0m\u001b[0;34m(\u001b[0m\u001b[0;36m3\u001b[0m\u001b[0;34m)\u001b[0m\u001b[0;34m\u001b[0m\u001b[0m\n\u001b[0m",
      "\u001b[0;32m/Users/huangsizhe/Lib/conda/anaconda/lib/python2.7/site-packages/preggy/core.pyc\u001b[0m in \u001b[0;36m_assert_topic\u001b[0;34m(*args, **kw)\u001b[0m\n\u001b[1;32m    283\u001b[0m         \u001b[0;32mdef\u001b[0m \u001b[0m_assert_topic\u001b[0m\u001b[0;34m(\u001b[0m\u001b[0;34m*\u001b[0m\u001b[0margs\u001b[0m\u001b[0;34m,\u001b[0m \u001b[0;34m**\u001b[0m\u001b[0mkw\u001b[0m\u001b[0;34m)\u001b[0m\u001b[0;34m:\u001b[0m\u001b[0;34m\u001b[0m\u001b[0m\n\u001b[1;32m    284\u001b[0m             \u001b[0;31m# Allows chained calls to assertions, such as `expect(topic).to_be_true()`.\u001b[0m\u001b[0;34m\u001b[0m\u001b[0;34m\u001b[0m\u001b[0m\n\u001b[0;32m--> 285\u001b[0;31m             \u001b[0;32mreturn\u001b[0m \u001b[0m_registered_assertions\u001b[0m\u001b[0;34m[\u001b[0m\u001b[0mmethod_name\u001b[0m\u001b[0;34m]\u001b[0m\u001b[0;34m(\u001b[0m\u001b[0mself\u001b[0m\u001b[0;34m.\u001b[0m\u001b[0mtopic\u001b[0m\u001b[0;34m,\u001b[0m \u001b[0;34m*\u001b[0m\u001b[0margs\u001b[0m\u001b[0;34m,\u001b[0m \u001b[0;34m**\u001b[0m\u001b[0mkw\u001b[0m\u001b[0;34m)\u001b[0m\u001b[0;34m\u001b[0m\u001b[0m\n\u001b[0m\u001b[1;32m    286\u001b[0m \u001b[0;34m\u001b[0m\u001b[0m\n\u001b[1;32m    287\u001b[0m         \u001b[0;32mreturn\u001b[0m \u001b[0m_assert_topic\u001b[0m\u001b[0;34m\u001b[0m\u001b[0m\n",
      "\u001b[0;32m/Users/huangsizhe/Lib/conda/anaconda/lib/python2.7/site-packages/preggy/core.pyc\u001b[0m in \u001b[0;36mwrapper\u001b[0;34m(*args, **kw)\u001b[0m\n\u001b[1;32m     56\u001b[0m     \u001b[0;34m@\u001b[0m\u001b[0mfunctools\u001b[0m\u001b[0;34m.\u001b[0m\u001b[0mwraps\u001b[0m\u001b[0;34m(\u001b[0m\u001b[0mfunc\u001b[0m\u001b[0;34m)\u001b[0m\u001b[0;34m\u001b[0m\u001b[0m\n\u001b[1;32m     57\u001b[0m     \u001b[0;32mdef\u001b[0m \u001b[0mwrapper\u001b[0m\u001b[0;34m(\u001b[0m\u001b[0;34m*\u001b[0m\u001b[0margs\u001b[0m\u001b[0;34m,\u001b[0m \u001b[0;34m**\u001b[0m\u001b[0mkw\u001b[0m\u001b[0;34m)\u001b[0m\u001b[0;34m:\u001b[0m\u001b[0;34m\u001b[0m\u001b[0m\n\u001b[0;32m---> 58\u001b[0;31m         \u001b[0mfunc\u001b[0m\u001b[0;34m(\u001b[0m\u001b[0;34m*\u001b[0m\u001b[0margs\u001b[0m\u001b[0;34m,\u001b[0m \u001b[0;34m**\u001b[0m\u001b[0mkw\u001b[0m\u001b[0;34m)\u001b[0m\u001b[0;34m\u001b[0m\u001b[0m\n\u001b[0m\u001b[1;32m     59\u001b[0m         \u001b[0;32mreturn\u001b[0m \u001b[0mExpect\u001b[0m\u001b[0;34m(\u001b[0m\u001b[0margs\u001b[0m\u001b[0;34m[\u001b[0m\u001b[0;36m0\u001b[0m\u001b[0;34m]\u001b[0m\u001b[0;34m)\u001b[0m\u001b[0;34m\u001b[0m\u001b[0m\n\u001b[1;32m     60\u001b[0m \u001b[0;34m\u001b[0m\u001b[0m\n",
      "\u001b[0;32m/Users/huangsizhe/Lib/conda/anaconda/lib/python2.7/site-packages/preggy/core.pyc\u001b[0m in \u001b[0;36mtest_assertion\u001b[0;34m(*args)\u001b[0m\n\u001b[1;32m    124\u001b[0m             \u001b[0mraw_msg\u001b[0m \u001b[0;34m=\u001b[0m \u001b[0mutils\u001b[0m\u001b[0;34m.\u001b[0m\u001b[0mformat_assertion_msg\u001b[0m\u001b[0;34m(\u001b[0m\u001b[0mfunc\u001b[0m\u001b[0;34m.\u001b[0m\u001b[0mhumanized\u001b[0m\u001b[0;34m,\u001b[0m \u001b[0;34m*\u001b[0m\u001b[0margs\u001b[0m\u001b[0;34m)\u001b[0m\u001b[0;34m\u001b[0m\u001b[0m\n\u001b[1;32m    125\u001b[0m             \u001b[0merr_msg\u001b[0m \u001b[0;34m=\u001b[0m \u001b[0mraw_msg\u001b[0m\u001b[0;34m.\u001b[0m\u001b[0mformat\u001b[0m\u001b[0;34m(\u001b[0m\u001b[0;34m*\u001b[0m\u001b[0margs\u001b[0m\u001b[0;34m)\u001b[0m\u001b[0;34m\u001b[0m\u001b[0m\n\u001b[0;32m--> 126\u001b[0;31m             \u001b[0;32mraise\u001b[0m \u001b[0mAssertionError\u001b[0m\u001b[0;34m(\u001b[0m\u001b[0merr_msg\u001b[0m\u001b[0;34m)\u001b[0m\u001b[0;34m\u001b[0m\u001b[0m\n\u001b[0m\u001b[1;32m    127\u001b[0m         \u001b[0;32mreturn\u001b[0m \u001b[0mExpect\u001b[0m\u001b[0;34m(\u001b[0m\u001b[0margs\u001b[0m\u001b[0;34m[\u001b[0m\u001b[0;36m0\u001b[0m\u001b[0;34m]\u001b[0m\u001b[0;34m)\u001b[0m\u001b[0;34m\u001b[0m\u001b[0m\n\u001b[1;32m    128\u001b[0m \u001b[0;34m\u001b[0m\u001b[0m\n",
      "\u001b[0;31mAssertionError\u001b[0m: Expected topic(2) to be bigger than 3"
     ]
    }
   ],
   "source": [
    "expect(2).to_be_bigger_than(3)"
   ]
  },
  {
   "cell_type": "markdown",
   "metadata": {},
   "source": [
    "与此同时,他还会自动的创建假值对应的断言"
   ]
  },
  {
   "cell_type": "code",
   "execution_count": 25,
   "metadata": {
    "collapsed": false
   },
   "outputs": [
    {
     "data": {
      "text/plain": [
       "<preggy.core.Expect at 0x104153450>"
      ]
     },
     "execution_count": 25,
     "metadata": {},
     "output_type": "execute_result"
    }
   ],
   "source": [
    "expect(2).not_to_be_bigger_than(3)"
   ]
  },
  {
   "cell_type": "markdown",
   "metadata": {},
   "source": [
    "如果并不是如这个这么简单的,那可以使用装饰器`@Vows.assertion`来自定义"
   ]
  },
  {
   "cell_type": "code",
   "execution_count": 27,
   "metadata": {
    "collapsed": false
   },
   "outputs": [],
   "source": [
    "@pyvows.Vows.assertion\n",
    "def to_be_a_positive_integer(topic):\n",
    "    # You can use normal assert statements...\n",
    "    assert type(topic) == int, \"Expected {0} to be a positive integer, but it's not even an integer\".format(topic)\n",
    "    assert topic > 0, \"Expected {0} to be a positive integer, but it's a negative integer\".format(topic)\n",
    "    assert topic != 0, \"Expected {0} to be a positive integer, but it's 0\".format(topic)\n",
    " \n",
    "@pyvows.Vows.assertion\n",
    "def not_to_be_a_positive_integer(topic):\n",
    "    # ...or, you might prefer to raise AssertionErrors manually.\n",
    "    if isinstance(topic, int) and topic <= 0:\n",
    "        raise AssertionError(\"Expected {0} not to be a positive integer, but it was.\".format(topic))"
   ]
  },
  {
   "cell_type": "code",
   "execution_count": 28,
   "metadata": {
    "collapsed": false
   },
   "outputs": [
    {
     "data": {
      "text/plain": [
       "<preggy.core.Expect at 0x104159cd0>"
      ]
     },
     "execution_count": 28,
     "metadata": {},
     "output_type": "execute_result"
    }
   ],
   "source": [
    "expect(5).to_be_a_positive_integer()"
   ]
  },
  {
   "cell_type": "code",
   "execution_count": 33,
   "metadata": {
    "collapsed": false
   },
   "outputs": [
    {
     "ename": "AssertionError",
     "evalue": "Expected -5 not to be a positive integer, but it was.",
     "output_type": "error",
     "traceback": [
      "\u001b[0;31m---------------------------------------------------------------------------\u001b[0m",
      "\u001b[0;31mAssertionError\u001b[0m                            Traceback (most recent call last)",
      "\u001b[0;32m<ipython-input-33-4f5df6ae7c15>\u001b[0m in \u001b[0;36m<module>\u001b[0;34m()\u001b[0m\n\u001b[0;32m----> 1\u001b[0;31m \u001b[0mexpect\u001b[0m\u001b[0;34m(\u001b[0m\u001b[0;34m-\u001b[0m\u001b[0;36m5\u001b[0m\u001b[0;34m)\u001b[0m\u001b[0;34m.\u001b[0m\u001b[0mNot\u001b[0m\u001b[0;34m.\u001b[0m\u001b[0mto_be_a_positive_integer\u001b[0m\u001b[0;34m(\u001b[0m\u001b[0;34m)\u001b[0m\u001b[0;34m\u001b[0m\u001b[0m\n\u001b[0m",
      "\u001b[0;32m/Users/huangsizhe/Lib/conda/anaconda/lib/python2.7/site-packages/preggy/core.pyc\u001b[0m in \u001b[0;36m_assert_topic\u001b[0;34m(*args, **kw)\u001b[0m\n\u001b[1;32m    283\u001b[0m         \u001b[0;32mdef\u001b[0m \u001b[0m_assert_topic\u001b[0m\u001b[0;34m(\u001b[0m\u001b[0;34m*\u001b[0m\u001b[0margs\u001b[0m\u001b[0;34m,\u001b[0m \u001b[0;34m**\u001b[0m\u001b[0mkw\u001b[0m\u001b[0;34m)\u001b[0m\u001b[0;34m:\u001b[0m\u001b[0;34m\u001b[0m\u001b[0m\n\u001b[1;32m    284\u001b[0m             \u001b[0;31m# Allows chained calls to assertions, such as `expect(topic).to_be_true()`.\u001b[0m\u001b[0;34m\u001b[0m\u001b[0;34m\u001b[0m\u001b[0m\n\u001b[0;32m--> 285\u001b[0;31m             \u001b[0;32mreturn\u001b[0m \u001b[0m_registered_assertions\u001b[0m\u001b[0;34m[\u001b[0m\u001b[0mmethod_name\u001b[0m\u001b[0;34m]\u001b[0m\u001b[0;34m(\u001b[0m\u001b[0mself\u001b[0m\u001b[0;34m.\u001b[0m\u001b[0mtopic\u001b[0m\u001b[0;34m,\u001b[0m \u001b[0;34m*\u001b[0m\u001b[0margs\u001b[0m\u001b[0;34m,\u001b[0m \u001b[0;34m**\u001b[0m\u001b[0mkw\u001b[0m\u001b[0;34m)\u001b[0m\u001b[0;34m\u001b[0m\u001b[0m\n\u001b[0m\u001b[1;32m    286\u001b[0m \u001b[0;34m\u001b[0m\u001b[0m\n\u001b[1;32m    287\u001b[0m         \u001b[0;32mreturn\u001b[0m \u001b[0m_assert_topic\u001b[0m\u001b[0;34m\u001b[0m\u001b[0m\n",
      "\u001b[0;32m/Users/huangsizhe/Lib/conda/anaconda/lib/python2.7/site-packages/preggy/core.pyc\u001b[0m in \u001b[0;36mwrapper\u001b[0;34m(*args, **kw)\u001b[0m\n\u001b[1;32m     56\u001b[0m     \u001b[0;34m@\u001b[0m\u001b[0mfunctools\u001b[0m\u001b[0;34m.\u001b[0m\u001b[0mwraps\u001b[0m\u001b[0;34m(\u001b[0m\u001b[0mfunc\u001b[0m\u001b[0;34m)\u001b[0m\u001b[0;34m\u001b[0m\u001b[0m\n\u001b[1;32m     57\u001b[0m     \u001b[0;32mdef\u001b[0m \u001b[0mwrapper\u001b[0m\u001b[0;34m(\u001b[0m\u001b[0;34m*\u001b[0m\u001b[0margs\u001b[0m\u001b[0;34m,\u001b[0m \u001b[0;34m**\u001b[0m\u001b[0mkw\u001b[0m\u001b[0;34m)\u001b[0m\u001b[0;34m:\u001b[0m\u001b[0;34m\u001b[0m\u001b[0m\n\u001b[0;32m---> 58\u001b[0;31m         \u001b[0mfunc\u001b[0m\u001b[0;34m(\u001b[0m\u001b[0;34m*\u001b[0m\u001b[0margs\u001b[0m\u001b[0;34m,\u001b[0m \u001b[0;34m**\u001b[0m\u001b[0mkw\u001b[0m\u001b[0;34m)\u001b[0m\u001b[0;34m\u001b[0m\u001b[0m\n\u001b[0m\u001b[1;32m     59\u001b[0m         \u001b[0;32mreturn\u001b[0m \u001b[0mExpect\u001b[0m\u001b[0;34m(\u001b[0m\u001b[0margs\u001b[0m\u001b[0;34m[\u001b[0m\u001b[0;36m0\u001b[0m\u001b[0;34m]\u001b[0m\u001b[0;34m)\u001b[0m\u001b[0;34m\u001b[0m\u001b[0m\n\u001b[1;32m     60\u001b[0m \u001b[0;34m\u001b[0m\u001b[0m\n",
      "\u001b[0;32m<ipython-input-27-f6f197349291>\u001b[0m in \u001b[0;36mnot_to_be_a_positive_integer\u001b[0;34m(topic)\u001b[0m\n\u001b[1;32m     10\u001b[0m     \u001b[0;31m# ...or, you might prefer to raise AssertionErrors manually.\u001b[0m\u001b[0;34m\u001b[0m\u001b[0;34m\u001b[0m\u001b[0m\n\u001b[1;32m     11\u001b[0m     \u001b[0;32mif\u001b[0m \u001b[0misinstance\u001b[0m\u001b[0;34m(\u001b[0m\u001b[0mtopic\u001b[0m\u001b[0;34m,\u001b[0m \u001b[0mint\u001b[0m\u001b[0;34m)\u001b[0m \u001b[0;32mand\u001b[0m \u001b[0mtopic\u001b[0m \u001b[0;34m<=\u001b[0m \u001b[0;36m0\u001b[0m\u001b[0;34m:\u001b[0m\u001b[0;34m\u001b[0m\u001b[0m\n\u001b[0;32m---> 12\u001b[0;31m         \u001b[0;32mraise\u001b[0m \u001b[0mAssertionError\u001b[0m\u001b[0;34m(\u001b[0m\u001b[0;34m\"Expected {0} not to be a positive integer, but it was.\"\u001b[0m\u001b[0;34m.\u001b[0m\u001b[0mformat\u001b[0m\u001b[0;34m(\u001b[0m\u001b[0mtopic\u001b[0m\u001b[0;34m)\u001b[0m\u001b[0;34m)\u001b[0m\u001b[0;34m\u001b[0m\u001b[0m\n\u001b[0m",
      "\u001b[0;31mAssertionError\u001b[0m: Expected -5 not to be a positive integer, but it was."
     ]
    }
   ],
   "source": [
    "expect(-5).Not.to_be_a_positive_integer()"
   ]
  },
  {
   "cell_type": "code",
   "execution_count": 32,
   "metadata": {
    "collapsed": false
   },
   "outputs": [
    {
     "ename": "AssertionError",
     "evalue": "Expected -5 not to be a positive integer, but it was.",
     "output_type": "error",
     "traceback": [
      "\u001b[0;31m---------------------------------------------------------------------------\u001b[0m",
      "\u001b[0;31mAssertionError\u001b[0m                            Traceback (most recent call last)",
      "\u001b[0;32m<ipython-input-32-ab2da4144153>\u001b[0m in \u001b[0;36m<module>\u001b[0;34m()\u001b[0m\n\u001b[0;32m----> 1\u001b[0;31m \u001b[0mexpect\u001b[0m\u001b[0;34m(\u001b[0m\u001b[0;34m-\u001b[0m\u001b[0;36m5\u001b[0m\u001b[0;34m)\u001b[0m\u001b[0;34m.\u001b[0m\u001b[0mnot_to_be_a_positive_integer\u001b[0m\u001b[0;34m(\u001b[0m\u001b[0;34m)\u001b[0m\u001b[0;34m\u001b[0m\u001b[0m\n\u001b[0m",
      "\u001b[0;32m/Users/huangsizhe/Lib/conda/anaconda/lib/python2.7/site-packages/preggy/core.pyc\u001b[0m in \u001b[0;36m_assert_topic\u001b[0;34m(*args, **kw)\u001b[0m\n\u001b[1;32m    283\u001b[0m         \u001b[0;32mdef\u001b[0m \u001b[0m_assert_topic\u001b[0m\u001b[0;34m(\u001b[0m\u001b[0;34m*\u001b[0m\u001b[0margs\u001b[0m\u001b[0;34m,\u001b[0m \u001b[0;34m**\u001b[0m\u001b[0mkw\u001b[0m\u001b[0;34m)\u001b[0m\u001b[0;34m:\u001b[0m\u001b[0;34m\u001b[0m\u001b[0m\n\u001b[1;32m    284\u001b[0m             \u001b[0;31m# Allows chained calls to assertions, such as `expect(topic).to_be_true()`.\u001b[0m\u001b[0;34m\u001b[0m\u001b[0;34m\u001b[0m\u001b[0m\n\u001b[0;32m--> 285\u001b[0;31m             \u001b[0;32mreturn\u001b[0m \u001b[0m_registered_assertions\u001b[0m\u001b[0;34m[\u001b[0m\u001b[0mmethod_name\u001b[0m\u001b[0;34m]\u001b[0m\u001b[0;34m(\u001b[0m\u001b[0mself\u001b[0m\u001b[0;34m.\u001b[0m\u001b[0mtopic\u001b[0m\u001b[0;34m,\u001b[0m \u001b[0;34m*\u001b[0m\u001b[0margs\u001b[0m\u001b[0;34m,\u001b[0m \u001b[0;34m**\u001b[0m\u001b[0mkw\u001b[0m\u001b[0;34m)\u001b[0m\u001b[0;34m\u001b[0m\u001b[0m\n\u001b[0m\u001b[1;32m    286\u001b[0m \u001b[0;34m\u001b[0m\u001b[0m\n\u001b[1;32m    287\u001b[0m         \u001b[0;32mreturn\u001b[0m \u001b[0m_assert_topic\u001b[0m\u001b[0;34m\u001b[0m\u001b[0m\n",
      "\u001b[0;32m/Users/huangsizhe/Lib/conda/anaconda/lib/python2.7/site-packages/preggy/core.pyc\u001b[0m in \u001b[0;36mwrapper\u001b[0;34m(*args, **kw)\u001b[0m\n\u001b[1;32m     56\u001b[0m     \u001b[0;34m@\u001b[0m\u001b[0mfunctools\u001b[0m\u001b[0;34m.\u001b[0m\u001b[0mwraps\u001b[0m\u001b[0;34m(\u001b[0m\u001b[0mfunc\u001b[0m\u001b[0;34m)\u001b[0m\u001b[0;34m\u001b[0m\u001b[0m\n\u001b[1;32m     57\u001b[0m     \u001b[0;32mdef\u001b[0m \u001b[0mwrapper\u001b[0m\u001b[0;34m(\u001b[0m\u001b[0;34m*\u001b[0m\u001b[0margs\u001b[0m\u001b[0;34m,\u001b[0m \u001b[0;34m**\u001b[0m\u001b[0mkw\u001b[0m\u001b[0;34m)\u001b[0m\u001b[0;34m:\u001b[0m\u001b[0;34m\u001b[0m\u001b[0m\n\u001b[0;32m---> 58\u001b[0;31m         \u001b[0mfunc\u001b[0m\u001b[0;34m(\u001b[0m\u001b[0;34m*\u001b[0m\u001b[0margs\u001b[0m\u001b[0;34m,\u001b[0m \u001b[0;34m**\u001b[0m\u001b[0mkw\u001b[0m\u001b[0;34m)\u001b[0m\u001b[0;34m\u001b[0m\u001b[0m\n\u001b[0m\u001b[1;32m     59\u001b[0m         \u001b[0;32mreturn\u001b[0m \u001b[0mExpect\u001b[0m\u001b[0;34m(\u001b[0m\u001b[0margs\u001b[0m\u001b[0;34m[\u001b[0m\u001b[0;36m0\u001b[0m\u001b[0;34m]\u001b[0m\u001b[0;34m)\u001b[0m\u001b[0;34m\u001b[0m\u001b[0m\n\u001b[1;32m     60\u001b[0m \u001b[0;34m\u001b[0m\u001b[0m\n",
      "\u001b[0;32m<ipython-input-27-f6f197349291>\u001b[0m in \u001b[0;36mnot_to_be_a_positive_integer\u001b[0;34m(topic)\u001b[0m\n\u001b[1;32m     10\u001b[0m     \u001b[0;31m# ...or, you might prefer to raise AssertionErrors manually.\u001b[0m\u001b[0;34m\u001b[0m\u001b[0;34m\u001b[0m\u001b[0m\n\u001b[1;32m     11\u001b[0m     \u001b[0;32mif\u001b[0m \u001b[0misinstance\u001b[0m\u001b[0;34m(\u001b[0m\u001b[0mtopic\u001b[0m\u001b[0;34m,\u001b[0m \u001b[0mint\u001b[0m\u001b[0;34m)\u001b[0m \u001b[0;32mand\u001b[0m \u001b[0mtopic\u001b[0m \u001b[0;34m<=\u001b[0m \u001b[0;36m0\u001b[0m\u001b[0;34m:\u001b[0m\u001b[0;34m\u001b[0m\u001b[0m\n\u001b[0;32m---> 12\u001b[0;31m         \u001b[0;32mraise\u001b[0m \u001b[0mAssertionError\u001b[0m\u001b[0;34m(\u001b[0m\u001b[0;34m\"Expected {0} not to be a positive integer, but it was.\"\u001b[0m\u001b[0;34m.\u001b[0m\u001b[0mformat\u001b[0m\u001b[0;34m(\u001b[0m\u001b[0mtopic\u001b[0m\u001b[0;34m)\u001b[0m\u001b[0;34m)\u001b[0m\u001b[0;34m\u001b[0m\u001b[0m\n\u001b[0m",
      "\u001b[0;31mAssertionError\u001b[0m: Expected -5 not to be a positive integer, but it was."
     ]
    }
   ],
   "source": [
    "expect(-5).not_to_be_a_positive_integer()"
   ]
  },
  {
   "cell_type": "markdown",
   "metadata": {},
   "source": [
    "# 测试代码结构\n",
    "\n",
    "测试代码主要就是由两种结构组成\n",
    "\n",
    "+ 批:\n",
    "    \n",
    "    由`@Vows.batch`装饰器装饰的`Vows.Context`的子类,意思是一个批次的测试,你可以定义很多的批次,\n",
    "    \n",
    "+ 测试环境:\n",
    "    `Vows.Context`的子类,一个子类代表一个环境,他们是相互独立的,也会异步执行,在最底层的测试环境中必须定义\n",
    "    \n",
    "    + topic方法\n",
    "            \n",
    "        这个方法返回一个要测得对象,如果要测得对象我们本来就希望它是有错误的那可以在topic上用装饰器`@Vows.capture_error`修饰,代表对象错误\n",
    "            \n",
    "    + 需要测试的对应方法\n",
    "    \n",
    "        这些方法需要用断言来断言是否正确\n",
    "        \n",
    "基本结构就是这样:\n",
    "\n",
    "```\n",
    "测试程序   → 批*\n",
    "            批   → 环境*\n",
    "                   环境 → 要测对象? \n",
    "                          要测对象  → 对象功能*\n",
    "```    \n",
    "    \n",
    "加`*`表示可以有多个"
   ]
  },
  {
   "cell_type": "markdown",
   "metadata": {
    "collapsed": true
   },
   "source": [
    "> 例子:\n",
    "\n",
    "测试以下代码`dog.py`:\n",
    "\n",
    "```python\n",
    "# coding:utf-8\n",
    "from __future__ import print_function\n",
    "\n",
    "\n",
    "class Dog(object):\n",
    "\n",
    "    def __str__(self):\n",
    "        return \"<Dog:{self.name}--{self.age}>\".format(self=self)\n",
    "\n",
    "    def __repr__(self):\n",
    "        return self.__str__()\n",
    "\n",
    "    def __init__(self, name, age):\n",
    "        self.name = name\n",
    "        self.age = age\n",
    "\n",
    "    def eat(self, food):\n",
    "        return \"{self.name} is eating {food}\".format(self=self, food=food)\n",
    "\n",
    "```\n",
    "\n",
    "测试代码`test/dog_test.py`:\n",
    "\n",
    "```python\n",
    "# coding:utf-8\n",
    "from __future__ import print_function,absolute_import\n",
    "\n",
    "from pyvows import Vows,expect\n",
    "import sys\n",
    "import os\n",
    "from forgery_py import name as random_name\n",
    "from random import randint\n",
    "\n",
    "root = os.path.dirname(os.path.dirname(__file__))\n",
    "sys.path[0] = root\n",
    "\n",
    "import dog\n",
    "\n",
    "\n",
    "@Vows.batch\n",
    "class DogTest(Vows.Context):\n",
    "    def topic(self):\n",
    "        name = random_name.full_name()\n",
    "        age = randint(18,30)\n",
    "        return dog.Dog(name,age)\n",
    " \n",
    "    def can_eat(self, topic):\n",
    "        food = \"apple\"\n",
    "        expect(topic.eat(food)).to_equal(\"{topic.name} is eating {food}\".format(topic=topic, food=food))\n",
    " \n",
    "    def can_be_print(self, topic):\n",
    "        expect(str(topic)).to_equal(\"<Dog:{topic.name}--{topic.age}>\".format(topic=topic))\n",
    "```"
   ]
  },
  {
   "cell_type": "markdown",
   "metadata": {},
   "source": [
    "# 运行测试:"
   ]
  },
  {
   "cell_type": "markdown",
   "metadata": {},
   "source": [
    "cd到项目根目录,然后执行\n",
    "```\n",
    "!pyvows test/ --pattern='*_test.py'\n",
    "```\n",
    "\n",
    "运行测试的参数可以有:\n",
    "\n",
    "Options:\n",
    "\n",
    "+ -p, --pattern\t识别什么是测试文件\n",
    "+ -c, --cover\t文件覆盖率\n",
    "+ -l, --cover-package\t包覆盖率\n",
    "+ -o, --cover-omit\t检测排除的文件\n",
    "+ -t, --cover-threshold\tCoverage number below which coverage is considered failing. Defaults to 80.0.\n",
    "+ -r, --cover-report\t报告保存位置.\n",
    "+ -x, --xunit-output\tEnable XUnit output.\n",
    "+ -f, --xunit-file\tFilename of the XUnit output. Defaults to pyvows.xml.\n",
    "+ -v\tVerbosity. Can be supplied multiple times to increase verbosity. Defaults to -vv.\n",
    "+ --no-color\tDoes not colorize the output.\n",
    "+ --help\tShow help\n",
    "+ --version\tShow pyvows’ current version"
   ]
  },
  {
   "cell_type": "markdown",
   "metadata": {},
   "source": [
    "注意:路径有中文就没法检测覆盖率了"
   ]
  }
 ],
 "metadata": {
  "kernelspec": {
   "display_name": "Python 3",
   "language": "python",
   "name": "python3"
  },
  "language_info": {
   "codemirror_mode": {
    "name": "ipython",
    "version": 3
   },
   "file_extension": ".py",
   "mimetype": "text/x-python",
   "name": "python",
   "nbconvert_exporter": "python",
   "pygments_lexer": "ipython3",
   "version": "3.5.1"
  }
 },
 "nbformat": 4,
 "nbformat_minor": 0
}
