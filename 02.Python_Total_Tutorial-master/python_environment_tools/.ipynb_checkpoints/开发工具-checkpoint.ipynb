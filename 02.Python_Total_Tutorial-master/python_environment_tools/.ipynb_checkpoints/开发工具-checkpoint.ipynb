{
 "cells": [
  {
   "cell_type": "markdown",
   "metadata": {},
   "source": [
    "# 开发工具\n",
    "\n",
    "工欲善其事必先利其器,看看python开发有什么顺手好用的工具吧\n"
   ]
  },
  {
   "cell_type": "markdown",
   "metadata": {},
   "source": [
    "## 推荐的文本编辑器\n",
    "理论上是个文本编辑器就可以写python程序，一般有自动补全和关键字高亮就可以了。推荐使用atom\n",
    "[https://github.com/atom/atom/releases/](https://github.com/atom/atom/releases/)\n",
    "\n",
    "\n",
    "可以命令行打开，有优秀的包管理系统，一个非常先进好用的基于web技术的文本编辑器。记得安装好后将`tab键`改成4个空格。不建议使用IDE。\n",
    "写程序必须对程序的细节了然于心，无论是代码还是工程文件结构。IDE封装了很多细节，不利于这一点。\n",
    "学习IDE的使用同样是件很费事的工作，比如eclipse。这个反人类的工具不知道谁设计出来的。\n",
    "乱七八糟的设置不知所云，包管理也是一坨，还巨占资源，我写java都不会用它。而且由于IDE的不透明特性，如果碰到配置出错不利于找到错误所在。"
   ]
  },
  {
   "cell_type": "markdown",
   "metadata": {},
   "source": [
    "## 交互shell工具\n",
    "\n",
    "这里得隆重推荐ipython notebook--一个基于浏览器的python交互界面，优雅大方，功能强大。\n",
    "不止可以运行python脚本，还有使用shell命令和自带的魔术命令，自动补全和关键字高亮自不必说，非常强大。\n",
    "\n",
    "这个项目目前已经更名为[Jupyter](http://jupyter.org/),并且提供多种编程语言支持.\n",
    "\n"
   ]
  },
  {
   "cell_type": "markdown",
   "metadata": {},
   "source": [
    "## IDE工具\n",
    "\n",
    "制作大型项目的时候可能需要使用IDE,比较推荐的是[IDEA-ce+python插件](http://www.jetbrains.com/idea/)或者[pycharm-ce](http://www.jetbrains.com/pycharm/?fromMenu).原因1:免费;原因2:代码自动补完,自动侦测引用包内容;原因3:带调试功能\n",
    "\n",
    "\n",
    "### eclipse:\n",
    "\n",
    "熟悉eclipse的同学也可以使用eclipse+PyDev的组合.\n",
    "\n",
    "1. 安装eclipse:\n",
    "\n",
    "去[这里](http://www.eclipse.org/downloads/)下载合适版本的eclipse,推荐下载JEE版本\n",
    "\n",
    "2. 安装PyDev插件:\n",
    "\n",
    "去`Eclipse marcketplace`搜索PyDev一路安装\n",
    "\n",
    "3. 设置环境:\n",
    "\n",
    "在eclipse偏好设置中找到找到PyDev,其中找到 `Interpreter – Python`来配置解释器和包环境\n",
    "\n",
    "\n"
   ]
  }
 ],
 "metadata": {
  "kernelspec": {
   "display_name": "Python 3",
   "language": "python",
   "name": "python3"
  },
  "language_info": {
   "codemirror_mode": {
    "name": "ipython",
    "version": 3
   },
   "file_extension": ".py",
   "mimetype": "text/x-python",
   "name": "python",
   "nbconvert_exporter": "python",
   "pygments_lexer": "ipython3",
   "version": "3.5.1"
  }
 },
 "nbformat": 4,
 "nbformat_minor": 0
}
