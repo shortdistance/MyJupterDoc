{
 "cells": [
  {
   "cell_type": "markdown",
   "metadata": {},
   "source": [
    "# 测试工具\n",
    "\n",
    "python自带的测试框架有两个"
   ]
  },
  {
   "cell_type": "markdown",
   "metadata": {},
   "source": [
    "## 说明文档测试模块(doctest)\n",
    "\n",
    "doctest 并不是测试文档用的测试,而是用文档测试代码,听上去蛮酷的~\n",
    "\n",
    "doctest 模块会搜索那些看起来像交互式会话的 Python 代码片段，然后尝试执行并验证结果\n",
    "\n",
    "doctest 的编写过程就仿佛你真的在一个交互式 shell（比如 idle）中导入了要测试的模块，然后开始一条条地测试模块里的函数一样。实际上有很多人也是这么做的，他们写好一个模块后，就在 shell 里挨个测试函数，最后把 shell 会话复制粘贴成 doctest 用例。 \n"
   ]
  },
  {
   "cell_type": "markdown",
   "metadata": {},
   "source": [
    "> 一个简单的例子:"
   ]
  },
  {
   "cell_type": "code",
   "execution_count": 1,
   "metadata": {
    "collapsed": false
   },
   "outputs": [
    {
     "name": "stdout",
     "output_type": "stream",
     "text": [
      "Writing func_oper.py\n"
     ]
    }
   ],
   "source": [
    "%%writefile func_oper.py\n",
    "#!/usr/bin/env python\n",
    "# -*- coding:utf-8 -*-\n",
    "\n",
    "\"\"\"\\\n",
    "这里可以写用到多个函数的\n",
    "\n",
    ">>> summing(multiply(2,3),multiply(2,3))\n",
    "12\n",
    "\n",
    "\"\"\"\n",
    "from functools import reduce\n",
    "from operator import mul,add\n",
    "\n",
    "def multiply(*args):\n",
    "    \"\"\"\\\n",
    "    这里可以写单元测试\n",
    "    >>> multiply(2,3)\n",
    "    6\n",
    "    >>> multiply('baka~',3)\n",
    "    'baka~baka~baka~'\n",
    "    \"\"\"\n",
    "    return reduce(mul,args)\n",
    "\n",
    "def  summing(*args):\n",
    "    \"\"\"\\\n",
    "    这里可以写单元测试\n",
    "    >>> summing(2,3)\n",
    "    5\n",
    "    >>> summing(2,3,4)\n",
    "    9\n",
    "    \"\"\"\n",
    "    return reduce(add,args)\n",
    "\n",
    "if __name__ == '__main__':\n",
    "    import doctest\n",
    "    doctest.testmod(verbose=True)"
   ]
  },
  {
   "cell_type": "code",
   "execution_count": 2,
   "metadata": {
    "collapsed": false
   },
   "outputs": [
    {
     "name": "stdout",
     "output_type": "stream",
     "text": [
      "Trying:\n",
      "    summing(multiply(2,3),multiply(2,3))\n",
      "Expecting:\n",
      "    12\n",
      "ok\n",
      "Trying:\n",
      "    multiply(2,3)\n",
      "Expecting:\n",
      "    6\n",
      "ok\n",
      "Trying:\n",
      "    multiply('baka~',3)\n",
      "Expecting:\n",
      "    'baka~baka~baka~'\n",
      "ok\n",
      "Trying:\n",
      "    summing(2,3)\n",
      "Expecting:\n",
      "    5\n",
      "ok\n",
      "Trying:\n",
      "    summing(2,3,4)\n",
      "Expecting:\n",
      "    9\n",
      "ok\n",
      "3 items passed all tests:\n",
      "   1 tests in __main__\n",
      "   2 tests in __main__.multiply\n",
      "   2 tests in __main__.summing\n",
      "5 tests in 3 items.\n",
      "5 passed and 0 failed.\n",
      "Test passed.\n"
     ]
    }
   ],
   "source": [
    "%run func_oper.py"
   ]
  },
  {
   "cell_type": "markdown",
   "metadata": {},
   "source": [
    "    if __name__ == '__main__':\n",
    "        import doctest\n",
    "        doctest.testmod(verbose=True)\n",
    "\n",
    "这种方式很适合在写简单模块包的时候用,因为模块都是引用来用的."
   ]
  },
  {
   "cell_type": "code",
   "execution_count": 3,
   "metadata": {
    "collapsed": false
   },
   "outputs": [
    {
     "name": "stdout",
     "output_type": "stream",
     "text": [
      "Trying:\r\n",
      "    summing(multiply(2,3),multiply(2,3))\r\n",
      "Expecting:\r\n",
      "    12\r\n",
      "ok\r\n",
      "Trying:\r\n",
      "    multiply(2,3)\r\n",
      "Expecting:\r\n",
      "    6\r\n",
      "ok\r\n",
      "Trying:\r\n",
      "    multiply('baka~',3)\r\n",
      "Expecting:\r\n",
      "    'baka~baka~baka~'\r\n",
      "ok\r\n",
      "Trying:\r\n",
      "    summing(2,3)\r\n",
      "Expecting:\r\n",
      "    5\r\n",
      "ok\r\n",
      "Trying:\r\n",
      "    summing(2,3,4)\r\n",
      "Expecting:\r\n",
      "    9\r\n",
      "ok\r\n",
      "3 items passed all tests:\r\n",
      "   1 tests in func_oper\r\n",
      "   2 tests in func_oper.multiply\r\n",
      "   2 tests in func_oper.summing\r\n",
      "5 tests in 3 items.\r\n",
      "5 passed and 0 failed.\r\n",
      "Test passed.\r\n"
     ]
    }
   ],
   "source": [
    "!python -m doctest -v func_oper.py"
   ]
  },
  {
   "cell_type": "markdown",
   "metadata": {},
   "source": [
    "这种方式启动测试就不用在写\n",
    "\n",
    "    if __name__ == '__main__':\n",
    "        import doctest\n",
    "        doctest.testmod(verbose=True)\n",
    "        \n",
    "这段了,效果也是一样"
   ]
  },
  {
   "cell_type": "markdown",
   "metadata": {},
   "source": [
    "doctest也可以在文件外写测试,但这么搞就有点本末倒置了,因此这边就不写了"
   ]
  },
  {
   "cell_type": "markdown",
   "metadata": {},
   "source": [
    "## 单元测试框架(unittest)\n",
    "\n",
    "unittest 从名字上看，它是一个单元测试框架；从官方文档的字数上看，它的能力应该比 doctest 强一些。\n",
    "\n",
    "使用 unittest 的标准流程为：\n",
    "\n",
    "+ 从 unittest.TestCase 派生一个子类\n",
    "+ 在类中定义各种以 `\"test_\"` 打头的方法\n",
    "+ 通过 unittest.main() 函数来启动测试\n",
    "\n",
    "unittest 的一个很有用的特性是 TestCase 的 setUp() 和 tearDown() 方法，它们提供了为测试进行准备和扫尾工作的功能，听起来就像上下文管理器一样。这种功能很适合用在测试对象需要复杂执行环境的情况下。 \n",
    "\n"
   ]
  },
  {
   "cell_type": "code",
   "execution_count": 8,
   "metadata": {
    "collapsed": false
   },
   "outputs": [
    {
     "name": "stdout",
     "output_type": "stream",
     "text": [
      "Overwriting func_oper.py\n"
     ]
    }
   ],
   "source": [
    "%%writefile func_oper.py\n",
    "#!/usr/bin/env python\n",
    "# -*- coding:utf-8 -*-\n",
    "\n",
    "\"\"\"\\\n",
    "这里可以写用到多个函数的\n",
    "\n",
    ">>> summing(multiply(2,3),multiply(2,3))\n",
    "12\n",
    "\n",
    "\"\"\"\n",
    "from functools import reduce\n",
    "from operator import mul,add\n",
    "\n",
    "def multiply(*args):\n",
    "    \"\"\"\\\n",
    "    这里可以写单元测试\n",
    "    >>> multiply(2,3)\n",
    "    6\n",
    "    >>> multiply('baka~',3)\n",
    "    'baka~baka~baka~'\n",
    "    \"\"\"\n",
    "    return reduce(mul,args)\n",
    "\n",
    "def summing(*args):\n",
    "    \"\"\"\\\n",
    "    这里可以写单元测试\n",
    "    >>> summing(2,3)\n",
    "    5\n",
    "    >>> summing(2,3,4)\n",
    "    9\n",
    "    \"\"\"\n",
    "    return reduce(add,args)\n",
    "\n",
    "if __name__ == '__main__':\n",
    "    import doctest\n",
    "    doctest.testmod(verbose=True)"
   ]
  },
  {
   "cell_type": "code",
   "execution_count": 5,
   "metadata": {
    "collapsed": false
   },
   "outputs": [
    {
     "name": "stdout",
     "output_type": "stream",
     "text": [
      "Overwriting test_my.py\n"
     ]
    }
   ],
   "source": [
    "%%writefile test_my.py\n",
    "#!/usr/bin/env python\n",
    "# -*- coding:utf-8 -*-\n",
    "import unittest\n",
    "    \n",
    "from func_oper import multiply,summing\n",
    "\n",
    "class Test_mul(unittest.TestCase):\n",
    "    def setUp(self):\n",
    "        pass\n",
    "    def test_number_3_4(self):\n",
    "        self.assertEqual(multiply(3,4),12)\n",
    "    def test_string_a_3(self):\n",
    "        self.assertEqual(multiply('a',3),'aaa')\n",
    "        \n",
    "class Test_sum(unittest.TestCase):\n",
    "    def setUp(self):\n",
    "        pass\n",
    "    def test_number_3_4(self):\n",
    "        self.assertEqual(summing(3,4),7)\n",
    "    def test_number_3_4_5(self):\n",
    "        self.assertEqual(summing(3,4,5),12)\n",
    "class TestCase1(unittest.TestCase):\n",
    "    def setUp(self):\n",
    "        pass\n",
    "    def test_sum_mul_2_3_mul_2_3(self):\n",
    "        self.assertEqual(summing(multiply(2,3),multiply(2,3)),12)\n",
    "\n",
    "if __name__ == '__main__':\n",
    "    unittest.main()\n",
    "\n"
   ]
  },
  {
   "cell_type": "code",
   "execution_count": 6,
   "metadata": {
    "collapsed": false
   },
   "outputs": [
    {
     "name": "stderr",
     "output_type": "stream",
     "text": [
      "test_sum_mul_2_3_mul_2_3 (__main__.TestCase1) ... ok\n",
      "test_number_3_4 (__main__.Test_mul) ... ok\n",
      "test_string_a_3 (__main__.Test_mul) ... ok\n",
      "test_number_3_4 (__main__.Test_sum) ... ok\n",
      "test_number_3_4_5 (__main__.Test_sum) ... ok\n",
      "\n",
      "----------------------------------------------------------------------\n",
      "Ran 5 tests in 0.008s\n",
      "\n",
      "OK\n"
     ]
    }
   ],
   "source": [
    "%run test_my.py -v"
   ]
  },
  {
   "cell_type": "code",
   "execution_count": 7,
   "metadata": {
    "collapsed": false
   },
   "outputs": [
    {
     "name": "stdout",
     "output_type": "stream",
     "text": [
      "test_sum_mul_2_3_mul_2_3 (test_my.TestCase1) ... ok\n",
      "test_number_3_4 (test_my.Test_mul) ... ok\n",
      "test_string_a_3 (test_my.Test_mul) ... ok\n",
      "test_number_3_4 (test_my.Test_sum) ... ok\n",
      "test_number_3_4_5 (test_my.Test_sum) ... ok\n",
      "\n",
      "----------------------------------------------------------------------\n",
      "Ran 5 tests in 0.000s\n",
      "\n",
      "OK\n"
     ]
    }
   ],
   "source": [
    "!python -m unittest discover -v"
   ]
  },
  {
   "cell_type": "markdown",
   "metadata": {},
   "source": [
    "## 单元测试框架(nose)\n",
    "\n",
    "Nose是一个流行的单元测试第三方框架,虽然是第三方框架,但因为太过常用放在基础应用部分介绍,相比较unittest但使用起来比较麻烦,基本没啥人用\n",
    "\n",
    "\n",
    "新建一个test.py的文件:"
   ]
  },
  {
   "cell_type": "code",
   "execution_count": null,
   "metadata": {
    "collapsed": true
   },
   "outputs": [],
   "source": [
    "%%writefile test.py\n",
    "\n",
    "from func_oper import multiply,summing\n",
    "\n",
    "def test_multiply():\n",
    "    assert multiply(2,3)==6\n",
    "def test_multiply_n():\n",
    "    assert multiply('baka~',3)=='baka~baka~baka~'\n",
    "    \n",
    "def test_summing():\n",
    "    assert summing(2,3) == 5\n"
   ]
  }
 ],
 "metadata": {
  "kernelspec": {
   "display_name": "Python 3",
   "language": "python",
   "name": "python3"
  },
  "language_info": {
   "codemirror_mode": {
    "name": "ipython",
    "version": 3
   },
   "file_extension": ".py",
   "mimetype": "text/x-python",
   "name": "python",
   "nbconvert_exporter": "python",
   "pygments_lexer": "ipython3",
   "version": "3.5.1"
  }
 },
 "nbformat": 4,
 "nbformat_minor": 0
}
