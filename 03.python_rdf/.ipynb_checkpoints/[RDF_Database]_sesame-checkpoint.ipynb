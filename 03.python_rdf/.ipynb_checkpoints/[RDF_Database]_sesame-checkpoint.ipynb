{
 "cells": [
  {
   "cell_type": "markdown",
   "metadata": {
    "deletable": true,
    "editable": true
   },
   "source": [
    "> # Sesame HTTP服务器安装\n",
    ">> ## 1. 要求的软件\n",
    "    \n",
    "    >> Java 6或者更新的版本，eg:1.7\n",
    "    >> Tomcat 1.6或者更新的版本\n",
    "    \n",
    ">> ## 2. 环境变量的设置"
   ]
  },
  {
   "cell_type": "raw",
   "metadata": {
    "collapsed": true,
    "deletable": true,
    "editable": true
   },
   "source": [
    "    export JAVA_HOME=/usr/local/jdk1.7\n",
    "    CATALINA_HOME=/root/software/apache-tomcat-6.0.35\n",
    "    PATH=$JAVA_HOME/bin:$JAVA_HOME/jre/bin:$CATALINA_HOME/bin:$PATH:$HOME/bin\n",
    "    export PATH\n",
    "    \n",
    "    CLASSPATH=\"\"    \n",
    "    export CLASSPATH=$CLASSPATH:$JAVA_HOME/lib/dt.jar:\n",
    "           $JAVA_HOME/lib/tools.jar:\n",
    "           $CATALINA_HOME/lib:/root/software/openrdf-sesame-4.1.2/lib"
   ]
  },
  {
   "cell_type": "markdown",
   "metadata": {
    "deletable": true,
    "editable": true
   },
   "source": [
    ">> ## 3. sesame server 下载\n",
    "\n",
    "    >> [下载地址](https://sourceforge.net/projects/sesame/files/Sesame%202/2.9.0)\n",
    "    \n",
    "    >> 1. openrdf-sesame-(version)-sdk.tar.gz：这是完整的Sesame SDK的二进制tar压缩版本。它包括所有的封装的Sesame库，如jar文件和用于简单的部署Sesame web应用程序的Web归档（.war）文件集合。它还包括文档（比如用户手册和API文档）和Sesame命令行的启动脚本。\n",
    "    \n",
    "    >> 2. openrdf-sesame-(version)-sdk.zip：这是Sesame SDK的zip压缩版本，它有着和上面已经提到的tar.gz一样的内容。\n",
    "\n",
    "    >> 3. openrdf-sesame-(version)-onejar.jar：这是一个Java存档(.jar)文件，包括所有的相关的Sesame库。这个jar文件的主要目的是，当要在你自己的应用程序中使用它作为一个嵌入式的组件/库时，能够很容易的包括所有的Sesame组件。你仅仅需要做的是将这个onejar文件加入到系统变量CLASSPATH路径中，然后你就可以开始进行相应的编程。"
   ]
  },
  {
   "cell_type": "markdown",
   "metadata": {
    "deletable": true,
    "editable": true
   },
   "source": [
    ">> ## 4. 安装\n",
    "\n",
    "    >> 解压缩后，可以在war目录下面找到sesame server和openrdf workbench文件\n",
    "    \n",
    "    >> 直接将这两个文件放到tomcat的安装目录下面的webapps目录下面\n",
    "    "
   ]
  },
  {
   "cell_type": "markdown",
   "metadata": {
    "collapsed": true,
    "deletable": true,
    "editable": true
   },
   "source": [
    ">> ## 5. sesame客户端pysesame-0_24\n"
   ]
  },
  {
   "cell_type": "code",
   "execution_count": 12,
   "metadata": {
    "collapsed": false
   },
   "outputs": [
    {
     "ename": "SesameServerError",
     "evalue": "HTTP Error 404: Not Found",
     "output_type": "error",
     "traceback": [
      "\u001b[0;31m---------------------------------------------------------------------------\u001b[0m",
      "\u001b[0;31mSesameServerError\u001b[0m                         Traceback (most recent call last)",
      "\u001b[0;32m<ipython-input-12-34e1a0d7b0d9>\u001b[0m in \u001b[0;36m<module>\u001b[0;34m()\u001b[0m\n\u001b[1;32m      1\u001b[0m \u001b[0mconnection\u001b[0m \u001b[1;33m=\u001b[0m \u001b[0mSesameConnection\u001b[0m\u001b[1;33m(\u001b[0m\u001b[1;34m'http://localhost:8080'\u001b[0m\u001b[1;33m,\u001b[0m \u001b[1;34m'/openrdf-sesame/'\u001b[0m\u001b[1;33m)\u001b[0m\u001b[1;33m\u001b[0m\u001b[0m\n\u001b[0;32m----> 2\u001b[0;31m \u001b[0mconnection\u001b[0m\u001b[1;33m.\u001b[0m\u001b[0mlogin\u001b[0m\u001b[1;33m(\u001b[0m\u001b[1;34m'admin'\u001b[0m\u001b[1;33m,\u001b[0m \u001b[1;34m'admin'\u001b[0m\u001b[1;33m)\u001b[0m\u001b[1;33m\u001b[0m\u001b[0m\n\u001b[0m\u001b[1;32m      3\u001b[0m \u001b[0mconnection\u001b[0m\u001b[1;33m.\u001b[0m\u001b[0mrepositories\u001b[0m\u001b[1;33m(\u001b[0m\u001b[1;33m)\u001b[0m\u001b[1;33m\u001b[0m\u001b[0m\n\u001b[1;32m      4\u001b[0m \u001b[1;31m#connection.uploadURL('pySesame', 'http://burningbird.net/articles/monsters1.rdf')\u001b[0m\u001b[1;33m\u001b[0m\u001b[1;33m\u001b[0m\u001b[0m\n",
      "\u001b[0;32m<ipython-input-11-dd50e9113f40>\u001b[0m in \u001b[0;36mlogin\u001b[0;34m(self, user, password)\u001b[0m\n\u001b[1;32m    131\u001b[0m                 \u001b[0mbase\u001b[0m \u001b[1;33m=\u001b[0m \u001b[0mself\u001b[0m\u001b[1;33m.\u001b[0m\u001b[0mpath\u001b[0m \u001b[1;33m+\u001b[0m \u001b[0mquery_paths\u001b[0m\u001b[1;33m[\u001b[0m\u001b[1;34m'login'\u001b[0m\u001b[1;33m]\u001b[0m\u001b[1;33m\u001b[0m\u001b[0m\n\u001b[1;32m    132\u001b[0m                 \u001b[0mrequest\u001b[0m \u001b[1;33m=\u001b[0m \u001b[0mRequest\u001b[0m\u001b[1;33m(\u001b[0m\u001b[0mself\u001b[0m\u001b[1;33m.\u001b[0m\u001b[0murl\u001b[0m\u001b[1;33m+\u001b[0m\u001b[0mbase\u001b[0m\u001b[1;33m)\u001b[0m\u001b[1;33m\u001b[0m\u001b[0m\n\u001b[0;32m--> 133\u001b[0;31m                 \u001b[1;32mreturn\u001b[0m \u001b[0mself\u001b[0m\u001b[1;33m.\u001b[0m\u001b[0mdoRequest\u001b[0m\u001b[1;33m(\u001b[0m\u001b[0mrequest\u001b[0m\u001b[1;33m,\u001b[0m \u001b[1;34m\"login\"\u001b[0m\u001b[1;33m,\u001b[0m\u001b[0mquery\u001b[0m\u001b[1;33m)\u001b[0m\u001b[1;33m\u001b[0m\u001b[0m\n\u001b[0m\u001b[1;32m    134\u001b[0m \u001b[1;33m\u001b[0m\u001b[0m\n\u001b[1;32m    135\u001b[0m         \u001b[1;32mdef\u001b[0m \u001b[0mlogout\u001b[0m\u001b[1;33m(\u001b[0m\u001b[0mself\u001b[0m\u001b[1;33m)\u001b[0m\u001b[1;33m:\u001b[0m\u001b[1;33m\u001b[0m\u001b[0m\n",
      "\u001b[0;32m<ipython-input-11-dd50e9113f40>\u001b[0m in \u001b[0;36mdoRequest\u001b[0;34m(self, request, handler, post)\u001b[0m\n\u001b[1;32m    100\u001b[0m                 \u001b[1;32mexcept\u001b[0m \u001b[0mException\u001b[0m\u001b[1;33m,\u001b[0m \u001b[0merror\u001b[0m\u001b[1;33m:\u001b[0m\u001b[1;33m\u001b[0m\u001b[0m\n\u001b[1;32m    101\u001b[0m                         \u001b[0mself\u001b[0m\u001b[1;33m.\u001b[0m\u001b[0mlogger\u001b[0m\u001b[1;33m.\u001b[0m\u001b[0mexception\u001b[0m\u001b[1;33m(\u001b[0m\u001b[0merror\u001b[0m\u001b[1;33m)\u001b[0m\u001b[1;33m\u001b[0m\u001b[0m\n\u001b[0;32m--> 102\u001b[0;31m                         \u001b[1;32mraise\u001b[0m \u001b[0mSesameServerError\u001b[0m\u001b[1;33m(\u001b[0m\u001b[0merror\u001b[0m\u001b[1;33m)\u001b[0m\u001b[1;33m\u001b[0m\u001b[0m\n\u001b[0m\u001b[1;32m    103\u001b[0m \u001b[1;33m\u001b[0m\u001b[0m\n\u001b[1;32m    104\u001b[0m                 \u001b[1;32mif\u001b[0m \u001b[0mresponse\u001b[0m\u001b[1;33m:\u001b[0m\u001b[1;33m\u001b[0m\u001b[0m\n",
      "\u001b[0;31mSesameServerError\u001b[0m: HTTP Error 404: Not Found"
     ]
    }
   ],
   "source": [
    "import urllib\n",
    "import httplib2\n",
    "\n",
    "repository = 'reference'\n",
    "graph      = 'http://source.data.gov.uk/data/reference/organogram-co/2010-10-31'\n",
    "filename   = '/Users/Jeni/Downloads/index.rdf'\n",
    "\n",
    "print \"Loading %s into %s in Sesame\" % (filename, graph)\n",
    "params = { 'context': '<' + graph + '>' }\n",
    "endpoint = \"http://localhost:8080/openrdf-sesame/repositories/%s/statements?%s\" % (repository, urllib.urlencode(params))\n",
    "data = open(filename, 'r').read()\n",
    "(response, content) = httplib2.Http().request(endpoint, 'PUT', body=data, headers={ 'content-type': 'application/rdf+xml' })\n",
    "print \"Response %s\" % response.status\n",
    "print content"
   ]
  },
  {
   "cell_type": "code",
   "execution_count": null,
   "metadata": {
    "collapsed": true
   },
   "outputs": [],
   "source": []
  }
 ],
 "metadata": {
  "kernelspec": {
   "display_name": "Python 2",
   "language": "python",
   "name": "python2"
  },
  "language_info": {
   "codemirror_mode": {
    "name": "ipython",
    "version": 2
   },
   "file_extension": ".py",
   "mimetype": "text/x-python",
   "name": "python",
   "nbconvert_exporter": "python",
   "pygments_lexer": "ipython2",
   "version": "2.7.10"
  }
 },
 "nbformat": 4,
 "nbformat_minor": 2
}
