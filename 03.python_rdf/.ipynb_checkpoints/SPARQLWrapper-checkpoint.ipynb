{
 "cells": [
  {
   "cell_type": "code",
   "execution_count": 5,
   "metadata": {
    "collapsed": false,
    "deletable": true,
    "editable": true
   },
   "outputs": [
    {
     "data": {
      "text/plain": [
       "<SPARQLWrapper.Wrapper.QueryResult at 0x404fb10>"
      ]
     },
     "execution_count": 5,
     "metadata": {},
     "output_type": "execute_result"
    }
   ],
   "source": [
    "from SPARQLWrapper import SPARQLWrapper, JSON\n",
    "sparql = SPARQLWrapper(\"http://localhost:8080/openrdf-sesame/repositories/1/statements\")\n",
    "\n",
    "location = \"Southampton, United Kingdom\" \n",
    "lng = '21.01'\n",
    "lat = '52.020'\n",
    "userid = '123123123123123123123123'\n",
    "username = 'zhanglei'\n",
    "password = '123456'\n",
    "email = '183800313@qq.com'\n",
    "oauthtoken = 'Flzx3qcysyhl9t'\n",
    "authtype = 'http://example/Normal' \n",
    "\n",
    "locSparqlString = \"\"\"<http://example/hasLocation> '\"\"\"+location+\"\"\"';\n",
    "\t\t<http://example/hasLng>  '\"\"\"+lng+\"\"\"';\n",
    "\t\t<http://example/hasLat>  '\"\"\"+lat+\"\"\"';\"\"\"\n",
    "q = \"\"\"\n",
    "\tINSERT DATA\n",
    "\t{ <http://example/\"\"\"+ userid +\"\"\">     a             <http://example/User> ;\n",
    "\t\t\t\t\t  <http://example/hasPassword> '\"\"\" + password+\"\"\"';\n",
    "\t\t\t\t\t  <http://example/hasName> '\"\"\" + username+\"\"\"';\n",
    "\t\t\t\t\t  <http://example/hasEmail>\t'\"\"\"+email+\"\"\"';\n",
    "\t\t\t\t\t  \"\"\" + locSparqlString + \"\"\"\n",
    "\t\t\t\t\t  <http://example/hasOauthtoken> '\"\"\"+oauthtoken+\"\"\"';\n",
    "\t\t\t\t\t  <http://example/hasAuthType> <http://example/\"\"\"+ authtype +\"\"\">\n",
    "\t }\"\"\"\n",
    "\n",
    "\n",
    "sparql.setQuery(q)\n",
    "sparql.method = 'POST'\n",
    "sparql.query()"
   ]
  },
  {
   "cell_type": "code",
   "execution_count": 8,
   "metadata": {
    "collapsed": false,
    "deletable": true,
    "editable": true
   },
   "outputs": [
    {
     "name": "stdout",
     "output_type": "stream",
     "text": [
      "True\n"
     ]
    }
   ],
   "source": [
    "from SPARQLWrapper import SPARQLWrapper, JSON\n",
    "def checkEmail(email) :\n",
    "\n",
    "\tsparql = SPARQLWrapper(\"http://localhost:8080/openrdf-sesame/repositories/1\")\n",
    "\tq = \"\"\"\n",
    "\tASK\n",
    "\t{\n",
    "\t?user <http://example/hasEmail> '\"\"\"+email+\"\"\"'.\n",
    "\t}\"\"\"\n",
    "\tsparql.setReturnFormat(JSON)\n",
    "\tsparql.setQuery(q)\n",
    "\tsparql.method = 'GET'\n",
    "\tresults = sparql.query().convert()\n",
    "\n",
    "\treturn results[\"boolean\"]\n",
    "\n",
    "\n",
    "email = '183800313@qq.com'\n",
    "ret = checkEmail(email)\n",
    "print ret\n"
   ]
  },
  {
   "cell_type": "code",
   "execution_count": 10,
   "metadata": {
    "collapsed": false,
    "deletable": true,
    "editable": true
   },
   "outputs": [],
   "source": [
    "from SPARQLWrapper import SPARQLWrapper, JSON\n",
    "\n",
    "def update_location(location,lat, lng ,email):\n",
    "\tsparql = SPARQLWrapper(\"http://localhost:8080/openrdf-sesame/repositories/1/statements\")\n",
    "\tq = \"\"\"\n",
    "\tDELETE {?userid <http://example/hasLocation> ?location.\n",
    "\t\t\t\t\t?userid <http://example/hasLat> ?lat.\n",
    "\t\t\t\t\t?userid <http://example/hasLng> ?lng. }\n",
    "\tINSERT {?userid <http://example/hasLocation> '\"\"\" + location+\"\"\"'.\n",
    "\t\t\t?userid <http://example/hasLat> '\"\"\" + lat+\"\"\"'.\n",
    "\t\t\t?userid <http://example/hasLng> '\"\"\" + lng+\"\"\"'. } \n",
    "\tWHERE{\n",
    "\t?userid <http://example/hasEmail>\t'\"\"\"+email+\"\"\"' .\n",
    "\t\t\tOPTIONAL{\n",
    "\t\t\t\t?userid <http://example/hasLocation> ?location.\n",
    "\t\t\t\t?userid <http://example/hasLat> ?lat.\n",
    "\t\t\t\t?userid <http://example/hasLng> ?lng.\n",
    "\t\t\t}\n",
    "\t        \n",
    "\t}\"\"\"\n",
    "\t\n",
    "\tsparql.setQuery(q)\n",
    "\tsparql.method = 'POST'\n",
    "\tsparql.query()\n",
    "\n",
    "    \n",
    "    \n",
    "location = 'ss'\n",
    "lat ='1'\n",
    "lng = '1'\n",
    "email = '183800313@qq.com'\n",
    "update_location(location,lat,lng,email)\n",
    "\n"
   ]
  },
  {
   "cell_type": "code",
   "execution_count": 15,
   "metadata": {
    "collapsed": false,
    "deletable": true,
    "editable": true
   },
   "outputs": [
    {
     "ename": "EndPointInternalError",
     "evalue": "EndPointInternalError: endpoint returned code 500 and response. \n\nResponse:\norg.openrdf.query.UpdateExecutionException: org.openrdf.sail.SailException: org.openrdf.rio.RDFParseException: Not a valid (absolute) IRI: /zhangleid [line 7]",
     "output_type": "error",
     "traceback": [
      "\u001b[0;31m---------------------------------------------------------------------------\u001b[0m",
      "\u001b[0;31mEndPointInternalError\u001b[0m                     Traceback (most recent call last)",
      "\u001b[0;32m<ipython-input-15-9797f87cf0ce>\u001b[0m in \u001b[0;36m<module>\u001b[0;34m()\u001b[0m\n\u001b[1;32m     58\u001b[0m \u001b[0mmbid\u001b[0m \u001b[1;33m=\u001b[0m \u001b[1;34m'zhangleid'\u001b[0m\u001b[1;33m\u001b[0m\u001b[0m\n\u001b[1;32m     59\u001b[0m \u001b[0muserid\u001b[0m \u001b[1;33m=\u001b[0m \u001b[1;34m'zhangleid'\u001b[0m\u001b[1;33m\u001b[0m\u001b[0m\n\u001b[0;32m---> 60\u001b[0;31m \u001b[0madd_event\u001b[0m\u001b[1;33m(\u001b[0m\u001b[0mcity\u001b[0m\u001b[1;33m,\u001b[0m\u001b[0mlatitude\u001b[0m\u001b[1;33m,\u001b[0m\u001b[0mlongitude\u001b[0m\u001b[1;33m,\u001b[0m\u001b[0mstart_time\u001b[0m\u001b[1;33m,\u001b[0m\u001b[0mdescription\u001b[0m\u001b[1;33m,\u001b[0m\u001b[0msource\u001b[0m\u001b[1;33m,\u001b[0m\u001b[0martist\u001b[0m\u001b[1;33m,\u001b[0m\u001b[0mmbid\u001b[0m\u001b[1;33m,\u001b[0m\u001b[0muserid\u001b[0m\u001b[1;33m)\u001b[0m\u001b[1;33m\u001b[0m\u001b[0m\n\u001b[0m",
      "\u001b[0;32m<ipython-input-15-9797f87cf0ce>\u001b[0m in \u001b[0;36madd_event\u001b[0;34m(city, latitude, longitude, start_time, description, source, artist, mbid, userid)\u001b[0m\n\u001b[1;32m     45\u001b[0m         \u001b[0msparql\u001b[0m\u001b[1;33m.\u001b[0m\u001b[0msetQuery\u001b[0m\u001b[1;33m(\u001b[0m\u001b[0mq\u001b[0m\u001b[1;33m)\u001b[0m\u001b[1;33m\u001b[0m\u001b[0m\n\u001b[1;32m     46\u001b[0m         \u001b[0msparql\u001b[0m\u001b[1;33m.\u001b[0m\u001b[0mmethod\u001b[0m \u001b[1;33m=\u001b[0m \u001b[1;34m'POST'\u001b[0m\u001b[1;33m\u001b[0m\u001b[0m\n\u001b[0;32m---> 47\u001b[0;31m         \u001b[0msparql\u001b[0m\u001b[1;33m.\u001b[0m\u001b[0mquery\u001b[0m\u001b[1;33m(\u001b[0m\u001b[1;33m)\u001b[0m\u001b[1;33m\u001b[0m\u001b[0m\n\u001b[0m\u001b[1;32m     48\u001b[0m         \u001b[1;32mreturn\u001b[0m \u001b[0mTrue\u001b[0m\u001b[1;33m\u001b[0m\u001b[0m\n\u001b[1;32m     49\u001b[0m \u001b[1;33m\u001b[0m\u001b[0m\n",
      "\u001b[0;32mc:\\python27\\lib\\site-packages\\SPARQLWrapper\\Wrapper.pyc\u001b[0m in \u001b[0;36mquery\u001b[0;34m(self)\u001b[0m\n\u001b[1;32m    565\u001b[0m             \u001b[1;33m@\u001b[0m\u001b[0mrtype\u001b[0m\u001b[1;33m:\u001b[0m \u001b[0mL\u001b[0m\u001b[1;33m{\u001b[0m\u001b[0mQueryResult\u001b[0m\u001b[1;33m}\u001b[0m \u001b[0minstance\u001b[0m\u001b[1;33m\u001b[0m\u001b[0m\n\u001b[1;32m    566\u001b[0m         \"\"\"\n\u001b[0;32m--> 567\u001b[0;31m         \u001b[1;32mreturn\u001b[0m \u001b[0mQueryResult\u001b[0m\u001b[1;33m(\u001b[0m\u001b[0mself\u001b[0m\u001b[1;33m.\u001b[0m\u001b[0m_query\u001b[0m\u001b[1;33m(\u001b[0m\u001b[1;33m)\u001b[0m\u001b[1;33m)\u001b[0m\u001b[1;33m\u001b[0m\u001b[0m\n\u001b[0m\u001b[1;32m    568\u001b[0m \u001b[1;33m\u001b[0m\u001b[0m\n\u001b[1;32m    569\u001b[0m     \u001b[1;32mdef\u001b[0m \u001b[0mqueryAndConvert\u001b[0m\u001b[1;33m(\u001b[0m\u001b[0mself\u001b[0m\u001b[1;33m)\u001b[0m\u001b[1;33m:\u001b[0m\u001b[1;33m\u001b[0m\u001b[0m\n",
      "\u001b[0;32mc:\\python27\\lib\\site-packages\\SPARQLWrapper\\Wrapper.pyc\u001b[0m in \u001b[0;36m_query\u001b[0;34m(self)\u001b[0m\n\u001b[1;32m    543\u001b[0m                 \u001b[1;32mraise\u001b[0m \u001b[0mEndPointNotFound\u001b[0m\u001b[1;33m(\u001b[0m\u001b[0me\u001b[0m\u001b[1;33m.\u001b[0m\u001b[0mread\u001b[0m\u001b[1;33m(\u001b[0m\u001b[1;33m)\u001b[0m\u001b[1;33m)\u001b[0m\u001b[1;33m\u001b[0m\u001b[0m\n\u001b[1;32m    544\u001b[0m             \u001b[1;32melif\u001b[0m \u001b[0me\u001b[0m\u001b[1;33m.\u001b[0m\u001b[0mcode\u001b[0m \u001b[1;33m==\u001b[0m \u001b[1;36m500\u001b[0m\u001b[1;33m:\u001b[0m\u001b[1;33m\u001b[0m\u001b[0m\n\u001b[0;32m--> 545\u001b[0;31m                 \u001b[1;32mraise\u001b[0m \u001b[0mEndPointInternalError\u001b[0m\u001b[1;33m(\u001b[0m\u001b[0me\u001b[0m\u001b[1;33m.\u001b[0m\u001b[0mread\u001b[0m\u001b[1;33m(\u001b[0m\u001b[1;33m)\u001b[0m\u001b[1;33m)\u001b[0m\u001b[1;33m\u001b[0m\u001b[0m\n\u001b[0m\u001b[1;32m    546\u001b[0m             \u001b[1;32melse\u001b[0m\u001b[1;33m:\u001b[0m\u001b[1;33m\u001b[0m\u001b[0m\n\u001b[1;32m    547\u001b[0m                 \u001b[1;32mraise\u001b[0m \u001b[0me\u001b[0m\u001b[1;33m\u001b[0m\u001b[0m\n",
      "\u001b[0;31mEndPointInternalError\u001b[0m: EndPointInternalError: endpoint returned code 500 and response. \n\nResponse:\norg.openrdf.query.UpdateExecutionException: org.openrdf.sail.SailException: org.openrdf.rio.RDFParseException: Not a valid (absolute) IRI: /zhangleid [line 7]"
     ]
    }
   ],
   "source": [
    "from SPARQLWrapper import SPARQLWrapper, JSON\n",
    "import uuid\n",
    "\n",
    "def checkEvent_by_city_name(artist,city):\n",
    "\n",
    "\tsparql = SPARQLWrapper(\"http://localhost:8080/openrdf-sesame/repositories/1\")\n",
    "\tq = \"\"\"\n",
    "\tASK\n",
    "\t{\n",
    "\t?eventid a <http://example/Event>;\n",
    "\t\t\t   <http://example/hasArtistName> \t'\"\"\" + str(artist)+\"\"\"';\n",
    "\t\t\t   <http://example/hasCity> \t'\"\"\" + str(city)+\"\"\"'.\n",
    "\n",
    "\t}\"\"\"\n",
    "\tsparql.setReturnFormat(JSON)\n",
    "\tsparql.setQuery(q)\n",
    "\tsparql.method = 'GET'\n",
    "\tresults = sparql.query().convert()\n",
    "\n",
    "\treturn results[\"boolean\"]\n",
    "\n",
    "def add_event(city,latitude,longitude,start_time,description,source,artist,mbid,userid):\n",
    "\t\n",
    "\tif (checkEvent_by_city_name(artist,city)):\n",
    "\t\treturn False\n",
    "\n",
    "\teventid = str(uuid.uuid1())\n",
    "\t\n",
    "\tsparql = SPARQLWrapper(\"http://localhost:8080/openrdf-sesame/repositories/1/statements\")\n",
    "\tq = \"\"\"\n",
    "\tINSERT DATA\n",
    "\t{\t\t<http://example/\"\"\"+ eventid +\"\"\">     a   <http://example/Event>;\n",
    "\t\t\t\t\t\t\t\t\t\t\t\t\t   <http://example/hasLat> '\"\"\" + str(latitude)+\"\"\"';\n",
    "\t\t\t\t\t\t\t\t\t\t      \t\t   <http://example/hasLng> '\"\"\" + str(longitude)+\"\"\"';\n",
    "\t\t\t\t\t\t\t\t\t\t\t\t\t   <http://example/hasCity> '\"\"\" + str(city)+\"\"\"';\n",
    "\t\t\t \t\t\t\t\t\t\t\t\t\t   <http://example/hasStartTime> '\"\"\" + str(start_time)+\"\"\"';\n",
    "\t\t\t \t\t\t\t\t\t\t\t\t\t   <http://example/hasDescription> '\"\"\" +description+\"\"\"';\n",
    "\t\t\t \t\t\t\t\t\t\t\t\t\t   <http://example/hasSource> '\"\"\" + str(source)+\"\"\"';\n",
    "\t\t\t \t\t\t\t\t\t\t\t\t\t   <http://example/hasArtistName> '\"\"\" + str(artist)+\"\"\"';\n",
    "\t\t\t \t\t\t\t\t\t\t\t\t\t   <http://example/hasCreatedByUserid> <\"\"\" + str(userid)+\"\"\">;\n",
    "\t\t\t \t\t\t\t\t\t\t\t\t\t   <http://example/hasArtistId>  <http://musicbrainz.org/artist/\"\"\"+ mbid+\"\"\">.\n",
    "        \n",
    "\t}\"\"\"\n",
    "\t\n",
    "\tsparql.setQuery(q)\n",
    "\tsparql.method = 'POST'\n",
    "\tsparql.query()\n",
    "\treturn True\n",
    "\n",
    "\n",
    "city = 'Southampton'\n",
    "artist = 'monster'\n",
    "latitude = 1\n",
    "longitude = 1\n",
    "start_time = '2017-04-07 21:00:00'\n",
    "description = 'hello world'\n",
    "source = 'eventful'\n",
    "mbid = 'zhangleid'\n",
    "userid = 'zhangleid'\n",
    "\n",
    "add_event(city,latitude,longitude,start_time,description,source,artist,mbid,userid)"
   ]
  },
  {
   "cell_type": "code",
   "execution_count": null,
   "metadata": {
    "collapsed": true
   },
   "outputs": [],
   "source": []
  }
 ],
 "metadata": {
  "kernelspec": {
   "display_name": "Python 2",
   "language": "python",
   "name": "python2"
  },
  "language_info": {
   "codemirror_mode": {
    "name": "ipython",
    "version": 2
   },
   "file_extension": ".py",
   "mimetype": "text/x-python",
   "name": "python",
   "nbconvert_exporter": "python",
   "pygments_lexer": "ipython2",
   "version": "2.7.10"
  }
 },
 "nbformat": 4,
 "nbformat_minor": 2
}
