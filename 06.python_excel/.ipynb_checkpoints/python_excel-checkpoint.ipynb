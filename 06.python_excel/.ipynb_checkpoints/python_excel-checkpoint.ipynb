{
 "cells": [
  {
   "cell_type": "markdown",
   "metadata": {},
   "source": [
    "# write\n"
   ]
  },
  {
   "cell_type": "code",
   "execution_count": 2,
   "metadata": {
    "collapsed": true
   },
   "outputs": [],
   "source": [
    "file_name = u'C:\\\\Users\\\\Raymond\\\\Desktop\\\\1.xls'\n",
    "import os\n",
    "\n",
    "if os.path.isfile(file_name):\n",
    "    os.remove(file_name)\n",
    "    \n",
    "import xlwt\n",
    "wbk = xlwt.Workbook()\n",
    "sheet = wbk.add_sheet('sheet 1')\n",
    "sheet.write(0, 1, 'test text')\n",
    "wbk.save(file_name)"
   ]
  },
  {
   "cell_type": "code",
   "execution_count": null,
   "metadata": {
    "collapsed": true
   },
   "outputs": [],
   "source": []
  }
 ],
 "metadata": {
  "kernelspec": {
   "display_name": "Python 2",
   "language": "python",
   "name": "python2"
  },
  "language_info": {
   "codemirror_mode": {
    "name": "ipython",
    "version": 2
   },
   "file_extension": ".py",
   "mimetype": "text/x-python",
   "name": "python",
   "nbconvert_exporter": "python",
   "pygments_lexer": "ipython2",
   "version": "2.7.10"
  }
 },
 "nbformat": 4,
 "nbformat_minor": 2
}
